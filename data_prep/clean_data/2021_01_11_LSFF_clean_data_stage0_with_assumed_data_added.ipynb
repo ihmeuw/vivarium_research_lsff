{
 "cells": [
  {
   "cell_type": "code",
   "execution_count": 11,
   "metadata": {},
   "outputs": [],
   "source": [
    "import pandas as pd, numpy as np"
   ]
  },
  {
   "cell_type": "markdown",
   "metadata": {},
   "source": [
    "# LSFF: basic data cleaning"
   ]
  },
  {
   "cell_type": "markdown",
   "metadata": {},
   "source": [
    "IN: extraction sheet + vehicle-nutrient, country-vehicle dicts"
   ]
  },
  {
   "cell_type": "markdown",
   "metadata": {},
   "source": [
    "OUT: cleaned extraction sheet. values renamed, dropped all illegal location-vehicle-val-nutrient combos"
   ]
  },
  {
   "cell_type": "code",
   "execution_count": 12,
   "metadata": {},
   "outputs": [],
   "source": [
    "## load targets\n",
    "import pickle\n",
    "data_prep_dir = '/ihme/homes/beatrixh/vivarium_research_lsff/data_prep/inputs/'\n",
    "\n",
    "with open(data_prep_dir + 'lsff_vehicle_nutrient_pairs.pickle', 'rb') as handle:\n",
    "    vehicle_nutrient_map = pickle.load(handle)\n",
    "    \n",
    "with open(data_prep_dir + 'lsff_country_vehicle_pairs.pickle', 'rb') as handle:\n",
    "    country_vehicle_map = pickle.load(handle)"
   ]
  },
  {
   "cell_type": "code",
   "execution_count": 13,
   "metadata": {},
   "outputs": [],
   "source": [
    "countries = [i for i in country_vehicle_map.keys() if type(i)==str]"
   ]
  },
  {
   "cell_type": "code",
   "execution_count": 14,
   "metadata": {},
   "outputs": [],
   "source": [
    "path = data_prep_dir + 'extraction_sheet_lsff_03_08_2021.csv'\n",
    "df = pd.read_csv(path, encoding = 'utf-8')"
   ]
  },
  {
   "cell_type": "code",
   "execution_count": 17,
   "metadata": {},
   "outputs": [],
   "source": [
    "path_assumed_data = data_prep_dir + 'extraction_sheet_lsff_assumed_coverage_03_08_2021.csv'\n",
    "assumed_df = pd.read_csv(path_assumed_data, encoding = 'utf-8')"
   ]
  },
  {
   "cell_type": "code",
   "execution_count": 19,
   "metadata": {},
   "outputs": [],
   "source": [
    "assumed_df['is_estimate'] = 1\n",
    "df['is_estimate'] = 0"
   ]
  },
  {
   "cell_type": "code",
   "execution_count": 20,
   "metadata": {},
   "outputs": [],
   "source": [
    "df = df.append(assumed_df)"
   ]
  },
  {
   "cell_type": "code",
   "execution_count": 21,
   "metadata": {
    "scrolled": true
   },
   "outputs": [],
   "source": [
    "check_cols = ['location_id','location_name','vehicle','value_description','nutrient','value_mean','value_025_percentile',\n",
    "       'value_975_percentile','notes','is_estimate']"
   ]
  },
  {
   "cell_type": "code",
   "execution_count": 22,
   "metadata": {},
   "outputs": [],
   "source": [
    "# format vars\n",
    "df.location_id = df.location_id.fillna(-1).astype(int)\n",
    "df.location_name = df.location_name.astype(str)\n",
    "df.vehicle = df.vehicle.astype(str)\n",
    "df.value_description = df.value_description.astype(str)\n",
    "\n",
    "df.value_mean = df.value_mean.mask(df.value_mean.isin(['na',np.nan,-1,'unknown']), np.nan).astype(float)\n",
    "df.value_025_percentile = df.value_025_percentile.mask(df.value_025_percentile.isin(['na',np.nan,-1,'unknown']), np.nan).astype(float)\n",
    "df.value_975_percentile = df.value_975_percentile.mask(df.value_975_percentile.isin(['na',np.nan,-1,'unknown']), np.nan).astype(float)"
   ]
  },
  {
   "cell_type": "code",
   "execution_count": 23,
   "metadata": {},
   "outputs": [],
   "source": [
    "#drop all NaN-only rows\n",
    "df = df.loc[~((df.value_mean.isna())&(df.value_025_percentile.isna())&(df.value_975_percentile.isna()))]"
   ]
  },
  {
   "cell_type": "code",
   "execution_count": 24,
   "metadata": {},
   "outputs": [
    {
     "data": {
      "text/plain": [
       "array(['China', 'Egypt', 'South Africa', 'Nepal'], dtype=object)"
      ]
     },
     "execution_count": 24,
     "metadata": {},
     "output_type": "execute_result"
    }
   ],
   "source": [
    "#locations for which need tofill in loc_ids\n",
    "df[df.location_id==-1].location_name.unique()"
   ]
  },
  {
   "cell_type": "code",
   "execution_count": 25,
   "metadata": {},
   "outputs": [
    {
     "data": {
      "text/html": [
       "<div>\n",
       "<style scoped>\n",
       "    .dataframe tbody tr th:only-of-type {\n",
       "        vertical-align: middle;\n",
       "    }\n",
       "\n",
       "    .dataframe tbody tr th {\n",
       "        vertical-align: top;\n",
       "    }\n",
       "\n",
       "    .dataframe thead th {\n",
       "        text-align: right;\n",
       "    }\n",
       "</style>\n",
       "<table border=\"1\" class=\"dataframe\">\n",
       "  <thead>\n",
       "    <tr style=\"text-align: right;\">\n",
       "      <th></th>\n",
       "      <th>location_id</th>\n",
       "      <th>location_name</th>\n",
       "      <th>vehicle</th>\n",
       "      <th>value_description</th>\n",
       "      <th>nutrient</th>\n",
       "      <th>value_mean</th>\n",
       "      <th>value_025_percentile</th>\n",
       "      <th>value_975_percentile</th>\n",
       "      <th>notes</th>\n",
       "      <th>is_estimate</th>\n",
       "    </tr>\n",
       "  </thead>\n",
       "  <tbody>\n",
       "    <tr>\n",
       "      <th>83</th>\n",
       "      <td>201</td>\n",
       "      <td>Burkina Faso</td>\n",
       "      <td>wheat flour</td>\n",
       "      <td>percent of vehicle that is fortified</td>\n",
       "      <td>iron</td>\n",
       "      <td>NaN</td>\n",
       "      <td>0.0</td>\n",
       "      <td>10.0</td>\n",
       "      <td>Assumed to be % of industrially processed whea...</td>\n",
       "      <td>0</td>\n",
       "    </tr>\n",
       "    <tr>\n",
       "      <th>105</th>\n",
       "      <td>205</td>\n",
       "      <td>Côte d'Ivoire</td>\n",
       "      <td>wheat flour</td>\n",
       "      <td>percent of vehicle that is fortified</td>\n",
       "      <td>iron</td>\n",
       "      <td>NaN</td>\n",
       "      <td>10.0</td>\n",
       "      <td>40.0</td>\n",
       "      <td>Assumed to be % of industrially processed whea...</td>\n",
       "      <td>0</td>\n",
       "    </tr>\n",
       "    <tr>\n",
       "      <th>162</th>\n",
       "      <td>202</td>\n",
       "      <td>Cameroon</td>\n",
       "      <td>wheat flour</td>\n",
       "      <td>percent of vehicle that is fortified</td>\n",
       "      <td>iron</td>\n",
       "      <td>NaN</td>\n",
       "      <td>0.0</td>\n",
       "      <td>10.0</td>\n",
       "      <td>Assumed to be % of industrially processed whea...</td>\n",
       "      <td>0</td>\n",
       "    </tr>\n",
       "    <tr>\n",
       "      <th>269</th>\n",
       "      <td>207</td>\n",
       "      <td>Ghana</td>\n",
       "      <td>rice</td>\n",
       "      <td>percent of vehicle that is industrially produced</td>\n",
       "      <td>na</td>\n",
       "      <td>NaN</td>\n",
       "      <td>11.0</td>\n",
       "      <td>23.0</td>\n",
       "      <td>% industrially milled, only a range was given</td>\n",
       "      <td>0</td>\n",
       "    </tr>\n",
       "    <tr>\n",
       "      <th>312</th>\n",
       "      <td>207</td>\n",
       "      <td>Ghana</td>\n",
       "      <td>wheat flour</td>\n",
       "      <td>percent of vehicle that is fortified</td>\n",
       "      <td>iron</td>\n",
       "      <td>NaN</td>\n",
       "      <td>25.0</td>\n",
       "      <td>35.0</td>\n",
       "      <td>Assumed to be % of industrially processed whea...</td>\n",
       "      <td>0</td>\n",
       "    </tr>\n",
       "    <tr>\n",
       "      <th>384</th>\n",
       "      <td>11</td>\n",
       "      <td>Indonesia</td>\n",
       "      <td>wheat flour</td>\n",
       "      <td>percent of vehicle that is fortified</td>\n",
       "      <td>iron</td>\n",
       "      <td>NaN</td>\n",
       "      <td>90.0</td>\n",
       "      <td>100.0</td>\n",
       "      <td>Assumed to be % of industrially processed whea...</td>\n",
       "      <td>0</td>\n",
       "    </tr>\n",
       "    <tr>\n",
       "      <th>431</th>\n",
       "      <td>180</td>\n",
       "      <td>Kenya</td>\n",
       "      <td>wheat flour</td>\n",
       "      <td>percent of vehicle that is fortified</td>\n",
       "      <td>iron</td>\n",
       "      <td>NaN</td>\n",
       "      <td>90.0</td>\n",
       "      <td>100.0</td>\n",
       "      <td>Assumed to be % of industrially processed whea...</td>\n",
       "      <td>0</td>\n",
       "    </tr>\n",
       "    <tr>\n",
       "      <th>459</th>\n",
       "      <td>184</td>\n",
       "      <td>Mozambique</td>\n",
       "      <td>wheat flour</td>\n",
       "      <td>percent of vehicle that is fortified</td>\n",
       "      <td>iron</td>\n",
       "      <td>NaN</td>\n",
       "      <td>90.0</td>\n",
       "      <td>100.0</td>\n",
       "      <td>Assumed to be % of industrially processed whea...</td>\n",
       "      <td>0</td>\n",
       "    </tr>\n",
       "    <tr>\n",
       "      <th>496</th>\n",
       "      <td>213</td>\n",
       "      <td>Niger</td>\n",
       "      <td>wheat flour</td>\n",
       "      <td>percent of vehicle that is fortified</td>\n",
       "      <td>iron</td>\n",
       "      <td>NaN</td>\n",
       "      <td>0.0</td>\n",
       "      <td>0.0</td>\n",
       "      <td>Assumed to be % of industrially processed whea...</td>\n",
       "      <td>0</td>\n",
       "    </tr>\n",
       "    <tr>\n",
       "      <th>529</th>\n",
       "      <td>214</td>\n",
       "      <td>Nigeria</td>\n",
       "      <td>rice</td>\n",
       "      <td>percent of vehicle that is industrially produced</td>\n",
       "      <td>na</td>\n",
       "      <td>NaN</td>\n",
       "      <td>12.0</td>\n",
       "      <td>24.0</td>\n",
       "      <td>% industrially milled, only a range was given</td>\n",
       "      <td>0</td>\n",
       "    </tr>\n",
       "    <tr>\n",
       "      <th>573</th>\n",
       "      <td>214</td>\n",
       "      <td>Nigeria</td>\n",
       "      <td>wheat flour</td>\n",
       "      <td>percent of vehicle that is fortified</td>\n",
       "      <td>iron</td>\n",
       "      <td>NaN</td>\n",
       "      <td>80.0</td>\n",
       "      <td>90.0</td>\n",
       "      <td>Assumed to be % of industrially processed whea...</td>\n",
       "      <td>0</td>\n",
       "    </tr>\n",
       "    <tr>\n",
       "      <th>599</th>\n",
       "      <td>165</td>\n",
       "      <td>Pakistan</td>\n",
       "      <td>wheat flour</td>\n",
       "      <td>percent of vehicle that is fortified</td>\n",
       "      <td>iron</td>\n",
       "      <td>NaN</td>\n",
       "      <td>5.0</td>\n",
       "      <td>10.0</td>\n",
       "      <td>Assumed to be % of industrially processed whea...</td>\n",
       "      <td>0</td>\n",
       "    </tr>\n",
       "    <tr>\n",
       "      <th>660</th>\n",
       "      <td>196</td>\n",
       "      <td>South Africa</td>\n",
       "      <td>wheat flour</td>\n",
       "      <td>percent of vehicle that is fortified</td>\n",
       "      <td>iron</td>\n",
       "      <td>NaN</td>\n",
       "      <td>60.0</td>\n",
       "      <td>80.0</td>\n",
       "      <td>Assumed to be % of industrially processed whea...</td>\n",
       "      <td>0</td>\n",
       "    </tr>\n",
       "    <tr>\n",
       "      <th>722</th>\n",
       "      <td>190</td>\n",
       "      <td>Uganda</td>\n",
       "      <td>wheat flour</td>\n",
       "      <td>percent of vehicle that is fortified</td>\n",
       "      <td>iron</td>\n",
       "      <td>NaN</td>\n",
       "      <td>90.0</td>\n",
       "      <td>100.0</td>\n",
       "      <td>Assumed to be % of industrially processed whea...</td>\n",
       "      <td>0</td>\n",
       "    </tr>\n",
       "    <tr>\n",
       "      <th>767</th>\n",
       "      <td>189</td>\n",
       "      <td>United Republic of Tanzania</td>\n",
       "      <td>wheat flour</td>\n",
       "      <td>percent of vehicle that is fortified</td>\n",
       "      <td>iron</td>\n",
       "      <td>NaN</td>\n",
       "      <td>70.0</td>\n",
       "      <td>80.0</td>\n",
       "      <td>Assumed to be % of industrially processed whea...</td>\n",
       "      <td>0</td>\n",
       "    </tr>\n",
       "    <tr>\n",
       "      <th>798</th>\n",
       "      <td>20</td>\n",
       "      <td>Viet Nam</td>\n",
       "      <td>wheat flour</td>\n",
       "      <td>percent of vehicle that is fortified</td>\n",
       "      <td>iron</td>\n",
       "      <td>NaN</td>\n",
       "      <td>35.0</td>\n",
       "      <td>40.0</td>\n",
       "      <td>Assumed to be % of industrially processed whea...</td>\n",
       "      <td>0</td>\n",
       "    </tr>\n",
       "  </tbody>\n",
       "</table>\n",
       "</div>"
      ],
      "text/plain": [
       "     location_id                location_name      vehicle  \\\n",
       "83           201                 Burkina Faso  wheat flour   \n",
       "105          205                Côte d'Ivoire  wheat flour   \n",
       "162          202                     Cameroon  wheat flour   \n",
       "269          207                        Ghana         rice   \n",
       "312          207                        Ghana  wheat flour   \n",
       "384           11                    Indonesia  wheat flour   \n",
       "431          180                        Kenya  wheat flour   \n",
       "459          184                   Mozambique  wheat flour   \n",
       "496          213                        Niger  wheat flour   \n",
       "529          214                      Nigeria         rice   \n",
       "573          214                      Nigeria  wheat flour   \n",
       "599          165                     Pakistan  wheat flour   \n",
       "660          196                 South Africa  wheat flour   \n",
       "722          190                       Uganda  wheat flour   \n",
       "767          189  United Republic of Tanzania  wheat flour   \n",
       "798           20                     Viet Nam  wheat flour   \n",
       "\n",
       "                                    value_description nutrient  value_mean  \\\n",
       "83               percent of vehicle that is fortified     iron         NaN   \n",
       "105              percent of vehicle that is fortified     iron         NaN   \n",
       "162              percent of vehicle that is fortified     iron         NaN   \n",
       "269  percent of vehicle that is industrially produced       na         NaN   \n",
       "312              percent of vehicle that is fortified     iron         NaN   \n",
       "384              percent of vehicle that is fortified     iron         NaN   \n",
       "431              percent of vehicle that is fortified     iron         NaN   \n",
       "459              percent of vehicle that is fortified     iron         NaN   \n",
       "496              percent of vehicle that is fortified     iron         NaN   \n",
       "529  percent of vehicle that is industrially produced       na         NaN   \n",
       "573              percent of vehicle that is fortified     iron         NaN   \n",
       "599              percent of vehicle that is fortified     iron         NaN   \n",
       "660              percent of vehicle that is fortified     iron         NaN   \n",
       "722              percent of vehicle that is fortified     iron         NaN   \n",
       "767              percent of vehicle that is fortified     iron         NaN   \n",
       "798              percent of vehicle that is fortified     iron         NaN   \n",
       "\n",
       "     value_025_percentile  value_975_percentile  \\\n",
       "83                    0.0                  10.0   \n",
       "105                  10.0                  40.0   \n",
       "162                   0.0                  10.0   \n",
       "269                  11.0                  23.0   \n",
       "312                  25.0                  35.0   \n",
       "384                  90.0                 100.0   \n",
       "431                  90.0                 100.0   \n",
       "459                  90.0                 100.0   \n",
       "496                   0.0                   0.0   \n",
       "529                  12.0                  24.0   \n",
       "573                  80.0                  90.0   \n",
       "599                   5.0                  10.0   \n",
       "660                  60.0                  80.0   \n",
       "722                  90.0                 100.0   \n",
       "767                  70.0                  80.0   \n",
       "798                  35.0                  40.0   \n",
       "\n",
       "                                                 notes  is_estimate  \n",
       "83   Assumed to be % of industrially processed whea...            0  \n",
       "105  Assumed to be % of industrially processed whea...            0  \n",
       "162  Assumed to be % of industrially processed whea...            0  \n",
       "269      % industrially milled, only a range was given            0  \n",
       "312  Assumed to be % of industrially processed whea...            0  \n",
       "384  Assumed to be % of industrially processed whea...            0  \n",
       "431  Assumed to be % of industrially processed whea...            0  \n",
       "459  Assumed to be % of industrially processed whea...            0  \n",
       "496  Assumed to be % of industrially processed whea...            0  \n",
       "529      % industrially milled, only a range was given            0  \n",
       "573  Assumed to be % of industrially processed whea...            0  \n",
       "599  Assumed to be % of industrially processed whea...            0  \n",
       "660  Assumed to be % of industrially processed whea...            0  \n",
       "722  Assumed to be % of industrially processed whea...            0  \n",
       "767  Assumed to be % of industrially processed whea...            0  \n",
       "798  Assumed to be % of industrially processed whea...            0  "
      ]
     },
     "execution_count": 25,
     "metadata": {},
     "output_type": "execute_result"
    }
   ],
   "source": [
    "#looks like we'll need to estimate mean here\n",
    "df.loc[df.value_mean.isna(),check_cols]"
   ]
  },
  {
   "cell_type": "code",
   "execution_count": 26,
   "metadata": {},
   "outputs": [],
   "source": [
    "df.loc[df.value_mean.isna(),'value_mean'] = df.loc[df.value_mean.isna(),['value_025_percentile','value_975_percentile']].mean(axis = 1)"
   ]
  },
  {
   "cell_type": "code",
   "execution_count": 27,
   "metadata": {},
   "outputs": [
    {
     "data": {
      "text/html": [
       "<div>\n",
       "<style scoped>\n",
       "    .dataframe tbody tr th:only-of-type {\n",
       "        vertical-align: middle;\n",
       "    }\n",
       "\n",
       "    .dataframe tbody tr th {\n",
       "        vertical-align: top;\n",
       "    }\n",
       "\n",
       "    .dataframe thead th {\n",
       "        text-align: right;\n",
       "    }\n",
       "</style>\n",
       "<table border=\"1\" class=\"dataframe\">\n",
       "  <thead>\n",
       "    <tr style=\"text-align: right;\">\n",
       "      <th></th>\n",
       "      <th>location_id</th>\n",
       "      <th>location_name</th>\n",
       "      <th>vehicle</th>\n",
       "      <th>value_description</th>\n",
       "      <th>nutrient</th>\n",
       "      <th>value_mean</th>\n",
       "      <th>value_025_percentile</th>\n",
       "      <th>value_975_percentile</th>\n",
       "      <th>notes</th>\n",
       "      <th>is_estimate</th>\n",
       "    </tr>\n",
       "  </thead>\n",
       "  <tbody>\n",
       "  </tbody>\n",
       "</table>\n",
       "</div>"
      ],
      "text/plain": [
       "Empty DataFrame\n",
       "Columns: [location_id, location_name, vehicle, value_description, nutrient, value_mean, value_025_percentile, value_975_percentile, notes, is_estimate]\n",
       "Index: []"
      ]
     },
     "execution_count": 27,
     "metadata": {},
     "output_type": "execute_result"
    }
   ],
   "source": [
    "df.loc[df.value_mean.isna(),check_cols]"
   ]
  },
  {
   "cell_type": "markdown",
   "metadata": {},
   "source": [
    "## location_name"
   ]
  },
  {
   "cell_type": "code",
   "execution_count": 28,
   "metadata": {},
   "outputs": [
    {
     "data": {
      "text/plain": [
       "array(['India', 'Bangladesh', 'Yemen', 'Pakistan', 'Burkina Faso',\n",
       "       'Nigeria', \"Côte d'Ivoire\", 'Cameroon', 'Indonesia', 'Uganda',\n",
       "       'United Republic of Tanzania', 'Ethiopia', 'China',\n",
       "       'Democratic Republic of the Congo', 'Egypt', 'Philippines',\n",
       "       'Ghana', 'Niger', 'Sudan', 'Viet Nam', 'Angola', 'Kenya',\n",
       "       'Madagascar', 'Mozambique', 'Nepal', 'Myanmar', 'South Africa',\n",
       "       \"CÃ´te d'Ivoire\"], dtype=object)"
      ]
     },
     "execution_count": 28,
     "metadata": {},
     "output_type": "execute_result"
    }
   ],
   "source": [
    "df.location_name.unique()"
   ]
  },
  {
   "cell_type": "code",
   "execution_count": 29,
   "metadata": {},
   "outputs": [],
   "source": [
    "relabel_location_name = {'India': 'India',\n",
    " 'Bangladesh': 'Bangladesh',\n",
    " 'Cameroon': 'Cameroon',\n",
    " 'Nigeria': 'Nigeria',\n",
    " 'Pakistan': 'Pakistan',\n",
    " 'Burkina Faso': 'Burkina Faso',\n",
    " \"CÃ´te d'Ivoire\": \"Côte d'Ivoire\",\n",
    " \"Côte d'Ivoire\":\"Côte d'Ivoire\",\n",
    " 'Uganda': 'Uganda',\n",
    " 'United Republic of Tanzania': 'United Republic of Tanzania',\n",
    " 'Ethiopia': 'Ethiopia',\n",
    " 'China': 'China',\n",
    " 'Indonesia': 'Indonesia',\n",
    " 'Democratic Republic of the Congo': 'Democratic Republic of the Congo',\n",
    " 'Kenya': 'Kenya',\n",
    " 'Egypt': 'Egypt',\n",
    " 'Niger': 'Niger',\n",
    " 'Philippines': 'Philippines',\n",
    " 'Ghana': 'Ghana',\n",
    " 'Afghanistan': 'Afghanistan',\n",
    " 'Viet Nam': 'Vietnam',\n",
    " 'Yemen': 'Yemen',\n",
    " 'Sudan': 'Sudan',\n",
    " 'Angola': 'Angola',\n",
    " 'Iraq':'Iraq',\n",
    " 'Madagascar': 'Madagascar',\n",
    " 'Mozambique': 'Mozambique',\n",
    " 'Nepal': 'Nepal',\n",
    " 'Myanmar': 'Myanmar',\n",
    " 'South Africa': 'South Africa'}"
   ]
  },
  {
   "cell_type": "code",
   "execution_count": 30,
   "metadata": {},
   "outputs": [],
   "source": [
    "df.location_name = df.location_name.map(relabel_location_name)"
   ]
  },
  {
   "cell_type": "code",
   "execution_count": 31,
   "metadata": {},
   "outputs": [],
   "source": [
    "## exclude countries the gates foundation had us drop (politically unstable or low rates of maternal and child anemia)\n",
    "excluded_countries = ['Afghanistan','Yemen','Philippines','Iraq']\n",
    "df = df[~df.location_name.isin(excluded_countries)]"
   ]
  },
  {
   "cell_type": "code",
   "execution_count": 32,
   "metadata": {},
   "outputs": [],
   "source": [
    "## clean country names\n",
    "assert df.location_name.nunique()==25, \"wrong number of countries\""
   ]
  },
  {
   "cell_type": "code",
   "execution_count": 33,
   "metadata": {},
   "outputs": [],
   "source": [
    "for i in df.location_name.unique():\n",
    "    if i not in countries:\n",
    "        print(i)\n",
    "    assert(i in countries)"
   ]
  },
  {
   "cell_type": "markdown",
   "metadata": {},
   "source": [
    "## vehicle"
   ]
  },
  {
   "cell_type": "code",
   "execution_count": 34,
   "metadata": {},
   "outputs": [
    {
     "data": {
      "text/plain": [
       "array(['oil', 'wheat flour', 'salt', 'rice', 'maize flour', 'bouillon',\n",
       "       'wheat '], dtype=object)"
      ]
     },
     "execution_count": 34,
     "metadata": {},
     "output_type": "execute_result"
    }
   ],
   "source": [
    "##this one looks fine\n",
    "df.vehicle.unique()"
   ]
  },
  {
   "cell_type": "markdown",
   "metadata": {},
   "source": [
    "## nutrient"
   ]
  },
  {
   "cell_type": "code",
   "execution_count": 35,
   "metadata": {},
   "outputs": [],
   "source": [
    "nutrient_map = {'vitamin a': 'vitamin a',\n",
    " 'na': 'na',\n",
    " 'iron': 'iron',\n",
    " 'folic acid, folate, b9': 'folic acid',\n",
    " 'b12': 'vitamin b12',\n",
    " 'iodine': 'iodine',\n",
    " 'b1, thiamine': 'vitamin b1',\n",
    " 'zinc': 'zinc',\n",
    " 'd, ergocalciferol-D2, cholecalciferol-D3, alfacalcidol': 'vitamin d',\n",
    " 'b2, riboflavin': 'vitamin b2',\n",
    " 'b3, niacin': 'vitamin b3',\n",
    " 'b6, pyridoxine': 'vitamin b6'}"
   ]
  },
  {
   "cell_type": "code",
   "execution_count": 36,
   "metadata": {},
   "outputs": [],
   "source": [
    "df.nutrient = df.nutrient.map(nutrient_map)"
   ]
  },
  {
   "cell_type": "code",
   "execution_count": 37,
   "metadata": {},
   "outputs": [],
   "source": [
    "# fill nans\n",
    "df['nutrient'] = df['nutrient'].fillna('na')"
   ]
  },
  {
   "cell_type": "markdown",
   "metadata": {},
   "source": [
    "## value_description"
   ]
  },
  {
   "cell_type": "code",
   "execution_count": 38,
   "metadata": {},
   "outputs": [
    {
     "data": {
      "text/plain": [
       "array(['percent of population eating fortified vehicle',\n",
       "       'percent of population eating industrially produced vehicle',\n",
       "       'percent of population eating vehicle',\n",
       "       'percent of vehicle that is industrially produced',\n",
       "       'percent of vehicle that is fortified',\n",
       "       'percent of marketshare of fortified products'], dtype=object)"
      ]
     },
     "execution_count": 38,
     "metadata": {},
     "output_type": "execute_result"
    }
   ],
   "source": [
    "df.value_description.unique()"
   ]
  },
  {
   "cell_type": "markdown",
   "metadata": {},
   "source": [
    "## eliminate country-vehicle and vehicle-nutrient pairs we're uninterested in"
   ]
  },
  {
   "cell_type": "code",
   "execution_count": 39,
   "metadata": {},
   "outputs": [],
   "source": [
    "country_vehicle_pairs = pd.DataFrame([(i,j) for i in countries for j in country_vehicle_map[i]], columns = ['location_name','vehicle'])"
   ]
  },
  {
   "cell_type": "code",
   "execution_count": 40,
   "metadata": {},
   "outputs": [],
   "source": [
    "vehicles = list(vehicle_nutrient_map.keys())\n",
    "vehicle_nutrient_pairs = pd.DataFrame([(i,j) for i in vehicles for j in vehicle_nutrient_map[i]], columns = ['vehicle','nutrient'])\n",
    "vehicle_nutrient_pairs = pd.concat([vehicle_nutrient_pairs, pd.DataFrame([(i,'na') for i in vehicles], columns = ['vehicle','nutrient'])])"
   ]
  },
  {
   "cell_type": "code",
   "execution_count": 41,
   "metadata": {},
   "outputs": [
    {
     "data": {
      "text/plain": [
       "[('salt', 'iodine'),\n",
       " ('salt', 'iodine'),\n",
       " ('salt', 'iodine'),\n",
       " ('salt', 'iodine'),\n",
       " ('salt', 'iodine'),\n",
       " ('salt', 'iodine'),\n",
       " ('salt', 'iodine'),\n",
       " ('wheat ', 'iron'),\n",
       " ('wheat ', 'folic acid'),\n",
       " ('wheat ', 'zinc'),\n",
       " ('salt', 'iodine'),\n",
       " ('wheat ', 'na'),\n",
       " ('rice', 'vitamin a'),\n",
       " ('salt', 'iodine'),\n",
       " ('salt', 'iodine'),\n",
       " ('salt', 'iodine'),\n",
       " ('salt', 'iodine'),\n",
       " ('salt', 'iodine'),\n",
       " ('salt', 'iodine'),\n",
       " ('wheat ', 'iron'),\n",
       " ('wheat ', 'zinc'),\n",
       " ('wheat ', 'folic acid'),\n",
       " ('wheat ', 'iron'),\n",
       " ('wheat ', 'zinc'),\n",
       " ('wheat ', 'folic acid'),\n",
       " ('wheat ', 'na'),\n",
       " ('salt', 'iodine'),\n",
       " ('salt', 'iodine'),\n",
       " ('wheat ', 'iron'),\n",
       " ('wheat ', 'folic acid'),\n",
       " ('wheat ', 'zinc'),\n",
       " ('wheat ', 'na')]"
      ]
     },
     "execution_count": 41,
     "metadata": {},
     "output_type": "execute_result"
    }
   ],
   "source": [
    "# check what we're removing\n",
    "test = df.merge(vehicle_nutrient_pairs, on = ['vehicle','nutrient'], how = 'right')\n",
    "[(i,j) for (i,j) in zip(df.vehicle,df.nutrient) if (i,j) not in zip(test.vehicle,test.nutrient)]"
   ]
  },
  {
   "cell_type": "code",
   "execution_count": 42,
   "metadata": {},
   "outputs": [],
   "source": [
    "df = df.merge(country_vehicle_pairs, on = ['location_name','vehicle'], how = 'right') #should this be inner?"
   ]
  },
  {
   "cell_type": "code",
   "execution_count": 43,
   "metadata": {},
   "outputs": [],
   "source": [
    "df = df.merge(vehicle_nutrient_pairs, on = ['vehicle','nutrient'], how = 'right')"
   ]
  },
  {
   "cell_type": "code",
   "execution_count": 44,
   "metadata": {},
   "outputs": [],
   "source": [
    "#drop all NaN-only rows\n",
    "df = df.loc[~((df.value_mean.isna())&(df.value_025_percentile.isna())&(df.value_975_percentile.isna()))]"
   ]
  },
  {
   "cell_type": "markdown",
   "metadata": {},
   "source": [
    "## clean illegal value-nutrient combos"
   ]
  },
  {
   "cell_type": "code",
   "execution_count": 45,
   "metadata": {},
   "outputs": [],
   "source": [
    "nutrient_irrelevant_vds = ['percent of population eating industrially produced vehicle',\n",
    "       'percent of population eating vehicle',\n",
    "       'percent of vehicle that is industrially produced',\n",
    "       'percent of marketshare of fortified products']\n",
    "\n",
    "nutrient_relevant_vds = ['percent of population eating fortified vehicle',\n",
    "       'percent of vehicle that is fortified',\n",
    "       'percent of marketshare of fortified products']"
   ]
  },
  {
   "cell_type": "code",
   "execution_count": 46,
   "metadata": {},
   "outputs": [
    {
     "data": {
      "text/plain": [
       "array(['vitamin a', 'na', 'vitamin d', 'iron', 'folic acid',\n",
       "       'vitamin b12', 'zinc', 'vitamin b1'], dtype=object)"
      ]
     },
     "execution_count": 46,
     "metadata": {},
     "output_type": "execute_result"
    }
   ],
   "source": [
    "df.nutrient.unique()"
   ]
  },
  {
   "cell_type": "code",
   "execution_count": 47,
   "metadata": {},
   "outputs": [
    {
     "data": {
      "text/html": [
       "<div>\n",
       "<style scoped>\n",
       "    .dataframe tbody tr th:only-of-type {\n",
       "        vertical-align: middle;\n",
       "    }\n",
       "\n",
       "    .dataframe tbody tr th {\n",
       "        vertical-align: top;\n",
       "    }\n",
       "\n",
       "    .dataframe thead th {\n",
       "        text-align: right;\n",
       "    }\n",
       "</style>\n",
       "<table border=\"1\" class=\"dataframe\">\n",
       "  <thead>\n",
       "    <tr style=\"text-align: right;\">\n",
       "      <th></th>\n",
       "      <th>location_id</th>\n",
       "      <th>location_name</th>\n",
       "      <th>vehicle</th>\n",
       "      <th>value_description</th>\n",
       "      <th>nutrient</th>\n",
       "      <th>value_mean</th>\n",
       "      <th>value_025_percentile</th>\n",
       "      <th>value_975_percentile</th>\n",
       "      <th>notes</th>\n",
       "      <th>is_estimate</th>\n",
       "    </tr>\n",
       "  </thead>\n",
       "  <tbody>\n",
       "    <tr>\n",
       "      <th>7</th>\n",
       "      <td>161.0</td>\n",
       "      <td>Bangladesh</td>\n",
       "      <td>oil</td>\n",
       "      <td>percent of vehicle that is industrially produced</td>\n",
       "      <td>vitamin a</td>\n",
       "      <td>52.0</td>\n",
       "      <td>NaN</td>\n",
       "      <td>NaN</td>\n",
       "      <td>no uncertainty</td>\n",
       "      <td>0.0</td>\n",
       "    </tr>\n",
       "    <tr>\n",
       "      <th>9</th>\n",
       "      <td>161.0</td>\n",
       "      <td>Bangladesh</td>\n",
       "      <td>oil</td>\n",
       "      <td>percent of population eating industrially prod...</td>\n",
       "      <td>vitamin a</td>\n",
       "      <td>87.5</td>\n",
       "      <td>NaN</td>\n",
       "      <td>NaN</td>\n",
       "      <td>no uncertainty</td>\n",
       "      <td>0.0</td>\n",
       "    </tr>\n",
       "    <tr>\n",
       "      <th>24</th>\n",
       "      <td>205.0</td>\n",
       "      <td>Côte d'Ivoire</td>\n",
       "      <td>oil</td>\n",
       "      <td>percent of marketshare of fortified products</td>\n",
       "      <td>vitamin a</td>\n",
       "      <td>89.0</td>\n",
       "      <td>NaN</td>\n",
       "      <td>NaN</td>\n",
       "      <td>NaN</td>\n",
       "      <td>0.0</td>\n",
       "    </tr>\n",
       "  </tbody>\n",
       "</table>\n",
       "</div>"
      ],
      "text/plain": [
       "    location_id  location_name vehicle  \\\n",
       "7         161.0     Bangladesh     oil   \n",
       "9         161.0     Bangladesh     oil   \n",
       "24        205.0  Côte d'Ivoire     oil   \n",
       "\n",
       "                                    value_description   nutrient  value_mean  \\\n",
       "7    percent of vehicle that is industrially produced  vitamin a        52.0   \n",
       "9   percent of population eating industrially prod...  vitamin a        87.5   \n",
       "24       percent of marketshare of fortified products  vitamin a        89.0   \n",
       "\n",
       "    value_025_percentile  value_975_percentile           notes  is_estimate  \n",
       "7                    NaN                   NaN  no uncertainty          0.0  \n",
       "9                    NaN                   NaN  no uncertainty          0.0  \n",
       "24                   NaN                   NaN             NaN          0.0  "
      ]
     },
     "execution_count": 47,
     "metadata": {},
     "output_type": "execute_result"
    }
   ],
   "source": [
    "df.loc[(df.value_description.isin(nutrient_irrelevant_vds))&(df.nutrient!='na'),check_cols]"
   ]
  },
  {
   "cell_type": "code",
   "execution_count": 48,
   "metadata": {},
   "outputs": [],
   "source": [
    "# relabel nutrients for rows for which nutrient doesn't apply\n",
    "df.loc[(df.value_description.isin(nutrient_irrelevant_vds))&(df.nutrient!='na'),'nutrient'] = 'na'"
   ]
  },
  {
   "cell_type": "code",
   "execution_count": 49,
   "metadata": {},
   "outputs": [
    {
     "data": {
      "text/html": [
       "<div>\n",
       "<style scoped>\n",
       "    .dataframe tbody tr th:only-of-type {\n",
       "        vertical-align: middle;\n",
       "    }\n",
       "\n",
       "    .dataframe tbody tr th {\n",
       "        vertical-align: top;\n",
       "    }\n",
       "\n",
       "    .dataframe thead th {\n",
       "        text-align: right;\n",
       "    }\n",
       "</style>\n",
       "<table border=\"1\" class=\"dataframe\">\n",
       "  <thead>\n",
       "    <tr style=\"text-align: right;\">\n",
       "      <th></th>\n",
       "      <th>location_id</th>\n",
       "      <th>location_name</th>\n",
       "      <th>vehicle</th>\n",
       "      <th>value_description</th>\n",
       "      <th>nutrient</th>\n",
       "      <th>value_mean</th>\n",
       "      <th>value_025_percentile</th>\n",
       "      <th>value_975_percentile</th>\n",
       "      <th>notes</th>\n",
       "      <th>is_estimate</th>\n",
       "      <th>user</th>\n",
       "    </tr>\n",
       "  </thead>\n",
       "  <tbody>\n",
       "    <tr>\n",
       "      <th>548</th>\n",
       "      <td>202.0</td>\n",
       "      <td>Cameroon</td>\n",
       "      <td>maize flour</td>\n",
       "      <td>percent of vehicle that is fortified</td>\n",
       "      <td>na</td>\n",
       "      <td>50.0</td>\n",
       "      <td>NaN</td>\n",
       "      <td>NaN</td>\n",
       "      <td>Unknown what this measure of fortified maize f...</td>\n",
       "      <td>0.0</td>\n",
       "      <td>paulina</td>\n",
       "    </tr>\n",
       "    <tr>\n",
       "      <th>24</th>\n",
       "      <td>205.0</td>\n",
       "      <td>Côte d'Ivoire</td>\n",
       "      <td>oil</td>\n",
       "      <td>percent of marketshare of fortified products</td>\n",
       "      <td>na</td>\n",
       "      <td>89.0</td>\n",
       "      <td>NaN</td>\n",
       "      <td>NaN</td>\n",
       "      <td>NaN</td>\n",
       "      <td>0.0</td>\n",
       "      <td>paulina</td>\n",
       "    </tr>\n",
       "  </tbody>\n",
       "</table>\n",
       "</div>"
      ],
      "text/plain": [
       "     location_id  location_name      vehicle  \\\n",
       "548        202.0       Cameroon  maize flour   \n",
       "24         205.0  Côte d'Ivoire          oil   \n",
       "\n",
       "                                value_description nutrient  value_mean  \\\n",
       "548          percent of vehicle that is fortified       na        50.0   \n",
       "24   percent of marketshare of fortified products       na        89.0   \n",
       "\n",
       "     value_025_percentile  value_975_percentile  \\\n",
       "548                   NaN                   NaN   \n",
       "24                    NaN                   NaN   \n",
       "\n",
       "                                                 notes  is_estimate     user  \n",
       "548  Unknown what this measure of fortified maize f...          0.0  paulina  \n",
       "24                                                 NaN          0.0  paulina  "
      ]
     },
     "execution_count": 49,
     "metadata": {},
     "output_type": "execute_result"
    }
   ],
   "source": [
    "# these need to be re extracted; for now we'll drop them\n",
    "df.loc[(df.value_description.isin(nutrient_relevant_vds)) & (df.nutrient=='na'),check_cols + ['user']].sort_values(['user','location_name'])"
   ]
  },
  {
   "cell_type": "code",
   "execution_count": 50,
   "metadata": {},
   "outputs": [],
   "source": [
    "# drop rows that need nutrient filled in\n",
    "df = df.loc[~((df.value_description.isin(nutrient_relevant_vds)) & (df.nutrient=='na')),]"
   ]
  },
  {
   "cell_type": "code",
   "execution_count": 51,
   "metadata": {},
   "outputs": [],
   "source": [
    "# format vars\n",
    "df.location_id = df.location_id.fillna(-1).astype(int)\n",
    "df.location_name = df.location_name.astype(str)\n",
    "df.vehicle = df.vehicle.astype(str)\n",
    "df.value_description = df.value_description.astype(str)\n",
    "\n",
    "df.value_mean = df.value_mean.mask(df.value_mean.isin(['na',np.nan,-1,'unknown']), np.nan).astype(float)\n",
    "df.value_025_percentile = df.value_025_percentile.mask(df.value_025_percentile.isin(['na',np.nan,-1,'unknown']), np.nan).astype(float)\n",
    "df.value_975_percentile = df.value_975_percentile.mask(df.value_975_percentile.isin(['na',np.nan,-1,'unknown']), np.nan).astype(float)"
   ]
  },
  {
   "cell_type": "code",
   "execution_count": 73,
   "metadata": {},
   "outputs": [],
   "source": [
    "## TODO: fix df.loc[df.location_id==-1,]"
   ]
  },
  {
   "cell_type": "markdown",
   "metadata": {},
   "source": [
    "## save "
   ]
  },
  {
   "cell_type": "code",
   "execution_count": 53,
   "metadata": {},
   "outputs": [],
   "source": [
    "save_path = '/ihme/homes/beatrixh/vivarium_research_lsff/data_prep/outputs/lsff_data_stage0_3_8_2021.csv'\n",
    "df.to_csv(save_path, index = False)"
   ]
  },
  {
   "cell_type": "code",
   "execution_count": null,
   "metadata": {},
   "outputs": [],
   "source": []
  }
 ],
 "metadata": {
  "kernelspec": {
   "display_name": "Python 3",
   "language": "python",
   "name": "python3"
  },
  "language_info": {
   "codemirror_mode": {
    "name": "ipython",
    "version": 3
   },
   "file_extension": ".py",
   "mimetype": "text/x-python",
   "name": "python",
   "nbconvert_exporter": "python",
   "pygments_lexer": "ipython3",
   "version": "3.6.10"
  }
 },
 "nbformat": 4,
 "nbformat_minor": 4
}
