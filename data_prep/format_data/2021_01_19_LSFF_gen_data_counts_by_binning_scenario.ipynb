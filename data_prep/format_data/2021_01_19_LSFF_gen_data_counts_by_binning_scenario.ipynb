{
 "cells": [
  {
   "cell_type": "code",
   "execution_count": 1,
   "metadata": {},
   "outputs": [],
   "source": [
    "import pandas as pd, numpy as np"
   ]
  },
  {
   "cell_type": "markdown",
   "metadata": {},
   "source": [
    "# LSFF: Output data counts under different binning scenarios"
   ]
  },
  {
   "cell_type": "code",
   "execution_count": 2,
   "metadata": {},
   "outputs": [],
   "source": [
    "## read in data\n",
    "path = '/ihme/homes/beatrixh/notebooks/viv_rsc/data_prep/outputs/lsff_data_stage0.csv'\n",
    "df = pd.read_csv(path)"
   ]
  },
  {
   "cell_type": "code",
   "execution_count": 4,
   "metadata": {},
   "outputs": [],
   "source": [
    "## for convenience\n",
    "check_cols = ['location_id','location_name','vehicle','value_description','nutrient','value_mean','value_025_percentile',\n",
    "       'value_975_percentile','notes']"
   ]
  },
  {
   "cell_type": "code",
   "execution_count": 5,
   "metadata": {},
   "outputs": [],
   "source": [
    "## check that we have nutrients iff expected"
   ]
  },
  {
   "cell_type": "code",
   "execution_count": 6,
   "metadata": {},
   "outputs": [
    {
     "data": {
      "text/plain": [
       "array(['percent of vehicle that is industrially produced',\n",
       "       'percent of population eating industrially produced vehicle',\n",
       "       'percent of population eating vehicle'], dtype=object)"
      ]
     },
     "execution_count": 6,
     "metadata": {},
     "output_type": "execute_result"
    }
   ],
   "source": [
    "df[df.nutrient=='na'].value_description.unique()"
   ]
  },
  {
   "cell_type": "code",
   "execution_count": 7,
   "metadata": {},
   "outputs": [
    {
     "data": {
      "text/plain": [
       "array(['percent of population eating fortified vehicle',\n",
       "       'percent of vehicle that is fortified'], dtype=object)"
      ]
     },
     "execution_count": 7,
     "metadata": {},
     "output_type": "execute_result"
    }
   ],
   "source": [
    "df[df.nutrient!='na'].value_description.unique()"
   ]
  },
  {
   "cell_type": "code",
   "execution_count": 8,
   "metadata": {},
   "outputs": [],
   "source": [
    "# relabel vals\n",
    "\n",
    "#https://journals.sagepub.com/doi/pdf/10.1177/15648265120334S307\n",
    "# cote divoire,\n",
    "# \"During the last year of the project, 206,410 MT of\n",
    "# vegetable oil was marketed in Côte d’Ivoire. The fortified\n",
    "# vegetable oil was covering 89% of the market.\"\n",
    "\n",
    "val_descrip_map = {'percent of population eating fortified vehicle': 'percent of population eating fortified vehicle',\n",
    " 'percent of vehicle that is industrially produced': 'percent of vehicle that is industrially produced',\n",
    " 'percent of vehicle that is fortified': 'percent of vehicle that is fortified',\n",
    " 'percent of population eating industrially produced vehicle': 'percent of population eating industrially produced vehicle',\n",
    " 'percent of marketshare of fortified products': 'percent of market covered by fortified product',\n",
    " 'percent of population eating vehicle': 'percent of population eating vehicle'}\n",
    "\n",
    "df.value_description = df.value_description.map(val_descrip_map)"
   ]
  },
  {
   "cell_type": "code",
   "execution_count": 55,
   "metadata": {},
   "outputs": [],
   "source": [
    "def output_frame(cols= ['location_name','vehicle','nutrient','value_description']):\n",
    "    \"\"\"\n",
    "    INPUT: desired columns to bin lsff data on\n",
    "    ---\n",
    "    OUTPUT: all legal value combinations using input columns\n",
    "    ---\n",
    "    eg: (iodine/salt) or (china/maize flour) are illegal combinations\n",
    "    \"\"\"\n",
    "    \n",
    "    # load legal pairs\n",
    "    data_prep_dir = '/ihme/scratch/users/beatrixh/vivarium_data_analysis/pre_processing/lsff_project/data_prep/'\n",
    "    with open(data_prep_dir + 'lsff_vehicle_nutrient_pairs.pickle', 'rb') as handle:\n",
    "        vehicle_nutrient_map = pickle.load(handle)\n",
    "\n",
    "    with open(data_prep_dir + 'lsff_country_vehicle_pairs.pickle', 'rb') as handle:\n",
    "        country_vehicle_map = pickle.load(handle)\n",
    "        \n",
    "    countries = [i for i in country_vehicle_map.keys() if type(i)==str]\n",
    "    \n",
    "    # value_descrips\n",
    "    nutrient_relevant_vds = ['percent of population eating fortified vehicle',\n",
    "           'percent of vehicle that is fortified',\n",
    "           'percent of market covered by fortified product']\n",
    "    nutrient_irrelevant_vds = ['percent of vehicle that is industrially produced',\n",
    "       'percent of population eating industrially produced vehicle',\n",
    "       'percent of population eating vehicle']\n",
    "\n",
    "    # all legal loc-vehicle-nutrient-val_ds for val_ds that have nutrient\n",
    "    data_counts_a = pd.DataFrame([(i,j,k,l) for i in countries\n",
    "                                  for j in country_vehicle_map[i]\n",
    "                                  for k in vehicle_nutrient_map[j]\n",
    "                                  for l in nutrient_relevant_vds],\n",
    "                                 columns = ['location_name','vehicle','nutrient','value_description'])\n",
    "    # all legal loc-vehicle-nutrient-val_ds for val_ds with nutrient='na'\n",
    "    data_counts_b = pd.DataFrame([(i,j,'na',k) for i in countries\n",
    "                                  for j in country_vehicle_map[i]\n",
    "                                  for k in nutrient_irrelevant_vds],\n",
    "                                 columns = ['location_name','vehicle','nutrient','value_description']) \n",
    "    \n",
    "    data_counts = data_counts_a.append(data_counts_b).sort_values(by=['location_name','vehicle','value_description','nutrient'])\n",
    "    \n",
    "    return data_counts[cols].drop_duplicates().reset_index(drop=True)"
   ]
  },
  {
   "cell_type": "code",
   "execution_count": 56,
   "metadata": {},
   "outputs": [],
   "source": [
    "def add_summary_measures(frame, data, n_points = True, mean_mean = True, mean_values = True):\n",
    "    \"\"\"\n",
    "    INPUT:\n",
    "    - df with extracted data containing a 'value_mean' column, and a set of id_cols\n",
    "    - a frame whose cols == id_cols\n",
    "    - desired summary measures for each unique combination of id_cols\n",
    "    \"\"\"\n",
    "    \n",
    "    # merge extracted data onto frame containing desired bins\n",
    "    merge_cols = frame.columns.tolist()\n",
    "    data_counts = frame.merge(data[merge_cols + ['value_mean']], on = merge_cols, how = 'left')\n",
    "    output = frame.copy()\n",
    "    \n",
    "    # calculate summary measures\n",
    "    if n_points:\n",
    "        data_counts_n = data_counts.groupby(merge_cols).count().rename(columns={'value_mean':'n_data_points'})\n",
    "        output = output.merge(data_counts_n, on = merge_cols, how = 'left')\n",
    "    if mean_mean:\n",
    "        data_counts_mean = data_counts.groupby(merge_cols).mean().rename(columns={'value_mean':'mean_mean'})\n",
    "        output = output.merge(data_counts_mean, on = merge_cols, how = 'left')\n",
    "    if mean_values:\n",
    "        data_counts_detail = data_counts.groupby(merge_cols).aggregate(lambda x : x.tolist()).rename(columns={'value_mean':'value_means'})\n",
    "        output = output.merge(data_counts_detail, on = merge_cols, how = 'left')\n",
    "        \n",
    "    return output"
   ]
  },
  {
   "cell_type": "markdown",
   "metadata": {},
   "source": [
    "## count data coverage for ALL county - vehicle - val_des - nutrient combinations"
   ]
  },
  {
   "cell_type": "code",
   "execution_count": 52,
   "metadata": {},
   "outputs": [],
   "source": [
    "data_counts = output_frame(cols = ['location_name','vehicle','nutrient','value_description'])"
   ]
  },
  {
   "cell_type": "code",
   "execution_count": 57,
   "metadata": {},
   "outputs": [],
   "source": [
    "data_counts_full = add_summary_measures(frame = data_counts, data = df, n_points = True, mean_mean = True, mean_values = True)"
   ]
  },
  {
   "cell_type": "code",
   "execution_count": 58,
   "metadata": {},
   "outputs": [
    {
     "data": {
      "text/html": [
       "<div>\n",
       "<style scoped>\n",
       "    .dataframe tbody tr th:only-of-type {\n",
       "        vertical-align: middle;\n",
       "    }\n",
       "\n",
       "    .dataframe tbody tr th {\n",
       "        vertical-align: top;\n",
       "    }\n",
       "\n",
       "    .dataframe thead th {\n",
       "        text-align: right;\n",
       "    }\n",
       "</style>\n",
       "<table border=\"1\" class=\"dataframe\">\n",
       "  <thead>\n",
       "    <tr style=\"text-align: right;\">\n",
       "      <th></th>\n",
       "      <th>location_name</th>\n",
       "      <th>vehicle</th>\n",
       "      <th>nutrient</th>\n",
       "      <th>value_description</th>\n",
       "      <th>n_data_points</th>\n",
       "      <th>mean_mean</th>\n",
       "      <th>value_means</th>\n",
       "    </tr>\n",
       "  </thead>\n",
       "  <tbody>\n",
       "    <tr>\n",
       "      <th>0</th>\n",
       "      <td>Angola</td>\n",
       "      <td>maize flour</td>\n",
       "      <td>folic acid</td>\n",
       "      <td>percent of market covered by fortified product</td>\n",
       "      <td>0</td>\n",
       "      <td>NaN</td>\n",
       "      <td>[nan]</td>\n",
       "    </tr>\n",
       "    <tr>\n",
       "      <th>1</th>\n",
       "      <td>Angola</td>\n",
       "      <td>maize flour</td>\n",
       "      <td>iron</td>\n",
       "      <td>percent of market covered by fortified product</td>\n",
       "      <td>0</td>\n",
       "      <td>NaN</td>\n",
       "      <td>[nan]</td>\n",
       "    </tr>\n",
       "    <tr>\n",
       "      <th>2</th>\n",
       "      <td>Angola</td>\n",
       "      <td>maize flour</td>\n",
       "      <td>vitamin a</td>\n",
       "      <td>percent of market covered by fortified product</td>\n",
       "      <td>0</td>\n",
       "      <td>NaN</td>\n",
       "      <td>[nan]</td>\n",
       "    </tr>\n",
       "    <tr>\n",
       "      <th>3</th>\n",
       "      <td>Angola</td>\n",
       "      <td>maize flour</td>\n",
       "      <td>vitamin b1</td>\n",
       "      <td>percent of market covered by fortified product</td>\n",
       "      <td>0</td>\n",
       "      <td>NaN</td>\n",
       "      <td>[nan]</td>\n",
       "    </tr>\n",
       "    <tr>\n",
       "      <th>4</th>\n",
       "      <td>Angola</td>\n",
       "      <td>maize flour</td>\n",
       "      <td>vitamin b12</td>\n",
       "      <td>percent of market covered by fortified product</td>\n",
       "      <td>0</td>\n",
       "      <td>NaN</td>\n",
       "      <td>[nan]</td>\n",
       "    </tr>\n",
       "  </tbody>\n",
       "</table>\n",
       "</div>"
      ],
      "text/plain": [
       "  location_name      vehicle     nutrient  \\\n",
       "0        Angola  maize flour   folic acid   \n",
       "1        Angola  maize flour         iron   \n",
       "2        Angola  maize flour    vitamin a   \n",
       "3        Angola  maize flour   vitamin b1   \n",
       "4        Angola  maize flour  vitamin b12   \n",
       "\n",
       "                                value_description  n_data_points  mean_mean  \\\n",
       "0  percent of market covered by fortified product              0        NaN   \n",
       "1  percent of market covered by fortified product              0        NaN   \n",
       "2  percent of market covered by fortified product              0        NaN   \n",
       "3  percent of market covered by fortified product              0        NaN   \n",
       "4  percent of market covered by fortified product              0        NaN   \n",
       "\n",
       "  value_means  \n",
       "0       [nan]  \n",
       "1       [nan]  \n",
       "2       [nan]  \n",
       "3       [nan]  \n",
       "4       [nan]  "
      ]
     },
     "execution_count": 58,
     "metadata": {},
     "output_type": "execute_result"
    }
   ],
   "source": [
    "data_counts_full.head()"
   ]
  },
  {
   "cell_type": "code",
   "execution_count": 59,
   "metadata": {},
   "outputs": [],
   "source": [
    "data_counts_full_path = '/ihme/homes/beatrixh/notebooks/viv_rsc/new_lsff/outputs/data_counts_full.csv'\n",
    "data_counts_full.to_csv(data_counts_full_path, index = False)"
   ]
  },
  {
   "cell_type": "markdown",
   "metadata": {},
   "source": [
    "## count data coverage for target county - vehicle - val_des - nutrient combinations"
   ]
  },
  {
   "cell_type": "code",
   "execution_count": 61,
   "metadata": {},
   "outputs": [],
   "source": [
    "target_value_descriptions = ['percent of population eating fortified vehicle',\n",
    "       'percent of population eating industrially produced vehicle',\n",
    "       'percent of population eating vehicle']"
   ]
  },
  {
   "cell_type": "code",
   "execution_count": 65,
   "metadata": {},
   "outputs": [],
   "source": [
    "target_data_counts = data_counts_full[data_counts_full.value_description.isin(target_value_descriptions)]"
   ]
  },
  {
   "cell_type": "code",
   "execution_count": 75,
   "metadata": {},
   "outputs": [],
   "source": [
    "target_data_counts_path = '/ihme/homes/beatrixh/notebooks/viv_rsc/new_lsff/outputs/data_counts_ideal_bins.csv'\n",
    "target_data_counts.to_csv(target_data_counts_path, index = False)"
   ]
  },
  {
   "cell_type": "markdown",
   "metadata": {},
   "source": [
    "## count data coverage for ALL county - vehicle - val_des combos, NOT nutrients"
   ]
  },
  {
   "cell_type": "code",
   "execution_count": 68,
   "metadata": {},
   "outputs": [],
   "source": [
    "data_counts_nutrient_na = output_frame(cols = ['location_name','vehicle','value_description'])"
   ]
  },
  {
   "cell_type": "code",
   "execution_count": 70,
   "metadata": {},
   "outputs": [],
   "source": [
    "data_counts_nutrient_na = add_summary_measures(frame = data_counts_nutrient_na, data = df, n_points = True, mean_mean = True, mean_values = True)"
   ]
  },
  {
   "cell_type": "code",
   "execution_count": 71,
   "metadata": {},
   "outputs": [
    {
     "data": {
      "text/html": [
       "<div>\n",
       "<style scoped>\n",
       "    .dataframe tbody tr th:only-of-type {\n",
       "        vertical-align: middle;\n",
       "    }\n",
       "\n",
       "    .dataframe tbody tr th {\n",
       "        vertical-align: top;\n",
       "    }\n",
       "\n",
       "    .dataframe thead th {\n",
       "        text-align: right;\n",
       "    }\n",
       "</style>\n",
       "<table border=\"1\" class=\"dataframe\">\n",
       "  <thead>\n",
       "    <tr style=\"text-align: right;\">\n",
       "      <th></th>\n",
       "      <th>location_name</th>\n",
       "      <th>vehicle</th>\n",
       "      <th>value_description</th>\n",
       "      <th>n_data_points</th>\n",
       "      <th>mean_mean</th>\n",
       "      <th>value_means</th>\n",
       "    </tr>\n",
       "  </thead>\n",
       "  <tbody>\n",
       "    <tr>\n",
       "      <th>0</th>\n",
       "      <td>Angola</td>\n",
       "      <td>maize flour</td>\n",
       "      <td>percent of market covered by fortified product</td>\n",
       "      <td>0</td>\n",
       "      <td>NaN</td>\n",
       "      <td>[nan]</td>\n",
       "    </tr>\n",
       "    <tr>\n",
       "      <th>1</th>\n",
       "      <td>Angola</td>\n",
       "      <td>maize flour</td>\n",
       "      <td>percent of population eating fortified vehicle</td>\n",
       "      <td>0</td>\n",
       "      <td>NaN</td>\n",
       "      <td>[nan]</td>\n",
       "    </tr>\n",
       "    <tr>\n",
       "      <th>2</th>\n",
       "      <td>Angola</td>\n",
       "      <td>maize flour</td>\n",
       "      <td>percent of population eating industrially prod...</td>\n",
       "      <td>0</td>\n",
       "      <td>NaN</td>\n",
       "      <td>[nan]</td>\n",
       "    </tr>\n",
       "    <tr>\n",
       "      <th>3</th>\n",
       "      <td>Angola</td>\n",
       "      <td>maize flour</td>\n",
       "      <td>percent of population eating vehicle</td>\n",
       "      <td>0</td>\n",
       "      <td>NaN</td>\n",
       "      <td>[nan]</td>\n",
       "    </tr>\n",
       "    <tr>\n",
       "      <th>4</th>\n",
       "      <td>Angola</td>\n",
       "      <td>maize flour</td>\n",
       "      <td>percent of vehicle that is fortified</td>\n",
       "      <td>0</td>\n",
       "      <td>NaN</td>\n",
       "      <td>[nan]</td>\n",
       "    </tr>\n",
       "    <tr>\n",
       "      <th>...</th>\n",
       "      <td>...</td>\n",
       "      <td>...</td>\n",
       "      <td>...</td>\n",
       "      <td>...</td>\n",
       "      <td>...</td>\n",
       "      <td>...</td>\n",
       "    </tr>\n",
       "    <tr>\n",
       "      <th>475</th>\n",
       "      <td>Vietnam</td>\n",
       "      <td>wheat flour</td>\n",
       "      <td>percent of population eating fortified vehicle</td>\n",
       "      <td>0</td>\n",
       "      <td>NaN</td>\n",
       "      <td>[nan]</td>\n",
       "    </tr>\n",
       "    <tr>\n",
       "      <th>476</th>\n",
       "      <td>Vietnam</td>\n",
       "      <td>wheat flour</td>\n",
       "      <td>percent of population eating industrially prod...</td>\n",
       "      <td>0</td>\n",
       "      <td>NaN</td>\n",
       "      <td>[nan]</td>\n",
       "    </tr>\n",
       "    <tr>\n",
       "      <th>477</th>\n",
       "      <td>Vietnam</td>\n",
       "      <td>wheat flour</td>\n",
       "      <td>percent of population eating vehicle</td>\n",
       "      <td>10</td>\n",
       "      <td>21.93</td>\n",
       "      <td>[4.2, 38.8, 46.7, 31.1, 16.4, 17.5, 9.6, 22.7,...</td>\n",
       "    </tr>\n",
       "    <tr>\n",
       "      <th>478</th>\n",
       "      <td>Vietnam</td>\n",
       "      <td>wheat flour</td>\n",
       "      <td>percent of vehicle that is fortified</td>\n",
       "      <td>6</td>\n",
       "      <td>0.00</td>\n",
       "      <td>[0.0, 0.0, 0.0, 0.0, 0.0, 0.0]</td>\n",
       "    </tr>\n",
       "    <tr>\n",
       "      <th>479</th>\n",
       "      <td>Vietnam</td>\n",
       "      <td>wheat flour</td>\n",
       "      <td>percent of vehicle that is industrially produced</td>\n",
       "      <td>2</td>\n",
       "      <td>100.00</td>\n",
       "      <td>[100.0, 100.0]</td>\n",
       "    </tr>\n",
       "  </tbody>\n",
       "</table>\n",
       "<p>480 rows × 6 columns</p>\n",
       "</div>"
      ],
      "text/plain": [
       "    location_name      vehicle  \\\n",
       "0          Angola  maize flour   \n",
       "1          Angola  maize flour   \n",
       "2          Angola  maize flour   \n",
       "3          Angola  maize flour   \n",
       "4          Angola  maize flour   \n",
       "..            ...          ...   \n",
       "475       Vietnam  wheat flour   \n",
       "476       Vietnam  wheat flour   \n",
       "477       Vietnam  wheat flour   \n",
       "478       Vietnam  wheat flour   \n",
       "479       Vietnam  wheat flour   \n",
       "\n",
       "                                     value_description  n_data_points  \\\n",
       "0       percent of market covered by fortified product              0   \n",
       "1       percent of population eating fortified vehicle              0   \n",
       "2    percent of population eating industrially prod...              0   \n",
       "3                 percent of population eating vehicle              0   \n",
       "4                 percent of vehicle that is fortified              0   \n",
       "..                                                 ...            ...   \n",
       "475     percent of population eating fortified vehicle              0   \n",
       "476  percent of population eating industrially prod...              0   \n",
       "477               percent of population eating vehicle             10   \n",
       "478               percent of vehicle that is fortified              6   \n",
       "479   percent of vehicle that is industrially produced              2   \n",
       "\n",
       "     mean_mean                                        value_means  \n",
       "0          NaN                                              [nan]  \n",
       "1          NaN                                              [nan]  \n",
       "2          NaN                                              [nan]  \n",
       "3          NaN                                              [nan]  \n",
       "4          NaN                                              [nan]  \n",
       "..         ...                                                ...  \n",
       "475        NaN                                              [nan]  \n",
       "476        NaN                                              [nan]  \n",
       "477      21.93  [4.2, 38.8, 46.7, 31.1, 16.4, 17.5, 9.6, 22.7,...  \n",
       "478       0.00                     [0.0, 0.0, 0.0, 0.0, 0.0, 0.0]  \n",
       "479     100.00                                     [100.0, 100.0]  \n",
       "\n",
       "[480 rows x 6 columns]"
      ]
     },
     "execution_count": 71,
     "metadata": {},
     "output_type": "execute_result"
    }
   ],
   "source": [
    "data_counts_nutrient_na"
   ]
  },
  {
   "cell_type": "code",
   "execution_count": 73,
   "metadata": {},
   "outputs": [],
   "source": [
    "data_counts_nutrient_na_path = '/ihme/homes/beatrixh/notebooks/viv_rsc/new_lsff/outputs/data_counts_nutrient_na.csv'\n",
    "data_counts_nutrient_na.to_csv(data_counts_nutrient_na_path, index = False)"
   ]
  },
  {
   "cell_type": "code",
   "execution_count": null,
   "metadata": {},
   "outputs": [],
   "source": []
  }
 ],
 "metadata": {
  "kernelspec": {
   "display_name": "Python 3",
   "language": "python",
   "name": "python3"
  },
  "language_info": {
   "codemirror_mode": {
    "name": "ipython",
    "version": 3
   },
   "file_extension": ".py",
   "mimetype": "text/x-python",
   "name": "python",
   "nbconvert_exporter": "python",
   "pygments_lexer": "ipython3",
   "version": "3.6.10"
  }
 },
 "nbformat": 4,
 "nbformat_minor": 4
}
