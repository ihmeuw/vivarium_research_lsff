{
 "cells": [
  {
   "cell_type": "code",
   "execution_count": 1,
   "metadata": {},
   "outputs": [],
   "source": [
    "import pandas as pd, numpy as np"
   ]
  },
  {
   "cell_type": "markdown",
   "metadata": {},
   "source": [
    "# LSFF: Generate data summary tables by value_description"
   ]
  },
  {
   "cell_type": "code",
   "execution_count": 5,
   "metadata": {},
   "outputs": [],
   "source": [
    "## read in data\n",
    "path = '/ihme/homes/beatrixh/notebooks/viv_rsc/new_lsff/outputs/data_counts_full.csv'\n",
    "data_counts_all = pd.read_csv(path)"
   ]
  },
  {
   "cell_type": "markdown",
   "metadata": {},
   "source": [
    "## save data summaries"
   ]
  },
  {
   "cell_type": "code",
   "execution_count": 6,
   "metadata": {},
   "outputs": [],
   "source": [
    "save_dir = '/ihme/homes/beatrixh/notebooks/viv_rsc/new_lsff/outputs/'"
   ]
  },
  {
   "cell_type": "markdown",
   "metadata": {},
   "source": [
    "## eating fortified vehicle"
   ]
  },
  {
   "cell_type": "code",
   "execution_count": 9,
   "metadata": {},
   "outputs": [],
   "source": [
    "eating_fortified = data_counts_all[data_counts_all.value_description==\"percent of population eating fortified vehicle\"]\n",
    "eating_fortified.to_csv(save_dir + '/data_summary_percent_of_population_eating_fortified_vehicle.csv')"
   ]
  },
  {
   "cell_type": "markdown",
   "metadata": {},
   "source": [
    "## eating industrially produced vehicle"
   ]
  },
  {
   "cell_type": "code",
   "execution_count": 12,
   "metadata": {},
   "outputs": [],
   "source": [
    "eating_ind_prod = data_counts_all[data_counts_all.value_description==\"percent of population eating industrially produced vehicle\"]\n",
    "eating_ind_prod.to_csv(save_dir + '/data_summary_percent_of_population_eating_industrially_prod_vehicle.csv')"
   ]
  },
  {
   "cell_type": "markdown",
   "metadata": {},
   "source": [
    "## eating vehicle"
   ]
  },
  {
   "cell_type": "code",
   "execution_count": 20,
   "metadata": {},
   "outputs": [],
   "source": [
    "eating_vehicle = data_counts_all[data_counts_all.value_description==\"percent of population eating vehicle\"]\n",
    "\n",
    "#subset NAs to only those countries-vehicles where we don't have\n",
    "#(% of population eating fortified) & (% eating industrially produced)\n"
   ]
  },
  {
   "cell_type": "code",
   "execution_count": 21,
   "metadata": {},
   "outputs": [],
   "source": [
    "data_counts_wide = pd.pivot_table(data_counts_all, index = ['location_name','vehicle','nutrient'], columns = 'value_description', values = 'n_data_points')\n",
    "data_counts_wide = data_counts_wide.reset_index()"
   ]
  },
  {
   "cell_type": "code",
   "execution_count": 22,
   "metadata": {},
   "outputs": [],
   "source": [
    "data_counts_wide['needs_pct_pop_eating_vehicle'] = data_counts_wide[['percent of population eating industrially produced vehicle','percent of population eating fortified vehicle']].sum(axis=1)"
   ]
  },
  {
   "cell_type": "code",
   "execution_count": 23,
   "metadata": {},
   "outputs": [],
   "source": [
    "# find vehicle-country pairs for which any datapoint is missing (min count of datapoints == 0)\n",
    "needs_pct_pop_eating_vehicle = data_counts_wide.groupby(['location_name','vehicle']).needs_pct_pop_eating_vehicle.min().reset_index() "
   ]
  },
  {
   "cell_type": "code",
   "execution_count": 24,
   "metadata": {},
   "outputs": [],
   "source": [
    "needs_pct_pop_eating_vehicle = needs_pct_pop_eating_vehicle.loc[needs_pct_pop_eating_vehicle.needs_pct_pop_eating_vehicle==0,['location_name','vehicle']]"
   ]
  },
  {
   "cell_type": "code",
   "execution_count": 25,
   "metadata": {},
   "outputs": [
    {
     "data": {
      "text/html": [
       "<div>\n",
       "<style scoped>\n",
       "    .dataframe tbody tr th:only-of-type {\n",
       "        vertical-align: middle;\n",
       "    }\n",
       "\n",
       "    .dataframe tbody tr th {\n",
       "        vertical-align: top;\n",
       "    }\n",
       "\n",
       "    .dataframe thead th {\n",
       "        text-align: right;\n",
       "    }\n",
       "</style>\n",
       "<table border=\"1\" class=\"dataframe\">\n",
       "  <thead>\n",
       "    <tr style=\"text-align: right;\">\n",
       "      <th></th>\n",
       "      <th>location_name</th>\n",
       "      <th>vehicle</th>\n",
       "      <th>nutrient</th>\n",
       "      <th>value_description</th>\n",
       "      <th>n_data_points</th>\n",
       "      <th>mean_mean</th>\n",
       "      <th>value_means</th>\n",
       "    </tr>\n",
       "  </thead>\n",
       "  <tbody>\n",
       "    <tr>\n",
       "      <th>0</th>\n",
       "      <td>Angola</td>\n",
       "      <td>maize flour</td>\n",
       "      <td>na</td>\n",
       "      <td>percent of population eating vehicle</td>\n",
       "      <td>0</td>\n",
       "      <td>NaN</td>\n",
       "      <td>[nan]</td>\n",
       "    </tr>\n",
       "    <tr>\n",
       "      <th>1</th>\n",
       "      <td>Angola</td>\n",
       "      <td>oil</td>\n",
       "      <td>na</td>\n",
       "      <td>percent of population eating vehicle</td>\n",
       "      <td>0</td>\n",
       "      <td>NaN</td>\n",
       "      <td>[nan]</td>\n",
       "    </tr>\n",
       "    <tr>\n",
       "      <th>2</th>\n",
       "      <td>Angola</td>\n",
       "      <td>wheat flour</td>\n",
       "      <td>na</td>\n",
       "      <td>percent of population eating vehicle</td>\n",
       "      <td>0</td>\n",
       "      <td>NaN</td>\n",
       "      <td>[nan]</td>\n",
       "    </tr>\n",
       "    <tr>\n",
       "      <th>3</th>\n",
       "      <td>Bangladesh</td>\n",
       "      <td>oil</td>\n",
       "      <td>na</td>\n",
       "      <td>percent of population eating vehicle</td>\n",
       "      <td>10</td>\n",
       "      <td>80.78</td>\n",
       "      <td>[95.0, 89.0, 75.0, 95.0, 51.0, 59.0, 68.0, 76....</td>\n",
       "    </tr>\n",
       "    <tr>\n",
       "      <th>4</th>\n",
       "      <td>Bangladesh</td>\n",
       "      <td>wheat flour</td>\n",
       "      <td>na</td>\n",
       "      <td>percent of population eating vehicle</td>\n",
       "      <td>12</td>\n",
       "      <td>62.35</td>\n",
       "      <td>[40.0, 68.0, 63.0, 59.0, 70.0, 70.0, 77.0, 65....</td>\n",
       "    </tr>\n",
       "    <tr>\n",
       "      <th>...</th>\n",
       "      <td>...</td>\n",
       "      <td>...</td>\n",
       "      <td>...</td>\n",
       "      <td>...</td>\n",
       "      <td>...</td>\n",
       "      <td>...</td>\n",
       "      <td>...</td>\n",
       "    </tr>\n",
       "    <tr>\n",
       "      <th>67</th>\n",
       "      <td>Sudan</td>\n",
       "      <td>maize flour</td>\n",
       "      <td>na</td>\n",
       "      <td>percent of population eating vehicle</td>\n",
       "      <td>0</td>\n",
       "      <td>NaN</td>\n",
       "      <td>[nan]</td>\n",
       "    </tr>\n",
       "    <tr>\n",
       "      <th>68</th>\n",
       "      <td>Sudan</td>\n",
       "      <td>oil</td>\n",
       "      <td>na</td>\n",
       "      <td>percent of population eating vehicle</td>\n",
       "      <td>0</td>\n",
       "      <td>NaN</td>\n",
       "      <td>[nan]</td>\n",
       "    </tr>\n",
       "    <tr>\n",
       "      <th>69</th>\n",
       "      <td>Sudan</td>\n",
       "      <td>wheat flour</td>\n",
       "      <td>na</td>\n",
       "      <td>percent of population eating vehicle</td>\n",
       "      <td>0</td>\n",
       "      <td>NaN</td>\n",
       "      <td>[nan]</td>\n",
       "    </tr>\n",
       "    <tr>\n",
       "      <th>70</th>\n",
       "      <td>Vietnam</td>\n",
       "      <td>oil</td>\n",
       "      <td>na</td>\n",
       "      <td>percent of population eating vehicle</td>\n",
       "      <td>10</td>\n",
       "      <td>54.50</td>\n",
       "      <td>[91.5, 89.4, 38.3, 45.8, 28.9, 38.3, 41.5, 43....</td>\n",
       "    </tr>\n",
       "    <tr>\n",
       "      <th>71</th>\n",
       "      <td>Vietnam</td>\n",
       "      <td>wheat flour</td>\n",
       "      <td>na</td>\n",
       "      <td>percent of population eating vehicle</td>\n",
       "      <td>10</td>\n",
       "      <td>21.93</td>\n",
       "      <td>[4.2, 38.8, 46.7, 31.1, 16.4, 17.5, 9.6, 22.7,...</td>\n",
       "    </tr>\n",
       "  </tbody>\n",
       "</table>\n",
       "<p>72 rows × 7 columns</p>\n",
       "</div>"
      ],
      "text/plain": [
       "   location_name      vehicle nutrient                     value_description  \\\n",
       "0         Angola  maize flour       na  percent of population eating vehicle   \n",
       "1         Angola          oil       na  percent of population eating vehicle   \n",
       "2         Angola  wheat flour       na  percent of population eating vehicle   \n",
       "3     Bangladesh          oil       na  percent of population eating vehicle   \n",
       "4     Bangladesh  wheat flour       na  percent of population eating vehicle   \n",
       "..           ...          ...      ...                                   ...   \n",
       "67         Sudan  maize flour       na  percent of population eating vehicle   \n",
       "68         Sudan          oil       na  percent of population eating vehicle   \n",
       "69         Sudan  wheat flour       na  percent of population eating vehicle   \n",
       "70       Vietnam          oil       na  percent of population eating vehicle   \n",
       "71       Vietnam  wheat flour       na  percent of population eating vehicle   \n",
       "\n",
       "    n_data_points  mean_mean  \\\n",
       "0               0        NaN   \n",
       "1               0        NaN   \n",
       "2               0        NaN   \n",
       "3              10      80.78   \n",
       "4              12      62.35   \n",
       "..            ...        ...   \n",
       "67              0        NaN   \n",
       "68              0        NaN   \n",
       "69              0        NaN   \n",
       "70             10      54.50   \n",
       "71             10      21.93   \n",
       "\n",
       "                                          value_means  \n",
       "0                                               [nan]  \n",
       "1                                               [nan]  \n",
       "2                                               [nan]  \n",
       "3   [95.0, 89.0, 75.0, 95.0, 51.0, 59.0, 68.0, 76....  \n",
       "4   [40.0, 68.0, 63.0, 59.0, 70.0, 70.0, 77.0, 65....  \n",
       "..                                                ...  \n",
       "67                                              [nan]  \n",
       "68                                              [nan]  \n",
       "69                                              [nan]  \n",
       "70  [91.5, 89.4, 38.3, 45.8, 28.9, 38.3, 41.5, 43....  \n",
       "71  [4.2, 38.8, 46.7, 31.1, 16.4, 17.5, 9.6, 22.7,...  \n",
       "\n",
       "[72 rows x 7 columns]"
      ]
     },
     "execution_count": 25,
     "metadata": {},
     "output_type": "execute_result"
    }
   ],
   "source": [
    "eating_vehicle = eating_vehicle.merge(needs_pct_pop_eating_vehicle, on = ['location_name','vehicle'], how = 'right')\n",
    "eating_vehicle"
   ]
  },
  {
   "cell_type": "code",
   "execution_count": 26,
   "metadata": {},
   "outputs": [],
   "source": [
    "eating_vehicle.to_csv(save_dir + '/data_summary_percent_of_population_eating_vehicle.csv')"
   ]
  },
  {
   "cell_type": "markdown",
   "metadata": {},
   "source": [
    "## pct vehicle that is industrially produced"
   ]
  },
  {
   "cell_type": "code",
   "execution_count": 27,
   "metadata": {},
   "outputs": [],
   "source": [
    "vehicle_ind_prod = data_counts_all[data_counts_all.value_description==\"percent of vehicle that is industrially produced\"]"
   ]
  },
  {
   "cell_type": "code",
   "execution_count": 28,
   "metadata": {},
   "outputs": [],
   "source": [
    "vehicle_ind_prod = vehicle_ind_prod.merge(eating_ind_prod.loc[eating_ind_prod.n_data_points==0,['location_name','vehicle']], \n",
    "                       on = ['location_name','vehicle'], \n",
    "                       how = 'right')"
   ]
  },
  {
   "cell_type": "code",
   "execution_count": 29,
   "metadata": {},
   "outputs": [],
   "source": [
    "vehicle_ind_prod.to_csv(save_dir + '/data_summary_percent_of_vehicle_industrially_produced.csv')"
   ]
  },
  {
   "cell_type": "markdown",
   "metadata": {},
   "source": [
    "## pct vehicle fortified"
   ]
  },
  {
   "cell_type": "code",
   "execution_count": 30,
   "metadata": {},
   "outputs": [],
   "source": [
    "vehicle_fortified = data_counts_all[data_counts_all.value_description==\"percent of vehicle that is fortified\"]\n",
    "# eating_fortified.to_csv(save_dir + '/data_summary_percent_of_population_eating_fortified_vehicle.csv')"
   ]
  },
  {
   "cell_type": "code",
   "execution_count": 31,
   "metadata": {},
   "outputs": [],
   "source": [
    "vehicle_fortified = vehicle_fortified.merge(eating_fortified.loc[eating_fortified.n_data_points==0,['location_name','vehicle','nutrient']],\n",
    "                                           on = ['location_name','vehicle','nutrient'],\n",
    "                                           how = 'right')"
   ]
  },
  {
   "cell_type": "code",
   "execution_count": 32,
   "metadata": {},
   "outputs": [],
   "source": [
    "vehicle_fortified.to_csv(save_dir + '/data_summary_percent_of_vehicle_fortified.csv')"
   ]
  },
  {
   "cell_type": "code",
   "execution_count": 33,
   "metadata": {},
   "outputs": [
    {
     "data": {
      "text/html": [
       "<div>\n",
       "<style scoped>\n",
       "    .dataframe tbody tr th:only-of-type {\n",
       "        vertical-align: middle;\n",
       "    }\n",
       "\n",
       "    .dataframe tbody tr th {\n",
       "        vertical-align: top;\n",
       "    }\n",
       "\n",
       "    .dataframe thead th {\n",
       "        text-align: right;\n",
       "    }\n",
       "</style>\n",
       "<table border=\"1\" class=\"dataframe\">\n",
       "  <thead>\n",
       "    <tr style=\"text-align: right;\">\n",
       "      <th></th>\n",
       "      <th>location_name</th>\n",
       "      <th>vehicle</th>\n",
       "      <th>nutrient</th>\n",
       "      <th>value_description</th>\n",
       "      <th>n_data_points</th>\n",
       "      <th>mean_mean</th>\n",
       "      <th>value_means</th>\n",
       "    </tr>\n",
       "  </thead>\n",
       "  <tbody>\n",
       "    <tr>\n",
       "      <th>0</th>\n",
       "      <td>Angola</td>\n",
       "      <td>maize flour</td>\n",
       "      <td>folic acid</td>\n",
       "      <td>percent of vehicle that is fortified</td>\n",
       "      <td>0</td>\n",
       "      <td>NaN</td>\n",
       "      <td>[nan]</td>\n",
       "    </tr>\n",
       "    <tr>\n",
       "      <th>1</th>\n",
       "      <td>Angola</td>\n",
       "      <td>maize flour</td>\n",
       "      <td>iron</td>\n",
       "      <td>percent of vehicle that is fortified</td>\n",
       "      <td>0</td>\n",
       "      <td>NaN</td>\n",
       "      <td>[nan]</td>\n",
       "    </tr>\n",
       "    <tr>\n",
       "      <th>2</th>\n",
       "      <td>Angola</td>\n",
       "      <td>maize flour</td>\n",
       "      <td>vitamin a</td>\n",
       "      <td>percent of vehicle that is fortified</td>\n",
       "      <td>0</td>\n",
       "      <td>NaN</td>\n",
       "      <td>[nan]</td>\n",
       "    </tr>\n",
       "    <tr>\n",
       "      <th>3</th>\n",
       "      <td>Angola</td>\n",
       "      <td>maize flour</td>\n",
       "      <td>vitamin b1</td>\n",
       "      <td>percent of vehicle that is fortified</td>\n",
       "      <td>0</td>\n",
       "      <td>NaN</td>\n",
       "      <td>[nan]</td>\n",
       "    </tr>\n",
       "    <tr>\n",
       "      <th>4</th>\n",
       "      <td>Angola</td>\n",
       "      <td>maize flour</td>\n",
       "      <td>vitamin b12</td>\n",
       "      <td>percent of vehicle that is fortified</td>\n",
       "      <td>0</td>\n",
       "      <td>NaN</td>\n",
       "      <td>[nan]</td>\n",
       "    </tr>\n",
       "  </tbody>\n",
       "</table>\n",
       "</div>"
      ],
      "text/plain": [
       "  location_name      vehicle     nutrient  \\\n",
       "0        Angola  maize flour   folic acid   \n",
       "1        Angola  maize flour         iron   \n",
       "2        Angola  maize flour    vitamin a   \n",
       "3        Angola  maize flour   vitamin b1   \n",
       "4        Angola  maize flour  vitamin b12   \n",
       "\n",
       "                      value_description  n_data_points  mean_mean value_means  \n",
       "0  percent of vehicle that is fortified              0        NaN       [nan]  \n",
       "1  percent of vehicle that is fortified              0        NaN       [nan]  \n",
       "2  percent of vehicle that is fortified              0        NaN       [nan]  \n",
       "3  percent of vehicle that is fortified              0        NaN       [nan]  \n",
       "4  percent of vehicle that is fortified              0        NaN       [nan]  "
      ]
     },
     "execution_count": 33,
     "metadata": {},
     "output_type": "execute_result"
    }
   ],
   "source": [
    "vehicle_fortified.head()"
   ]
  },
  {
   "cell_type": "code",
   "execution_count": null,
   "metadata": {},
   "outputs": [],
   "source": []
  }
 ],
 "metadata": {
  "kernelspec": {
   "display_name": "Python 3",
   "language": "python",
   "name": "python3"
  },
  "language_info": {
   "codemirror_mode": {
    "name": "ipython",
    "version": 3
   },
   "file_extension": ".py",
   "mimetype": "text/x-python",
   "name": "python",
   "nbconvert_exporter": "python",
   "pygments_lexer": "ipython3",
   "version": "3.6.10"
  }
 },
 "nbformat": 4,
 "nbformat_minor": 4
}
