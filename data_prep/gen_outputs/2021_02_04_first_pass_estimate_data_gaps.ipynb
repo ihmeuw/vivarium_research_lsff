{
 "cells": [
  {
   "cell_type": "code",
   "execution_count": 1,
   "metadata": {},
   "outputs": [],
   "source": [
    "import pandas as pd, numpy as np, matplotlib.pyplot as plt"
   ]
  },
  {
   "cell_type": "markdown",
   "metadata": {},
   "source": [
    "# LSFF: Data gap filling with naive estimation\n"
   ]
  },
  {
   "cell_type": "code",
   "execution_count": 2,
   "metadata": {},
   "outputs": [],
   "source": [
    "## load legal combos\n",
    "import pickle\n",
    "data_prep_dir = '/ihme/homes/beatrixh/notebooks/viv_rsc/data_prep/inputs/'\n",
    "\n",
    "with open(data_prep_dir + 'lsff_vehicle_nutrient_pairs.pickle', 'rb') as handle:\n",
    "    vehicle_nutrient_map = pickle.load(handle)\n",
    "    \n",
    "with open(data_prep_dir + 'lsff_country_vehicle_pairs.pickle', 'rb') as handle:\n",
    "    country_vehicle_map = pickle.load(handle)\n",
    "    \n",
    "with open(data_prep_dir + 'lsff_vehicle_country_pairs.pickle', 'rb') as handle:\n",
    "    vehicle_country_map = pickle.load(handle)"
   ]
  },
  {
   "cell_type": "code",
   "execution_count": 3,
   "metadata": {},
   "outputs": [],
   "source": [
    "summary_path = '/ihme/homes/beatrixh/notebooks/viv_rsc/data_prep/outputs/data_counts_full.csv'\n",
    "summary = pd.read_csv(summary_path)\n",
    "\n",
    "## divide into value_descriptions to which the nutrient col is /isn't relevant\n",
    "\n",
    "nutr_a = summary[summary.nutrient!='na']\n",
    "nutr_na = summary[summary.nutrient=='na']\n",
    "\n",
    "nutr_a = pd.pivot_table(nutr_a, index = ['location_name','vehicle','nutrient'], columns = 'value_description', values = 'mean_mean', dropna=False).reset_index()\n",
    "nutr_na = pd.pivot_table(nutr_na, index = ['location_name','vehicle'], columns = 'value_description',values = 'mean_mean', dropna=False).reset_index()\n",
    "df = nutr_a.merge(nutr_na, on = ['location_name','vehicle'], how = 'outer')"
   ]
  },
  {
   "cell_type": "code",
   "execution_count": 4,
   "metadata": {},
   "outputs": [],
   "source": [
    "## filter back down to applicable variables\n",
    "\n",
    "country_veh_filter = [v in country_vehicle_map[c] for (v,c) in zip(df.vehicle,df.location_name)]\n",
    "vehicle_nutr_filter = [n in vehicle_nutrient_map[v] for (n,v) in zip(df.nutrient,df.vehicle)]\n",
    "\n",
    "df = df[[x and y for (x,y) in zip(country_veh_filter,vehicle_nutr_filter)]]"
   ]
  },
  {
   "cell_type": "code",
   "execution_count": 5,
   "metadata": {},
   "outputs": [],
   "source": [
    "value_d_codes = {'percent of population eating vehicle': 'A',\n",
    "                 'percent of population eating industrially produced vehicle': 'B',\n",
    "                 'percent of population eating fortified vehicle': 'C',\n",
    "                 'percent of vehicle that is industrially produced': 'D',\n",
    "                 'percent of vehicle that is fortified': 'E',\n",
    "                 'percent of market covered by fortified product': 'F'}\n",
    "df = df.rename(columns=value_d_codes)[['location_name','vehicle','nutrient','A','B','C','D','E','F']]"
   ]
  },
  {
   "cell_type": "code",
   "execution_count": 6,
   "metadata": {},
   "outputs": [
    {
     "data": {
      "text/html": [
       "<div>\n",
       "<style scoped>\n",
       "    .dataframe tbody tr th:only-of-type {\n",
       "        vertical-align: middle;\n",
       "    }\n",
       "\n",
       "    .dataframe tbody tr th {\n",
       "        vertical-align: top;\n",
       "    }\n",
       "\n",
       "    .dataframe thead th {\n",
       "        text-align: right;\n",
       "    }\n",
       "</style>\n",
       "<table border=\"1\" class=\"dataframe\">\n",
       "  <thead>\n",
       "    <tr style=\"text-align: right;\">\n",
       "      <th>value_description</th>\n",
       "      <th>location_name</th>\n",
       "      <th>vehicle</th>\n",
       "      <th>nutrient</th>\n",
       "      <th>A</th>\n",
       "      <th>B</th>\n",
       "      <th>C</th>\n",
       "      <th>D</th>\n",
       "      <th>E</th>\n",
       "      <th>F</th>\n",
       "    </tr>\n",
       "  </thead>\n",
       "  <tbody>\n",
       "    <tr>\n",
       "      <th>7</th>\n",
       "      <td>Angola</td>\n",
       "      <td>maize flour</td>\n",
       "      <td>folic acid</td>\n",
       "      <td>NaN</td>\n",
       "      <td>NaN</td>\n",
       "      <td>NaN</td>\n",
       "      <td>0.0</td>\n",
       "      <td>NaN</td>\n",
       "      <td>NaN</td>\n",
       "    </tr>\n",
       "    <tr>\n",
       "      <th>8</th>\n",
       "      <td>Angola</td>\n",
       "      <td>maize flour</td>\n",
       "      <td>iron</td>\n",
       "      <td>NaN</td>\n",
       "      <td>NaN</td>\n",
       "      <td>NaN</td>\n",
       "      <td>0.0</td>\n",
       "      <td>NaN</td>\n",
       "      <td>NaN</td>\n",
       "    </tr>\n",
       "    <tr>\n",
       "      <th>9</th>\n",
       "      <td>Angola</td>\n",
       "      <td>maize flour</td>\n",
       "      <td>vitamin a</td>\n",
       "      <td>NaN</td>\n",
       "      <td>NaN</td>\n",
       "      <td>NaN</td>\n",
       "      <td>0.0</td>\n",
       "      <td>NaN</td>\n",
       "      <td>NaN</td>\n",
       "    </tr>\n",
       "    <tr>\n",
       "      <th>10</th>\n",
       "      <td>Angola</td>\n",
       "      <td>maize flour</td>\n",
       "      <td>vitamin b1</td>\n",
       "      <td>NaN</td>\n",
       "      <td>NaN</td>\n",
       "      <td>NaN</td>\n",
       "      <td>0.0</td>\n",
       "      <td>NaN</td>\n",
       "      <td>NaN</td>\n",
       "    </tr>\n",
       "    <tr>\n",
       "      <th>11</th>\n",
       "      <td>Angola</td>\n",
       "      <td>maize flour</td>\n",
       "      <td>vitamin b12</td>\n",
       "      <td>NaN</td>\n",
       "      <td>NaN</td>\n",
       "      <td>NaN</td>\n",
       "      <td>0.0</td>\n",
       "      <td>NaN</td>\n",
       "      <td>NaN</td>\n",
       "    </tr>\n",
       "  </tbody>\n",
       "</table>\n",
       "</div>"
      ],
      "text/plain": [
       "value_description location_name      vehicle     nutrient   A   B   C    D  \\\n",
       "7                        Angola  maize flour   folic acid NaN NaN NaN  0.0   \n",
       "8                        Angola  maize flour         iron NaN NaN NaN  0.0   \n",
       "9                        Angola  maize flour    vitamin a NaN NaN NaN  0.0   \n",
       "10                       Angola  maize flour   vitamin b1 NaN NaN NaN  0.0   \n",
       "11                       Angola  maize flour  vitamin b12 NaN NaN NaN  0.0   \n",
       "\n",
       "value_description   E   F  \n",
       "7                 NaN NaN  \n",
       "8                 NaN NaN  \n",
       "9                 NaN NaN  \n",
       "10                NaN NaN  \n",
       "11                NaN NaN  "
      ]
     },
     "execution_count": 6,
     "metadata": {},
     "output_type": "execute_result"
    }
   ],
   "source": [
    "df.head()"
   ]
  },
  {
   "cell_type": "code",
   "execution_count": 7,
   "metadata": {},
   "outputs": [],
   "source": [
    "# A : \"percent of population eating vehicle\"\n",
    "# B : \"percent of population eating industrially produced vehicle\"\n",
    "# C : \"percent of population eating fortified vehicle\"\n",
    "\n",
    "# D : \"percent of vehicle that is industrially produced\"\n",
    "# E : \"percent of vehicle that is fortified\"\n",
    "\n",
    "# C_0 : guess of \"percent of population eating fortified vehicle\" based on a\n",
    "#       lack of evidence in the GFDx and data on other nutrient for the same loc-veh pair\n",
    "# E_0 : guess of percent of vehicle that is fortified, based on a lack of evidence in the GFDx\n",
    "#       and data on other nutrient for the same loc-veh pair\n",
    "\n",
    "# B_1: percent of pop eating vehicle * percent of vehicle that is industrially prod = A * D\n",
    "\n",
    "# C_1 : percent of population eating vehicle * percent of vehicle that is fortified = A * E\n",
    "# C_1_0: percent of population eating vehicle * guess of percent of vehicle that is fortified = A * E_0\n",
    "\n",
    "# C_2 : percent of population eating industrially produced vehicle * percent of vehicle that is fortified = B * E\n",
    "# C_2_0: percent of population eating ind prod vehicle * guess of percent of vehicle that is fortified = B * E_0\n",
    "\n",
    "# C_3 : percent of population eating vehicle * percent of vehicle that is industrially prod\n",
    "#                                           * percent of vehicle that is fortified = A * D * E\n",
    "# C_3_0 : percent of population eating vehicle * percent of vehicle that is industrially prod\n",
    "#                                           * guess of percent of vehicle that is fortified = A * D * E_0"
   ]
  },
  {
   "cell_type": "code",
   "execution_count": 8,
   "metadata": {},
   "outputs": [],
   "source": [
    "# run diagnostics on these and then choose or average some. always perfer A/B/C to estimates."
   ]
  },
  {
   "cell_type": "code",
   "execution_count": 9,
   "metadata": {},
   "outputs": [],
   "source": [
    "def pull_fort_legislation():\n",
    "    fort_legislation_path = '/snfs1/Project/simulation_science/lsff/01_LSFF_GBD_2019/fortification_legislation_data.csv'\n",
    "    df = pd.read_csv(fort_legislation_path, encoding = 'iso-8859-1')\n",
    "\n",
    "    nutrient_rename = {i:i.lower() for i in df.Micronutrient.unique()}\n",
    "    vehicle_rename = {i:i.lower() for i in df.Vehicle.unique()}\n",
    "    loc_rename = {'Cote d\\x92Ivoire':\"Côte d'Ivoire\", 'Tanzania':\"United Republic of Tanzania\", 'Viet Nam':\"Vietnam\"}\n",
    "\n",
    "    df['nutrient'] = df.Micronutrient.map(nutrient_rename)\n",
    "    df['vehicle'] = df.Vehicle.map(vehicle_rename)\n",
    "    df['location_name'] = df.Country\n",
    "    df.loc[df.location_name.isin(loc_rename.keys()),'location_name'] = df.location_name.map(loc_rename)\n",
    "    df.rename(columns={'Standard':'standard'}, inplace=True)\n",
    "\n",
    "    return df[['location_name','vehicle','nutrient','standard']]\n",
    "\n",
    "fort_legislation = pull_fort_legislation()"
   ]
  },
  {
   "cell_type": "code",
   "execution_count": 10,
   "metadata": {},
   "outputs": [],
   "source": [
    "df = fort_legislation.merge(df, on = ['location_name','vehicle','nutrient'], how = 'right')"
   ]
  },
  {
   "cell_type": "code",
   "execution_count": 11,
   "metadata": {},
   "outputs": [],
   "source": [
    "## make sure all tuples are still valid\n",
    "\n",
    "country_veh_filter = [v in country_vehicle_map[c] for (v,c) in zip(df.vehicle,df.location_name)]\n",
    "vehicle_nutr_filter = [n in vehicle_nutrient_map[v] for (n,v) in zip(df.nutrient,df.vehicle)]\n",
    "\n",
    "assert(len(df[[not (x and y) for (x,y) in zip(country_veh_filter,vehicle_nutr_filter)]])==0)"
   ]
  },
  {
   "cell_type": "code",
   "execution_count": 12,
   "metadata": {},
   "outputs": [
    {
     "data": {
      "text/plain": [
       "array(['Unknown', nan, 'Mandatory', 'Voluntary', 'None',\n",
       "       'Mandatory in Punjab only'], dtype=object)"
      ]
     },
     "execution_count": 12,
     "metadata": {},
     "output_type": "execute_result"
    }
   ],
   "source": [
    "df.standard.unique()"
   ]
  },
  {
   "cell_type": "code",
   "execution_count": 13,
   "metadata": {},
   "outputs": [],
   "source": [
    "# if not mandatory, we'll guess pct fortified = 0\n",
    "df.loc[(df.standard!='Mandatory'),'C_0'] = 0\n",
    "df.loc[(df.standard!='Mandatory'),'E_0'] = 0"
   ]
  },
  {
   "cell_type": "code",
   "execution_count": 14,
   "metadata": {},
   "outputs": [],
   "source": [
    "#for each location\n",
    "    #for each vehicle\n",
    "        #for a nutrient_i:\n",
    "            #if the GFDx has evidence of mandatory loc-veh-nutrient_i fortification\n",
    "                #if we don't have data for loc-veh-nutrient_i\n",
    "                    #if we do have data for loc-veh-{nutrient_j,k,...,n}:\n",
    "                        # assign mean(loc-veh-{nutrient_j,k,...,n}) to nutrient_i"
   ]
  },
  {
   "cell_type": "code",
   "execution_count": 15,
   "metadata": {},
   "outputs": [],
   "source": [
    "count_c, count_e = 0, 0\n",
    "for loc in df.location_name.unique():\n",
    "    for v in country_vehicle_map[loc]:\n",
    "        for n in vehicle_nutrient_map[v]:\n",
    "#             if there is evidence of Mandatory fortification for this tuple\n",
    "            if df.loc[(df.location_name==loc) &\n",
    "                      (df.vehicle==v) &\n",
    "                      (df.nutrient==n) &\n",
    "                      (df.standard==\"Mandatory\")].shape[0]>0:\n",
    "                mean_C = df.loc[(df.location_name==loc) &\n",
    "                      (df.vehicle==v) &\n",
    "                      (df.nutrient==n) &\n",
    "                        (df.standard==\"Mandatory\"),'C'].mean()\n",
    "                mean_E = df.loc[(df.location_name==loc) &\n",
    "                      (df.vehicle==v) &\n",
    "                      (df.nutrient==n) &\n",
    "                        (df.standard==\"Mandatory\"),'E'].mean()\n",
    "                if not np.isnan(mean_C):\n",
    "                    count_c += 1\n",
    "                    df.loc[(df.location_name==loc) &\n",
    "                      (df.vehicle==v) &\n",
    "                      (df.nutrient==n) &\n",
    "                      (df.standard==\"Mandatory\"),'C_0'] = mean_C\n",
    "                if not np.isnan(mean_E):\n",
    "                    count_e += 1\n",
    "                    df.loc[(df.location_name==loc) &\n",
    "                      (df.vehicle==v) &\n",
    "                      (df.nutrient==n) &\n",
    "                      (df.standard==\"Mandatory\"),'E_0'] = mean_E"
   ]
  },
  {
   "cell_type": "code",
   "execution_count": 16,
   "metadata": {},
   "outputs": [
    {
     "data": {
      "text/plain": [
       "(55, 79)"
      ]
     },
     "execution_count": 16,
     "metadata": {},
     "output_type": "execute_result"
    }
   ],
   "source": [
    "count_c, count_e"
   ]
  },
  {
   "cell_type": "code",
   "execution_count": 17,
   "metadata": {},
   "outputs": [],
   "source": [
    "# A : \"percent of population eating vehicle\"\n",
    "# B : \"percent of population eating industrially produced vehicle\"\n",
    "# C : \"percent of population eating fortified vehicle\"\n",
    "\n",
    "# D : \"percent of vehicle that is industrially produced\"\n",
    "# E : \"percent of vehicle that is fortified\"\n",
    "\n",
    "# C_0 : guess of \"percent of population eating fortified vehicle\" based on a\n",
    "#       lack of evidence in the GFDx and data on other nutrient for the same loc-veh pair\n",
    "# E_0 : guess of percent of vehicle that is fortified, based on a lack of evidence in the GFDx\n",
    "#       and data on other nutrient for the same loc-veh pair\n",
    "\n",
    "# B_1: percent of pop eating vehicle * percent of vehicle that is industrially prod = A * D\n",
    "\n",
    "# C_1 : percent of population eating vehicle * percent of vehicle that is fortified = A * E\n",
    "# C_1_0: percent of population eating vehicle * guess of percent of vehicle that is fortified = A * E_0\n",
    "\n",
    "# C_2 : percent of population eating industrially produced vehicle * percent of vehicle that is fortified = B * E\n",
    "# C_2_0: percent of population eating ind prod vehicle * guess of percent of vehicle that is fortified = B * E_0\n",
    "\n",
    "# C_3 : percent of population eating vehicle * percent of vehicle that is industrially prod\n",
    "#                                           * percent of vehicle that is fortified = A * D * E\n",
    "# C_3_0 : percent of population eating vehicle * percent of vehicle that is industrially prod\n",
    "#                                           * guess of percent of vehicle that is fortified = A * D * E_0"
   ]
  },
  {
   "cell_type": "code",
   "execution_count": 18,
   "metadata": {},
   "outputs": [],
   "source": [
    "df.loc[(df.A.notna()) & (df.D.notna()),'B_1'] = df.A * df.D *.01\n",
    "\n",
    "df.loc[(df.A.notna()) & (df.E.notna()),'C_1'] = df.A * df.E *.01\n",
    "df.loc[(df.A.notna()) & (df.E_0.notna()),'C_1_0'] = df.A * df.E_0 *.01\n",
    "\n",
    "df.loc[(df.B.notna()) & (df.E.notna()),'C_2'] = df.B * df.E *.01\n",
    "df.loc[(df.B.notna()) & (df.E_0.notna()),'C_2_0'] = df.B * df.E_0 *.01\n",
    "\n",
    "df.loc[(df.A.notna()) & (df.D.notna()) & (df.E_0.notna()),'C_3'] = df.A * df.D * df.E_0 * .0001\n",
    "df.loc[(df.A.notna()) & (df.D.notna()) & (df.E_0.notna()),'C_3_0'] = df.A * df.D * df.E_0 * .0001"
   ]
  },
  {
   "cell_type": "code",
   "execution_count": 19,
   "metadata": {},
   "outputs": [],
   "source": [
    "def abs_error(df, x):\n",
    "    ref = x[6:7]\n",
    "    est = x[6:]\n",
    "    df.loc[(df[ref].notna()) & (df[est].notna()),x] = np.abs(df[ref] - df[est])\n",
    "    return df\n",
    "\n",
    "\n",
    "errors = [f'error_{i}' for i in ['B_1','C_1','C_1_0','C_2','C_2_0','C_3','C_3_0']]\n",
    "\n",
    "for x in errors:\n",
    "    df = abs_error(df, x)"
   ]
  },
  {
   "cell_type": "code",
   "execution_count": 20,
   "metadata": {},
   "outputs": [
    {
     "data": {
      "text/html": [
       "<div>\n",
       "<style scoped>\n",
       "    .dataframe tbody tr th:only-of-type {\n",
       "        vertical-align: middle;\n",
       "    }\n",
       "\n",
       "    .dataframe tbody tr th {\n",
       "        vertical-align: top;\n",
       "    }\n",
       "\n",
       "    .dataframe thead th {\n",
       "        text-align: right;\n",
       "    }\n",
       "</style>\n",
       "<table border=\"1\" class=\"dataframe\">\n",
       "  <thead>\n",
       "    <tr style=\"text-align: right;\">\n",
       "      <th></th>\n",
       "      <th>error_B_1</th>\n",
       "      <th>error_C_1</th>\n",
       "      <th>error_C_1_0</th>\n",
       "      <th>error_C_2</th>\n",
       "      <th>error_C_2_0</th>\n",
       "      <th>error_C_3</th>\n",
       "      <th>error_C_3_0</th>\n",
       "    </tr>\n",
       "  </thead>\n",
       "  <tbody>\n",
       "    <tr>\n",
       "      <th>count</th>\n",
       "      <td>107.000000</td>\n",
       "      <td>22.000000</td>\n",
       "      <td>36.000000</td>\n",
       "      <td>20.000000</td>\n",
       "      <td>34.000000</td>\n",
       "      <td>25.000000</td>\n",
       "      <td>25.000000</td>\n",
       "    </tr>\n",
       "    <tr>\n",
       "      <th>mean</th>\n",
       "      <td>18.494926</td>\n",
       "      <td>24.379844</td>\n",
       "      <td>16.730053</td>\n",
       "      <td>14.311700</td>\n",
       "      <td>10.223333</td>\n",
       "      <td>5.882613</td>\n",
       "      <td>5.882613</td>\n",
       "    </tr>\n",
       "    <tr>\n",
       "      <th>std</th>\n",
       "      <td>22.058740</td>\n",
       "      <td>19.585054</td>\n",
       "      <td>18.772061</td>\n",
       "      <td>13.607736</td>\n",
       "      <td>12.661566</td>\n",
       "      <td>6.032217</td>\n",
       "      <td>6.032217</td>\n",
       "    </tr>\n",
       "    <tr>\n",
       "      <th>min</th>\n",
       "      <td>0.000000</td>\n",
       "      <td>2.650000</td>\n",
       "      <td>0.000000</td>\n",
       "      <td>2.650000</td>\n",
       "      <td>0.000000</td>\n",
       "      <td>0.000000</td>\n",
       "      <td>0.000000</td>\n",
       "    </tr>\n",
       "    <tr>\n",
       "      <th>25%</th>\n",
       "      <td>2.455833</td>\n",
       "      <td>4.636000</td>\n",
       "      <td>2.125000</td>\n",
       "      <td>3.786500</td>\n",
       "      <td>1.375000</td>\n",
       "      <td>2.500000</td>\n",
       "      <td>2.500000</td>\n",
       "    </tr>\n",
       "    <tr>\n",
       "      <th>50%</th>\n",
       "      <td>9.733333</td>\n",
       "      <td>30.870000</td>\n",
       "      <td>6.172000</td>\n",
       "      <td>6.158000</td>\n",
       "      <td>4.387667</td>\n",
       "      <td>5.333333</td>\n",
       "      <td>5.333333</td>\n",
       "    </tr>\n",
       "    <tr>\n",
       "      <th>75%</th>\n",
       "      <td>24.187500</td>\n",
       "      <td>34.770000</td>\n",
       "      <td>30.870000</td>\n",
       "      <td>30.790000</td>\n",
       "      <td>21.209500</td>\n",
       "      <td>6.300000</td>\n",
       "      <td>6.300000</td>\n",
       "    </tr>\n",
       "    <tr>\n",
       "      <th>max</th>\n",
       "      <td>92.765000</td>\n",
       "      <td>62.394583</td>\n",
       "      <td>62.394583</td>\n",
       "      <td>37.320000</td>\n",
       "      <td>37.320000</td>\n",
       "      <td>27.800000</td>\n",
       "      <td>27.800000</td>\n",
       "    </tr>\n",
       "  </tbody>\n",
       "</table>\n",
       "</div>"
      ],
      "text/plain": [
       "        error_B_1  error_C_1  error_C_1_0  error_C_2  error_C_2_0  error_C_3  \\\n",
       "count  107.000000  22.000000    36.000000  20.000000    34.000000  25.000000   \n",
       "mean    18.494926  24.379844    16.730053  14.311700    10.223333   5.882613   \n",
       "std     22.058740  19.585054    18.772061  13.607736    12.661566   6.032217   \n",
       "min      0.000000   2.650000     0.000000   2.650000     0.000000   0.000000   \n",
       "25%      2.455833   4.636000     2.125000   3.786500     1.375000   2.500000   \n",
       "50%      9.733333  30.870000     6.172000   6.158000     4.387667   5.333333   \n",
       "75%     24.187500  34.770000    30.870000  30.790000    21.209500   6.300000   \n",
       "max     92.765000  62.394583    62.394583  37.320000    37.320000  27.800000   \n",
       "\n",
       "       error_C_3_0  \n",
       "count    25.000000  \n",
       "mean      5.882613  \n",
       "std       6.032217  \n",
       "min       0.000000  \n",
       "25%       2.500000  \n",
       "50%       5.333333  \n",
       "75%       6.300000  \n",
       "max      27.800000  "
      ]
     },
     "execution_count": 20,
     "metadata": {},
     "output_type": "execute_result"
    }
   ],
   "source": [
    "df[errors].describe()"
   ]
  },
  {
   "cell_type": "code",
   "execution_count": 21,
   "metadata": {},
   "outputs": [
    {
     "data": {
      "image/png": "[encoded data removed]",
      "text/plain": [
       "<Figure size 432x288 with 1 Axes>"
      ]
     },
     "metadata": {
      "needs_background": "light"
     },
     "output_type": "display_data"
    },
    {
     "data": {
      "image/png": "[encoded data removed]",
      "text/plain": [
       "<Figure size 432x288 with 1 Axes>"
      ]
     },
     "metadata": {
      "needs_background": "light"
     },
     "output_type": "display_data"
    }
   ],
   "source": [
    "plt.title('Error distribution: Estimating percent of population eating industrially produced vehicle')\n",
    "plt.hist(df.error_B_1, label = \"B_1\")\n",
    "plt.legend()\n",
    "plt.show()\n",
    "\n",
    "plt.title('Error distribution: Estimating percent of population eating fortified vehicle')\n",
    "for x in errors[1:]:\n",
    "    plt.hist(df[x], alpha = 0.7, label = x)\n",
    "    \n",
    "plt.legend()\n",
    "plt.show()"
   ]
  },
  {
   "cell_type": "code",
   "execution_count": 22,
   "metadata": {},
   "outputs": [],
   "source": [
    "def checkout_metrics(df, x):\n",
    "    out = pd.DataFrame({\n",
    "        'col':[x],\n",
    "        'error_rate':[df[x].sum() / len(df[x].notna())],\n",
    "        'sample_size':[sum(df[x].notna())],\n",
    "        'total_relative_error':[df[errors].dropna().sum()[x]],\n",
    "        'total_absolute_error':[df[x].sum()]\n",
    "    })\n",
    "    return out"
   ]
  },
  {
   "cell_type": "code",
   "execution_count": 23,
   "metadata": {},
   "outputs": [
    {
     "data": {
      "text/html": [
       "<div>\n",
       "<style scoped>\n",
       "    .dataframe tbody tr th:only-of-type {\n",
       "        vertical-align: middle;\n",
       "    }\n",
       "\n",
       "    .dataframe tbody tr th {\n",
       "        vertical-align: top;\n",
       "    }\n",
       "\n",
       "    .dataframe thead th {\n",
       "        text-align: right;\n",
       "    }\n",
       "</style>\n",
       "<table border=\"1\" class=\"dataframe\">\n",
       "  <thead>\n",
       "    <tr style=\"text-align: right;\">\n",
       "      <th></th>\n",
       "      <th>col</th>\n",
       "      <th>error_rate</th>\n",
       "      <th>sample_size</th>\n",
       "      <th>total_relative_error</th>\n",
       "      <th>total_absolute_error</th>\n",
       "    </tr>\n",
       "  </thead>\n",
       "  <tbody>\n",
       "    <tr>\n",
       "      <th>0</th>\n",
       "      <td>error_C_1</td>\n",
       "      <td>1.528081</td>\n",
       "      <td>22</td>\n",
       "      <td>323.818</td>\n",
       "      <td>536.356577</td>\n",
       "    </tr>\n",
       "    <tr>\n",
       "      <th>0</th>\n",
       "      <td>error_C_1_0</td>\n",
       "      <td>1.715903</td>\n",
       "      <td>36</td>\n",
       "      <td>328.810</td>\n",
       "      <td>602.281910</td>\n",
       "    </tr>\n",
       "    <tr>\n",
       "      <th>0</th>\n",
       "      <td>error_C_2</td>\n",
       "      <td>0.815481</td>\n",
       "      <td>20</td>\n",
       "      <td>236.824</td>\n",
       "      <td>286.234000</td>\n",
       "    </tr>\n",
       "    <tr>\n",
       "      <th>0</th>\n",
       "      <td>error_C_2_0</td>\n",
       "      <td>0.990294</td>\n",
       "      <td>34</td>\n",
       "      <td>237.250</td>\n",
       "      <td>347.593333</td>\n",
       "    </tr>\n",
       "    <tr>\n",
       "      <th>0</th>\n",
       "      <td>error_C_3</td>\n",
       "      <td>0.418990</td>\n",
       "      <td>25</td>\n",
       "      <td>135.732</td>\n",
       "      <td>147.065333</td>\n",
       "    </tr>\n",
       "    <tr>\n",
       "      <th>0</th>\n",
       "      <td>error_C_3_0</td>\n",
       "      <td>0.418990</td>\n",
       "      <td>25</td>\n",
       "      <td>135.732</td>\n",
       "      <td>147.065333</td>\n",
       "    </tr>\n",
       "  </tbody>\n",
       "</table>\n",
       "</div>"
      ],
      "text/plain": [
       "           col  error_rate  sample_size  total_relative_error  \\\n",
       "0    error_C_1    1.528081           22               323.818   \n",
       "0  error_C_1_0    1.715903           36               328.810   \n",
       "0    error_C_2    0.815481           20               236.824   \n",
       "0  error_C_2_0    0.990294           34               237.250   \n",
       "0    error_C_3    0.418990           25               135.732   \n",
       "0  error_C_3_0    0.418990           25               135.732   \n",
       "\n",
       "   total_absolute_error  \n",
       "0            536.356577  \n",
       "0            602.281910  \n",
       "0            286.234000  \n",
       "0            347.593333  \n",
       "0            147.065333  \n",
       "0            147.065333  "
      ]
     },
     "execution_count": 23,
     "metadata": {},
     "output_type": "execute_result"
    }
   ],
   "source": [
    "metrics = pd.concat([checkout_metrics(df, x) for x in errors[1:]])\n",
    "metrics"
   ]
  },
  {
   "cell_type": "code",
   "execution_count": 24,
   "metadata": {},
   "outputs": [],
   "source": [
    "save_path = 'problem_data.csv'"
   ]
  },
  {
   "cell_type": "code",
   "execution_count": 25,
   "metadata": {},
   "outputs": [],
   "source": [
    "df[(df.A < df.B)].to_csv(save_path, index = False)"
   ]
  },
  {
   "cell_type": "code",
   "execution_count": 24,
   "metadata": {},
   "outputs": [],
   "source": [
    "c_estimates = ['C_1','C_1_0','C_2','C_2_0','C_3','C_3_0']\n",
    "df['C_n'] = df[c_estimates].mean(axis=1)"
   ]
  },
  {
   "cell_type": "code",
   "execution_count": 25,
   "metadata": {},
   "outputs": [],
   "source": [
    "df['A_final'] = df.A"
   ]
  },
  {
   "cell_type": "code",
   "execution_count": 26,
   "metadata": {},
   "outputs": [],
   "source": [
    "df['B_final'] = [b if pd.notna(b) else b1 for (b,b1) in zip(df.B,df.B_1)]"
   ]
  },
  {
   "cell_type": "code",
   "execution_count": 27,
   "metadata": {},
   "outputs": [],
   "source": [
    "df['C_final'] = [c if pd.notna(c) else cn for (c,cn) in zip(df.C,df.C_n)]"
   ]
  },
  {
   "cell_type": "code",
   "execution_count": 28,
   "metadata": {},
   "outputs": [
    {
     "name": "stderr",
     "output_type": "stream",
     "text": [
      "/share/code/beatrixh/miniconda/envs/gis/lib/python3.6/site-packages/pandas/core/frame.py:4133: SettingWithCopyWarning: \n",
      "A value is trying to be set on a copy of a slice from a DataFrame\n",
      "\n",
      "See the caveats in the documentation: https://pandas.pydata.org/pandas-docs/stable/user_guide/indexing.html#returning-a-view-versus-a-copy\n",
      "  errors=errors,\n"
     ]
    }
   ],
   "source": [
    "output = df[['location_name', 'vehicle', 'nutrient', 'standard','A_final','B_final','C_final']]\n",
    "output.rename(columns = {'A_final':'A',\n",
    "                        'B_final':'B',\n",
    "                        'C_final':'C'}, inplace = True)"
   ]
  },
  {
   "cell_type": "code",
   "execution_count": 34,
   "metadata": {},
   "outputs": [
    {
     "data": {
      "text/plain": [
       "{'percent of population eating vehicle': 'A',\n",
       " 'percent of population eating industrially produced vehicle': 'B',\n",
       " 'percent of population eating fortified vehicle': 'C',\n",
       " 'percent of vehicle that is industrially produced': 'D',\n",
       " 'percent of vehicle that is fortified': 'E',\n",
       " 'percent of market covered by fortified product': 'F'}"
      ]
     },
     "execution_count": 34,
     "metadata": {},
     "output_type": "execute_result"
    }
   ],
   "source": [
    "value_d_codes"
   ]
  },
  {
   "cell_type": "code",
   "execution_count": 29,
   "metadata": {},
   "outputs": [],
   "source": [
    "inverse_value_d_codes = {v:k for (k,v) in zip(value_d_codes.keys(),value_d_codes.values())}\n",
    "\n",
    "output.rename(columns = inverse_value_d_codes, inplace = True)"
   ]
  },
  {
   "cell_type": "code",
   "execution_count": 30,
   "metadata": {},
   "outputs": [],
   "source": [
    "## make sure all tuples are still valid\n",
    "\n",
    "country_veh_filter = [v in country_vehicle_map[c] for (v,c) in zip(df.vehicle,df.location_name)]\n",
    "vehicle_nutr_filter = [n in vehicle_nutrient_map[v] for (n,v) in zip(df.nutrient,df.vehicle)]\n",
    "\n",
    "assert(len(df[[not (x and y) for (x,y) in zip(country_veh_filter,vehicle_nutr_filter)]])==0)"
   ]
  },
  {
   "cell_type": "code",
   "execution_count": 31,
   "metadata": {},
   "outputs": [],
   "source": [
    "save_path = '/ihme/homes/beatrixh/notebooks/viv_rsc/data_prep/outputs/lsff_data_estimated.csv'"
   ]
  },
  {
   "cell_type": "code",
   "execution_count": 33,
   "metadata": {},
   "outputs": [],
   "source": [
    "output.to_csv(save_path, index = False)"
   ]
  },
  {
   "cell_type": "code",
   "execution_count": null,
   "metadata": {},
   "outputs": [],
   "source": []
  }
 ],
 "metadata": {
  "kernelspec": {
   "display_name": "Python 3",
   "language": "python",
   "name": "python3"
  },
  "language_info": {
   "codemirror_mode": {
    "name": "ipython",
    "version": 3
   },
   "file_extension": ".py",
   "mimetype": "text/x-python",
   "name": "python",
   "nbconvert_exporter": "python",
   "pygments_lexer": "ipython3",
   "version": "3.6.11"
  }
 },
 "nbformat": 4,
 "nbformat_minor": 4
}
