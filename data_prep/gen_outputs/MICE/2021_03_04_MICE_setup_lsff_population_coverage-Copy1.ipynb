{
 "cells": [
  {
   "cell_type": "code",
   "execution_count": 1,
   "metadata": {},
   "outputs": [
    {
     "name": "stdout",
     "output_type": "stream",
     "text": [
      "Fri Mar  5 11:32:57 PST 2021\r\n"
     ]
    }
   ],
   "source": [
    "import numpy as np, matplotlib.pyplot as plt, pandas as pd\n",
    "pd.set_option('display.max_rows', 8)\n",
    "!date\n",
    "\n",
    "%load_ext autoreload\n",
    "%autoreload 2"
   ]
  },
  {
   "cell_type": "code",
   "execution_count": 2,
   "metadata": {},
   "outputs": [],
   "source": [
    "# ## TODO\n",
    "\n",
    "# pull sdi and other missing covariates\n",
    "\n",
    "# shift, logit transform pct pop eating vehicle\n",
    "# impute missing vals for logical set of covariates (watch for covariance)\n",
    "# run a linear regression by vehicle\n",
    "\n",
    "# use outputs to predict pct pop eating vehicle / pct pop eating ind prod vehicle, shifted and logit transformed\n",
    "\n",
    "# then finally ind prod / fortified, same method\n",
    "\n",
    "# --- \n",
    "\n",
    "# updates and adjustments can include gradient boosting and throwing in more/all covariates\n",
    "# clipping as opposed to shifted logit\n"
   ]
  },
  {
   "cell_type": "code",
   "execution_count": 3,
   "metadata": {},
   "outputs": [],
   "source": [
    "data_path = '/ihme/homes/beatrixh/vivarium_research_lsff/data_prep/outputs/lsff_data_estimated.csv'\n",
    "\n",
    "# df = pd.read_csv(data_path)\n",
    "df = pd.read_csv('test_add_gbd_covs.csv')"
   ]
  },
  {
   "cell_type": "code",
   "execution_count": 4,
   "metadata": {},
   "outputs": [],
   "source": [
    "fao_path = '/ihme/homes/beatrixh/vivarium_research_lsff/data_prep/inputs/FAOSTAT_food_supply_aggregated_oil_2018.csv'\n",
    "# fao_path = '/ihme/homes/beatrixh/vivarium_research_lsff/data_prep/inputs/FAOSTAT_food_supply_2018.csv'\n",
    "fao = pd.read_csv(fao_path)"
   ]
  },
  {
   "cell_type": "code",
   "execution_count": 5,
   "metadata": {},
   "outputs": [],
   "source": [
    "fao.loc[(fao.location_name==\"Viet Nam\"),'location_name'] = \"Vietnam\""
   ]
  },
  {
   "cell_type": "code",
   "execution_count": 6,
   "metadata": {},
   "outputs": [],
   "source": [
    "df = df.merge(fao, on = 'location_name', how = 'left')"
   ]
  },
  {
   "cell_type": "code",
   "execution_count": 7,
   "metadata": {},
   "outputs": [],
   "source": [
    "df = df.drop(columns=['standard'])"
   ]
  },
  {
   "cell_type": "code",
   "execution_count": 8,
   "metadata": {},
   "outputs": [],
   "source": [
    "# df = df[df.vehicle==\"wheat flour\"].drop(columns=['sodium'])"
   ]
  },
  {
   "cell_type": "code",
   "execution_count": 9,
   "metadata": {},
   "outputs": [
    {
     "data": {
      "text/plain": [
       "Index(['location_name', 'vehicle', 'nutrient',\n",
       "       'percent of population eating vehicle',\n",
       "       'percent of population eating industrially produced vehicle',\n",
       "       'percent of population eating fortified vehicle', 'location_id',\n",
       "       'sodium', 'whole_grains', 'sdi', 'hh_salt', 'fao_maize_and_products',\n",
       "       'fao_rice_and_products', 'fao_wheat_and_products', 'fao_oil_all'],\n",
       "      dtype='object')"
      ]
     },
     "execution_count": 9,
     "metadata": {},
     "output_type": "execute_result"
    }
   ],
   "source": [
    "df.columns"
   ]
  },
  {
   "cell_type": "code",
   "execution_count": 10,
   "metadata": {},
   "outputs": [],
   "source": [
    "nlocs = df.location_name.nunique()\n",
    "loc_map = {i:j for (i,j) in zip(df.location_name.unique(),np.random.choice(nlocs, size = nlocs, replace = False))}"
   ]
  },
  {
   "cell_type": "code",
   "execution_count": 11,
   "metadata": {},
   "outputs": [],
   "source": [
    "nvehs = df.vehicle.nunique()\n",
    "vcl_map = {i:j for (i,j) in zip(df.vehicle.unique(),np.random.choice(nvehs, size = nvehs, replace = False))}"
   ]
  },
  {
   "cell_type": "code",
   "execution_count": 12,
   "metadata": {},
   "outputs": [],
   "source": [
    "nnutrs = df.nutrient.nunique()\n",
    "nut_map = {i:j for (i,j) in zip(df.nutrient.unique(),np.random.choice(nnutrs, size = nnutrs, replace = False))}"
   ]
  },
  {
   "cell_type": "code",
   "execution_count": 13,
   "metadata": {},
   "outputs": [],
   "source": [
    "df_numeric = df.copy()\n",
    "df_numeric['location_name'] = df_numeric.location_name.map(loc_map)\n",
    "df_numeric['vehicle'] = df_numeric.vehicle.map(vcl_map)\n",
    "df_numeric['nutrient'] = df_numeric.nutrient.map(nut_map)"
   ]
  },
  {
   "cell_type": "code",
   "execution_count": 14,
   "metadata": {},
   "outputs": [
    {
     "data": {
      "text/html": [
       "<div>\n",
       "<style scoped>\n",
       "    .dataframe tbody tr th:only-of-type {\n",
       "        vertical-align: middle;\n",
       "    }\n",
       "\n",
       "    .dataframe tbody tr th {\n",
       "        vertical-align: top;\n",
       "    }\n",
       "\n",
       "    .dataframe thead th {\n",
       "        text-align: right;\n",
       "    }\n",
       "</style>\n",
       "<table border=\"1\" class=\"dataframe\">\n",
       "  <thead>\n",
       "    <tr style=\"text-align: right;\">\n",
       "      <th></th>\n",
       "      <th>location_name</th>\n",
       "      <th>vehicle</th>\n",
       "      <th>nutrient</th>\n",
       "      <th>percent of population eating vehicle</th>\n",
       "      <th>percent of population eating industrially produced vehicle</th>\n",
       "      <th>percent of population eating fortified vehicle</th>\n",
       "      <th>location_id</th>\n",
       "      <th>sodium</th>\n",
       "      <th>whole_grains</th>\n",
       "      <th>sdi</th>\n",
       "      <th>hh_salt</th>\n",
       "      <th>fao_maize_and_products</th>\n",
       "      <th>fao_rice_and_products</th>\n",
       "      <th>fao_wheat_and_products</th>\n",
       "      <th>fao_oil_all</th>\n",
       "    </tr>\n",
       "  </thead>\n",
       "  <tbody>\n",
       "    <tr>\n",
       "      <th>0</th>\n",
       "      <td>0</td>\n",
       "      <td>2</td>\n",
       "      <td>3</td>\n",
       "      <td>NaN</td>\n",
       "      <td>NaN</td>\n",
       "      <td>NaN</td>\n",
       "      <td>168</td>\n",
       "      <td>0.981117</td>\n",
       "      <td>8.87061</td>\n",
       "      <td>0.464635</td>\n",
       "      <td>0.805634</td>\n",
       "      <td>415.0</td>\n",
       "      <td>80.0</td>\n",
       "      <td>256.0</td>\n",
       "      <td>282.0</td>\n",
       "    </tr>\n",
       "    <tr>\n",
       "      <th>1</th>\n",
       "      <td>0</td>\n",
       "      <td>2</td>\n",
       "      <td>0</td>\n",
       "      <td>NaN</td>\n",
       "      <td>NaN</td>\n",
       "      <td>NaN</td>\n",
       "      <td>168</td>\n",
       "      <td>0.981117</td>\n",
       "      <td>8.87061</td>\n",
       "      <td>0.464635</td>\n",
       "      <td>0.805634</td>\n",
       "      <td>415.0</td>\n",
       "      <td>80.0</td>\n",
       "      <td>256.0</td>\n",
       "      <td>282.0</td>\n",
       "    </tr>\n",
       "    <tr>\n",
       "      <th>2</th>\n",
       "      <td>0</td>\n",
       "      <td>2</td>\n",
       "      <td>6</td>\n",
       "      <td>NaN</td>\n",
       "      <td>NaN</td>\n",
       "      <td>NaN</td>\n",
       "      <td>168</td>\n",
       "      <td>0.981117</td>\n",
       "      <td>8.87061</td>\n",
       "      <td>0.464635</td>\n",
       "      <td>0.805634</td>\n",
       "      <td>415.0</td>\n",
       "      <td>80.0</td>\n",
       "      <td>256.0</td>\n",
       "      <td>282.0</td>\n",
       "    </tr>\n",
       "    <tr>\n",
       "      <th>3</th>\n",
       "      <td>0</td>\n",
       "      <td>2</td>\n",
       "      <td>1</td>\n",
       "      <td>NaN</td>\n",
       "      <td>NaN</td>\n",
       "      <td>NaN</td>\n",
       "      <td>168</td>\n",
       "      <td>0.981117</td>\n",
       "      <td>8.87061</td>\n",
       "      <td>0.464635</td>\n",
       "      <td>0.805634</td>\n",
       "      <td>415.0</td>\n",
       "      <td>80.0</td>\n",
       "      <td>256.0</td>\n",
       "      <td>282.0</td>\n",
       "    </tr>\n",
       "    <tr>\n",
       "      <th>4</th>\n",
       "      <td>0</td>\n",
       "      <td>2</td>\n",
       "      <td>2</td>\n",
       "      <td>NaN</td>\n",
       "      <td>NaN</td>\n",
       "      <td>NaN</td>\n",
       "      <td>168</td>\n",
       "      <td>0.981117</td>\n",
       "      <td>8.87061</td>\n",
       "      <td>0.464635</td>\n",
       "      <td>0.805634</td>\n",
       "      <td>415.0</td>\n",
       "      <td>80.0</td>\n",
       "      <td>256.0</td>\n",
       "      <td>282.0</td>\n",
       "    </tr>\n",
       "  </tbody>\n",
       "</table>\n",
       "</div>"
      ],
      "text/plain": [
       "   location_name  vehicle  nutrient  percent of population eating vehicle  \\\n",
       "0              0        2         3                                   NaN   \n",
       "1              0        2         0                                   NaN   \n",
       "2              0        2         6                                   NaN   \n",
       "3              0        2         1                                   NaN   \n",
       "4              0        2         2                                   NaN   \n",
       "\n",
       "   percent of population eating industrially produced vehicle  \\\n",
       "0                                                NaN            \n",
       "1                                                NaN            \n",
       "2                                                NaN            \n",
       "3                                                NaN            \n",
       "4                                                NaN            \n",
       "\n",
       "   percent of population eating fortified vehicle  location_id    sodium  \\\n",
       "0                                             NaN          168  0.981117   \n",
       "1                                             NaN          168  0.981117   \n",
       "2                                             NaN          168  0.981117   \n",
       "3                                             NaN          168  0.981117   \n",
       "4                                             NaN          168  0.981117   \n",
       "\n",
       "   whole_grains       sdi   hh_salt  fao_maize_and_products  \\\n",
       "0       8.87061  0.464635  0.805634                   415.0   \n",
       "1       8.87061  0.464635  0.805634                   415.0   \n",
       "2       8.87061  0.464635  0.805634                   415.0   \n",
       "3       8.87061  0.464635  0.805634                   415.0   \n",
       "4       8.87061  0.464635  0.805634                   415.0   \n",
       "\n",
       "   fao_rice_and_products  fao_wheat_and_products  fao_oil_all  \n",
       "0                   80.0                   256.0        282.0  \n",
       "1                   80.0                   256.0        282.0  \n",
       "2                   80.0                   256.0        282.0  \n",
       "3                   80.0                   256.0        282.0  \n",
       "4                   80.0                   256.0        282.0  "
      ]
     },
     "execution_count": 14,
     "metadata": {},
     "output_type": "execute_result"
    }
   ],
   "source": [
    "df_numeric.head()"
   ]
  },
  {
   "cell_type": "code",
   "execution_count": 15,
   "metadata": {},
   "outputs": [
    {
     "data": {
      "text/html": [
       "<div>\n",
       "<style scoped>\n",
       "    .dataframe tbody tr th:only-of-type {\n",
       "        vertical-align: middle;\n",
       "    }\n",
       "\n",
       "    .dataframe tbody tr th {\n",
       "        vertical-align: top;\n",
       "    }\n",
       "\n",
       "    .dataframe thead th {\n",
       "        text-align: right;\n",
       "    }\n",
       "</style>\n",
       "<table border=\"1\" class=\"dataframe\">\n",
       "  <thead>\n",
       "    <tr style=\"text-align: right;\">\n",
       "      <th></th>\n",
       "      <th>location_name</th>\n",
       "      <th>nutrient</th>\n",
       "      <th>percent of population eating vehicle</th>\n",
       "      <th>percent of population eating industrially produced vehicle</th>\n",
       "      <th>percent of population eating fortified vehicle</th>\n",
       "      <th>location_id</th>\n",
       "      <th>sodium</th>\n",
       "      <th>whole_grains</th>\n",
       "      <th>sdi</th>\n",
       "      <th>hh_salt</th>\n",
       "      <th>fao_maize_and_products</th>\n",
       "      <th>fao_rice_and_products</th>\n",
       "      <th>fao_wheat_and_products</th>\n",
       "      <th>fao_oil_all</th>\n",
       "    </tr>\n",
       "    <tr>\n",
       "      <th>vehicle</th>\n",
       "      <th></th>\n",
       "      <th></th>\n",
       "      <th></th>\n",
       "      <th></th>\n",
       "      <th></th>\n",
       "      <th></th>\n",
       "      <th></th>\n",
       "      <th></th>\n",
       "      <th></th>\n",
       "      <th></th>\n",
       "      <th></th>\n",
       "      <th></th>\n",
       "      <th></th>\n",
       "      <th></th>\n",
       "    </tr>\n",
       "  </thead>\n",
       "  <tbody>\n",
       "    <tr>\n",
       "      <th>0</th>\n",
       "      <td>6</td>\n",
       "      <td>6</td>\n",
       "      <td>2</td>\n",
       "      <td>4</td>\n",
       "      <td>5</td>\n",
       "      <td>6</td>\n",
       "      <td>6</td>\n",
       "      <td>6</td>\n",
       "      <td>6</td>\n",
       "      <td>6</td>\n",
       "      <td>6</td>\n",
       "      <td>6</td>\n",
       "      <td>6</td>\n",
       "      <td>6</td>\n",
       "    </tr>\n",
       "    <tr>\n",
       "      <th>1</th>\n",
       "      <td>102</td>\n",
       "      <td>102</td>\n",
       "      <td>48</td>\n",
       "      <td>48</td>\n",
       "      <td>48</td>\n",
       "      <td>102</td>\n",
       "      <td>102</td>\n",
       "      <td>102</td>\n",
       "      <td>102</td>\n",
       "      <td>102</td>\n",
       "      <td>96</td>\n",
       "      <td>96</td>\n",
       "      <td>96</td>\n",
       "      <td>96</td>\n",
       "    </tr>\n",
       "    <tr>\n",
       "      <th>2</th>\n",
       "      <td>150</td>\n",
       "      <td>150</td>\n",
       "      <td>102</td>\n",
       "      <td>102</td>\n",
       "      <td>105</td>\n",
       "      <td>150</td>\n",
       "      <td>150</td>\n",
       "      <td>150</td>\n",
       "      <td>150</td>\n",
       "      <td>150</td>\n",
       "      <td>138</td>\n",
       "      <td>138</td>\n",
       "      <td>138</td>\n",
       "      <td>138</td>\n",
       "    </tr>\n",
       "    <tr>\n",
       "      <th>3</th>\n",
       "      <td>28</td>\n",
       "      <td>28</td>\n",
       "      <td>12</td>\n",
       "      <td>4</td>\n",
       "      <td>16</td>\n",
       "      <td>28</td>\n",
       "      <td>28</td>\n",
       "      <td>28</td>\n",
       "      <td>28</td>\n",
       "      <td>28</td>\n",
       "      <td>24</td>\n",
       "      <td>24</td>\n",
       "      <td>24</td>\n",
       "      <td>24</td>\n",
       "    </tr>\n",
       "    <tr>\n",
       "      <th>4</th>\n",
       "      <td>50</td>\n",
       "      <td>50</td>\n",
       "      <td>36</td>\n",
       "      <td>22</td>\n",
       "      <td>35</td>\n",
       "      <td>50</td>\n",
       "      <td>50</td>\n",
       "      <td>50</td>\n",
       "      <td>50</td>\n",
       "      <td>50</td>\n",
       "      <td>46</td>\n",
       "      <td>46</td>\n",
       "      <td>46</td>\n",
       "      <td>46</td>\n",
       "    </tr>\n",
       "    <tr>\n",
       "      <th>5</th>\n",
       "      <td>15</td>\n",
       "      <td>15</td>\n",
       "      <td>10</td>\n",
       "      <td>10</td>\n",
       "      <td>10</td>\n",
       "      <td>15</td>\n",
       "      <td>15</td>\n",
       "      <td>15</td>\n",
       "      <td>15</td>\n",
       "      <td>15</td>\n",
       "      <td>15</td>\n",
       "      <td>15</td>\n",
       "      <td>15</td>\n",
       "      <td>15</td>\n",
       "    </tr>\n",
       "  </tbody>\n",
       "</table>\n",
       "</div>"
      ],
      "text/plain": [
       "         location_name  nutrient  percent of population eating vehicle  \\\n",
       "vehicle                                                                  \n",
       "0                    6         6                                     2   \n",
       "1                  102       102                                    48   \n",
       "2                  150       150                                   102   \n",
       "3                   28        28                                    12   \n",
       "4                   50        50                                    36   \n",
       "5                   15        15                                    10   \n",
       "\n",
       "         percent of population eating industrially produced vehicle  \\\n",
       "vehicle                                                               \n",
       "0                                                        4            \n",
       "1                                                       48            \n",
       "2                                                      102            \n",
       "3                                                        4            \n",
       "4                                                       22            \n",
       "5                                                       10            \n",
       "\n",
       "         percent of population eating fortified vehicle  location_id  sodium  \\\n",
       "vehicle                                                                        \n",
       "0                                                     5            6       6   \n",
       "1                                                    48          102     102   \n",
       "2                                                   105          150     150   \n",
       "3                                                    16           28      28   \n",
       "4                                                    35           50      50   \n",
       "5                                                    10           15      15   \n",
       "\n",
       "         whole_grains  sdi  hh_salt  fao_maize_and_products  \\\n",
       "vehicle                                                       \n",
       "0                   6    6        6                       6   \n",
       "1                 102  102      102                      96   \n",
       "2                 150  150      150                     138   \n",
       "3                  28   28       28                      24   \n",
       "4                  50   50       50                      46   \n",
       "5                  15   15       15                      15   \n",
       "\n",
       "         fao_rice_and_products  fao_wheat_and_products  fao_oil_all  \n",
       "vehicle                                                              \n",
       "0                            6                       6            6  \n",
       "1                           96                      96           96  \n",
       "2                          138                     138          138  \n",
       "3                           24                      24           24  \n",
       "4                           46                      46           46  \n",
       "5                           15                      15           15  "
      ]
     },
     "execution_count": 15,
     "metadata": {},
     "output_type": "execute_result"
    }
   ],
   "source": [
    "df_numeric.groupby('vehicle').count()"
   ]
  },
  {
   "cell_type": "code",
   "execution_count": 16,
   "metadata": {},
   "outputs": [],
   "source": [
    "df_numeric.columns = [i.replace(\" \",\"_\") for i in df_numeric.columns]"
   ]
  },
  {
   "cell_type": "code",
   "execution_count": 17,
   "metadata": {},
   "outputs": [],
   "source": [
    "estimation_vars = ['percent_of_population_eating_vehicle',\n",
    "       'percent_of_population_eating_industrially_produced_vehicle',\n",
    "       'percent_of_population_eating_fortified_vehicle']"
   ]
  },
  {
   "cell_type": "code",
   "execution_count": 18,
   "metadata": {},
   "outputs": [
    {
     "name": "stdout",
     "output_type": "stream",
     "text": [
      "141/351 missing for percent_of_population_eating_vehicle\n",
      "161/351 missing for percent_of_population_eating_industrially_produced_vehicle\n",
      "132/351 missing for percent_of_population_eating_fortified_vehicle\n"
     ]
    }
   ],
   "source": [
    "for var in estimation_vars:\n",
    "    print(f'{df_numeric[var].isnull().sum()}/{len(df_numeric)} missing for {var}')"
   ]
  },
  {
   "cell_type": "code",
   "execution_count": 19,
   "metadata": {},
   "outputs": [],
   "source": [
    "## create a version with holdouts\n",
    "df_partial = df_numeric.copy()\n",
    "for _ in range(len(df_numeric)*3 // 6):\n",
    "    j = np.random.choice(estimation_vars)\n",
    "    i = np.random.choice(df.index[df_partial[j].notnull()])\n",
    "    df_partial.loc[i,j] = np.nan"
   ]
  },
  {
   "cell_type": "code",
   "execution_count": 20,
   "metadata": {},
   "outputs": [
    {
     "name": "stdout",
     "output_type": "stream",
     "text": [
      "204/351 missing for percent_of_population_eating_vehicle\n",
      "220/351 missing for percent_of_population_eating_industrially_produced_vehicle\n",
      "185/351 missing for percent_of_population_eating_fortified_vehicle\n"
     ]
    }
   ],
   "source": [
    "for var in estimation_vars:\n",
    "    print(f'{df_partial[var].isnull().sum()}/{len(df_partial)} missing for {var}')"
   ]
  },
  {
   "cell_type": "code",
   "execution_count": 21,
   "metadata": {},
   "outputs": [],
   "source": [
    "from statsmodels.imputation import mice"
   ]
  },
  {
   "cell_type": "code",
   "execution_count": 22,
   "metadata": {},
   "outputs": [],
   "source": [
    "imp = mice.MICEData(perturbation_method='boot', # or 'gaussian' although there seems to be something wrong with that option right now\n",
    "                    data=df_partial)"
   ]
  },
  {
   "cell_type": "code",
   "execution_count": 23,
   "metadata": {},
   "outputs": [
    {
     "name": "stdout",
     "output_type": "stream",
     "text": [
      ". . . . . CPU times: user 3min 7s, sys: 179 ms, total: 3min 7s\n",
      "Wall time: 3min 7s\n"
     ]
    }
   ],
   "source": [
    "%%time\n",
    "N = 5\n",
    "df_imputed = {}\n",
    "for r in range(N):\n",
    "    if r % (N // 5) == 0:\n",
    "        print('.', end=' ', flush=True)\n",
    "    imp.update_all(n_iter=100)\n",
    "    df_imputed[r] = imp.data"
   ]
  },
  {
   "cell_type": "code",
   "execution_count": 24,
   "metadata": {},
   "outputs": [
    {
     "data": {
      "text/plain": [
       "[<matplotlib.lines.Line2D at 0x2b1f581f5080>]"
      ]
     },
     "execution_count": 24,
     "metadata": {},
     "output_type": "execute_result"
    },
    {
     "data": {
      "image/png": "[encoded data removed]",
      "text/plain": [
       "<Figure size 432x288 with 1 Axes>"
      ]
     },
     "metadata": {
      "needs_background": "light"
     },
     "output_type": "display_data"
    }
   ],
   "source": [
    "# let's see if we can improve with some covariates?\n",
    "for col in estimation_vars:\n",
    "    for df_i in df_imputed.values():\n",
    "        rows = df_partial[col].isnull() & df_numeric[col].notnull()\n",
    "        plt.plot(df_numeric.loc[list(rows), col], df_i.loc[list(rows), col], '.', alpha=.5)\n",
    "\n",
    "l,r,b,t = plt.axis()\n",
    "lb = min(l,b)\n",
    "ub = max(r,t)\n",
    "plt.plot([lb, ub], [lb, ub], 'k--')"
   ]
  },
  {
   "cell_type": "markdown",
   "metadata": {},
   "source": [
    "# what happens when we use all data?"
   ]
  },
  {
   "cell_type": "code",
   "execution_count": 29,
   "metadata": {},
   "outputs": [],
   "source": [
    "imp_full = mice.MICEData(perturbation_method='boot', # or 'gaussian' although there seems to be something wrong with that option right now\n",
    "                    data=df_numeric)"
   ]
  },
  {
   "cell_type": "code",
   "execution_count": 30,
   "metadata": {},
   "outputs": [
    {
     "name": "stdout",
     "output_type": "stream",
     "text": [
      ". . . . . CPU times: user 1min 14s, sys: 60.5 ms, total: 1min 14s\n",
      "Wall time: 1min 14s\n"
     ]
    }
   ],
   "source": [
    "%%time\n",
    "N = 5\n",
    "df_imputed_full = {}\n",
    "for r in range(N):\n",
    "    if r % (N // 5) == 0:\n",
    "        print('.', end=' ', flush=True)\n",
    "    imp_full.update_all(n_iter=100)\n",
    "    df_imputed_full[r] = imp.data"
   ]
  },
  {
   "cell_type": "code",
   "execution_count": 31,
   "metadata": {},
   "outputs": [],
   "source": [
    "# checkout performance"
   ]
  },
  {
   "cell_type": "code",
   "execution_count": 32,
   "metadata": {},
   "outputs": [],
   "source": [
    "# does imp remember prev iters? should df_imputed[i+1] be 'better' than df_imputed[i]?\n",
    "# did they all do the same?"
   ]
  },
  {
   "cell_type": "code",
   "execution_count": 33,
   "metadata": {
    "scrolled": true
   },
   "outputs": [
    {
     "name": "stdout",
     "output_type": "stream",
     "text": [
      "94\n",
      "94\n",
      "94\n",
      "94\n",
      "94\n"
     ]
    }
   ],
   "source": [
    "for i in range(N):\n",
    "    # more people eating fortifiable vehicle than people eating vehicle\n",
    "    print(df_imputed_full[i][(df_imputed_full[i].percent_of_population_eating_vehicle <\n",
    "                  df_imputed_full[i].percent_of_population_eating_industrially_produced_vehicle)].shape[0])"
   ]
  },
  {
   "cell_type": "code",
   "execution_count": 34,
   "metadata": {},
   "outputs": [
    {
     "name": "stdout",
     "output_type": "stream",
     "text": [
      "32\n",
      "32\n",
      "32\n",
      "32\n",
      "32\n"
     ]
    }
   ],
   "source": [
    "for i in range(N):\n",
    "    # more people eating fortifiable vehicle than people eating vehicle\n",
    "    print(df_imputed_full[i][(df_imputed_full[i].percent_of_population_eating_industrially_produced_vehicle <\n",
    "                  df_imputed_full[i].percent_of_population_eating_fortified_vehicle)].shape[0])"
   ]
  },
  {
   "cell_type": "code",
   "execution_count": null,
   "metadata": {},
   "outputs": [],
   "source": []
  }
 ],
 "metadata": {
  "kernelspec": {
   "display_name": "Python 3",
   "language": "python",
   "name": "python3"
  },
  "language_info": {
   "codemirror_mode": {
    "name": "ipython",
    "version": 3
   },
   "file_extension": ".py",
   "mimetype": "text/x-python",
   "name": "python",
   "nbconvert_exporter": "python",
   "pygments_lexer": "ipython3",
   "version": "3.7.0"
  }
 },
 "nbformat": 4,
 "nbformat_minor": 4
}
