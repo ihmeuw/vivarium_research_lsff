{
 "cells": [
  {
   "cell_type": "code",
   "execution_count": 1,
   "metadata": {},
   "outputs": [],
   "source": [
    "import numpy as np, matplotlib.pyplot as plt, pandas as pd\n",
    "from sklearn.linear_model import LinearRegression\n",
    "from fill_data_gap_helpers import *\n",
    "\n",
    "pd.set_option('display.max_rows', 8)\n",
    "!\n",
    "\n",
    "%load_ext autoreload\n",
    "%autoreload 2"
   ]
  },
  {
   "cell_type": "markdown",
   "metadata": {},
   "source": [
    "## Load data"
   ]
  },
  {
   "cell_type": "code",
   "execution_count": 2,
   "metadata": {},
   "outputs": [],
   "source": [
    "path = 'lsff_estimated_data_plus_covariates.csv'\n",
    "\n",
    "df = pd.read_csv(path)\n",
    "df = df.drop(columns=['standard'])\n",
    "df.columns = [i.replace(\" \",\"_\") for i in df.columns]"
   ]
  },
  {
   "cell_type": "code",
   "execution_count": 3,
   "metadata": {},
   "outputs": [
    {
     "data": {
      "text/html": [
       "<div>\n",
       "<style scoped>\n",
       "    .dataframe tbody tr th:only-of-type {\n",
       "        vertical-align: middle;\n",
       "    }\n",
       "\n",
       "    .dataframe tbody tr th {\n",
       "        vertical-align: top;\n",
       "    }\n",
       "\n",
       "    .dataframe thead th {\n",
       "        text-align: right;\n",
       "    }\n",
       "</style>\n",
       "<table border=\"1\" class=\"dataframe\">\n",
       "  <thead>\n",
       "    <tr style=\"text-align: right;\">\n",
       "      <th></th>\n",
       "      <th>location_name</th>\n",
       "      <th>vehicle</th>\n",
       "      <th>nutrient</th>\n",
       "      <th>percent_of_population_eating_vehicle</th>\n",
       "      <th>percent_of_population_eating_industrially_produced_vehicle</th>\n",
       "      <th>percent_of_population_eating_fortified_vehicle</th>\n",
       "      <th>location_id</th>\n",
       "      <th>sodium</th>\n",
       "      <th>whole_grains</th>\n",
       "      <th>sdi</th>\n",
       "      <th>hh_salt</th>\n",
       "      <th>fao_maize_and_products</th>\n",
       "      <th>fao_rice_and_products</th>\n",
       "      <th>fao_wheat_and_products</th>\n",
       "      <th>fao_oil_all</th>\n",
       "      <th>parent_id</th>\n",
       "    </tr>\n",
       "  </thead>\n",
       "  <tbody>\n",
       "    <tr>\n",
       "      <th>0</th>\n",
       "      <td>Angola</td>\n",
       "      <td>wheat flour</td>\n",
       "      <td>iron</td>\n",
       "      <td>NaN</td>\n",
       "      <td>NaN</td>\n",
       "      <td>NaN</td>\n",
       "      <td>168</td>\n",
       "      <td>0.981117</td>\n",
       "      <td>8.87061</td>\n",
       "      <td>0.464635</td>\n",
       "      <td>0.805634</td>\n",
       "      <td>415.0</td>\n",
       "      <td>80.0</td>\n",
       "      <td>256.0</td>\n",
       "      <td>282.0</td>\n",
       "      <td>167</td>\n",
       "    </tr>\n",
       "    <tr>\n",
       "      <th>1</th>\n",
       "      <td>Angola</td>\n",
       "      <td>wheat flour</td>\n",
       "      <td>zinc</td>\n",
       "      <td>NaN</td>\n",
       "      <td>NaN</td>\n",
       "      <td>NaN</td>\n",
       "      <td>168</td>\n",
       "      <td>0.981117</td>\n",
       "      <td>8.87061</td>\n",
       "      <td>0.464635</td>\n",
       "      <td>0.805634</td>\n",
       "      <td>415.0</td>\n",
       "      <td>80.0</td>\n",
       "      <td>256.0</td>\n",
       "      <td>282.0</td>\n",
       "      <td>167</td>\n",
       "    </tr>\n",
       "    <tr>\n",
       "      <th>2</th>\n",
       "      <td>Angola</td>\n",
       "      <td>wheat flour</td>\n",
       "      <td>folic acid</td>\n",
       "      <td>NaN</td>\n",
       "      <td>NaN</td>\n",
       "      <td>NaN</td>\n",
       "      <td>168</td>\n",
       "      <td>0.981117</td>\n",
       "      <td>8.87061</td>\n",
       "      <td>0.464635</td>\n",
       "      <td>0.805634</td>\n",
       "      <td>415.0</td>\n",
       "      <td>80.0</td>\n",
       "      <td>256.0</td>\n",
       "      <td>282.0</td>\n",
       "      <td>167</td>\n",
       "    </tr>\n",
       "    <tr>\n",
       "      <th>3</th>\n",
       "      <td>Angola</td>\n",
       "      <td>wheat flour</td>\n",
       "      <td>vitamin b12</td>\n",
       "      <td>NaN</td>\n",
       "      <td>NaN</td>\n",
       "      <td>NaN</td>\n",
       "      <td>168</td>\n",
       "      <td>0.981117</td>\n",
       "      <td>8.87061</td>\n",
       "      <td>0.464635</td>\n",
       "      <td>0.805634</td>\n",
       "      <td>415.0</td>\n",
       "      <td>80.0</td>\n",
       "      <td>256.0</td>\n",
       "      <td>282.0</td>\n",
       "      <td>167</td>\n",
       "    </tr>\n",
       "    <tr>\n",
       "      <th>4</th>\n",
       "      <td>Angola</td>\n",
       "      <td>wheat flour</td>\n",
       "      <td>vitamin b1</td>\n",
       "      <td>NaN</td>\n",
       "      <td>NaN</td>\n",
       "      <td>NaN</td>\n",
       "      <td>168</td>\n",
       "      <td>0.981117</td>\n",
       "      <td>8.87061</td>\n",
       "      <td>0.464635</td>\n",
       "      <td>0.805634</td>\n",
       "      <td>415.0</td>\n",
       "      <td>80.0</td>\n",
       "      <td>256.0</td>\n",
       "      <td>282.0</td>\n",
       "      <td>167</td>\n",
       "    </tr>\n",
       "  </tbody>\n",
       "</table>\n",
       "</div>"
      ],
      "text/plain": [
       "  location_name      vehicle     nutrient  \\\n",
       "0        Angola  wheat flour         iron   \n",
       "1        Angola  wheat flour         zinc   \n",
       "2        Angola  wheat flour   folic acid   \n",
       "3        Angola  wheat flour  vitamin b12   \n",
       "4        Angola  wheat flour   vitamin b1   \n",
       "\n",
       "   percent_of_population_eating_vehicle  \\\n",
       "0                                   NaN   \n",
       "1                                   NaN   \n",
       "2                                   NaN   \n",
       "3                                   NaN   \n",
       "4                                   NaN   \n",
       "\n",
       "   percent_of_population_eating_industrially_produced_vehicle  \\\n",
       "0                                                NaN            \n",
       "1                                                NaN            \n",
       "2                                                NaN            \n",
       "3                                                NaN            \n",
       "4                                                NaN            \n",
       "\n",
       "   percent_of_population_eating_fortified_vehicle  location_id    sodium  \\\n",
       "0                                             NaN          168  0.981117   \n",
       "1                                             NaN          168  0.981117   \n",
       "2                                             NaN          168  0.981117   \n",
       "3                                             NaN          168  0.981117   \n",
       "4                                             NaN          168  0.981117   \n",
       "\n",
       "   whole_grains       sdi   hh_salt  fao_maize_and_products  \\\n",
       "0       8.87061  0.464635  0.805634                   415.0   \n",
       "1       8.87061  0.464635  0.805634                   415.0   \n",
       "2       8.87061  0.464635  0.805634                   415.0   \n",
       "3       8.87061  0.464635  0.805634                   415.0   \n",
       "4       8.87061  0.464635  0.805634                   415.0   \n",
       "\n",
       "   fao_rice_and_products  fao_wheat_and_products  fao_oil_all  parent_id  \n",
       "0                   80.0                   256.0        282.0        167  \n",
       "1                   80.0                   256.0        282.0        167  \n",
       "2                   80.0                   256.0        282.0        167  \n",
       "3                   80.0                   256.0        282.0        167  \n",
       "4                   80.0                   256.0        282.0        167  "
      ]
     },
     "execution_count": 3,
     "metadata": {},
     "output_type": "execute_result"
    }
   ],
   "source": [
    "df.head()"
   ]
  },
  {
   "cell_type": "code",
   "execution_count": 4,
   "metadata": {},
   "outputs": [],
   "source": [
    "npar = df.parent_id.nunique()\n",
    "parent_map = {i:j for (i,j) in zip(df.parent_id.unique(),np.random.choice(npar, size = npar, replace = False))}"
   ]
  },
  {
   "cell_type": "code",
   "execution_count": 5,
   "metadata": {},
   "outputs": [
    {
     "data": {
      "text/plain": [
       "{167: 0, 159: 5, 199: 4, 5: 1, 138: 3, 174: 7, 9: 2, 192: 6}"
      ]
     },
     "execution_count": 5,
     "metadata": {},
     "output_type": "execute_result"
    }
   ],
   "source": [
    "parent_map"
   ]
  },
  {
   "cell_type": "code",
   "execution_count": 6,
   "metadata": {},
   "outputs": [],
   "source": [
    "df.parent_id = df.parent_id.map(parent_map)"
   ]
  },
  {
   "cell_type": "code",
   "execution_count": 7,
   "metadata": {
    "scrolled": true
   },
   "outputs": [
    {
     "data": {
      "text/html": [
       "<div>\n",
       "<style scoped>\n",
       "    .dataframe tbody tr th:only-of-type {\n",
       "        vertical-align: middle;\n",
       "    }\n",
       "\n",
       "    .dataframe tbody tr th {\n",
       "        vertical-align: top;\n",
       "    }\n",
       "\n",
       "    .dataframe thead th {\n",
       "        text-align: right;\n",
       "    }\n",
       "</style>\n",
       "<table border=\"1\" class=\"dataframe\">\n",
       "  <thead>\n",
       "    <tr style=\"text-align: right;\">\n",
       "      <th></th>\n",
       "      <th>percent_of_population_eating_vehicle</th>\n",
       "    </tr>\n",
       "  </thead>\n",
       "  <tbody>\n",
       "    <tr>\n",
       "      <th>14</th>\n",
       "      <td>62.35</td>\n",
       "    </tr>\n",
       "    <tr>\n",
       "      <th>15</th>\n",
       "      <td>62.35</td>\n",
       "    </tr>\n",
       "    <tr>\n",
       "      <th>16</th>\n",
       "      <td>62.35</td>\n",
       "    </tr>\n",
       "    <tr>\n",
       "      <th>17</th>\n",
       "      <td>62.35</td>\n",
       "    </tr>\n",
       "    <tr>\n",
       "      <th>...</th>\n",
       "      <td>...</td>\n",
       "    </tr>\n",
       "    <tr>\n",
       "      <th>347</th>\n",
       "      <td>21.93</td>\n",
       "    </tr>\n",
       "    <tr>\n",
       "      <th>348</th>\n",
       "      <td>21.93</td>\n",
       "    </tr>\n",
       "    <tr>\n",
       "      <th>349</th>\n",
       "      <td>54.50</td>\n",
       "    </tr>\n",
       "    <tr>\n",
       "      <th>350</th>\n",
       "      <td>54.50</td>\n",
       "    </tr>\n",
       "  </tbody>\n",
       "</table>\n",
       "<p>210 rows × 1 columns</p>\n",
       "</div>"
      ],
      "text/plain": [
       "     percent_of_population_eating_vehicle\n",
       "14                                  62.35\n",
       "15                                  62.35\n",
       "16                                  62.35\n",
       "17                                  62.35\n",
       "..                                    ...\n",
       "347                                 21.93\n",
       "348                                 21.93\n",
       "349                                 54.50\n",
       "350                                 54.50\n",
       "\n",
       "[210 rows x 1 columns]"
      ]
     },
     "execution_count": 7,
     "metadata": {},
     "output_type": "execute_result"
    }
   ],
   "source": [
    "df[['percent_of_population_eating_vehicle']].dropna()"
   ]
  },
  {
   "cell_type": "markdown",
   "metadata": {},
   "source": [
    "## Globals"
   ]
  },
  {
   "cell_type": "code",
   "execution_count": 8,
   "metadata": {},
   "outputs": [],
   "source": [
    "estimation_vars = ['percent_of_population_eating_vehicle',\n",
    "       'percent_of_population_eating_industrially_produced_vehicle',\n",
    "       'percent_of_population_eating_fortified_vehicle']\n",
    "shift = .01 #for logit transform"
   ]
  },
  {
   "cell_type": "code",
   "execution_count": 9,
   "metadata": {},
   "outputs": [],
   "source": [
    "nlocs = df.location_name.nunique()\n",
    "loc_map = {i:j for (i,j) in zip(df.location_name.unique(),np.random.choice(nlocs, size = nlocs, replace = False))}\n",
    "\n",
    "nvehs = df.vehicle.nunique()\n",
    "vcl_map = {i:j for (i,j) in zip(df.vehicle.unique(),np.random.choice(nvehs, size = nvehs, replace = False))}\n",
    "\n",
    "nnutrs = df.nutrient.nunique()\n",
    "nut_map = {i:j for (i,j) in zip(df.nutrient.unique(),np.random.choice(nnutrs, size = nnutrs, replace = False))}"
   ]
  },
  {
   "cell_type": "markdown",
   "metadata": {},
   "source": [
    "## Percent of population eating vehicle"
   ]
  },
  {
   "cell_type": "code",
   "execution_count": 10,
   "metadata": {},
   "outputs": [],
   "source": [
    "def setupReg(df, vehicle, use_logit):\n",
    "    if use_logit:\n",
    "        df = shift_logit(df, estimation_vars, shift)\n",
    "\n",
    "    s = guess_mean_val(df, grouped_on = 'vehicle', cols = ['percent_of_population_eating_industrially_produced_vehicle',\n",
    "                                                           'percent_of_population_eating_fortified_vehicle',\n",
    "                                                           'sodium', 'whole_grains', 'sdi', 'hh_salt',\n",
    "                                                           'fao_maize_and_products','fao_rice_and_products',\n",
    "                                                           'fao_wheat_and_products', 'fao_oil_all'])\n",
    "\n",
    "    s = s[(s.vehicle==vehicle)]\n",
    "\n",
    "    s = s.drop(columns=['nutrient','vehicle'])\n",
    "\n",
    "    s['percent_of_population_eating_industrially_produced_vehicle'] = s.groupby('location_name').transform('mean').percent_of_population_eating_industrially_produced_vehicle\n",
    "    s['percent_of_population_eating_fortified_vehicle'] = s.groupby('location_name').transform('mean').percent_of_population_eating_fortified_vehicle\n",
    "\n",
    "    s = s.drop_duplicates()\n",
    "    locs = s.location_name.tolist()\n",
    "    s = s.drop(columns=['location_name','location_id'])\n",
    "    print(s.columns)\n",
    "    \n",
    "    X_full = np.array(s.drop(columns='percent_of_population_eating_vehicle'))\n",
    "    y_full = np.array(s.percent_of_population_eating_vehicle)\n",
    "\n",
    "    y = y_full[~np.isnan(y_full)]\n",
    "    X = X_full[~np.isnan(y_full)]\n",
    "    \n",
    "    return X, y, X_full, y_full, locs"
   ]
  },
  {
   "cell_type": "code",
   "execution_count": 11,
   "metadata": {},
   "outputs": [],
   "source": [
    "from sklearn.linear_model import ElasticNet\n",
    "from sklearn.datasets import make_regression"
   ]
  },
  {
   "cell_type": "code",
   "execution_count": 12,
   "metadata": {},
   "outputs": [],
   "source": [
    "regr = ElasticNet(random_state=0)"
   ]
  },
  {
   "cell_type": "code",
   "execution_count": 13,
   "metadata": {},
   "outputs": [],
   "source": [
    "def runReg(X, y):\n",
    "    # randomly hold out a selection\n",
    "    N = y.shape[0]\n",
    "    select = np.random.choice(N, size = N - 1, replace = False)\n",
    "\n",
    "#     reg = LinearRegression().fit(X[select], y[select])\n",
    "    reg = ElasticNet(max_iter=5_000, tol = 1.5e-3).fit(X[select], y[select])\n",
    "    \n",
    "    holdout = np.array([i for i in range(N) if i not in select])\n",
    "    preds = reg.predict(X[holdout])\n",
    "    \n",
    "    return holdout, preds"
   ]
  },
  {
   "cell_type": "code",
   "execution_count": 14,
   "metadata": {},
   "outputs": [],
   "source": [
    "def plotReg(preds, holdout, use_logit, vehicle):\n",
    "    if use_logit:\n",
    "        backtransf_preds = (expit(preds) + shift) * 100\n",
    "        backtransf_y = (expit(y[holdout]) + shift) * 100\n",
    "        plt.scatter(backtransf_y, backtransf_preds)\n",
    "\n",
    "        l,r,b,t = plt.axis()\n",
    "        lb = min(0,l,b)\n",
    "        ub = max(100,r,t)\n",
    "        plt.plot([lb,ub], [lb,ub], 'k--')\n",
    "\n",
    "        plt.title(f\"out of sample validation: \\npct of population that eats {vehicle}, using shifted logit tranform\", fontsize = 15)    \n",
    "    else:\n",
    "        plt.scatter(y[holdout], preds)\n",
    "        \n",
    "        l,r,b,t = plt.axis()\n",
    "        lb = min(0,l,b)\n",
    "        ub = max(100,r,t)\n",
    "        plt.plot([lb,ub], [lb,ub], 'k--')\n",
    "        \n",
    "        plt.title(f\"out of sample validation: \\npct of population that eats {vehicle}\", fontsize = 15)"
   ]
  },
  {
   "cell_type": "code",
   "execution_count": 15,
   "metadata": {},
   "outputs": [],
   "source": [
    "import matplotlib.backends.backend_pdf"
   ]
  },
  {
   "cell_type": "code",
   "execution_count": 16,
   "metadata": {
    "scrolled": false
   },
   "outputs": [
    {
     "name": "stdout",
     "output_type": "stream",
     "text": [
      "Index(['percent_of_population_eating_vehicle',\n",
      "       'percent_of_population_eating_industrially_produced_vehicle',\n",
      "       'percent_of_population_eating_fortified_vehicle', 'sodium',\n",
      "       'whole_grains', 'sdi', 'hh_salt', 'fao_maize_and_products',\n",
      "       'fao_rice_and_products', 'fao_wheat_and_products', 'fao_oil_all',\n",
      "       'parent_id'],\n",
      "      dtype='object')\n"
     ]
    },
    {
     "data": {
      "image/png": "[encoded data removed]",
      "text/plain": [
       "<Figure size 576x360 with 1 Axes>"
      ]
     },
     "metadata": {
      "needs_background": "light"
     },
     "output_type": "display_data"
    },
    {
     "name": "stdout",
     "output_type": "stream",
     "text": [
      "average error: 26.18\n",
      "average clipped err: 25.58\n",
      "Index(['percent_of_population_eating_vehicle',\n",
      "       'percent_of_population_eating_industrially_produced_vehicle',\n",
      "       'percent_of_population_eating_fortified_vehicle', 'sodium',\n",
      "       'whole_grains', 'sdi', 'hh_salt', 'fao_maize_and_products',\n",
      "       'fao_rice_and_products', 'fao_wheat_and_products', 'fao_oil_all',\n",
      "       'parent_id'],\n",
      "      dtype='object')\n"
     ]
    },
    {
     "data": {
      "image/png": "[encoded data removed]",
      "text/plain": [
       "<Figure size 576x360 with 1 Axes>"
      ]
     },
     "metadata": {
      "needs_background": "light"
     },
     "output_type": "display_data"
    },
    {
     "name": "stdout",
     "output_type": "stream",
     "text": [
      "average error: 26.47\n",
      "average clipped err: 20.72\n",
      "Index(['percent_of_population_eating_vehicle',\n",
      "       'percent_of_population_eating_industrially_produced_vehicle',\n",
      "       'percent_of_population_eating_fortified_vehicle', 'sodium',\n",
      "       'whole_grains', 'sdi', 'hh_salt', 'fao_maize_and_products',\n",
      "       'fao_rice_and_products', 'fao_wheat_and_products', 'fao_oil_all',\n",
      "       'parent_id'],\n",
      "      dtype='object')\n"
     ]
    },
    {
     "data": {
      "image/png": "[encoded data removed]",
      "text/plain": [
       "<Figure size 576x360 with 1 Axes>"
      ]
     },
     "metadata": {
      "needs_background": "light"
     },
     "output_type": "display_data"
    },
    {
     "name": "stdout",
     "output_type": "stream",
     "text": [
      "average error: 33.76\n",
      "average clipped err: 33.76\n",
      "Index(['percent_of_population_eating_vehicle',\n",
      "       'percent_of_population_eating_industrially_produced_vehicle',\n",
      "       'percent_of_population_eating_fortified_vehicle', 'sodium',\n",
      "       'whole_grains', 'sdi', 'hh_salt', 'fao_maize_and_products',\n",
      "       'fao_rice_and_products', 'fao_wheat_and_products', 'fao_oil_all',\n",
      "       'parent_id'],\n",
      "      dtype='object')\n"
     ]
    },
    {
     "data": {
      "image/png": "[encoded data removed]",
      "text/plain": [
       "<Figure size 576x360 with 1 Axes>"
      ]
     },
     "metadata": {
      "needs_background": "light"
     },
     "output_type": "display_data"
    },
    {
     "name": "stdout",
     "output_type": "stream",
     "text": [
      "average error: 18.27\n",
      "average clipped err: 12.25\n",
      "Index(['percent_of_population_eating_vehicle',\n",
      "       'percent_of_population_eating_industrially_produced_vehicle',\n",
      "       'percent_of_population_eating_fortified_vehicle', 'sodium',\n",
      "       'whole_grains', 'sdi', 'hh_salt', 'fao_maize_and_products',\n",
      "       'fao_rice_and_products', 'fao_wheat_and_products', 'fao_oil_all',\n",
      "       'parent_id'],\n",
      "      dtype='object')\n"
     ]
    },
    {
     "name": "stderr",
     "output_type": "stream",
     "text": [
      "/share/code/beatrixh/miniconda/envs/stats/lib/python3.6/site-packages/sklearn/linear_model/_coordinate_descent.py:531: ConvergenceWarning: Objective did not converge. You might want to increase the number of iterations. Duality gap: 0.0, tolerance: 0.0\n",
      "  positive)\n",
      "/share/code/beatrixh/miniconda/envs/stats/lib/python3.6/site-packages/sklearn/linear_model/_coordinate_descent.py:531: ConvergenceWarning: Objective did not converge. You might want to increase the number of iterations. Duality gap: 0.0, tolerance: 0.0\n",
      "  positive)\n",
      "/share/code/beatrixh/miniconda/envs/stats/lib/python3.6/site-packages/sklearn/linear_model/_coordinate_descent.py:531: ConvergenceWarning: Objective did not converge. You might want to increase the number of iterations. Duality gap: 0.0, tolerance: 0.0\n",
      "  positive)\n",
      "/share/code/beatrixh/miniconda/envs/stats/lib/python3.6/site-packages/sklearn/linear_model/_coordinate_descent.py:531: ConvergenceWarning: Objective did not converge. You might want to increase the number of iterations. Duality gap: 0.0, tolerance: 0.0\n",
      "  positive)\n",
      "/share/code/beatrixh/miniconda/envs/stats/lib/python3.6/site-packages/sklearn/linear_model/_coordinate_descent.py:531: ConvergenceWarning: Objective did not converge. You might want to increase the number of iterations. Duality gap: 0.0, tolerance: 0.0\n",
      "  positive)\n",
      "/share/code/beatrixh/miniconda/envs/stats/lib/python3.6/site-packages/sklearn/linear_model/_coordinate_descent.py:531: ConvergenceWarning: Objective did not converge. You might want to increase the number of iterations. Duality gap: 0.0, tolerance: 0.0\n",
      "  positive)\n",
      "/share/code/beatrixh/miniconda/envs/stats/lib/python3.6/site-packages/sklearn/linear_model/_coordinate_descent.py:531: ConvergenceWarning: Objective did not converge. You might want to increase the number of iterations. Duality gap: 0.0, tolerance: 0.0\n",
      "  positive)\n",
      "/share/code/beatrixh/miniconda/envs/stats/lib/python3.6/site-packages/sklearn/linear_model/_coordinate_descent.py:531: ConvergenceWarning: Objective did not converge. You might want to increase the number of iterations. Duality gap: 0.0, tolerance: 0.0\n",
      "  positive)\n",
      "/share/code/beatrixh/miniconda/envs/stats/lib/python3.6/site-packages/sklearn/linear_model/_coordinate_descent.py:531: ConvergenceWarning: Objective did not converge. You might want to increase the number of iterations. Duality gap: 0.0, tolerance: 0.0\n",
      "  positive)\n",
      "/share/code/beatrixh/miniconda/envs/stats/lib/python3.6/site-packages/sklearn/linear_model/_coordinate_descent.py:531: ConvergenceWarning: Objective did not converge. You might want to increase the number of iterations. Duality gap: 0.0, tolerance: 0.0\n",
      "  positive)\n",
      "/share/code/beatrixh/miniconda/envs/stats/lib/python3.6/site-packages/sklearn/linear_model/_coordinate_descent.py:531: ConvergenceWarning: Objective did not converge. You might want to increase the number of iterations. Duality gap: 0.0, tolerance: 0.0\n",
      "  positive)\n",
      "/share/code/beatrixh/miniconda/envs/stats/lib/python3.6/site-packages/sklearn/linear_model/_coordinate_descent.py:531: ConvergenceWarning: Objective did not converge. You might want to increase the number of iterations. Duality gap: 0.0, tolerance: 0.0\n",
      "  positive)\n",
      "/share/code/beatrixh/miniconda/envs/stats/lib/python3.6/site-packages/sklearn/linear_model/_coordinate_descent.py:531: ConvergenceWarning: Objective did not converge. You might want to increase the number of iterations. Duality gap: 0.0, tolerance: 0.0\n",
      "  positive)\n",
      "/share/code/beatrixh/miniconda/envs/stats/lib/python3.6/site-packages/sklearn/linear_model/_coordinate_descent.py:531: ConvergenceWarning: Objective did not converge. You might want to increase the number of iterations. Duality gap: 0.0, tolerance: 0.0\n",
      "  positive)\n",
      "/share/code/beatrixh/miniconda/envs/stats/lib/python3.6/site-packages/sklearn/linear_model/_coordinate_descent.py:531: ConvergenceWarning: Objective did not converge. You might want to increase the number of iterations. Duality gap: 0.0, tolerance: 0.0\n",
      "  positive)\n",
      "/share/code/beatrixh/miniconda/envs/stats/lib/python3.6/site-packages/sklearn/linear_model/_coordinate_descent.py:531: ConvergenceWarning: Objective did not converge. You might want to increase the number of iterations. Duality gap: 0.0, tolerance: 0.0\n",
      "  positive)\n",
      "/share/code/beatrixh/miniconda/envs/stats/lib/python3.6/site-packages/sklearn/linear_model/_coordinate_descent.py:531: ConvergenceWarning: Objective did not converge. You might want to increase the number of iterations. Duality gap: 0.0, tolerance: 0.0\n",
      "  positive)\n",
      "/share/code/beatrixh/miniconda/envs/stats/lib/python3.6/site-packages/sklearn/linear_model/_coordinate_descent.py:531: ConvergenceWarning: Objective did not converge. You might want to increase the number of iterations. Duality gap: 0.0, tolerance: 0.0\n",
      "  positive)\n",
      "/share/code/beatrixh/miniconda/envs/stats/lib/python3.6/site-packages/sklearn/linear_model/_coordinate_descent.py:531: ConvergenceWarning: Objective did not converge. You might want to increase the number of iterations. Duality gap: 0.0, tolerance: 0.0\n",
      "  positive)\n",
      "/share/code/beatrixh/miniconda/envs/stats/lib/python3.6/site-packages/sklearn/linear_model/_coordinate_descent.py:531: ConvergenceWarning: Objective did not converge. You might want to increase the number of iterations. Duality gap: 0.0, tolerance: 0.0\n",
      "  positive)\n",
      "/share/code/beatrixh/miniconda/envs/stats/lib/python3.6/site-packages/sklearn/linear_model/_coordinate_descent.py:531: ConvergenceWarning: Objective did not converge. You might want to increase the number of iterations. Duality gap: 0.0, tolerance: 0.0\n",
      "  positive)\n",
      "/share/code/beatrixh/miniconda/envs/stats/lib/python3.6/site-packages/sklearn/linear_model/_coordinate_descent.py:531: ConvergenceWarning: Objective did not converge. You might want to increase the number of iterations. Duality gap: 0.0, tolerance: 0.0\n",
      "  positive)\n",
      "/share/code/beatrixh/miniconda/envs/stats/lib/python3.6/site-packages/sklearn/linear_model/_coordinate_descent.py:531: ConvergenceWarning: Objective did not converge. You might want to increase the number of iterations. Duality gap: 0.0, tolerance: 0.0\n",
      "  positive)\n",
      "/share/code/beatrixh/miniconda/envs/stats/lib/python3.6/site-packages/sklearn/linear_model/_coordinate_descent.py:531: ConvergenceWarning: Objective did not converge. You might want to increase the number of iterations. Duality gap: 0.0, tolerance: 0.0\n",
      "  positive)\n",
      "/share/code/beatrixh/miniconda/envs/stats/lib/python3.6/site-packages/sklearn/linear_model/_coordinate_descent.py:531: ConvergenceWarning: Objective did not converge. You might want to increase the number of iterations. Duality gap: 0.0, tolerance: 0.0\n",
      "  positive)\n",
      "/share/code/beatrixh/miniconda/envs/stats/lib/python3.6/site-packages/sklearn/linear_model/_coordinate_descent.py:531: ConvergenceWarning: Objective did not converge. You might want to increase the number of iterations. Duality gap: 0.0, tolerance: 0.0\n",
      "  positive)\n",
      "/share/code/beatrixh/miniconda/envs/stats/lib/python3.6/site-packages/sklearn/linear_model/_coordinate_descent.py:531: ConvergenceWarning: Objective did not converge. You might want to increase the number of iterations. Duality gap: 0.0, tolerance: 0.0\n",
      "  positive)\n",
      "/share/code/beatrixh/miniconda/envs/stats/lib/python3.6/site-packages/sklearn/linear_model/_coordinate_descent.py:531: ConvergenceWarning: Objective did not converge. You might want to increase the number of iterations. Duality gap: 0.0, tolerance: 0.0\n",
      "  positive)\n",
      "/share/code/beatrixh/miniconda/envs/stats/lib/python3.6/site-packages/sklearn/linear_model/_coordinate_descent.py:531: ConvergenceWarning: Objective did not converge. You might want to increase the number of iterations. Duality gap: 0.0, tolerance: 0.0\n",
      "  positive)\n",
      "/share/code/beatrixh/miniconda/envs/stats/lib/python3.6/site-packages/sklearn/linear_model/_coordinate_descent.py:531: ConvergenceWarning: Objective did not converge. You might want to increase the number of iterations. Duality gap: 0.0, tolerance: 0.0\n",
      "  positive)\n",
      "/share/code/beatrixh/miniconda/envs/stats/lib/python3.6/site-packages/sklearn/linear_model/_coordinate_descent.py:531: ConvergenceWarning: Objective did not converge. You might want to increase the number of iterations. Duality gap: 0.0, tolerance: 0.0\n",
      "  positive)\n",
      "/share/code/beatrixh/miniconda/envs/stats/lib/python3.6/site-packages/sklearn/linear_model/_coordinate_descent.py:531: ConvergenceWarning: Objective did not converge. You might want to increase the number of iterations. Duality gap: 0.0, tolerance: 0.0\n",
      "  positive)\n",
      "/share/code/beatrixh/miniconda/envs/stats/lib/python3.6/site-packages/sklearn/linear_model/_coordinate_descent.py:531: ConvergenceWarning: Objective did not converge. You might want to increase the number of iterations. Duality gap: 0.0, tolerance: 0.0\n",
      "  positive)\n",
      "/share/code/beatrixh/miniconda/envs/stats/lib/python3.6/site-packages/sklearn/linear_model/_coordinate_descent.py:531: ConvergenceWarning: Objective did not converge. You might want to increase the number of iterations. Duality gap: 0.0, tolerance: 0.0\n",
      "  positive)\n",
      "/share/code/beatrixh/miniconda/envs/stats/lib/python3.6/site-packages/sklearn/linear_model/_coordinate_descent.py:531: ConvergenceWarning: Objective did not converge. You might want to increase the number of iterations. Duality gap: 0.0, tolerance: 0.0\n",
      "  positive)\n",
      "/share/code/beatrixh/miniconda/envs/stats/lib/python3.6/site-packages/sklearn/linear_model/_coordinate_descent.py:531: ConvergenceWarning: Objective did not converge. You might want to increase the number of iterations. Duality gap: 0.0, tolerance: 0.0\n",
      "  positive)\n",
      "/share/code/beatrixh/miniconda/envs/stats/lib/python3.6/site-packages/sklearn/linear_model/_coordinate_descent.py:531: ConvergenceWarning: Objective did not converge. You might want to increase the number of iterations. Duality gap: 0.0, tolerance: 0.0\n",
      "  positive)\n",
      "/share/code/beatrixh/miniconda/envs/stats/lib/python3.6/site-packages/sklearn/linear_model/_coordinate_descent.py:531: ConvergenceWarning: Objective did not converge. You might want to increase the number of iterations. Duality gap: 0.0, tolerance: 0.0\n",
      "  positive)\n",
      "/share/code/beatrixh/miniconda/envs/stats/lib/python3.6/site-packages/sklearn/linear_model/_coordinate_descent.py:531: ConvergenceWarning: Objective did not converge. You might want to increase the number of iterations. Duality gap: 0.0, tolerance: 0.0\n",
      "  positive)\n",
      "/share/code/beatrixh/miniconda/envs/stats/lib/python3.6/site-packages/sklearn/linear_model/_coordinate_descent.py:531: ConvergenceWarning: Objective did not converge. You might want to increase the number of iterations. Duality gap: 0.0, tolerance: 0.0\n",
      "  positive)\n",
      "/share/code/beatrixh/miniconda/envs/stats/lib/python3.6/site-packages/sklearn/linear_model/_coordinate_descent.py:531: ConvergenceWarning: Objective did not converge. You might want to increase the number of iterations. Duality gap: 0.0, tolerance: 0.0\n",
      "  positive)\n",
      "/share/code/beatrixh/miniconda/envs/stats/lib/python3.6/site-packages/sklearn/linear_model/_coordinate_descent.py:531: ConvergenceWarning: Objective did not converge. You might want to increase the number of iterations. Duality gap: 0.0, tolerance: 0.0\n",
      "  positive)\n",
      "/share/code/beatrixh/miniconda/envs/stats/lib/python3.6/site-packages/sklearn/linear_model/_coordinate_descent.py:531: ConvergenceWarning: Objective did not converge. You might want to increase the number of iterations. Duality gap: 0.0, tolerance: 0.0\n",
      "  positive)\n",
      "/share/code/beatrixh/miniconda/envs/stats/lib/python3.6/site-packages/sklearn/linear_model/_coordinate_descent.py:531: ConvergenceWarning: Objective did not converge. You might want to increase the number of iterations. Duality gap: 0.0, tolerance: 0.0\n",
      "  positive)\n",
      "/share/code/beatrixh/miniconda/envs/stats/lib/python3.6/site-packages/sklearn/linear_model/_coordinate_descent.py:531: ConvergenceWarning: Objective did not converge. You might want to increase the number of iterations. Duality gap: 0.0, tolerance: 0.0\n",
      "  positive)\n",
      "/share/code/beatrixh/miniconda/envs/stats/lib/python3.6/site-packages/sklearn/linear_model/_coordinate_descent.py:531: ConvergenceWarning: Objective did not converge. You might want to increase the number of iterations. Duality gap: 0.0, tolerance: 0.0\n",
      "  positive)\n",
      "/share/code/beatrixh/miniconda/envs/stats/lib/python3.6/site-packages/sklearn/linear_model/_coordinate_descent.py:531: ConvergenceWarning: Objective did not converge. You might want to increase the number of iterations. Duality gap: 0.0, tolerance: 0.0\n",
      "  positive)\n",
      "/share/code/beatrixh/miniconda/envs/stats/lib/python3.6/site-packages/sklearn/linear_model/_coordinate_descent.py:531: ConvergenceWarning: Objective did not converge. You might want to increase the number of iterations. Duality gap: 0.0, tolerance: 0.0\n",
      "  positive)\n",
      "/share/code/beatrixh/miniconda/envs/stats/lib/python3.6/site-packages/sklearn/linear_model/_coordinate_descent.py:531: ConvergenceWarning: Objective did not converge. You might want to increase the number of iterations. Duality gap: 0.0, tolerance: 0.0\n",
      "  positive)\n",
      "/share/code/beatrixh/miniconda/envs/stats/lib/python3.6/site-packages/sklearn/linear_model/_coordinate_descent.py:531: ConvergenceWarning: Objective did not converge. You might want to increase the number of iterations. Duality gap: 0.0, tolerance: 0.0\n",
      "  positive)\n",
      "/share/code/beatrixh/miniconda/envs/stats/lib/python3.6/site-packages/sklearn/linear_model/_coordinate_descent.py:531: ConvergenceWarning: Objective did not converge. You might want to increase the number of iterations. Duality gap: 0.0, tolerance: 0.0\n",
      "  positive)\n",
      "/share/code/beatrixh/miniconda/envs/stats/lib/python3.6/site-packages/sklearn/linear_model/_coordinate_descent.py:531: ConvergenceWarning: Objective did not converge. You might want to increase the number of iterations. Duality gap: 0.0, tolerance: 0.0\n",
      "  positive)\n",
      "/share/code/beatrixh/miniconda/envs/stats/lib/python3.6/site-packages/sklearn/linear_model/_coordinate_descent.py:531: ConvergenceWarning: Objective did not converge. You might want to increase the number of iterations. Duality gap: 0.0, tolerance: 0.0\n",
      "  positive)\n",
      "/share/code/beatrixh/miniconda/envs/stats/lib/python3.6/site-packages/sklearn/linear_model/_coordinate_descent.py:531: ConvergenceWarning: Objective did not converge. You might want to increase the number of iterations. Duality gap: 0.0, tolerance: 0.0\n",
      "  positive)\n",
      "/share/code/beatrixh/miniconda/envs/stats/lib/python3.6/site-packages/sklearn/linear_model/_coordinate_descent.py:531: ConvergenceWarning: Objective did not converge. You might want to increase the number of iterations. Duality gap: 0.0, tolerance: 0.0\n",
      "  positive)\n",
      "/share/code/beatrixh/miniconda/envs/stats/lib/python3.6/site-packages/sklearn/linear_model/_coordinate_descent.py:531: ConvergenceWarning: Objective did not converge. You might want to increase the number of iterations. Duality gap: 0.0, tolerance: 0.0\n",
      "  positive)\n",
      "/share/code/beatrixh/miniconda/envs/stats/lib/python3.6/site-packages/sklearn/linear_model/_coordinate_descent.py:531: ConvergenceWarning: Objective did not converge. You might want to increase the number of iterations. Duality gap: 0.0, tolerance: 0.0\n",
      "  positive)\n",
      "/share/code/beatrixh/miniconda/envs/stats/lib/python3.6/site-packages/sklearn/linear_model/_coordinate_descent.py:531: ConvergenceWarning: Objective did not converge. You might want to increase the number of iterations. Duality gap: 0.0, tolerance: 0.0\n",
      "  positive)\n",
      "/share/code/beatrixh/miniconda/envs/stats/lib/python3.6/site-packages/sklearn/linear_model/_coordinate_descent.py:531: ConvergenceWarning: Objective did not converge. You might want to increase the number of iterations. Duality gap: 0.0, tolerance: 0.0\n",
      "  positive)\n",
      "/share/code/beatrixh/miniconda/envs/stats/lib/python3.6/site-packages/sklearn/linear_model/_coordinate_descent.py:531: ConvergenceWarning: Objective did not converge. You might want to increase the number of iterations. Duality gap: 0.0, tolerance: 0.0\n",
      "  positive)\n",
      "/share/code/beatrixh/miniconda/envs/stats/lib/python3.6/site-packages/sklearn/linear_model/_coordinate_descent.py:531: ConvergenceWarning: Objective did not converge. You might want to increase the number of iterations. Duality gap: 0.0, tolerance: 0.0\n",
      "  positive)\n",
      "/share/code/beatrixh/miniconda/envs/stats/lib/python3.6/site-packages/sklearn/linear_model/_coordinate_descent.py:531: ConvergenceWarning: Objective did not converge. You might want to increase the number of iterations. Duality gap: 0.0, tolerance: 0.0\n",
      "  positive)\n",
      "/share/code/beatrixh/miniconda/envs/stats/lib/python3.6/site-packages/sklearn/linear_model/_coordinate_descent.py:531: ConvergenceWarning: Objective did not converge. You might want to increase the number of iterations. Duality gap: 0.0, tolerance: 0.0\n",
      "  positive)\n",
      "/share/code/beatrixh/miniconda/envs/stats/lib/python3.6/site-packages/sklearn/linear_model/_coordinate_descent.py:531: ConvergenceWarning: Objective did not converge. You might want to increase the number of iterations. Duality gap: 0.0, tolerance: 0.0\n",
      "  positive)\n",
      "/share/code/beatrixh/miniconda/envs/stats/lib/python3.6/site-packages/sklearn/linear_model/_coordinate_descent.py:531: ConvergenceWarning: Objective did not converge. You might want to increase the number of iterations. Duality gap: 0.0, tolerance: 0.0\n",
      "  positive)\n",
      "/share/code/beatrixh/miniconda/envs/stats/lib/python3.6/site-packages/sklearn/linear_model/_coordinate_descent.py:531: ConvergenceWarning: Objective did not converge. You might want to increase the number of iterations. Duality gap: 0.0, tolerance: 0.0\n",
      "  positive)\n",
      "/share/code/beatrixh/miniconda/envs/stats/lib/python3.6/site-packages/sklearn/linear_model/_coordinate_descent.py:531: ConvergenceWarning: Objective did not converge. You might want to increase the number of iterations. Duality gap: 0.0, tolerance: 0.0\n",
      "  positive)\n",
      "/share/code/beatrixh/miniconda/envs/stats/lib/python3.6/site-packages/sklearn/linear_model/_coordinate_descent.py:531: ConvergenceWarning: Objective did not converge. You might want to increase the number of iterations. Duality gap: 0.0, tolerance: 0.0\n",
      "  positive)\n",
      "/share/code/beatrixh/miniconda/envs/stats/lib/python3.6/site-packages/sklearn/linear_model/_coordinate_descent.py:531: ConvergenceWarning: Objective did not converge. You might want to increase the number of iterations. Duality gap: 0.0, tolerance: 0.0\n",
      "  positive)\n",
      "/share/code/beatrixh/miniconda/envs/stats/lib/python3.6/site-packages/sklearn/linear_model/_coordinate_descent.py:531: ConvergenceWarning: Objective did not converge. You might want to increase the number of iterations. Duality gap: 0.0, tolerance: 0.0\n",
      "  positive)\n",
      "/share/code/beatrixh/miniconda/envs/stats/lib/python3.6/site-packages/sklearn/linear_model/_coordinate_descent.py:531: ConvergenceWarning: Objective did not converge. You might want to increase the number of iterations. Duality gap: 0.0, tolerance: 0.0\n",
      "  positive)\n",
      "/share/code/beatrixh/miniconda/envs/stats/lib/python3.6/site-packages/sklearn/linear_model/_coordinate_descent.py:531: ConvergenceWarning: Objective did not converge. You might want to increase the number of iterations. Duality gap: 0.0, tolerance: 0.0\n",
      "  positive)\n",
      "/share/code/beatrixh/miniconda/envs/stats/lib/python3.6/site-packages/sklearn/linear_model/_coordinate_descent.py:531: ConvergenceWarning: Objective did not converge. You might want to increase the number of iterations. Duality gap: 0.0, tolerance: 0.0\n",
      "  positive)\n",
      "/share/code/beatrixh/miniconda/envs/stats/lib/python3.6/site-packages/sklearn/linear_model/_coordinate_descent.py:531: ConvergenceWarning: Objective did not converge. You might want to increase the number of iterations. Duality gap: 0.0, tolerance: 0.0\n",
      "  positive)\n",
      "/share/code/beatrixh/miniconda/envs/stats/lib/python3.6/site-packages/sklearn/linear_model/_coordinate_descent.py:531: ConvergenceWarning: Objective did not converge. You might want to increase the number of iterations. Duality gap: 0.0, tolerance: 0.0\n",
      "  positive)\n",
      "/share/code/beatrixh/miniconda/envs/stats/lib/python3.6/site-packages/sklearn/linear_model/_coordinate_descent.py:531: ConvergenceWarning: Objective did not converge. You might want to increase the number of iterations. Duality gap: 0.0, tolerance: 0.0\n",
      "  positive)\n",
      "/share/code/beatrixh/miniconda/envs/stats/lib/python3.6/site-packages/sklearn/linear_model/_coordinate_descent.py:531: ConvergenceWarning: Objective did not converge. You might want to increase the number of iterations. Duality gap: 0.0, tolerance: 0.0\n",
      "  positive)\n",
      "/share/code/beatrixh/miniconda/envs/stats/lib/python3.6/site-packages/sklearn/linear_model/_coordinate_descent.py:531: ConvergenceWarning: Objective did not converge. You might want to increase the number of iterations. Duality gap: 0.0, tolerance: 0.0\n",
      "  positive)\n",
      "/share/code/beatrixh/miniconda/envs/stats/lib/python3.6/site-packages/sklearn/linear_model/_coordinate_descent.py:531: ConvergenceWarning: Objective did not converge. You might want to increase the number of iterations. Duality gap: 0.0, tolerance: 0.0\n",
      "  positive)\n",
      "/share/code/beatrixh/miniconda/envs/stats/lib/python3.6/site-packages/sklearn/linear_model/_coordinate_descent.py:531: ConvergenceWarning: Objective did not converge. You might want to increase the number of iterations. Duality gap: 0.0, tolerance: 0.0\n",
      "  positive)\n",
      "/share/code/beatrixh/miniconda/envs/stats/lib/python3.6/site-packages/sklearn/linear_model/_coordinate_descent.py:531: ConvergenceWarning: Objective did not converge. You might want to increase the number of iterations. Duality gap: 0.0, tolerance: 0.0\n",
      "  positive)\n",
      "/share/code/beatrixh/miniconda/envs/stats/lib/python3.6/site-packages/sklearn/linear_model/_coordinate_descent.py:531: ConvergenceWarning: Objective did not converge. You might want to increase the number of iterations. Duality gap: 0.0, tolerance: 0.0\n",
      "  positive)\n",
      "/share/code/beatrixh/miniconda/envs/stats/lib/python3.6/site-packages/sklearn/linear_model/_coordinate_descent.py:531: ConvergenceWarning: Objective did not converge. You might want to increase the number of iterations. Duality gap: 0.0, tolerance: 0.0\n",
      "  positive)\n",
      "/share/code/beatrixh/miniconda/envs/stats/lib/python3.6/site-packages/sklearn/linear_model/_coordinate_descent.py:531: ConvergenceWarning: Objective did not converge. You might want to increase the number of iterations. Duality gap: 0.0, tolerance: 0.0\n",
      "  positive)\n",
      "/share/code/beatrixh/miniconda/envs/stats/lib/python3.6/site-packages/sklearn/linear_model/_coordinate_descent.py:531: ConvergenceWarning: Objective did not converge. You might want to increase the number of iterations. Duality gap: 0.0, tolerance: 0.0\n",
      "  positive)\n",
      "/share/code/beatrixh/miniconda/envs/stats/lib/python3.6/site-packages/sklearn/linear_model/_coordinate_descent.py:531: ConvergenceWarning: Objective did not converge. You might want to increase the number of iterations. Duality gap: 0.0, tolerance: 0.0\n",
      "  positive)\n",
      "/share/code/beatrixh/miniconda/envs/stats/lib/python3.6/site-packages/sklearn/linear_model/_coordinate_descent.py:531: ConvergenceWarning: Objective did not converge. You might want to increase the number of iterations. Duality gap: 0.0, tolerance: 0.0\n",
      "  positive)\n",
      "/share/code/beatrixh/miniconda/envs/stats/lib/python3.6/site-packages/sklearn/linear_model/_coordinate_descent.py:531: ConvergenceWarning: Objective did not converge. You might want to increase the number of iterations. Duality gap: 0.0, tolerance: 0.0\n",
      "  positive)\n",
      "/share/code/beatrixh/miniconda/envs/stats/lib/python3.6/site-packages/sklearn/linear_model/_coordinate_descent.py:531: ConvergenceWarning: Objective did not converge. You might want to increase the number of iterations. Duality gap: 0.0, tolerance: 0.0\n",
      "  positive)\n",
      "/share/code/beatrixh/miniconda/envs/stats/lib/python3.6/site-packages/sklearn/linear_model/_coordinate_descent.py:531: ConvergenceWarning: Objective did not converge. You might want to increase the number of iterations. Duality gap: 0.0, tolerance: 0.0\n",
      "  positive)\n",
      "/share/code/beatrixh/miniconda/envs/stats/lib/python3.6/site-packages/sklearn/linear_model/_coordinate_descent.py:531: ConvergenceWarning: Objective did not converge. You might want to increase the number of iterations. Duality gap: 0.0, tolerance: 0.0\n",
      "  positive)\n",
      "/share/code/beatrixh/miniconda/envs/stats/lib/python3.6/site-packages/sklearn/linear_model/_coordinate_descent.py:531: ConvergenceWarning: Objective did not converge. You might want to increase the number of iterations. Duality gap: 0.0, tolerance: 0.0\n",
      "  positive)\n",
      "/share/code/beatrixh/miniconda/envs/stats/lib/python3.6/site-packages/sklearn/linear_model/_coordinate_descent.py:531: ConvergenceWarning: Objective did not converge. You might want to increase the number of iterations. Duality gap: 0.0, tolerance: 0.0\n",
      "  positive)\n",
      "/share/code/beatrixh/miniconda/envs/stats/lib/python3.6/site-packages/sklearn/linear_model/_coordinate_descent.py:531: ConvergenceWarning: Objective did not converge. You might want to increase the number of iterations. Duality gap: 0.0, tolerance: 0.0\n",
      "  positive)\n",
      "/share/code/beatrixh/miniconda/envs/stats/lib/python3.6/site-packages/sklearn/linear_model/_coordinate_descent.py:531: ConvergenceWarning: Objective did not converge. You might want to increase the number of iterations. Duality gap: 0.0, tolerance: 0.0\n",
      "  positive)\n",
      "/share/code/beatrixh/miniconda/envs/stats/lib/python3.6/site-packages/sklearn/linear_model/_coordinate_descent.py:531: ConvergenceWarning: Objective did not converge. You might want to increase the number of iterations. Duality gap: 0.0, tolerance: 0.0\n",
      "  positive)\n",
      "/share/code/beatrixh/miniconda/envs/stats/lib/python3.6/site-packages/sklearn/linear_model/_coordinate_descent.py:531: ConvergenceWarning: Objective did not converge. You might want to increase the number of iterations. Duality gap: 0.0, tolerance: 0.0\n",
      "  positive)\n",
      "/share/code/beatrixh/miniconda/envs/stats/lib/python3.6/site-packages/sklearn/linear_model/_coordinate_descent.py:531: ConvergenceWarning: Objective did not converge. You might want to increase the number of iterations. Duality gap: 0.0, tolerance: 0.0\n",
      "  positive)\n",
      "/share/code/beatrixh/miniconda/envs/stats/lib/python3.6/site-packages/sklearn/linear_model/_coordinate_descent.py:531: ConvergenceWarning: Objective did not converge. You might want to increase the number of iterations. Duality gap: 0.0, tolerance: 0.0\n",
      "  positive)\n",
      "/share/code/beatrixh/miniconda/envs/stats/lib/python3.6/site-packages/sklearn/linear_model/_coordinate_descent.py:531: ConvergenceWarning: Objective did not converge. You might want to increase the number of iterations. Duality gap: 0.0, tolerance: 0.0\n",
      "  positive)\n",
      "/share/code/beatrixh/miniconda/envs/stats/lib/python3.6/site-packages/sklearn/linear_model/_coordinate_descent.py:531: ConvergenceWarning: Objective did not converge. You might want to increase the number of iterations. Duality gap: 0.0, tolerance: 0.0\n",
      "  positive)\n"
     ]
    },
    {
     "data": {
      "image/png": "[encoded data removed]",
      "text/plain": [
       "<Figure size 576x360 with 1 Axes>"
      ]
     },
     "metadata": {
      "needs_background": "light"
     },
     "output_type": "display_data"
    },
    {
     "name": "stdout",
     "output_type": "stream",
     "text": [
      "average error: 17.35\n",
      "average clipped err: 17.35\n",
      "avg overall error: 24.41\n",
      "avg overall clipped error: 21.93\n"
     ]
    }
   ],
   "source": [
    "save_path = 'pct_eating_vehicle.pdf'\n",
    "pdf = matplotlib.backends.backend_pdf.PdfPages(save_path)\n",
    "\n",
    "\n",
    "use_logit = False\n",
    "total_err = 0\n",
    "total_clipped_err = 0\n",
    "for vehicle in ['wheat flour', 'oil', 'maize flour', 'bouillon', 'rice']:\n",
    "    X, y, X_full, y_full, locs = setupReg(df, vehicle, use_logit)\n",
    "\n",
    "    holdout, preds = runReg(X,y)\n",
    "    for i in range(100):\n",
    "        a, b = runReg(X,y)\n",
    "        holdout = np.concatenate((holdout, a))\n",
    "        preds = np.concatenate((preds, b))\n",
    "    \n",
    "    fig = plt.figure(figsize=(8,5))\n",
    "    plotReg(preds, holdout, use_logit, vehicle)\n",
    "    plt.show()\n",
    "    pdf.savefig(fig)\n",
    "    \n",
    "    err = sum(np.abs(y[holdout] - preds)) / len(holdout)\n",
    "    total_err += err\n",
    "    print(f'average error: {err:0.2f}')\n",
    "    \n",
    "    clipped_err = sum(np.abs(y[holdout] - np.clip(preds, 0, 100))) / len(holdout)\n",
    "    total_clipped_err += clipped_err\n",
    "    print(f'average clipped err: {clipped_err:0.2f}')\n",
    "\n",
    "pdf.close()\n",
    "print(f'avg overall error: {total_err/5:0.2f}')\n",
    "print(f'avg overall clipped error: {total_clipped_err/5:0.2f}')"
   ]
  },
  {
   "cell_type": "code",
   "execution_count": 17,
   "metadata": {
    "scrolled": false
   },
   "outputs": [
    {
     "name": "stdout",
     "output_type": "stream",
     "text": [
      "Index(['percent_of_population_eating_vehicle',\n",
      "       'percent_of_population_eating_industrially_produced_vehicle',\n",
      "       'percent_of_population_eating_fortified_vehicle', 'sodium',\n",
      "       'whole_grains', 'sdi', 'hh_salt', 'fao_maize_and_products',\n",
      "       'fao_rice_and_products', 'fao_wheat_and_products', 'fao_oil_all',\n",
      "       'parent_id'],\n",
      "      dtype='object')\n"
     ]
    },
    {
     "data": {
      "image/png": "[encoded data removed]",
      "text/plain": [
       "<Figure size 576x360 with 1 Axes>"
      ]
     },
     "metadata": {
      "needs_background": "light"
     },
     "output_type": "display_data"
    },
    {
     "name": "stdout",
     "output_type": "stream",
     "text": [
      "average error: 29.75\n",
      "Index(['percent_of_population_eating_vehicle',\n",
      "       'percent_of_population_eating_industrially_produced_vehicle',\n",
      "       'percent_of_population_eating_fortified_vehicle', 'sodium',\n",
      "       'whole_grains', 'sdi', 'hh_salt', 'fao_maize_and_products',\n",
      "       'fao_rice_and_products', 'fao_wheat_and_products', 'fao_oil_all',\n",
      "       'parent_id'],\n",
      "      dtype='object')\n"
     ]
    },
    {
     "data": {
      "image/png": "[encoded data removed]",
      "text/plain": [
       "<Figure size 576x360 with 1 Axes>"
      ]
     },
     "metadata": {
      "needs_background": "light"
     },
     "output_type": "display_data"
    },
    {
     "name": "stdout",
     "output_type": "stream",
     "text": [
      "average error: 24.91\n",
      "Index(['percent_of_population_eating_vehicle',\n",
      "       'percent_of_population_eating_industrially_produced_vehicle',\n",
      "       'percent_of_population_eating_fortified_vehicle', 'sodium',\n",
      "       'whole_grains', 'sdi', 'hh_salt', 'fao_maize_and_products',\n",
      "       'fao_rice_and_products', 'fao_wheat_and_products', 'fao_oil_all',\n",
      "       'parent_id'],\n",
      "      dtype='object')\n"
     ]
    },
    {
     "data": {
      "image/png": "[encoded data removed]",
      "text/plain": [
       "<Figure size 576x360 with 1 Axes>"
      ]
     },
     "metadata": {
      "needs_background": "light"
     },
     "output_type": "display_data"
    },
    {
     "name": "stdout",
     "output_type": "stream",
     "text": [
      "average error: 25.30\n",
      "Index(['percent_of_population_eating_vehicle',\n",
      "       'percent_of_population_eating_industrially_produced_vehicle',\n",
      "       'percent_of_population_eating_fortified_vehicle', 'sodium',\n",
      "       'whole_grains', 'sdi', 'hh_salt', 'fao_maize_and_products',\n",
      "       'fao_rice_and_products', 'fao_wheat_and_products', 'fao_oil_all',\n",
      "       'parent_id'],\n",
      "      dtype='object')\n"
     ]
    },
    {
     "data": {
      "image/png": "[encoded data removed]",
      "text/plain": [
       "<Figure size 576x360 with 1 Axes>"
      ]
     },
     "metadata": {
      "needs_background": "light"
     },
     "output_type": "display_data"
    },
    {
     "name": "stdout",
     "output_type": "stream",
     "text": [
      "average error: 12.06\n",
      "Index(['percent_of_population_eating_vehicle',\n",
      "       'percent_of_population_eating_industrially_produced_vehicle',\n",
      "       'percent_of_population_eating_fortified_vehicle', 'sodium',\n",
      "       'whole_grains', 'sdi', 'hh_salt', 'fao_maize_and_products',\n",
      "       'fao_rice_and_products', 'fao_wheat_and_products', 'fao_oil_all',\n",
      "       'parent_id'],\n",
      "      dtype='object')\n"
     ]
    },
    {
     "name": "stderr",
     "output_type": "stream",
     "text": [
      "/share/code/beatrixh/miniconda/envs/stats/lib/python3.6/site-packages/sklearn/linear_model/_coordinate_descent.py:531: ConvergenceWarning: Objective did not converge. You might want to increase the number of iterations. Duality gap: 0.0, tolerance: 0.0\n",
      "  positive)\n",
      "/share/code/beatrixh/miniconda/envs/stats/lib/python3.6/site-packages/sklearn/linear_model/_coordinate_descent.py:531: ConvergenceWarning: Objective did not converge. You might want to increase the number of iterations. Duality gap: 0.0, tolerance: 0.0\n",
      "  positive)\n",
      "/share/code/beatrixh/miniconda/envs/stats/lib/python3.6/site-packages/sklearn/linear_model/_coordinate_descent.py:531: ConvergenceWarning: Objective did not converge. You might want to increase the number of iterations. Duality gap: 0.0, tolerance: 0.0\n",
      "  positive)\n",
      "/share/code/beatrixh/miniconda/envs/stats/lib/python3.6/site-packages/sklearn/linear_model/_coordinate_descent.py:531: ConvergenceWarning: Objective did not converge. You might want to increase the number of iterations. Duality gap: 0.0, tolerance: 0.0\n",
      "  positive)\n",
      "/share/code/beatrixh/miniconda/envs/stats/lib/python3.6/site-packages/sklearn/linear_model/_coordinate_descent.py:531: ConvergenceWarning: Objective did not converge. You might want to increase the number of iterations. Duality gap: 0.0, tolerance: 0.0\n",
      "  positive)\n",
      "/share/code/beatrixh/miniconda/envs/stats/lib/python3.6/site-packages/sklearn/linear_model/_coordinate_descent.py:531: ConvergenceWarning: Objective did not converge. You might want to increase the number of iterations. Duality gap: 0.0, tolerance: 0.0\n",
      "  positive)\n",
      "/share/code/beatrixh/miniconda/envs/stats/lib/python3.6/site-packages/sklearn/linear_model/_coordinate_descent.py:531: ConvergenceWarning: Objective did not converge. You might want to increase the number of iterations. Duality gap: 0.0, tolerance: 0.0\n",
      "  positive)\n",
      "/share/code/beatrixh/miniconda/envs/stats/lib/python3.6/site-packages/sklearn/linear_model/_coordinate_descent.py:531: ConvergenceWarning: Objective did not converge. You might want to increase the number of iterations. Duality gap: 0.0, tolerance: 0.0\n",
      "  positive)\n",
      "/share/code/beatrixh/miniconda/envs/stats/lib/python3.6/site-packages/sklearn/linear_model/_coordinate_descent.py:531: ConvergenceWarning: Objective did not converge. You might want to increase the number of iterations. Duality gap: 0.0, tolerance: 0.0\n",
      "  positive)\n",
      "/share/code/beatrixh/miniconda/envs/stats/lib/python3.6/site-packages/sklearn/linear_model/_coordinate_descent.py:531: ConvergenceWarning: Objective did not converge. You might want to increase the number of iterations. Duality gap: 0.0, tolerance: 0.0\n",
      "  positive)\n",
      "/share/code/beatrixh/miniconda/envs/stats/lib/python3.6/site-packages/sklearn/linear_model/_coordinate_descent.py:531: ConvergenceWarning: Objective did not converge. You might want to increase the number of iterations. Duality gap: 0.0, tolerance: 0.0\n",
      "  positive)\n",
      "/share/code/beatrixh/miniconda/envs/stats/lib/python3.6/site-packages/sklearn/linear_model/_coordinate_descent.py:531: ConvergenceWarning: Objective did not converge. You might want to increase the number of iterations. Duality gap: 0.0, tolerance: 0.0\n",
      "  positive)\n",
      "/share/code/beatrixh/miniconda/envs/stats/lib/python3.6/site-packages/sklearn/linear_model/_coordinate_descent.py:531: ConvergenceWarning: Objective did not converge. You might want to increase the number of iterations. Duality gap: 0.0, tolerance: 0.0\n",
      "  positive)\n",
      "/share/code/beatrixh/miniconda/envs/stats/lib/python3.6/site-packages/sklearn/linear_model/_coordinate_descent.py:531: ConvergenceWarning: Objective did not converge. You might want to increase the number of iterations. Duality gap: 0.0, tolerance: 0.0\n",
      "  positive)\n",
      "/share/code/beatrixh/miniconda/envs/stats/lib/python3.6/site-packages/sklearn/linear_model/_coordinate_descent.py:531: ConvergenceWarning: Objective did not converge. You might want to increase the number of iterations. Duality gap: 0.0, tolerance: 0.0\n",
      "  positive)\n",
      "/share/code/beatrixh/miniconda/envs/stats/lib/python3.6/site-packages/sklearn/linear_model/_coordinate_descent.py:531: ConvergenceWarning: Objective did not converge. You might want to increase the number of iterations. Duality gap: 0.0, tolerance: 0.0\n",
      "  positive)\n",
      "/share/code/beatrixh/miniconda/envs/stats/lib/python3.6/site-packages/sklearn/linear_model/_coordinate_descent.py:531: ConvergenceWarning: Objective did not converge. You might want to increase the number of iterations. Duality gap: 0.0, tolerance: 0.0\n",
      "  positive)\n",
      "/share/code/beatrixh/miniconda/envs/stats/lib/python3.6/site-packages/sklearn/linear_model/_coordinate_descent.py:531: ConvergenceWarning: Objective did not converge. You might want to increase the number of iterations. Duality gap: 0.0, tolerance: 0.0\n",
      "  positive)\n",
      "/share/code/beatrixh/miniconda/envs/stats/lib/python3.6/site-packages/sklearn/linear_model/_coordinate_descent.py:531: ConvergenceWarning: Objective did not converge. You might want to increase the number of iterations. Duality gap: 0.0, tolerance: 0.0\n",
      "  positive)\n",
      "/share/code/beatrixh/miniconda/envs/stats/lib/python3.6/site-packages/sklearn/linear_model/_coordinate_descent.py:531: ConvergenceWarning: Objective did not converge. You might want to increase the number of iterations. Duality gap: 0.0, tolerance: 0.0\n",
      "  positive)\n",
      "/share/code/beatrixh/miniconda/envs/stats/lib/python3.6/site-packages/sklearn/linear_model/_coordinate_descent.py:531: ConvergenceWarning: Objective did not converge. You might want to increase the number of iterations. Duality gap: 0.0, tolerance: 0.0\n",
      "  positive)\n",
      "/share/code/beatrixh/miniconda/envs/stats/lib/python3.6/site-packages/sklearn/linear_model/_coordinate_descent.py:531: ConvergenceWarning: Objective did not converge. You might want to increase the number of iterations. Duality gap: 0.0, tolerance: 0.0\n",
      "  positive)\n",
      "/share/code/beatrixh/miniconda/envs/stats/lib/python3.6/site-packages/sklearn/linear_model/_coordinate_descent.py:531: ConvergenceWarning: Objective did not converge. You might want to increase the number of iterations. Duality gap: 0.0, tolerance: 0.0\n",
      "  positive)\n",
      "/share/code/beatrixh/miniconda/envs/stats/lib/python3.6/site-packages/sklearn/linear_model/_coordinate_descent.py:531: ConvergenceWarning: Objective did not converge. You might want to increase the number of iterations. Duality gap: 0.0, tolerance: 0.0\n",
      "  positive)\n",
      "/share/code/beatrixh/miniconda/envs/stats/lib/python3.6/site-packages/sklearn/linear_model/_coordinate_descent.py:531: ConvergenceWarning: Objective did not converge. You might want to increase the number of iterations. Duality gap: 0.0, tolerance: 0.0\n",
      "  positive)\n",
      "/share/code/beatrixh/miniconda/envs/stats/lib/python3.6/site-packages/sklearn/linear_model/_coordinate_descent.py:531: ConvergenceWarning: Objective did not converge. You might want to increase the number of iterations. Duality gap: 0.0, tolerance: 0.0\n",
      "  positive)\n",
      "/share/code/beatrixh/miniconda/envs/stats/lib/python3.6/site-packages/sklearn/linear_model/_coordinate_descent.py:531: ConvergenceWarning: Objective did not converge. You might want to increase the number of iterations. Duality gap: 0.0, tolerance: 0.0\n",
      "  positive)\n",
      "/share/code/beatrixh/miniconda/envs/stats/lib/python3.6/site-packages/sklearn/linear_model/_coordinate_descent.py:531: ConvergenceWarning: Objective did not converge. You might want to increase the number of iterations. Duality gap: 0.0, tolerance: 0.0\n",
      "  positive)\n",
      "/share/code/beatrixh/miniconda/envs/stats/lib/python3.6/site-packages/sklearn/linear_model/_coordinate_descent.py:531: ConvergenceWarning: Objective did not converge. You might want to increase the number of iterations. Duality gap: 0.0, tolerance: 0.0\n",
      "  positive)\n",
      "/share/code/beatrixh/miniconda/envs/stats/lib/python3.6/site-packages/sklearn/linear_model/_coordinate_descent.py:531: ConvergenceWarning: Objective did not converge. You might want to increase the number of iterations. Duality gap: 0.0, tolerance: 0.0\n",
      "  positive)\n",
      "/share/code/beatrixh/miniconda/envs/stats/lib/python3.6/site-packages/sklearn/linear_model/_coordinate_descent.py:531: ConvergenceWarning: Objective did not converge. You might want to increase the number of iterations. Duality gap: 0.0, tolerance: 0.0\n",
      "  positive)\n",
      "/share/code/beatrixh/miniconda/envs/stats/lib/python3.6/site-packages/sklearn/linear_model/_coordinate_descent.py:531: ConvergenceWarning: Objective did not converge. You might want to increase the number of iterations. Duality gap: 0.0, tolerance: 0.0\n",
      "  positive)\n",
      "/share/code/beatrixh/miniconda/envs/stats/lib/python3.6/site-packages/sklearn/linear_model/_coordinate_descent.py:531: ConvergenceWarning: Objective did not converge. You might want to increase the number of iterations. Duality gap: 0.0, tolerance: 0.0\n",
      "  positive)\n",
      "/share/code/beatrixh/miniconda/envs/stats/lib/python3.6/site-packages/sklearn/linear_model/_coordinate_descent.py:531: ConvergenceWarning: Objective did not converge. You might want to increase the number of iterations. Duality gap: 0.0, tolerance: 0.0\n",
      "  positive)\n",
      "/share/code/beatrixh/miniconda/envs/stats/lib/python3.6/site-packages/sklearn/linear_model/_coordinate_descent.py:531: ConvergenceWarning: Objective did not converge. You might want to increase the number of iterations. Duality gap: 0.0, tolerance: 0.0\n",
      "  positive)\n",
      "/share/code/beatrixh/miniconda/envs/stats/lib/python3.6/site-packages/sklearn/linear_model/_coordinate_descent.py:531: ConvergenceWarning: Objective did not converge. You might want to increase the number of iterations. Duality gap: 0.0, tolerance: 0.0\n",
      "  positive)\n",
      "/share/code/beatrixh/miniconda/envs/stats/lib/python3.6/site-packages/sklearn/linear_model/_coordinate_descent.py:531: ConvergenceWarning: Objective did not converge. You might want to increase the number of iterations. Duality gap: 0.0, tolerance: 0.0\n",
      "  positive)\n",
      "/share/code/beatrixh/miniconda/envs/stats/lib/python3.6/site-packages/sklearn/linear_model/_coordinate_descent.py:531: ConvergenceWarning: Objective did not converge. You might want to increase the number of iterations. Duality gap: 0.0, tolerance: 0.0\n",
      "  positive)\n",
      "/share/code/beatrixh/miniconda/envs/stats/lib/python3.6/site-packages/sklearn/linear_model/_coordinate_descent.py:531: ConvergenceWarning: Objective did not converge. You might want to increase the number of iterations. Duality gap: 0.0, tolerance: 0.0\n",
      "  positive)\n",
      "/share/code/beatrixh/miniconda/envs/stats/lib/python3.6/site-packages/sklearn/linear_model/_coordinate_descent.py:531: ConvergenceWarning: Objective did not converge. You might want to increase the number of iterations. Duality gap: 0.0, tolerance: 0.0\n",
      "  positive)\n",
      "/share/code/beatrixh/miniconda/envs/stats/lib/python3.6/site-packages/sklearn/linear_model/_coordinate_descent.py:531: ConvergenceWarning: Objective did not converge. You might want to increase the number of iterations. Duality gap: 0.0, tolerance: 0.0\n",
      "  positive)\n",
      "/share/code/beatrixh/miniconda/envs/stats/lib/python3.6/site-packages/sklearn/linear_model/_coordinate_descent.py:531: ConvergenceWarning: Objective did not converge. You might want to increase the number of iterations. Duality gap: 0.0, tolerance: 0.0\n",
      "  positive)\n",
      "/share/code/beatrixh/miniconda/envs/stats/lib/python3.6/site-packages/sklearn/linear_model/_coordinate_descent.py:531: ConvergenceWarning: Objective did not converge. You might want to increase the number of iterations. Duality gap: 0.0, tolerance: 0.0\n",
      "  positive)\n",
      "/share/code/beatrixh/miniconda/envs/stats/lib/python3.6/site-packages/sklearn/linear_model/_coordinate_descent.py:531: ConvergenceWarning: Objective did not converge. You might want to increase the number of iterations. Duality gap: 0.0, tolerance: 0.0\n",
      "  positive)\n",
      "/share/code/beatrixh/miniconda/envs/stats/lib/python3.6/site-packages/sklearn/linear_model/_coordinate_descent.py:531: ConvergenceWarning: Objective did not converge. You might want to increase the number of iterations. Duality gap: 0.0, tolerance: 0.0\n",
      "  positive)\n",
      "/share/code/beatrixh/miniconda/envs/stats/lib/python3.6/site-packages/sklearn/linear_model/_coordinate_descent.py:531: ConvergenceWarning: Objective did not converge. You might want to increase the number of iterations. Duality gap: 0.0, tolerance: 0.0\n",
      "  positive)\n",
      "/share/code/beatrixh/miniconda/envs/stats/lib/python3.6/site-packages/sklearn/linear_model/_coordinate_descent.py:531: ConvergenceWarning: Objective did not converge. You might want to increase the number of iterations. Duality gap: 0.0, tolerance: 0.0\n",
      "  positive)\n",
      "/share/code/beatrixh/miniconda/envs/stats/lib/python3.6/site-packages/sklearn/linear_model/_coordinate_descent.py:531: ConvergenceWarning: Objective did not converge. You might want to increase the number of iterations. Duality gap: 0.0, tolerance: 0.0\n",
      "  positive)\n",
      "/share/code/beatrixh/miniconda/envs/stats/lib/python3.6/site-packages/sklearn/linear_model/_coordinate_descent.py:531: ConvergenceWarning: Objective did not converge. You might want to increase the number of iterations. Duality gap: 0.0, tolerance: 0.0\n",
      "  positive)\n",
      "/share/code/beatrixh/miniconda/envs/stats/lib/python3.6/site-packages/sklearn/linear_model/_coordinate_descent.py:531: ConvergenceWarning: Objective did not converge. You might want to increase the number of iterations. Duality gap: 0.0, tolerance: 0.0\n",
      "  positive)\n",
      "/share/code/beatrixh/miniconda/envs/stats/lib/python3.6/site-packages/sklearn/linear_model/_coordinate_descent.py:531: ConvergenceWarning: Objective did not converge. You might want to increase the number of iterations. Duality gap: 0.0, tolerance: 0.0\n",
      "  positive)\n",
      "/share/code/beatrixh/miniconda/envs/stats/lib/python3.6/site-packages/sklearn/linear_model/_coordinate_descent.py:531: ConvergenceWarning: Objective did not converge. You might want to increase the number of iterations. Duality gap: 0.0, tolerance: 0.0\n",
      "  positive)\n",
      "/share/code/beatrixh/miniconda/envs/stats/lib/python3.6/site-packages/sklearn/linear_model/_coordinate_descent.py:531: ConvergenceWarning: Objective did not converge. You might want to increase the number of iterations. Duality gap: 0.0, tolerance: 0.0\n",
      "  positive)\n",
      "/share/code/beatrixh/miniconda/envs/stats/lib/python3.6/site-packages/sklearn/linear_model/_coordinate_descent.py:531: ConvergenceWarning: Objective did not converge. You might want to increase the number of iterations. Duality gap: 0.0, tolerance: 0.0\n",
      "  positive)\n",
      "/share/code/beatrixh/miniconda/envs/stats/lib/python3.6/site-packages/sklearn/linear_model/_coordinate_descent.py:531: ConvergenceWarning: Objective did not converge. You might want to increase the number of iterations. Duality gap: 0.0, tolerance: 0.0\n",
      "  positive)\n",
      "/share/code/beatrixh/miniconda/envs/stats/lib/python3.6/site-packages/sklearn/linear_model/_coordinate_descent.py:531: ConvergenceWarning: Objective did not converge. You might want to increase the number of iterations. Duality gap: 0.0, tolerance: 0.0\n",
      "  positive)\n",
      "/share/code/beatrixh/miniconda/envs/stats/lib/python3.6/site-packages/sklearn/linear_model/_coordinate_descent.py:531: ConvergenceWarning: Objective did not converge. You might want to increase the number of iterations. Duality gap: 0.0, tolerance: 0.0\n",
      "  positive)\n",
      "/share/code/beatrixh/miniconda/envs/stats/lib/python3.6/site-packages/sklearn/linear_model/_coordinate_descent.py:531: ConvergenceWarning: Objective did not converge. You might want to increase the number of iterations. Duality gap: 0.0, tolerance: 0.0\n",
      "  positive)\n",
      "/share/code/beatrixh/miniconda/envs/stats/lib/python3.6/site-packages/sklearn/linear_model/_coordinate_descent.py:531: ConvergenceWarning: Objective did not converge. You might want to increase the number of iterations. Duality gap: 0.0, tolerance: 0.0\n",
      "  positive)\n",
      "/share/code/beatrixh/miniconda/envs/stats/lib/python3.6/site-packages/sklearn/linear_model/_coordinate_descent.py:531: ConvergenceWarning: Objective did not converge. You might want to increase the number of iterations. Duality gap: 0.0, tolerance: 0.0\n",
      "  positive)\n",
      "/share/code/beatrixh/miniconda/envs/stats/lib/python3.6/site-packages/sklearn/linear_model/_coordinate_descent.py:531: ConvergenceWarning: Objective did not converge. You might want to increase the number of iterations. Duality gap: 0.0, tolerance: 0.0\n",
      "  positive)\n",
      "/share/code/beatrixh/miniconda/envs/stats/lib/python3.6/site-packages/sklearn/linear_model/_coordinate_descent.py:531: ConvergenceWarning: Objective did not converge. You might want to increase the number of iterations. Duality gap: 0.0, tolerance: 0.0\n",
      "  positive)\n",
      "/share/code/beatrixh/miniconda/envs/stats/lib/python3.6/site-packages/sklearn/linear_model/_coordinate_descent.py:531: ConvergenceWarning: Objective did not converge. You might want to increase the number of iterations. Duality gap: 0.0, tolerance: 0.0\n",
      "  positive)\n",
      "/share/code/beatrixh/miniconda/envs/stats/lib/python3.6/site-packages/sklearn/linear_model/_coordinate_descent.py:531: ConvergenceWarning: Objective did not converge. You might want to increase the number of iterations. Duality gap: 0.0, tolerance: 0.0\n",
      "  positive)\n",
      "/share/code/beatrixh/miniconda/envs/stats/lib/python3.6/site-packages/sklearn/linear_model/_coordinate_descent.py:531: ConvergenceWarning: Objective did not converge. You might want to increase the number of iterations. Duality gap: 0.0, tolerance: 0.0\n",
      "  positive)\n",
      "/share/code/beatrixh/miniconda/envs/stats/lib/python3.6/site-packages/sklearn/linear_model/_coordinate_descent.py:531: ConvergenceWarning: Objective did not converge. You might want to increase the number of iterations. Duality gap: 0.0, tolerance: 0.0\n",
      "  positive)\n",
      "/share/code/beatrixh/miniconda/envs/stats/lib/python3.6/site-packages/sklearn/linear_model/_coordinate_descent.py:531: ConvergenceWarning: Objective did not converge. You might want to increase the number of iterations. Duality gap: 0.0, tolerance: 0.0\n",
      "  positive)\n",
      "/share/code/beatrixh/miniconda/envs/stats/lib/python3.6/site-packages/sklearn/linear_model/_coordinate_descent.py:531: ConvergenceWarning: Objective did not converge. You might want to increase the number of iterations. Duality gap: 0.0, tolerance: 0.0\n",
      "  positive)\n",
      "/share/code/beatrixh/miniconda/envs/stats/lib/python3.6/site-packages/sklearn/linear_model/_coordinate_descent.py:531: ConvergenceWarning: Objective did not converge. You might want to increase the number of iterations. Duality gap: 0.0, tolerance: 0.0\n",
      "  positive)\n",
      "/share/code/beatrixh/miniconda/envs/stats/lib/python3.6/site-packages/sklearn/linear_model/_coordinate_descent.py:531: ConvergenceWarning: Objective did not converge. You might want to increase the number of iterations. Duality gap: 0.0, tolerance: 0.0\n",
      "  positive)\n",
      "/share/code/beatrixh/miniconda/envs/stats/lib/python3.6/site-packages/sklearn/linear_model/_coordinate_descent.py:531: ConvergenceWarning: Objective did not converge. You might want to increase the number of iterations. Duality gap: 0.0, tolerance: 0.0\n",
      "  positive)\n",
      "/share/code/beatrixh/miniconda/envs/stats/lib/python3.6/site-packages/sklearn/linear_model/_coordinate_descent.py:531: ConvergenceWarning: Objective did not converge. You might want to increase the number of iterations. Duality gap: 0.0, tolerance: 0.0\n",
      "  positive)\n",
      "/share/code/beatrixh/miniconda/envs/stats/lib/python3.6/site-packages/sklearn/linear_model/_coordinate_descent.py:531: ConvergenceWarning: Objective did not converge. You might want to increase the number of iterations. Duality gap: 0.0, tolerance: 0.0\n",
      "  positive)\n",
      "/share/code/beatrixh/miniconda/envs/stats/lib/python3.6/site-packages/sklearn/linear_model/_coordinate_descent.py:531: ConvergenceWarning: Objective did not converge. You might want to increase the number of iterations. Duality gap: 0.0, tolerance: 0.0\n",
      "  positive)\n",
      "/share/code/beatrixh/miniconda/envs/stats/lib/python3.6/site-packages/sklearn/linear_model/_coordinate_descent.py:531: ConvergenceWarning: Objective did not converge. You might want to increase the number of iterations. Duality gap: 0.0, tolerance: 0.0\n",
      "  positive)\n",
      "/share/code/beatrixh/miniconda/envs/stats/lib/python3.6/site-packages/sklearn/linear_model/_coordinate_descent.py:531: ConvergenceWarning: Objective did not converge. You might want to increase the number of iterations. Duality gap: 0.0, tolerance: 0.0\n",
      "  positive)\n",
      "/share/code/beatrixh/miniconda/envs/stats/lib/python3.6/site-packages/sklearn/linear_model/_coordinate_descent.py:531: ConvergenceWarning: Objective did not converge. You might want to increase the number of iterations. Duality gap: 0.0, tolerance: 0.0\n",
      "  positive)\n",
      "/share/code/beatrixh/miniconda/envs/stats/lib/python3.6/site-packages/sklearn/linear_model/_coordinate_descent.py:531: ConvergenceWarning: Objective did not converge. You might want to increase the number of iterations. Duality gap: 0.0, tolerance: 0.0\n",
      "  positive)\n",
      "/share/code/beatrixh/miniconda/envs/stats/lib/python3.6/site-packages/sklearn/linear_model/_coordinate_descent.py:531: ConvergenceWarning: Objective did not converge. You might want to increase the number of iterations. Duality gap: 0.0, tolerance: 0.0\n",
      "  positive)\n",
      "/share/code/beatrixh/miniconda/envs/stats/lib/python3.6/site-packages/sklearn/linear_model/_coordinate_descent.py:531: ConvergenceWarning: Objective did not converge. You might want to increase the number of iterations. Duality gap: 0.0, tolerance: 0.0\n",
      "  positive)\n",
      "/share/code/beatrixh/miniconda/envs/stats/lib/python3.6/site-packages/sklearn/linear_model/_coordinate_descent.py:531: ConvergenceWarning: Objective did not converge. You might want to increase the number of iterations. Duality gap: 0.0, tolerance: 0.0\n",
      "  positive)\n",
      "/share/code/beatrixh/miniconda/envs/stats/lib/python3.6/site-packages/sklearn/linear_model/_coordinate_descent.py:531: ConvergenceWarning: Objective did not converge. You might want to increase the number of iterations. Duality gap: 0.0, tolerance: 0.0\n",
      "  positive)\n",
      "/share/code/beatrixh/miniconda/envs/stats/lib/python3.6/site-packages/sklearn/linear_model/_coordinate_descent.py:531: ConvergenceWarning: Objective did not converge. You might want to increase the number of iterations. Duality gap: 0.0, tolerance: 0.0\n",
      "  positive)\n",
      "/share/code/beatrixh/miniconda/envs/stats/lib/python3.6/site-packages/sklearn/linear_model/_coordinate_descent.py:531: ConvergenceWarning: Objective did not converge. You might want to increase the number of iterations. Duality gap: 0.0, tolerance: 0.0\n",
      "  positive)\n",
      "/share/code/beatrixh/miniconda/envs/stats/lib/python3.6/site-packages/sklearn/linear_model/_coordinate_descent.py:531: ConvergenceWarning: Objective did not converge. You might want to increase the number of iterations. Duality gap: 0.0, tolerance: 0.0\n",
      "  positive)\n",
      "/share/code/beatrixh/miniconda/envs/stats/lib/python3.6/site-packages/sklearn/linear_model/_coordinate_descent.py:531: ConvergenceWarning: Objective did not converge. You might want to increase the number of iterations. Duality gap: 0.0, tolerance: 0.0\n",
      "  positive)\n",
      "/share/code/beatrixh/miniconda/envs/stats/lib/python3.6/site-packages/sklearn/linear_model/_coordinate_descent.py:531: ConvergenceWarning: Objective did not converge. You might want to increase the number of iterations. Duality gap: 0.0, tolerance: 0.0\n",
      "  positive)\n",
      "/share/code/beatrixh/miniconda/envs/stats/lib/python3.6/site-packages/sklearn/linear_model/_coordinate_descent.py:531: ConvergenceWarning: Objective did not converge. You might want to increase the number of iterations. Duality gap: 0.0, tolerance: 0.0\n",
      "  positive)\n",
      "/share/code/beatrixh/miniconda/envs/stats/lib/python3.6/site-packages/sklearn/linear_model/_coordinate_descent.py:531: ConvergenceWarning: Objective did not converge. You might want to increase the number of iterations. Duality gap: 0.0, tolerance: 0.0\n",
      "  positive)\n",
      "/share/code/beatrixh/miniconda/envs/stats/lib/python3.6/site-packages/sklearn/linear_model/_coordinate_descent.py:531: ConvergenceWarning: Objective did not converge. You might want to increase the number of iterations. Duality gap: 0.0, tolerance: 0.0\n",
      "  positive)\n",
      "/share/code/beatrixh/miniconda/envs/stats/lib/python3.6/site-packages/sklearn/linear_model/_coordinate_descent.py:531: ConvergenceWarning: Objective did not converge. You might want to increase the number of iterations. Duality gap: 0.0, tolerance: 0.0\n",
      "  positive)\n",
      "/share/code/beatrixh/miniconda/envs/stats/lib/python3.6/site-packages/sklearn/linear_model/_coordinate_descent.py:531: ConvergenceWarning: Objective did not converge. You might want to increase the number of iterations. Duality gap: 0.0, tolerance: 0.0\n",
      "  positive)\n",
      "/share/code/beatrixh/miniconda/envs/stats/lib/python3.6/site-packages/sklearn/linear_model/_coordinate_descent.py:531: ConvergenceWarning: Objective did not converge. You might want to increase the number of iterations. Duality gap: 0.0, tolerance: 0.0\n",
      "  positive)\n",
      "/share/code/beatrixh/miniconda/envs/stats/lib/python3.6/site-packages/sklearn/linear_model/_coordinate_descent.py:531: ConvergenceWarning: Objective did not converge. You might want to increase the number of iterations. Duality gap: 0.0, tolerance: 0.0\n",
      "  positive)\n",
      "/share/code/beatrixh/miniconda/envs/stats/lib/python3.6/site-packages/sklearn/linear_model/_coordinate_descent.py:531: ConvergenceWarning: Objective did not converge. You might want to increase the number of iterations. Duality gap: 0.0, tolerance: 0.0\n",
      "  positive)\n",
      "/share/code/beatrixh/miniconda/envs/stats/lib/python3.6/site-packages/sklearn/linear_model/_coordinate_descent.py:531: ConvergenceWarning: Objective did not converge. You might want to increase the number of iterations. Duality gap: 0.0, tolerance: 0.0\n",
      "  positive)\n",
      "/share/code/beatrixh/miniconda/envs/stats/lib/python3.6/site-packages/sklearn/linear_model/_coordinate_descent.py:531: ConvergenceWarning: Objective did not converge. You might want to increase the number of iterations. Duality gap: 0.0, tolerance: 0.0\n",
      "  positive)\n",
      "/share/code/beatrixh/miniconda/envs/stats/lib/python3.6/site-packages/sklearn/linear_model/_coordinate_descent.py:531: ConvergenceWarning: Objective did not converge. You might want to increase the number of iterations. Duality gap: 0.0, tolerance: 0.0\n",
      "  positive)\n",
      "/share/code/beatrixh/miniconda/envs/stats/lib/python3.6/site-packages/sklearn/linear_model/_coordinate_descent.py:531: ConvergenceWarning: Objective did not converge. You might want to increase the number of iterations. Duality gap: 0.0, tolerance: 0.0\n",
      "  positive)\n",
      "/share/code/beatrixh/miniconda/envs/stats/lib/python3.6/site-packages/sklearn/linear_model/_coordinate_descent.py:531: ConvergenceWarning: Objective did not converge. You might want to increase the number of iterations. Duality gap: 0.0, tolerance: 0.0\n",
      "  positive)\n",
      "/share/code/beatrixh/miniconda/envs/stats/lib/python3.6/site-packages/sklearn/linear_model/_coordinate_descent.py:531: ConvergenceWarning: Objective did not converge. You might want to increase the number of iterations. Duality gap: 0.0, tolerance: 0.0\n",
      "  positive)\n"
     ]
    },
    {
     "data": {
      "image/png": "[encoded data removed]",
      "text/plain": [
       "<Figure size 576x360 with 1 Axes>"
      ]
     },
     "metadata": {
      "needs_background": "light"
     },
     "output_type": "display_data"
    },
    {
     "name": "stdout",
     "output_type": "stream",
     "text": [
      "average error: 17.35\n",
      "avg overall error: 21.87\n"
     ]
    }
   ],
   "source": [
    "save_path = 'pct_eating_vehicle_logit.pdf'\n",
    "pdf = matplotlib.backends.backend_pdf.PdfPages(save_path)\n",
    "\n",
    "\n",
    "use_logit = True\n",
    "total_err = 0\n",
    "for vehicle in ['wheat flour', 'oil', 'maize flour', 'bouillon', 'rice']:\n",
    "    X, y, X_full, y_full, locs = setupReg(df, vehicle, use_logit)\n",
    "\n",
    "    holdout, preds = runReg(X,y)\n",
    "    for i in range(100):\n",
    "        a, b = runReg(X,y)\n",
    "        holdout = np.concatenate((holdout, a))\n",
    "        preds = np.concatenate((preds, b))\n",
    "\n",
    "    fig = plt.figure(figsize=(8,5))\n",
    "    plotReg(preds, holdout, use_logit, vehicle)\n",
    "    plt.show()\n",
    "    pdf.savefig(fig)\n",
    "    \n",
    "    err = sum(np.abs(((expit(y[holdout]) + shift) * 100) - ((expit(preds) + shift) * 100))) / len(holdout)\n",
    "    total_err += err\n",
    "    print(f'average error: {err:0.2f}')\n",
    "pdf.close()\n",
    "print(f'avg overall error: {total_err/5:0.2f}')"
   ]
  },
  {
   "cell_type": "code",
   "execution_count": 25,
   "metadata": {},
   "outputs": [
    {
     "data": {
      "text/html": [
       "<div>\n",
       "<style scoped>\n",
       "    .dataframe tbody tr th:only-of-type {\n",
       "        vertical-align: middle;\n",
       "    }\n",
       "\n",
       "    .dataframe tbody tr th {\n",
       "        vertical-align: top;\n",
       "    }\n",
       "\n",
       "    .dataframe thead th {\n",
       "        text-align: right;\n",
       "    }\n",
       "</style>\n",
       "<table border=\"1\" class=\"dataframe\">\n",
       "  <thead>\n",
       "    <tr style=\"text-align: right;\">\n",
       "      <th></th>\n",
       "      <th>location_name</th>\n",
       "      <th>percent_of_population_eating_vehicle</th>\n",
       "    </tr>\n",
       "    <tr>\n",
       "      <th>vehicle</th>\n",
       "      <th></th>\n",
       "      <th></th>\n",
       "    </tr>\n",
       "  </thead>\n",
       "  <tbody>\n",
       "    <tr>\n",
       "      <th>bouillon</th>\n",
       "      <td>7</td>\n",
       "      <td>3</td>\n",
       "    </tr>\n",
       "    <tr>\n",
       "      <th>maize flour</th>\n",
       "      <td>17</td>\n",
       "      <td>8</td>\n",
       "    </tr>\n",
       "    <tr>\n",
       "      <th>oil</th>\n",
       "      <td>25</td>\n",
       "      <td>18</td>\n",
       "    </tr>\n",
       "    <tr>\n",
       "      <th>rice</th>\n",
       "      <td>3</td>\n",
       "      <td>2</td>\n",
       "    </tr>\n",
       "    <tr>\n",
       "      <th>salt</th>\n",
       "      <td>3</td>\n",
       "      <td>1</td>\n",
       "    </tr>\n",
       "    <tr>\n",
       "      <th>wheat flour</th>\n",
       "      <td>25</td>\n",
       "      <td>17</td>\n",
       "    </tr>\n",
       "  </tbody>\n",
       "</table>\n",
       "</div>"
      ],
      "text/plain": [
       "             location_name  percent_of_population_eating_vehicle\n",
       "vehicle                                                         \n",
       "bouillon                 7                                     3\n",
       "maize flour             17                                     8\n",
       "oil                     25                                    18\n",
       "rice                     3                                     2\n",
       "salt                     3                                     1\n",
       "wheat flour             25                                    17"
      ]
     },
     "execution_count": 25,
     "metadata": {},
     "output_type": "execute_result"
    }
   ],
   "source": [
    "df[['location_name','vehicle','percent_of_population_eating_vehicle']].drop_duplicates().groupby('vehicle').count()"
   ]
  },
  {
   "cell_type": "code",
   "execution_count": 13,
   "metadata": {},
   "outputs": [],
   "source": [
    "## generate estimates"
   ]
  },
  {
   "cell_type": "code",
   "execution_count": 14,
   "metadata": {},
   "outputs": [],
   "source": [
    "def estimate_nans(df, vehicle, use_logit, clip = True):\n",
    "    \n",
    "    # format for regression\n",
    "    X, y, X_full, y_full, locs = setupReg(df, vehicle, use_logit)\n",
    "    \n",
    "    # run regression\n",
    "    reg = LinearRegression().fit(X, y)\n",
    "    \n",
    "    # predict out\n",
    "    preds = reg.predict(X_full)\n",
    "    \n",
    "    # populate missings with estimates\n",
    "    y_full[np.isnan(y_full)] = preds[np.isnan(y_full)] \n",
    "    \n",
    "    if use_logit:\n",
    "        y_full = (expit(y_full) + shift) * 100\n",
    "    \n",
    "    if clip:\n",
    "        y_full = np.clip(y_full, 0, 100)\n",
    "    \n",
    "    return pd.DataFrame({'location_name':locs,'vehicle':vehicle,'percent_of_population_eating_vehicle':y_full})"
   ]
  },
  {
   "cell_type": "code",
   "execution_count": null,
   "metadata": {},
   "outputs": [],
   "source": []
  },
  {
   "cell_type": "code",
   "execution_count": 18,
   "metadata": {},
   "outputs": [],
   "source": [
    "use_logit = False\n",
    "vehicle = \"wheat flour\"\n",
    "X, y, X_full, y_full, locs = setupReg(df, vehicle, use_logit)"
   ]
  },
  {
   "cell_type": "code",
   "execution_count": 34,
   "metadata": {},
   "outputs": [],
   "source": [
    "reg = LinearRegression().fit(X, y)\n",
    "preds = reg.predict(X_full)"
   ]
  },
  {
   "cell_type": "code",
   "execution_count": 43,
   "metadata": {},
   "outputs": [
    {
     "data": {
      "text/plain": [
       "array([ 2.98663434e-01,  1.26201535e+00,  5.91713522e+00,  2.10634555e-01,\n",
       "       -8.58135855e+01,  1.54806794e+01, -5.44527242e-02,  2.98031195e-03,\n",
       "        9.39870688e-02,  6.74298455e-02])"
      ]
     },
     "execution_count": 43,
     "metadata": {},
     "output_type": "execute_result"
    }
   ],
   "source": [
    "reg.coef_"
   ]
  },
  {
   "cell_type": "code",
   "execution_count": 44,
   "metadata": {},
   "outputs": [
    {
     "data": {
      "text/plain": [
       "6.419514880039912"
      ]
     },
     "execution_count": 44,
     "metadata": {},
     "output_type": "execute_result"
    }
   ],
   "source": [
    "reg.intercept_"
   ]
  },
  {
   "cell_type": "code",
   "execution_count": 45,
   "metadata": {},
   "outputs": [
    {
     "data": {
      "text/plain": [
       "(10,)"
      ]
     },
     "execution_count": 45,
     "metadata": {},
     "output_type": "execute_result"
    }
   ],
   "source": [
    "reg.coef_.shape"
   ]
  },
  {
   "cell_type": "code",
   "execution_count": 46,
   "metadata": {},
   "outputs": [
    {
     "data": {
      "text/plain": [
       "{'copy_X': True, 'fit_intercept': True, 'n_jobs': None, 'normalize': False}"
      ]
     },
     "execution_count": 46,
     "metadata": {},
     "output_type": "execute_result"
    }
   ],
   "source": [
    "reg.get_params()"
   ]
  },
  {
   "cell_type": "code",
   "execution_count": 47,
   "metadata": {},
   "outputs": [],
   "source": [
    "from sklearn.metrics import mean_squared_error"
   ]
  },
  {
   "cell_type": "code",
   "execution_count": 50,
   "metadata": {},
   "outputs": [
    {
     "data": {
      "text/plain": [
       "224.82240876583887"
      ]
     },
     "execution_count": 50,
     "metadata": {},
     "output_type": "execute_result"
    }
   ],
   "source": [
    "mean_squared_error(y, reg.predict(X))"
   ]
  },
  {
   "cell_type": "code",
   "execution_count": 51,
   "metadata": {},
   "outputs": [
    {
     "data": {
      "text/plain": [
       "array([62.35      , 52.3       , 94.46363636, 54.7       ,  0.58      ,\n",
       "       28.        , 83.2       , 36.58      , 66.76666667,  5.        ,\n",
       "       27.96666667, 49.05      , 97.33333333, 14.75      , 51.5       ,\n",
       "       11.2       , 21.93      ])"
      ]
     },
     "execution_count": 51,
     "metadata": {},
     "output_type": "execute_result"
    }
   ],
   "source": [
    "y"
   ]
  },
  {
   "cell_type": "code",
   "execution_count": 53,
   "metadata": {},
   "outputs": [],
   "source": [
    "rp = reg.predict(X)"
   ]
  },
  {
   "cell_type": "code",
   "execution_count": 58,
   "metadata": {},
   "outputs": [
    {
     "data": {
      "text/plain": [
       "224.82240876583887"
      ]
     },
     "execution_count": 58,
     "metadata": {},
     "output_type": "execute_result"
    }
   ],
   "source": [
    "np.mean([i**2 for i in (y - rp)])"
   ]
  },
  {
   "cell_type": "code",
   "execution_count": null,
   "metadata": {},
   "outputs": [],
   "source": []
  },
  {
   "cell_type": "code",
   "execution_count": 38,
   "metadata": {},
   "outputs": [],
   "source": [
    "compare = pd.DataFrame({'location_name':locs,'vehicle':vehicle,'estimates':preds,'data':y_full})"
   ]
  },
  {
   "cell_type": "code",
   "execution_count": 41,
   "metadata": {},
   "outputs": [],
   "source": [
    "compare['error'] = np.abs(compare.data - compare.estimates)"
   ]
  },
  {
   "cell_type": "code",
   "execution_count": 42,
   "metadata": {},
   "outputs": [
    {
     "data": {
      "text/html": [
       "<div>\n",
       "<style scoped>\n",
       "    .dataframe tbody tr th:only-of-type {\n",
       "        vertical-align: middle;\n",
       "    }\n",
       "\n",
       "    .dataframe tbody tr th {\n",
       "        vertical-align: top;\n",
       "    }\n",
       "\n",
       "    .dataframe thead th {\n",
       "        text-align: right;\n",
       "    }\n",
       "</style>\n",
       "<table border=\"1\" class=\"dataframe\">\n",
       "  <thead>\n",
       "    <tr style=\"text-align: right;\">\n",
       "      <th></th>\n",
       "      <th>location_name</th>\n",
       "      <th>vehicle</th>\n",
       "      <th>estimates</th>\n",
       "      <th>data</th>\n",
       "      <th>error</th>\n",
       "    </tr>\n",
       "  </thead>\n",
       "  <tbody>\n",
       "    <tr>\n",
       "      <th>0</th>\n",
       "      <td>Angola</td>\n",
       "      <td>wheat flour</td>\n",
       "      <td>38.200736</td>\n",
       "      <td>NaN</td>\n",
       "      <td>NaN</td>\n",
       "    </tr>\n",
       "    <tr>\n",
       "      <th>1</th>\n",
       "      <td>Bangladesh</td>\n",
       "      <td>wheat flour</td>\n",
       "      <td>42.786478</td>\n",
       "      <td>62.350000</td>\n",
       "      <td>19.563522</td>\n",
       "    </tr>\n",
       "    <tr>\n",
       "      <th>2</th>\n",
       "      <td>Burkina Faso</td>\n",
       "      <td>wheat flour</td>\n",
       "      <td>28.989654</td>\n",
       "      <td>52.300000</td>\n",
       "      <td>23.310346</td>\n",
       "    </tr>\n",
       "    <tr>\n",
       "      <th>3</th>\n",
       "      <td>Cameroon</td>\n",
       "      <td>wheat flour</td>\n",
       "      <td>88.597117</td>\n",
       "      <td>94.463636</td>\n",
       "      <td>5.866519</td>\n",
       "    </tr>\n",
       "    <tr>\n",
       "      <th>...</th>\n",
       "      <td>...</td>\n",
       "      <td>...</td>\n",
       "      <td>...</td>\n",
       "      <td>...</td>\n",
       "      <td>...</td>\n",
       "    </tr>\n",
       "    <tr>\n",
       "      <th>21</th>\n",
       "      <td>Sudan</td>\n",
       "      <td>wheat flour</td>\n",
       "      <td>68.367950</td>\n",
       "      <td>NaN</td>\n",
       "      <td>NaN</td>\n",
       "    </tr>\n",
       "    <tr>\n",
       "      <th>22</th>\n",
       "      <td>United Republic of Tanzania</td>\n",
       "      <td>wheat flour</td>\n",
       "      <td>48.608870</td>\n",
       "      <td>51.500000</td>\n",
       "      <td>2.891130</td>\n",
       "    </tr>\n",
       "    <tr>\n",
       "      <th>23</th>\n",
       "      <td>Uganda</td>\n",
       "      <td>wheat flour</td>\n",
       "      <td>15.647225</td>\n",
       "      <td>11.200000</td>\n",
       "      <td>4.447225</td>\n",
       "    </tr>\n",
       "    <tr>\n",
       "      <th>24</th>\n",
       "      <td>Viet Nam</td>\n",
       "      <td>wheat flour</td>\n",
       "      <td>23.687909</td>\n",
       "      <td>21.930000</td>\n",
       "      <td>1.757909</td>\n",
       "    </tr>\n",
       "  </tbody>\n",
       "</table>\n",
       "<p>25 rows × 5 columns</p>\n",
       "</div>"
      ],
      "text/plain": [
       "                  location_name      vehicle  estimates       data      error\n",
       "0                        Angola  wheat flour  38.200736        NaN        NaN\n",
       "1                    Bangladesh  wheat flour  42.786478  62.350000  19.563522\n",
       "2                  Burkina Faso  wheat flour  28.989654  52.300000  23.310346\n",
       "3                      Cameroon  wheat flour  88.597117  94.463636   5.866519\n",
       "..                          ...          ...        ...        ...        ...\n",
       "21                        Sudan  wheat flour  68.367950        NaN        NaN\n",
       "22  United Republic of Tanzania  wheat flour  48.608870  51.500000   2.891130\n",
       "23                       Uganda  wheat flour  15.647225  11.200000   4.447225\n",
       "24                     Viet Nam  wheat flour  23.687909  21.930000   1.757909\n",
       "\n",
       "[25 rows x 5 columns]"
      ]
     },
     "execution_count": 42,
     "metadata": {},
     "output_type": "execute_result"
    }
   ],
   "source": [
    "compare"
   ]
  },
  {
   "cell_type": "code",
   "execution_count": 20,
   "metadata": {},
   "outputs": [],
   "source": [
    "estimates = pd.concat([estimate_nans(df, vehicle, use_logit = False, clip = True)\n",
    "                       for vehicle in ['wheat flour', 'oil', 'maize flour', 'bouillon', 'rice']])"
   ]
  },
  {
   "cell_type": "code",
   "execution_count": 21,
   "metadata": {},
   "outputs": [
    {
     "data": {
      "text/html": [
       "<div>\n",
       "<style scoped>\n",
       "    .dataframe tbody tr th:only-of-type {\n",
       "        vertical-align: middle;\n",
       "    }\n",
       "\n",
       "    .dataframe tbody tr th {\n",
       "        vertical-align: top;\n",
       "    }\n",
       "\n",
       "    .dataframe thead th {\n",
       "        text-align: right;\n",
       "    }\n",
       "</style>\n",
       "<table border=\"1\" class=\"dataframe\">\n",
       "  <thead>\n",
       "    <tr style=\"text-align: right;\">\n",
       "      <th></th>\n",
       "      <th>location_name</th>\n",
       "      <th>vehicle</th>\n",
       "      <th>percent_of_population_eating_vehicle</th>\n",
       "    </tr>\n",
       "  </thead>\n",
       "  <tbody>\n",
       "    <tr>\n",
       "      <th>0</th>\n",
       "      <td>Angola</td>\n",
       "      <td>wheat flour</td>\n",
       "      <td>38.200736</td>\n",
       "    </tr>\n",
       "    <tr>\n",
       "      <th>1</th>\n",
       "      <td>Bangladesh</td>\n",
       "      <td>wheat flour</td>\n",
       "      <td>62.350000</td>\n",
       "    </tr>\n",
       "    <tr>\n",
       "      <th>2</th>\n",
       "      <td>Burkina Faso</td>\n",
       "      <td>wheat flour</td>\n",
       "      <td>52.300000</td>\n",
       "    </tr>\n",
       "    <tr>\n",
       "      <th>3</th>\n",
       "      <td>Cameroon</td>\n",
       "      <td>wheat flour</td>\n",
       "      <td>94.463636</td>\n",
       "    </tr>\n",
       "    <tr>\n",
       "      <th>...</th>\n",
       "      <td>...</td>\n",
       "      <td>...</td>\n",
       "      <td>...</td>\n",
       "    </tr>\n",
       "    <tr>\n",
       "      <th>6</th>\n",
       "      <td>Nigeria</td>\n",
       "      <td>bouillon</td>\n",
       "      <td>98.727280</td>\n",
       "    </tr>\n",
       "    <tr>\n",
       "      <th>0</th>\n",
       "      <td>Ghana</td>\n",
       "      <td>rice</td>\n",
       "      <td>65.746433</td>\n",
       "    </tr>\n",
       "    <tr>\n",
       "      <th>1</th>\n",
       "      <td>India</td>\n",
       "      <td>rice</td>\n",
       "      <td>50.000000</td>\n",
       "    </tr>\n",
       "    <tr>\n",
       "      <th>2</th>\n",
       "      <td>Nigeria</td>\n",
       "      <td>rice</td>\n",
       "      <td>67.350000</td>\n",
       "    </tr>\n",
       "  </tbody>\n",
       "</table>\n",
       "<p>77 rows × 3 columns</p>\n",
       "</div>"
      ],
      "text/plain": [
       "   location_name      vehicle  percent_of_population_eating_vehicle\n",
       "0         Angola  wheat flour                             38.200736\n",
       "1     Bangladesh  wheat flour                             62.350000\n",
       "2   Burkina Faso  wheat flour                             52.300000\n",
       "3       Cameroon  wheat flour                             94.463636\n",
       "..           ...          ...                                   ...\n",
       "6        Nigeria     bouillon                             98.727280\n",
       "0          Ghana         rice                             65.746433\n",
       "1          India         rice                             50.000000\n",
       "2        Nigeria         rice                             67.350000\n",
       "\n",
       "[77 rows x 3 columns]"
      ]
     },
     "execution_count": 21,
     "metadata": {},
     "output_type": "execute_result"
    }
   ],
   "source": [
    "estimates"
   ]
  },
  {
   "cell_type": "code",
   "execution_count": 24,
   "metadata": {},
   "outputs": [],
   "source": [
    "estimates = estimates.rename(columns={'percent_of_population_eating_vehicle':'estimated'})"
   ]
  },
  {
   "cell_type": "code",
   "execution_count": null,
   "metadata": {},
   "outputs": [],
   "source": []
  },
  {
   "cell_type": "code",
   "execution_count": 30,
   "metadata": {},
   "outputs": [],
   "source": [
    "compare = df[['location_name','vehicle','percent_of_population_eating_vehicle']].drop_duplicates()\n",
    "\n",
    "compare = compare.merge(estimates, on = ['location_name','vehicle'], how = 'outer')"
   ]
  },
  {
   "cell_type": "code",
   "execution_count": 32,
   "metadata": {},
   "outputs": [],
   "source": [
    "compare['error'] = np.abs(compare.percent_of_population_eating_vehicle - compare.estimated)"
   ]
  },
  {
   "cell_type": "code",
   "execution_count": 33,
   "metadata": {},
   "outputs": [
    {
     "data": {
      "text/html": [
       "<div>\n",
       "<style scoped>\n",
       "    .dataframe tbody tr th:only-of-type {\n",
       "        vertical-align: middle;\n",
       "    }\n",
       "\n",
       "    .dataframe tbody tr th {\n",
       "        vertical-align: top;\n",
       "    }\n",
       "\n",
       "    .dataframe thead th {\n",
       "        text-align: right;\n",
       "    }\n",
       "</style>\n",
       "<table border=\"1\" class=\"dataframe\">\n",
       "  <thead>\n",
       "    <tr style=\"text-align: right;\">\n",
       "      <th></th>\n",
       "      <th>location_name</th>\n",
       "      <th>vehicle</th>\n",
       "      <th>percent_of_population_eating_vehicle</th>\n",
       "      <th>estimated</th>\n",
       "      <th>error</th>\n",
       "    </tr>\n",
       "  </thead>\n",
       "  <tbody>\n",
       "    <tr>\n",
       "      <th>0</th>\n",
       "      <td>Angola</td>\n",
       "      <td>wheat flour</td>\n",
       "      <td>NaN</td>\n",
       "      <td>38.200736</td>\n",
       "      <td>NaN</td>\n",
       "    </tr>\n",
       "    <tr>\n",
       "      <th>1</th>\n",
       "      <td>Angola</td>\n",
       "      <td>oil</td>\n",
       "      <td>NaN</td>\n",
       "      <td>91.912645</td>\n",
       "      <td>NaN</td>\n",
       "    </tr>\n",
       "    <tr>\n",
       "      <th>2</th>\n",
       "      <td>Angola</td>\n",
       "      <td>maize flour</td>\n",
       "      <td>NaN</td>\n",
       "      <td>27.751148</td>\n",
       "      <td>NaN</td>\n",
       "    </tr>\n",
       "    <tr>\n",
       "      <th>3</th>\n",
       "      <td>Bangladesh</td>\n",
       "      <td>wheat flour</td>\n",
       "      <td>62.35</td>\n",
       "      <td>62.350000</td>\n",
       "      <td>0.0</td>\n",
       "    </tr>\n",
       "    <tr>\n",
       "      <th>...</th>\n",
       "      <td>...</td>\n",
       "      <td>...</td>\n",
       "      <td>...</td>\n",
       "      <td>...</td>\n",
       "      <td>...</td>\n",
       "    </tr>\n",
       "    <tr>\n",
       "      <th>76</th>\n",
       "      <td>Uganda</td>\n",
       "      <td>oil</td>\n",
       "      <td>89.90</td>\n",
       "      <td>89.900000</td>\n",
       "      <td>0.0</td>\n",
       "    </tr>\n",
       "    <tr>\n",
       "      <th>77</th>\n",
       "      <td>Uganda</td>\n",
       "      <td>maize flour</td>\n",
       "      <td>91.80</td>\n",
       "      <td>91.800000</td>\n",
       "      <td>0.0</td>\n",
       "    </tr>\n",
       "    <tr>\n",
       "      <th>78</th>\n",
       "      <td>Viet Nam</td>\n",
       "      <td>wheat flour</td>\n",
       "      <td>21.93</td>\n",
       "      <td>21.930000</td>\n",
       "      <td>0.0</td>\n",
       "    </tr>\n",
       "    <tr>\n",
       "      <th>79</th>\n",
       "      <td>Viet Nam</td>\n",
       "      <td>oil</td>\n",
       "      <td>54.50</td>\n",
       "      <td>54.500000</td>\n",
       "      <td>0.0</td>\n",
       "    </tr>\n",
       "  </tbody>\n",
       "</table>\n",
       "<p>80 rows × 5 columns</p>\n",
       "</div>"
      ],
      "text/plain": [
       "   location_name      vehicle  percent_of_population_eating_vehicle  \\\n",
       "0         Angola  wheat flour                                   NaN   \n",
       "1         Angola          oil                                   NaN   \n",
       "2         Angola  maize flour                                   NaN   \n",
       "3     Bangladesh  wheat flour                                 62.35   \n",
       "..           ...          ...                                   ...   \n",
       "76        Uganda          oil                                 89.90   \n",
       "77        Uganda  maize flour                                 91.80   \n",
       "78      Viet Nam  wheat flour                                 21.93   \n",
       "79      Viet Nam          oil                                 54.50   \n",
       "\n",
       "    estimated  error  \n",
       "0   38.200736    NaN  \n",
       "1   91.912645    NaN  \n",
       "2   27.751148    NaN  \n",
       "3   62.350000    0.0  \n",
       "..        ...    ...  \n",
       "76  89.900000    0.0  \n",
       "77  91.800000    0.0  \n",
       "78  21.930000    0.0  \n",
       "79  54.500000    0.0  \n",
       "\n",
       "[80 rows x 5 columns]"
      ]
     },
     "execution_count": 33,
     "metadata": {},
     "output_type": "execute_result"
    }
   ],
   "source": [
    "compare"
   ]
  },
  {
   "cell_type": "code",
   "execution_count": 59,
   "metadata": {},
   "outputs": [
    {
     "data": {
      "text/html": [
       "<div>\n",
       "<style scoped>\n",
       "    .dataframe tbody tr th:only-of-type {\n",
       "        vertical-align: middle;\n",
       "    }\n",
       "\n",
       "    .dataframe tbody tr th {\n",
       "        vertical-align: top;\n",
       "    }\n",
       "\n",
       "    .dataframe thead th {\n",
       "        text-align: right;\n",
       "    }\n",
       "</style>\n",
       "<table border=\"1\" class=\"dataframe\">\n",
       "  <thead>\n",
       "    <tr style=\"text-align: right;\">\n",
       "      <th></th>\n",
       "      <th>location_name</th>\n",
       "      <th>vehicle</th>\n",
       "      <th>estimates</th>\n",
       "      <th>data</th>\n",
       "      <th>error</th>\n",
       "    </tr>\n",
       "  </thead>\n",
       "  <tbody>\n",
       "    <tr>\n",
       "      <th>0</th>\n",
       "      <td>Angola</td>\n",
       "      <td>wheat flour</td>\n",
       "      <td>38.200736</td>\n",
       "      <td>NaN</td>\n",
       "      <td>NaN</td>\n",
       "    </tr>\n",
       "    <tr>\n",
       "      <th>1</th>\n",
       "      <td>Bangladesh</td>\n",
       "      <td>wheat flour</td>\n",
       "      <td>42.786478</td>\n",
       "      <td>62.350000</td>\n",
       "      <td>19.563522</td>\n",
       "    </tr>\n",
       "    <tr>\n",
       "      <th>2</th>\n",
       "      <td>Burkina Faso</td>\n",
       "      <td>wheat flour</td>\n",
       "      <td>28.989654</td>\n",
       "      <td>52.300000</td>\n",
       "      <td>23.310346</td>\n",
       "    </tr>\n",
       "    <tr>\n",
       "      <th>3</th>\n",
       "      <td>Cameroon</td>\n",
       "      <td>wheat flour</td>\n",
       "      <td>88.597117</td>\n",
       "      <td>94.463636</td>\n",
       "      <td>5.866519</td>\n",
       "    </tr>\n",
       "    <tr>\n",
       "      <th>...</th>\n",
       "      <td>...</td>\n",
       "      <td>...</td>\n",
       "      <td>...</td>\n",
       "      <td>...</td>\n",
       "      <td>...</td>\n",
       "    </tr>\n",
       "    <tr>\n",
       "      <th>21</th>\n",
       "      <td>Sudan</td>\n",
       "      <td>wheat flour</td>\n",
       "      <td>68.367950</td>\n",
       "      <td>NaN</td>\n",
       "      <td>NaN</td>\n",
       "    </tr>\n",
       "    <tr>\n",
       "      <th>22</th>\n",
       "      <td>United Republic of Tanzania</td>\n",
       "      <td>wheat flour</td>\n",
       "      <td>48.608870</td>\n",
       "      <td>51.500000</td>\n",
       "      <td>2.891130</td>\n",
       "    </tr>\n",
       "    <tr>\n",
       "      <th>23</th>\n",
       "      <td>Uganda</td>\n",
       "      <td>wheat flour</td>\n",
       "      <td>15.647225</td>\n",
       "      <td>11.200000</td>\n",
       "      <td>4.447225</td>\n",
       "    </tr>\n",
       "    <tr>\n",
       "      <th>24</th>\n",
       "      <td>Viet Nam</td>\n",
       "      <td>wheat flour</td>\n",
       "      <td>23.687909</td>\n",
       "      <td>21.930000</td>\n",
       "      <td>1.757909</td>\n",
       "    </tr>\n",
       "  </tbody>\n",
       "</table>\n",
       "<p>25 rows × 5 columns</p>\n",
       "</div>"
      ],
      "text/plain": [
       "                  location_name      vehicle  estimates       data      error\n",
       "0                        Angola  wheat flour  38.200736        NaN        NaN\n",
       "1                    Bangladesh  wheat flour  42.786478  62.350000  19.563522\n",
       "2                  Burkina Faso  wheat flour  28.989654  52.300000  23.310346\n",
       "3                      Cameroon  wheat flour  88.597117  94.463636   5.866519\n",
       "..                          ...          ...        ...        ...        ...\n",
       "21                        Sudan  wheat flour  68.367950        NaN        NaN\n",
       "22  United Republic of Tanzania  wheat flour  48.608870  51.500000   2.891130\n",
       "23                       Uganda  wheat flour  15.647225  11.200000   4.447225\n",
       "24                     Viet Nam  wheat flour  23.687909  21.930000   1.757909\n",
       "\n",
       "[25 rows x 5 columns]"
      ]
     },
     "execution_count": 59,
     "metadata": {},
     "output_type": "execute_result"
    }
   ],
   "source": [
    "compare"
   ]
  },
  {
   "cell_type": "code",
   "execution_count": 67,
   "metadata": {},
   "outputs": [
    {
     "data": {
      "image/png": "[encoded data removed]",
      "text/plain": [
       "<Figure size 432x288 with 1 Axes>"
      ]
     },
     "metadata": {
      "needs_background": "light"
     },
     "output_type": "display_data"
    }
   ],
   "source": [
    "compare = compare.sort_values('estimates')\n",
    "compare = compare.dropna()\n",
    "\n",
    "plt.plot(compare.estimates, compare.error)\n",
    "plt.scatter(compare.estimates, compare.error)\n",
    "plt.show()"
   ]
  },
  {
   "cell_type": "code",
   "execution_count": 16,
   "metadata": {},
   "outputs": [],
   "source": [
    "fname = 'percent_of_population_eating_vehicle_estimates.csv'\n",
    "estimates.to_csv(fname, index = False)"
   ]
  },
  {
   "cell_type": "code",
   "execution_count": 17,
   "metadata": {},
   "outputs": [
    {
     "data": {
      "text/html": [
       "<div>\n",
       "<style scoped>\n",
       "    .dataframe tbody tr th:only-of-type {\n",
       "        vertical-align: middle;\n",
       "    }\n",
       "\n",
       "    .dataframe tbody tr th {\n",
       "        vertical-align: top;\n",
       "    }\n",
       "\n",
       "    .dataframe thead th {\n",
       "        text-align: right;\n",
       "    }\n",
       "</style>\n",
       "<table border=\"1\" class=\"dataframe\">\n",
       "  <thead>\n",
       "    <tr style=\"text-align: right;\">\n",
       "      <th></th>\n",
       "      <th>location_name</th>\n",
       "      <th>vehicle</th>\n",
       "      <th>percent_of_population_eating_vehicle</th>\n",
       "    </tr>\n",
       "  </thead>\n",
       "  <tbody>\n",
       "    <tr>\n",
       "      <th>0</th>\n",
       "      <td>Angola</td>\n",
       "      <td>wheat flour</td>\n",
       "      <td>38.200736</td>\n",
       "    </tr>\n",
       "    <tr>\n",
       "      <th>1</th>\n",
       "      <td>Bangladesh</td>\n",
       "      <td>wheat flour</td>\n",
       "      <td>62.350000</td>\n",
       "    </tr>\n",
       "    <tr>\n",
       "      <th>2</th>\n",
       "      <td>Burkina Faso</td>\n",
       "      <td>wheat flour</td>\n",
       "      <td>52.300000</td>\n",
       "    </tr>\n",
       "    <tr>\n",
       "      <th>3</th>\n",
       "      <td>Cameroon</td>\n",
       "      <td>wheat flour</td>\n",
       "      <td>94.463636</td>\n",
       "    </tr>\n",
       "    <tr>\n",
       "      <th>...</th>\n",
       "      <td>...</td>\n",
       "      <td>...</td>\n",
       "      <td>...</td>\n",
       "    </tr>\n",
       "    <tr>\n",
       "      <th>6</th>\n",
       "      <td>Nigeria</td>\n",
       "      <td>bouillon</td>\n",
       "      <td>98.727280</td>\n",
       "    </tr>\n",
       "    <tr>\n",
       "      <th>0</th>\n",
       "      <td>Ghana</td>\n",
       "      <td>rice</td>\n",
       "      <td>65.746433</td>\n",
       "    </tr>\n",
       "    <tr>\n",
       "      <th>1</th>\n",
       "      <td>India</td>\n",
       "      <td>rice</td>\n",
       "      <td>50.000000</td>\n",
       "    </tr>\n",
       "    <tr>\n",
       "      <th>2</th>\n",
       "      <td>Nigeria</td>\n",
       "      <td>rice</td>\n",
       "      <td>67.350000</td>\n",
       "    </tr>\n",
       "  </tbody>\n",
       "</table>\n",
       "<p>77 rows × 3 columns</p>\n",
       "</div>"
      ],
      "text/plain": [
       "   location_name      vehicle  percent_of_population_eating_vehicle\n",
       "0         Angola  wheat flour                             38.200736\n",
       "1     Bangladesh  wheat flour                             62.350000\n",
       "2   Burkina Faso  wheat flour                             52.300000\n",
       "3       Cameroon  wheat flour                             94.463636\n",
       "..           ...          ...                                   ...\n",
       "6        Nigeria     bouillon                             98.727280\n",
       "0          Ghana         rice                             65.746433\n",
       "1          India         rice                             50.000000\n",
       "2        Nigeria         rice                             67.350000\n",
       "\n",
       "[77 rows x 3 columns]"
      ]
     },
     "execution_count": 17,
     "metadata": {},
     "output_type": "execute_result"
    }
   ],
   "source": [
    "estimates"
   ]
  },
  {
   "cell_type": "code",
   "execution_count": 18,
   "metadata": {},
   "outputs": [
    {
     "data": {
      "text/html": [
       "<div>\n",
       "<style scoped>\n",
       "    .dataframe tbody tr th:only-of-type {\n",
       "        vertical-align: middle;\n",
       "    }\n",
       "\n",
       "    .dataframe tbody tr th {\n",
       "        vertical-align: top;\n",
       "    }\n",
       "\n",
       "    .dataframe thead th {\n",
       "        text-align: right;\n",
       "    }\n",
       "</style>\n",
       "<table border=\"1\" class=\"dataframe\">\n",
       "  <thead>\n",
       "    <tr style=\"text-align: right;\">\n",
       "      <th></th>\n",
       "      <th>location_name</th>\n",
       "      <th>vehicle</th>\n",
       "      <th>nutrient</th>\n",
       "      <th>percent_of_population_eating_vehicle</th>\n",
       "      <th>percent_of_population_eating_industrially_produced_vehicle</th>\n",
       "      <th>percent_of_population_eating_fortified_vehicle</th>\n",
       "      <th>location_id</th>\n",
       "      <th>sodium</th>\n",
       "      <th>whole_grains</th>\n",
       "      <th>sdi</th>\n",
       "      <th>hh_salt</th>\n",
       "      <th>fao_maize_and_products</th>\n",
       "      <th>fao_rice_and_products</th>\n",
       "      <th>fao_wheat_and_products</th>\n",
       "      <th>fao_oil_all</th>\n",
       "    </tr>\n",
       "  </thead>\n",
       "  <tbody>\n",
       "    <tr>\n",
       "      <th>250</th>\n",
       "      <td>Nigeria</td>\n",
       "      <td>salt</td>\n",
       "      <td>iron</td>\n",
       "      <td>NaN</td>\n",
       "      <td>93.0</td>\n",
       "      <td>0.0</td>\n",
       "      <td>214</td>\n",
       "      <td>0.908433</td>\n",
       "      <td>8.865245</td>\n",
       "      <td>0.460839</td>\n",
       "      <td>0.935323</td>\n",
       "      <td>315.0</td>\n",
       "      <td>266.0</td>\n",
       "      <td>195.0</td>\n",
       "      <td>284.0</td>\n",
       "    </tr>\n",
       "    <tr>\n",
       "      <th>251</th>\n",
       "      <td>Nigeria</td>\n",
       "      <td>bouillon</td>\n",
       "      <td>iron</td>\n",
       "      <td>NaN</td>\n",
       "      <td>61.5</td>\n",
       "      <td>0.0</td>\n",
       "      <td>214</td>\n",
       "      <td>0.908433</td>\n",
       "      <td>8.865245</td>\n",
       "      <td>0.460839</td>\n",
       "      <td>0.935323</td>\n",
       "      <td>315.0</td>\n",
       "      <td>266.0</td>\n",
       "      <td>195.0</td>\n",
       "      <td>284.0</td>\n",
       "    </tr>\n",
       "    <tr>\n",
       "      <th>252</th>\n",
       "      <td>Nigeria</td>\n",
       "      <td>bouillon</td>\n",
       "      <td>zinc</td>\n",
       "      <td>NaN</td>\n",
       "      <td>61.5</td>\n",
       "      <td>0.0</td>\n",
       "      <td>214</td>\n",
       "      <td>0.908433</td>\n",
       "      <td>8.865245</td>\n",
       "      <td>0.460839</td>\n",
       "      <td>0.935323</td>\n",
       "      <td>315.0</td>\n",
       "      <td>266.0</td>\n",
       "      <td>195.0</td>\n",
       "      <td>284.0</td>\n",
       "    </tr>\n",
       "    <tr>\n",
       "      <th>253</th>\n",
       "      <td>Nigeria</td>\n",
       "      <td>bouillon</td>\n",
       "      <td>folic acid</td>\n",
       "      <td>NaN</td>\n",
       "      <td>61.5</td>\n",
       "      <td>0.0</td>\n",
       "      <td>214</td>\n",
       "      <td>0.908433</td>\n",
       "      <td>8.865245</td>\n",
       "      <td>0.460839</td>\n",
       "      <td>0.935323</td>\n",
       "      <td>315.0</td>\n",
       "      <td>266.0</td>\n",
       "      <td>195.0</td>\n",
       "      <td>284.0</td>\n",
       "    </tr>\n",
       "    <tr>\n",
       "      <th>254</th>\n",
       "      <td>Nigeria</td>\n",
       "      <td>bouillon</td>\n",
       "      <td>vitamin a</td>\n",
       "      <td>NaN</td>\n",
       "      <td>61.5</td>\n",
       "      <td>0.0</td>\n",
       "      <td>214</td>\n",
       "      <td>0.908433</td>\n",
       "      <td>8.865245</td>\n",
       "      <td>0.460839</td>\n",
       "      <td>0.935323</td>\n",
       "      <td>315.0</td>\n",
       "      <td>266.0</td>\n",
       "      <td>195.0</td>\n",
       "      <td>284.0</td>\n",
       "    </tr>\n",
       "    <tr>\n",
       "      <th>347</th>\n",
       "      <td>Nigeria</td>\n",
       "      <td>salt</td>\n",
       "      <td>folic acid</td>\n",
       "      <td>NaN</td>\n",
       "      <td>93.0</td>\n",
       "      <td>0.0</td>\n",
       "      <td>214</td>\n",
       "      <td>0.908433</td>\n",
       "      <td>8.865245</td>\n",
       "      <td>0.460839</td>\n",
       "      <td>0.935323</td>\n",
       "      <td>315.0</td>\n",
       "      <td>266.0</td>\n",
       "      <td>195.0</td>\n",
       "      <td>284.0</td>\n",
       "    </tr>\n",
       "  </tbody>\n",
       "</table>\n",
       "</div>"
      ],
      "text/plain": [
       "    location_name   vehicle    nutrient  percent_of_population_eating_vehicle  \\\n",
       "250       Nigeria      salt        iron                                   NaN   \n",
       "251       Nigeria  bouillon        iron                                   NaN   \n",
       "252       Nigeria  bouillon        zinc                                   NaN   \n",
       "253       Nigeria  bouillon  folic acid                                   NaN   \n",
       "254       Nigeria  bouillon   vitamin a                                   NaN   \n",
       "347       Nigeria      salt  folic acid                                   NaN   \n",
       "\n",
       "     percent_of_population_eating_industrially_produced_vehicle  \\\n",
       "250                                               93.0            \n",
       "251                                               61.5            \n",
       "252                                               61.5            \n",
       "253                                               61.5            \n",
       "254                                               61.5            \n",
       "347                                               93.0            \n",
       "\n",
       "     percent_of_population_eating_fortified_vehicle  location_id    sodium  \\\n",
       "250                                             0.0          214  0.908433   \n",
       "251                                             0.0          214  0.908433   \n",
       "252                                             0.0          214  0.908433   \n",
       "253                                             0.0          214  0.908433   \n",
       "254                                             0.0          214  0.908433   \n",
       "347                                             0.0          214  0.908433   \n",
       "\n",
       "     whole_grains       sdi   hh_salt  fao_maize_and_products  \\\n",
       "250      8.865245  0.460839  0.935323                   315.0   \n",
       "251      8.865245  0.460839  0.935323                   315.0   \n",
       "252      8.865245  0.460839  0.935323                   315.0   \n",
       "253      8.865245  0.460839  0.935323                   315.0   \n",
       "254      8.865245  0.460839  0.935323                   315.0   \n",
       "347      8.865245  0.460839  0.935323                   315.0   \n",
       "\n",
       "     fao_rice_and_products  fao_wheat_and_products  fao_oil_all  \n",
       "250                  266.0                   195.0        284.0  \n",
       "251                  266.0                   195.0        284.0  \n",
       "252                  266.0                   195.0        284.0  \n",
       "253                  266.0                   195.0        284.0  \n",
       "254                  266.0                   195.0        284.0  \n",
       "347                  266.0                   195.0        284.0  "
      ]
     },
     "execution_count": 18,
     "metadata": {},
     "output_type": "execute_result"
    }
   ],
   "source": [
    "df[(df.percent_of_population_eating_vehicle.isna()) & (df.percent_of_population_eating_industrially_produced_vehicle.notna())]"
   ]
  },
  {
   "cell_type": "code",
   "execution_count": 19,
   "metadata": {},
   "outputs": [
    {
     "data": {
      "text/html": [
       "<div>\n",
       "<style scoped>\n",
       "    .dataframe tbody tr th:only-of-type {\n",
       "        vertical-align: middle;\n",
       "    }\n",
       "\n",
       "    .dataframe tbody tr th {\n",
       "        vertical-align: top;\n",
       "    }\n",
       "\n",
       "    .dataframe thead th {\n",
       "        text-align: right;\n",
       "    }\n",
       "</style>\n",
       "<table border=\"1\" class=\"dataframe\">\n",
       "  <thead>\n",
       "    <tr style=\"text-align: right;\">\n",
       "      <th></th>\n",
       "      <th>location_name</th>\n",
       "      <th>vehicle</th>\n",
       "      <th>percent_of_population_eating_vehicle</th>\n",
       "    </tr>\n",
       "  </thead>\n",
       "  <tbody>\n",
       "    <tr>\n",
       "      <th>6</th>\n",
       "      <td>Nigeria</td>\n",
       "      <td>bouillon</td>\n",
       "      <td>98.72728</td>\n",
       "    </tr>\n",
       "  </tbody>\n",
       "</table>\n",
       "</div>"
      ],
      "text/plain": [
       "  location_name   vehicle  percent_of_population_eating_vehicle\n",
       "6       Nigeria  bouillon                              98.72728"
      ]
     },
     "execution_count": 19,
     "metadata": {},
     "output_type": "execute_result"
    }
   ],
   "source": [
    "estimates[(estimates.location_name==\"Nigeria\") & (estimates.vehicle.isin(['salt','bouillon']))]"
   ]
  },
  {
   "cell_type": "code",
   "execution_count": null,
   "metadata": {},
   "outputs": [],
   "source": []
  }
 ],
 "metadata": {
  "kernelspec": {
   "display_name": "Python 3",
   "language": "python",
   "name": "python3"
  },
  "language_info": {
   "codemirror_mode": {
    "name": "ipython",
    "version": 3
   },
   "file_extension": ".py",
   "mimetype": "text/x-python",
   "name": "python",
   "nbconvert_exporter": "python",
   "pygments_lexer": "ipython3",
   "version": "3.6.11"
  }
 },
 "nbformat": 4,
 "nbformat_minor": 4
}
