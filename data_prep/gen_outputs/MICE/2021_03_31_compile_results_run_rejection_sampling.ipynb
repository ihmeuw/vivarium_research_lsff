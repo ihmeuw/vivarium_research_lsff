{
 "cells": [
  {
   "cell_type": "code",
   "execution_count": 1,
   "metadata": {},
   "outputs": [],
   "source": [
    "import pandas as pd, numpy as np"
   ]
  },
  {
   "cell_type": "markdown",
   "metadata": {},
   "source": [
    "# Compile regression estimates / examine for logical consistency"
   ]
  },
  {
   "cell_type": "code",
   "execution_count": 2,
   "metadata": {},
   "outputs": [],
   "source": [
    "w_metadata_path = '/ihme/homes/beatrixh/vivarium_research_lsff/data_prep/outputs/lsff_input_coverage_data_with_metadata.csv'\n"
   ]
  },
  {
   "cell_type": "code",
   "execution_count": 3,
   "metadata": {},
   "outputs": [],
   "source": [
    "w_metadata_path = '/ihme/homes/beatrixh/vivarium_research_lsff/data_prep/outputs/lsff_input_coverage_data_with_metadata.csv'\n",
    "df = pd.read_csv(w_metadata_path)"
   ]
  },
  {
   "cell_type": "code",
   "execution_count": 4,
   "metadata": {},
   "outputs": [
    {
     "data": {
      "text/plain": [
       "array(['regression', 'na', 'multiplicative', 'lack of evidence'],\n",
       "      dtype=object)"
      ]
     },
     "execution_count": 4,
     "metadata": {},
     "output_type": "execute_result"
    }
   ],
   "source": [
    "df.estimation_status.unique()"
   ]
  },
  {
   "cell_type": "code",
   "execution_count": 5,
   "metadata": {},
   "outputs": [
    {
     "data": {
      "text/html": [
       "<div>\n",
       "<style scoped>\n",
       "    .dataframe tbody tr th:only-of-type {\n",
       "        vertical-align: middle;\n",
       "    }\n",
       "\n",
       "    .dataframe tbody tr th {\n",
       "        vertical-align: top;\n",
       "    }\n",
       "\n",
       "    .dataframe thead th {\n",
       "        text-align: right;\n",
       "    }\n",
       "</style>\n",
       "<table border=\"1\" class=\"dataframe\">\n",
       "  <thead>\n",
       "    <tr style=\"text-align: right;\">\n",
       "      <th></th>\n",
       "      <th>location_id</th>\n",
       "      <th>location_name</th>\n",
       "      <th>sub_population</th>\n",
       "      <th>vehicle</th>\n",
       "      <th>value_description</th>\n",
       "      <th>nutrient</th>\n",
       "      <th>value_mean</th>\n",
       "      <th>value_025_percentile</th>\n",
       "      <th>value_975_percentile</th>\n",
       "      <th>u5_applicable</th>\n",
       "      <th>wra_applicable</th>\n",
       "      <th>estimation_status</th>\n",
       "      <th>source_citation</th>\n",
       "      <th>source_link</th>\n",
       "      <th>CI_source</th>\n",
       "      <th>data_choice_notes</th>\n",
       "    </tr>\n",
       "  </thead>\n",
       "  <tbody>\n",
       "  </tbody>\n",
       "</table>\n",
       "</div>"
      ],
      "text/plain": [
       "Empty DataFrame\n",
       "Columns: [location_id, location_name, sub_population, vehicle, value_description, nutrient, value_mean, value_025_percentile, value_975_percentile, u5_applicable, wra_applicable, estimation_status, source_citation, source_link, CI_source, data_choice_notes]\n",
       "Index: []"
      ]
     },
     "execution_count": 5,
     "metadata": {},
     "output_type": "execute_result"
    }
   ],
   "source": [
    "df[(df.value_mean.isna())]"
   ]
  },
  {
   "cell_type": "code",
   "execution_count": 6,
   "metadata": {},
   "outputs": [
    {
     "data": {
      "text/plain": [
       "array(['Angola', 'China', 'Egypt', 'Ghana', 'Madagascar', 'Niger',\n",
       "       'Sudan'], dtype=object)"
      ]
     },
     "execution_count": 6,
     "metadata": {},
     "output_type": "execute_result"
    }
   ],
   "source": [
    "df[df.value_025_percentile.isna()].location_name.unique()"
   ]
  },
  {
   "cell_type": "code",
   "execution_count": 7,
   "metadata": {},
   "outputs": [],
   "source": [
    "A = df[(df.value_description==\"percent of population eating vehicle\")].rename(columns={'value_mean':\"A\",'estimation_status':'A_estimation_status'})\n",
    "B = df[(df.value_description==\"percent of population eating industrially produced vehicle\")].rename(columns={'value_mean':\"B\",'estimation_status':'B_estimation_status'})\n",
    "C = df[(df.value_description==\"percent of population eating fortified vehicle\")].rename(columns={'value_mean':\"C\",'estimation_status':'C_estimation_status'})\n",
    "\n",
    "A = A.drop(columns=['value_description','nutrient'])\n",
    "B = B.drop(columns=['value_description','nutrient'])\n",
    "C = C.drop(columns=['value_description'])\n",
    "\n",
    "ref = A.merge(B, on = ['location_id','location_name','vehicle'], how = 'left').merge(C, on = ['location_id','location_name','vehicle'], how = 'outer')[['location_name','vehicle','nutrient','A','A_estimation_status','B','B_estimation_status','C','C_estimation_status']]\n"
   ]
  },
  {
   "cell_type": "code",
   "execution_count": 8,
   "metadata": {},
   "outputs": [
    {
     "data": {
      "text/html": [
       "<div>\n",
       "<style scoped>\n",
       "    .dataframe tbody tr th:only-of-type {\n",
       "        vertical-align: middle;\n",
       "    }\n",
       "\n",
       "    .dataframe tbody tr th {\n",
       "        vertical-align: top;\n",
       "    }\n",
       "\n",
       "    .dataframe thead th {\n",
       "        text-align: right;\n",
       "    }\n",
       "</style>\n",
       "<table border=\"1\" class=\"dataframe\">\n",
       "  <thead>\n",
       "    <tr style=\"text-align: right;\">\n",
       "      <th></th>\n",
       "      <th>location_name</th>\n",
       "      <th>vehicle</th>\n",
       "      <th>nutrient</th>\n",
       "      <th>A</th>\n",
       "      <th>A_estimation_status</th>\n",
       "      <th>B</th>\n",
       "      <th>B_estimation_status</th>\n",
       "      <th>C</th>\n",
       "      <th>C_estimation_status</th>\n",
       "    </tr>\n",
       "  </thead>\n",
       "  <tbody>\n",
       "    <tr>\n",
       "      <th>0</th>\n",
       "      <td>Ethiopia</td>\n",
       "      <td>maize flour</td>\n",
       "      <td>folic acid</td>\n",
       "      <td>59.259825</td>\n",
       "      <td>regression</td>\n",
       "      <td>27.169813</td>\n",
       "      <td>regression</td>\n",
       "      <td>0.000000</td>\n",
       "      <td>regression</td>\n",
       "    </tr>\n",
       "    <tr>\n",
       "      <th>1</th>\n",
       "      <td>Ethiopia</td>\n",
       "      <td>maize flour</td>\n",
       "      <td>iron</td>\n",
       "      <td>59.259825</td>\n",
       "      <td>regression</td>\n",
       "      <td>27.169813</td>\n",
       "      <td>regression</td>\n",
       "      <td>0.000000</td>\n",
       "      <td>regression</td>\n",
       "    </tr>\n",
       "    <tr>\n",
       "      <th>2</th>\n",
       "      <td>Ethiopia</td>\n",
       "      <td>maize flour</td>\n",
       "      <td>vitamin a</td>\n",
       "      <td>59.259825</td>\n",
       "      <td>regression</td>\n",
       "      <td>27.169813</td>\n",
       "      <td>regression</td>\n",
       "      <td>0.000000</td>\n",
       "      <td>regression</td>\n",
       "    </tr>\n",
       "    <tr>\n",
       "      <th>3</th>\n",
       "      <td>Ethiopia</td>\n",
       "      <td>maize flour</td>\n",
       "      <td>zinc</td>\n",
       "      <td>59.259825</td>\n",
       "      <td>regression</td>\n",
       "      <td>27.169813</td>\n",
       "      <td>regression</td>\n",
       "      <td>0.000000</td>\n",
       "      <td>regression</td>\n",
       "    </tr>\n",
       "    <tr>\n",
       "      <th>4</th>\n",
       "      <td>Ethiopia</td>\n",
       "      <td>oil</td>\n",
       "      <td>vitamin a</td>\n",
       "      <td>29.350000</td>\n",
       "      <td>regression</td>\n",
       "      <td>70.000000</td>\n",
       "      <td>na</td>\n",
       "      <td>0.000000</td>\n",
       "      <td>regression</td>\n",
       "    </tr>\n",
       "    <tr>\n",
       "      <th>...</th>\n",
       "      <td>...</td>\n",
       "      <td>...</td>\n",
       "      <td>...</td>\n",
       "      <td>...</td>\n",
       "      <td>...</td>\n",
       "      <td>...</td>\n",
       "      <td>...</td>\n",
       "      <td>...</td>\n",
       "      <td>...</td>\n",
       "    </tr>\n",
       "    <tr>\n",
       "      <th>220</th>\n",
       "      <td>Sudan</td>\n",
       "      <td>oil</td>\n",
       "      <td>vitamin a</td>\n",
       "      <td>50.646725</td>\n",
       "      <td>regression</td>\n",
       "      <td>80.000000</td>\n",
       "      <td>na</td>\n",
       "      <td>80.000000</td>\n",
       "      <td>na</td>\n",
       "    </tr>\n",
       "    <tr>\n",
       "      <th>221</th>\n",
       "      <td>Sudan</td>\n",
       "      <td>wheat flour</td>\n",
       "      <td>folic acid</td>\n",
       "      <td>88.758036</td>\n",
       "      <td>regression</td>\n",
       "      <td>35.365713</td>\n",
       "      <td>regression</td>\n",
       "      <td>1.760469</td>\n",
       "      <td>regression</td>\n",
       "    </tr>\n",
       "    <tr>\n",
       "      <th>222</th>\n",
       "      <td>Sudan</td>\n",
       "      <td>wheat flour</td>\n",
       "      <td>iron</td>\n",
       "      <td>88.758036</td>\n",
       "      <td>regression</td>\n",
       "      <td>35.365713</td>\n",
       "      <td>regression</td>\n",
       "      <td>1.760469</td>\n",
       "      <td>regression</td>\n",
       "    </tr>\n",
       "    <tr>\n",
       "      <th>223</th>\n",
       "      <td>Sudan</td>\n",
       "      <td>wheat flour</td>\n",
       "      <td>vitamin a</td>\n",
       "      <td>88.758036</td>\n",
       "      <td>regression</td>\n",
       "      <td>35.365713</td>\n",
       "      <td>regression</td>\n",
       "      <td>1.760469</td>\n",
       "      <td>regression</td>\n",
       "    </tr>\n",
       "    <tr>\n",
       "      <th>224</th>\n",
       "      <td>Sudan</td>\n",
       "      <td>wheat flour</td>\n",
       "      <td>zinc</td>\n",
       "      <td>88.758036</td>\n",
       "      <td>regression</td>\n",
       "      <td>35.365713</td>\n",
       "      <td>regression</td>\n",
       "      <td>1.760469</td>\n",
       "      <td>regression</td>\n",
       "    </tr>\n",
       "  </tbody>\n",
       "</table>\n",
       "<p>225 rows × 9 columns</p>\n",
       "</div>"
      ],
      "text/plain": [
       "    location_name      vehicle    nutrient          A A_estimation_status  \\\n",
       "0        Ethiopia  maize flour  folic acid  59.259825          regression   \n",
       "1        Ethiopia  maize flour        iron  59.259825          regression   \n",
       "2        Ethiopia  maize flour   vitamin a  59.259825          regression   \n",
       "3        Ethiopia  maize flour        zinc  59.259825          regression   \n",
       "4        Ethiopia          oil   vitamin a  29.350000          regression   \n",
       "..            ...          ...         ...        ...                 ...   \n",
       "220         Sudan          oil   vitamin a  50.646725          regression   \n",
       "221         Sudan  wheat flour  folic acid  88.758036          regression   \n",
       "222         Sudan  wheat flour        iron  88.758036          regression   \n",
       "223         Sudan  wheat flour   vitamin a  88.758036          regression   \n",
       "224         Sudan  wheat flour        zinc  88.758036          regression   \n",
       "\n",
       "             B B_estimation_status          C C_estimation_status  \n",
       "0    27.169813          regression   0.000000          regression  \n",
       "1    27.169813          regression   0.000000          regression  \n",
       "2    27.169813          regression   0.000000          regression  \n",
       "3    27.169813          regression   0.000000          regression  \n",
       "4    70.000000                  na   0.000000          regression  \n",
       "..         ...                 ...        ...                 ...  \n",
       "220  80.000000                  na  80.000000                  na  \n",
       "221  35.365713          regression   1.760469          regression  \n",
       "222  35.365713          regression   1.760469          regression  \n",
       "223  35.365713          regression   1.760469          regression  \n",
       "224  35.365713          regression   1.760469          regression  \n",
       "\n",
       "[225 rows x 9 columns]"
      ]
     },
     "execution_count": 8,
     "metadata": {},
     "output_type": "execute_result"
    }
   ],
   "source": [
    "ref"
   ]
  },
  {
   "cell_type": "code",
   "execution_count": 9,
   "metadata": {},
   "outputs": [
    {
     "data": {
      "text/html": [
       "<div>\n",
       "<style scoped>\n",
       "    .dataframe tbody tr th:only-of-type {\n",
       "        vertical-align: middle;\n",
       "    }\n",
       "\n",
       "    .dataframe tbody tr th {\n",
       "        vertical-align: top;\n",
       "    }\n",
       "\n",
       "    .dataframe thead th {\n",
       "        text-align: right;\n",
       "    }\n",
       "</style>\n",
       "<table border=\"1\" class=\"dataframe\">\n",
       "  <thead>\n",
       "    <tr style=\"text-align: right;\">\n",
       "      <th></th>\n",
       "      <th>location_name</th>\n",
       "      <th>vehicle</th>\n",
       "      <th>nutrient</th>\n",
       "      <th>A</th>\n",
       "      <th>A_estimation_status</th>\n",
       "      <th>B</th>\n",
       "      <th>B_estimation_status</th>\n",
       "      <th>C</th>\n",
       "      <th>C_estimation_status</th>\n",
       "    </tr>\n",
       "  </thead>\n",
       "  <tbody>\n",
       "    <tr>\n",
       "      <th>73</th>\n",
       "      <td>Burkina Faso</td>\n",
       "      <td>oil</td>\n",
       "      <td>vitamin a</td>\n",
       "      <td>92.230000</td>\n",
       "      <td>na</td>\n",
       "      <td>51.975594</td>\n",
       "      <td>multiplicative</td>\n",
       "      <td>75.000000</td>\n",
       "      <td>na</td>\n",
       "    </tr>\n",
       "    <tr>\n",
       "      <th>87</th>\n",
       "      <td>Kenya</td>\n",
       "      <td>wheat flour</td>\n",
       "      <td>folic acid</td>\n",
       "      <td>36.580000</td>\n",
       "      <td>na</td>\n",
       "      <td>30.950000</td>\n",
       "      <td>na</td>\n",
       "      <td>34.703333</td>\n",
       "      <td>multiplicative</td>\n",
       "    </tr>\n",
       "    <tr>\n",
       "      <th>88</th>\n",
       "      <td>Kenya</td>\n",
       "      <td>wheat flour</td>\n",
       "      <td>iron</td>\n",
       "      <td>36.580000</td>\n",
       "      <td>na</td>\n",
       "      <td>30.950000</td>\n",
       "      <td>na</td>\n",
       "      <td>33.835750</td>\n",
       "      <td>multiplicative</td>\n",
       "    </tr>\n",
       "    <tr>\n",
       "      <th>89</th>\n",
       "      <td>Kenya</td>\n",
       "      <td>wheat flour</td>\n",
       "      <td>vitamin a</td>\n",
       "      <td>36.580000</td>\n",
       "      <td>na</td>\n",
       "      <td>30.950000</td>\n",
       "      <td>na</td>\n",
       "      <td>34.703333</td>\n",
       "      <td>multiplicative</td>\n",
       "    </tr>\n",
       "    <tr>\n",
       "      <th>90</th>\n",
       "      <td>Kenya</td>\n",
       "      <td>wheat flour</td>\n",
       "      <td>zinc</td>\n",
       "      <td>36.580000</td>\n",
       "      <td>na</td>\n",
       "      <td>30.950000</td>\n",
       "      <td>na</td>\n",
       "      <td>34.703333</td>\n",
       "      <td>multiplicative</td>\n",
       "    </tr>\n",
       "    <tr>\n",
       "      <th>124</th>\n",
       "      <td>Côte d'Ivoire</td>\n",
       "      <td>maize flour</td>\n",
       "      <td>folic acid</td>\n",
       "      <td>84.907643</td>\n",
       "      <td>regression</td>\n",
       "      <td>5.387876</td>\n",
       "      <td>regression</td>\n",
       "      <td>22.793768</td>\n",
       "      <td>regression</td>\n",
       "    </tr>\n",
       "    <tr>\n",
       "      <th>125</th>\n",
       "      <td>Côte d'Ivoire</td>\n",
       "      <td>maize flour</td>\n",
       "      <td>iron</td>\n",
       "      <td>84.907643</td>\n",
       "      <td>regression</td>\n",
       "      <td>5.387876</td>\n",
       "      <td>regression</td>\n",
       "      <td>22.793768</td>\n",
       "      <td>regression</td>\n",
       "    </tr>\n",
       "    <tr>\n",
       "      <th>126</th>\n",
       "      <td>Côte d'Ivoire</td>\n",
       "      <td>maize flour</td>\n",
       "      <td>vitamin a</td>\n",
       "      <td>84.907643</td>\n",
       "      <td>regression</td>\n",
       "      <td>5.387876</td>\n",
       "      <td>regression</td>\n",
       "      <td>22.793768</td>\n",
       "      <td>regression</td>\n",
       "    </tr>\n",
       "    <tr>\n",
       "      <th>127</th>\n",
       "      <td>Côte d'Ivoire</td>\n",
       "      <td>maize flour</td>\n",
       "      <td>zinc</td>\n",
       "      <td>84.907643</td>\n",
       "      <td>regression</td>\n",
       "      <td>5.387876</td>\n",
       "      <td>regression</td>\n",
       "      <td>22.793768</td>\n",
       "      <td>regression</td>\n",
       "    </tr>\n",
       "    <tr>\n",
       "      <th>129</th>\n",
       "      <td>Côte d'Ivoire</td>\n",
       "      <td>wheat flour</td>\n",
       "      <td>folic acid</td>\n",
       "      <td>54.700000</td>\n",
       "      <td>na</td>\n",
       "      <td>10.200000</td>\n",
       "      <td>na</td>\n",
       "      <td>10.599703</td>\n",
       "      <td>regression</td>\n",
       "    </tr>\n",
       "    <tr>\n",
       "      <th>130</th>\n",
       "      <td>Côte d'Ivoire</td>\n",
       "      <td>wheat flour</td>\n",
       "      <td>iron</td>\n",
       "      <td>54.700000</td>\n",
       "      <td>na</td>\n",
       "      <td>10.200000</td>\n",
       "      <td>na</td>\n",
       "      <td>13.401500</td>\n",
       "      <td>multiplicative</td>\n",
       "    </tr>\n",
       "    <tr>\n",
       "      <th>131</th>\n",
       "      <td>Côte d'Ivoire</td>\n",
       "      <td>wheat flour</td>\n",
       "      <td>vitamin a</td>\n",
       "      <td>54.700000</td>\n",
       "      <td>na</td>\n",
       "      <td>10.200000</td>\n",
       "      <td>na</td>\n",
       "      <td>10.599703</td>\n",
       "      <td>regression</td>\n",
       "    </tr>\n",
       "    <tr>\n",
       "      <th>143</th>\n",
       "      <td>Indonesia</td>\n",
       "      <td>wheat flour</td>\n",
       "      <td>folic acid</td>\n",
       "      <td>75.728763</td>\n",
       "      <td>regression</td>\n",
       "      <td>27.574571</td>\n",
       "      <td>regression</td>\n",
       "      <td>73.100000</td>\n",
       "      <td>na</td>\n",
       "    </tr>\n",
       "    <tr>\n",
       "      <th>144</th>\n",
       "      <td>Indonesia</td>\n",
       "      <td>wheat flour</td>\n",
       "      <td>iron</td>\n",
       "      <td>75.728763</td>\n",
       "      <td>regression</td>\n",
       "      <td>27.574571</td>\n",
       "      <td>regression</td>\n",
       "      <td>73.100000</td>\n",
       "      <td>na</td>\n",
       "    </tr>\n",
       "    <tr>\n",
       "      <th>145</th>\n",
       "      <td>Indonesia</td>\n",
       "      <td>wheat flour</td>\n",
       "      <td>vitamin a</td>\n",
       "      <td>75.728763</td>\n",
       "      <td>regression</td>\n",
       "      <td>27.574571</td>\n",
       "      <td>regression</td>\n",
       "      <td>73.100000</td>\n",
       "      <td>regression</td>\n",
       "    </tr>\n",
       "    <tr>\n",
       "      <th>146</th>\n",
       "      <td>Indonesia</td>\n",
       "      <td>wheat flour</td>\n",
       "      <td>zinc</td>\n",
       "      <td>75.728763</td>\n",
       "      <td>regression</td>\n",
       "      <td>27.574571</td>\n",
       "      <td>regression</td>\n",
       "      <td>73.100000</td>\n",
       "      <td>na</td>\n",
       "    </tr>\n",
       "    <tr>\n",
       "      <th>156</th>\n",
       "      <td>Angola</td>\n",
       "      <td>maize flour</td>\n",
       "      <td>folic acid</td>\n",
       "      <td>51.172808</td>\n",
       "      <td>regression</td>\n",
       "      <td>5.550861</td>\n",
       "      <td>regression</td>\n",
       "      <td>22.485675</td>\n",
       "      <td>regression</td>\n",
       "    </tr>\n",
       "    <tr>\n",
       "      <th>157</th>\n",
       "      <td>Angola</td>\n",
       "      <td>maize flour</td>\n",
       "      <td>iron</td>\n",
       "      <td>51.172808</td>\n",
       "      <td>regression</td>\n",
       "      <td>5.550861</td>\n",
       "      <td>regression</td>\n",
       "      <td>22.485675</td>\n",
       "      <td>regression</td>\n",
       "    </tr>\n",
       "    <tr>\n",
       "      <th>158</th>\n",
       "      <td>Angola</td>\n",
       "      <td>maize flour</td>\n",
       "      <td>vitamin a</td>\n",
       "      <td>51.172808</td>\n",
       "      <td>regression</td>\n",
       "      <td>5.550861</td>\n",
       "      <td>regression</td>\n",
       "      <td>22.485675</td>\n",
       "      <td>regression</td>\n",
       "    </tr>\n",
       "    <tr>\n",
       "      <th>159</th>\n",
       "      <td>Angola</td>\n",
       "      <td>maize flour</td>\n",
       "      <td>zinc</td>\n",
       "      <td>51.172808</td>\n",
       "      <td>regression</td>\n",
       "      <td>5.550861</td>\n",
       "      <td>regression</td>\n",
       "      <td>22.485675</td>\n",
       "      <td>regression</td>\n",
       "    </tr>\n",
       "    <tr>\n",
       "      <th>160</th>\n",
       "      <td>Angola</td>\n",
       "      <td>oil</td>\n",
       "      <td>vitamin a</td>\n",
       "      <td>90.384708</td>\n",
       "      <td>regression</td>\n",
       "      <td>35.635430</td>\n",
       "      <td>regression</td>\n",
       "      <td>42.655477</td>\n",
       "      <td>regression</td>\n",
       "    </tr>\n",
       "    <tr>\n",
       "      <th>189</th>\n",
       "      <td>Madagascar</td>\n",
       "      <td>maize flour</td>\n",
       "      <td>folic acid</td>\n",
       "      <td>92.959155</td>\n",
       "      <td>regression</td>\n",
       "      <td>4.485707</td>\n",
       "      <td>regression</td>\n",
       "      <td>6.362469</td>\n",
       "      <td>regression</td>\n",
       "    </tr>\n",
       "    <tr>\n",
       "      <th>190</th>\n",
       "      <td>Madagascar</td>\n",
       "      <td>maize flour</td>\n",
       "      <td>iron</td>\n",
       "      <td>92.959155</td>\n",
       "      <td>regression</td>\n",
       "      <td>4.485707</td>\n",
       "      <td>regression</td>\n",
       "      <td>6.362469</td>\n",
       "      <td>regression</td>\n",
       "    </tr>\n",
       "    <tr>\n",
       "      <th>191</th>\n",
       "      <td>Madagascar</td>\n",
       "      <td>maize flour</td>\n",
       "      <td>vitamin a</td>\n",
       "      <td>92.959155</td>\n",
       "      <td>regression</td>\n",
       "      <td>4.485707</td>\n",
       "      <td>regression</td>\n",
       "      <td>6.362469</td>\n",
       "      <td>regression</td>\n",
       "    </tr>\n",
       "    <tr>\n",
       "      <th>192</th>\n",
       "      <td>Madagascar</td>\n",
       "      <td>maize flour</td>\n",
       "      <td>zinc</td>\n",
       "      <td>92.959155</td>\n",
       "      <td>regression</td>\n",
       "      <td>4.485707</td>\n",
       "      <td>regression</td>\n",
       "      <td>6.362469</td>\n",
       "      <td>regression</td>\n",
       "    </tr>\n",
       "    <tr>\n",
       "      <th>194</th>\n",
       "      <td>Madagascar</td>\n",
       "      <td>wheat flour</td>\n",
       "      <td>folic acid</td>\n",
       "      <td>45.221202</td>\n",
       "      <td>regression</td>\n",
       "      <td>25.987012</td>\n",
       "      <td>regression</td>\n",
       "      <td>32.625994</td>\n",
       "      <td>regression</td>\n",
       "    </tr>\n",
       "    <tr>\n",
       "      <th>195</th>\n",
       "      <td>Madagascar</td>\n",
       "      <td>wheat flour</td>\n",
       "      <td>iron</td>\n",
       "      <td>45.221202</td>\n",
       "      <td>regression</td>\n",
       "      <td>25.987012</td>\n",
       "      <td>regression</td>\n",
       "      <td>32.625994</td>\n",
       "      <td>regression</td>\n",
       "    </tr>\n",
       "    <tr>\n",
       "      <th>196</th>\n",
       "      <td>Madagascar</td>\n",
       "      <td>wheat flour</td>\n",
       "      <td>vitamin a</td>\n",
       "      <td>45.221202</td>\n",
       "      <td>regression</td>\n",
       "      <td>25.987012</td>\n",
       "      <td>regression</td>\n",
       "      <td>32.625994</td>\n",
       "      <td>regression</td>\n",
       "    </tr>\n",
       "    <tr>\n",
       "      <th>197</th>\n",
       "      <td>Madagascar</td>\n",
       "      <td>wheat flour</td>\n",
       "      <td>zinc</td>\n",
       "      <td>45.221202</td>\n",
       "      <td>regression</td>\n",
       "      <td>25.987012</td>\n",
       "      <td>regression</td>\n",
       "      <td>32.625994</td>\n",
       "      <td>regression</td>\n",
       "    </tr>\n",
       "    <tr>\n",
       "      <th>198</th>\n",
       "      <td>Niger</td>\n",
       "      <td>maize flour</td>\n",
       "      <td>folic acid</td>\n",
       "      <td>70.426320</td>\n",
       "      <td>regression</td>\n",
       "      <td>3.830473</td>\n",
       "      <td>regression</td>\n",
       "      <td>6.220914</td>\n",
       "      <td>regression</td>\n",
       "    </tr>\n",
       "    <tr>\n",
       "      <th>199</th>\n",
       "      <td>Niger</td>\n",
       "      <td>maize flour</td>\n",
       "      <td>iron</td>\n",
       "      <td>70.426320</td>\n",
       "      <td>regression</td>\n",
       "      <td>3.830473</td>\n",
       "      <td>regression</td>\n",
       "      <td>6.220914</td>\n",
       "      <td>regression</td>\n",
       "    </tr>\n",
       "    <tr>\n",
       "      <th>200</th>\n",
       "      <td>Niger</td>\n",
       "      <td>maize flour</td>\n",
       "      <td>vitamin a</td>\n",
       "      <td>70.426320</td>\n",
       "      <td>regression</td>\n",
       "      <td>3.830473</td>\n",
       "      <td>regression</td>\n",
       "      <td>6.220914</td>\n",
       "      <td>regression</td>\n",
       "    </tr>\n",
       "    <tr>\n",
       "      <th>201</th>\n",
       "      <td>Niger</td>\n",
       "      <td>maize flour</td>\n",
       "      <td>zinc</td>\n",
       "      <td>70.426320</td>\n",
       "      <td>regression</td>\n",
       "      <td>3.830473</td>\n",
       "      <td>regression</td>\n",
       "      <td>6.220914</td>\n",
       "      <td>regression</td>\n",
       "    </tr>\n",
       "    <tr>\n",
       "      <th>202</th>\n",
       "      <td>Niger</td>\n",
       "      <td>maize flour</td>\n",
       "      <td>folic acid</td>\n",
       "      <td>70.426320</td>\n",
       "      <td>regression</td>\n",
       "      <td>3.830473</td>\n",
       "      <td>regression</td>\n",
       "      <td>6.220914</td>\n",
       "      <td>regression</td>\n",
       "    </tr>\n",
       "    <tr>\n",
       "      <th>203</th>\n",
       "      <td>Niger</td>\n",
       "      <td>maize flour</td>\n",
       "      <td>iron</td>\n",
       "      <td>70.426320</td>\n",
       "      <td>regression</td>\n",
       "      <td>3.830473</td>\n",
       "      <td>regression</td>\n",
       "      <td>6.220914</td>\n",
       "      <td>regression</td>\n",
       "    </tr>\n",
       "    <tr>\n",
       "      <th>204</th>\n",
       "      <td>Niger</td>\n",
       "      <td>maize flour</td>\n",
       "      <td>vitamin a</td>\n",
       "      <td>70.426320</td>\n",
       "      <td>regression</td>\n",
       "      <td>3.830473</td>\n",
       "      <td>regression</td>\n",
       "      <td>6.220914</td>\n",
       "      <td>regression</td>\n",
       "    </tr>\n",
       "    <tr>\n",
       "      <th>205</th>\n",
       "      <td>Niger</td>\n",
       "      <td>maize flour</td>\n",
       "      <td>zinc</td>\n",
       "      <td>70.426320</td>\n",
       "      <td>regression</td>\n",
       "      <td>3.830473</td>\n",
       "      <td>regression</td>\n",
       "      <td>6.220914</td>\n",
       "      <td>regression</td>\n",
       "    </tr>\n",
       "    <tr>\n",
       "      <th>206</th>\n",
       "      <td>Niger</td>\n",
       "      <td>oil</td>\n",
       "      <td>vitamin a</td>\n",
       "      <td>85.000000</td>\n",
       "      <td>na</td>\n",
       "      <td>54.403014</td>\n",
       "      <td>regression</td>\n",
       "      <td>75.000000</td>\n",
       "      <td>na</td>\n",
       "    </tr>\n",
       "    <tr>\n",
       "      <th>207</th>\n",
       "      <td>Niger</td>\n",
       "      <td>oil</td>\n",
       "      <td>vitamin a</td>\n",
       "      <td>85.000000</td>\n",
       "      <td>na</td>\n",
       "      <td>54.403014</td>\n",
       "      <td>regression</td>\n",
       "      <td>75.000000</td>\n",
       "      <td>na</td>\n",
       "    </tr>\n",
       "  </tbody>\n",
       "</table>\n",
       "</div>"
      ],
      "text/plain": [
       "     location_name      vehicle    nutrient          A A_estimation_status  \\\n",
       "73    Burkina Faso          oil   vitamin a  92.230000                  na   \n",
       "87           Kenya  wheat flour  folic acid  36.580000                  na   \n",
       "88           Kenya  wheat flour        iron  36.580000                  na   \n",
       "89           Kenya  wheat flour   vitamin a  36.580000                  na   \n",
       "90           Kenya  wheat flour        zinc  36.580000                  na   \n",
       "124  Côte d'Ivoire  maize flour  folic acid  84.907643          regression   \n",
       "125  Côte d'Ivoire  maize flour        iron  84.907643          regression   \n",
       "126  Côte d'Ivoire  maize flour   vitamin a  84.907643          regression   \n",
       "127  Côte d'Ivoire  maize flour        zinc  84.907643          regression   \n",
       "129  Côte d'Ivoire  wheat flour  folic acid  54.700000                  na   \n",
       "130  Côte d'Ivoire  wheat flour        iron  54.700000                  na   \n",
       "131  Côte d'Ivoire  wheat flour   vitamin a  54.700000                  na   \n",
       "143      Indonesia  wheat flour  folic acid  75.728763          regression   \n",
       "144      Indonesia  wheat flour        iron  75.728763          regression   \n",
       "145      Indonesia  wheat flour   vitamin a  75.728763          regression   \n",
       "146      Indonesia  wheat flour        zinc  75.728763          regression   \n",
       "156         Angola  maize flour  folic acid  51.172808          regression   \n",
       "157         Angola  maize flour        iron  51.172808          regression   \n",
       "158         Angola  maize flour   vitamin a  51.172808          regression   \n",
       "159         Angola  maize flour        zinc  51.172808          regression   \n",
       "160         Angola          oil   vitamin a  90.384708          regression   \n",
       "189     Madagascar  maize flour  folic acid  92.959155          regression   \n",
       "190     Madagascar  maize flour        iron  92.959155          regression   \n",
       "191     Madagascar  maize flour   vitamin a  92.959155          regression   \n",
       "192     Madagascar  maize flour        zinc  92.959155          regression   \n",
       "194     Madagascar  wheat flour  folic acid  45.221202          regression   \n",
       "195     Madagascar  wheat flour        iron  45.221202          regression   \n",
       "196     Madagascar  wheat flour   vitamin a  45.221202          regression   \n",
       "197     Madagascar  wheat flour        zinc  45.221202          regression   \n",
       "198          Niger  maize flour  folic acid  70.426320          regression   \n",
       "199          Niger  maize flour        iron  70.426320          regression   \n",
       "200          Niger  maize flour   vitamin a  70.426320          regression   \n",
       "201          Niger  maize flour        zinc  70.426320          regression   \n",
       "202          Niger  maize flour  folic acid  70.426320          regression   \n",
       "203          Niger  maize flour        iron  70.426320          regression   \n",
       "204          Niger  maize flour   vitamin a  70.426320          regression   \n",
       "205          Niger  maize flour        zinc  70.426320          regression   \n",
       "206          Niger          oil   vitamin a  85.000000                  na   \n",
       "207          Niger          oil   vitamin a  85.000000                  na   \n",
       "\n",
       "             B B_estimation_status          C C_estimation_status  \n",
       "73   51.975594      multiplicative  75.000000                  na  \n",
       "87   30.950000                  na  34.703333      multiplicative  \n",
       "88   30.950000                  na  33.835750      multiplicative  \n",
       "89   30.950000                  na  34.703333      multiplicative  \n",
       "90   30.950000                  na  34.703333      multiplicative  \n",
       "124   5.387876          regression  22.793768          regression  \n",
       "125   5.387876          regression  22.793768          regression  \n",
       "126   5.387876          regression  22.793768          regression  \n",
       "127   5.387876          regression  22.793768          regression  \n",
       "129  10.200000                  na  10.599703          regression  \n",
       "130  10.200000                  na  13.401500      multiplicative  \n",
       "131  10.200000                  na  10.599703          regression  \n",
       "143  27.574571          regression  73.100000                  na  \n",
       "144  27.574571          regression  73.100000                  na  \n",
       "145  27.574571          regression  73.100000          regression  \n",
       "146  27.574571          regression  73.100000                  na  \n",
       "156   5.550861          regression  22.485675          regression  \n",
       "157   5.550861          regression  22.485675          regression  \n",
       "158   5.550861          regression  22.485675          regression  \n",
       "159   5.550861          regression  22.485675          regression  \n",
       "160  35.635430          regression  42.655477          regression  \n",
       "189   4.485707          regression   6.362469          regression  \n",
       "190   4.485707          regression   6.362469          regression  \n",
       "191   4.485707          regression   6.362469          regression  \n",
       "192   4.485707          regression   6.362469          regression  \n",
       "194  25.987012          regression  32.625994          regression  \n",
       "195  25.987012          regression  32.625994          regression  \n",
       "196  25.987012          regression  32.625994          regression  \n",
       "197  25.987012          regression  32.625994          regression  \n",
       "198   3.830473          regression   6.220914          regression  \n",
       "199   3.830473          regression   6.220914          regression  \n",
       "200   3.830473          regression   6.220914          regression  \n",
       "201   3.830473          regression   6.220914          regression  \n",
       "202   3.830473          regression   6.220914          regression  \n",
       "203   3.830473          regression   6.220914          regression  \n",
       "204   3.830473          regression   6.220914          regression  \n",
       "205   3.830473          regression   6.220914          regression  \n",
       "206  54.403014          regression  75.000000                  na  \n",
       "207  54.403014          regression  75.000000                  na  "
      ]
     },
     "execution_count": 9,
     "metadata": {},
     "output_type": "execute_result"
    }
   ],
   "source": [
    "ref[(ref.B < ref.C)]"
   ]
  },
  {
   "cell_type": "code",
   "execution_count": 10,
   "metadata": {},
   "outputs": [
    {
     "data": {
      "text/html": [
       "<div>\n",
       "<style scoped>\n",
       "    .dataframe tbody tr th:only-of-type {\n",
       "        vertical-align: middle;\n",
       "    }\n",
       "\n",
       "    .dataframe tbody tr th {\n",
       "        vertical-align: top;\n",
       "    }\n",
       "\n",
       "    .dataframe thead th {\n",
       "        text-align: right;\n",
       "    }\n",
       "</style>\n",
       "<table border=\"1\" class=\"dataframe\">\n",
       "  <thead>\n",
       "    <tr style=\"text-align: right;\">\n",
       "      <th></th>\n",
       "      <th>location_name</th>\n",
       "      <th>vehicle</th>\n",
       "      <th>nutrient</th>\n",
       "      <th>A</th>\n",
       "      <th>A_estimation_status</th>\n",
       "      <th>B</th>\n",
       "      <th>B_estimation_status</th>\n",
       "      <th>C</th>\n",
       "      <th>C_estimation_status</th>\n",
       "    </tr>\n",
       "  </thead>\n",
       "  <tbody>\n",
       "  </tbody>\n",
       "</table>\n",
       "</div>"
      ],
      "text/plain": [
       "Empty DataFrame\n",
       "Columns: [location_name, vehicle, nutrient, A, A_estimation_status, B, B_estimation_status, C, C_estimation_status]\n",
       "Index: []"
      ]
     },
     "execution_count": 10,
     "metadata": {},
     "output_type": "execute_result"
    }
   ],
   "source": [
    "ref[(ref.B.isna()) | (ref.C.isna())]"
   ]
  },
  {
   "cell_type": "code",
   "execution_count": 11,
   "metadata": {},
   "outputs": [
    {
     "data": {
      "text/plain": [
       "25"
      ]
     },
     "execution_count": 11,
     "metadata": {},
     "output_type": "execute_result"
    }
   ],
   "source": [
    "ref.location_name.nunique()"
   ]
  },
  {
   "cell_type": "code",
   "execution_count": 12,
   "metadata": {},
   "outputs": [],
   "source": [
    "oil_est_path = '/ihme/homes/beatrixh/vivarium_research_lsff/data_prep/outputs/pct_eating_oil_regression_estimates_3_23_2021.csv'\n",
    "wheat_est_path = '/ihme/homes/beatrixh/vivarium_research_lsff/data_prep/outputs/pct_eating_wheat_regression_estimates_3_22_2021.csv'\n",
    "maize_est_path = '/ihme/homes/beatrixh/vivarium_research_lsff/data_prep/outputs/pct_eating_maize_regression_estimates_3_22_2021.csv'\n",
    "\n",
    "ip_wheat_path =  '/ihme/homes/beatrixh/vivarium_research_lsff/data_prep/outputs/pct_eating_fortifiable_wheat_regression_estimates_3_31_2021.csv'\n",
    "ip_oil_path = '/ihme/homes/beatrixh/vivarium_research_lsff/data_prep/outputs/pct_eating_fortifiable_oil_regression_estimates_3_31_2021.csv'\n",
    "ip_maize_path = '/ihme/homes/beatrixh/vivarium_research_lsff/data_prep/outputs/pct_eating_fortifiable_maize_regression_estimates_3_31_2021.csv'\n",
    "\n",
    "fort_wheat_path = '/ihme/homes/beatrixh/vivarium_research_lsff/data_prep/outputs/pct_eating_fortified_wheat_regression_estimates_3_31_2021.csv'\n",
    "fort_maize_path = '/ihme/homes/beatrixh/vivarium_research_lsff/data_prep/outputs/pct_eating_fortified_maize_regression_estimates_3_31_2021.csv'\n",
    "fort_oil_path = '/ihme/homes/beatrixh/vivarium_research_lsff/data_prep/outputs/pct_eating_fortified_oil_regression_estimates_3_31_2021.csv'"
   ]
  },
  {
   "cell_type": "code",
   "execution_count": 13,
   "metadata": {},
   "outputs": [],
   "source": [
    "paths_A = [oil_est_path,wheat_est_path,maize_est_path]\n",
    "paths_B = [ip_wheat_path,ip_oil_path,ip_maize_path]\n",
    "paths_C = [fort_wheat_path, fort_maize_path, fort_oil_path]\n",
    "\n",
    "def format_data(paths, var, n):\n",
    "    draws = [f'draw_{i}' for i in range(n)]\n",
    "    df = pd.concat([pd.read_csv(path) for path in paths])\n",
    "    df[var] = df[draws].mean(axis=1)\n",
    "    df = df.drop(columns=draws)\n",
    "    \n",
    "    return df.groupby(['location_name','vehicle']).mean().reset_index()"
   ]
  },
  {
   "cell_type": "code",
   "execution_count": 14,
   "metadata": {},
   "outputs": [],
   "source": [
    "scale_over_mean_map = {\n",
    "    \"maize flour\":0.578996, \n",
    "    \"oil\":0.069702,\n",
    "    \"wheat flour\":0.507994\n",
    "}"
   ]
  },
  {
   "cell_type": "code",
   "execution_count": 15,
   "metadata": {},
   "outputs": [],
   "source": [
    "df['scale_over_mean'] = 2 * df.vehicle.map(scale_over_mean_map)"
   ]
  },
  {
   "cell_type": "code",
   "execution_count": 16,
   "metadata": {},
   "outputs": [],
   "source": [
    "eats = format_data(paths_A, 'reg_A', n = 1_000)\n",
    "ip = format_data(paths_B, 'reg_B', n = 500)\n",
    "fort = format_data(paths_C, 'reg_C',n = 500)"
   ]
  },
  {
   "cell_type": "code",
   "execution_count": 17,
   "metadata": {},
   "outputs": [],
   "source": [
    "df = df.merge(eats, on = ['location_name','vehicle'], how = 'outer')"
   ]
  },
  {
   "cell_type": "code",
   "execution_count": 18,
   "metadata": {},
   "outputs": [],
   "source": [
    "df['updated'] = False"
   ]
  },
  {
   "cell_type": "code",
   "execution_count": 19,
   "metadata": {},
   "outputs": [],
   "source": [
    "df.loc[((df.estimation_status==\"regression\") | (df.value_mean.isna())) &\n",
    "   (df.value_description==\"percent of population eating vehicle\") & \n",
    "   (df.reg_A.notna()),'updated'] = True\n",
    "\n",
    "df.loc[((df.estimation_status==\"regression\") | (df.value_mean.isna())) &\n",
    "   (df.value_description==\"percent of population eating vehicle\") & \n",
    "   (df.reg_A.notna()),'estimation_status'] = 'regression'\n",
    "\n",
    "df.loc[((df.estimation_status==\"regression\") | (df.value_mean.isna())) &\n",
    "   (df.value_description==\"percent of population eating vehicle\") & \n",
    "   (df.reg_A.notna()),'value_mean'] = df.reg_A"
   ]
  },
  {
   "cell_type": "code",
   "execution_count": 20,
   "metadata": {},
   "outputs": [],
   "source": [
    "df = df.merge(ip, on = ['location_name','vehicle'], how = 'outer')"
   ]
  },
  {
   "cell_type": "code",
   "execution_count": 21,
   "metadata": {
    "scrolled": false
   },
   "outputs": [],
   "source": [
    "df.loc[((df.estimation_status==\"regression\") | (df.value_mean.isna())) &\n",
    "   (df.value_description==\"percent of population eating industrially produced vehicle\") & \n",
    "   (df.reg_B.notna()),'updated'] = True\n",
    "\n",
    "df.loc[((df.estimation_status==\"regression\") | (df.value_mean.isna())) &\n",
    "   (df.value_description==\"percent of population eating industrially produced vehicle\") & \n",
    "   (df.reg_B.notna()),'estimation_status'] = 'regression'\n",
    "\n",
    "df.loc[((df.estimation_status==\"regression\") | (df.value_mean.isna())) &\n",
    "   (df.value_description==\"percent of population eating industrially produced vehicle\") & \n",
    "   (df.reg_B.notna()),'value_mean'] = df.reg_B"
   ]
  },
  {
   "cell_type": "code",
   "execution_count": 22,
   "metadata": {},
   "outputs": [],
   "source": [
    "df = df.merge(fort, on = ['location_name','vehicle'], how = 'outer')"
   ]
  },
  {
   "cell_type": "code",
   "execution_count": 23,
   "metadata": {},
   "outputs": [],
   "source": [
    "df.loc[((df.estimation_status==\"regression\") | (df.value_mean.isna())) &\n",
    "   (df.value_description==\"percent of population eating fortified vehicle\") & \n",
    "   (df.reg_C.notna()),'updated'] = True\n",
    "\n",
    "df.loc[((df.estimation_status==\"regression\") | (df.value_mean.isna())) &\n",
    "   (df.value_description==\"percent of population eating fortified vehicle\") & \n",
    "   (df.reg_B.notna()),'estimation_status'] = 'regression'\n",
    "\n",
    "df.loc[((df.estimation_status==\"regression\") | (df.value_mean.isna())) &\n",
    "   (df.value_description==\"percent of population eating fortified vehicle\") & \n",
    "   (df.reg_B.notna()),'value_mean'] = df.reg_C"
   ]
  },
  {
   "cell_type": "code",
   "execution_count": 24,
   "metadata": {},
   "outputs": [
    {
     "data": {
      "text/plain": [
       "array(['regression'], dtype=object)"
      ]
     },
     "execution_count": 24,
     "metadata": {},
     "output_type": "execute_result"
    }
   ],
   "source": [
    "df[(df.updated)].estimation_status.unique()"
   ]
  },
  {
   "cell_type": "code",
   "execution_count": 30,
   "metadata": {},
   "outputs": [],
   "source": [
    "df['lower'] = np.clip(df.value_mean - (df.scale_over_mean * df.value_mean)/2, 0, 100)\n",
    "df['upper'] = np.clip(df.value_mean + (df.scale_over_mean * df.value_mean)/2, 0, 100)"
   ]
  },
  {
   "cell_type": "code",
   "execution_count": 31,
   "metadata": {},
   "outputs": [],
   "source": [
    "df.loc[(df.updated),'value_025_percentile'] = df.lower\n",
    "df.loc[(df.updated),'value_975_percentile'] = df.upper"
   ]
  },
  {
   "cell_type": "code",
   "execution_count": null,
   "metadata": {},
   "outputs": [],
   "source": [
    "df[(df.value_025_percentile)]"
   ]
  },
  {
   "cell_type": "code",
   "execution_count": null,
   "metadata": {},
   "outputs": [],
   "source": [
    "A = df[(df.value_description==\"percent of population eating vehicle\")].rename(\n",
    "    columns={\n",
    "        'value_mean':\"A\",\n",
    "        'estimation_status':'A_estimation_status',\n",
    "        'value_025_percentile':'A_lower',\n",
    "        'value_975_percentile':'A_upper'\n",
    "    })\n",
    "B = df[(df.value_description==\"percent of population eating industrially produced vehicle\")].rename(\n",
    "    columns={\n",
    "        'value_mean':\"B\",\n",
    "        'estimation_status':'B_estimation_status',\n",
    "        'value_025_percentile':'B_lower',\n",
    "        'value_975_percentile':'B_upper'\n",
    "    })\n",
    "\n",
    "C = df[(df.value_description==\"percent of population eating fortified vehicle\")].rename(\n",
    "    columns={\n",
    "        'value_mean':\"C\",\n",
    "        'estimation_status':'C_estimation_status',\n",
    "        'value_025_percentile':'C_lower',\n",
    "        'value_975_percentile':'C_upper'\n",
    "    })"
   ]
  },
  {
   "cell_type": "code",
   "execution_count": null,
   "metadata": {},
   "outputs": [],
   "source": []
  },
  {
   "cell_type": "code",
   "execution_count": null,
   "metadata": {},
   "outputs": [],
   "source": [
    "# B = df[(df.value_description==\"percent of population eating industrially produced vehicle\")].rename(columns={'value_mean':\"B\",'estimation_status':'B_estimation_status'})\n",
    "# C = df[(df.value_description==\"percent of population eating fortified vehicle\")].rename(columns={'value_mean':\"C\",'estimation_status':'C_estimation_status'})\n",
    "\n",
    "A = A.drop(columns=['value_description','nutrient'])\n",
    "B = B.drop(columns=['value_description','nutrient'])\n",
    "C = C.drop(columns=['value_description'])\n",
    "\n",
    "ref = A.merge(B, on = ['location_id','location_name','vehicle'], how = 'left').merge(C, on = ['location_id','location_name','vehicle'], how = 'outer') #[['location_name','vehicle','nutrient','A','A_estimation_status','B','B_estimation_status','C','C_estimation_status']]"
   ]
  },
  {
   "cell_type": "code",
   "execution_count": null,
   "metadata": {},
   "outputs": [],
   "source": [
    "ref = ref[['location_name','vehicle','nutrient',\n",
    "           'A','A_lower','A_upper','A_estimation_status',\n",
    "           'B','B_lower','B_upper','B_estimation_status',\n",
    "           'C','C_lower','C_upper','C_estimation_status']]"
   ]
  },
  {
   "cell_type": "code",
   "execution_count": null,
   "metadata": {},
   "outputs": [],
   "source": [
    "ref"
   ]
  },
  {
   "cell_type": "code",
   "execution_count": null,
   "metadata": {},
   "outputs": [],
   "source": [
    "ref[(ref.B < ref.C)][['A','B','C','B_upper','C_lower']]"
   ]
  },
  {
   "cell_type": "code",
   "execution_count": null,
   "metadata": {},
   "outputs": [],
   "source": [
    "ref[(ref.B.isna()) | (ref.C.isna())][['location_name','vehicle','nutrient','A_estimation_status','A','B_estimation_status','B','C_estimation_status','C']]"
   ]
  },
  {
   "cell_type": "code",
   "execution_count": null,
   "metadata": {},
   "outputs": [],
   "source": [
    "ref[(ref.B_upper < ref.C_lower)][['location_name','vehicle','nutrient','A_estimation_status','A','B_estimation_status','B','C_estimation_status','C']]"
   ]
  },
  {
   "cell_type": "code",
   "execution_count": null,
   "metadata": {},
   "outputs": [],
   "source": [
    "# these are the locations rejection sampling should be able to fix\n",
    "sub = ref.loc[(ref.B < ref.C) & ~(ref.B_upper < ref.C_lower)]"
   ]
  },
  {
   "cell_type": "code",
   "execution_count": null,
   "metadata": {},
   "outputs": [],
   "source": [
    "sub"
   ]
  },
  {
   "cell_type": "code",
   "execution_count": null,
   "metadata": {},
   "outputs": [],
   "source": [
    "fortifiable = sub[['location_name','vehicle','nutrient','B','B_lower','B_upper','B_estimation_status']]\n",
    "fortifiable['value_description'] = 'B'\n",
    "\n",
    "fortified = sub[['location_name','vehicle','nutrient','C','C_lower','C_upper','C_estimation_status']]\n",
    "fortified['value_description'] = 'C'"
   ]
  },
  {
   "cell_type": "code",
   "execution_count": null,
   "metadata": {},
   "outputs": [],
   "source": [
    "import scipy.stats\n",
    "import scipy.integrate as integrate"
   ]
  },
  {
   "cell_type": "code",
   "execution_count": null,
   "metadata": {},
   "outputs": [],
   "source": [
    "sub.head()"
   ]
  },
  {
   "cell_type": "code",
   "execution_count": null,
   "metadata": {},
   "outputs": [],
   "source": [
    "replacement = pd.DataFrame()\n",
    "for i, row in ref.loc[(ref.B < ref.C) & ~(ref.B_upper < ref.C_lower)].iterrows():\n",
    "    std_b = np.max([(row.B_upper - row.B),(row.B - row.B_lower)]) / 1.96\n",
    "    b_a = (0 - row.B) / std_b\n",
    "    b_b = (100 - row.B) / std_b\n",
    "    \n",
    "    b_draws = scipy.stats.truncnorm.rvs(b_a, b_b, row.B, std_b, size = 500_000).tolist()\n",
    "    \n",
    "    std_c = np.max([(row.C_upper - row.C),(row.C - row.C_lower)]) / 1.96\n",
    "    c_a = (0 - row.C) / std_c\n",
    "    c_b = (100 - row.C) / std_c\n",
    "    \n",
    "    c_draws = scipy.stats.truncnorm.rvs(c_a, c_b, row.C, std_c, size = 500_000).tolist()\n",
    "    \n",
    "    all_draws = pd.DataFrame({\n",
    "    'b':b_draws,\n",
    "    'c':c_draws\n",
    "    })\n",
    "\n",
    "    all_draws = all_draws[all_draws.b > all_draws.c].T #only keep logical draws\n",
    "    means = all_draws.mean(axis=1)\n",
    "    lowers = all_draws.quantile(.025, axis=1)\n",
    "    uppers = all_draws.quantile(.975, axis=1)\n",
    "    \n",
    "    \n",
    "    new = pd.DataFrame({\n",
    "    'location_name': [row.location_name] * 2,\n",
    "    'vehicle': [row.vehicle] * 2,\n",
    "    'nutrient': ['na',row.nutrient],\n",
    "    'value_description':['percent of population eating industrially produced vehicle','percent of population eating fortified vehicle'],\n",
    "    'value_mean':means,\n",
    "    'value_025_percentile':lowers,\n",
    "    'value_975_percentile':uppers,\n",
    "    'estimation_status': [\" + \".join([row.B_estimation_status,\"rejection sampling\"]),\" + \".join([row.C_estimation_status,\"rejection sampling\"])]\n",
    "    })\n",
    "    \n",
    "    replacement = replacement.append(new)"
   ]
  },
  {
   "cell_type": "code",
   "execution_count": null,
   "metadata": {},
   "outputs": [],
   "source": [
    "replacement = replacement.groupby(['location_name','vehicle','value_description','nutrient','estimation_status']).mean().reset_index()"
   ]
  },
  {
   "cell_type": "code",
   "execution_count": null,
   "metadata": {},
   "outputs": [],
   "source": [
    "rename_repl = {\n",
    "    'value_mean': 'new_value_mean',\n",
    "    'value_025_percentile': 'new_value_025_percentile',\n",
    "    'value_975_percentile': 'new_value_975_percentile',\n",
    "    'estimation_status':'new_estimation_status'\n",
    "}\n",
    "\n",
    "replacement = replacement.rename(columns=rename_repl)"
   ]
  },
  {
   "cell_type": "code",
   "execution_count": null,
   "metadata": {},
   "outputs": [],
   "source": [
    "replacement"
   ]
  },
  {
   "cell_type": "code",
   "execution_count": null,
   "metadata": {
    "scrolled": true
   },
   "outputs": [],
   "source": [
    "replacement['new_value_025_percentile'] = np.clip(replacement.new_value_025_percentile - 0.75*(replacement.new_value_mean - replacement.new_value_025_percentile), 0, 100)\n",
    "replacement['new_value_975_percentile'] = np.clip(replacement.new_value_975_percentile + 0.75*(replacement.new_value_975_percentile - replacement.new_value_mean), 0, 100)"
   ]
  },
  {
   "cell_type": "code",
   "execution_count": null,
   "metadata": {},
   "outputs": [],
   "source": [
    "output = df.merge(replacement, on = ['location_name','vehicle','value_description','nutrient'], how = 'left')"
   ]
  },
  {
   "cell_type": "code",
   "execution_count": null,
   "metadata": {},
   "outputs": [],
   "source": [
    "output.loc[(output.new_value_mean.notna()),'value_mean'] = output.new_value_mean\n",
    "output.loc[(output.new_value_mean.notna()),'value_025_percentile'] = output.new_value_025_percentile\n",
    "output.loc[(output.new_value_mean.notna()),'value_975_percentile'] = output.new_value_975_percentile"
   ]
  },
  {
   "cell_type": "code",
   "execution_count": null,
   "metadata": {},
   "outputs": [],
   "source": [
    "output.loc[(output.new_value_mean.notna()),'estimation_status'] = output.new_estimation_status"
   ]
  },
  {
   "cell_type": "code",
   "execution_count": null,
   "metadata": {},
   "outputs": [],
   "source": [
    "final_cols = ['location_id', 'location_name', 'sub_population', 'vehicle',\n",
    "       'value_description', 'nutrient', 'value_mean', 'value_025_percentile',\n",
    "       'value_975_percentile']"
   ]
  },
  {
   "cell_type": "code",
   "execution_count": null,
   "metadata": {},
   "outputs": [],
   "source": [
    "all_inputted_data_path = '/ihme/homes/beatrixh/vivarium_research_lsff/data_prep/outputs/lsff_input_coverage_data.csv'"
   ]
  },
  {
   "cell_type": "code",
   "execution_count": null,
   "metadata": {},
   "outputs": [],
   "source": [
    "output[output.value_mean.isna()]"
   ]
  },
  {
   "cell_type": "code",
   "execution_count": null,
   "metadata": {
    "scrolled": true
   },
   "outputs": [],
   "source": [
    "output[final_cols + ['u5_applicable','wra_applicable']]"
   ]
  },
  {
   "cell_type": "code",
   "execution_count": null,
   "metadata": {},
   "outputs": [],
   "source": [
    "output[final_cols + ['u5_applicable','wra_applicable']].to_csv(all_inputted_data_path)\n",
    "\n",
    "output[final_cols + ['u5_applicable','wra_applicable']].to_csv('/ihme/homes/beatrixh/repos/scratch/lsff_input_coverage_data.csv')"
   ]
  },
  {
   "cell_type": "code",
   "execution_count": null,
   "metadata": {},
   "outputs": [],
   "source": [
    "output[(output.value_mean.isna())]"
   ]
  },
  {
   "cell_type": "code",
   "execution_count": null,
   "metadata": {},
   "outputs": [],
   "source": [
    "output[(output.value_025_percentile.isna())][['location_name','vehicle','value_description','value_mean','estimation_status','new_estimation_status']]"
   ]
  },
  {
   "cell_type": "code",
   "execution_count": null,
   "metadata": {},
   "outputs": [],
   "source": []
  },
  {
   "cell_type": "code",
   "execution_count": null,
   "metadata": {},
   "outputs": [],
   "source": [
    "break"
   ]
  },
  {
   "cell_type": "code",
   "execution_count": null,
   "metadata": {},
   "outputs": [],
   "source": []
  },
  {
   "cell_type": "code",
   "execution_count": null,
   "metadata": {},
   "outputs": [],
   "source": [
    "output.estimation_status_y.unique()"
   ]
  },
  {
   "cell_type": "code",
   "execution_count": null,
   "metadata": {},
   "outputs": [],
   "source": [
    "output.head()"
   ]
  },
  {
   "cell_type": "code",
   "execution_count": null,
   "metadata": {},
   "outputs": [],
   "source": []
  },
  {
   "cell_type": "code",
   "execution_count": null,
   "metadata": {},
   "outputs": [],
   "source": []
  },
  {
   "cell_type": "code",
   "execution_count": null,
   "metadata": {},
   "outputs": [],
   "source": []
  },
  {
   "cell_type": "code",
   "execution_count": null,
   "metadata": {},
   "outputs": [],
   "source": []
  },
  {
   "cell_type": "code",
   "execution_count": null,
   "metadata": {},
   "outputs": [],
   "source": [
    "A = output[(output.value_description==\"percent of population eating vehicle\")].rename(columns={'value_mean':\"A\",'estimation_status':'A_estimation_status'})\n",
    "B = output[(output.value_description==\"percent of population eating industrially produced vehicle\")].rename(columns={'value_mean':\"B\",'estimation_status':'B_estimation_status'})\n",
    "C = output[(output.value_description==\"percent of population eating fortified vehicle\")].rename(columns={'value_mean':\"C\",'estimation_status':'C_estimation_status'})\n",
    "\n",
    "A = A.drop(columns=['value_description','nutrient'])\n",
    "B = B.drop(columns=['value_description','nutrient'])\n",
    "C = C.drop(columns=['value_description'])\n",
    "\n",
    "ref2 = A.merge(B, on = ['location_id','location_name','vehicle'], how = 'left').merge(C, on = ['location_id','location_name','vehicle'], how = 'outer')[['location_name','vehicle','nutrient','A','A_estimation_status','B','B_estimation_status','C','C_estimation_status']]\n"
   ]
  },
  {
   "cell_type": "code",
   "execution_count": null,
   "metadata": {},
   "outputs": [],
   "source": [
    "ref2[(ref2.B < ref2.C)]"
   ]
  },
  {
   "cell_type": "code",
   "execution_count": null,
   "metadata": {},
   "outputs": [],
   "source": [
    "ref2[(ref2.B.isna() | ref2.C.isna())]"
   ]
  },
  {
   "cell_type": "code",
   "execution_count": null,
   "metadata": {},
   "outputs": [],
   "source": [
    "ref2['score'] = 0"
   ]
  },
  {
   "cell_type": "code",
   "execution_count": null,
   "metadata": {},
   "outputs": [],
   "source": [
    "ref2.A_estimation_status.unique()"
   ]
  },
  {
   "cell_type": "code",
   "execution_count": null,
   "metadata": {},
   "outputs": [],
   "source": [
    "ref2.B_estimation_status.unique()"
   ]
  },
  {
   "cell_type": "code",
   "execution_count": null,
   "metadata": {},
   "outputs": [],
   "source": [
    "ref2.C_estimation_status.unique()"
   ]
  },
  {
   "cell_type": "code",
   "execution_count": null,
   "metadata": {},
   "outputs": [],
   "source": []
  },
  {
   "cell_type": "code",
   "execution_count": null,
   "metadata": {},
   "outputs": [],
   "source": []
  },
  {
   "cell_type": "code",
   "execution_count": null,
   "metadata": {},
   "outputs": [],
   "source": []
  },
  {
   "cell_type": "code",
   "execution_count": null,
   "metadata": {},
   "outputs": [],
   "source": [
    "df[(df.value_mean.isna())]"
   ]
  },
  {
   "cell_type": "code",
   "execution_count": null,
   "metadata": {},
   "outputs": [],
   "source": [
    "break"
   ]
  },
  {
   "cell_type": "code",
   "execution_count": null,
   "metadata": {},
   "outputs": [],
   "source": [
    "## rejection sampling"
   ]
  },
  {
   "cell_type": "code",
   "execution_count": null,
   "metadata": {},
   "outputs": [],
   "source": [
    "df.loc[(df.location_name==\"Niger\"),'location_id'] = 213"
   ]
  },
  {
   "cell_type": "code",
   "execution_count": null,
   "metadata": {},
   "outputs": [],
   "source": [
    "df.shape, df.drop_duplicates().shape"
   ]
  },
  {
   "cell_type": "code",
   "execution_count": null,
   "metadata": {},
   "outputs": [],
   "source": [
    "df = df.drop_duplicates()"
   ]
  },
  {
   "cell_type": "code",
   "execution_count": null,
   "metadata": {},
   "outputs": [],
   "source": [
    "all_inputted_data_path = '/ihme/homes/beatrixh/vivarium_research_lsff/data_prep/outputs/lsff_input_coverage_data.csv'"
   ]
  },
  {
   "cell_type": "code",
   "execution_count": null,
   "metadata": {},
   "outputs": [],
   "source": []
  },
  {
   "cell_type": "code",
   "execution_count": null,
   "metadata": {},
   "outputs": [],
   "source": [
    "df[final_cols + ['u5_applicable','wra_applicable']].to_csv(all_inputted_data_path)\n",
    "\n",
    "df[final_cols + ['u5_applicable','wra_applicable']].to_csv('/ihme/homes/beatrixh/repos/scratch/lsff_input_coverage_data.csv')"
   ]
  },
  {
   "cell_type": "code",
   "execution_count": null,
   "metadata": {},
   "outputs": [],
   "source": [
    "df.columns"
   ]
  },
  {
   "cell_type": "code",
   "execution_count": null,
   "metadata": {},
   "outputs": [],
   "source": [
    "df.loc[(df.location_name.isin(['Angola', 'China', 'Ghana', 'Niger', 'Egypt', 'Sudan', 'Madagascar']))][['location_name', 'sub_population', 'vehicle',\n",
    "       'value_description', 'nutrient', 'value_mean', 'value_025_percentile',\n",
    "       'value_975_percentile', \n",
    "       'estimation_status', 'source_citation', 'source_link', 'CI_source',]].to_csv('/ihme/homes/beatrixh/repos/scratch/tier5_3_31_2021.csv', index = False)"
   ]
  },
  {
   "cell_type": "code",
   "execution_count": null,
   "metadata": {},
   "outputs": [],
   "source": []
  },
  {
   "cell_type": "code",
   "execution_count": null,
   "metadata": {},
   "outputs": [],
   "source": []
  },
  {
   "cell_type": "code",
   "execution_count": null,
   "metadata": {},
   "outputs": [],
   "source": [
    "break"
   ]
  },
  {
   "cell_type": "code",
   "execution_count": null,
   "metadata": {},
   "outputs": [],
   "source": [
    "# df.loc[((df.estimation_status==\"regression\") | (df.value_mean.isna())) &\n",
    "#    (df.value_description==\"percent of population eating indusrially produced vehicle\") & \n",
    "#    (df.reg_A.notna()),'estimation_status'] = 'regression'\n",
    "\n",
    "# df.loc[((df.estimation_status==\"regression\") | (df.value_mean.isna())) &\n",
    "#    (df.value_description==\"percent of population eating vehicle\") & \n",
    "#    (df.reg_A.notna()),'value_mean'] = df.reg_A"
   ]
  },
  {
   "cell_type": "code",
   "execution_count": null,
   "metadata": {},
   "outputs": [],
   "source": [
    "break"
   ]
  },
  {
   "cell_type": "code",
   "execution_count": null,
   "metadata": {},
   "outputs": [],
   "source": [
    "# impute A\n",
    "ref = ref.merge(eats, on = ['location_name','vehicle'], how = 'outer')\n",
    "ref.loc[(ref.A.isna()),'A'] = ref.reg_A"
   ]
  },
  {
   "cell_type": "code",
   "execution_count": null,
   "metadata": {},
   "outputs": [],
   "source": [
    "df = ref.copy()"
   ]
  },
  {
   "cell_type": "code",
   "execution_count": null,
   "metadata": {},
   "outputs": [],
   "source": [
    "# merge on B and filter\n",
    "est = pd.concat([pd.read_csv(path) for path in paths_B])\n",
    "\n",
    "est = est.groupby(['location_name','vehicle']).mean().reset_index()\n",
    "\n",
    "df = df.merge(est, on = ['location_name','vehicle'], how = 'outer')\n",
    "\n",
    "draws = [f'draw_{i}' for i in range(500)]\n",
    "\n",
    "for draw in draws:\n",
    "    df.loc[(df.A < df[draw]) | \n",
    "                 (df.C > df[draw]),draw] = np.nan\n",
    "\n",
    "df['reg_B'] = df[draws].mean(axis=1)\n",
    "df = df.drop(columns = draws)\n",
    "\n",
    "# these are rows you still dont have estimates for\n",
    "# df[(df.B.isna()) & (df.reg_B.isna())]\n",
    "\n",
    "df.loc[(df.B.isna()) | (df.B_estimation_status=='regression'),'B'] = df.reg_B"
   ]
  },
  {
   "cell_type": "code",
   "execution_count": null,
   "metadata": {},
   "outputs": [],
   "source": [
    "df[(df.A < df.B) | (df.B < df.C)]"
   ]
  },
  {
   "cell_type": "code",
   "execution_count": null,
   "metadata": {},
   "outputs": [],
   "source": [
    "df[(df.B < df.C) & (df.C_estimation_status==\"regression\")]"
   ]
  },
  {
   "cell_type": "code",
   "execution_count": null,
   "metadata": {},
   "outputs": [],
   "source": [
    "# merge on C and filter\n",
    "est = pd.concat([pd.read_csv(path) for path in paths_C])\n",
    "\n",
    "est = est.groupby(['location_name','vehicle']).mean().reset_index()\n",
    "\n",
    "df = df.merge(est, on = ['location_name','vehicle'], how = 'outer')\n",
    "\n",
    "draws = [f'draw_{i}' for i in range(500)]\n",
    "\n",
    "for draw in draws:\n",
    "    df.loc[(df.A < df[draw]) | \n",
    "                 (df.B < df[draw]),draw] = np.nan\n",
    "\n",
    "df['reg_C'] = df[draws].mean(axis=1)\n",
    "df = df.drop(columns = draws)\n",
    "\n",
    "# these are rows you still dont have estimates for\n",
    "# df[(df.B.isna()) & (df.reg_B.isna())]\n",
    "\n",
    "df.loc[(df.C.isna()) | (df.C_estimation_status=='regression'),'C'] = df.reg_C"
   ]
  },
  {
   "cell_type": "code",
   "execution_count": null,
   "metadata": {},
   "outputs": [],
   "source": [
    "df[(df.B < df.C) & (df.C_estimation_status==\"regression\")]"
   ]
  },
  {
   "cell_type": "code",
   "execution_count": null,
   "metadata": {},
   "outputs": [],
   "source": [
    "df[(df.A < df.B) | (df.B < df.C)].shape"
   ]
  },
  {
   "cell_type": "code",
   "execution_count": null,
   "metadata": {},
   "outputs": [],
   "source": [
    "ref[(ref.A < ref.B) | (ref.B < ref.C)].shape"
   ]
  },
  {
   "cell_type": "code",
   "execution_count": null,
   "metadata": {},
   "outputs": [],
   "source": [
    "df[(df.A < df.B)]"
   ]
  },
  {
   "cell_type": "code",
   "execution_count": null,
   "metadata": {},
   "outputs": [],
   "source": [
    "df[(df.B < df.C)]"
   ]
  },
  {
   "cell_type": "code",
   "execution_count": null,
   "metadata": {},
   "outputs": [],
   "source": [
    "df[(df.A.isna() | df.B.isna() | df.C.isna())]"
   ]
  },
  {
   "cell_type": "code",
   "execution_count": null,
   "metadata": {},
   "outputs": [],
   "source": [
    "df"
   ]
  },
  {
   "cell_type": "code",
   "execution_count": null,
   "metadata": {},
   "outputs": [],
   "source": [
    "temp_a = df[['location_name','vehicle','nutrient','A']].rename(columns = {'A':'value_mean_est'}).drop_duplicates()\n",
    "temp_a['value_description'] = \"percent of the population eating vehicle\"\n",
    "\n",
    "temp_b = df[['location_name','vehicle','nutrient','B']].rename(columns = {'B':'value_mean_est'}).drop_duplicates()\n",
    "temp_b['value_description'] = \"percent of the population eating industrially produced vehicle\"\n",
    "\n",
    "temp_c = df[['location_name','vehicle','nutrient','C']].rename(columns = {'C':'value_mean_est'}).drop_duplicates()\n",
    "temp_c['value_description'] = \"percent of the population eating fortified vehicle\""
   ]
  },
  {
   "cell_type": "code",
   "execution_count": null,
   "metadata": {},
   "outputs": [],
   "source": [
    "imputed = pd.concat([temp_a,temp_b,temp_c])"
   ]
  },
  {
   "cell_type": "code",
   "execution_count": null,
   "metadata": {},
   "outputs": [],
   "source": [
    "imputed.head()"
   ]
  },
  {
   "cell_type": "code",
   "execution_count": null,
   "metadata": {},
   "outputs": [],
   "source": [
    "original = pd.read_csv(w_metadata_path)"
   ]
  },
  {
   "cell_type": "code",
   "execution_count": null,
   "metadata": {},
   "outputs": [],
   "source": [
    "test = original.merge(imputed, on = ['location_name','vehicle','value_description','nutrient'], how = 'outer')"
   ]
  },
  {
   "cell_type": "code",
   "execution_count": null,
   "metadata": {},
   "outputs": [],
   "source": [
    "test.loc[((test.value_mean.isna()) | (test.estimation_status==\"regression\")) & (test.value_mean_est.notna())][['location_name','vehicle','value_description','nutrient','value_mean_est']]"
   ]
  },
  {
   "cell_type": "code",
   "execution_count": null,
   "metadata": {},
   "outputs": [],
   "source": [
    "imputed.shape, original.shape"
   ]
  },
  {
   "cell_type": "code",
   "execution_count": null,
   "metadata": {},
   "outputs": [],
   "source": [
    "original.location_name.nunique()"
   ]
  },
  {
   "cell_type": "code",
   "execution_count": null,
   "metadata": {},
   "outputs": [],
   "source": [
    "imputed.location_name.nunique()"
   ]
  },
  {
   "cell_type": "code",
   "execution_count": null,
   "metadata": {},
   "outputs": [],
   "source": [
    "imputed"
   ]
  },
  {
   "cell_type": "code",
   "execution_count": null,
   "metadata": {},
   "outputs": [],
   "source": [
    "imputed['ac'] = imputed.groupby(['location_name','vehicle','value_description','nutrient']).transform('count').value_mean_est"
   ]
  },
  {
   "cell_type": "code",
   "execution_count": null,
   "metadata": {},
   "outputs": [],
   "source": [
    "imputed[(imputed.ac > 1)]"
   ]
  },
  {
   "cell_type": "code",
   "execution_count": null,
   "metadata": {},
   "outputs": [],
   "source": [
    "imputed[(imputed.ac > 1)].drop_duplicates()"
   ]
  },
  {
   "cell_type": "code",
   "execution_count": null,
   "metadata": {},
   "outputs": [],
   "source": [
    "test[test.value_mean_est > 1]"
   ]
  },
  {
   "cell_type": "code",
   "execution_count": null,
   "metadata": {},
   "outputs": [],
   "source": [
    "test.value_mean_est.min(), test.value_mean_est.max()"
   ]
  },
  {
   "cell_type": "code",
   "execution_count": null,
   "metadata": {},
   "outputs": [],
   "source": []
  }
 ],
 "metadata": {
  "kernelspec": {
   "display_name": "Python 3",
   "language": "python",
   "name": "python3"
  },
  "language_info": {
   "codemirror_mode": {
    "name": "ipython",
    "version": 3
   },
   "file_extension": ".py",
   "mimetype": "text/x-python",
   "name": "python",
   "nbconvert_exporter": "python",
   "pygments_lexer": "ipython3",
   "version": "3.6.11"
  }
 },
 "nbformat": 4,
 "nbformat_minor": 4
}
