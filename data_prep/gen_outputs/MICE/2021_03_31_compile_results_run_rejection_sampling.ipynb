{
 "cells": [
  {
   "cell_type": "code",
   "execution_count": 1,
   "metadata": {},
   "outputs": [],
   "source": [
    "import pandas as pd, numpy as np"
   ]
  },
  {
   "cell_type": "markdown",
   "metadata": {},
   "source": [
    "# Compile regression estimates / examine for logical consistency"
   ]
  },
  {
   "cell_type": "code",
   "execution_count": 2,
   "metadata": {},
   "outputs": [],
   "source": [
    "w_metadata_path = '/ihme/homes/beatrixh/vivarium_research_lsff/data_prep/outputs/lsff_input_coverage_data_with_metadata.csv'\n"
   ]
  },
  {
   "cell_type": "code",
   "execution_count": 3,
   "metadata": {},
   "outputs": [],
   "source": [
    "w_metadata_path = '/ihme/homes/beatrixh/vivarium_research_lsff/data_prep/outputs/lsff_input_coverage_data_with_metadata.csv'\n",
    "df = pd.read_csv(w_metadata_path)"
   ]
  },
  {
   "cell_type": "code",
   "execution_count": 4,
   "metadata": {},
   "outputs": [
    {
     "data": {
      "text/plain": [
       "array(['regression', 'na', 'multiplicative', 'lack of evidence'],\n",
       "      dtype=object)"
      ]
     },
     "execution_count": 4,
     "metadata": {},
     "output_type": "execute_result"
    }
   ],
   "source": [
    "df.estimation_status.unique()"
   ]
  },
  {
   "cell_type": "code",
   "execution_count": 5,
   "metadata": {},
   "outputs": [],
   "source": [
    "A = df[(df.value_description==\"percent of population eating vehicle\")].rename(columns={'value_mean':\"A\",'estimation_status':'A_estimation_status'})\n",
    "B = df[(df.value_description==\"percent of population eating industrially produced vehicle\")].rename(columns={'value_mean':\"B\",'estimation_status':'B_estimation_status'})\n",
    "C = df[(df.value_description==\"percent of population eating fortified vehicle\")].rename(columns={'value_mean':\"C\",'estimation_status':'C_estimation_status'})\n",
    "\n",
    "A = A.drop(columns=['value_description','nutrient'])\n",
    "B = B.drop(columns=['value_description','nutrient'])\n",
    "C = C.drop(columns=['value_description'])\n",
    "\n",
    "ref = A.merge(B, on = ['location_id','location_name','vehicle'], how = 'left').merge(C, on = ['location_id','location_name','vehicle'], how = 'outer')[['location_name','vehicle','nutrient','A','A_estimation_status','B','B_estimation_status','C','C_estimation_status']]\n"
   ]
  },
  {
   "cell_type": "code",
   "execution_count": 6,
   "metadata": {},
   "outputs": [
    {
     "data": {
      "text/html": [
       "<div>\n",
       "<style scoped>\n",
       "    .dataframe tbody tr th:only-of-type {\n",
       "        vertical-align: middle;\n",
       "    }\n",
       "\n",
       "    .dataframe tbody tr th {\n",
       "        vertical-align: top;\n",
       "    }\n",
       "\n",
       "    .dataframe thead th {\n",
       "        text-align: right;\n",
       "    }\n",
       "</style>\n",
       "<table border=\"1\" class=\"dataframe\">\n",
       "  <thead>\n",
       "    <tr style=\"text-align: right;\">\n",
       "      <th></th>\n",
       "      <th>location_name</th>\n",
       "      <th>vehicle</th>\n",
       "      <th>nutrient</th>\n",
       "      <th>A</th>\n",
       "      <th>A_estimation_status</th>\n",
       "      <th>B</th>\n",
       "      <th>B_estimation_status</th>\n",
       "      <th>C</th>\n",
       "      <th>C_estimation_status</th>\n",
       "    </tr>\n",
       "  </thead>\n",
       "  <tbody>\n",
       "    <tr>\n",
       "      <th>0</th>\n",
       "      <td>Ethiopia</td>\n",
       "      <td>maize flour</td>\n",
       "      <td>folic acid</td>\n",
       "      <td>59.259825</td>\n",
       "      <td>regression</td>\n",
       "      <td>27.169813</td>\n",
       "      <td>regression</td>\n",
       "      <td>0.000000</td>\n",
       "      <td>regression</td>\n",
       "    </tr>\n",
       "    <tr>\n",
       "      <th>1</th>\n",
       "      <td>Ethiopia</td>\n",
       "      <td>maize flour</td>\n",
       "      <td>iron</td>\n",
       "      <td>59.259825</td>\n",
       "      <td>regression</td>\n",
       "      <td>27.169813</td>\n",
       "      <td>regression</td>\n",
       "      <td>0.000000</td>\n",
       "      <td>regression</td>\n",
       "    </tr>\n",
       "    <tr>\n",
       "      <th>2</th>\n",
       "      <td>Ethiopia</td>\n",
       "      <td>maize flour</td>\n",
       "      <td>vitamin a</td>\n",
       "      <td>59.259825</td>\n",
       "      <td>regression</td>\n",
       "      <td>27.169813</td>\n",
       "      <td>regression</td>\n",
       "      <td>0.000000</td>\n",
       "      <td>regression</td>\n",
       "    </tr>\n",
       "    <tr>\n",
       "      <th>3</th>\n",
       "      <td>Ethiopia</td>\n",
       "      <td>maize flour</td>\n",
       "      <td>zinc</td>\n",
       "      <td>59.259825</td>\n",
       "      <td>regression</td>\n",
       "      <td>27.169813</td>\n",
       "      <td>regression</td>\n",
       "      <td>0.000000</td>\n",
       "      <td>regression</td>\n",
       "    </tr>\n",
       "    <tr>\n",
       "      <th>4</th>\n",
       "      <td>Ethiopia</td>\n",
       "      <td>oil</td>\n",
       "      <td>vitamin a</td>\n",
       "      <td>29.350000</td>\n",
       "      <td>regression</td>\n",
       "      <td>70.000000</td>\n",
       "      <td>na</td>\n",
       "      <td>0.000000</td>\n",
       "      <td>regression</td>\n",
       "    </tr>\n",
       "    <tr>\n",
       "      <th>...</th>\n",
       "      <td>...</td>\n",
       "      <td>...</td>\n",
       "      <td>...</td>\n",
       "      <td>...</td>\n",
       "      <td>...</td>\n",
       "      <td>...</td>\n",
       "      <td>...</td>\n",
       "      <td>...</td>\n",
       "      <td>...</td>\n",
       "    </tr>\n",
       "    <tr>\n",
       "      <th>220</th>\n",
       "      <td>Sudan</td>\n",
       "      <td>oil</td>\n",
       "      <td>vitamin a</td>\n",
       "      <td>50.646725</td>\n",
       "      <td>regression</td>\n",
       "      <td>80.000000</td>\n",
       "      <td>na</td>\n",
       "      <td>80.000000</td>\n",
       "      <td>na</td>\n",
       "    </tr>\n",
       "    <tr>\n",
       "      <th>221</th>\n",
       "      <td>Sudan</td>\n",
       "      <td>wheat flour</td>\n",
       "      <td>folic acid</td>\n",
       "      <td>88.758036</td>\n",
       "      <td>regression</td>\n",
       "      <td>35.365713</td>\n",
       "      <td>regression</td>\n",
       "      <td>1.760469</td>\n",
       "      <td>regression</td>\n",
       "    </tr>\n",
       "    <tr>\n",
       "      <th>222</th>\n",
       "      <td>Sudan</td>\n",
       "      <td>wheat flour</td>\n",
       "      <td>iron</td>\n",
       "      <td>88.758036</td>\n",
       "      <td>regression</td>\n",
       "      <td>35.365713</td>\n",
       "      <td>regression</td>\n",
       "      <td>1.760469</td>\n",
       "      <td>regression</td>\n",
       "    </tr>\n",
       "    <tr>\n",
       "      <th>223</th>\n",
       "      <td>Sudan</td>\n",
       "      <td>wheat flour</td>\n",
       "      <td>vitamin a</td>\n",
       "      <td>88.758036</td>\n",
       "      <td>regression</td>\n",
       "      <td>35.365713</td>\n",
       "      <td>regression</td>\n",
       "      <td>1.760469</td>\n",
       "      <td>regression</td>\n",
       "    </tr>\n",
       "    <tr>\n",
       "      <th>224</th>\n",
       "      <td>Sudan</td>\n",
       "      <td>wheat flour</td>\n",
       "      <td>zinc</td>\n",
       "      <td>88.758036</td>\n",
       "      <td>regression</td>\n",
       "      <td>35.365713</td>\n",
       "      <td>regression</td>\n",
       "      <td>1.760469</td>\n",
       "      <td>regression</td>\n",
       "    </tr>\n",
       "  </tbody>\n",
       "</table>\n",
       "<p>225 rows × 9 columns</p>\n",
       "</div>"
      ],
      "text/plain": [
       "    location_name      vehicle    nutrient          A A_estimation_status  \\\n",
       "0        Ethiopia  maize flour  folic acid  59.259825          regression   \n",
       "1        Ethiopia  maize flour        iron  59.259825          regression   \n",
       "2        Ethiopia  maize flour   vitamin a  59.259825          regression   \n",
       "3        Ethiopia  maize flour        zinc  59.259825          regression   \n",
       "4        Ethiopia          oil   vitamin a  29.350000          regression   \n",
       "..            ...          ...         ...        ...                 ...   \n",
       "220         Sudan          oil   vitamin a  50.646725          regression   \n",
       "221         Sudan  wheat flour  folic acid  88.758036          regression   \n",
       "222         Sudan  wheat flour        iron  88.758036          regression   \n",
       "223         Sudan  wheat flour   vitamin a  88.758036          regression   \n",
       "224         Sudan  wheat flour        zinc  88.758036          regression   \n",
       "\n",
       "             B B_estimation_status          C C_estimation_status  \n",
       "0    27.169813          regression   0.000000          regression  \n",
       "1    27.169813          regression   0.000000          regression  \n",
       "2    27.169813          regression   0.000000          regression  \n",
       "3    27.169813          regression   0.000000          regression  \n",
       "4    70.000000                  na   0.000000          regression  \n",
       "..         ...                 ...        ...                 ...  \n",
       "220  80.000000                  na  80.000000                  na  \n",
       "221  35.365713          regression   1.760469          regression  \n",
       "222  35.365713          regression   1.760469          regression  \n",
       "223  35.365713          regression   1.760469          regression  \n",
       "224  35.365713          regression   1.760469          regression  \n",
       "\n",
       "[225 rows x 9 columns]"
      ]
     },
     "execution_count": 6,
     "metadata": {},
     "output_type": "execute_result"
    }
   ],
   "source": [
    "ref"
   ]
  },
  {
   "cell_type": "code",
   "execution_count": 7,
   "metadata": {},
   "outputs": [
    {
     "data": {
      "text/html": [
       "<div>\n",
       "<style scoped>\n",
       "    .dataframe tbody tr th:only-of-type {\n",
       "        vertical-align: middle;\n",
       "    }\n",
       "\n",
       "    .dataframe tbody tr th {\n",
       "        vertical-align: top;\n",
       "    }\n",
       "\n",
       "    .dataframe thead th {\n",
       "        text-align: right;\n",
       "    }\n",
       "</style>\n",
       "<table border=\"1\" class=\"dataframe\">\n",
       "  <thead>\n",
       "    <tr style=\"text-align: right;\">\n",
       "      <th></th>\n",
       "      <th>location_name</th>\n",
       "      <th>vehicle</th>\n",
       "      <th>nutrient</th>\n",
       "      <th>A</th>\n",
       "      <th>A_estimation_status</th>\n",
       "      <th>B</th>\n",
       "      <th>B_estimation_status</th>\n",
       "      <th>C</th>\n",
       "      <th>C_estimation_status</th>\n",
       "    </tr>\n",
       "  </thead>\n",
       "  <tbody>\n",
       "    <tr>\n",
       "      <th>4</th>\n",
       "      <td>Ethiopia</td>\n",
       "      <td>oil</td>\n",
       "      <td>vitamin a</td>\n",
       "      <td>29.350000</td>\n",
       "      <td>regression</td>\n",
       "      <td>70.000000</td>\n",
       "      <td>na</td>\n",
       "      <td>0.00000</td>\n",
       "      <td>regression</td>\n",
       "    </tr>\n",
       "    <tr>\n",
       "      <th>5</th>\n",
       "      <td>Ethiopia</td>\n",
       "      <td>oil</td>\n",
       "      <td>vitamin a</td>\n",
       "      <td>29.350000</td>\n",
       "      <td>regression</td>\n",
       "      <td>50.000000</td>\n",
       "      <td>na</td>\n",
       "      <td>0.00000</td>\n",
       "      <td>regression</td>\n",
       "    </tr>\n",
       "    <tr>\n",
       "      <th>73</th>\n",
       "      <td>Burkina Faso</td>\n",
       "      <td>oil</td>\n",
       "      <td>vitamin a</td>\n",
       "      <td>92.230000</td>\n",
       "      <td>na</td>\n",
       "      <td>51.975594</td>\n",
       "      <td>multiplicative</td>\n",
       "      <td>75.00000</td>\n",
       "      <td>na</td>\n",
       "    </tr>\n",
       "    <tr>\n",
       "      <th>74</th>\n",
       "      <td>Burkina Faso</td>\n",
       "      <td>wheat flour</td>\n",
       "      <td>folic acid</td>\n",
       "      <td>48.000000</td>\n",
       "      <td>na</td>\n",
       "      <td>52.300000</td>\n",
       "      <td>multiplicative</td>\n",
       "      <td>32.16450</td>\n",
       "      <td>multiplicative</td>\n",
       "    </tr>\n",
       "    <tr>\n",
       "      <th>75</th>\n",
       "      <td>Burkina Faso</td>\n",
       "      <td>wheat flour</td>\n",
       "      <td>iron</td>\n",
       "      <td>48.000000</td>\n",
       "      <td>na</td>\n",
       "      <td>52.300000</td>\n",
       "      <td>multiplicative</td>\n",
       "      <td>17.38975</td>\n",
       "      <td>multiplicative</td>\n",
       "    </tr>\n",
       "    <tr>\n",
       "      <th>...</th>\n",
       "      <td>...</td>\n",
       "      <td>...</td>\n",
       "      <td>...</td>\n",
       "      <td>...</td>\n",
       "      <td>...</td>\n",
       "      <td>...</td>\n",
       "      <td>...</td>\n",
       "      <td>...</td>\n",
       "      <td>...</td>\n",
       "    </tr>\n",
       "    <tr>\n",
       "      <th>212</th>\n",
       "      <td>Niger</td>\n",
       "      <td>wheat flour</td>\n",
       "      <td>folic acid</td>\n",
       "      <td>41.464396</td>\n",
       "      <td>regression</td>\n",
       "      <td>44.595706</td>\n",
       "      <td>regression</td>\n",
       "      <td>30.00000</td>\n",
       "      <td>na</td>\n",
       "    </tr>\n",
       "    <tr>\n",
       "      <th>213</th>\n",
       "      <td>Niger</td>\n",
       "      <td>wheat flour</td>\n",
       "      <td>iron</td>\n",
       "      <td>41.464396</td>\n",
       "      <td>regression</td>\n",
       "      <td>44.595706</td>\n",
       "      <td>regression</td>\n",
       "      <td>30.00000</td>\n",
       "      <td>na</td>\n",
       "    </tr>\n",
       "    <tr>\n",
       "      <th>214</th>\n",
       "      <td>Niger</td>\n",
       "      <td>wheat flour</td>\n",
       "      <td>vitamin a</td>\n",
       "      <td>41.464396</td>\n",
       "      <td>regression</td>\n",
       "      <td>44.595706</td>\n",
       "      <td>regression</td>\n",
       "      <td>30.00000</td>\n",
       "      <td>regression</td>\n",
       "    </tr>\n",
       "    <tr>\n",
       "      <th>215</th>\n",
       "      <td>Niger</td>\n",
       "      <td>wheat flour</td>\n",
       "      <td>zinc</td>\n",
       "      <td>41.464396</td>\n",
       "      <td>regression</td>\n",
       "      <td>44.595706</td>\n",
       "      <td>regression</td>\n",
       "      <td>30.00000</td>\n",
       "      <td>regression</td>\n",
       "    </tr>\n",
       "    <tr>\n",
       "      <th>220</th>\n",
       "      <td>Sudan</td>\n",
       "      <td>oil</td>\n",
       "      <td>vitamin a</td>\n",
       "      <td>50.646725</td>\n",
       "      <td>regression</td>\n",
       "      <td>80.000000</td>\n",
       "      <td>na</td>\n",
       "      <td>80.00000</td>\n",
       "      <td>na</td>\n",
       "    </tr>\n",
       "  </tbody>\n",
       "</table>\n",
       "<p>64 rows × 9 columns</p>\n",
       "</div>"
      ],
      "text/plain": [
       "    location_name      vehicle    nutrient          A A_estimation_status  \\\n",
       "4        Ethiopia          oil   vitamin a  29.350000          regression   \n",
       "5        Ethiopia          oil   vitamin a  29.350000          regression   \n",
       "73   Burkina Faso          oil   vitamin a  92.230000                  na   \n",
       "74   Burkina Faso  wheat flour  folic acid  48.000000                  na   \n",
       "75   Burkina Faso  wheat flour        iron  48.000000                  na   \n",
       "..            ...          ...         ...        ...                 ...   \n",
       "212         Niger  wheat flour  folic acid  41.464396          regression   \n",
       "213         Niger  wheat flour        iron  41.464396          regression   \n",
       "214         Niger  wheat flour   vitamin a  41.464396          regression   \n",
       "215         Niger  wheat flour        zinc  41.464396          regression   \n",
       "220         Sudan          oil   vitamin a  50.646725          regression   \n",
       "\n",
       "             B B_estimation_status         C C_estimation_status  \n",
       "4    70.000000                  na   0.00000          regression  \n",
       "5    50.000000                  na   0.00000          regression  \n",
       "73   51.975594      multiplicative  75.00000                  na  \n",
       "74   52.300000      multiplicative  32.16450      multiplicative  \n",
       "75   52.300000      multiplicative  17.38975      multiplicative  \n",
       "..         ...                 ...       ...                 ...  \n",
       "212  44.595706          regression  30.00000                  na  \n",
       "213  44.595706          regression  30.00000                  na  \n",
       "214  44.595706          regression  30.00000          regression  \n",
       "215  44.595706          regression  30.00000          regression  \n",
       "220  80.000000                  na  80.00000                  na  \n",
       "\n",
       "[64 rows x 9 columns]"
      ]
     },
     "execution_count": 7,
     "metadata": {},
     "output_type": "execute_result"
    }
   ],
   "source": [
    "ref[(ref.A < ref.B) | (ref.B < ref.C)]"
   ]
  },
  {
   "cell_type": "code",
   "execution_count": 8,
   "metadata": {},
   "outputs": [
    {
     "data": {
      "text/plain": [
       "25"
      ]
     },
     "execution_count": 8,
     "metadata": {},
     "output_type": "execute_result"
    }
   ],
   "source": [
    "ref.location_name.nunique()"
   ]
  },
  {
   "cell_type": "code",
   "execution_count": 9,
   "metadata": {},
   "outputs": [],
   "source": [
    "oil_est_path = '/ihme/homes/beatrixh/vivarium_research_lsff/data_prep/outputs/pct_eating_oil_regression_estimates_3_23_2021.csv'\n",
    "wheat_est_path = '/ihme/homes/beatrixh/vivarium_research_lsff/data_prep/outputs/pct_eating_wheat_regression_estimates_3_22_2021.csv'\n",
    "maize_est_path = '/ihme/homes/beatrixh/vivarium_research_lsff/data_prep/outputs/pct_eating_maize_regression_estimates_3_22_2021.csv'\n",
    "\n",
    "ip_wheat_path =  '/ihme/homes/beatrixh/vivarium_research_lsff/data_prep/outputs/pct_eating_fortifiable_wheat_regression_estimates_3_31_2021.csv'\n",
    "ip_oil_path = '/ihme/homes/beatrixh/vivarium_research_lsff/data_prep/outputs/pct_eating_fortifiable_oil_regression_estimates_3_31_2021.csv'\n",
    "ip_maize_path = '/ihme/homes/beatrixh/vivarium_research_lsff/data_prep/outputs/pct_eating_fortifiable_maize_regression_estimates_3_31_2021.csv'\n",
    "\n",
    "fort_wheat_path = '/ihme/homes/beatrixh/vivarium_research_lsff/data_prep/outputs/pct_eating_fortified_wheat_regression_estimates_3_31_2021.csv'\n",
    "fort_maize_path = '/ihme/homes/beatrixh/vivarium_research_lsff/data_prep/outputs/pct_eating_fortified_maize_regression_estimates_3_31_2021.csv'\n",
    "fort_oil_path = '/ihme/homes/beatrixh/vivarium_research_lsff/data_prep/outputs/pct_eating_fortified_oil_regression_estimates_3_31_2021.csv'"
   ]
  },
  {
   "cell_type": "code",
   "execution_count": 10,
   "metadata": {},
   "outputs": [],
   "source": [
    "paths_A = [oil_est_path,wheat_est_path,maize_est_path]\n",
    "paths_B = [ip_wheat_path,ip_oil_path,ip_maize_path]\n",
    "paths_C = [fort_wheat_path, fort_maize_path, fort_oil_path]\n",
    "\n",
    "def format_data(paths, var, n):\n",
    "    draws = [f'draw_{i}' for i in range(n)]\n",
    "    df = pd.concat([pd.read_csv(path) for path in paths])\n",
    "    df[var] = df[draws].mean(axis=1)\n",
    "    df = df.drop(columns=draws)\n",
    "    \n",
    "    return df.groupby(['location_name','vehicle']).mean().reset_index()"
   ]
  },
  {
   "cell_type": "code",
   "execution_count": 11,
   "metadata": {},
   "outputs": [],
   "source": [
    "scale_over_mean_map = {\n",
    "    \"maize flour\":0.578996, \n",
    "    \"oil\":0.069702,\n",
    "    \"wheat flour\":0.507994\n",
    "}"
   ]
  },
  {
   "cell_type": "code",
   "execution_count": 12,
   "metadata": {},
   "outputs": [],
   "source": [
    "df['scale_over_mean'] = 2 * df.vehicle.map(scale_over_mean_map)"
   ]
  },
  {
   "cell_type": "code",
   "execution_count": 13,
   "metadata": {},
   "outputs": [],
   "source": [
    "eats = format_data(paths_A, 'reg_A', n = 1_000)\n",
    "ip = format_data(paths_B, 'reg_B', n = 500)\n",
    "fort = format_data(paths_C, 'reg_C',n = 500)"
   ]
  },
  {
   "cell_type": "code",
   "execution_count": 14,
   "metadata": {},
   "outputs": [],
   "source": [
    "df = df.merge(eats, on = ['location_name','vehicle'], how = 'outer')"
   ]
  },
  {
   "cell_type": "code",
   "execution_count": 15,
   "metadata": {},
   "outputs": [],
   "source": [
    "df['updated'] = False"
   ]
  },
  {
   "cell_type": "code",
   "execution_count": 16,
   "metadata": {},
   "outputs": [],
   "source": [
    "df.loc[((df.estimation_status==\"regression\") | (df.value_mean.isna())) &\n",
    "   (df.value_description==\"percent of population eating vehicle\") & \n",
    "   (df.reg_A.notna()),'updated'] = True\n",
    "\n",
    "df.loc[((df.estimation_status==\"regression\") | (df.value_mean.isna())) &\n",
    "   (df.value_description==\"percent of population eating vehicle\") & \n",
    "   (df.reg_A.notna()),'estimation_status'] = 'regression'\n",
    "\n",
    "df.loc[((df.estimation_status==\"regression\") | (df.value_mean.isna())) &\n",
    "   (df.value_description==\"percent of population eating vehicle\") & \n",
    "   (df.reg_A.notna()),'value_mean'] = df.reg_A"
   ]
  },
  {
   "cell_type": "code",
   "execution_count": 17,
   "metadata": {},
   "outputs": [],
   "source": [
    "df = df.merge(ip, on = ['location_name','vehicle'], how = 'outer')"
   ]
  },
  {
   "cell_type": "code",
   "execution_count": 18,
   "metadata": {
    "scrolled": false
   },
   "outputs": [],
   "source": [
    "df.loc[((df.estimation_status==\"regression\") | (df.value_mean.isna())) &\n",
    "   (df.value_description==\"percent of population eating industrially produced vehicle\") & \n",
    "   (df.reg_A.notna()),'updated'] = True\n",
    "\n",
    "df.loc[((df.estimation_status==\"regression\") | (df.value_mean.isna())) &\n",
    "   (df.value_description==\"percent of population eating industrially produced vehicle\") & \n",
    "   (df.reg_B.notna()),'estimation_status'] = 'regression'\n",
    "\n",
    "df.loc[((df.estimation_status==\"regression\") | (df.value_mean.isna())) &\n",
    "   (df.value_description==\"percent of population eating industrially produced vehicle\") & \n",
    "   (df.reg_B.notna()),'value_mean'] = df.reg_B"
   ]
  },
  {
   "cell_type": "code",
   "execution_count": 19,
   "metadata": {},
   "outputs": [],
   "source": [
    "df = df.merge(fort, on = ['location_name','vehicle'], how = 'outer')"
   ]
  },
  {
   "cell_type": "code",
   "execution_count": 20,
   "metadata": {},
   "outputs": [],
   "source": [
    "df.loc[((df.estimation_status==\"regression\") | (df.value_mean.isna())) &\n",
    "   (df.value_description==\"percent of population eating fortified vehicle\") & \n",
    "   (df.reg_A.notna()),'updated'] = True\n",
    "\n",
    "df.loc[((df.estimation_status==\"regression\") | (df.value_mean.isna())) &\n",
    "   (df.value_description==\"percent of population eating fortified vehicle\") & \n",
    "   (df.reg_B.notna()),'estimation_status'] = 'regression'\n",
    "\n",
    "df.loc[((df.estimation_status==\"regression\") | (df.value_mean.isna())) &\n",
    "   (df.value_description==\"percent of population eating fortified vehicle\") & \n",
    "   (df.reg_B.notna()),'value_mean'] = df.reg_C"
   ]
  },
  {
   "cell_type": "code",
   "execution_count": 21,
   "metadata": {},
   "outputs": [
    {
     "data": {
      "text/plain": [
       "array(['regression'], dtype=object)"
      ]
     },
     "execution_count": 21,
     "metadata": {},
     "output_type": "execute_result"
    }
   ],
   "source": [
    "df[(df.updated)].estimation_status.unique()"
   ]
  },
  {
   "cell_type": "code",
   "execution_count": 22,
   "metadata": {},
   "outputs": [],
   "source": [
    "df['lower'] = np.clip(df.value_mean - (df.scale_over_mean * df.value_mean)/2, 0, 100)\n",
    "df['upper'] = np.clip(df.value_mean + (df.scale_over_mean * df.value_mean)/2, 0, 100)"
   ]
  },
  {
   "cell_type": "code",
   "execution_count": 23,
   "metadata": {},
   "outputs": [],
   "source": [
    "df.loc[(df.updated),'value_025_percentile'] = df.lower\n",
    "df.loc[(df.updated),'value_975_percentile'] = df.upper"
   ]
  },
  {
   "cell_type": "code",
   "execution_count": 28,
   "metadata": {},
   "outputs": [],
   "source": [
    "A = df[(df.value_description==\"percent of population eating vehicle\")].rename(columns={'value_mean':\"A\",'estimation_status':'A_estimation_status'})\n",
    "B = df[(df.value_description==\"percent of population eating industrially produced vehicle\")].rename(columns={'value_mean':\"B\",'estimation_status':'B_estimation_status'})\n",
    "C = df[(df.value_description==\"percent of population eating fortified vehicle\")].rename(columns={'value_mean':\"C\",'estimation_status':'C_estimation_status'})\n",
    "\n",
    "A = A.drop(columns=['value_description','nutrient'])\n",
    "B = B.drop(columns=['value_description','nutrient'])\n",
    "C = C.drop(columns=['value_description'])\n",
    "\n",
    "ref = A.merge(B, on = ['location_id','location_name','vehicle'], how = 'left').merge(C, on = ['location_id','location_name','vehicle'], how = 'outer')[['location_name','vehicle','nutrient','A','A_estimation_status','B','B_estimation_status','C','C_estimation_status']]\n"
   ]
  },
  {
   "cell_type": "code",
   "execution_count": 29,
   "metadata": {},
   "outputs": [
    {
     "data": {
      "text/html": [
       "<div>\n",
       "<style scoped>\n",
       "    .dataframe tbody tr th:only-of-type {\n",
       "        vertical-align: middle;\n",
       "    }\n",
       "\n",
       "    .dataframe tbody tr th {\n",
       "        vertical-align: top;\n",
       "    }\n",
       "\n",
       "    .dataframe thead th {\n",
       "        text-align: right;\n",
       "    }\n",
       "</style>\n",
       "<table border=\"1\" class=\"dataframe\">\n",
       "  <thead>\n",
       "    <tr style=\"text-align: right;\">\n",
       "      <th></th>\n",
       "      <th>location_name</th>\n",
       "      <th>vehicle</th>\n",
       "      <th>nutrient</th>\n",
       "      <th>A</th>\n",
       "      <th>A_estimation_status</th>\n",
       "      <th>B</th>\n",
       "      <th>B_estimation_status</th>\n",
       "      <th>C</th>\n",
       "      <th>C_estimation_status</th>\n",
       "    </tr>\n",
       "  </thead>\n",
       "  <tbody>\n",
       "    <tr>\n",
       "      <th>4</th>\n",
       "      <td>Ethiopia</td>\n",
       "      <td>oil</td>\n",
       "      <td>vitamin a</td>\n",
       "      <td>29.350000</td>\n",
       "      <td>regression</td>\n",
       "      <td>70.000000</td>\n",
       "      <td>na</td>\n",
       "      <td>0.000000</td>\n",
       "      <td>regression</td>\n",
       "    </tr>\n",
       "    <tr>\n",
       "      <th>5</th>\n",
       "      <td>Ethiopia</td>\n",
       "      <td>oil</td>\n",
       "      <td>vitamin a</td>\n",
       "      <td>29.350000</td>\n",
       "      <td>regression</td>\n",
       "      <td>50.000000</td>\n",
       "      <td>na</td>\n",
       "      <td>0.000000</td>\n",
       "      <td>regression</td>\n",
       "    </tr>\n",
       "    <tr>\n",
       "      <th>73</th>\n",
       "      <td>Burkina Faso</td>\n",
       "      <td>oil</td>\n",
       "      <td>vitamin a</td>\n",
       "      <td>92.230000</td>\n",
       "      <td>na</td>\n",
       "      <td>51.975594</td>\n",
       "      <td>multiplicative</td>\n",
       "      <td>75.000000</td>\n",
       "      <td>na</td>\n",
       "    </tr>\n",
       "    <tr>\n",
       "      <th>74</th>\n",
       "      <td>Burkina Faso</td>\n",
       "      <td>wheat flour</td>\n",
       "      <td>folic acid</td>\n",
       "      <td>48.000000</td>\n",
       "      <td>na</td>\n",
       "      <td>52.300000</td>\n",
       "      <td>multiplicative</td>\n",
       "      <td>32.164500</td>\n",
       "      <td>multiplicative</td>\n",
       "    </tr>\n",
       "    <tr>\n",
       "      <th>75</th>\n",
       "      <td>Burkina Faso</td>\n",
       "      <td>wheat flour</td>\n",
       "      <td>iron</td>\n",
       "      <td>48.000000</td>\n",
       "      <td>na</td>\n",
       "      <td>52.300000</td>\n",
       "      <td>multiplicative</td>\n",
       "      <td>17.389750</td>\n",
       "      <td>multiplicative</td>\n",
       "    </tr>\n",
       "    <tr>\n",
       "      <th>76</th>\n",
       "      <td>Burkina Faso</td>\n",
       "      <td>wheat flour</td>\n",
       "      <td>vitamin a</td>\n",
       "      <td>48.000000</td>\n",
       "      <td>na</td>\n",
       "      <td>52.300000</td>\n",
       "      <td>multiplicative</td>\n",
       "      <td>12.388562</td>\n",
       "      <td>regression</td>\n",
       "    </tr>\n",
       "    <tr>\n",
       "      <th>77</th>\n",
       "      <td>Burkina Faso</td>\n",
       "      <td>wheat flour</td>\n",
       "      <td>zinc</td>\n",
       "      <td>48.000000</td>\n",
       "      <td>na</td>\n",
       "      <td>52.300000</td>\n",
       "      <td>multiplicative</td>\n",
       "      <td>12.388562</td>\n",
       "      <td>regression</td>\n",
       "    </tr>\n",
       "    <tr>\n",
       "      <th>87</th>\n",
       "      <td>Kenya</td>\n",
       "      <td>wheat flour</td>\n",
       "      <td>folic acid</td>\n",
       "      <td>36.580000</td>\n",
       "      <td>na</td>\n",
       "      <td>30.950000</td>\n",
       "      <td>na</td>\n",
       "      <td>34.703333</td>\n",
       "      <td>multiplicative</td>\n",
       "    </tr>\n",
       "    <tr>\n",
       "      <th>88</th>\n",
       "      <td>Kenya</td>\n",
       "      <td>wheat flour</td>\n",
       "      <td>iron</td>\n",
       "      <td>36.580000</td>\n",
       "      <td>na</td>\n",
       "      <td>30.950000</td>\n",
       "      <td>na</td>\n",
       "      <td>33.835750</td>\n",
       "      <td>multiplicative</td>\n",
       "    </tr>\n",
       "    <tr>\n",
       "      <th>89</th>\n",
       "      <td>Kenya</td>\n",
       "      <td>wheat flour</td>\n",
       "      <td>vitamin a</td>\n",
       "      <td>36.580000</td>\n",
       "      <td>na</td>\n",
       "      <td>30.950000</td>\n",
       "      <td>na</td>\n",
       "      <td>34.703333</td>\n",
       "      <td>multiplicative</td>\n",
       "    </tr>\n",
       "    <tr>\n",
       "      <th>90</th>\n",
       "      <td>Kenya</td>\n",
       "      <td>wheat flour</td>\n",
       "      <td>zinc</td>\n",
       "      <td>36.580000</td>\n",
       "      <td>na</td>\n",
       "      <td>30.950000</td>\n",
       "      <td>na</td>\n",
       "      <td>34.703333</td>\n",
       "      <td>multiplicative</td>\n",
       "    </tr>\n",
       "    <tr>\n",
       "      <th>101</th>\n",
       "      <td>Viet Nam</td>\n",
       "      <td>oil</td>\n",
       "      <td>vitamin a</td>\n",
       "      <td>38.300000</td>\n",
       "      <td>na</td>\n",
       "      <td>90.000000</td>\n",
       "      <td>na</td>\n",
       "      <td>0.000000</td>\n",
       "      <td>regression</td>\n",
       "    </tr>\n",
       "    <tr>\n",
       "      <th>102</th>\n",
       "      <td>Viet Nam</td>\n",
       "      <td>oil</td>\n",
       "      <td>vitamin a</td>\n",
       "      <td>56.300000</td>\n",
       "      <td>regression</td>\n",
       "      <td>90.000000</td>\n",
       "      <td>na</td>\n",
       "      <td>0.000000</td>\n",
       "      <td>regression</td>\n",
       "    </tr>\n",
       "    <tr>\n",
       "      <th>107</th>\n",
       "      <td>Viet Nam</td>\n",
       "      <td>wheat flour</td>\n",
       "      <td>folic acid</td>\n",
       "      <td>16.400000</td>\n",
       "      <td>na</td>\n",
       "      <td>21.930000</td>\n",
       "      <td>multiplicative</td>\n",
       "      <td>4.111875</td>\n",
       "      <td>multiplicative</td>\n",
       "    </tr>\n",
       "    <tr>\n",
       "      <th>108</th>\n",
       "      <td>Viet Nam</td>\n",
       "      <td>wheat flour</td>\n",
       "      <td>iron</td>\n",
       "      <td>16.400000</td>\n",
       "      <td>na</td>\n",
       "      <td>21.930000</td>\n",
       "      <td>multiplicative</td>\n",
       "      <td>4.111875</td>\n",
       "      <td>multiplicative</td>\n",
       "    </tr>\n",
       "    <tr>\n",
       "      <th>109</th>\n",
       "      <td>Viet Nam</td>\n",
       "      <td>wheat flour</td>\n",
       "      <td>vitamin a</td>\n",
       "      <td>16.400000</td>\n",
       "      <td>na</td>\n",
       "      <td>21.930000</td>\n",
       "      <td>multiplicative</td>\n",
       "      <td>4.111875</td>\n",
       "      <td>multiplicative</td>\n",
       "    </tr>\n",
       "    <tr>\n",
       "      <th>110</th>\n",
       "      <td>Viet Nam</td>\n",
       "      <td>wheat flour</td>\n",
       "      <td>zinc</td>\n",
       "      <td>16.400000</td>\n",
       "      <td>na</td>\n",
       "      <td>21.930000</td>\n",
       "      <td>multiplicative</td>\n",
       "      <td>4.111875</td>\n",
       "      <td>multiplicative</td>\n",
       "    </tr>\n",
       "    <tr>\n",
       "      <th>130</th>\n",
       "      <td>Côte d'Ivoire</td>\n",
       "      <td>wheat flour</td>\n",
       "      <td>iron</td>\n",
       "      <td>54.700000</td>\n",
       "      <td>na</td>\n",
       "      <td>10.200000</td>\n",
       "      <td>na</td>\n",
       "      <td>13.401500</td>\n",
       "      <td>multiplicative</td>\n",
       "    </tr>\n",
       "    <tr>\n",
       "      <th>143</th>\n",
       "      <td>Indonesia</td>\n",
       "      <td>wheat flour</td>\n",
       "      <td>folic acid</td>\n",
       "      <td>75.761649</td>\n",
       "      <td>regression</td>\n",
       "      <td>29.655911</td>\n",
       "      <td>regression</td>\n",
       "      <td>73.100000</td>\n",
       "      <td>na</td>\n",
       "    </tr>\n",
       "    <tr>\n",
       "      <th>144</th>\n",
       "      <td>Indonesia</td>\n",
       "      <td>wheat flour</td>\n",
       "      <td>iron</td>\n",
       "      <td>75.761649</td>\n",
       "      <td>regression</td>\n",
       "      <td>29.655911</td>\n",
       "      <td>regression</td>\n",
       "      <td>73.100000</td>\n",
       "      <td>na</td>\n",
       "    </tr>\n",
       "    <tr>\n",
       "      <th>146</th>\n",
       "      <td>Indonesia</td>\n",
       "      <td>wheat flour</td>\n",
       "      <td>zinc</td>\n",
       "      <td>75.761649</td>\n",
       "      <td>regression</td>\n",
       "      <td>29.655911</td>\n",
       "      <td>regression</td>\n",
       "      <td>73.100000</td>\n",
       "      <td>na</td>\n",
       "    </tr>\n",
       "    <tr>\n",
       "      <th>156</th>\n",
       "      <td>Angola</td>\n",
       "      <td>maize flour</td>\n",
       "      <td>folic acid</td>\n",
       "      <td>51.100278</td>\n",
       "      <td>regression</td>\n",
       "      <td>9.158853</td>\n",
       "      <td>regression</td>\n",
       "      <td>9.191133</td>\n",
       "      <td>regression</td>\n",
       "    </tr>\n",
       "    <tr>\n",
       "      <th>157</th>\n",
       "      <td>Angola</td>\n",
       "      <td>maize flour</td>\n",
       "      <td>iron</td>\n",
       "      <td>51.100278</td>\n",
       "      <td>regression</td>\n",
       "      <td>9.158853</td>\n",
       "      <td>regression</td>\n",
       "      <td>9.191133</td>\n",
       "      <td>regression</td>\n",
       "    </tr>\n",
       "    <tr>\n",
       "      <th>158</th>\n",
       "      <td>Angola</td>\n",
       "      <td>maize flour</td>\n",
       "      <td>vitamin a</td>\n",
       "      <td>51.100278</td>\n",
       "      <td>regression</td>\n",
       "      <td>9.158853</td>\n",
       "      <td>regression</td>\n",
       "      <td>9.191133</td>\n",
       "      <td>regression</td>\n",
       "    </tr>\n",
       "    <tr>\n",
       "      <th>159</th>\n",
       "      <td>Angola</td>\n",
       "      <td>maize flour</td>\n",
       "      <td>zinc</td>\n",
       "      <td>51.100278</td>\n",
       "      <td>regression</td>\n",
       "      <td>9.158853</td>\n",
       "      <td>regression</td>\n",
       "      <td>9.191133</td>\n",
       "      <td>regression</td>\n",
       "    </tr>\n",
       "    <tr>\n",
       "      <th>165</th>\n",
       "      <td>China</td>\n",
       "      <td>oil</td>\n",
       "      <td>vitamin a</td>\n",
       "      <td>57.651373</td>\n",
       "      <td>regression</td>\n",
       "      <td>63.577005</td>\n",
       "      <td>regression</td>\n",
       "      <td>NaN</td>\n",
       "      <td>regression</td>\n",
       "    </tr>\n",
       "    <tr>\n",
       "      <th>174</th>\n",
       "      <td>Egypt</td>\n",
       "      <td>oil</td>\n",
       "      <td>vitamin a</td>\n",
       "      <td>54.973297</td>\n",
       "      <td>regression</td>\n",
       "      <td>70.101964</td>\n",
       "      <td>regression</td>\n",
       "      <td>NaN</td>\n",
       "      <td>regression</td>\n",
       "    </tr>\n",
       "    <tr>\n",
       "      <th>220</th>\n",
       "      <td>Sudan</td>\n",
       "      <td>oil</td>\n",
       "      <td>vitamin a</td>\n",
       "      <td>50.646725</td>\n",
       "      <td>regression</td>\n",
       "      <td>80.000000</td>\n",
       "      <td>na</td>\n",
       "      <td>80.000000</td>\n",
       "      <td>na</td>\n",
       "    </tr>\n",
       "  </tbody>\n",
       "</table>\n",
       "</div>"
      ],
      "text/plain": [
       "     location_name      vehicle    nutrient          A A_estimation_status  \\\n",
       "4         Ethiopia          oil   vitamin a  29.350000          regression   \n",
       "5         Ethiopia          oil   vitamin a  29.350000          regression   \n",
       "73    Burkina Faso          oil   vitamin a  92.230000                  na   \n",
       "74    Burkina Faso  wheat flour  folic acid  48.000000                  na   \n",
       "75    Burkina Faso  wheat flour        iron  48.000000                  na   \n",
       "76    Burkina Faso  wheat flour   vitamin a  48.000000                  na   \n",
       "77    Burkina Faso  wheat flour        zinc  48.000000                  na   \n",
       "87           Kenya  wheat flour  folic acid  36.580000                  na   \n",
       "88           Kenya  wheat flour        iron  36.580000                  na   \n",
       "89           Kenya  wheat flour   vitamin a  36.580000                  na   \n",
       "90           Kenya  wheat flour        zinc  36.580000                  na   \n",
       "101       Viet Nam          oil   vitamin a  38.300000                  na   \n",
       "102       Viet Nam          oil   vitamin a  56.300000          regression   \n",
       "107       Viet Nam  wheat flour  folic acid  16.400000                  na   \n",
       "108       Viet Nam  wheat flour        iron  16.400000                  na   \n",
       "109       Viet Nam  wheat flour   vitamin a  16.400000                  na   \n",
       "110       Viet Nam  wheat flour        zinc  16.400000                  na   \n",
       "130  Côte d'Ivoire  wheat flour        iron  54.700000                  na   \n",
       "143      Indonesia  wheat flour  folic acid  75.761649          regression   \n",
       "144      Indonesia  wheat flour        iron  75.761649          regression   \n",
       "146      Indonesia  wheat flour        zinc  75.761649          regression   \n",
       "156         Angola  maize flour  folic acid  51.100278          regression   \n",
       "157         Angola  maize flour        iron  51.100278          regression   \n",
       "158         Angola  maize flour   vitamin a  51.100278          regression   \n",
       "159         Angola  maize flour        zinc  51.100278          regression   \n",
       "165          China          oil   vitamin a  57.651373          regression   \n",
       "174          Egypt          oil   vitamin a  54.973297          regression   \n",
       "220          Sudan          oil   vitamin a  50.646725          regression   \n",
       "\n",
       "             B B_estimation_status          C C_estimation_status  \n",
       "4    70.000000                  na   0.000000          regression  \n",
       "5    50.000000                  na   0.000000          regression  \n",
       "73   51.975594      multiplicative  75.000000                  na  \n",
       "74   52.300000      multiplicative  32.164500      multiplicative  \n",
       "75   52.300000      multiplicative  17.389750      multiplicative  \n",
       "76   52.300000      multiplicative  12.388562          regression  \n",
       "77   52.300000      multiplicative  12.388562          regression  \n",
       "87   30.950000                  na  34.703333      multiplicative  \n",
       "88   30.950000                  na  33.835750      multiplicative  \n",
       "89   30.950000                  na  34.703333      multiplicative  \n",
       "90   30.950000                  na  34.703333      multiplicative  \n",
       "101  90.000000                  na   0.000000          regression  \n",
       "102  90.000000                  na   0.000000          regression  \n",
       "107  21.930000      multiplicative   4.111875      multiplicative  \n",
       "108  21.930000      multiplicative   4.111875      multiplicative  \n",
       "109  21.930000      multiplicative   4.111875      multiplicative  \n",
       "110  21.930000      multiplicative   4.111875      multiplicative  \n",
       "130  10.200000                  na  13.401500      multiplicative  \n",
       "143  29.655911          regression  73.100000                  na  \n",
       "144  29.655911          regression  73.100000                  na  \n",
       "146  29.655911          regression  73.100000                  na  \n",
       "156   9.158853          regression   9.191133          regression  \n",
       "157   9.158853          regression   9.191133          regression  \n",
       "158   9.158853          regression   9.191133          regression  \n",
       "159   9.158853          regression   9.191133          regression  \n",
       "165  63.577005          regression        NaN          regression  \n",
       "174  70.101964          regression        NaN          regression  \n",
       "220  80.000000                  na  80.000000                  na  "
      ]
     },
     "execution_count": 29,
     "metadata": {},
     "output_type": "execute_result"
    }
   ],
   "source": [
    "ref[(ref.A < ref.B) | (ref.B < ref.C)]"
   ]
  },
  {
   "cell_type": "code",
   "execution_count": 30,
   "metadata": {},
   "outputs": [
    {
     "data": {
      "text/html": [
       "<div>\n",
       "<style scoped>\n",
       "    .dataframe tbody tr th:only-of-type {\n",
       "        vertical-align: middle;\n",
       "    }\n",
       "\n",
       "    .dataframe tbody tr th {\n",
       "        vertical-align: top;\n",
       "    }\n",
       "\n",
       "    .dataframe thead th {\n",
       "        text-align: right;\n",
       "    }\n",
       "</style>\n",
       "<table border=\"1\" class=\"dataframe\">\n",
       "  <thead>\n",
       "    <tr style=\"text-align: right;\">\n",
       "      <th></th>\n",
       "      <th>location_name</th>\n",
       "      <th>vehicle</th>\n",
       "      <th>nutrient</th>\n",
       "      <th>A</th>\n",
       "      <th>A_estimation_status</th>\n",
       "      <th>B</th>\n",
       "      <th>B_estimation_status</th>\n",
       "      <th>C</th>\n",
       "      <th>C_estimation_status</th>\n",
       "    </tr>\n",
       "  </thead>\n",
       "  <tbody>\n",
       "    <tr>\n",
       "      <th>145</th>\n",
       "      <td>Indonesia</td>\n",
       "      <td>wheat flour</td>\n",
       "      <td>vitamin a</td>\n",
       "      <td>75.761649</td>\n",
       "      <td>regression</td>\n",
       "      <td>29.655911</td>\n",
       "      <td>regression</td>\n",
       "      <td>NaN</td>\n",
       "      <td>regression</td>\n",
       "    </tr>\n",
       "    <tr>\n",
       "      <th>165</th>\n",
       "      <td>China</td>\n",
       "      <td>oil</td>\n",
       "      <td>vitamin a</td>\n",
       "      <td>57.651373</td>\n",
       "      <td>regression</td>\n",
       "      <td>63.577005</td>\n",
       "      <td>regression</td>\n",
       "      <td>NaN</td>\n",
       "      <td>regression</td>\n",
       "    </tr>\n",
       "    <tr>\n",
       "      <th>174</th>\n",
       "      <td>Egypt</td>\n",
       "      <td>oil</td>\n",
       "      <td>vitamin a</td>\n",
       "      <td>54.973297</td>\n",
       "      <td>regression</td>\n",
       "      <td>70.101964</td>\n",
       "      <td>regression</td>\n",
       "      <td>NaN</td>\n",
       "      <td>regression</td>\n",
       "    </tr>\n",
       "  </tbody>\n",
       "</table>\n",
       "</div>"
      ],
      "text/plain": [
       "    location_name      vehicle   nutrient          A A_estimation_status  \\\n",
       "145     Indonesia  wheat flour  vitamin a  75.761649          regression   \n",
       "165         China          oil  vitamin a  57.651373          regression   \n",
       "174         Egypt          oil  vitamin a  54.973297          regression   \n",
       "\n",
       "             B B_estimation_status   C C_estimation_status  \n",
       "145  29.655911          regression NaN          regression  \n",
       "165  63.577005          regression NaN          regression  \n",
       "174  70.101964          regression NaN          regression  "
      ]
     },
     "execution_count": 30,
     "metadata": {},
     "output_type": "execute_result"
    }
   ],
   "source": [
    "ref[(ref.A.isna() | ref.B.isna() | ref.C.isna())]"
   ]
  },
  {
   "cell_type": "code",
   "execution_count": 31,
   "metadata": {},
   "outputs": [],
   "source": [
    "## rejection sampling"
   ]
  },
  {
   "cell_type": "code",
   "execution_count": 56,
   "metadata": {},
   "outputs": [],
   "source": [
    "df.loc[(df.location_name==\"Niger\"),'location_id'] = 213"
   ]
  },
  {
   "cell_type": "code",
   "execution_count": 57,
   "metadata": {},
   "outputs": [
    {
     "data": {
      "text/plain": [
       "((350, 24), (335, 24))"
      ]
     },
     "execution_count": 57,
     "metadata": {},
     "output_type": "execute_result"
    }
   ],
   "source": [
    "df.shape, df.drop_duplicates().shape"
   ]
  },
  {
   "cell_type": "code",
   "execution_count": 58,
   "metadata": {},
   "outputs": [],
   "source": [
    "df = df.drop_duplicates()"
   ]
  },
  {
   "cell_type": "code",
   "execution_count": null,
   "metadata": {},
   "outputs": [],
   "source": [
    "final_cols = ['location_id', 'location_name', 'sub_population', 'vehicle',\n",
    "       'value_description', 'nutrient', 'value_mean', 'value_025_percentile',\n",
    "       'value_975_percentile']"
   ]
  },
  {
   "cell_type": "code",
   "execution_count": null,
   "metadata": {},
   "outputs": [],
   "source": [
    "df[final_cols + ['u5_applicable','wra_applicable']].to_csv(all_inputted_data_path)"
   ]
  },
  {
   "cell_type": "code",
   "execution_count": null,
   "metadata": {},
   "outputs": [],
   "source": [
    "break"
   ]
  },
  {
   "cell_type": "code",
   "execution_count": null,
   "metadata": {},
   "outputs": [],
   "source": [
    "# df.loc[((df.estimation_status==\"regression\") | (df.value_mean.isna())) &\n",
    "#    (df.value_description==\"percent of population eating indusrially produced vehicle\") & \n",
    "#    (df.reg_A.notna()),'estimation_status'] = 'regression'\n",
    "\n",
    "# df.loc[((df.estimation_status==\"regression\") | (df.value_mean.isna())) &\n",
    "#    (df.value_description==\"percent of population eating vehicle\") & \n",
    "#    (df.reg_A.notna()),'value_mean'] = df.reg_A"
   ]
  },
  {
   "cell_type": "code",
   "execution_count": null,
   "metadata": {},
   "outputs": [],
   "source": [
    "break"
   ]
  },
  {
   "cell_type": "code",
   "execution_count": null,
   "metadata": {},
   "outputs": [],
   "source": [
    "# impute A\n",
    "ref = ref.merge(eats, on = ['location_name','vehicle'], how = 'outer')\n",
    "ref.loc[(ref.A.isna()),'A'] = ref.reg_A"
   ]
  },
  {
   "cell_type": "code",
   "execution_count": null,
   "metadata": {},
   "outputs": [],
   "source": [
    "df = ref.copy()"
   ]
  },
  {
   "cell_type": "code",
   "execution_count": null,
   "metadata": {},
   "outputs": [],
   "source": [
    "# merge on B and filter\n",
    "est = pd.concat([pd.read_csv(path) for path in paths_B])\n",
    "\n",
    "est = est.groupby(['location_name','vehicle']).mean().reset_index()\n",
    "\n",
    "df = df.merge(est, on = ['location_name','vehicle'], how = 'outer')\n",
    "\n",
    "draws = [f'draw_{i}' for i in range(500)]\n",
    "\n",
    "for draw in draws:\n",
    "    df.loc[(df.A < df[draw]) | \n",
    "                 (df.C > df[draw]),draw] = np.nan\n",
    "\n",
    "df['reg_B'] = df[draws].mean(axis=1)\n",
    "df = df.drop(columns = draws)\n",
    "\n",
    "# these are rows you still dont have estimates for\n",
    "# df[(df.B.isna()) & (df.reg_B.isna())]\n",
    "\n",
    "df.loc[(df.B.isna()) | (df.B_estimation_status=='regression'),'B'] = df.reg_B"
   ]
  },
  {
   "cell_type": "code",
   "execution_count": null,
   "metadata": {},
   "outputs": [],
   "source": [
    "df[(df.A < df.B) | (df.B < df.C)]"
   ]
  },
  {
   "cell_type": "code",
   "execution_count": null,
   "metadata": {},
   "outputs": [],
   "source": [
    "df[(df.B < df.C) & (df.C_estimation_status==\"regression\")]"
   ]
  },
  {
   "cell_type": "code",
   "execution_count": null,
   "metadata": {},
   "outputs": [],
   "source": [
    "# merge on C and filter\n",
    "est = pd.concat([pd.read_csv(path) for path in paths_C])\n",
    "\n",
    "est = est.groupby(['location_name','vehicle']).mean().reset_index()\n",
    "\n",
    "df = df.merge(est, on = ['location_name','vehicle'], how = 'outer')\n",
    "\n",
    "draws = [f'draw_{i}' for i in range(500)]\n",
    "\n",
    "for draw in draws:\n",
    "    df.loc[(df.A < df[draw]) | \n",
    "                 (df.B < df[draw]),draw] = np.nan\n",
    "\n",
    "df['reg_C'] = df[draws].mean(axis=1)\n",
    "df = df.drop(columns = draws)\n",
    "\n",
    "# these are rows you still dont have estimates for\n",
    "# df[(df.B.isna()) & (df.reg_B.isna())]\n",
    "\n",
    "df.loc[(df.C.isna()) | (df.C_estimation_status=='regression'),'C'] = df.reg_C"
   ]
  },
  {
   "cell_type": "code",
   "execution_count": null,
   "metadata": {},
   "outputs": [],
   "source": [
    "df[(df.B < df.C) & (df.C_estimation_status==\"regression\")]"
   ]
  },
  {
   "cell_type": "code",
   "execution_count": null,
   "metadata": {},
   "outputs": [],
   "source": [
    "df[(df.A < df.B) | (df.B < df.C)].shape"
   ]
  },
  {
   "cell_type": "code",
   "execution_count": null,
   "metadata": {},
   "outputs": [],
   "source": [
    "ref[(ref.A < ref.B) | (ref.B < ref.C)].shape"
   ]
  },
  {
   "cell_type": "code",
   "execution_count": null,
   "metadata": {},
   "outputs": [],
   "source": [
    "df[(df.A < df.B)]"
   ]
  },
  {
   "cell_type": "code",
   "execution_count": null,
   "metadata": {},
   "outputs": [],
   "source": [
    "df[(df.B < df.C)]"
   ]
  },
  {
   "cell_type": "code",
   "execution_count": null,
   "metadata": {},
   "outputs": [],
   "source": [
    "df[(df.A.isna() | df.B.isna() | df.C.isna())]"
   ]
  },
  {
   "cell_type": "code",
   "execution_count": null,
   "metadata": {},
   "outputs": [],
   "source": [
    "df"
   ]
  },
  {
   "cell_type": "code",
   "execution_count": null,
   "metadata": {},
   "outputs": [],
   "source": [
    "temp_a = df[['location_name','vehicle','nutrient','A']].rename(columns = {'A':'value_mean_est'}).drop_duplicates()\n",
    "temp_a['value_description'] = \"percent of the population eating vehicle\"\n",
    "\n",
    "temp_b = df[['location_name','vehicle','nutrient','B']].rename(columns = {'B':'value_mean_est'}).drop_duplicates()\n",
    "temp_b['value_description'] = \"percent of the population eating industrially produced vehicle\"\n",
    "\n",
    "temp_c = df[['location_name','vehicle','nutrient','C']].rename(columns = {'C':'value_mean_est'}).drop_duplicates()\n",
    "temp_c['value_description'] = \"percent of the population eating fortified vehicle\""
   ]
  },
  {
   "cell_type": "code",
   "execution_count": null,
   "metadata": {},
   "outputs": [],
   "source": [
    "imputed = pd.concat([temp_a,temp_b,temp_c])"
   ]
  },
  {
   "cell_type": "code",
   "execution_count": null,
   "metadata": {},
   "outputs": [],
   "source": [
    "imputed.head()"
   ]
  },
  {
   "cell_type": "code",
   "execution_count": null,
   "metadata": {},
   "outputs": [],
   "source": [
    "original = pd.read_csv(w_metadata_path)"
   ]
  },
  {
   "cell_type": "code",
   "execution_count": null,
   "metadata": {},
   "outputs": [],
   "source": [
    "test = original.merge(imputed, on = ['location_name','vehicle','value_description','nutrient'], how = 'outer')"
   ]
  },
  {
   "cell_type": "code",
   "execution_count": null,
   "metadata": {},
   "outputs": [],
   "source": [
    "test.loc[((test.value_mean.isna()) | (test.estimation_status==\"regression\")) & (test.value_mean_est.notna())][['location_name','vehicle','value_description','nutrient','value_mean_est']]"
   ]
  },
  {
   "cell_type": "code",
   "execution_count": null,
   "metadata": {},
   "outputs": [],
   "source": [
    "imputed.shape, original.shape"
   ]
  },
  {
   "cell_type": "code",
   "execution_count": null,
   "metadata": {},
   "outputs": [],
   "source": [
    "original.location_name.nunique()"
   ]
  },
  {
   "cell_type": "code",
   "execution_count": null,
   "metadata": {},
   "outputs": [],
   "source": [
    "imputed.location_name.nunique()"
   ]
  },
  {
   "cell_type": "code",
   "execution_count": null,
   "metadata": {},
   "outputs": [],
   "source": [
    "imputed"
   ]
  },
  {
   "cell_type": "code",
   "execution_count": null,
   "metadata": {},
   "outputs": [],
   "source": [
    "imputed['ac'] = imputed.groupby(['location_name','vehicle','value_description','nutrient']).transform('count').value_mean_est"
   ]
  },
  {
   "cell_type": "code",
   "execution_count": null,
   "metadata": {},
   "outputs": [],
   "source": [
    "imputed[(imputed.ac > 1)]"
   ]
  },
  {
   "cell_type": "code",
   "execution_count": null,
   "metadata": {},
   "outputs": [],
   "source": [
    "imputed[(imputed.ac > 1)].drop_duplicates()"
   ]
  },
  {
   "cell_type": "code",
   "execution_count": null,
   "metadata": {},
   "outputs": [],
   "source": [
    "test[test.value_mean_est > 1]"
   ]
  },
  {
   "cell_type": "code",
   "execution_count": null,
   "metadata": {},
   "outputs": [],
   "source": [
    "test.value_mean_est.min(), test.value_mean_est.max()"
   ]
  },
  {
   "cell_type": "code",
   "execution_count": null,
   "metadata": {},
   "outputs": [],
   "source": []
  },
  {
   "cell_type": "code",
   "execution_count": null,
   "metadata": {},
   "outputs": [],
   "source": []
  }
 ],
 "metadata": {
  "kernelspec": {
   "display_name": "Python 3",
   "language": "python",
   "name": "python3"
  },
  "language_info": {
   "codemirror_mode": {
    "name": "ipython",
    "version": 3
   },
   "file_extension": ".py",
   "mimetype": "text/x-python",
   "name": "python",
   "nbconvert_exporter": "python",
   "pygments_lexer": "ipython3",
   "version": "3.6.11"
  }
 },
 "nbformat": 4,
 "nbformat_minor": 4
}
