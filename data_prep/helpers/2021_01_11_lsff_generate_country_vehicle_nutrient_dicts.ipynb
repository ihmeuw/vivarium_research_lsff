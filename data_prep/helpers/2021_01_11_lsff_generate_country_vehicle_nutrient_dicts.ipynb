{
 "cells": [
  {
   "cell_type": "code",
   "execution_count": 1,
   "metadata": {},
   "outputs": [],
   "source": [
    "import pandas as pd, numpy as np"
   ]
  },
  {
   "cell_type": "markdown",
   "metadata": {},
   "source": [
    "# Generate dictionaries for target country-vehicle and vehicle-nutrient pairs"
   ]
  },
  {
   "cell_type": "code",
   "execution_count": 3,
   "metadata": {},
   "outputs": [],
   "source": [
    "path = '/ihme/homes/beatrixh/notebooks/viv_rsc/data_prep/inputs/lsff_countries.csv'\n",
    "\n",
    "c = pd.read_csv(path)"
   ]
  },
  {
   "cell_type": "code",
   "execution_count": 4,
   "metadata": {},
   "outputs": [],
   "source": [
    "countries = c.location_name.unique()"
   ]
  },
  {
   "cell_type": "code",
   "execution_count": 5,
   "metadata": {},
   "outputs": [],
   "source": [
    "nutrients = ['vitamin a', 'vitamin d', 'folic acid', 'iron', 'viramin a',\n",
    "       'vitamin b1', 'vitamin b12', 'zinc']\n",
    "\n",
    "vehicles = ['oil', 'wheat flour', 'maize flour', 'salt', 'rice', 'bouillon']\n",
    "\n",
    "value_description = ['percent of population eating fortified vehicle',\n",
    "                     'percent of population eating industrially produced vehicle',\n",
    "                     'percent of population eating vehicle']"
   ]
  },
  {
   "cell_type": "code",
   "execution_count": 6,
   "metadata": {},
   "outputs": [],
   "source": [
    "vehicle_nutrient_pairs = {'oil':['vitamin a','vitamin d'],\n",
    "                          'wheat flour':['folic acid','iron','zinc','vitamin b1','vitamin b12','vitamin a'],\n",
    "                          'maize flour':['folic acid','iron','zinc','vitamin b1','vitamin b12','vitamin a'],\n",
    "                          'salt':['iron','folic acid'],\n",
    "                          'rice':['iron','zinc','folic acid','vitamin b1','vitamin b12'],\n",
    "                          'bouillon':['iron','zinc','folic acid','vitamin a']}"
   ]
  },
  {
   "cell_type": "code",
   "execution_count": 7,
   "metadata": {},
   "outputs": [
    {
     "data": {
      "text/plain": [
       "array(['India', 'Nigeria', 'Ethiopia', 'Democratic Republic of the Congo',\n",
       "       'Indonesia', 'Bangladesh', 'Pakistan', 'Kenya',\n",
       "       'United Republic of Tanzania', 'South Africa', 'Sudan', 'Uganda',\n",
       "       'Myanmar', 'Ghana', 'Egypt', 'Vietnam', 'Nepal', 'Mozambique',\n",
       "       'Cameroon', 'Angola', \"Côte d'Ivoire\", 'Madagascar',\n",
       "       'Burkina Faso', 'Niger', 'China', nan], dtype=object)"
      ]
     },
     "execution_count": 7,
     "metadata": {},
     "output_type": "execute_result"
    }
   ],
   "source": [
    "countries"
   ]
  },
  {
   "cell_type": "code",
   "execution_count": 8,
   "metadata": {},
   "outputs": [],
   "source": [
    "african_countries = ['Nigeria', 'Ethiopia', 'Democratic Republic of the Congo', 'Kenya', 'United Republic of Tanzania', 'South Africa', 'Sudan', 'Uganda',\n",
    "       'Ghana', 'Egypt', 'Mozambique', 'Cameroon', 'Angola', \"Côte d'Ivoire\", 'Madagascar', 'Burkina Faso',\n",
    "       'Niger']\n",
    "west_african = ['Burkina Faso','Ghana',\"Côte d'Ivoire\",'Niger','Nigeria']\n",
    "central_african = ['Cameroon','Democratic Republic of the Congo']"
   ]
  },
  {
   "cell_type": "code",
   "execution_count": 9,
   "metadata": {},
   "outputs": [],
   "source": [
    "country_vehicle_pairs = {}\n",
    "for country in countries:\n",
    "    country_vehicle_pairs[country] = ['wheat flour','oil']\n",
    "\n",
    "for country in african_countries:\n",
    "    country_vehicle_pairs[country] = country_vehicle_pairs[country] + ['maize flour']\n",
    "\n",
    "for country in ['India','Nigeria','Ethiopia']:\n",
    "    country_vehicle_pairs[country] = country_vehicle_pairs[country] + ['salt']\n",
    "    \n",
    "for country in ['India','Ghana','Nigeria']:\n",
    "    country_vehicle_pairs[country] = country_vehicle_pairs[country] + ['rice']\n",
    "    \n",
    "for country in west_african + central_african:\n",
    "    country_vehicle_pairs[country] = country_vehicle_pairs[country] + ['bouillon']"
   ]
  },
  {
   "cell_type": "code",
   "execution_count": 15,
   "metadata": {},
   "outputs": [],
   "source": [
    "vehicle_country_pairs = {vehicle:[] for vehicle in vehicles}"
   ]
  },
  {
   "cell_type": "code",
   "execution_count": 34,
   "metadata": {},
   "outputs": [],
   "source": [
    "#init dict\n",
    "vehicle_country_pairs = {vehicle:[] for vehicle in vehicles}\n",
    "\n",
    "# populate vehicle--> country maps\n",
    "for country in [loc for loc in countries if isinstance(loc,str)]:\n",
    "    for vehicle in country_vehicle_pairs[country]:\n",
    "        vehicle_country_pairs[vehicle] = vehicle_country_pairs[vehicle] + [country]"
   ]
  },
  {
   "cell_type": "code",
   "execution_count": 39,
   "metadata": {},
   "outputs": [],
   "source": [
    "print_dir = '/ihme/homes/beatrixh/notebooks/viv_rsc/data_prep/inputs/'"
   ]
  },
  {
   "cell_type": "code",
   "execution_count": 40,
   "metadata": {},
   "outputs": [],
   "source": [
    "import pickle\n",
    "\n",
    "with open(print_dir + 'lsff_vehicle_nutrient_pairs.pickle', 'wb') as handle:\n",
    "    pickle.dump(vehicle_nutrient_pairs, handle, protocol=pickle.HIGHEST_PROTOCOL)\n",
    "    \n",
    "\n",
    "with open(print_dir + 'lsff_country_vehicle_pairs.pickle', 'wb') as handle:\n",
    "    pickle.dump(country_vehicle_pairs, handle, protocol=pickle.HIGHEST_PROTOCOL)\n",
    "    \n",
    "\n",
    "with open(print_dir + 'lsff_vehicle_country_pairs.pickle', 'wb') as handle:\n",
    "    pickle.dump(vehicle_country_pairs, handle, protocol=pickle.HIGHEST_PROTOCOL)"
   ]
  },
  {
   "cell_type": "code",
   "execution_count": 11,
   "metadata": {},
   "outputs": [],
   "source": [
    "# with open(data_prep_dir + 'lsff_vehicle_nutrient_pairs.pickle', 'rb') as handle:\n",
    "#     vehicle_nutrient_pairs = pickle.load(handle)"
   ]
  },
  {
   "cell_type": "code",
   "execution_count": null,
   "metadata": {},
   "outputs": [],
   "source": []
  }
 ],
 "metadata": {
  "kernelspec": {
   "display_name": "Python 3",
   "language": "python",
   "name": "python3"
  },
  "language_info": {
   "codemirror_mode": {
    "name": "ipython",
    "version": 3
   },
   "file_extension": ".py",
   "mimetype": "text/x-python",
   "name": "python",
   "nbconvert_exporter": "python",
   "pygments_lexer": "ipython3",
   "version": "3.6.10"
  }
 },
 "nbformat": 4,
 "nbformat_minor": 4
}
