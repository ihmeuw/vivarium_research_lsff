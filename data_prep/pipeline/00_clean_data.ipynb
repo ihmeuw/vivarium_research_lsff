{
 "cells": [
  {
   "cell_type": "code",
   "execution_count": 1,
   "metadata": {},
   "outputs": [],
   "source": [
    "import pandas as pd, numpy as np"
   ]
  },
  {
   "cell_type": "markdown",
   "metadata": {},
   "source": [
    "# LSFF: basic data cleaning"
   ]
  },
  {
   "cell_type": "markdown",
   "metadata": {},
   "source": [
    "IN: extraction sheet + vehicle-nutrient, country-vehicle dicts"
   ]
  },
  {
   "cell_type": "markdown",
   "metadata": {},
   "source": [
    "OUT: cleaned extraction sheet. values renamed, dropped all illegal location-vehicle-val-nutrient combos"
   ]
  },
  {
   "cell_type": "code",
   "execution_count": 2,
   "metadata": {},
   "outputs": [],
   "source": [
    "## load targets\n",
    "import pickle\n",
    "data_prep_dir = '/ihme/homes/beatrixh/vivarium_research_lsff/data_prep/inputs/'\n",
    "\n",
    "with open(data_prep_dir + 'lsff_vehicle_nutrient_pairs.pickle', 'rb') as handle:\n",
    "    vehicle_nutrient_map = pickle.load(handle)\n",
    "    \n",
    "with open(data_prep_dir + 'lsff_country_vehicle_pairs.pickle', 'rb') as handle:\n",
    "    country_vehicle_map = pickle.load(handle)"
   ]
  },
  {
   "cell_type": "code",
   "execution_count": 3,
   "metadata": {},
   "outputs": [],
   "source": [
    "countries = [i for i in country_vehicle_map.keys() if type(i)==str]"
   ]
  },
  {
   "cell_type": "code",
   "execution_count": 4,
   "metadata": {},
   "outputs": [],
   "source": [
    "path = data_prep_dir + 'extraction_sheet_lsff_03_11_2021.csv'\n",
    "df = pd.read_csv(path, encoding = 'utf-8')"
   ]
  },
  {
   "cell_type": "code",
   "execution_count": 5,
   "metadata": {},
   "outputs": [
    {
     "data": {
      "text/html": [
       "<div>\n",
       "<style scoped>\n",
       "    .dataframe tbody tr th:only-of-type {\n",
       "        vertical-align: middle;\n",
       "    }\n",
       "\n",
       "    .dataframe tbody tr th {\n",
       "        vertical-align: top;\n",
       "    }\n",
       "\n",
       "    .dataframe thead th {\n",
       "        text-align: right;\n",
       "    }\n",
       "</style>\n",
       "<table border=\"1\" class=\"dataframe\">\n",
       "  <thead>\n",
       "    <tr style=\"text-align: right;\">\n",
       "      <th></th>\n",
       "      <th>location_id</th>\n",
       "      <th>location_name</th>\n",
       "      <th>subnational_name</th>\n",
       "      <th>subnational_location_id</th>\n",
       "      <th>urbanicity</th>\n",
       "      <th>vehicle</th>\n",
       "      <th>nutrient</th>\n",
       "      <th>nutrient_compound</th>\n",
       "      <th>nutrient_mass_ppm</th>\n",
       "      <th>fortification_standards</th>\n",
       "      <th>...</th>\n",
       "      <th>sub_population</th>\n",
       "      <th>source_citation</th>\n",
       "      <th>source_link</th>\n",
       "      <th>source_year</th>\n",
       "      <th>source_type</th>\n",
       "      <th>source_additional</th>\n",
       "      <th>notes</th>\n",
       "      <th>user</th>\n",
       "      <th>date_recorded</th>\n",
       "      <th>Validated</th>\n",
       "    </tr>\n",
       "  </thead>\n",
       "  <tbody>\n",
       "    <tr>\n",
       "      <th>0</th>\n",
       "      <td>163.0</td>\n",
       "      <td>India</td>\n",
       "      <td>Rajasthan</td>\n",
       "      <td>NaN</td>\n",
       "      <td>mixed/both</td>\n",
       "      <td>oil</td>\n",
       "      <td>vitamin a</td>\n",
       "      <td>unknown</td>\n",
       "      <td>7.5</td>\n",
       "      <td>voluntary</td>\n",
       "      <td>...</td>\n",
       "      <td>0-24 months</td>\n",
       "      <td>Grant J Aaron, Valerie M Friesen, Svenja Jungj...</td>\n",
       "      <td>https://doi.org/10.3945/jn.116.245753</td>\n",
       "      <td>2013-2014</td>\n",
       "      <td>NaN</td>\n",
       "      <td>NaN</td>\n",
       "      <td>NaN</td>\n",
       "      <td>nathaniel</td>\n",
       "      <td>10/30/2020</td>\n",
       "      <td>Yes</td>\n",
       "    </tr>\n",
       "    <tr>\n",
       "      <th>1</th>\n",
       "      <td>163.0</td>\n",
       "      <td>India</td>\n",
       "      <td>Rajasthan</td>\n",
       "      <td>NaN</td>\n",
       "      <td>mixed/both</td>\n",
       "      <td>oil</td>\n",
       "      <td>na</td>\n",
       "      <td>na</td>\n",
       "      <td>na</td>\n",
       "      <td>na</td>\n",
       "      <td>...</td>\n",
       "      <td>0-24 months</td>\n",
       "      <td>Grant J Aaron, Valerie M Friesen, Svenja Jungj...</td>\n",
       "      <td>https://doi.org/10.3945/jn.116.245753</td>\n",
       "      <td>2017</td>\n",
       "      <td>NaN</td>\n",
       "      <td>NaN</td>\n",
       "      <td>NaN</td>\n",
       "      <td>nathaniel</td>\n",
       "      <td>10/30/2020</td>\n",
       "      <td>Yes</td>\n",
       "    </tr>\n",
       "    <tr>\n",
       "      <th>2</th>\n",
       "      <td>168.0</td>\n",
       "      <td>Angola</td>\n",
       "      <td>na</td>\n",
       "      <td>NaN</td>\n",
       "      <td>mixed/both</td>\n",
       "      <td>maize flour</td>\n",
       "      <td>iron</td>\n",
       "      <td>unknown</td>\n",
       "      <td>na</td>\n",
       "      <td>unknown</td>\n",
       "      <td>...</td>\n",
       "      <td>total population</td>\n",
       "      <td>GFDx</td>\n",
       "      <td>https://fortificationdata.org/country-fortific...</td>\n",
       "      <td>2018</td>\n",
       "      <td>NaN</td>\n",
       "      <td>NaN</td>\n",
       "      <td>Scott Montgomery, Food Fortification Initiativ...</td>\n",
       "      <td>paulina</td>\n",
       "      <td>3/9/2021</td>\n",
       "      <td>NaN</td>\n",
       "    </tr>\n",
       "    <tr>\n",
       "      <th>3</th>\n",
       "      <td>168.0</td>\n",
       "      <td>Angola</td>\n",
       "      <td>na</td>\n",
       "      <td>NaN</td>\n",
       "      <td>mixed/both</td>\n",
       "      <td>maize flour</td>\n",
       "      <td>folic acid, folate, b9</td>\n",
       "      <td>na</td>\n",
       "      <td>na</td>\n",
       "      <td>unknown</td>\n",
       "      <td>...</td>\n",
       "      <td>total population</td>\n",
       "      <td>GFDx</td>\n",
       "      <td>https://fortificationdata.org/country-fortific...</td>\n",
       "      <td>2018</td>\n",
       "      <td>NaN</td>\n",
       "      <td>NaN</td>\n",
       "      <td>Scott Montgomery, Food Fortification Initiativ...</td>\n",
       "      <td>paulina</td>\n",
       "      <td>3/9/2021</td>\n",
       "      <td>NaN</td>\n",
       "    </tr>\n",
       "    <tr>\n",
       "      <th>4</th>\n",
       "      <td>168.0</td>\n",
       "      <td>Angola</td>\n",
       "      <td>na</td>\n",
       "      <td>NaN</td>\n",
       "      <td>mixed/both</td>\n",
       "      <td>maize flour</td>\n",
       "      <td>zinc</td>\n",
       "      <td>na</td>\n",
       "      <td>na</td>\n",
       "      <td>unknown</td>\n",
       "      <td>...</td>\n",
       "      <td>total population</td>\n",
       "      <td>GFDx</td>\n",
       "      <td>https://fortificationdata.org/country-fortific...</td>\n",
       "      <td>2018</td>\n",
       "      <td>NaN</td>\n",
       "      <td>NaN</td>\n",
       "      <td>Scott Montgomery, Food Fortification Initiativ...</td>\n",
       "      <td>paulina</td>\n",
       "      <td>3/9/2021</td>\n",
       "      <td>NaN</td>\n",
       "    </tr>\n",
       "  </tbody>\n",
       "</table>\n",
       "<p>5 rows × 27 columns</p>\n",
       "</div>"
      ],
      "text/plain": [
       "    location_id location_name subnational_name subnational_location_id  \\\n",
       "0         163.0         India        Rajasthan                     NaN   \n",
       "1         163.0         India        Rajasthan                     NaN   \n",
       "2         168.0        Angola               na                     NaN   \n",
       "3         168.0        Angola               na                     NaN   \n",
       "4         168.0        Angola               na                     NaN   \n",
       "\n",
       "   urbanicity      vehicle                nutrient nutrient_compound  \\\n",
       "0  mixed/both          oil               vitamin a           unknown   \n",
       "1  mixed/both          oil                      na                na   \n",
       "2  mixed/both  maize flour                    iron           unknown   \n",
       "3  mixed/both  maize flour  folic acid, folate, b9                na   \n",
       "4  mixed/both  maize flour                    zinc                na   \n",
       "\n",
       "  nutrient_mass_ppm fortification_standards  ...    sub_population  \\\n",
       "0               7.5               voluntary  ...       0-24 months   \n",
       "1                na                      na  ...       0-24 months   \n",
       "2                na                 unknown  ...  total population   \n",
       "3                na                 unknown  ...  total population   \n",
       "4                na                 unknown  ...  total population   \n",
       "\n",
       "                                     source_citation  \\\n",
       "0  Grant J Aaron, Valerie M Friesen, Svenja Jungj...   \n",
       "1  Grant J Aaron, Valerie M Friesen, Svenja Jungj...   \n",
       "2                                               GFDx   \n",
       "3                                               GFDx   \n",
       "4                                               GFDx   \n",
       "\n",
       "                                         source_link source_year source_type  \\\n",
       "0              https://doi.org/10.3945/jn.116.245753   2013-2014         NaN   \n",
       "1              https://doi.org/10.3945/jn.116.245753        2017         NaN   \n",
       "2  https://fortificationdata.org/country-fortific...        2018         NaN   \n",
       "3  https://fortificationdata.org/country-fortific...        2018         NaN   \n",
       "4  https://fortificationdata.org/country-fortific...        2018         NaN   \n",
       "\n",
       "  source_additional                                              notes  \\\n",
       "0               NaN                                                NaN   \n",
       "1               NaN                                                NaN   \n",
       "2               NaN  Scott Montgomery, Food Fortification Initiativ...   \n",
       "3               NaN  Scott Montgomery, Food Fortification Initiativ...   \n",
       "4               NaN  Scott Montgomery, Food Fortification Initiativ...   \n",
       "\n",
       "        user date_recorded Validated  \n",
       "0  nathaniel    10/30/2020       Yes  \n",
       "1  nathaniel    10/30/2020       Yes  \n",
       "2    paulina      3/9/2021       NaN  \n",
       "3    paulina      3/9/2021       NaN  \n",
       "4    paulina      3/9/2021       NaN  \n",
       "\n",
       "[5 rows x 27 columns]"
      ]
     },
     "execution_count": 5,
     "metadata": {},
     "output_type": "execute_result"
    }
   ],
   "source": [
    "df.head()"
   ]
  },
  {
   "cell_type": "code",
   "execution_count": 6,
   "metadata": {},
   "outputs": [],
   "source": [
    "path_assumed_data = data_prep_dir + 'extraction_sheet_lsff_assumed_coverage_03_11_2021.csv'\n",
    "assumed_df = pd.read_csv(path_assumed_data, encoding = 'utf-8')"
   ]
  },
  {
   "cell_type": "code",
   "execution_count": 7,
   "metadata": {},
   "outputs": [],
   "source": [
    "assumed_df['is_estimate'] = 1\n",
    "df['is_estimate'] = 0"
   ]
  },
  {
   "cell_type": "code",
   "execution_count": 8,
   "metadata": {},
   "outputs": [
    {
     "name": "stderr",
     "output_type": "stream",
     "text": [
      "/ihme/code/central_comp/miniconda_svc-ccomp/envs/v106/lib/python3.7/site-packages/pandas/core/frame.py:7138: FutureWarning: Sorting because non-concatenation axis is not aligned. A future version\n",
      "of pandas will change to not sort by default.\n",
      "\n",
      "To accept the future behavior, pass 'sort=False'.\n",
      "\n",
      "To retain the current behavior and silence the warning, pass 'sort=True'.\n",
      "\n",
      "  sort=sort,\n"
     ]
    }
   ],
   "source": [
    "df = df.append(assumed_df)"
   ]
  },
  {
   "cell_type": "code",
   "execution_count": 9,
   "metadata": {
    "scrolled": true
   },
   "outputs": [],
   "source": [
    "check_cols = ['location_id','location_name','vehicle','value_description','nutrient','value_mean','value_025_percentile',\n",
    "       'value_975_percentile','notes','is_estimate']"
   ]
  },
  {
   "cell_type": "code",
   "execution_count": 10,
   "metadata": {},
   "outputs": [],
   "source": [
    "# format vars\n",
    "df.location_id = df.location_id.fillna(-1).astype(int)\n",
    "df.location_name = df.location_name.astype(str)\n",
    "df.vehicle = df.vehicle.astype(str)\n",
    "df.value_description = df.value_description.astype(str)"
   ]
  },
  {
   "cell_type": "code",
   "execution_count": 11,
   "metadata": {},
   "outputs": [],
   "source": [
    "df.value_mean = df.value_mean.mask(df.value_mean.isin(['na',np.nan,-1,'unknown']), np.nan).astype(float)\n",
    "df.value_025_percentile = df.value_025_percentile.mask(df.value_025_percentile.isin(['na',np.nan,-1,'unknown']), np.nan).astype(float)\n",
    "df.value_975_percentile = df.value_975_percentile.mask(df.value_975_percentile.isin(['na',np.nan,-1,'unknown']), np.nan).astype(float)"
   ]
  },
  {
   "cell_type": "code",
   "execution_count": 12,
   "metadata": {},
   "outputs": [],
   "source": [
    "#drop all NaN-only rows\n",
    "df = df.loc[~((df.value_mean.isna())&(df.value_025_percentile.isna())&(df.value_975_percentile.isna()))]"
   ]
  },
  {
   "cell_type": "code",
   "execution_count": 13,
   "metadata": {},
   "outputs": [
    {
     "data": {
      "text/plain": [
       "array(['India', 'Angola', 'Bangladesh', 'Cameroon', 'Nigeria', 'Yemen',\n",
       "       'Pakistan', 'Burkina Faso', \"Côte d'Ivoire\", 'Indonesia', 'Uganda',\n",
       "       'United Republic of Tanzania', 'Ethiopia', 'China',\n",
       "       'Democratic Republic of the Congo', 'Egypt', 'Ghana', 'Niger',\n",
       "       'Sudan', 'Viet Nam', 'Kenya', 'Madagascar', 'Mozambique', 'Nepal',\n",
       "       'Myanmar', 'South Africa', 'Philippines'], dtype=object)"
      ]
     },
     "execution_count": 13,
     "metadata": {},
     "output_type": "execute_result"
    }
   ],
   "source": [
    "#locations for which need tofill in loc_ids\n",
    "df[df.location_id==-1].location_name.unique()"
   ]
  },
  {
   "cell_type": "code",
   "execution_count": 14,
   "metadata": {},
   "outputs": [
    {
     "data": {
      "text/html": [
       "<div>\n",
       "<style scoped>\n",
       "    .dataframe tbody tr th:only-of-type {\n",
       "        vertical-align: middle;\n",
       "    }\n",
       "\n",
       "    .dataframe tbody tr th {\n",
       "        vertical-align: top;\n",
       "    }\n",
       "\n",
       "    .dataframe thead th {\n",
       "        text-align: right;\n",
       "    }\n",
       "</style>\n",
       "<table border=\"1\" class=\"dataframe\">\n",
       "  <thead>\n",
       "    <tr style=\"text-align: right;\">\n",
       "      <th></th>\n",
       "      <th>location_id</th>\n",
       "      <th>location_name</th>\n",
       "      <th>vehicle</th>\n",
       "      <th>value_description</th>\n",
       "      <th>nutrient</th>\n",
       "      <th>value_mean</th>\n",
       "      <th>value_025_percentile</th>\n",
       "      <th>value_975_percentile</th>\n",
       "      <th>notes</th>\n",
       "      <th>is_estimate</th>\n",
       "    </tr>\n",
       "  </thead>\n",
       "  <tbody>\n",
       "    <tr>\n",
       "      <th>102</th>\n",
       "      <td>-1</td>\n",
       "      <td>Burkina Faso</td>\n",
       "      <td>wheat flour</td>\n",
       "      <td>percent of vehicle that is fortified</td>\n",
       "      <td>iron</td>\n",
       "      <td>NaN</td>\n",
       "      <td>0.0</td>\n",
       "      <td>10.0</td>\n",
       "      <td>Assumed to be % of industrially processed whea...</td>\n",
       "      <td>0</td>\n",
       "    </tr>\n",
       "    <tr>\n",
       "      <th>122</th>\n",
       "      <td>-1</td>\n",
       "      <td>Côte d'Ivoire</td>\n",
       "      <td>wheat flour</td>\n",
       "      <td>percent of vehicle that is fortified</td>\n",
       "      <td>iron</td>\n",
       "      <td>NaN</td>\n",
       "      <td>10.0</td>\n",
       "      <td>40.0</td>\n",
       "      <td>Assumed to be % of industrially processed whea...</td>\n",
       "      <td>0</td>\n",
       "    </tr>\n",
       "    <tr>\n",
       "      <th>177</th>\n",
       "      <td>-1</td>\n",
       "      <td>Cameroon</td>\n",
       "      <td>wheat flour</td>\n",
       "      <td>percent of vehicle that is fortified</td>\n",
       "      <td>iron</td>\n",
       "      <td>NaN</td>\n",
       "      <td>0.0</td>\n",
       "      <td>10.0</td>\n",
       "      <td>Assumed to be % of industrially processed whea...</td>\n",
       "      <td>0</td>\n",
       "    </tr>\n",
       "    <tr>\n",
       "      <th>289</th>\n",
       "      <td>-1</td>\n",
       "      <td>Ghana</td>\n",
       "      <td>rice</td>\n",
       "      <td>percent of vehicle that is industrially produced</td>\n",
       "      <td>na</td>\n",
       "      <td>NaN</td>\n",
       "      <td>11.0</td>\n",
       "      <td>23.0</td>\n",
       "      <td>% industrially milled, only a range was given</td>\n",
       "      <td>0</td>\n",
       "    </tr>\n",
       "    <tr>\n",
       "      <th>333</th>\n",
       "      <td>-1</td>\n",
       "      <td>Ghana</td>\n",
       "      <td>wheat flour</td>\n",
       "      <td>percent of vehicle that is fortified</td>\n",
       "      <td>iron</td>\n",
       "      <td>NaN</td>\n",
       "      <td>25.0</td>\n",
       "      <td>35.0</td>\n",
       "      <td>Assumed to be % of industrially processed whea...</td>\n",
       "      <td>0</td>\n",
       "    </tr>\n",
       "    <tr>\n",
       "      <th>447</th>\n",
       "      <td>-1</td>\n",
       "      <td>Indonesia</td>\n",
       "      <td>wheat flour</td>\n",
       "      <td>percent of vehicle that is fortified</td>\n",
       "      <td>iron</td>\n",
       "      <td>NaN</td>\n",
       "      <td>90.0</td>\n",
       "      <td>100.0</td>\n",
       "      <td>Assumed to be % of industrially processed whea...</td>\n",
       "      <td>0</td>\n",
       "    </tr>\n",
       "    <tr>\n",
       "      <th>527</th>\n",
       "      <td>-1</td>\n",
       "      <td>Kenya</td>\n",
       "      <td>wheat flour</td>\n",
       "      <td>percent of vehicle that is fortified</td>\n",
       "      <td>iron</td>\n",
       "      <td>NaN</td>\n",
       "      <td>90.0</td>\n",
       "      <td>100.0</td>\n",
       "      <td>Assumed to be % of industrially processed whea...</td>\n",
       "      <td>0</td>\n",
       "    </tr>\n",
       "    <tr>\n",
       "      <th>563</th>\n",
       "      <td>-1</td>\n",
       "      <td>Mozambique</td>\n",
       "      <td>wheat flour</td>\n",
       "      <td>percent of vehicle that is fortified</td>\n",
       "      <td>iron</td>\n",
       "      <td>NaN</td>\n",
       "      <td>90.0</td>\n",
       "      <td>100.0</td>\n",
       "      <td>Assumed to be % of industrially processed whea...</td>\n",
       "      <td>0</td>\n",
       "    </tr>\n",
       "    <tr>\n",
       "      <th>608</th>\n",
       "      <td>-1</td>\n",
       "      <td>Niger</td>\n",
       "      <td>wheat flour</td>\n",
       "      <td>percent of vehicle that is fortified</td>\n",
       "      <td>iron</td>\n",
       "      <td>NaN</td>\n",
       "      <td>0.0</td>\n",
       "      <td>0.0</td>\n",
       "      <td>Assumed to be % of industrially processed whea...</td>\n",
       "      <td>0</td>\n",
       "    </tr>\n",
       "    <tr>\n",
       "      <th>646</th>\n",
       "      <td>-1</td>\n",
       "      <td>Nigeria</td>\n",
       "      <td>rice</td>\n",
       "      <td>percent of vehicle that is industrially produced</td>\n",
       "      <td>na</td>\n",
       "      <td>NaN</td>\n",
       "      <td>12.0</td>\n",
       "      <td>24.0</td>\n",
       "      <td>% industrially milled, only a range was given</td>\n",
       "      <td>0</td>\n",
       "    </tr>\n",
       "    <tr>\n",
       "      <th>704</th>\n",
       "      <td>-1</td>\n",
       "      <td>Nigeria</td>\n",
       "      <td>wheat flour</td>\n",
       "      <td>percent of vehicle that is fortified</td>\n",
       "      <td>iron</td>\n",
       "      <td>NaN</td>\n",
       "      <td>80.0</td>\n",
       "      <td>90.0</td>\n",
       "      <td>Assumed to be % of industrially processed whea...</td>\n",
       "      <td>0</td>\n",
       "    </tr>\n",
       "    <tr>\n",
       "      <th>743</th>\n",
       "      <td>-1</td>\n",
       "      <td>Pakistan</td>\n",
       "      <td>wheat flour</td>\n",
       "      <td>percent of vehicle that is fortified</td>\n",
       "      <td>iron</td>\n",
       "      <td>NaN</td>\n",
       "      <td>5.0</td>\n",
       "      <td>10.0</td>\n",
       "      <td>Assumed to be % of industrially processed whea...</td>\n",
       "      <td>0</td>\n",
       "    </tr>\n",
       "    <tr>\n",
       "      <th>825</th>\n",
       "      <td>-1</td>\n",
       "      <td>South Africa</td>\n",
       "      <td>wheat flour</td>\n",
       "      <td>percent of vehicle that is fortified</td>\n",
       "      <td>iron</td>\n",
       "      <td>NaN</td>\n",
       "      <td>60.0</td>\n",
       "      <td>80.0</td>\n",
       "      <td>Assumed to be % of industrially processed whea...</td>\n",
       "      <td>0</td>\n",
       "    </tr>\n",
       "    <tr>\n",
       "      <th>910</th>\n",
       "      <td>-1</td>\n",
       "      <td>Uganda</td>\n",
       "      <td>wheat flour</td>\n",
       "      <td>percent of vehicle that is fortified</td>\n",
       "      <td>iron</td>\n",
       "      <td>NaN</td>\n",
       "      <td>90.0</td>\n",
       "      <td>100.0</td>\n",
       "      <td>Assumed to be % of industrially processed whea...</td>\n",
       "      <td>0</td>\n",
       "    </tr>\n",
       "    <tr>\n",
       "      <th>967</th>\n",
       "      <td>-1</td>\n",
       "      <td>United Republic of Tanzania</td>\n",
       "      <td>wheat flour</td>\n",
       "      <td>percent of vehicle that is fortified</td>\n",
       "      <td>iron</td>\n",
       "      <td>NaN</td>\n",
       "      <td>70.0</td>\n",
       "      <td>80.0</td>\n",
       "      <td>Assumed to be % of industrially processed whea...</td>\n",
       "      <td>0</td>\n",
       "    </tr>\n",
       "    <tr>\n",
       "      <th>999</th>\n",
       "      <td>-1</td>\n",
       "      <td>Viet Nam</td>\n",
       "      <td>wheat flour</td>\n",
       "      <td>percent of vehicle that is fortified</td>\n",
       "      <td>iron</td>\n",
       "      <td>NaN</td>\n",
       "      <td>35.0</td>\n",
       "      <td>40.0</td>\n",
       "      <td>Assumed to be % of industrially processed whea...</td>\n",
       "      <td>0</td>\n",
       "    </tr>\n",
       "  </tbody>\n",
       "</table>\n",
       "</div>"
      ],
      "text/plain": [
       "     location_id                location_name      vehicle  \\\n",
       "102           -1                 Burkina Faso  wheat flour   \n",
       "122           -1                Côte d'Ivoire  wheat flour   \n",
       "177           -1                     Cameroon  wheat flour   \n",
       "289           -1                        Ghana         rice   \n",
       "333           -1                        Ghana  wheat flour   \n",
       "447           -1                    Indonesia  wheat flour   \n",
       "527           -1                        Kenya  wheat flour   \n",
       "563           -1                   Mozambique  wheat flour   \n",
       "608           -1                        Niger  wheat flour   \n",
       "646           -1                      Nigeria         rice   \n",
       "704           -1                      Nigeria  wheat flour   \n",
       "743           -1                     Pakistan  wheat flour   \n",
       "825           -1                 South Africa  wheat flour   \n",
       "910           -1                       Uganda  wheat flour   \n",
       "967           -1  United Republic of Tanzania  wheat flour   \n",
       "999           -1                     Viet Nam  wheat flour   \n",
       "\n",
       "                                    value_description nutrient  value_mean  \\\n",
       "102              percent of vehicle that is fortified     iron         NaN   \n",
       "122              percent of vehicle that is fortified     iron         NaN   \n",
       "177              percent of vehicle that is fortified     iron         NaN   \n",
       "289  percent of vehicle that is industrially produced       na         NaN   \n",
       "333              percent of vehicle that is fortified     iron         NaN   \n",
       "447              percent of vehicle that is fortified     iron         NaN   \n",
       "527              percent of vehicle that is fortified     iron         NaN   \n",
       "563              percent of vehicle that is fortified     iron         NaN   \n",
       "608              percent of vehicle that is fortified     iron         NaN   \n",
       "646  percent of vehicle that is industrially produced       na         NaN   \n",
       "704              percent of vehicle that is fortified     iron         NaN   \n",
       "743              percent of vehicle that is fortified     iron         NaN   \n",
       "825              percent of vehicle that is fortified     iron         NaN   \n",
       "910              percent of vehicle that is fortified     iron         NaN   \n",
       "967              percent of vehicle that is fortified     iron         NaN   \n",
       "999              percent of vehicle that is fortified     iron         NaN   \n",
       "\n",
       "     value_025_percentile  value_975_percentile  \\\n",
       "102                   0.0                  10.0   \n",
       "122                  10.0                  40.0   \n",
       "177                   0.0                  10.0   \n",
       "289                  11.0                  23.0   \n",
       "333                  25.0                  35.0   \n",
       "447                  90.0                 100.0   \n",
       "527                  90.0                 100.0   \n",
       "563                  90.0                 100.0   \n",
       "608                   0.0                   0.0   \n",
       "646                  12.0                  24.0   \n",
       "704                  80.0                  90.0   \n",
       "743                   5.0                  10.0   \n",
       "825                  60.0                  80.0   \n",
       "910                  90.0                 100.0   \n",
       "967                  70.0                  80.0   \n",
       "999                  35.0                  40.0   \n",
       "\n",
       "                                                 notes  is_estimate  \n",
       "102  Assumed to be % of industrially processed whea...            0  \n",
       "122  Assumed to be % of industrially processed whea...            0  \n",
       "177  Assumed to be % of industrially processed whea...            0  \n",
       "289      % industrially milled, only a range was given            0  \n",
       "333  Assumed to be % of industrially processed whea...            0  \n",
       "447  Assumed to be % of industrially processed whea...            0  \n",
       "527  Assumed to be % of industrially processed whea...            0  \n",
       "563  Assumed to be % of industrially processed whea...            0  \n",
       "608  Assumed to be % of industrially processed whea...            0  \n",
       "646      % industrially milled, only a range was given            0  \n",
       "704  Assumed to be % of industrially processed whea...            0  \n",
       "743  Assumed to be % of industrially processed whea...            0  \n",
       "825  Assumed to be % of industrially processed whea...            0  \n",
       "910  Assumed to be % of industrially processed whea...            0  \n",
       "967  Assumed to be % of industrially processed whea...            0  \n",
       "999  Assumed to be % of industrially processed whea...            0  "
      ]
     },
     "execution_count": 14,
     "metadata": {},
     "output_type": "execute_result"
    }
   ],
   "source": [
    "#looks like we'll need to estimate mean here\n",
    "df.loc[df.value_mean.isna(),check_cols]"
   ]
  },
  {
   "cell_type": "code",
   "execution_count": 15,
   "metadata": {},
   "outputs": [],
   "source": [
    "df.loc[df.value_mean.isna(),'value_mean'] = df.loc[df.value_mean.isna(),['value_025_percentile','value_975_percentile']].mean(axis = 1)"
   ]
  },
  {
   "cell_type": "code",
   "execution_count": 16,
   "metadata": {},
   "outputs": [
    {
     "data": {
      "text/html": [
       "<div>\n",
       "<style scoped>\n",
       "    .dataframe tbody tr th:only-of-type {\n",
       "        vertical-align: middle;\n",
       "    }\n",
       "\n",
       "    .dataframe tbody tr th {\n",
       "        vertical-align: top;\n",
       "    }\n",
       "\n",
       "    .dataframe thead th {\n",
       "        text-align: right;\n",
       "    }\n",
       "</style>\n",
       "<table border=\"1\" class=\"dataframe\">\n",
       "  <thead>\n",
       "    <tr style=\"text-align: right;\">\n",
       "      <th></th>\n",
       "      <th>location_id</th>\n",
       "      <th>location_name</th>\n",
       "      <th>vehicle</th>\n",
       "      <th>value_description</th>\n",
       "      <th>nutrient</th>\n",
       "      <th>value_mean</th>\n",
       "      <th>value_025_percentile</th>\n",
       "      <th>value_975_percentile</th>\n",
       "      <th>notes</th>\n",
       "      <th>is_estimate</th>\n",
       "    </tr>\n",
       "  </thead>\n",
       "  <tbody>\n",
       "  </tbody>\n",
       "</table>\n",
       "</div>"
      ],
      "text/plain": [
       "Empty DataFrame\n",
       "Columns: [location_id, location_name, vehicle, value_description, nutrient, value_mean, value_025_percentile, value_975_percentile, notes, is_estimate]\n",
       "Index: []"
      ]
     },
     "execution_count": 16,
     "metadata": {},
     "output_type": "execute_result"
    }
   ],
   "source": [
    "df.loc[df.value_mean.isna(),check_cols]"
   ]
  },
  {
   "cell_type": "markdown",
   "metadata": {},
   "source": [
    "## location_name"
   ]
  },
  {
   "cell_type": "code",
   "execution_count": 17,
   "metadata": {},
   "outputs": [
    {
     "data": {
      "text/plain": [
       "array(['India', 'Angola', 'Bangladesh', 'Cameroon', 'Nigeria', 'Yemen',\n",
       "       'Pakistan', 'Burkina Faso', \"Côte d'Ivoire\", 'Indonesia', 'Uganda',\n",
       "       'United Republic of Tanzania', 'Ethiopia', 'China',\n",
       "       'Democratic Republic of the Congo', 'Egypt', 'Ghana', 'Niger',\n",
       "       'Sudan', 'Viet Nam', 'Kenya', 'Madagascar', 'Mozambique', 'Nepal',\n",
       "       'Myanmar', 'South Africa', 'Philippines'], dtype=object)"
      ]
     },
     "execution_count": 17,
     "metadata": {},
     "output_type": "execute_result"
    }
   ],
   "source": [
    "df.location_name.unique()"
   ]
  },
  {
   "cell_type": "code",
   "execution_count": 18,
   "metadata": {},
   "outputs": [],
   "source": [
    "relabel_location_name = {'India': 'India',\n",
    " 'Bangladesh': 'Bangladesh',\n",
    " 'Cameroon': 'Cameroon',\n",
    " 'Nigeria': 'Nigeria',\n",
    " 'Pakistan': 'Pakistan',\n",
    " 'Burkina Faso': 'Burkina Faso',\n",
    " \"CÃ´te d'Ivoire\": \"Côte d'Ivoire\",\n",
    " \"Côte d'Ivoire\":\"Côte d'Ivoire\",\n",
    " 'Uganda': 'Uganda',\n",
    " 'United Republic of Tanzania': 'United Republic of Tanzania',\n",
    " 'Ethiopia': 'Ethiopia',\n",
    " 'China': 'China',\n",
    " 'Indonesia': 'Indonesia',\n",
    " 'Democratic Republic of the Congo': 'Democratic Republic of the Congo',\n",
    " 'Kenya': 'Kenya',\n",
    " 'Egypt': 'Egypt',\n",
    " 'Niger': 'Niger',\n",
    " 'Philippines': 'Philippines',\n",
    " 'Ghana': 'Ghana',\n",
    " 'Afghanistan': 'Afghanistan',\n",
    " 'Viet Nam': 'Vietnam',\n",
    " 'Yemen': 'Yemen',\n",
    " 'Sudan': 'Sudan',\n",
    " 'Angola': 'Angola',\n",
    " 'Iraq':'Iraq',\n",
    " 'Madagascar': 'Madagascar',\n",
    " 'Mozambique': 'Mozambique',\n",
    " 'Nepal': 'Nepal',\n",
    " 'Myanmar': 'Myanmar',\n",
    " 'South Africa': 'South Africa'}"
   ]
  },
  {
   "cell_type": "code",
   "execution_count": 19,
   "metadata": {},
   "outputs": [],
   "source": [
    "df.location_name = df.location_name.map(relabel_location_name)"
   ]
  },
  {
   "cell_type": "code",
   "execution_count": 20,
   "metadata": {},
   "outputs": [],
   "source": [
    "## exclude countries the gates foundation had us drop (politically unstable or low rates of maternal and child anemia)\n",
    "excluded_countries = ['Afghanistan','Yemen','Philippines','Iraq']\n",
    "df = df[~df.location_name.isin(excluded_countries)]"
   ]
  },
  {
   "cell_type": "code",
   "execution_count": 21,
   "metadata": {},
   "outputs": [],
   "source": [
    "## clean country names\n",
    "assert df.location_name.nunique()==25, \"wrong number of countries\""
   ]
  },
  {
   "cell_type": "code",
   "execution_count": 22,
   "metadata": {},
   "outputs": [],
   "source": [
    "for i in df.location_name.unique():\n",
    "    if i not in countries:\n",
    "        print(i)\n",
    "    assert(i in countries)"
   ]
  },
  {
   "cell_type": "markdown",
   "metadata": {},
   "source": [
    "## vehicle"
   ]
  },
  {
   "cell_type": "code",
   "execution_count": 23,
   "metadata": {},
   "outputs": [
    {
     "data": {
      "text/plain": [
       "array(['oil', 'maize flour', 'wheat flour', 'salt', 'rice', 'bouillon',\n",
       "       'wheat '], dtype=object)"
      ]
     },
     "execution_count": 23,
     "metadata": {},
     "output_type": "execute_result"
    }
   ],
   "source": [
    "##this one looks fine\n",
    "df.vehicle.unique()"
   ]
  },
  {
   "cell_type": "markdown",
   "metadata": {},
   "source": [
    "## nutrient"
   ]
  },
  {
   "cell_type": "code",
   "execution_count": 24,
   "metadata": {},
   "outputs": [],
   "source": [
    "nutrient_map = {'vitamin a': 'vitamin a',\n",
    " 'na': 'na',\n",
    " 'iron': 'iron',\n",
    " 'folic acid, folate, b9': 'folic acid',\n",
    " 'b12': 'vitamin b12',\n",
    " 'iodine': 'iodine',\n",
    " 'b1, thiamine': 'vitamin b1',\n",
    " 'zinc': 'zinc',\n",
    " 'd, ergocalciferol-D2, cholecalciferol-D3, alfacalcidol': 'vitamin d',\n",
    " 'b2, riboflavin': 'vitamin b2',\n",
    " 'b3, niacin': 'vitamin b3',\n",
    " 'b6, pyridoxine': 'vitamin b6'}"
   ]
  },
  {
   "cell_type": "code",
   "execution_count": 25,
   "metadata": {},
   "outputs": [],
   "source": [
    "df.nutrient = df.nutrient.map(nutrient_map)"
   ]
  },
  {
   "cell_type": "code",
   "execution_count": 26,
   "metadata": {},
   "outputs": [],
   "source": [
    "# fill nans\n",
    "df['nutrient'] = df['nutrient'].fillna('na')"
   ]
  },
  {
   "cell_type": "markdown",
   "metadata": {},
   "source": [
    "## value_description"
   ]
  },
  {
   "cell_type": "code",
   "execution_count": 27,
   "metadata": {},
   "outputs": [
    {
     "data": {
      "text/plain": [
       "array(['percent of population eating fortified vehicle',\n",
       "       'percent of population eating industrially produced vehicle',\n",
       "       'percent of vehicle that is fortified',\n",
       "       'percent of vehicle that is industrially produced',\n",
       "       'percent of population eating vehicle',\n",
       "       'percent of marketshare of fortified products',\n",
       "       'percent of population eating adequately fortified vehicle'],\n",
       "      dtype=object)"
      ]
     },
     "execution_count": 27,
     "metadata": {},
     "output_type": "execute_result"
    }
   ],
   "source": [
    "df.value_description.unique()"
   ]
  },
  {
   "cell_type": "markdown",
   "metadata": {},
   "source": [
    "## eliminate country-vehicle and vehicle-nutrient pairs we're uninterested in"
   ]
  },
  {
   "cell_type": "code",
   "execution_count": 28,
   "metadata": {},
   "outputs": [],
   "source": [
    "country_vehicle_pairs = pd.DataFrame([(i,j) for i in countries for j in country_vehicle_map[i]], columns = ['location_name','vehicle'])"
   ]
  },
  {
   "cell_type": "code",
   "execution_count": 29,
   "metadata": {},
   "outputs": [],
   "source": [
    "vehicles = list(vehicle_nutrient_map.keys())\n",
    "vehicle_nutrient_pairs = pd.DataFrame([(i,j) for i in vehicles for j in vehicle_nutrient_map[i]], columns = ['vehicle','nutrient'])\n",
    "vehicle_nutrient_pairs = pd.concat([vehicle_nutrient_pairs, pd.DataFrame([(i,'na') for i in vehicles], columns = ['vehicle','nutrient'])])"
   ]
  },
  {
   "cell_type": "code",
   "execution_count": 30,
   "metadata": {},
   "outputs": [
    {
     "data": {
      "text/plain": [
       "[('salt', 'iodine'),\n",
       " ('salt', 'iodine'),\n",
       " ('salt', 'iodine'),\n",
       " ('salt', 'iodine'),\n",
       " ('salt', 'iodine'),\n",
       " ('salt', 'iodine'),\n",
       " ('salt', 'iodine'),\n",
       " ('salt', 'iodine'),\n",
       " ('wheat ', 'iron'),\n",
       " ('wheat ', 'folic acid'),\n",
       " ('wheat ', 'zinc'),\n",
       " ('salt', 'iodine'),\n",
       " ('wheat ', 'na'),\n",
       " ('rice', 'vitamin a'),\n",
       " ('salt', 'iodine'),\n",
       " ('salt', 'iodine'),\n",
       " ('salt', 'iodine'),\n",
       " ('salt', 'iodine'),\n",
       " ('salt', 'iodine'),\n",
       " ('salt', 'iodine'),\n",
       " ('salt', 'iodine'),\n",
       " ('salt', 'iodine'),\n",
       " ('salt', 'iodine'),\n",
       " ('wheat ', 'iron'),\n",
       " ('wheat ', 'zinc'),\n",
       " ('wheat ', 'folic acid'),\n",
       " ('wheat ', 'iron'),\n",
       " ('wheat ', 'zinc'),\n",
       " ('wheat ', 'folic acid'),\n",
       " ('wheat ', 'na'),\n",
       " ('salt', 'iodine'),\n",
       " ('salt', 'iodine'),\n",
       " ('wheat ', 'iron'),\n",
       " ('wheat ', 'folic acid'),\n",
       " ('wheat ', 'zinc'),\n",
       " ('wheat ', 'na')]"
      ]
     },
     "execution_count": 30,
     "metadata": {},
     "output_type": "execute_result"
    }
   ],
   "source": [
    "# check what we're removing\n",
    "test = df.merge(vehicle_nutrient_pairs, on = ['vehicle','nutrient'], how = 'right')\n",
    "[(i,j) for (i,j) in zip(df.vehicle,df.nutrient) if (i,j) not in zip(test.vehicle,test.nutrient)]"
   ]
  },
  {
   "cell_type": "code",
   "execution_count": 31,
   "metadata": {},
   "outputs": [],
   "source": [
    "df = df.merge(country_vehicle_pairs, on = ['location_name','vehicle'], how = 'right') #should this be inner?"
   ]
  },
  {
   "cell_type": "code",
   "execution_count": 32,
   "metadata": {},
   "outputs": [],
   "source": [
    "df = df.merge(vehicle_nutrient_pairs, on = ['vehicle','nutrient'], how = 'right')"
   ]
  },
  {
   "cell_type": "code",
   "execution_count": 33,
   "metadata": {},
   "outputs": [],
   "source": [
    "#drop all NaN-only rows\n",
    "df = df.loc[~((df.value_mean.isna())&(df.value_025_percentile.isna())&(df.value_975_percentile.isna()))]"
   ]
  },
  {
   "cell_type": "markdown",
   "metadata": {},
   "source": [
    "## clean illegal value-nutrient combos"
   ]
  },
  {
   "cell_type": "code",
   "execution_count": 34,
   "metadata": {},
   "outputs": [],
   "source": [
    "nutrient_irrelevant_vds = ['percent of population eating industrially produced vehicle',\n",
    "       'percent of population eating vehicle',\n",
    "       'percent of vehicle that is industrially produced',\n",
    "       'percent of marketshare of fortified products']\n",
    "\n",
    "nutrient_relevant_vds = ['percent of population eating fortified vehicle',\n",
    "       'percent of vehicle that is fortified',\n",
    "       'percent of marketshare of fortified products']"
   ]
  },
  {
   "cell_type": "code",
   "execution_count": 35,
   "metadata": {},
   "outputs": [
    {
     "data": {
      "text/plain": [
       "array(['vitamin a', 'na', 'vitamin d', 'iron', 'folic acid', 'zinc',\n",
       "       'vitamin b1', 'vitamin b12'], dtype=object)"
      ]
     },
     "execution_count": 35,
     "metadata": {},
     "output_type": "execute_result"
    }
   ],
   "source": [
    "df.nutrient.unique()"
   ]
  },
  {
   "cell_type": "code",
   "execution_count": 36,
   "metadata": {},
   "outputs": [
    {
     "data": {
      "text/html": [
       "<div>\n",
       "<style scoped>\n",
       "    .dataframe tbody tr th:only-of-type {\n",
       "        vertical-align: middle;\n",
       "    }\n",
       "\n",
       "    .dataframe tbody tr th {\n",
       "        vertical-align: top;\n",
       "    }\n",
       "\n",
       "    .dataframe thead th {\n",
       "        text-align: right;\n",
       "    }\n",
       "</style>\n",
       "<table border=\"1\" class=\"dataframe\">\n",
       "  <thead>\n",
       "    <tr style=\"text-align: right;\">\n",
       "      <th></th>\n",
       "      <th>location_id</th>\n",
       "      <th>location_name</th>\n",
       "      <th>vehicle</th>\n",
       "      <th>value_description</th>\n",
       "      <th>nutrient</th>\n",
       "      <th>value_mean</th>\n",
       "      <th>value_025_percentile</th>\n",
       "      <th>value_975_percentile</th>\n",
       "      <th>notes</th>\n",
       "      <th>is_estimate</th>\n",
       "    </tr>\n",
       "  </thead>\n",
       "  <tbody>\n",
       "    <tr>\n",
       "      <th>31</th>\n",
       "      <td>-1.0</td>\n",
       "      <td>Côte d'Ivoire</td>\n",
       "      <td>oil</td>\n",
       "      <td>percent of marketshare of fortified products</td>\n",
       "      <td>vitamin a</td>\n",
       "      <td>89.0</td>\n",
       "      <td>NaN</td>\n",
       "      <td>NaN</td>\n",
       "      <td>NaN</td>\n",
       "      <td>0.0</td>\n",
       "    </tr>\n",
       "  </tbody>\n",
       "</table>\n",
       "</div>"
      ],
      "text/plain": [
       "    location_id  location_name vehicle  \\\n",
       "31         -1.0  Côte d'Ivoire     oil   \n",
       "\n",
       "                               value_description   nutrient  value_mean  \\\n",
       "31  percent of marketshare of fortified products  vitamin a        89.0   \n",
       "\n",
       "    value_025_percentile  value_975_percentile notes  is_estimate  \n",
       "31                   NaN                   NaN   NaN          0.0  "
      ]
     },
     "execution_count": 36,
     "metadata": {},
     "output_type": "execute_result"
    }
   ],
   "source": [
    "df.loc[(df.value_description.isin(nutrient_irrelevant_vds))&(df.nutrient!='na'),check_cols]"
   ]
  },
  {
   "cell_type": "code",
   "execution_count": 37,
   "metadata": {},
   "outputs": [],
   "source": [
    "# relabel nutrients for rows for which nutrient doesn't apply\n",
    "df.loc[(df.value_description.isin(nutrient_irrelevant_vds))&(df.nutrient!='na'),'nutrient'] = 'na'"
   ]
  },
  {
   "cell_type": "code",
   "execution_count": 38,
   "metadata": {},
   "outputs": [
    {
     "data": {
      "text/html": [
       "<div>\n",
       "<style scoped>\n",
       "    .dataframe tbody tr th:only-of-type {\n",
       "        vertical-align: middle;\n",
       "    }\n",
       "\n",
       "    .dataframe tbody tr th {\n",
       "        vertical-align: top;\n",
       "    }\n",
       "\n",
       "    .dataframe thead th {\n",
       "        text-align: right;\n",
       "    }\n",
       "</style>\n",
       "<table border=\"1\" class=\"dataframe\">\n",
       "  <thead>\n",
       "    <tr style=\"text-align: right;\">\n",
       "      <th></th>\n",
       "      <th>location_id</th>\n",
       "      <th>location_name</th>\n",
       "      <th>vehicle</th>\n",
       "      <th>value_description</th>\n",
       "      <th>nutrient</th>\n",
       "      <th>value_mean</th>\n",
       "      <th>value_025_percentile</th>\n",
       "      <th>value_975_percentile</th>\n",
       "      <th>notes</th>\n",
       "      <th>is_estimate</th>\n",
       "      <th>user</th>\n",
       "    </tr>\n",
       "  </thead>\n",
       "  <tbody>\n",
       "    <tr>\n",
       "      <th>31</th>\n",
       "      <td>-1.0</td>\n",
       "      <td>Côte d'Ivoire</td>\n",
       "      <td>oil</td>\n",
       "      <td>percent of marketshare of fortified products</td>\n",
       "      <td>na</td>\n",
       "      <td>89.0</td>\n",
       "      <td>NaN</td>\n",
       "      <td>NaN</td>\n",
       "      <td>NaN</td>\n",
       "      <td>0.0</td>\n",
       "      <td>paulina</td>\n",
       "    </tr>\n",
       "    <tr>\n",
       "      <th>817</th>\n",
       "      <td>-1.0</td>\n",
       "      <td>India</td>\n",
       "      <td>salt</td>\n",
       "      <td>percent of population eating fortified vehicle</td>\n",
       "      <td>na</td>\n",
       "      <td>87.4</td>\n",
       "      <td>NaN</td>\n",
       "      <td>NaN</td>\n",
       "      <td>Households were defined as one person living a...</td>\n",
       "      <td>0.0</td>\n",
       "      <td>paulina</td>\n",
       "    </tr>\n",
       "    <tr>\n",
       "      <th>821</th>\n",
       "      <td>-1.0</td>\n",
       "      <td>India</td>\n",
       "      <td>salt</td>\n",
       "      <td>percent of population eating fortified vehicle</td>\n",
       "      <td>na</td>\n",
       "      <td>87.4</td>\n",
       "      <td>NaN</td>\n",
       "      <td>NaN</td>\n",
       "      <td>Households were defined as one person living a...</td>\n",
       "      <td>0.0</td>\n",
       "      <td>paulina</td>\n",
       "    </tr>\n",
       "  </tbody>\n",
       "</table>\n",
       "</div>"
      ],
      "text/plain": [
       "     location_id  location_name vehicle  \\\n",
       "31          -1.0  Côte d'Ivoire     oil   \n",
       "817         -1.0          India    salt   \n",
       "821         -1.0          India    salt   \n",
       "\n",
       "                                  value_description nutrient  value_mean  \\\n",
       "31     percent of marketshare of fortified products       na        89.0   \n",
       "817  percent of population eating fortified vehicle       na        87.4   \n",
       "821  percent of population eating fortified vehicle       na        87.4   \n",
       "\n",
       "     value_025_percentile  value_975_percentile  \\\n",
       "31                    NaN                   NaN   \n",
       "817                   NaN                   NaN   \n",
       "821                   NaN                   NaN   \n",
       "\n",
       "                                                 notes  is_estimate     user  \n",
       "31                                                 NaN          0.0  paulina  \n",
       "817  Households were defined as one person living a...          0.0  paulina  \n",
       "821  Households were defined as one person living a...          0.0  paulina  "
      ]
     },
     "execution_count": 38,
     "metadata": {},
     "output_type": "execute_result"
    }
   ],
   "source": [
    "# these need to be re extracted; for now we'll drop them\n",
    "df.loc[(df.value_description.isin(nutrient_relevant_vds)) & (df.nutrient=='na'),check_cols + ['user']].sort_values(['user','location_name'])"
   ]
  },
  {
   "cell_type": "code",
   "execution_count": 39,
   "metadata": {},
   "outputs": [],
   "source": [
    "# drop rows that need nutrient filled in\n",
    "df = df.loc[~((df.value_description.isin(nutrient_relevant_vds)) & (df.nutrient=='na')),]"
   ]
  },
  {
   "cell_type": "code",
   "execution_count": 40,
   "metadata": {},
   "outputs": [],
   "source": [
    "# format vars\n",
    "df.location_id = df.location_id.fillna(-1).astype(int)\n",
    "df.location_name = df.location_name.astype(str)\n",
    "df.vehicle = df.vehicle.astype(str)\n",
    "df.value_description = df.value_description.astype(str)\n",
    "\n",
    "df.value_mean = df.value_mean.mask(df.value_mean.isin(['na',np.nan,-1,'unknown']), np.nan).astype(float)\n",
    "df.value_025_percentile = df.value_025_percentile.mask(df.value_025_percentile.isin(['na',np.nan,-1,'unknown']), np.nan).astype(float)\n",
    "df.value_975_percentile = df.value_975_percentile.mask(df.value_975_percentile.isin(['na',np.nan,-1,'unknown']), np.nan).astype(float)"
   ]
  },
  {
   "cell_type": "code",
   "execution_count": 41,
   "metadata": {},
   "outputs": [],
   "source": [
    "## TODO: fix df.loc[df.location_id==-1,]"
   ]
  },
  {
   "cell_type": "markdown",
   "metadata": {},
   "source": [
    "## save "
   ]
  },
  {
   "cell_type": "code",
   "execution_count": 42,
   "metadata": {},
   "outputs": [],
   "source": [
    "save_path = '/ihme/homes/beatrixh/vivarium_research_lsff/data_prep/outputs/lsff_data_stage0_3_11_2021.csv'\n",
    "df.to_csv(save_path, index = False)"
   ]
  },
  {
   "cell_type": "code",
   "execution_count": null,
   "metadata": {},
   "outputs": [],
   "source": []
  }
 ],
 "metadata": {
  "kernelspec": {
   "display_name": "Python 3",
   "language": "python",
   "name": "python3"
  },
  "language_info": {
   "codemirror_mode": {
    "name": "ipython",
    "version": 3
   },
   "file_extension": ".py",
   "mimetype": "text/x-python",
   "name": "python",
   "nbconvert_exporter": "python",
   "pygments_lexer": "ipython3",
   "version": "3.7.0"
  }
 },
 "nbformat": 4,
 "nbformat_minor": 4
}
