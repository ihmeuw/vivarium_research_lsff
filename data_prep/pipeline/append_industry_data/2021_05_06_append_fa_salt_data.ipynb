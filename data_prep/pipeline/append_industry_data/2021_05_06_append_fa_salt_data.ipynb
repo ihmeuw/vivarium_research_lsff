{
 "cells": [
  {
   "cell_type": "code",
   "execution_count": 1,
   "id": "ae953f5c",
   "metadata": {},
   "outputs": [],
   "source": [
    "import pandas as pd, numpy as np"
   ]
  },
  {
   "cell_type": "code",
   "execution_count": 2,
   "id": "d7210201",
   "metadata": {},
   "outputs": [],
   "source": [
    "path_4_16 = '/ihme/homes/beatrixh/vivarium_research_lsff/data_prep/outputs/final_input_coverage_data_with_citations.csv'\n",
    "\n",
    "df = pd.read_csv(path_4_16)"
   ]
  },
  {
   "cell_type": "code",
   "execution_count": 3,
   "id": "0789d809",
   "metadata": {},
   "outputs": [],
   "source": [
    "salt_path = '/ihme/homes/beatrixh/vivarium_research_lsff/data_prep/inputs/HHIS_from_jonathan_4_13.csv'\n",
    "salt = pd.read_csv(salt_path, encoding='iso-8859-1')"
   ]
  },
  {
   "cell_type": "code",
   "execution_count": 4,
   "id": "81d6e3c9",
   "metadata": {},
   "outputs": [
    {
     "data": {
      "text/plain": [
       "array(['regression', 'na', 'multiplicative', 'lack of evidence',\n",
       "       'multiplicative + rejection sampling', 'na + rejection sampling',\n",
       "       'regression + rejection sampling', nan], dtype=object)"
      ]
     },
     "execution_count": 4,
     "metadata": {},
     "output_type": "execute_result"
    }
   ],
   "source": [
    "df.estimation_status.unique()"
   ]
  },
  {
   "cell_type": "code",
   "execution_count": 5,
   "id": "0de01f61",
   "metadata": {},
   "outputs": [
    {
     "data": {
      "text/plain": [
       "array(['percent of population eating vehicle',\n",
       "       'percent of population eating industrially produced vehicle',\n",
       "       'percent of population eating fortified vehicle'], dtype=object)"
      ]
     },
     "execution_count": 5,
     "metadata": {},
     "output_type": "execute_result"
    }
   ],
   "source": [
    "df.value_description.unique()"
   ]
  },
  {
   "cell_type": "code",
   "execution_count": 6,
   "id": "02fc517f",
   "metadata": {},
   "outputs": [
    {
     "data": {
      "text/plain": [
       "Index(['location_id', 'location_name', 'sub_population', 'vehicle',\n",
       "       'value_description', 'nutrient', 'value_mean', 'value_025_percentile',\n",
       "       'value_975_percentile', 'u5_applicable', 'wra_applicable',\n",
       "       'estimation_status', 'source_citation', 'source_link', 'CI_source',\n",
       "       'data_choice_notes'],\n",
       "      dtype='object')"
      ]
     },
     "execution_count": 6,
     "metadata": {},
     "output_type": "execute_result"
    }
   ],
   "source": [
    "df.columns"
   ]
  },
  {
   "cell_type": "code",
   "execution_count": 7,
   "id": "dc7194d0",
   "metadata": {},
   "outputs": [],
   "source": [
    "loc_id_dict = {j:i for (i,j) in zip(df.location_id,df.location_name)}"
   ]
  },
  {
   "cell_type": "code",
   "execution_count": 8,
   "id": "47173a27",
   "metadata": {},
   "outputs": [],
   "source": [
    "salt['location_id'] = salt.location_name.map(loc_id_dict)\n",
    "salt['estimation_status'] = \"na\" "
   ]
  },
  {
   "cell_type": "code",
   "execution_count": 9,
   "id": "d6499186",
   "metadata": {},
   "outputs": [
    {
     "data": {
      "text/plain": [
       "Index(['location_name', 'vehicle', 'nutrient', 'value_description',\n",
       "       'value_mean', 'u5_applicable', 'wra_applicable', 'source_link',\n",
       "       'source_citation', 'data_choice_notes', 'location_id',\n",
       "       'estimation_status'],\n",
       "      dtype='object')"
      ]
     },
     "execution_count": 9,
     "metadata": {},
     "output_type": "execute_result"
    }
   ],
   "source": [
    "salt.columns"
   ]
  },
  {
   "cell_type": "code",
   "execution_count": 10,
   "id": "2d930d61",
   "metadata": {
    "scrolled": true
   },
   "outputs": [
    {
     "data": {
      "text/html": [
       "<div>\n",
       "<style scoped>\n",
       "    .dataframe tbody tr th:only-of-type {\n",
       "        vertical-align: middle;\n",
       "    }\n",
       "\n",
       "    .dataframe tbody tr th {\n",
       "        vertical-align: top;\n",
       "    }\n",
       "\n",
       "    .dataframe thead th {\n",
       "        text-align: right;\n",
       "    }\n",
       "</style>\n",
       "<table border=\"1\" class=\"dataframe\">\n",
       "  <thead>\n",
       "    <tr style=\"text-align: right;\">\n",
       "      <th></th>\n",
       "      <th>location_name</th>\n",
       "      <th>vehicle</th>\n",
       "      <th>nutrient</th>\n",
       "      <th>value_description</th>\n",
       "      <th>value_mean</th>\n",
       "      <th>u5_applicable</th>\n",
       "      <th>wra_applicable</th>\n",
       "      <th>source_link</th>\n",
       "      <th>source_citation</th>\n",
       "      <th>data_choice_notes</th>\n",
       "      <th>location_id</th>\n",
       "      <th>estimation_status</th>\n",
       "    </tr>\n",
       "  </thead>\n",
       "  <tbody>\n",
       "    <tr>\n",
       "      <th>0</th>\n",
       "      <td>Angola</td>\n",
       "      <td>salt</td>\n",
       "      <td>iodine</td>\n",
       "      <td>percent of population eating fortified vehicle</td>\n",
       "      <td>92.6</td>\n",
       "      <td>True</td>\n",
       "      <td>True</td>\n",
       "      <td>https://data.unicef.org/resources/dataset/iodi...</td>\n",
       "      <td>UNICEF global databse on Household Consumption...</td>\n",
       "      <td>Only one data source; sent by BMGF nutrition t...</td>\n",
       "      <td>168</td>\n",
       "      <td>na</td>\n",
       "    </tr>\n",
       "    <tr>\n",
       "      <th>1</th>\n",
       "      <td>Bangladesh</td>\n",
       "      <td>salt</td>\n",
       "      <td>iodine</td>\n",
       "      <td>percent of population eating fortified vehicle</td>\n",
       "      <td>79.7</td>\n",
       "      <td>True</td>\n",
       "      <td>True</td>\n",
       "      <td>https://data.unicef.org/resources/dataset/iodi...</td>\n",
       "      <td>UNICEF global databse on Household Consumption...</td>\n",
       "      <td>Only one data source; sent by BMGF nutrition t...</td>\n",
       "      <td>161</td>\n",
       "      <td>na</td>\n",
       "    </tr>\n",
       "    <tr>\n",
       "      <th>2</th>\n",
       "      <td>Burkina Faso</td>\n",
       "      <td>salt</td>\n",
       "      <td>iodine</td>\n",
       "      <td>percent of population eating fortified vehicle</td>\n",
       "      <td>85.6</td>\n",
       "      <td>True</td>\n",
       "      <td>True</td>\n",
       "      <td>https://data.unicef.org/resources/dataset/iodi...</td>\n",
       "      <td>UNICEF global databse on Household Consumption...</td>\n",
       "      <td>Only one data source; sent by BMGF nutrition t...</td>\n",
       "      <td>201</td>\n",
       "      <td>na</td>\n",
       "    </tr>\n",
       "    <tr>\n",
       "      <th>3</th>\n",
       "      <td>Côte d'Ivoire</td>\n",
       "      <td>salt</td>\n",
       "      <td>iodine</td>\n",
       "      <td>percent of population eating fortified vehicle</td>\n",
       "      <td>42.5</td>\n",
       "      <td>True</td>\n",
       "      <td>True</td>\n",
       "      <td>https://data.unicef.org/resources/dataset/iodi...</td>\n",
       "      <td>UNICEF global databse on Household Consumption...</td>\n",
       "      <td>Only one data source; sent by BMGF nutrition t...</td>\n",
       "      <td>205</td>\n",
       "      <td>na</td>\n",
       "    </tr>\n",
       "    <tr>\n",
       "      <th>4</th>\n",
       "      <td>Cameroon</td>\n",
       "      <td>salt</td>\n",
       "      <td>iodine</td>\n",
       "      <td>percent of population eating fortified vehicle</td>\n",
       "      <td>68.4</td>\n",
       "      <td>True</td>\n",
       "      <td>True</td>\n",
       "      <td>https://data.unicef.org/resources/dataset/iodi...</td>\n",
       "      <td>UNICEF global databse on Household Consumption...</td>\n",
       "      <td>Only one data source; sent by BMGF nutrition t...</td>\n",
       "      <td>202</td>\n",
       "      <td>na</td>\n",
       "    </tr>\n",
       "  </tbody>\n",
       "</table>\n",
       "</div>"
      ],
      "text/plain": [
       "   location_name vehicle nutrient  \\\n",
       "0         Angola    salt   iodine   \n",
       "1     Bangladesh    salt   iodine   \n",
       "2   Burkina Faso    salt   iodine   \n",
       "3  Côte d'Ivoire    salt   iodine   \n",
       "4       Cameroon    salt   iodine   \n",
       "\n",
       "                                value_description  value_mean  u5_applicable  \\\n",
       "0  percent of population eating fortified vehicle        92.6           True   \n",
       "1  percent of population eating fortified vehicle        79.7           True   \n",
       "2  percent of population eating fortified vehicle        85.6           True   \n",
       "3  percent of population eating fortified vehicle        42.5           True   \n",
       "4  percent of population eating fortified vehicle        68.4           True   \n",
       "\n",
       "   wra_applicable                                        source_link  \\\n",
       "0            True  https://data.unicef.org/resources/dataset/iodi...   \n",
       "1            True  https://data.unicef.org/resources/dataset/iodi...   \n",
       "2            True  https://data.unicef.org/resources/dataset/iodi...   \n",
       "3            True  https://data.unicef.org/resources/dataset/iodi...   \n",
       "4            True  https://data.unicef.org/resources/dataset/iodi...   \n",
       "\n",
       "                                     source_citation  \\\n",
       "0  UNICEF global databse on Household Consumption...   \n",
       "1  UNICEF global databse on Household Consumption...   \n",
       "2  UNICEF global databse on Household Consumption...   \n",
       "3  UNICEF global databse on Household Consumption...   \n",
       "4  UNICEF global databse on Household Consumption...   \n",
       "\n",
       "                                   data_choice_notes  location_id  \\\n",
       "0  Only one data source; sent by BMGF nutrition t...          168   \n",
       "1  Only one data source; sent by BMGF nutrition t...          161   \n",
       "2  Only one data source; sent by BMGF nutrition t...          201   \n",
       "3  Only one data source; sent by BMGF nutrition t...          205   \n",
       "4  Only one data source; sent by BMGF nutrition t...          202   \n",
       "\n",
       "  estimation_status  \n",
       "0                na  \n",
       "1                na  \n",
       "2                na  \n",
       "3                na  \n",
       "4                na  "
      ]
     },
     "execution_count": 10,
     "metadata": {},
     "output_type": "execute_result"
    }
   ],
   "source": [
    "salt.head()"
   ]
  },
  {
   "cell_type": "code",
   "execution_count": 11,
   "id": "5df57db2",
   "metadata": {},
   "outputs": [],
   "source": [
    "fortifiable_salt = salt.copy()\n",
    "\n",
    "fortifiable_salt['source_citation'] = np.nan\n",
    "fortifiable_salt['source_link'] = np.nan\n",
    "fortifiable_salt['data_choice_notes'] = \"Value requested by BMGF nutrition team; 4/13 email\"\n",
    "fortifiable_salt['value_mean'] = 100\n",
    "fortifiable_salt['value_description'] = 'percent of population eating fortifiable vehilce'\n",
    "fortifiable_salt['nutrient'] = np.nan"
   ]
  },
  {
   "cell_type": "code",
   "execution_count": 12,
   "id": "6978520d",
   "metadata": {},
   "outputs": [],
   "source": [
    "eats_salt = fortifiable_salt.copy()\n",
    "eats_salt['value_description'] = 'percent of population eating vehicle'"
   ]
  },
  {
   "cell_type": "code",
   "execution_count": null,
   "id": "4b6b289e",
   "metadata": {},
   "outputs": [],
   "source": []
  },
  {
   "cell_type": "code",
   "execution_count": 13,
   "id": "261c7129",
   "metadata": {},
   "outputs": [
    {
     "name": "stderr",
     "output_type": "stream",
     "text": [
      "/ihme/homes/beatrixh/.local/lib/python3.7/site-packages/ipykernel_launcher.py:1: FutureWarning: Sorting because non-concatenation axis is not aligned. A future version\n",
      "of pandas will change to not sort by default.\n",
      "\n",
      "To accept the future behavior, pass 'sort=False'.\n",
      "\n",
      "To retain the current behavior and silence the warning, pass 'sort=True'.\n",
      "\n",
      "  \"\"\"Entry point for launching an IPython kernel.\n"
     ]
    }
   ],
   "source": [
    "final = pd.concat([df, salt, fortifiable_salt, eats_salt])[df.columns]"
   ]
  },
  {
   "cell_type": "code",
   "execution_count": 14,
   "id": "67ff6daa",
   "metadata": {},
   "outputs": [],
   "source": [
    "final.loc[(final.estimation_status.isna()),'estimation_status'] = 'na'"
   ]
  },
  {
   "cell_type": "code",
   "execution_count": 18,
   "id": "8d122bf6",
   "metadata": {},
   "outputs": [
    {
     "data": {
      "text/plain": [
       "array(['na', 'regression', 'multiplicative',\n",
       "       'multiplicative + rejection sampling', 'lack of evidence',\n",
       "       'regression + rejection sampling', 'na + rejection sampling'],\n",
       "      dtype=object)"
      ]
     },
     "execution_count": 18,
     "metadata": {},
     "output_type": "execute_result"
    }
   ],
   "source": [
    "final.estimation_status.unique()"
   ]
  },
  {
   "cell_type": "code",
   "execution_count": 15,
   "id": "473b1b8c",
   "metadata": {},
   "outputs": [],
   "source": [
    "final = final.sort_values(['vehicle','value_description','nutrient'])"
   ]
  },
  {
   "cell_type": "code",
   "execution_count": 17,
   "id": "d1837307",
   "metadata": {},
   "outputs": [],
   "source": [
    "final.to_csv('/ihme/homes/beatrixh/vivarium_research_lsff/data_prep/outputs/final_data_deliverables/04_19_21_final_results_input_data.csv', index = False)"
   ]
  },
  {
   "cell_type": "code",
   "execution_count": null,
   "id": "67e40257",
   "metadata": {},
   "outputs": [],
   "source": []
  }
 ],
 "metadata": {
  "kernelspec": {
   "display_name": "Python 3",
   "language": "python",
   "name": "python3"
  },
  "language_info": {
   "codemirror_mode": {
    "name": "ipython",
    "version": 3
   },
   "file_extension": ".py",
   "mimetype": "text/x-python",
   "name": "python",
   "nbconvert_exporter": "python",
   "pygments_lexer": "ipython3",
   "version": "3.7.10"
  }
 },
 "nbformat": 4,
 "nbformat_minor": 5
}
