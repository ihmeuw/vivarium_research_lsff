{
 "cells": [
  {
   "cell_type": "code",
   "execution_count": 1,
   "metadata": {},
   "outputs": [],
   "source": [
    "from db_queries import get_population, get_ids\n",
    "from db_queries import get_location_metadata as get_locs"
   ]
  },
  {
   "cell_type": "code",
   "execution_count": 2,
   "metadata": {},
   "outputs": [],
   "source": [
    "import pandas as pd, numpy as np"
   ]
  },
  {
   "cell_type": "markdown",
   "metadata": {},
   "source": [
    "# LSFF: choose population coverage data by hand for tier 2 countries"
   ]
  },
  {
   "cell_type": "markdown",
   "metadata": {},
   "source": [
    "## vehicles: Wheat flour, maize flour, oil"
   ]
  },
  {
   "cell_type": "markdown",
   "metadata": {},
   "source": [
    "## countries: Bangladesh, Pakistan, United Republic of Tanzania, Uganda, South Africa"
   ]
  },
  {
   "cell_type": "code",
   "execution_count": 3,
   "metadata": {},
   "outputs": [],
   "source": [
    "nutrients = ['iron','zinc','folic acid','vitamin a']"
   ]
  },
  {
   "cell_type": "code",
   "execution_count": 4,
   "metadata": {},
   "outputs": [],
   "source": [
    "data_path = '/ihme/homes/beatrixh/vivarium_research_lsff/data_prep/inputs/extraction_sheet_lsff_03_16_2021.csv'\n",
    "assm_path = '/ihme/homes/beatrixh/vivarium_research_lsff/data_prep/inputs/extraction_sheet_lsff_assumed_coverage_03_11_2021.csv'\n",
    "\n",
    "df = pd.read_csv(data_path)"
   ]
  },
  {
   "cell_type": "code",
   "execution_count": 5,
   "metadata": {},
   "outputs": [],
   "source": [
    "df.loc[df.nutrient==\"folic acid, folate, b9\",'nutrient']= 'folic acid'"
   ]
  },
  {
   "cell_type": "code",
   "execution_count": 6,
   "metadata": {},
   "outputs": [],
   "source": [
    "assum = pd.read_csv(assm_path)"
   ]
  },
  {
   "cell_type": "code",
   "execution_count": 7,
   "metadata": {},
   "outputs": [
    {
     "data": {
      "text/plain": [
       "array(['Ethiopia', 'Myanmar', 'India'], dtype=object)"
      ]
     },
     "execution_count": 7,
     "metadata": {},
     "output_type": "execute_result"
    }
   ],
   "source": [
    "# don't need to deal with this for tier2\n",
    "assum.location_name.unique()"
   ]
  },
  {
   "cell_type": "code",
   "execution_count": 8,
   "metadata": {},
   "outputs": [],
   "source": [
    "df['estimation_status'] = 'na'"
   ]
  },
  {
   "cell_type": "code",
   "execution_count": 9,
   "metadata": {},
   "outputs": [],
   "source": [
    "df['data_choice_notes'] = \"\""
   ]
  },
  {
   "cell_type": "code",
   "execution_count": 10,
   "metadata": {},
   "outputs": [],
   "source": [
    "mult_estimates_path = '/ihme/homes/beatrixh/vivarium_research_lsff/data_prep/outputs/lsff_data_estimated_03_11_2021.csv'\n",
    "\n",
    "mult_estimates = pd.read_csv(mult_estimates_path)"
   ]
  },
  {
   "cell_type": "code",
   "execution_count": 11,
   "metadata": {},
   "outputs": [
    {
     "data": {
      "text/html": [
       "<div>\n",
       "<style scoped>\n",
       "    .dataframe tbody tr th:only-of-type {\n",
       "        vertical-align: middle;\n",
       "    }\n",
       "\n",
       "    .dataframe tbody tr th {\n",
       "        vertical-align: top;\n",
       "    }\n",
       "\n",
       "    .dataframe thead th {\n",
       "        text-align: right;\n",
       "    }\n",
       "</style>\n",
       "<table border=\"1\" class=\"dataframe\">\n",
       "  <thead>\n",
       "    <tr style=\"text-align: right;\">\n",
       "      <th></th>\n",
       "      <th>location_name</th>\n",
       "      <th>vehicle</th>\n",
       "      <th>nutrient</th>\n",
       "      <th>standard</th>\n",
       "      <th>A</th>\n",
       "      <th>B</th>\n",
       "      <th>B_estimate</th>\n",
       "      <th>C</th>\n",
       "      <th>C_estimate</th>\n",
       "    </tr>\n",
       "  </thead>\n",
       "  <tbody>\n",
       "    <tr>\n",
       "      <th>255</th>\n",
       "      <td>Pakistan</td>\n",
       "      <td>wheat flour</td>\n",
       "      <td>iron</td>\n",
       "      <td>Mandatory in Punjab only</td>\n",
       "      <td>97.333333</td>\n",
       "      <td>48.666667</td>\n",
       "      <td>0.0</td>\n",
       "      <td>5.333333</td>\n",
       "      <td>0.0</td>\n",
       "    </tr>\n",
       "    <tr>\n",
       "      <th>256</th>\n",
       "      <td>Pakistan</td>\n",
       "      <td>wheat flour</td>\n",
       "      <td>folic acid</td>\n",
       "      <td>Mandatory in Punjab only</td>\n",
       "      <td>97.333333</td>\n",
       "      <td>48.666667</td>\n",
       "      <td>0.0</td>\n",
       "      <td>1.946667</td>\n",
       "      <td>1.0</td>\n",
       "    </tr>\n",
       "    <tr>\n",
       "      <th>257</th>\n",
       "      <td>Pakistan</td>\n",
       "      <td>wheat flour</td>\n",
       "      <td>zinc</td>\n",
       "      <td>Unknown</td>\n",
       "      <td>97.333333</td>\n",
       "      <td>48.666667</td>\n",
       "      <td>0.0</td>\n",
       "      <td>1.946667</td>\n",
       "      <td>1.0</td>\n",
       "    </tr>\n",
       "    <tr>\n",
       "      <th>258</th>\n",
       "      <td>Pakistan</td>\n",
       "      <td>wheat flour</td>\n",
       "      <td>vitamin b12</td>\n",
       "      <td>Unknown</td>\n",
       "      <td>97.333333</td>\n",
       "      <td>48.666667</td>\n",
       "      <td>0.0</td>\n",
       "      <td>1.946667</td>\n",
       "      <td>1.0</td>\n",
       "    </tr>\n",
       "    <tr>\n",
       "      <th>259</th>\n",
       "      <td>Pakistan</td>\n",
       "      <td>wheat flour</td>\n",
       "      <td>vitamin b1</td>\n",
       "      <td>Unknown</td>\n",
       "      <td>97.333333</td>\n",
       "      <td>48.666667</td>\n",
       "      <td>0.0</td>\n",
       "      <td>0.000000</td>\n",
       "      <td>1.0</td>\n",
       "    </tr>\n",
       "    <tr>\n",
       "      <th>260</th>\n",
       "      <td>Pakistan</td>\n",
       "      <td>oil</td>\n",
       "      <td>vitamin a</td>\n",
       "      <td>Mandatory</td>\n",
       "      <td>100.000000</td>\n",
       "      <td>95.500000</td>\n",
       "      <td>0.0</td>\n",
       "      <td>30.000000</td>\n",
       "      <td>0.0</td>\n",
       "    </tr>\n",
       "    <tr>\n",
       "      <th>261</th>\n",
       "      <td>Pakistan</td>\n",
       "      <td>oil</td>\n",
       "      <td>vitamin d</td>\n",
       "      <td>Mandatory</td>\n",
       "      <td>100.000000</td>\n",
       "      <td>95.500000</td>\n",
       "      <td>0.0</td>\n",
       "      <td>NaN</td>\n",
       "      <td>NaN</td>\n",
       "    </tr>\n",
       "    <tr>\n",
       "      <th>348</th>\n",
       "      <td>Pakistan</td>\n",
       "      <td>wheat flour</td>\n",
       "      <td>vitamin a</td>\n",
       "      <td>NaN</td>\n",
       "      <td>97.333333</td>\n",
       "      <td>48.666667</td>\n",
       "      <td>0.0</td>\n",
       "      <td>0.000000</td>\n",
       "      <td>1.0</td>\n",
       "    </tr>\n",
       "  </tbody>\n",
       "</table>\n",
       "</div>"
      ],
      "text/plain": [
       "    location_name      vehicle     nutrient                  standard  \\\n",
       "255      Pakistan  wheat flour         iron  Mandatory in Punjab only   \n",
       "256      Pakistan  wheat flour   folic acid  Mandatory in Punjab only   \n",
       "257      Pakistan  wheat flour         zinc                   Unknown   \n",
       "258      Pakistan  wheat flour  vitamin b12                   Unknown   \n",
       "259      Pakistan  wheat flour   vitamin b1                   Unknown   \n",
       "260      Pakistan          oil    vitamin a                 Mandatory   \n",
       "261      Pakistan          oil    vitamin d                 Mandatory   \n",
       "348      Pakistan  wheat flour    vitamin a                       NaN   \n",
       "\n",
       "              A          B  B_estimate          C  C_estimate  \n",
       "255   97.333333  48.666667         0.0   5.333333         0.0  \n",
       "256   97.333333  48.666667         0.0   1.946667         1.0  \n",
       "257   97.333333  48.666667         0.0   1.946667         1.0  \n",
       "258   97.333333  48.666667         0.0   1.946667         1.0  \n",
       "259   97.333333  48.666667         0.0   0.000000         1.0  \n",
       "260  100.000000  95.500000         0.0  30.000000         0.0  \n",
       "261  100.000000  95.500000         0.0        NaN         NaN  \n",
       "348   97.333333  48.666667         0.0   0.000000         1.0  "
      ]
     },
     "execution_count": 11,
     "metadata": {},
     "output_type": "execute_result"
    }
   ],
   "source": [
    "mult_estimates[mult_estimates.location_name==\"Pakistan\"]"
   ]
  },
  {
   "cell_type": "code",
   "execution_count": 12,
   "metadata": {},
   "outputs": [],
   "source": [
    "#reformat\n",
    "mult_estimates.loc[(mult_estimates.B_estimate!=1.0),'B'] = np.nan\n",
    "mult_estimates.loc[(mult_estimates.C_estimate!=1.0),'C'] = np.nan\n",
    "\n",
    "mult_estimates = pd.melt(mult_estimates,\n",
    "                         id_vars = ['location_name','vehicle','nutrient','standard'],\n",
    "                         value_vars = ['B','C'], var_name = 'value_description', value_name = 'value_mean').dropna()\n",
    "\n",
    "mult_estimates.loc[(mult_estimates.value_description==\"B\"),'nutrient'] = 'NA'\n",
    "\n",
    "mult_estimates = mult_estimates.drop_duplicates()\n",
    "\n",
    "mult_estimates.value_description = mult_estimates.value_description.map({\n",
    "    'B':'percent of population eating industrially produced vehicle',\n",
    "    'C':'percent of population eating fortified vehicle'\n",
    "})"
   ]
  },
  {
   "cell_type": "code",
   "execution_count": 13,
   "metadata": {},
   "outputs": [],
   "source": [
    "mult_estimates['estimation_status'] = 'multiplicative'"
   ]
  },
  {
   "cell_type": "code",
   "execution_count": 14,
   "metadata": {},
   "outputs": [],
   "source": [
    "## load legal combos\n",
    "import pickle\n",
    "data_prep_dir = '/ihme/homes/beatrixh/vivarium_research_lsff/data_prep/inputs/'\n",
    "\n",
    "with open(data_prep_dir + 'lsff_vehicle_nutrient_pairs.pickle', 'rb') as handle:\n",
    "    vehicle_nutrient_map = pickle.load(handle)\n",
    "    \n",
    "with open(data_prep_dir + 'lsff_country_vehicle_pairs.pickle', 'rb') as handle:\n",
    "    country_vehicle_map = pickle.load(handle)\n",
    "    \n",
    "with open(data_prep_dir + 'lsff_vehicle_country_pairs.pickle', 'rb') as handle:\n",
    "    vehicle_country_map = pickle.load(handle)"
   ]
  },
  {
   "cell_type": "code",
   "execution_count": 15,
   "metadata": {},
   "outputs": [],
   "source": [
    "location_names = ['Bangladesh','Pakistan','United Republic of Tanzania','Uganda','South Africa']"
   ]
  },
  {
   "cell_type": "code",
   "execution_count": 16,
   "metadata": {},
   "outputs": [
    {
     "data": {
      "text/html": [
       "<div>\n",
       "<style scoped>\n",
       "    .dataframe tbody tr th:only-of-type {\n",
       "        vertical-align: middle;\n",
       "    }\n",
       "\n",
       "    .dataframe tbody tr th {\n",
       "        vertical-align: top;\n",
       "    }\n",
       "\n",
       "    .dataframe thead th {\n",
       "        text-align: right;\n",
       "    }\n",
       "</style>\n",
       "<table border=\"1\" class=\"dataframe\">\n",
       "  <thead>\n",
       "    <tr style=\"text-align: right;\">\n",
       "      <th></th>\n",
       "      <th></th>\n",
       "    </tr>\n",
       "    <tr>\n",
       "      <th>location_name</th>\n",
       "      <th>vehicle</th>\n",
       "    </tr>\n",
       "  </thead>\n",
       "  <tbody>\n",
       "    <tr>\n",
       "      <th rowspan=\"2\" valign=\"top\">Bangladesh</th>\n",
       "      <th>oil</th>\n",
       "    </tr>\n",
       "    <tr>\n",
       "      <th>wheat flour</th>\n",
       "    </tr>\n",
       "    <tr>\n",
       "      <th rowspan=\"2\" valign=\"top\">Pakistan</th>\n",
       "      <th>oil</th>\n",
       "    </tr>\n",
       "    <tr>\n",
       "      <th>wheat flour</th>\n",
       "    </tr>\n",
       "    <tr>\n",
       "      <th rowspan=\"3\" valign=\"top\">South Africa</th>\n",
       "      <th>maize flour</th>\n",
       "    </tr>\n",
       "    <tr>\n",
       "      <th>oil</th>\n",
       "    </tr>\n",
       "    <tr>\n",
       "      <th>wheat flour</th>\n",
       "    </tr>\n",
       "    <tr>\n",
       "      <th rowspan=\"3\" valign=\"top\">Uganda</th>\n",
       "      <th>maize flour</th>\n",
       "    </tr>\n",
       "    <tr>\n",
       "      <th>oil</th>\n",
       "    </tr>\n",
       "    <tr>\n",
       "      <th>wheat flour</th>\n",
       "    </tr>\n",
       "    <tr>\n",
       "      <th rowspan=\"3\" valign=\"top\">United Republic of Tanzania</th>\n",
       "      <th>maize flour</th>\n",
       "    </tr>\n",
       "    <tr>\n",
       "      <th>oil</th>\n",
       "    </tr>\n",
       "    <tr>\n",
       "      <th>wheat flour</th>\n",
       "    </tr>\n",
       "  </tbody>\n",
       "</table>\n",
       "</div>"
      ],
      "text/plain": [
       "Empty DataFrame\n",
       "Columns: []\n",
       "Index: [(Bangladesh, oil), (Bangladesh, wheat flour), (Pakistan, oil), (Pakistan, wheat flour), (South Africa, maize flour), (South Africa, oil), (South Africa, wheat flour), (Uganda, maize flour), (Uganda, oil), (Uganda, wheat flour), (United Republic of Tanzania, maize flour), (United Republic of Tanzania, oil), (United Republic of Tanzania, wheat flour)]"
      ]
     },
     "execution_count": 16,
     "metadata": {},
     "output_type": "execute_result"
    }
   ],
   "source": [
    "# these are the vehicles per country we need\n",
    "target_high_level = pd.DataFrame([(loc,v) for loc in location_names for v in country_vehicle_map[loc]],\n",
    "            columns=['location_name','vehicle']).sort_values(['location_name','vehicle']).set_index(['location_name','vehicle'])\n",
    "\n",
    "target_high_level"
   ]
  },
  {
   "cell_type": "code",
   "execution_count": 17,
   "metadata": {},
   "outputs": [],
   "source": [
    "target_vehicles = [i for i in vehicle_nutrient_map.keys() if 'iron' in vehicle_nutrient_map[i]]\n",
    "\n",
    "target_a = pd.DataFrame([(loc,vehicle,nutrient,'percent of population eating fortified vehicle') for loc in location_names\n",
    "                       for vehicle in country_vehicle_map[loc]\n",
    "                      for nutrient in vehicle_nutrient_map[vehicle]],\n",
    "            columns=['location_name','vehicle','nutrient','value_description']).sort_values(['location_name','vehicle','nutrient'])\n",
    "target_a = target_a[(target_a.nutrient.isin(nutrients))]\n",
    "\n",
    "target_b = pd.DataFrame([(loc,vehicle,'na',val) for loc in location_names\n",
    "                       for vehicle in country_vehicle_map[loc]\n",
    "                      for val in ['percent of population eating industrially produced vehicle',\n",
    "       'percent of population eating vehicle']],\n",
    "            columns=['location_name','vehicle','nutrient','value_description'])\n",
    "\n",
    "sortvars = ['location_name','vehicle','value_description','nutrient']\n",
    "target = target_a.append(target_b).sort_values(sortvars).set_index(sortvars)"
   ]
  },
  {
   "cell_type": "code",
   "execution_count": null,
   "metadata": {},
   "outputs": [],
   "source": [
    "target = target.reset_index()\n",
    "rcols = target.columns.tolist()"
   ]
  },
  {
   "cell_type": "code",
   "execution_count": null,
   "metadata": {},
   "outputs": [],
   "source": [
    "check_cols = ['location_id','location_name','urbanicity','subnational_name','vehicle','value_description','nutrient','value_mean','value_025_percentile',\n",
    "       'value_975_percentile','sub_population','source_year','notes','source_citation','source_link','data_choice_notes']\n",
    "\n",
    "def filter_data(country, vehicle, val):    \n",
    "    output = df.loc[(df.location_name==country)\n",
    "           & (df.vehicle==vehicle)\n",
    "           & (df.value_description==val)\n",
    "           & (df.value_mean.notna()),check_cols]\n",
    "    \n",
    "    return output"
   ]
  },
  {
   "cell_type": "code",
   "execution_count": null,
   "metadata": {},
   "outputs": [],
   "source": [
    "def check_one_country(country):\n",
    "    vehicles = ['oil', 'wheat flour', 'salt', 'maize flour', 'rice', 'bouillon']\n",
    "    values_gold = ['percent of population eating fortified vehicle',\n",
    "               'percent of population eating industrially produced vehicle',\n",
    "               'percent of population eating vehicle']\n",
    "    return pd.concat([filter_data(country, vehicle, val) for vehicle in vehicles for val in values_gold])"
   ]
  },
  {
   "cell_type": "code",
   "execution_count": null,
   "metadata": {},
   "outputs": [],
   "source": [
    "usecols = ['location_id','location_name','subnational_name','vehicle','value_description','nutrient','value_mean', 'value_025_percentile',\n",
    "       'value_975_percentile']\n",
    "subset_data = {}"
   ]
  },
  {
   "cell_type": "code",
   "execution_count": null,
   "metadata": {},
   "outputs": [],
   "source": [
    "for i in location_names:\n",
    "    subset_data[i] = pd.DataFrame()"
   ]
  },
  {
   "cell_type": "markdown",
   "metadata": {},
   "source": [
    "## Bangladesh"
   ]
  },
  {
   "cell_type": "code",
   "execution_count": null,
   "metadata": {},
   "outputs": [],
   "source": [
    "bangladesh = check_one_country('Bangladesh')"
   ]
  },
  {
   "cell_type": "code",
   "execution_count": null,
   "metadata": {},
   "outputs": [],
   "source": [
    "bangladesh.value_description.unique()"
   ]
  },
  {
   "cell_type": "code",
   "execution_count": null,
   "metadata": {},
   "outputs": [],
   "source": [
    "mult_estimates[(mult_estimates.location_name==\"Bangladesh\")]"
   ]
  },
  {
   "cell_type": "code",
   "execution_count": null,
   "metadata": {},
   "outputs": [],
   "source": [
    "## pct of pop eating industrially produced oil"
   ]
  },
  {
   "cell_type": "code",
   "execution_count": null,
   "metadata": {},
   "outputs": [],
   "source": [
    "# pct of pop eating industrially produced oil\n",
    "bangladesh[(bangladesh.vehicle==\"oil\") & (bangladesh.value_description==\"percent of population eating industrially produced vehicle\")]"
   ]
  },
  {
   "cell_type": "code",
   "execution_count": null,
   "metadata": {},
   "outputs": [],
   "source": [
    "bangladesh.loc[(bangladesh.vehicle==\"oil\") &\n",
    "           (bangladesh.value_description==\"percent of population eating industrially produced vehicle\") &\n",
    "          (bangladesh.urbanicity==\"mixed/both\"),'data_choice_notes'] = \"Keeping Aaron number (88%) and descarding Raghavan number (87%), as they are very similar, from the same year, and the Aaron number has uncertainty\""
   ]
  },
  {
   "cell_type": "code",
   "execution_count": null,
   "metadata": {},
   "outputs": [],
   "source": [
    "# keep the row with uncertainty, as values are very similar and from the same year\n",
    "\n",
    "subset_data['Bangladesh'] = subset_data['Bangladesh'].append(bangladesh[(bangladesh.vehicle==\"oil\") &\n",
    "           (bangladesh.value_description==\"percent of population eating industrially produced vehicle\") &\n",
    "          (bangladesh.urbanicity==\"mixed/both\")])"
   ]
  },
  {
   "cell_type": "code",
   "execution_count": null,
   "metadata": {},
   "outputs": [],
   "source": [
    "bangladesh[(bangladesh.vehicle==\"oil\") & (bangladesh.value_description==\"percent of population eating vehicle\")]"
   ]
  },
  {
   "cell_type": "code",
   "execution_count": null,
   "metadata": {},
   "outputs": [],
   "source": [
    "# percent of pop eating oil\n",
    "bangladesh.loc[(bangladesh.vehicle==\"oil\") & (bangladesh.value_description==\"percent of population eating vehicle\") &\n",
    "          (bangladesh.source_citation==\"Grant J Aaron, Valerie M Friesen, Svenja Jungjohann, Greg S Garrett, Lynnette M Neufeld, Mark Myatt, Coverage of Large-Scale Food Fortification of Edible Oil, Wheat Flour, and Maize Flour Varies Greatly by Vehicle and Country but Is Consistently Lower among the Most Vulnerable: Results from Coverage Surveys in 8 Countries, The Journal of Nutrition, Volume 147, Issue 5, May 2017, Pages 984S–994S, https://doi.org/10.3945/jn.116.245753\"),'data_choice_notes'] = \"Keeping Aaron (survey data) number from 2015 (100%), discarding Fiedler number (51-90%) from 2005, and discarding Levyraz number from 2011 (99.8%)\""
   ]
  },
  {
   "cell_type": "code",
   "execution_count": null,
   "metadata": {},
   "outputs": [],
   "source": [
    "subset_data['Bangladesh'] = subset_data['Bangladesh'].append(bangladesh[(bangladesh.vehicle==\"oil\") & (bangladesh.value_description==\"percent of population eating vehicle\") &\n",
    "          (bangladesh.source_citation==\"Grant J Aaron, Valerie M Friesen, Svenja Jungjohann, Greg S Garrett, Lynnette M Neufeld, Mark Myatt, Coverage of Large-Scale Food Fortification of Edible Oil, Wheat Flour, and Maize Flour Varies Greatly by Vehicle and Country but Is Consistently Lower among the Most Vulnerable: Results from Coverage Surveys in 8 Countries, The Journal of Nutrition, Volume 147, Issue 5, May 2017, Pages 984S–994S, https://doi.org/10.3945/jn.116.245753\")])"
   ]
  },
  {
   "cell_type": "code",
   "execution_count": null,
   "metadata": {},
   "outputs": [],
   "source": [
    "# percent of pop eating wheat flour\n",
    "bangladesh[(bangladesh.vehicle==\"wheat flour\") & (bangladesh.value_description==\"percent of population eating vehicle\")]"
   ]
  },
  {
   "cell_type": "code",
   "execution_count": null,
   "metadata": {},
   "outputs": [],
   "source": []
  },
  {
   "cell_type": "code",
   "execution_count": null,
   "metadata": {},
   "outputs": [],
   "source": [
    "## keep the more recent, u5- and wra- specific vars}\n",
    "bangladesh.loc[(bangladesh.vehicle==\"wheat flour\") & \n",
    "           (bangladesh.value_description==\"percent of population eating vehicle\") &\n",
    "          (bangladesh.source_citation==\"Leyvraz M, Laillou A, Rahman S, et al. An Assessment of the Potential Impact of Fortification of Staples and Condiments on Micronutrient Intake of Young Children and Women of Reproductive Age in Bangladesh. Nutrients 2016; 8: 541.\"),\"data_choice_notes\"] = \"Keeping Levyraz numbers (42% and 76%), as they are u5- and WRA- specfic and more recent (2011). Discarding 2005 Fiedler all-populaion numbers\""
   ]
  },
  {
   "cell_type": "code",
   "execution_count": null,
   "metadata": {},
   "outputs": [],
   "source": [
    "subset_data['Bangladesh'] = subset_data['Bangladesh'].append(bangladesh[(bangladesh.vehicle==\"wheat flour\") & \n",
    "           (bangladesh.value_description==\"percent of population eating vehicle\") &\n",
    "          (bangladesh.source_citation==\"Leyvraz M, Laillou A, Rahman S, et al. An Assessment of the Potential Impact of Fortification of Staples and Condiments on Micronutrient Intake of Young Children and Women of Reproductive Age in Bangladesh. Nutrients 2016; 8: 541.\")])"
   ]
  },
  {
   "cell_type": "code",
   "execution_count": null,
   "metadata": {},
   "outputs": [],
   "source": [
    "# ## need to use estimates for\n",
    "# - pct eating fortified oil\n",
    "# - pct eating fortifiable wheat\n",
    "# - pct eating fortified wheat"
   ]
  },
  {
   "cell_type": "code",
   "execution_count": null,
   "metadata": {},
   "outputs": [],
   "source": [
    "subset_data['Bangladesh'] = subset_data['Bangladesh'].append(mult_estimates[(mult_estimates.location_name==\"Bangladesh\") \n",
    "               & (mult_estimates.vehicle==\"oil\")\n",
    "              & (mult_estimates.nutrient==\"vitamin a\")])\n",
    "\n",
    "mult_estimates[(mult_estimates.location_name==\"Bangladesh\") \n",
    "               & (mult_estimates.vehicle==\"oil\")\n",
    "              & (mult_estimates.nutrient==\"vitamin a\")]"
   ]
  },
  {
   "cell_type": "code",
   "execution_count": null,
   "metadata": {},
   "outputs": [],
   "source": [
    "subset_data['Bangladesh'] = subset_data['Bangladesh'].append(mult_estimates[(mult_estimates.location_name==\"Bangladesh\") \n",
    "               & (mult_estimates.vehicle==\"wheat flour\")\n",
    "              & (mult_estimates.nutrient.isin(['NA','iron','zinc','folic acid','vitamin a']))])\n",
    "\n",
    "mult_estimates[(mult_estimates.location_name==\"Bangladesh\") \n",
    "               & (mult_estimates.vehicle==\"wheat flour\")\n",
    "              & (mult_estimates.nutrient.isin(['NA','iron','zinc','folic acid','vitamin a']))]"
   ]
  },
  {
   "cell_type": "code",
   "execution_count": null,
   "metadata": {},
   "outputs": [],
   "source": [
    "subset_data['Bangladesh'][rcols + ['value_mean']].sort_values(rcols)"
   ]
  },
  {
   "cell_type": "code",
   "execution_count": null,
   "metadata": {},
   "outputs": [],
   "source": [
    "target[target.location_name==\"Bangladesh\"].merge(\n",
    "    subset_data['Bangladesh'][rcols + ['value_mean']],\n",
    "    on = rcols,\n",
    "    how = 'left'\n",
    ")"
   ]
  },
  {
   "cell_type": "markdown",
   "metadata": {},
   "source": [
    "## Pakistan"
   ]
  },
  {
   "cell_type": "code",
   "execution_count": null,
   "metadata": {},
   "outputs": [],
   "source": [
    "pakistan = check_one_country('Pakistan')"
   ]
  },
  {
   "cell_type": "code",
   "execution_count": null,
   "metadata": {},
   "outputs": [],
   "source": [
    "pakistan.value_description.unique()"
   ]
  },
  {
   "cell_type": "code",
   "execution_count": null,
   "metadata": {},
   "outputs": [],
   "source": [
    "# percent of pop eating ind prod oil\n",
    "pakistan[(pakistan.vehicle==\"oil\") &\n",
    "         (pakistan.value_description==\"percent of population eating industrially produced vehicle\")]"
   ]
  },
  {
   "cell_type": "code",
   "execution_count": null,
   "metadata": {},
   "outputs": [],
   "source": [
    "#use source referring to oil as opposed to oil/ghee\n",
    "\n",
    "pakistan.loc[(pakistan.vehicle==\"oil\") &\n",
    "         (pakistan.value_description==\"percent of population eating industrially produced vehicle\") &\n",
    "        (pakistan.source_citation==\"GFDx\"),\"data_choice_notes\"] = \"Kept GFDx number (85%), discarded FACT survey number (99%), which asked about both oil and ghee\"\n",
    "\n",
    "subset_data['Pakistan'] = subset_data['Pakistan'].append(pakistan[(pakistan.vehicle==\"oil\") &\n",
    "         (pakistan.value_description==\"percent of population eating industrially produced vehicle\") &\n",
    "        (pakistan.source_citation==\"GFDx\")])\n",
    "\n"
   ]
  },
  {
   "cell_type": "code",
   "execution_count": null,
   "metadata": {},
   "outputs": [],
   "source": [
    "# percent of pop eating oil\n",
    "pakistan[(pakistan.vehicle==\"oil\") &\n",
    "         (pakistan.value_description==\"percent of population eating vehicle\")]"
   ]
  },
  {
   "cell_type": "code",
   "execution_count": null,
   "metadata": {},
   "outputs": [],
   "source": [
    "## these are all the same; take one\n",
    "\n",
    "pakistan.loc[(pakistan.vehicle==\"oil\") &\n",
    "         (pakistan.value_description==\"percent of population eating vehicle\") &\n",
    "        (pakistan.subnational_name == \"Balochistan\"),\"data_choice_notes\"] = \"Only one source\"\n",
    "\n",
    "subset_data['Pakistan'] = subset_data['Pakistan'].append(pakistan[(pakistan.vehicle==\"oil\") &\n",
    "         (pakistan.value_description==\"percent of population eating vehicle\") &\n",
    "        (pakistan.subnational_name == \"Balochistan\")])\n",
    "\n"
   ]
  },
  {
   "cell_type": "code",
   "execution_count": null,
   "metadata": {},
   "outputs": [],
   "source": [
    "df.loc[(df.location_name==\"Pakistan\") & \n",
    "  (df.vehicle==\"oil\") & (df.value_description==\"percent of population eating fortified vehicle\"),check_cols]"
   ]
  },
  {
   "cell_type": "code",
   "execution_count": null,
   "metadata": {},
   "outputs": [],
   "source": [
    "# same source; take all\n",
    "\n",
    "pakistan.loc[(pakistan.vehicle==\"oil\") & (pakistan.value_description==\"percent of population eating fortified vehicle\"),'data_choice_notes'] = \"Only one source\"\n",
    "\n",
    "subset_data['Pakistan'] = subset_data['Pakistan'].append(pakistan.loc[(pakistan.vehicle==\"oil\") & (pakistan.value_description==\"percent of population eating fortified vehicle\")])\n",
    "\n"
   ]
  },
  {
   "cell_type": "code",
   "execution_count": null,
   "metadata": {},
   "outputs": [],
   "source": [
    "# percent of pop eating ind prod wheat\n",
    "pakistan[(pakistan.vehicle==\"wheat flour\") &\n",
    "         (pakistan.value_description==\"percent of population eating industrially produced vehicle\")]"
   ]
  },
  {
   "cell_type": "code",
   "execution_count": null,
   "metadata": {},
   "outputs": [],
   "source": [
    "# only one source, take it\n",
    "\n",
    "pakistan.loc[(pakistan.vehicle==\"wheat flour\") &\n",
    "         (pakistan.value_description==\"percent of population eating industrially produced vehicle\"),\"data_choice_notes\"] = \"Only one source\"\n",
    "\n",
    "subset_data['Pakistan'] = subset_data['Pakistan'].append(pakistan[(pakistan.vehicle==\"wheat flour\") &\n",
    "         (pakistan.value_description==\"percent of population eating industrially produced vehicle\")])\n",
    "\n"
   ]
  },
  {
   "cell_type": "code",
   "execution_count": null,
   "metadata": {},
   "outputs": [],
   "source": [
    "# percent of pop eating wheat\n",
    "pakistan[(pakistan.vehicle==\"wheat flour\") &\n",
    "         (pakistan.value_description==\"percent of population eating vehicle\")]"
   ]
  },
  {
   "cell_type": "code",
   "execution_count": null,
   "metadata": {},
   "outputs": [],
   "source": [
    "#these are all the same; take one\n",
    "\n",
    "pakistan.loc[(pakistan.vehicle==\"wheat flour\") &\n",
    "         (pakistan.value_description==\"percent of population eating vehicle\") &\n",
    "        (pakistan.subnational_name == \"Balochistan\"),\"data_choice_notes\"] = \"Only one source\"\n",
    "\n",
    "subset_data['Pakistan'] = subset_data['Pakistan'].append(pakistan[(pakistan.vehicle==\"wheat flour\") &\n",
    "         (pakistan.value_description==\"percent of population eating vehicle\") &\n",
    "        (pakistan.subnational_name == \"Balochistan\")])\n",
    "\n",
    "pakistan[(pakistan.vehicle==\"wheat flour\") &\n",
    "         (pakistan.value_description==\"percent of population eating vehicle\") &\n",
    "        (pakistan.subnational_name == \"Balochistan\")]"
   ]
  },
  {
   "cell_type": "code",
   "execution_count": null,
   "metadata": {},
   "outputs": [],
   "source": [
    "# percent of pop eating fortified wheat\n",
    "# same source; take all\n",
    "pakistan.loc[(pakistan.vehicle==\"wheat flour\") & (pakistan.value_description==\"percent of population eating fortified vehicle\"),\"data_choice_notes\"] = \"Only one source\"\n",
    "\n",
    "subset_data['Pakistan'] = subset_data['Pakistan'].append(pakistan.loc[(pakistan.vehicle==\"wheat flour\") & (pakistan.value_description==\"percent of population eating fortified vehicle\")])\n",
    "\n",
    "pakistan.loc[(pakistan.vehicle==\"wheat flour\") & (pakistan.value_description==\"percent of population eating fortified vehicle\")]"
   ]
  },
  {
   "cell_type": "code",
   "execution_count": null,
   "metadata": {},
   "outputs": [],
   "source": [
    "pakistan_estimates = mult_estimates[(mult_estimates.location_name==\"Pakistan\") \n",
    "               & (mult_estimates.vehicle==\"wheat flour\")\n",
    "              & (mult_estimates.nutrient.isin(['zinc','folic acid','vitamin a']))]\n",
    "pakistan_estimates"
   ]
  },
  {
   "cell_type": "code",
   "execution_count": null,
   "metadata": {},
   "outputs": [],
   "source": [
    "pakistan_estimates = pakistan_estimates.append(pd.DataFrame({\n",
    "    'location_name':['Pakistan'],\n",
    "    'vehicle':['wheat flour'],\n",
    "    'nutrient':['vitamin a'],\n",
    "    'standard':['Unknown'],\n",
    "    'value_description':['percent of population eating fortified vehicle'],\n",
    "    'value_mean':[0],\n",
    "    'estimation_status':['lack of evidence']\n",
    "}))"
   ]
  },
  {
   "cell_type": "code",
   "execution_count": null,
   "metadata": {},
   "outputs": [],
   "source": [
    "subset_data['Pakistan'] = subset_data['Pakistan'].append(pakistan_estimates)"
   ]
  },
  {
   "cell_type": "markdown",
   "metadata": {},
   "source": [
    "## United Republic of Tanzania"
   ]
  },
  {
   "cell_type": "code",
   "execution_count": null,
   "metadata": {},
   "outputs": [],
   "source": [
    "tanz = check_one_country('United Republic of Tanzania')"
   ]
  },
  {
   "cell_type": "code",
   "execution_count": null,
   "metadata": {},
   "outputs": [],
   "source": [
    "tanz.groupby(['vehicle','value_description']).mean()"
   ]
  },
  {
   "cell_type": "code",
   "execution_count": null,
   "metadata": {},
   "outputs": [],
   "source": [
    "tanz[(tanz.vehicle==\"maize flour\") &\n",
    "     (tanz.value_description==\"percent of population eating fortified vehicle\") &\n",
    "     (tanz.nutrient.isin(nutrients))].sort_values('source_citation')"
   ]
  },
  {
   "cell_type": "code",
   "execution_count": null,
   "metadata": {},
   "outputs": [],
   "source": [
    "# these are all the same, take the aaron version\n",
    "\n",
    "tanz.loc[(tanz.vehicle==\"maize flour\") &\n",
    "     (tanz.value_description==\"percent of population eating fortified vehicle\") &\n",
    "     (tanz.nutrient.isin(nutrients)) &\n",
    "     (tanz.source_year=='2011'),\"data_choice_notes\"] = \"All sources (Aaron and GFDx) agreed.\"\n",
    "\n",
    "\n",
    "subset_data['United Republic of Tanzania'] = subset_data['United Republic of Tanzania'].append(tanz[(tanz.vehicle==\"maize flour\") &\n",
    "     (tanz.value_description==\"percent of population eating fortified vehicle\") &\n",
    "     (tanz.nutrient.isin(nutrients)) &\n",
    "     (tanz.source_year=='2011')])\n",
    "\n",
    "tanz[(tanz.vehicle==\"maize flour\") &\n",
    "     (tanz.value_description==\"percent of population eating fortified vehicle\") &\n",
    "     (tanz.nutrient.isin(nutrients)) &\n",
    "     (tanz.source_year=='2011')]"
   ]
  },
  {
   "cell_type": "code",
   "execution_count": null,
   "metadata": {},
   "outputs": [],
   "source": [
    "tanz[(tanz.vehicle==\"maize flour\") &\n",
    "     (tanz.value_description==\"percent of population eating industrially produced vehicle\")].sort_values('source_citation')"
   ]
  },
  {
   "cell_type": "code",
   "execution_count": null,
   "metadata": {},
   "outputs": [],
   "source": [
    "# GFDx held the same values; took this over a number from a 2011 metanalysis on the efficacy of different\n",
    "# vehicles for fortification\n",
    "\n",
    "tanz.loc[(tanz.vehicle==\"maize flour\") &\n",
    "     (tanz.value_description==\"percent of population eating industrially produced vehicle\") &\n",
    "    (tanz.source_citation==\"Grant J Aaron, Valerie M Friesen, Svenja Jungjohann, Greg S Garrett, Lynnette M Neufeld, Mark Myatt, Coverage of Large-Scale Food Fortification of Edible Oil, Wheat Flour, and Maize Flour Varies Greatly by Vehicle and Country but Is Consistently Lower among the Most Vulnerable: Results from Coverage Surveys in 8 Countries, The Journal of Nutrition, Volume 147, Issue 5, May 2017, Pages 984S–994S, https://doi.org/10.3945/jn.116.245770\"),\n",
    "        \"data_choice_notes\"]= \"GFDx held the same values; took this over a number from a 2011 metanalysis on the efficacy of different ehicles for fortification\"\n",
    "\n",
    "subset_data['United Republic of Tanzania'] = subset_data['United Republic of Tanzania'].append(tanz[(tanz.vehicle==\"maize flour\") &\n",
    "     (tanz.value_description==\"percent of population eating industrially produced vehicle\") &\n",
    "    (tanz.source_citation==\"Grant J Aaron, Valerie M Friesen, Svenja Jungjohann, Greg S Garrett, Lynnette M Neufeld, Mark Myatt, Coverage of Large-Scale Food Fortification of Edible Oil, Wheat Flour, and Maize Flour Varies Greatly by Vehicle and Country but Is Consistently Lower among the Most Vulnerable: Results from Coverage Surveys in 8 Countries, The Journal of Nutrition, Volume 147, Issue 5, May 2017, Pages 984S–994S, https://doi.org/10.3945/jn.116.245770\")])\n",
    "\n",
    "tanz[(tanz.vehicle==\"maize flour\") &\n",
    "     (tanz.value_description==\"percent of population eating industrially produced vehicle\") &\n",
    "    (tanz.source_citation==\"Grant J Aaron, Valerie M Friesen, Svenja Jungjohann, Greg S Garrett, Lynnette M Neufeld, Mark Myatt, Coverage of Large-Scale Food Fortification of Edible Oil, Wheat Flour, and Maize Flour Varies Greatly by Vehicle and Country but Is Consistently Lower among the Most Vulnerable: Results from Coverage Surveys in 8 Countries, The Journal of Nutrition, Volume 147, Issue 5, May 2017, Pages 984S–994S, https://doi.org/10.3945/jn.116.245770\")]"
   ]
  },
  {
   "cell_type": "code",
   "execution_count": null,
   "metadata": {},
   "outputs": [],
   "source": [
    "# these are the same, taking Aaron\n",
    "\n",
    "tanz[(tanz.vehicle==\"maize flour\") &\n",
    "     (tanz.value_description==\"percent of population eating vehicle\")].sort_values('source_citation')"
   ]
  },
  {
   "cell_type": "code",
   "execution_count": null,
   "metadata": {},
   "outputs": [],
   "source": [
    "tanz.loc[(tanz.vehicle==\"maize flour\") &\n",
    "     (tanz.value_description==\"percent of population eating vehicle\") &\n",
    "    (tanz.source_citation==\"Grant J Aaron, Valerie M Friesen, Svenja Jungjohann, Greg S Garrett, Lynnette M Neufeld, Mark Myatt, Coverage of Large-Scale Food Fortification of Edible Oil, Wheat Flour, and Maize Flour Varies Greatly by Vehicle and Country but Is Consistently Lower among the Most Vulnerable: Results from Coverage Surveys in 8 Countries, The Journal of Nutrition, Volume 147, Issue 5, May 2017, Pages 984S–994S, https://doi.org/10.3945/jn.116.245770\"),\n",
    "    \"data_choice_notes\"] = \"All sources (Aaron and GFDx) agreed.\"\n",
    "\n",
    "subset_data['United Republic of Tanzania'] = subset_data['United Republic of Tanzania'].append(tanz[(tanz.vehicle==\"maize flour\") &\n",
    "     (tanz.value_description==\"percent of population eating vehicle\") &\n",
    "    (tanz.source_citation==\"Grant J Aaron, Valerie M Friesen, Svenja Jungjohann, Greg S Garrett, Lynnette M Neufeld, Mark Myatt, Coverage of Large-Scale Food Fortification of Edible Oil, Wheat Flour, and Maize Flour Varies Greatly by Vehicle and Country but Is Consistently Lower among the Most Vulnerable: Results from Coverage Surveys in 8 Countries, The Journal of Nutrition, Volume 147, Issue 5, May 2017, Pages 984S–994S, https://doi.org/10.3945/jn.116.245770\")])\n",
    "\n",
    "tanz[(tanz.vehicle==\"maize flour\") &\n",
    "     (tanz.value_description==\"percent of population eating vehicle\") &\n",
    "    (tanz.source_citation==\"Grant J Aaron, Valerie M Friesen, Svenja Jungjohann, Greg S Garrett, Lynnette M Neufeld, Mark Myatt, Coverage of Large-Scale Food Fortification of Edible Oil, Wheat Flour, and Maize Flour Varies Greatly by Vehicle and Country but Is Consistently Lower among the Most Vulnerable: Results from Coverage Surveys in 8 Countries, The Journal of Nutrition, Volume 147, Issue 5, May 2017, Pages 984S–994S, https://doi.org/10.3945/jn.116.245770\")]"
   ]
  },
  {
   "cell_type": "code",
   "execution_count": null,
   "metadata": {},
   "outputs": [],
   "source": [
    "## oil"
   ]
  },
  {
   "cell_type": "code",
   "execution_count": null,
   "metadata": {},
   "outputs": [],
   "source": [
    "tanz[(tanz.vehicle==\"oil\") &\n",
    "     (tanz.value_description==\"percent of population eating fortified vehicle\") &\n",
    "     (tanz.nutrient.isin(nutrients))].sort_values('source_citation')"
   ]
  },
  {
   "cell_type": "code",
   "execution_count": null,
   "metadata": {},
   "outputs": [],
   "source": [
    "## these are the same, taking aaron\n",
    "\n",
    "tanz.loc[(tanz.vehicle==\"oil\") &\n",
    "     (tanz.value_description==\"percent of population eating fortified vehicle\") &\n",
    "     (tanz.nutrient.isin(nutrients)) &\n",
    "     (tanz.source_citation==\"Grant J Aaron, Valerie M Friesen, Svenja Jungjohann, Greg S Garrett, Lynnette M Neufeld, Mark Myatt, Coverage of Large-Scale Food Fortification of Edible Oil, Wheat Flour, and Maize Flour Varies Greatly by Vehicle and Country but Is Consistently Lower among the Most Vulnerable: Results from Coverage Surveys in 8 Countries, The Journal of Nutrition, Volume 147, Issue 5, May 2017, Pages 984S–994S, https://doi.org/10.3945/jn.116.245770\"),\n",
    "    \"data_choice_notes\"] =  \"All sources (Aaron and GFDx) agreed.\"\n",
    "\n",
    "\n",
    "subset_data['United Republic of Tanzania'] = subset_data['United Republic of Tanzania'].append(tanz[(tanz.vehicle==\"oil\") &\n",
    "     (tanz.value_description==\"percent of population eating fortified vehicle\") &\n",
    "     (tanz.nutrient.isin(nutrients)) &\n",
    "    (tanz.source_citation==\"Grant J Aaron, Valerie M Friesen, Svenja Jungjohann, Greg S Garrett, Lynnette M Neufeld, Mark Myatt, Coverage of Large-Scale Food Fortification of Edible Oil, Wheat Flour, and Maize Flour Varies Greatly by Vehicle and Country but Is Consistently Lower among the Most Vulnerable: Results from Coverage Surveys in 8 Countries, The Journal of Nutrition, Volume 147, Issue 5, May 2017, Pages 984S–994S, https://doi.org/10.3945/jn.116.245770\")])\n",
    "\n",
    "\n",
    "tanz[(tanz.vehicle==\"oil\") &\n",
    "     (tanz.value_description==\"percent of population eating fortified vehicle\") &\n",
    "     (tanz.nutrient.isin(nutrients)) &\n",
    "     (tanz.source_citation==\"Grant J Aaron, Valerie M Friesen, Svenja Jungjohann, Greg S Garrett, Lynnette M Neufeld, Mark Myatt, Coverage of Large-Scale Food Fortification of Edible Oil, Wheat Flour, and Maize Flour Varies Greatly by Vehicle and Country but Is Consistently Lower among the Most Vulnerable: Results from Coverage Surveys in 8 Countries, The Journal of Nutrition, Volume 147, Issue 5, May 2017, Pages 984S–994S, https://doi.org/10.3945/jn.116.245770\")]"
   ]
  },
  {
   "cell_type": "code",
   "execution_count": null,
   "metadata": {},
   "outputs": [],
   "source": [
    "tanz[(tanz.vehicle==\"oil\") &\n",
    "     (tanz.value_description==\"percent of population eating industrially produced vehicle\")].sort_values('source_citation')"
   ]
  },
  {
   "cell_type": "code",
   "execution_count": null,
   "metadata": {},
   "outputs": [],
   "source": [
    "# GFDx held the same values (93 g/day); took this over a number from a 2011 metanalysis (54 g/day) on the efficacy of different\n",
    "# vehicles for fortification\n",
    "\n",
    "tanz.loc[(tanz.vehicle==\"oil\") &\n",
    "     (tanz.value_description==\"percent of population eating industrially produced vehicle\") &\n",
    "    (tanz.source_citation==\"Grant J Aaron, Valerie M Friesen, Svenja Jungjohann, Greg S Garrett, Lynnette M Neufeld, Mark Myatt, Coverage of Large-Scale Food Fortification of Edible Oil, Wheat Flour, and Maize Flour Varies Greatly by Vehicle and Country but Is Consistently Lower among the Most Vulnerable: Results from Coverage Surveys in 8 Countries, The Journal of Nutrition, Volume 147, Issue 5, May 2017, Pages 984S–994S, https://doi.org/10.3945/jn.116.245770\"),\n",
    "        \"data_choice_notes\"] = \"GFDx held the same values (93%); took this over a number from a 2011 metanalysis (54%) on the efficacy of different vehicles for fortification\"\n",
    "\n",
    "subset_data['United Republic of Tanzania'] = subset_data['United Republic of Tanzania'].append(tanz[(tanz.vehicle==\"oil\") &\n",
    "     (tanz.value_description==\"percent of population eating industrially produced vehicle\") &\n",
    "    (tanz.source_citation==\"Grant J Aaron, Valerie M Friesen, Svenja Jungjohann, Greg S Garrett, Lynnette M Neufeld, Mark Myatt, Coverage of Large-Scale Food Fortification of Edible Oil, Wheat Flour, and Maize Flour Varies Greatly by Vehicle and Country but Is Consistently Lower among the Most Vulnerable: Results from Coverage Surveys in 8 Countries, The Journal of Nutrition, Volume 147, Issue 5, May 2017, Pages 984S–994S, https://doi.org/10.3945/jn.116.245770\")])\n",
    "\n",
    "tanz[(tanz.vehicle==\"oil\") &\n",
    "     (tanz.value_description==\"percent of population eating industrially produced vehicle\") &\n",
    "    (tanz.source_citation==\"Grant J Aaron, Valerie M Friesen, Svenja Jungjohann, Greg S Garrett, Lynnette M Neufeld, Mark Myatt, Coverage of Large-Scale Food Fortification of Edible Oil, Wheat Flour, and Maize Flour Varies Greatly by Vehicle and Country but Is Consistently Lower among the Most Vulnerable: Results from Coverage Surveys in 8 Countries, The Journal of Nutrition, Volume 147, Issue 5, May 2017, Pages 984S–994S, https://doi.org/10.3945/jn.116.245770\")]"
   ]
  },
  {
   "cell_type": "code",
   "execution_count": null,
   "metadata": {},
   "outputs": [],
   "source": [
    "# these are the same, taking Aaron\n",
    "\n",
    "tanz[(tanz.vehicle==\"oil\") &\n",
    "     (tanz.value_description==\"percent of population eating vehicle\")].sort_values('source_citation')"
   ]
  },
  {
   "cell_type": "code",
   "execution_count": null,
   "metadata": {},
   "outputs": [],
   "source": [
    "tanz.loc[(tanz.vehicle==\"oil\") &\n",
    "     (tanz.value_description==\"percent of population eating vehicle\") &\n",
    "    (tanz.source_citation==\"Grant J Aaron, Valerie M Friesen, Svenja Jungjohann, Greg S Garrett, Lynnette M Neufeld, Mark Myatt, Coverage of Large-Scale Food Fortification of Edible Oil, Wheat Flour, and Maize Flour Varies Greatly by Vehicle and Country but Is Consistently Lower among the Most Vulnerable: Results from Coverage Surveys in 8 Countries, The Journal of Nutrition, Volume 147, Issue 5, May 2017, Pages 984S–994S, https://doi.org/10.3945/jn.116.245770\"),\n",
    "        \"data_choice_notes\"] = \"All sources (Aaron and GFDx) agreed.\"\n",
    "\n",
    "subset_data['United Republic of Tanzania'] = subset_data['United Republic of Tanzania'].append(tanz[(tanz.vehicle==\"oil\") &\n",
    "     (tanz.value_description==\"percent of population eating vehicle\") &\n",
    "    (tanz.source_citation==\"Grant J Aaron, Valerie M Friesen, Svenja Jungjohann, Greg S Garrett, Lynnette M Neufeld, Mark Myatt, Coverage of Large-Scale Food Fortification of Edible Oil, Wheat Flour, and Maize Flour Varies Greatly by Vehicle and Country but Is Consistently Lower among the Most Vulnerable: Results from Coverage Surveys in 8 Countries, The Journal of Nutrition, Volume 147, Issue 5, May 2017, Pages 984S–994S, https://doi.org/10.3945/jn.116.245770\")])\n",
    "\n",
    "tanz[(tanz.vehicle==\"oil\") &\n",
    "     (tanz.value_description==\"percent of population eating vehicle\") &\n",
    "    (tanz.source_citation==\"Grant J Aaron, Valerie M Friesen, Svenja Jungjohann, Greg S Garrett, Lynnette M Neufeld, Mark Myatt, Coverage of Large-Scale Food Fortification of Edible Oil, Wheat Flour, and Maize Flour Varies Greatly by Vehicle and Country but Is Consistently Lower among the Most Vulnerable: Results from Coverage Surveys in 8 Countries, The Journal of Nutrition, Volume 147, Issue 5, May 2017, Pages 984S–994S, https://doi.org/10.3945/jn.116.245770\")]"
   ]
  },
  {
   "cell_type": "code",
   "execution_count": null,
   "metadata": {},
   "outputs": [],
   "source": [
    "tanz.groupby(['vehicle','value_description']).mean()"
   ]
  },
  {
   "cell_type": "code",
   "execution_count": null,
   "metadata": {
    "scrolled": true
   },
   "outputs": [],
   "source": [
    "tanz[(tanz.vehicle==\"wheat flour\") &\n",
    "     (tanz.value_description==\"percent of population eating fortified vehicle\") &\n",
    "     (tanz.nutrient.isin(nutrients))].sort_values('source_citation')"
   ]
  },
  {
   "cell_type": "code",
   "execution_count": null,
   "metadata": {},
   "outputs": [],
   "source": [
    "# all the same, taking the aaron source\n",
    "\n",
    "tanz.loc[(tanz.vehicle==\"wheat flour\") &\n",
    "     (tanz.value_description==\"percent of population eating fortified vehicle\") &\n",
    "     (tanz.nutrient.isin(nutrients)) &\n",
    "    (tanz.source_citation==\"Grant J Aaron, Valerie M Friesen, Svenja Jungjohann, Greg S Garrett, Lynnette M Neufeld, Mark Myatt, Coverage of Large-Scale Food Fortification of Edible Oil, Wheat Flour, and Maize Flour Varies Greatly by Vehicle and Country but Is Consistently Lower among the Most Vulnerable: Results from Coverage Surveys in 8 Countries, The Journal of Nutrition, Volume 147, Issue 5, May 2017, Pages 984S–994S, https://doi.org/10.3945/jn.116.245770\"),\n",
    "    \"data_choice_notes\"] = \"All sources (Aaron and GFDx) agreed.\"\n",
    "\n",
    "subset_data['United Republic of Tanzania'] = subset_data['United Republic of Tanzania'].append(tanz[(tanz.vehicle==\"wheat flour\") &\n",
    "     (tanz.value_description==\"percent of population eating fortified vehicle\") &\n",
    "     (tanz.nutrient.isin(nutrients)) &\n",
    "    (tanz.source_citation==\"Grant J Aaron, Valerie M Friesen, Svenja Jungjohann, Greg S Garrett, Lynnette M Neufeld, Mark Myatt, Coverage of Large-Scale Food Fortification of Edible Oil, Wheat Flour, and Maize Flour Varies Greatly by Vehicle and Country but Is Consistently Lower among the Most Vulnerable: Results from Coverage Surveys in 8 Countries, The Journal of Nutrition, Volume 147, Issue 5, May 2017, Pages 984S–994S, https://doi.org/10.3945/jn.116.245770\")])\n",
    "\n",
    "tanz[(tanz.vehicle==\"wheat flour\") &\n",
    "     (tanz.value_description==\"percent of population eating fortified vehicle\") &\n",
    "     (tanz.nutrient.isin(nutrients)) &\n",
    "    (tanz.source_citation==\"Grant J Aaron, Valerie M Friesen, Svenja Jungjohann, Greg S Garrett, Lynnette M Neufeld, Mark Myatt, Coverage of Large-Scale Food Fortification of Edible Oil, Wheat Flour, and Maize Flour Varies Greatly by Vehicle and Country but Is Consistently Lower among the Most Vulnerable: Results from Coverage Surveys in 8 Countries, The Journal of Nutrition, Volume 147, Issue 5, May 2017, Pages 984S–994S, https://doi.org/10.3945/jn.116.245770\")]"
   ]
  },
  {
   "cell_type": "code",
   "execution_count": null,
   "metadata": {},
   "outputs": [],
   "source": [
    "tanz[(tanz.vehicle==\"wheat flour\") &\n",
    "     (tanz.value_description==\"percent of population eating industrially produced vehicle\")].sort_values('source_citation')"
   ]
  },
  {
   "cell_type": "code",
   "execution_count": null,
   "metadata": {},
   "outputs": [],
   "source": [
    "# GFDx held the same values (50.5 g/day); took this over a number from a 2011 metanalysis (33 g/day) on the efficacy of different\n",
    "# vehicles for fortification\n",
    "\n",
    "tanz.loc[(tanz.vehicle==\"wheat flour\") &\n",
    "     (tanz.value_description==\"percent of population eating industrially produced vehicle\") &\n",
    "    (tanz.source_citation==\"Grant J Aaron, Valerie M Friesen, Svenja Jungjohann, Greg S Garrett, Lynnette M Neufeld, Mark Myatt, Coverage of Large-Scale Food Fortification of Edible Oil, Wheat Flour, and Maize Flour Varies Greatly by Vehicle and Country but Is Consistently Lower among the Most Vulnerable: Results from Coverage Surveys in 8 Countries, The Journal of Nutrition, Volume 147, Issue 5, May 2017, Pages 984S–994S, https://doi.org/10.3945/jn.116.245770\"),\n",
    "    \"data_choice_notes\"] = \"GFDx held the same values (51%); took this over a number from a 2011 metanalysis (33%) on the efficacy of different vehicles for fortification\"\n",
    "\n",
    "subset_data['United Republic of Tanzania'] = subset_data['United Republic of Tanzania'].append(tanz[(tanz.vehicle==\"wheat flour\") &\n",
    "     (tanz.value_description==\"percent of population eating industrially produced vehicle\") &\n",
    "    (tanz.source_citation==\"Grant J Aaron, Valerie M Friesen, Svenja Jungjohann, Greg S Garrett, Lynnette M Neufeld, Mark Myatt, Coverage of Large-Scale Food Fortification of Edible Oil, Wheat Flour, and Maize Flour Varies Greatly by Vehicle and Country but Is Consistently Lower among the Most Vulnerable: Results from Coverage Surveys in 8 Countries, The Journal of Nutrition, Volume 147, Issue 5, May 2017, Pages 984S–994S, https://doi.org/10.3945/jn.116.245770\")])\n",
    "\n",
    "tanz[(tanz.vehicle==\"wheat flour\") &\n",
    "     (tanz.value_description==\"percent of population eating industrially produced vehicle\") &\n",
    "    (tanz.source_citation==\"Grant J Aaron, Valerie M Friesen, Svenja Jungjohann, Greg S Garrett, Lynnette M Neufeld, Mark Myatt, Coverage of Large-Scale Food Fortification of Edible Oil, Wheat Flour, and Maize Flour Varies Greatly by Vehicle and Country but Is Consistently Lower among the Most Vulnerable: Results from Coverage Surveys in 8 Countries, The Journal of Nutrition, Volume 147, Issue 5, May 2017, Pages 984S–994S, https://doi.org/10.3945/jn.116.245770\")]"
   ]
  },
  {
   "cell_type": "code",
   "execution_count": null,
   "metadata": {},
   "outputs": [],
   "source": [
    "# these are the same, taking Aaron\n",
    "\n",
    "tanz[(tanz.vehicle==\"wheat flour\") &\n",
    "     (tanz.value_description==\"percent of population eating vehicle\")].sort_values('source_citation')"
   ]
  },
  {
   "cell_type": "code",
   "execution_count": null,
   "metadata": {},
   "outputs": [],
   "source": [
    "tanz.loc[(tanz.vehicle==\"wheat flour\") &\n",
    "     (tanz.value_description==\"percent of population eating vehicle\") &\n",
    "    (tanz.source_citation==\"Grant J Aaron, Valerie M Friesen, Svenja Jungjohann, Greg S Garrett, Lynnette M Neufeld, Mark Myatt, Coverage of Large-Scale Food Fortification of Edible Oil, Wheat Flour, and Maize Flour Varies Greatly by Vehicle and Country but Is Consistently Lower among the Most Vulnerable: Results from Coverage Surveys in 8 Countries, The Journal of Nutrition, Volume 147, Issue 5, May 2017, Pages 984S–994S, https://doi.org/10.3945/jn.116.245770\"),\n",
    "    \"data_choice_notes\"] = \"All sources (Aaron and GFDx) agreed.\"\n",
    "\n",
    "subset_data['United Republic of Tanzania'] = subset_data['United Republic of Tanzania'].append(tanz[(tanz.vehicle==\"wheat flour\") &\n",
    "     (tanz.value_description==\"percent of population eating vehicle\") &\n",
    "    (tanz.source_citation==\"Grant J Aaron, Valerie M Friesen, Svenja Jungjohann, Greg S Garrett, Lynnette M Neufeld, Mark Myatt, Coverage of Large-Scale Food Fortification of Edible Oil, Wheat Flour, and Maize Flour Varies Greatly by Vehicle and Country but Is Consistently Lower among the Most Vulnerable: Results from Coverage Surveys in 8 Countries, The Journal of Nutrition, Volume 147, Issue 5, May 2017, Pages 984S–994S, https://doi.org/10.3945/jn.116.245770\")])\n",
    "\n",
    "tanz[(tanz.vehicle==\"wheat flour\") &\n",
    "     (tanz.value_description==\"percent of population eating vehicle\") &\n",
    "    (tanz.source_citation==\"Grant J Aaron, Valerie M Friesen, Svenja Jungjohann, Greg S Garrett, Lynnette M Neufeld, Mark Myatt, Coverage of Large-Scale Food Fortification of Edible Oil, Wheat Flour, and Maize Flour Varies Greatly by Vehicle and Country but Is Consistently Lower among the Most Vulnerable: Results from Coverage Surveys in 8 Countries, The Journal of Nutrition, Volume 147, Issue 5, May 2017, Pages 984S–994S, https://doi.org/10.3945/jn.116.245770\")]"
   ]
  },
  {
   "cell_type": "markdown",
   "metadata": {},
   "source": [
    "## Uganda"
   ]
  },
  {
   "cell_type": "code",
   "execution_count": null,
   "metadata": {},
   "outputs": [],
   "source": [
    "uganda = check_one_country('Uganda')\n",
    "\n",
    "uganda.groupby(['vehicle','value_description']).mean()"
   ]
  },
  {
   "cell_type": "code",
   "execution_count": null,
   "metadata": {},
   "outputs": [],
   "source": [
    "uganda[(uganda.vehicle==\"maize flour\") &\n",
    "     (uganda.value_description==\"percent of population eating fortified vehicle\") &\n",
    "     (uganda.nutrient.isin(nutrients))].sort_values('source_citation')"
   ]
  },
  {
   "cell_type": "code",
   "execution_count": null,
   "metadata": {},
   "outputs": [],
   "source": [
    "#all the same, take aaron\n",
    "\n",
    "uganda.loc[(uganda.vehicle==\"maize flour\") &\n",
    "     (uganda.value_description==\"percent of population eating fortified vehicle\") &\n",
    "     (uganda.nutrient.isin(nutrients)) &\n",
    "      (uganda.source_link==\"https://doi.org/10.3945/jn.116.245753\"),\n",
    "          \"data_choice_notes\"] = \"All sources (Aaron and GFDx) agreed.\"\n",
    "\n",
    "subset_data['Uganda'] = subset_data['Uganda'].append(uganda[(uganda.vehicle==\"maize flour\") &\n",
    "     (uganda.value_description==\"percent of population eating fortified vehicle\") &\n",
    "     (uganda.nutrient.isin(nutrients)) &\n",
    "      (uganda.source_link==\"https://doi.org/10.3945/jn.116.245753\")])\n",
    "\n",
    "\n",
    "uganda[(uganda.vehicle==\"maize flour\") &\n",
    "     (uganda.value_description==\"percent of population eating fortified vehicle\") &\n",
    "     (uganda.nutrient.isin(nutrients)) &\n",
    "      (uganda.source_link==\"https://doi.org/10.3945/jn.116.245753\")]"
   ]
  },
  {
   "cell_type": "code",
   "execution_count": null,
   "metadata": {},
   "outputs": [],
   "source": [
    "uganda[(uganda.vehicle==\"maize flour\") &\n",
    "     (uganda.value_description==\"percent of population eating industrially produced vehicle\")]"
   ]
  },
  {
   "cell_type": "code",
   "execution_count": null,
   "metadata": {},
   "outputs": [],
   "source": [
    "# GFDx held the same values (42 g/day); took this over a number from a\n",
    "# 2006 datapoint (7 g/day) from a metanalysis on the efficacy of different vehicles for fortification\n",
    "\n",
    "uganda.loc[(uganda.vehicle==\"maize flour\") &\n",
    "     (uganda.value_description==\"percent of population eating industrially produced vehicle\") &\n",
    "    (uganda.source_citation==\"Grant J Aaron, Valerie M Friesen, Svenja Jungjohann, Greg S Garrett, Lynnette M Neufeld, Mark Myatt, Coverage of Large-Scale Food Fortification of Edible Oil, Wheat Flour, and Maize Flour Varies Greatly by Vehicle and Country but Is Consistently Lower among the Most Vulnerable: Results from Coverage Surveys in 8 Countries, The Journal of Nutrition, Volume 147, Issue 5, May 2017, Pages 984S–994S, https://doi.org/10.3945/jn.116.245771\"),\n",
    "      \"data_choice_notes\"] = \"GFDx held the same values (42%); took this over a number from a 2006 datapoint (7%) from a metanalysis on the efficacy of different vehicles for fortification\"\n",
    "\n",
    "subset_data['Uganda'] = subset_data['Uganda'].append(uganda[(uganda.vehicle==\"maize flour\") &\n",
    "     (uganda.value_description==\"percent of population eating industrially produced vehicle\") &\n",
    "    (uganda.source_citation==\"Grant J Aaron, Valerie M Friesen, Svenja Jungjohann, Greg S Garrett, Lynnette M Neufeld, Mark Myatt, Coverage of Large-Scale Food Fortification of Edible Oil, Wheat Flour, and Maize Flour Varies Greatly by Vehicle and Country but Is Consistently Lower among the Most Vulnerable: Results from Coverage Surveys in 8 Countries, The Journal of Nutrition, Volume 147, Issue 5, May 2017, Pages 984S–994S, https://doi.org/10.3945/jn.116.245771\")])\n",
    "\n",
    "uganda[(uganda.vehicle==\"maize flour\") &\n",
    "     (uganda.value_description==\"percent of population eating industrially produced vehicle\") &\n",
    "    (uganda.source_citation==\"Grant J Aaron, Valerie M Friesen, Svenja Jungjohann, Greg S Garrett, Lynnette M Neufeld, Mark Myatt, Coverage of Large-Scale Food Fortification of Edible Oil, Wheat Flour, and Maize Flour Varies Greatly by Vehicle and Country but Is Consistently Lower among the Most Vulnerable: Results from Coverage Surveys in 8 Countries, The Journal of Nutrition, Volume 147, Issue 5, May 2017, Pages 984S–994S, https://doi.org/10.3945/jn.116.245771\")]"
   ]
  },
  {
   "cell_type": "code",
   "execution_count": null,
   "metadata": {},
   "outputs": [],
   "source": [
    "uganda[(uganda.vehicle==\"maize flour\") &\n",
    "     (uganda.value_description==\"percent of population eating vehicle\")]"
   ]
  },
  {
   "cell_type": "code",
   "execution_count": null,
   "metadata": {},
   "outputs": [],
   "source": [
    "#same values, take the aaron\n",
    "\n",
    "uganda.loc[(uganda.vehicle==\"maize flour\") &\n",
    "     (uganda.value_description==\"percent of population eating vehicle\") &\n",
    "      (uganda.source_citation==\"Grant J Aaron, Valerie M Friesen, Svenja Jungjohann, Greg S Garrett, Lynnette M Neufeld, Mark Myatt, Coverage of Large-Scale Food Fortification of Edible Oil, Wheat Flour, and Maize Flour Varies Greatly by Vehicle and Country but Is Consistently Lower among the Most Vulnerable: Results from Coverage Surveys in 8 Countries, The Journal of Nutrition, Volume 147, Issue 5, May 2017, Pages 984S–994S, https://doi.org/10.3945/jn.116.245771\"),\n",
    "      \"data_choice_notes\"] = \"All sources (Aaron and GFDx) agreed.\"\n",
    "\n",
    "subset_data['Uganda'] = subset_data['Uganda'].append(uganda[(uganda.vehicle==\"maize flour\") &\n",
    "     (uganda.value_description==\"percent of population eating vehicle\") &\n",
    "      (uganda.source_citation==\"Grant J Aaron, Valerie M Friesen, Svenja Jungjohann, Greg S Garrett, Lynnette M Neufeld, Mark Myatt, Coverage of Large-Scale Food Fortification of Edible Oil, Wheat Flour, and Maize Flour Varies Greatly by Vehicle and Country but Is Consistently Lower among the Most Vulnerable: Results from Coverage Surveys in 8 Countries, The Journal of Nutrition, Volume 147, Issue 5, May 2017, Pages 984S–994S, https://doi.org/10.3945/jn.116.245771\")])\n",
    "\n",
    "uganda[(uganda.vehicle==\"maize flour\") &\n",
    "     (uganda.value_description==\"percent of population eating vehicle\") &\n",
    "      (uganda.source_citation==\"Grant J Aaron, Valerie M Friesen, Svenja Jungjohann, Greg S Garrett, Lynnette M Neufeld, Mark Myatt, Coverage of Large-Scale Food Fortification of Edible Oil, Wheat Flour, and Maize Flour Varies Greatly by Vehicle and Country but Is Consistently Lower among the Most Vulnerable: Results from Coverage Surveys in 8 Countries, The Journal of Nutrition, Volume 147, Issue 5, May 2017, Pages 984S–994S, https://doi.org/10.3945/jn.116.245771\")]"
   ]
  },
  {
   "cell_type": "code",
   "execution_count": null,
   "metadata": {},
   "outputs": [],
   "source": [
    "uganda.groupby(['vehicle','value_description']).mean()"
   ]
  },
  {
   "cell_type": "code",
   "execution_count": null,
   "metadata": {},
   "outputs": [],
   "source": [
    "uganda[(uganda.vehicle==\"oil\") & \n",
    "       (uganda.value_description==\"percent of population eating fortified vehicle\") &\n",
    "       (uganda.nutrient.isin(nutrients))].sort_values('source_citation')"
   ]
  },
  {
   "cell_type": "code",
   "execution_count": null,
   "metadata": {},
   "outputs": [],
   "source": [
    "# values the same, take the aaron\n",
    "\n",
    "uganda.loc[(uganda.vehicle==\"oil\") & \n",
    "       (uganda.value_description==\"percent of population eating fortified vehicle\") &\n",
    "       (uganda.nutrient.isin(nutrients)) &\n",
    "      (uganda.source_link==\"https://doi.org/10.3945/jn.116.245753\"),\n",
    "          \"data_choice_notes\"] = \"All sources (Aaron and GFDx) agreed.\"\n",
    "\n",
    "\n",
    "subset_data['Uganda'] = subset_data['Uganda'].append(uganda[(uganda.vehicle==\"oil\") & \n",
    "       (uganda.value_description==\"percent of population eating fortified vehicle\") &\n",
    "       (uganda.nutrient.isin(nutrients)) &\n",
    "      (uganda.source_link==\"https://doi.org/10.3945/jn.116.245753\")]\n",
    ")\n",
    "\n",
    "uganda[(uganda.vehicle==\"oil\") & \n",
    "       (uganda.value_description==\"percent of population eating fortified vehicle\") &\n",
    "       (uganda.nutrient.isin(nutrients)) &\n",
    "      (uganda.source_link==\"https://doi.org/10.3945/jn.116.245753\")]\n"
   ]
  },
  {
   "cell_type": "code",
   "execution_count": null,
   "metadata": {},
   "outputs": [],
   "source": [
    "uganda[(uganda.vehicle==\"oil\") & \n",
    "       (uganda.value_description==\"percent of population eating industrially produced vehicle\")]"
   ]
  },
  {
   "cell_type": "code",
   "execution_count": null,
   "metadata": {},
   "outputs": [],
   "source": [
    "# GFDx held the same values (89 g/day); took this over a number from a\n",
    "# 2011 metanalysis (54 g/day) on the efficacy of different vehicles for fortification\n",
    "\n",
    "uganda.loc[(uganda.vehicle==\"oil\") & \n",
    "       (uganda.value_description==\"percent of population eating industrially produced vehicle\") &\n",
    "      (uganda.source_link==\"https://doi.org/10.3945/jn.116.245753\"),\n",
    "      \"data_choice_notes\"] = \"GFDx held the same values (89%); took this over a number from a 2011 metanalysis (54%) on the efficacy of different vehicles for fortification\"\n",
    "\n",
    "subset_data['Uganda'] = subset_data['Uganda'].append(uganda[(uganda.vehicle==\"oil\") & \n",
    "       (uganda.value_description==\"percent of population eating industrially produced vehicle\") &\n",
    "      (uganda.source_link==\"https://doi.org/10.3945/jn.116.245753\")])\n",
    "\n",
    "uganda[(uganda.vehicle==\"oil\") & \n",
    "       (uganda.value_description==\"percent of population eating industrially produced vehicle\") &\n",
    "      (uganda.source_link==\"https://doi.org/10.3945/jn.116.245753\")]"
   ]
  },
  {
   "cell_type": "code",
   "execution_count": null,
   "metadata": {},
   "outputs": [],
   "source": [
    "uganda[(uganda.vehicle==\"oil\") & \n",
    "       (uganda.value_description==\"percent of population eating vehicle\")]"
   ]
  },
  {
   "cell_type": "code",
   "execution_count": null,
   "metadata": {},
   "outputs": [],
   "source": [
    "#values the same; taking aaron\n",
    "\n",
    "uganda.loc[(uganda.vehicle==\"oil\") & \n",
    "       (uganda.value_description==\"percent of population eating vehicle\") &\n",
    "      (uganda.source_link==\"https://doi.org/10.3945/jn.116.245753\"),\n",
    "          \"data_choice_notes\"] = \"All sources (Aaron and GFDx) agreed.\"\n",
    "\n",
    "subset_data['Uganda'] = subset_data['Uganda'].append(uganda[(uganda.vehicle==\"oil\") & \n",
    "       (uganda.value_description==\"percent of population eating vehicle\") &\n",
    "      (uganda.source_link==\"https://doi.org/10.3945/jn.116.245753\")])\n",
    "\n",
    "uganda[(uganda.vehicle==\"oil\") & \n",
    "       (uganda.value_description==\"percent of population eating vehicle\") &\n",
    "      (uganda.source_link==\"https://doi.org/10.3945/jn.116.245753\")]"
   ]
  },
  {
   "cell_type": "code",
   "execution_count": null,
   "metadata": {},
   "outputs": [],
   "source": [
    "uganda.groupby(['vehicle','value_description']).mean()"
   ]
  },
  {
   "cell_type": "code",
   "execution_count": null,
   "metadata": {},
   "outputs": [],
   "source": []
  },
  {
   "cell_type": "code",
   "execution_count": null,
   "metadata": {},
   "outputs": [],
   "source": [
    "## same vals, take aaron\n",
    "\n",
    "uganda.loc[(uganda.vehicle==\"wheat flour\") & \n",
    "       (uganda.value_description==\"percent of population eating fortified vehicle\") &\n",
    "       (uganda.nutrient.isin(nutrients)) &\n",
    "      (uganda.source_link==\"https://doi.org/10.3945/jn.116.245753\"),\n",
    "      \"data_choice_notes\"] = \"All sources (Aaron and GFDx) agreed.\"\n",
    "\n",
    "subset_data['Uganda'] = subset_data['Uganda'].append(\n",
    "    uganda[(uganda.vehicle==\"wheat flour\") & \n",
    "       (uganda.value_description==\"percent of population eating fortified vehicle\") &\n",
    "       (uganda.nutrient.isin(nutrients)) &\n",
    "      (uganda.source_link==\"https://doi.org/10.3945/jn.116.245753\")]\n",
    ")\n",
    "\n",
    "uganda[(uganda.vehicle==\"wheat flour\") & \n",
    "       (uganda.value_description==\"percent of population eating fortified vehicle\") &\n",
    "       (uganda.nutrient.isin(nutrients)) &\n",
    "      (uganda.source_link==\"https://doi.org/10.3945/jn.116.245753\")]"
   ]
  },
  {
   "cell_type": "code",
   "execution_count": null,
   "metadata": {},
   "outputs": [],
   "source": [
    "uganda[(uganda.vehicle==\"wheat flour\") & \n",
    "       (uganda.value_description==\"percent of population eating industrially produced vehicle\")]"
   ]
  },
  {
   "cell_type": "code",
   "execution_count": null,
   "metadata": {},
   "outputs": [],
   "source": [
    "# GFDx held the same values (10.6 g/day); took this over a number from a\n",
    "# 2016 metanalysis (8.5 g/day) on the efficacy of different vehicles for fortification\n",
    "\n",
    "\n",
    "uganda.loc[(uganda.vehicle==\"wheat flour\") & \n",
    "       (uganda.value_description==\"percent of population eating industrially produced vehicle\") &\n",
    "      (uganda.source_link==\"https://doi.org/10.3945/jn.116.245753\"),\n",
    "      \"data_choice_notes\"] = \"GFDx held the same values (11%); took this over a number from a 2016 metanalysis (9%) on the efficacy of different vehicles for fortification\"\n",
    "\n",
    "subset_data['Uganda'] = subset_data['Uganda'].append(\n",
    "    uganda[(uganda.vehicle==\"wheat flour\") & \n",
    "       (uganda.value_description==\"percent of population eating industrially produced vehicle\") &\n",
    "      (uganda.source_link==\"https://doi.org/10.3945/jn.116.245753\")]\n",
    ")\n",
    "\n",
    "uganda[(uganda.vehicle==\"wheat flour\") & \n",
    "       (uganda.value_description==\"percent of population eating industrially produced vehicle\") &\n",
    "      (uganda.source_link==\"https://doi.org/10.3945/jn.116.245753\")]"
   ]
  },
  {
   "cell_type": "code",
   "execution_count": null,
   "metadata": {},
   "outputs": [],
   "source": [
    "# vals the same, take aaron\n",
    "\n",
    "uganda[(uganda.vehicle==\"wheat flour\") & \n",
    "       (uganda.value_description==\"percent of population eating vehicle\")]"
   ]
  },
  {
   "cell_type": "code",
   "execution_count": null,
   "metadata": {},
   "outputs": [],
   "source": [
    "uganda.loc[(uganda.vehicle==\"wheat flour\") & \n",
    "       (uganda.value_description==\"percent of population eating vehicle\") & \n",
    "      (uganda.source_link==\"https://doi.org/10.3945/jn.116.245753\"),\"data_choice_notes\"] = \"All sources (Aaron and GFDx) agreed.\"\n",
    "\n",
    "subset_data['Uganda'] = subset_data['Uganda'].append(\n",
    "    uganda[(uganda.vehicle==\"wheat flour\") & \n",
    "       (uganda.value_description==\"percent of population eating vehicle\") & \n",
    "      (uganda.source_link==\"https://doi.org/10.3945/jn.116.245753\")]\n",
    ")\n",
    "\n",
    "uganda[(uganda.vehicle==\"wheat flour\") & \n",
    "       (uganda.value_description==\"percent of population eating vehicle\") & \n",
    "      (uganda.source_link==\"https://doi.org/10.3945/jn.116.245753\")]"
   ]
  },
  {
   "cell_type": "markdown",
   "metadata": {},
   "source": [
    "## South Africa"
   ]
  },
  {
   "cell_type": "code",
   "execution_count": null,
   "metadata": {},
   "outputs": [],
   "source": [
    "safrica = check_one_country('South Africa')\n",
    "\n",
    "safrica.groupby(['vehicle','value_description']).mean()"
   ]
  },
  {
   "cell_type": "code",
   "execution_count": null,
   "metadata": {},
   "outputs": [],
   "source": [
    "safrica[(safrica.vehicle==\"maize flour\") &\n",
    "     (safrica.value_description==\"percent of population eating fortified vehicle\")].sort_values('source_citation')"
   ]
  },
  {
   "cell_type": "code",
   "execution_count": null,
   "metadata": {},
   "outputs": [],
   "source": [
    "#only one source; we'll pop-weight these\n",
    "\n",
    "safrica.loc[(safrica.vehicle==\"maize flour\") &\n",
    "     (safrica.value_description==\"percent of population eating fortified vehicle\") &\n",
    "     (safrica.nutrient.isin(nutrients)),\"data_choice_notes\"] = \"Only one source.\"\n",
    "\n",
    "subset_data['South Africa'] = subset_data['South Africa'].append(safrica[(safrica.vehicle==\"maize flour\") &\n",
    "     (safrica.value_description==\"percent of population eating fortified vehicle\") &\n",
    "     (safrica.nutrient.isin(nutrients))].sort_values('source_citation'))\n",
    "\n",
    "safrica[(safrica.vehicle==\"maize flour\") &\n",
    "     (safrica.value_description==\"percent of population eating fortified vehicle\") &\n",
    "     (safrica.nutrient.isin(nutrients))].sort_values('source_citation')"
   ]
  },
  {
   "cell_type": "code",
   "execution_count": null,
   "metadata": {},
   "outputs": [],
   "source": [
    "#only one source (aaron); take it\n",
    "\n",
    "safrica.loc[(safrica.vehicle==\"maize flour\") &\n",
    "     (safrica.value_description==\"percent of population eating industrially produced vehicle\"),\n",
    "           \"data_choice_notes\"] = \"Only one source.\"\n",
    "\n",
    "subset_data['South Africa'] = subset_data['South Africa'].append(safrica[(safrica.vehicle==\"maize flour\") &\n",
    "     (safrica.value_description==\"percent of population eating industrially produced vehicle\")])\n",
    "\n",
    "safrica[(safrica.vehicle==\"maize flour\") &\n",
    "     (safrica.value_description==\"percent of population eating industrially produced vehicle\")]"
   ]
  },
  {
   "cell_type": "code",
   "execution_count": null,
   "metadata": {},
   "outputs": [],
   "source": [
    "#only one source (aaron); take it\n",
    "\n",
    "safrica.loc[(safrica.vehicle==\"maize flour\") &\n",
    "     (safrica.value_description==\"percent of population eating vehicle\"), \"data_choice_notes\"] = \"Only one source.\"\n",
    "\n",
    "subset_data['South Africa'] = subset_data['South Africa'].append(safrica[(safrica.vehicle==\"maize flour\") &\n",
    "     (safrica.value_description==\"percent of population eating vehicle\")])\n",
    "\n",
    "safrica[(safrica.vehicle==\"maize flour\") &\n",
    "     (safrica.value_description==\"percent of population eating vehicle\")]"
   ]
  },
  {
   "cell_type": "code",
   "execution_count": null,
   "metadata": {},
   "outputs": [],
   "source": [
    "#this is somehow extracted twice, but only one source, so we'll take it\n",
    "\n",
    "safrica.loc[(safrica.vehicle==\"wheat flour\") &\n",
    "     (safrica.value_description==\"percent of population eating fortified vehicle\") &\n",
    "    (safrica.nutrient.isin(nutrients)),\"data_choice_notes\"] = \"Only one source.\"\n",
    "\n",
    "subset_data['South Africa'] = subset_data['South Africa'].append(safrica[(safrica.vehicle==\"wheat flour\") &\n",
    "     (safrica.value_description==\"percent of population eating fortified vehicle\") &\n",
    "     (safrica.nutrient.isin(nutrients))].sort_values('source_citation').drop_duplicates())\n",
    "\n",
    "safrica[(safrica.vehicle==\"wheat flour\") &\n",
    "     (safrica.value_description==\"percent of population eating fortified vehicle\") &\n",
    "    (safrica.nutrient.isin(nutrients))].sort_values('source_citation').drop_duplicates()"
   ]
  },
  {
   "cell_type": "code",
   "execution_count": null,
   "metadata": {},
   "outputs": [],
   "source": [
    "#only one source (aaron); take it\n",
    "\n",
    "safrica.loc[(safrica.vehicle==\"wheat flour\") &\n",
    "     (safrica.value_description==\"percent of population eating industrially produced vehicle\"),\"data_choice_notes\"] = \"Only one source.\"\n",
    "\n",
    "subset_data['South Africa'] = subset_data['South Africa'].append(safrica[(safrica.vehicle==\"wheat flour\") &\n",
    "     (safrica.value_description==\"percent of population eating industrially produced vehicle\")])\n",
    "\n",
    "safrica[(safrica.vehicle==\"wheat flour\") &\n",
    "     (safrica.value_description==\"percent of population eating industrially produced vehicle\")]"
   ]
  },
  {
   "cell_type": "code",
   "execution_count": null,
   "metadata": {},
   "outputs": [],
   "source": [
    "#only one source (aaron); take it\n",
    "\n",
    "safrica.loc[(safrica.vehicle==\"wheat flour\") &\n",
    "     (safrica.value_description==\"percent of population eating vehicle\"),\"data_choice_notes\"] = \"Only one source.\"\n",
    "\n",
    "\n",
    "subset_data['South Africa'] = subset_data['South Africa'].append(safrica[(safrica.vehicle==\"wheat flour\") &\n",
    "     (safrica.value_description==\"percent of population eating vehicle\")])\n",
    "\n",
    "safrica[(safrica.vehicle==\"wheat flour\") &\n",
    "     (safrica.value_description==\"percent of population eating vehicle\")]"
   ]
  },
  {
   "cell_type": "code",
   "execution_count": null,
   "metadata": {},
   "outputs": [],
   "source": [
    "outputs_dir = '/ihme/homes/beatrixh/vivarium_research_lsff/data_prep/outputs/'\n",
    "\n",
    "pct_eating = pd.read_csv(outputs_dir + 'pct_eating_regression_estimates_3_15_2021.csv')\n",
    "pct_ind_prod = pd.read_csv(outputs_dir + 'pct_eating_ind_prod_regression_estimates_3_15_2021.csv')\n",
    "pct_fortified = pd.read_csv(outputs_dir + 'pct_eating_fortified_regression_estimates_3_15_2021.csv')"
   ]
  },
  {
   "cell_type": "code",
   "execution_count": null,
   "metadata": {},
   "outputs": [],
   "source": [
    "pct_eating[pct_eating.location_name==\"South Africa\"]"
   ]
  },
  {
   "cell_type": "code",
   "execution_count": null,
   "metadata": {},
   "outputs": [],
   "source": [
    "pct_ind_prod[pct_ind_prod.location_name==\"South Africa\"]"
   ]
  },
  {
   "cell_type": "code",
   "execution_count": null,
   "metadata": {},
   "outputs": [],
   "source": [
    "pct_fortified[pct_fortified.location_name==\"South Africa\"]\n"
   ]
  },
  {
   "cell_type": "code",
   "execution_count": null,
   "metadata": {},
   "outputs": [],
   "source": [
    "safrica_oil_estimates = pct_eating[pct_eating.location_name==\"South Africa\"].merge(\n",
    "    pct_ind_prod[pct_ind_prod.location_name==\"South Africa\"], on = ['location_name','vehicle']\n",
    ").merge(\n",
    "    pct_fortified[pct_fortified.location_name==\"South Africa\"], on = ['location_name','vehicle']\n",
    ")\n",
    "\n",
    "safrica_oil_estimates = safrica_oil_estimates.melt(id_vars = ['location_name','vehicle'],\n",
    "                                                   value_name = \"value_mean\", var_name = \"value_description\")\n",
    "\n",
    "safrica_oil_estimates.value_description = safrica_oil_estimates.value_description.map({i:i.replace(\"_\",\" \") for i in safrica_oil_estimates.value_description})\n",
    "\n",
    "safrica_oil_estimates['estimation_status'] = \"regression\""
   ]
  },
  {
   "cell_type": "code",
   "execution_count": null,
   "metadata": {},
   "outputs": [],
   "source": [
    "safrica_oil_estimates"
   ]
  },
  {
   "cell_type": "code",
   "execution_count": null,
   "metadata": {},
   "outputs": [],
   "source": [
    "safrica_oil_estimates.loc[safrica_oil_estimates.value_description==\"percent of population eating fortified vehicle\",'nutrient'] = 'vitamin a'\n",
    "safrica_oil_estimates.loc[safrica_oil_estimates.value_description!=\"percent of population eating fortified vehicle\",'nutrient'] = 'na'"
   ]
  },
  {
   "cell_type": "code",
   "execution_count": null,
   "metadata": {},
   "outputs": [],
   "source": [
    "safrica_oil_estimates"
   ]
  },
  {
   "cell_type": "code",
   "execution_count": null,
   "metadata": {},
   "outputs": [],
   "source": [
    "subset_data['South Africa'] = subset_data['South Africa'].append(safrica_oil_estimates)"
   ]
  },
  {
   "cell_type": "markdown",
   "metadata": {},
   "source": [
    "## pop-weight subnationals"
   ]
  },
  {
   "cell_type": "code",
   "execution_count": null,
   "metadata": {},
   "outputs": [],
   "source": [
    "scols = rcols # + ['source_link','source_citation','estimation_status','sub_population']"
   ]
  },
  {
   "cell_type": "code",
   "execution_count": null,
   "metadata": {},
   "outputs": [],
   "source": [
    "df[df.location_name.isin(location_names)].subnational_name.unique()"
   ]
  },
  {
   "cell_type": "code",
   "execution_count": null,
   "metadata": {},
   "outputs": [],
   "source": [
    "loc_metadata = get_locs(location_set_id=35, gbd_round_id=6, decomp_step=\"step4\")\n",
    "\n",
    "#combine subnational estimates by population-weighting\n",
    "\n",
    "subnats = loc_metadata[loc_metadata.location_name.isin(['Balochistan', 'Punjab', 'Sindh', 'Eastern Cape', 'Gauteng']) & \n",
    "                      (loc_metadata.parent_id.isin([165, 196]))][['location_id','location_name','parent_id']]\n",
    "\n",
    "subnats = subnats.rename(columns = {\n",
    "    'location_id':'subnational_id',\n",
    "    'location_name':'subnational_name'\n",
    "})\n",
    "\n",
    "subnat_pop = get_population(age_group_id=22, \n",
    "                     location_id=list(subnats.subnational_id),\n",
    "                     year_id=2017,\n",
    "                     sex_id=3,\n",
    "                     gbd_round_id=6, \n",
    "                     decomp_step='step5')\n",
    "\n",
    "subnats = subnats.merge(subnat_pop, left_on = 'subnational_id', right_on = 'location_id')[['subnational_id','subnational_name','population','parent_id']]\n",
    "\n",
    "subnats['pop_denom'] = subnats.groupby('parent_id').transform('sum').population\n",
    "\n",
    "subnats['subnat_pop_weight'] = subnats.population / subnats.pop_denom"
   ]
  },
  {
   "cell_type": "code",
   "execution_count": null,
   "metadata": {},
   "outputs": [],
   "source": [
    "subnats"
   ]
  },
  {
   "cell_type": "code",
   "execution_count": null,
   "metadata": {},
   "outputs": [],
   "source": [
    "tmp = subset_data['Pakistan']"
   ]
  },
  {
   "cell_type": "code",
   "execution_count": null,
   "metadata": {},
   "outputs": [],
   "source": [
    "tmp.loc[tmp.source_citation.isna(),'source_citation'] = 'na'\n",
    "tmp.loc[tmp.source_link.isna(),'source_link'] = 'na'\n",
    "tmp.loc[tmp.estimation_status.isna(),'estimation_status'] = 'na'"
   ]
  },
  {
   "cell_type": "code",
   "execution_count": null,
   "metadata": {},
   "outputs": [],
   "source": [
    "tmp.loc[tmp.value_025_percentile=='na','value_025_percentile'] = np.nan\n",
    "tmp.loc[tmp.value_975_percentile=='na','value_975_percentile'] = np.nan"
   ]
  },
  {
   "cell_type": "code",
   "execution_count": null,
   "metadata": {},
   "outputs": [],
   "source": [
    "tmp.loc[tmp.estimation_status.isna(),'estimation_status'] = 'na'"
   ]
  },
  {
   "cell_type": "code",
   "execution_count": null,
   "metadata": {},
   "outputs": [],
   "source": [
    "tmp['is_dupl'] = tmp.duplicated(subset = rcols, keep = False)"
   ]
  },
  {
   "cell_type": "code",
   "execution_count": null,
   "metadata": {},
   "outputs": [],
   "source": [
    "tmp = tmp.merge(subnats[['subnational_name','subnat_pop_weight']], how = 'left')"
   ]
  },
  {
   "cell_type": "code",
   "execution_count": null,
   "metadata": {},
   "outputs": [],
   "source": [
    "tmp.subnat_pop_weight = tmp.subnat_pop_weight.astype(float)\n",
    "tmp.value_mean = tmp.value_mean.astype(float)\n",
    "tmp.value_025_percentile = tmp.value_025_percentile.astype(float)\n",
    "tmp.value_975_percentile = tmp.value_975_percentile.astype(float)"
   ]
  },
  {
   "cell_type": "code",
   "execution_count": null,
   "metadata": {},
   "outputs": [],
   "source": [
    "tmp.loc[tmp.is_dupl,'value_mean'] = tmp.loc[tmp.is_dupl].value_mean * tmp.loc[tmp.is_dupl].subnat_pop_weight\n",
    "tmp.loc[tmp.is_dupl,'value_025_percentile'] = tmp.value_025_percentile * tmp.subnat_pop_weight\n",
    "tmp.loc[tmp.is_dupl,'value_975_percentile'] = tmp.value_975_percentile * tmp.subnat_pop_weight"
   ]
  },
  {
   "cell_type": "code",
   "execution_count": null,
   "metadata": {},
   "outputs": [],
   "source": [
    "tmp.loc[~tmp.is_dupl,'subnational_name'] = 'na'"
   ]
  },
  {
   "cell_type": "code",
   "execution_count": null,
   "metadata": {},
   "outputs": [],
   "source": [
    "tmp.value_mean = tmp.groupby(rcols).transform('sum').value_mean\n",
    "tmp.value_025_percentile = tmp.groupby(rcols).transform('sum').value_025_percentile\n",
    "tmp.value_975_percentile = tmp.groupby(rcols).transform('sum').value_975_percentile"
   ]
  },
  {
   "cell_type": "code",
   "execution_count": null,
   "metadata": {},
   "outputs": [],
   "source": [
    "tmp = tmp[['location_name','vehicle','value_description','nutrient','estimation_status','source_link','source_year','sub_population','value_mean','value_025_percentile','value_975_percentile','data_choice_notes']].drop_duplicates()"
   ]
  },
  {
   "cell_type": "code",
   "execution_count": null,
   "metadata": {},
   "outputs": [],
   "source": [
    "subset_data['Pakistan'] = tmp"
   ]
  },
  {
   "cell_type": "code",
   "execution_count": null,
   "metadata": {},
   "outputs": [],
   "source": [
    "## south africa"
   ]
  },
  {
   "cell_type": "code",
   "execution_count": null,
   "metadata": {},
   "outputs": [],
   "source": [
    "tmp = subset_data['South Africa']\n",
    "tmp.loc[tmp.source_citation.isna(),'source_citation'] = 'na'\n",
    "tmp.loc[tmp.source_citation.isna(),'source_link'] = 'na'"
   ]
  },
  {
   "cell_type": "code",
   "execution_count": null,
   "metadata": {},
   "outputs": [],
   "source": [
    "tmp['is_dupl'] = tmp.duplicated(subset = rcols, keep = False)"
   ]
  },
  {
   "cell_type": "code",
   "execution_count": null,
   "metadata": {},
   "outputs": [],
   "source": [
    "tmp = tmp.merge(subnats[['subnational_name','subnat_pop_weight']], how = 'left')"
   ]
  },
  {
   "cell_type": "code",
   "execution_count": null,
   "metadata": {},
   "outputs": [],
   "source": [
    "tmp.subnat_pop_weight = tmp.subnat_pop_weight.astype(float)\n",
    "tmp.value_mean = tmp.value_mean.astype(float)\n",
    "tmp.value_025_percentile = tmp.value_025_percentile.astype(float)\n",
    "tmp.value_975_percentile = tmp.value_975_percentile.astype(float)"
   ]
  },
  {
   "cell_type": "code",
   "execution_count": null,
   "metadata": {},
   "outputs": [],
   "source": [
    "tmp.loc[tmp.is_dupl,'value_mean'] = tmp.loc[tmp.is_dupl].value_mean * tmp.loc[tmp.is_dupl].subnat_pop_weight\n",
    "tmp.loc[tmp.is_dupl,'value_025_percentile'] = tmp.value_025_percentile * tmp.subnat_pop_weight\n",
    "tmp.loc[tmp.is_dupl,'value_975_percentile'] = tmp.value_975_percentile * tmp.subnat_pop_weight"
   ]
  },
  {
   "cell_type": "code",
   "execution_count": null,
   "metadata": {},
   "outputs": [],
   "source": [
    "tmp.loc[~tmp.is_dupl,'subnational_name'] = 'na'"
   ]
  },
  {
   "cell_type": "code",
   "execution_count": null,
   "metadata": {},
   "outputs": [],
   "source": [
    "tmp.value_mean = tmp.groupby(rcols).transform('sum').value_mean\n",
    "tmp.value_025_percentile = tmp.groupby(rcols).transform('sum').value_025_percentile\n",
    "tmp.value_975_percentile = tmp.groupby(rcols).transform('sum').value_975_percentile"
   ]
  },
  {
   "cell_type": "code",
   "execution_count": null,
   "metadata": {},
   "outputs": [],
   "source": [
    "tmp = tmp[['location_name','vehicle','value_description','nutrient','estimation_status','source_link','source_year','sub_population','value_mean','value_025_percentile','value_975_percentile','data_choice_notes']].drop_duplicates()"
   ]
  },
  {
   "cell_type": "code",
   "execution_count": null,
   "metadata": {},
   "outputs": [],
   "source": [
    "subset_data['South Africa'] = tmp"
   ]
  },
  {
   "cell_type": "markdown",
   "metadata": {},
   "source": [
    "## Check for missingness"
   ]
  },
  {
   "cell_type": "code",
   "execution_count": null,
   "metadata": {},
   "outputs": [],
   "source": [
    "all_data = pd.concat(list(subset_data.values()))"
   ]
  },
  {
   "cell_type": "code",
   "execution_count": null,
   "metadata": {},
   "outputs": [],
   "source": [
    "all_data.data_choice_notes.unique()"
   ]
  },
  {
   "cell_type": "code",
   "execution_count": null,
   "metadata": {},
   "outputs": [],
   "source": [
    "all_data.loc[~(all_data.nutrient.isin(['vitamin a','iron','zinc','folic acid'])),'nutrient'] = 'na'"
   ]
  },
  {
   "cell_type": "code",
   "execution_count": null,
   "metadata": {},
   "outputs": [],
   "source": [
    "all_data[rcols + ['value_mean','value_025_percentile','value_975_percentile','sub_population']]"
   ]
  },
  {
   "cell_type": "code",
   "execution_count": null,
   "metadata": {
    "scrolled": true
   },
   "outputs": [],
   "source": [
    "check = target.merge(all_data[rcols + ['value_mean']], on = rcols, how = 'left')"
   ]
  },
  {
   "cell_type": "code",
   "execution_count": null,
   "metadata": {},
   "outputs": [],
   "source": [
    "check[check.value_mean.isna()]"
   ]
  },
  {
   "cell_type": "code",
   "execution_count": null,
   "metadata": {},
   "outputs": [],
   "source": [
    "assert(len(check[check.value_mean.isna()])==0), \"there are target loc/vehcile/val/nutrient combos youre missing\""
   ]
  },
  {
   "cell_type": "code",
   "execution_count": null,
   "metadata": {},
   "outputs": [],
   "source": [
    "all_data.columns"
   ]
  },
  {
   "cell_type": "code",
   "execution_count": null,
   "metadata": {},
   "outputs": [],
   "source": [
    "output = all_data[rcols + ['value_mean','value_025_percentile', 'value_975_percentile','sub_population','estimation_status','source_citation','source_link','data_choice_notes']].sort_values(rcols).set_index(rcols)"
   ]
  },
  {
   "cell_type": "code",
   "execution_count": null,
   "metadata": {},
   "outputs": [],
   "source": [
    "## TODO"
   ]
  },
  {
   "cell_type": "code",
   "execution_count": null,
   "metadata": {},
   "outputs": [],
   "source": [
    "output[(output.estimation_status.isna()) & ((output.source_citation.isna()) | (output.source_link.isna()))]"
   ]
  },
  {
   "cell_type": "code",
   "execution_count": null,
   "metadata": {},
   "outputs": [],
   "source": [
    "df[df.source_link==\"https://doi.org/10.3945/jn.116.245753\"].source_citation.unique()[0]"
   ]
  },
  {
   "cell_type": "code",
   "execution_count": null,
   "metadata": {},
   "outputs": [],
   "source": [
    "output.loc[(output.estimation_status.isna()) & ((output.source_citation.isna()) & (output.source_link==\"https://doi.org/10.3945/jn.116.245753\")),'source_citation'] = 'Grant J Aaron, Valerie M Friesen, Svenja Jungjohann, Greg S Garrett, Lynnette M Neufeld, Mark Myatt, Coverage of Large-Scale Food Fortification of Edible Oil, Wheat Flour, and Maize Flour Varies Greatly by Vehicle and Country but Is Consistently Lower among the Most Vulnerable: Results from Coverage Surveys in 8 Countries, The Journal of Nutrition, Volume 147, Issue 5, May 2017, Pages 984S–994S, https://doi.org/10.3945/jn.116.245753'"
   ]
  },
  {
   "cell_type": "code",
   "execution_count": null,
   "metadata": {},
   "outputs": [],
   "source": [
    "output = output.reset_index()"
   ]
  },
  {
   "cell_type": "code",
   "execution_count": null,
   "metadata": {},
   "outputs": [],
   "source": [
    "##impute all missing CIs\n",
    "\n",
    "# clean value_mean\n",
    "output.loc[output.value_mean=='na','value_mean'] = np.nan\n",
    "output.value_mean = output.value_mean.astype(float)\n",
    "\n",
    "# clean 2.5th %ile\n",
    "output.loc[output.value_025_percentile=='na','value_025_percentile'] = np.nan\n",
    "output.value_025_percentile = output.value_025_percentile.astype(float)\n",
    "\n",
    "# clean 97.5th %ile\n",
    "output.loc[output.value_975_percentile=='na','value_975_percentile'] = np.nan\n",
    "output.value_975_percentile = output.value_975_percentile.astype(float)\n",
    "\n",
    "\n",
    "output['scale_over_mean'] = (output.value_975_percentile - output.value_025_percentile) / output.value_mean\n",
    "\n",
    "r = output[['vehicle','scale_over_mean']].groupby('vehicle').mean().dropna().rename(columns={'scale_over_mean':'r'})\n",
    "\n",
    "# add uncertainty\n",
    "output = output.merge(r, on = 'vehicle', how = 'outer')\n",
    "output['lower'] = np.clip(output.value_mean - (output.r * output.value_mean)/2, 0, 100)\n",
    "output['upper'] = np.clip(output.value_mean + (output.r * output.value_mean)/2, 0, 100)\n",
    "\n",
    "output.loc[(output.value_mean < output.value_025_percentile) | (output.value_025_percentile.isna()),'CI_source'] = \"modeling\"\n",
    "output.loc[(output.value_mean > output.value_975_percentile) | (output.value_975_percentile.isna()),'CI_source'] = \"modeling\"\n",
    "\n",
    "output.loc[output.CI_source.isna(),'CI_source'] = 'extraction'\n",
    "\n",
    "output.loc[(output.value_mean < output.value_025_percentile) | (output.value_025_percentile.isna()),'value_025_percentile'] = output.loc[(output.value_mean < output.value_025_percentile) | (output.value_025_percentile.isna())].lower\n",
    "output.loc[(output.value_mean > output.value_975_percentile) | (output.value_975_percentile.isna()),'value_975_percentile'] = output.loc[(output.value_mean > output.value_975_percentile) | (output.value_975_percentile.isna())].upper\n",
    "\n",
    "output = output.drop(columns=['r','lower','upper','scale_over_mean']).set_index(rcols)\n",
    "\n",
    "output.loc[output.estimation_status.isna(),'estimation_status'] = 'na'"
   ]
  },
  {
   "cell_type": "code",
   "execution_count": null,
   "metadata": {},
   "outputs": [],
   "source": [
    "save_path_tmp = '/ihme/homes/beatrixh/repos/scratch/pop_coverage_data_with_data_choice_notes_3_17_2021.csv'\n",
    "output.to_csv(save_path_tmp)"
   ]
  },
  {
   "cell_type": "code",
   "execution_count": null,
   "metadata": {},
   "outputs": [],
   "source": [
    "## add loc_ids"
   ]
  },
  {
   "cell_type": "code",
   "execution_count": null,
   "metadata": {},
   "outputs": [],
   "source": [
    "output = loc_metadata[['location_id','location_name']].merge(output.reset_index(), on = 'location_name', how = 'right')"
   ]
  },
  {
   "cell_type": "code",
   "execution_count": null,
   "metadata": {},
   "outputs": [],
   "source": [
    "save_path = '/ihme/homes/beatrixh/vivarium_research_lsff/data_prep/outputs/population_coverage_data_tier2_locs_3_17_2021.csv'\n",
    "output.to_csv(save_path, index = False)"
   ]
  },
  {
   "cell_type": "code",
   "execution_count": null,
   "metadata": {},
   "outputs": [],
   "source": [
    "output.head()"
   ]
  },
  {
   "cell_type": "code",
   "execution_count": null,
   "metadata": {},
   "outputs": [],
   "source": [
    "formatted_cols = ['location_id','location_name','sub_population','vehicle','value_description','nutrient','value_mean','value_025_percentile','value_975_percentile']\n",
    "\n",
    "save_path_formatted = '/ihme/homes/beatrixh/vivarium_research_lsff/data_prep/outputs/population_coverage_data_tier2_input_data.csv'\n",
    "output[formatted_cols].to_csv(save_path_formatted, index = False)"
   ]
  },
  {
   "cell_type": "code",
   "execution_count": null,
   "metadata": {},
   "outputs": [],
   "source": []
  }
 ],
 "metadata": {
  "kernelspec": {
   "display_name": "Python 3",
   "language": "python",
   "name": "python3"
  },
  "language_info": {
   "codemirror_mode": {
    "name": "ipython",
    "version": 3
   },
   "file_extension": ".py",
   "mimetype": "text/x-python",
   "name": "python",
   "nbconvert_exporter": "python",
   "pygments_lexer": "ipython3",
   "version": "3.6.11"
  }
 },
 "nbformat": 4,
 "nbformat_minor": 4
}
