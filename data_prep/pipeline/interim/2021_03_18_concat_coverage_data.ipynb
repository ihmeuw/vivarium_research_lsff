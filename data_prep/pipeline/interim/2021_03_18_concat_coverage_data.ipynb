{
 "cells": [
  {
   "cell_type": "code",
   "execution_count": 1,
   "metadata": {},
   "outputs": [],
   "source": [
    "import pandas as pd"
   ]
  },
  {
   "cell_type": "markdown",
   "metadata": {},
   "source": [
    "# LSFF: Concat coverage data for all tiers of locations"
   ]
  },
  {
   "cell_type": "code",
   "execution_count": 26,
   "metadata": {},
   "outputs": [],
   "source": [
    "output_dir = '/ihme/homes/beatrixh/vivarium_research_lsff/data_prep/outputs/'"
   ]
  },
  {
   "cell_type": "code",
   "execution_count": 27,
   "metadata": {},
   "outputs": [],
   "source": [
    "# update as more tiers are finished\n",
    "\n",
    "tier1_fname = 'nigeria_ethiopia_india_coverage_data.csv'\n",
    "tier2_fname = 'population_coverage_data_tier2_input_data.csv'\n",
    "\n",
    "files = [tier1_fname, tier2_fname]"
   ]
  },
  {
   "cell_type": "code",
   "execution_count": 28,
   "metadata": {},
   "outputs": [],
   "source": [
    "df = pd.concat([pd.read_csv(output_dir + fname) for fname in files])"
   ]
  },
  {
   "cell_type": "code",
   "execution_count": 29,
   "metadata": {},
   "outputs": [],
   "source": [
    "assert(set(df.columns).symmetric_difference(\n",
    "    set(\n",
    "        ['location_id', 'location_name', 'sub_population', 'vehicle',\n",
    "       'value_description', 'nutrient', 'value_mean', 'value_025_percentile',\n",
    "       'value_975_percentile']\n",
    "    ))==set()), \"Columns unexpected; check inputs\""
   ]
  },
  {
   "cell_type": "code",
   "execution_count": 30,
   "metadata": {},
   "outputs": [],
   "source": [
    "save_fname = 'lsff_input_coverage_data.csv'\n",
    "df.to_csv(output_dir + save_fname, index = False)"
   ]
  },
  {
   "cell_type": "code",
   "execution_count": 31,
   "metadata": {},
   "outputs": [],
   "source": [
    "df.to_csv('/ihme/homes/beatrixh/repos/scratch/' + save_fname, index = False)"
   ]
  },
  {
   "cell_type": "code",
   "execution_count": null,
   "metadata": {},
   "outputs": [],
   "source": []
  }
 ],
 "metadata": {
  "kernelspec": {
   "display_name": "Python 3",
   "language": "python",
   "name": "python3"
  },
  "language_info": {
   "codemirror_mode": {
    "name": "ipython",
    "version": 3
   },
   "file_extension": ".py",
   "mimetype": "text/x-python",
   "name": "python",
   "nbconvert_exporter": "python",
   "pygments_lexer": "ipython3",
   "version": "3.7.0"
  }
 },
 "nbformat": 4,
 "nbformat_minor": 4
}
