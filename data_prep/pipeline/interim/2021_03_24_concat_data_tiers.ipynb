{
 "cells": [
  {
   "cell_type": "code",
   "execution_count": 1,
   "metadata": {},
   "outputs": [],
   "source": [
    "import pandas as pd, numpy as np"
   ]
  },
  {
   "cell_type": "code",
   "execution_count": 3,
   "metadata": {},
   "outputs": [],
   "source": [
    "tier1_path = '/ihme/homes/beatrixh/vivarium_research_lsff/data_prep/outputs/nigeria_ethiopia_india_coverage_data.csv'"
   ]
  },
  {
   "cell_type": "code",
   "execution_count": 5,
   "metadata": {},
   "outputs": [],
   "source": [
    "tier2_path = '/ihme/homes/beatrixh/vivarium_research_lsff/data_prep/outputs/population_coverage_data_tier2_locs_3_17_2021.csv'\n",
    "tier3_path = '/ihme/homes/beatrixh/vivarium_research_lsff/data_prep/outputs/population_coverage_data_tier3_locs_3_23_2021.csv'\n"
   ]
  },
  {
   "cell_type": "code",
   "execution_count": 12,
   "metadata": {},
   "outputs": [],
   "source": [
    "t1 = pd.read_csv(tier1_path)\n",
    "t2 = pd.read_csv(tier2_path)\n",
    "t3 = pd.read_csv(tier3_path)"
   ]
  },
  {
   "cell_type": "code",
   "execution_count": 13,
   "metadata": {},
   "outputs": [
    {
     "data": {
      "text/html": [
       "<div>\n",
       "<style scoped>\n",
       "    .dataframe tbody tr th:only-of-type {\n",
       "        vertical-align: middle;\n",
       "    }\n",
       "\n",
       "    .dataframe tbody tr th {\n",
       "        vertical-align: top;\n",
       "    }\n",
       "\n",
       "    .dataframe thead th {\n",
       "        text-align: right;\n",
       "    }\n",
       "</style>\n",
       "<table border=\"1\" class=\"dataframe\">\n",
       "  <thead>\n",
       "    <tr style=\"text-align: right;\">\n",
       "      <th></th>\n",
       "      <th>location_id</th>\n",
       "      <th>location_name</th>\n",
       "      <th>sub_population</th>\n",
       "      <th>vehicle</th>\n",
       "      <th>value_description</th>\n",
       "      <th>nutrient</th>\n",
       "      <th>value_mean</th>\n",
       "      <th>value_025_percentile</th>\n",
       "      <th>value_975_percentile</th>\n",
       "    </tr>\n",
       "  </thead>\n",
       "  <tbody>\n",
       "    <tr>\n",
       "      <th>0</th>\n",
       "      <td>179</td>\n",
       "      <td>Ethiopia</td>\n",
       "      <td>NaN</td>\n",
       "      <td>oil</td>\n",
       "      <td>percent of population eating fortified vehicle</td>\n",
       "      <td>vitamin a</td>\n",
       "      <td>1.0</td>\n",
       "      <td>0.0</td>\n",
       "      <td>5.0</td>\n",
       "    </tr>\n",
       "    <tr>\n",
       "      <th>1</th>\n",
       "      <td>179</td>\n",
       "      <td>Ethiopia</td>\n",
       "      <td>NaN</td>\n",
       "      <td>wheat flour</td>\n",
       "      <td>percent of population eating fortified vehicle</td>\n",
       "      <td>folic acid</td>\n",
       "      <td>1.0</td>\n",
       "      <td>0.0</td>\n",
       "      <td>5.0</td>\n",
       "    </tr>\n",
       "    <tr>\n",
       "      <th>2</th>\n",
       "      <td>179</td>\n",
       "      <td>Ethiopia</td>\n",
       "      <td>under-5</td>\n",
       "      <td>wheat flour</td>\n",
       "      <td>percent of population eating industrially prod...</td>\n",
       "      <td>na</td>\n",
       "      <td>27.0</td>\n",
       "      <td>17.0</td>\n",
       "      <td>37.0</td>\n",
       "    </tr>\n",
       "    <tr>\n",
       "      <th>3</th>\n",
       "      <td>179</td>\n",
       "      <td>Ethiopia</td>\n",
       "      <td>women of reproductive age</td>\n",
       "      <td>wheat flour</td>\n",
       "      <td>percent of population eating industrially prod...</td>\n",
       "      <td>na</td>\n",
       "      <td>20.0</td>\n",
       "      <td>10.0</td>\n",
       "      <td>30.0</td>\n",
       "    </tr>\n",
       "    <tr>\n",
       "      <th>4</th>\n",
       "      <td>179</td>\n",
       "      <td>Ethiopia</td>\n",
       "      <td>under-5</td>\n",
       "      <td>oil</td>\n",
       "      <td>percent of population eating industrially prod...</td>\n",
       "      <td>na</td>\n",
       "      <td>70.0</td>\n",
       "      <td>60.0</td>\n",
       "      <td>80.0</td>\n",
       "    </tr>\n",
       "  </tbody>\n",
       "</table>\n",
       "</div>"
      ],
      "text/plain": [
       "   location_id location_name             sub_population      vehicle  \\\n",
       "0          179      Ethiopia                        NaN          oil   \n",
       "1          179      Ethiopia                        NaN  wheat flour   \n",
       "2          179      Ethiopia                    under-5  wheat flour   \n",
       "3          179      Ethiopia  women of reproductive age  wheat flour   \n",
       "4          179      Ethiopia                    under-5          oil   \n",
       "\n",
       "                                   value_description    nutrient  value_mean  \\\n",
       "0     percent of population eating fortified vehicle   vitamin a         1.0   \n",
       "1     percent of population eating fortified vehicle  folic acid         1.0   \n",
       "2  percent of population eating industrially prod...          na        27.0   \n",
       "3  percent of population eating industrially prod...          na        20.0   \n",
       "4  percent of population eating industrially prod...          na        70.0   \n",
       "\n",
       "   value_025_percentile  value_975_percentile  \n",
       "0                   0.0                   5.0  \n",
       "1                   0.0                   5.0  \n",
       "2                  17.0                  37.0  \n",
       "3                  10.0                  30.0  \n",
       "4                  60.0                  80.0  "
      ]
     },
     "execution_count": 13,
     "metadata": {},
     "output_type": "execute_result"
    }
   ],
   "source": [
    "t1.head()"
   ]
  },
  {
   "cell_type": "code",
   "execution_count": 28,
   "metadata": {},
   "outputs": [],
   "source": [
    "all_data = t1.append(t2).append(t3)"
   ]
  },
  {
   "cell_type": "code",
   "execution_count": 29,
   "metadata": {},
   "outputs": [],
   "source": [
    "all_data = all_data.drop(columns='location_id')\n",
    "\n",
    "sort_helper = {\n",
    "    'percent of population eating fortified vehicle': 'C',\n",
    " 'percent of population eating industrially produced vehicle': 'B',\n",
    " 'percent of population eating vehicle': 'A'}\n",
    "\n",
    "\n",
    "all_data['sort_helper'] = all_data.value_description.map(sort_helper)\n",
    "\n",
    "all_data = all_data.sort_values(['location_name','vehicle','sort_helper','value_description','nutrient']).drop(columns='sort_helper')\n",
    "\n",
    "col_order = ['location_name','vehicle','value_description','nutrient','value_mean','value_025_percentile','value_975_percentile','sub_population','estimation_status', 'source_citation',\n",
    "       'source_link', 'data_choice_notes', 'CI_source']\n",
    "\n",
    "all_data = all_data[col_order]"
   ]
  },
  {
   "cell_type": "code",
   "execution_count": 30,
   "metadata": {},
   "outputs": [],
   "source": [
    "save_path = '/ihme/homes/beatrixh/vivarium_research_lsff/data_prep/outputs/tier123_coverage_data_2021_03_24.csv'\n",
    "all_data.to_csv(save_path, index = False)"
   ]
  },
  {
   "cell_type": "code",
   "execution_count": null,
   "metadata": {},
   "outputs": [],
   "source": []
  }
 ],
 "metadata": {
  "kernelspec": {
   "display_name": "Python 3",
   "language": "python",
   "name": "python3"
  },
  "language_info": {
   "codemirror_mode": {
    "name": "ipython",
    "version": 3
   },
   "file_extension": ".py",
   "mimetype": "text/x-python",
   "name": "python",
   "nbconvert_exporter": "python",
   "pygments_lexer": "ipython3",
   "version": "3.6.11"
  }
 },
 "nbformat": 4,
 "nbformat_minor": 4
}
