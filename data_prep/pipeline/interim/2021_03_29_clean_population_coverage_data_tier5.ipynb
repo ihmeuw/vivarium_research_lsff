{
 "cells": [
  {
   "cell_type": "code",
   "execution_count": 1,
   "metadata": {},
   "outputs": [
    {
     "ename": "ModuleNotFoundError",
     "evalue": "No module named 'db_queries'",
     "output_type": "error",
     "traceback": [
      "\u001b[0;31m---------------------------------------------------------------------------\u001b[0m",
      "\u001b[0;31mModuleNotFoundError\u001b[0m                       Traceback (most recent call last)",
      "\u001b[0;32m<ipython-input-1-2a4682411540>\u001b[0m in \u001b[0;36m<module>\u001b[0;34m\u001b[0m\n\u001b[0;32m----> 1\u001b[0;31m \u001b[0;32mfrom\u001b[0m \u001b[0mdb_queries\u001b[0m \u001b[0;32mimport\u001b[0m \u001b[0mget_population\u001b[0m\u001b[0;34m,\u001b[0m \u001b[0mget_ids\u001b[0m\u001b[0;34m\u001b[0m\u001b[0;34m\u001b[0m\u001b[0m\n\u001b[0m\u001b[1;32m      2\u001b[0m \u001b[0;32mfrom\u001b[0m \u001b[0mdb_queries\u001b[0m \u001b[0;32mimport\u001b[0m \u001b[0mget_location_metadata\u001b[0m \u001b[0;32mas\u001b[0m \u001b[0mget_locs\u001b[0m\u001b[0;34m\u001b[0m\u001b[0;34m\u001b[0m\u001b[0m\n",
      "\u001b[0;31mModuleNotFoundError\u001b[0m: No module named 'db_queries'"
     ]
    }
   ],
   "source": [
    "from db_queries import get_population, get_ids\n",
    "from db_queries import get_location_metadata as get_locs"
   ]
  },
  {
   "cell_type": "code",
   "execution_count": null,
   "metadata": {},
   "outputs": [],
   "source": [
    "import pandas as pd, numpy as np"
   ]
  },
  {
   "cell_type": "markdown",
   "metadata": {},
   "source": [
    "# LSFF: choose population coverage data by hand for tier 5 countries"
   ]
  },
  {
   "cell_type": "markdown",
   "metadata": {},
   "source": [
    "## vehicles: Wheat flour, maize flour, oil"
   ]
  },
  {
   "cell_type": "markdown",
   "metadata": {},
   "source": [
    "## countries: \tAngola, China, Ghana, Niger, Egypt, Sudan, Madagascar"
   ]
  },
  {
   "cell_type": "code",
   "execution_count": null,
   "metadata": {},
   "outputs": [],
   "source": [
    "## load legal combos\n",
    "import pickle\n",
    "data_prep_dir = '/ihme/homes/beatrixh/vivarium_research_lsff/data_prep/inputs/'\n",
    "\n",
    "with open(data_prep_dir + 'lsff_vehicle_nutrient_pairs.pickle', 'rb') as handle:\n",
    "    vehicle_nutrient_map = pickle.load(handle)\n",
    "    \n",
    "with open(data_prep_dir + 'lsff_country_vehicle_pairs.pickle', 'rb') as handle:\n",
    "    country_vehicle_map = pickle.load(handle)\n",
    "    \n",
    "with open(data_prep_dir + 'lsff_vehicle_country_pairs.pickle', 'rb') as handle:\n",
    "    vehicle_country_map = pickle.load(handle)"
   ]
  },
  {
   "cell_type": "code",
   "execution_count": null,
   "metadata": {},
   "outputs": [],
   "source": [
    "nutrients = ['iron','zinc','folic acid','vitamin a']"
   ]
  },
  {
   "cell_type": "code",
   "execution_count": null,
   "metadata": {},
   "outputs": [],
   "source": [
    "data_path = '/ihme/homes/beatrixh/vivarium_research_lsff/data_prep/inputs/extraction_sheet_lsff_03_24_2021.3.csv'\n",
    "assm_path = '/ihme/homes/beatrixh/vivarium_research_lsff/data_prep/inputs/extraction_sheet_lsff_assumed_coverage_03_24_2021.csv'\n",
    "\n",
    "df = pd.read_csv(data_path)"
   ]
  },
  {
   "cell_type": "code",
   "execution_count": null,
   "metadata": {},
   "outputs": [],
   "source": [
    "df.loc[df.nutrient==\"folic acid, folate, b9\",'nutrient']= 'folic acid'"
   ]
  },
  {
   "cell_type": "code",
   "execution_count": null,
   "metadata": {},
   "outputs": [],
   "source": [
    "assum = pd.read_csv(assm_path)"
   ]
  },
  {
   "cell_type": "code",
   "execution_count": null,
   "metadata": {},
   "outputs": [],
   "source": [
    "#these don't apply this time\n",
    "assum.location_name.unique()"
   ]
  },
  {
   "cell_type": "code",
   "execution_count": null,
   "metadata": {},
   "outputs": [],
   "source": [
    "assum.loc[assum.nutrient==\"folic acid, folate, b9\",'nutrient']= 'folic acid'"
   ]
  },
  {
   "cell_type": "code",
   "execution_count": null,
   "metadata": {},
   "outputs": [],
   "source": [
    "df['estimation_status'] = 'na'"
   ]
  },
  {
   "cell_type": "code",
   "execution_count": null,
   "metadata": {},
   "outputs": [],
   "source": [
    "df['data_choice_notes'] = \"\""
   ]
  },
  {
   "cell_type": "code",
   "execution_count": null,
   "metadata": {},
   "outputs": [],
   "source": [
    "mult_estimates_path = '/ihme/homes/beatrixh/vivarium_research_lsff/data_prep/outputs/lsff_data_estimated_03_26_2021.4.csv'\n",
    "\n",
    "mult_estimates = pd.read_csv(mult_estimates_path)"
   ]
  },
  {
   "cell_type": "code",
   "execution_count": null,
   "metadata": {},
   "outputs": [],
   "source": [
    "#reformat\n",
    "mult_estimates.loc[(mult_estimates.B_estimate!=1.0),'B'] = np.nan\n",
    "mult_estimates.loc[(mult_estimates.C_estimate!=1.0),'C'] = np.nan\n",
    "\n",
    "mult_estimates = pd.melt(mult_estimates,\n",
    "                         id_vars = ['location_name','vehicle','nutrient','standard'],\n",
    "                         value_vars = ['B','C'], var_name = 'value_description', value_name = 'value_mean').dropna()\n",
    "\n",
    "mult_estimates.loc[(mult_estimates.value_description==\"B\"),'nutrient'] = 'NA'\n",
    "\n",
    "mult_estimates = mult_estimates.drop_duplicates()\n",
    "\n",
    "mult_estimates.value_description = mult_estimates.value_description.map({\n",
    "    'B':'percent of population eating industrially produced vehicle',\n",
    "    'C':'percent of population eating fortified vehicle'\n",
    "})"
   ]
  },
  {
   "cell_type": "code",
   "execution_count": null,
   "metadata": {},
   "outputs": [],
   "source": [
    "mult_estimates['estimation_status'] = 'multiplicative'"
   ]
  },
  {
   "cell_type": "code",
   "execution_count": null,
   "metadata": {},
   "outputs": [],
   "source": [
    "def prep_reg_estimates(path):\n",
    "    draws = [f'draw_{i}' for i in range(500)]\n",
    "\n",
    "    df = pd.read_csv(path)\n",
    "    df = df.groupby(['location_name','vehicle']).mean().reset_index()\n",
    "    df['value_mean'] = df[draws].mean(axis=1)\n",
    "    df['value_025_percentile'] = df[draws].quantile(.025, axis=1)\n",
    "    df['value_975_percentile'] = df[draws].quantile(.975, axis=1)\n",
    "\n",
    "    return df[['location_name','vehicle','value_mean']]"
   ]
  },
  {
   "cell_type": "code",
   "execution_count": null,
   "metadata": {},
   "outputs": [],
   "source": [
    "output_dir = '/ihme/homes/beatrixh/vivarium_research_lsff/data_prep/outputs/'\n",
    "\n",
    "reg_fort_oil_path = output_dir + 'pct_eating_fortified_oil_regression_estimates_3_22_2021.csv'\n",
    "reg_fort_wheat_path = output_dir + 'pct_eating_fortified_wheat_regression_estimates_3_22_2021.csv'\n",
    "reg_fort_maize_path = output_dir + 'pct_eating_fortified_maize_regression_estimates_3_22_2021.csv'\n",
    "\n",
    "est_fortified = pd.concat([prep_reg_estimates(path) for path in [reg_fort_oil_path,reg_fort_wheat_path,reg_fort_maize_path]])\n",
    "est_fortified['value_description'] = \"percent of population eating fortified vehicle\"\n",
    "est_fortified['estimation_status'] = \"regression\""
   ]
  },
  {
   "cell_type": "code",
   "execution_count": null,
   "metadata": {},
   "outputs": [],
   "source": [
    "vn_pairs = pd.DataFrame([(v,n) for v in ['oil','wheat flour','maize flour'] for n in vehicle_nutrient_map[v]],\n",
    "            columns=['vehicle','nutrient'])"
   ]
  },
  {
   "cell_type": "code",
   "execution_count": null,
   "metadata": {},
   "outputs": [],
   "source": [
    "est_fortified = est_fortified.merge(vn_pairs, on = 'vehicle', how = 'outer')[['location_name','vehicle','value_description','nutrient','value_mean','estimation_status']]"
   ]
  },
  {
   "cell_type": "code",
   "execution_count": null,
   "metadata": {},
   "outputs": [],
   "source": [
    "ind_prod_oil_path = '/ihme/homes/beatrixh/vivarium_research_lsff/data_prep/outputs/pct_eating_fortifiable_oil_regression_estimates_3_26_2021.csv'\n",
    "ind_prod_wheat_path = '/ihme/homes/beatrixh/vivarium_research_lsff/data_prep/outputs/pct_eating_fortifiable_wheat_regression_estimates_3_26_2021.csv'\n",
    "ind_prod_maize_path = '/ihme/homes/beatrixh/vivarium_research_lsff/data_prep/outputs/pct_eating_fortifiable_maize_regression_estimates_3_26_2021.csv'\n",
    "\n",
    "est_fortifiable = pd.concat([prep_reg_estimates(path) for path in [ind_prod_oil_path,ind_prod_wheat_path,ind_prod_maize_path]])\n",
    "est_fortifiable['value_description'] = \"percent of population eating industrially produced vehicle\"\n",
    "est_fortifiable['estimation_status'] = \"regression\"\n",
    "est_fortifiable['nutrient'] = \"na\""
   ]
  },
  {
   "cell_type": "code",
   "execution_count": null,
   "metadata": {},
   "outputs": [],
   "source": [
    "eating_oil_path = output_dir + 'pct_eating_oil_regression_estimates_3_23_2021.csv'\n",
    "eating_wheat_path = output_dir + 'pct_eating_wheat_regression_estimates_3_22_2021.csv'\n",
    "eating_maize_path = output_dir + 'pct_eating_maize_regression_estimates_3_22_2021.csv'\n",
    "\n",
    "est_eating = pd.concat([prep_reg_estimates(path) for path in [eating_oil_path,eating_wheat_path,eating_maize_path]])\n",
    "est_eating['value_description'] = \"percent of population eating vehicle\"\n",
    "est_eating['estimation_status'] = \"regression\"\n",
    "est_eating['nutrient'] = \"na\""
   ]
  },
  {
   "cell_type": "code",
   "execution_count": null,
   "metadata": {},
   "outputs": [],
   "source": [
    "reg_estimates = pd.concat([est_eating, est_fortifiable, est_fortified])"
   ]
  },
  {
   "cell_type": "code",
   "execution_count": null,
   "metadata": {},
   "outputs": [],
   "source": [
    "location_names = ['Angola', 'China', 'Ghana', 'Niger', 'Egypt', 'Sudan', 'Madagascar']\n",
    "vehicles = ['maize flour','wheat flour','oil']\n",
    "nutrients = ['folic acid','iron','zinc','vitamin a']"
   ]
  },
  {
   "cell_type": "code",
   "execution_count": null,
   "metadata": {},
   "outputs": [],
   "source": [
    "# these are the vehicles per country we need\n",
    "target_high_level = pd.DataFrame([(loc,v) for loc in location_names for v in country_vehicle_map[loc]],\n",
    "            columns=['location_name','vehicle']).sort_values(['location_name','vehicle'])\n",
    "\n",
    "target_high_level = target_high_level[target_high_level.vehicle.isin(vehicles)].set_index(['location_name','vehicle'])\n",
    "\n",
    "target_high_level"
   ]
  },
  {
   "cell_type": "code",
   "execution_count": null,
   "metadata": {},
   "outputs": [],
   "source": [
    "target_a = pd.DataFrame([(loc,vehicle,nutrient,'percent of population eating fortified vehicle') for loc in location_names\n",
    "                       for vehicle in country_vehicle_map[loc]\n",
    "                      for nutrient in vehicle_nutrient_map[vehicle]],\n",
    "            columns=['location_name','vehicle','nutrient','value_description']).sort_values(['location_name','vehicle','nutrient'])\n",
    "target_a = target_a[(target_a.nutrient.isin(nutrients))]\n",
    "\n",
    "target_b = pd.DataFrame([(loc,vehicle,'na',val) for loc in location_names\n",
    "                       for vehicle in country_vehicle_map[loc]\n",
    "                      for val in ['percent of population eating industrially produced vehicle',\n",
    "       'percent of population eating vehicle']],\n",
    "            columns=['location_name','vehicle','nutrient','value_description'])"
   ]
  },
  {
   "cell_type": "code",
   "execution_count": null,
   "metadata": {},
   "outputs": [],
   "source": [
    "sortvars = ['location_name','vehicle','value_description','nutrient']\n",
    "target = target_a.append(target_b)\n",
    "target = target[(target.vehicle.isin(vehicles)) & (target.nutrient.isin(nutrients + ['na']))].sort_values(sortvars).set_index(sortvars)"
   ]
  },
  {
   "cell_type": "code",
   "execution_count": null,
   "metadata": {},
   "outputs": [],
   "source": [
    "target = target.reset_index()\n",
    "rcols = target.columns.tolist()"
   ]
  },
  {
   "cell_type": "code",
   "execution_count": null,
   "metadata": {},
   "outputs": [],
   "source": [
    "check_cols = ['location_id','location_name','urbanicity','subnational_name','vehicle','value_description','nutrient','value_mean','value_025_percentile',\n",
    "       'value_975_percentile','sub_population','source_year','notes','source_citation','source_link','inclusion_justification','included','data_choice_notes']\n",
    "\n",
    "def filter_data(country, vehicle, val):    \n",
    "    output = df.loc[(df.location_name==country)\n",
    "           & (df.vehicle==vehicle)\n",
    "           & (df.value_description==val)\n",
    "           & (df.value_mean.notna()),check_cols]\n",
    "    \n",
    "    return output"
   ]
  },
  {
   "cell_type": "code",
   "execution_count": null,
   "metadata": {},
   "outputs": [],
   "source": [
    "def check_one_country(country):\n",
    "    vehicles = ['oil', 'wheat flour', 'salt', 'maize flour', 'rice', 'bouillon']\n",
    "    values_gold = ['percent of population eating fortified vehicle',\n",
    "               'percent of population eating industrially produced vehicle',\n",
    "               'percent of population eating vehicle']\n",
    "    return pd.concat([filter_data(country, vehicle, val) for vehicle in vehicles for val in values_gold])"
   ]
  },
  {
   "cell_type": "code",
   "execution_count": null,
   "metadata": {},
   "outputs": [],
   "source": [
    "usecols = ['location_id','location_name','subnational_name','vehicle','value_description','nutrient','value_mean', 'value_025_percentile',\n",
    "       'value_975_percentile']\n",
    "subset_data = {}"
   ]
  },
  {
   "cell_type": "code",
   "execution_count": null,
   "metadata": {},
   "outputs": [],
   "source": [
    "for i in location_names:\n",
    "    subset_data[i] = pd.DataFrame()"
   ]
  },
  {
   "cell_type": "code",
   "execution_count": null,
   "metadata": {},
   "outputs": [],
   "source": [
    "location_names"
   ]
  },
  {
   "cell_type": "markdown",
   "metadata": {},
   "source": [
    "## Angola"
   ]
  },
  {
   "cell_type": "code",
   "execution_count": null,
   "metadata": {},
   "outputs": [],
   "source": [
    "angola = check_one_country(\"Angola\")\n",
    "\n",
    "angola[(angola.vehicle.isin(vehicles))].groupby(['vehicle','value_description']).mean()"
   ]
  },
  {
   "cell_type": "code",
   "execution_count": null,
   "metadata": {},
   "outputs": [],
   "source": [
    "mult_estimates[(mult_estimates.location_name==\"Angola\")]"
   ]
  },
  {
   "cell_type": "code",
   "execution_count": null,
   "metadata": {},
   "outputs": [],
   "source": [
    "# wow, yikes"
   ]
  },
  {
   "cell_type": "markdown",
   "metadata": {},
   "source": [
    "## China"
   ]
  },
  {
   "cell_type": "code",
   "execution_count": null,
   "metadata": {},
   "outputs": [],
   "source": [
    "china = check_one_country(\"China\")\n",
    "\n",
    "china[(china.vehicle.isin(vehicles))].groupby(['vehicle','value_description']).mean()"
   ]
  },
  {
   "cell_type": "code",
   "execution_count": null,
   "metadata": {},
   "outputs": [],
   "source": [
    "mult_estimates[(mult_estimates.location_name==\"China\")]"
   ]
  },
  {
   "cell_type": "code",
   "execution_count": null,
   "metadata": {},
   "outputs": [],
   "source": [
    "# oh gosh..."
   ]
  },
  {
   "cell_type": "markdown",
   "metadata": {},
   "source": [
    "## Ghana"
   ]
  },
  {
   "cell_type": "code",
   "execution_count": null,
   "metadata": {},
   "outputs": [],
   "source": [
    "ghana = check_one_country(\"Ghana\")\n",
    "\n",
    "ghana[(ghana.vehicle.isin(vehicles))].groupby(['vehicle','value_description']).mean()"
   ]
  },
  {
   "cell_type": "code",
   "execution_count": null,
   "metadata": {},
   "outputs": [],
   "source": [
    "ghana.loc[(ghana.value_description==\"percent of population eating fortified vehicle\")]"
   ]
  },
  {
   "cell_type": "code",
   "execution_count": null,
   "metadata": {},
   "outputs": [],
   "source": [
    "ghana.loc[(ghana.urbanicity==\"mixed/both\") & (ghana.value_description==\"percent of population eating fortified vehicle\"),\n",
    "         \"data_choice_notes\"] = \"Only one source; discarded urban and rural specific for nationally representative\"\n",
    "\n",
    "subset_data['Ghana'] = subset_data['Ghana'].append(\n",
    "    ghana.loc[(ghana.urbanicity==\"mixed/both\") & (ghana.value_description==\"percent of population eating fortified vehicle\")]\n",
    ")\n",
    "\n",
    "ghana.loc[(ghana.urbanicity==\"mixed/both\") & (ghana.value_description==\"percent of population eating fortified vehicle\")]"
   ]
  },
  {
   "cell_type": "code",
   "execution_count": null,
   "metadata": {},
   "outputs": [],
   "source": [
    "ghana.loc[(ghana.value_description==\"percent of population eating vehicle\") & (ghana.vehicle==\"oil\")]\n"
   ]
  },
  {
   "cell_type": "code",
   "execution_count": null,
   "metadata": {},
   "outputs": [],
   "source": [
    "ghana.loc[(ghana.urbanicity==\"mixed/both\") & (ghana.source_year==\"2014\") & (ghana.value_description==\"percent of population eating vehicle\") & (ghana.vehicle==\"oil\"),\n",
    "         \"data_choice_notes\"] = \"Discarded 2004 Nyumuah number (98%) in lieu of 2014 DHS number (95.6%)\"\n",
    "\n",
    "subset_data['Ghana'] = subset_data['Ghana'].append(\n",
    "    ghana.loc[(ghana.urbanicity==\"mixed/both\") & (ghana.source_year==\"2014\") & (ghana.value_description==\"percent of population eating vehicle\") & (ghana.vehicle==\"oil\")]\n",
    ")\n",
    "\n",
    "ghana.loc[(ghana.urbanicity==\"mixed/both\") & (ghana.source_year==\"2014\") & (ghana.value_description==\"percent of population eating vehicle\") & (ghana.vehicle==\"oil\")]"
   ]
  },
  {
   "cell_type": "code",
   "execution_count": null,
   "metadata": {},
   "outputs": [],
   "source": [
    "mult_estimates[(mult_estimates.location_name==\"Ghana\")]"
   ]
  },
  {
   "cell_type": "code",
   "execution_count": null,
   "metadata": {},
   "outputs": [],
   "source": [
    "subset_data['Ghana'] = subset_data['Ghana'].append(\n",
    "    mult_estimates[(mult_estimates.location_name==\"Ghana\")]\n",
    ")"
   ]
  },
  {
   "cell_type": "markdown",
   "metadata": {},
   "source": [
    "## Niger"
   ]
  },
  {
   "cell_type": "code",
   "execution_count": null,
   "metadata": {},
   "outputs": [],
   "source": [
    "niger = check_one_country(\"Niger\")\n",
    "\n",
    "niger[(niger.vehicle.isin(vehicles))].groupby(['vehicle','value_description']).mean()"
   ]
  },
  {
   "cell_type": "code",
   "execution_count": null,
   "metadata": {},
   "outputs": [],
   "source": [
    "niger[(niger.vehicle==\"oil\") & (niger.value_description==\"percent of population eating fortified vehicle\")]"
   ]
  },
  {
   "cell_type": "code",
   "execution_count": null,
   "metadata": {},
   "outputs": [],
   "source": [
    "niger.loc[(niger.source_year==\"2013\") & (niger.vehicle==\"oil\") & (niger.value_description==\"percent of population eating fortified vehicle\"),\n",
    "         \"data_choice_notes\"] = \"From two sources, we had an estimate of 55% in 2010. The latter source additionally projected 75% by 2013, which we are using here.\"\n",
    "\n",
    "subset_data['Niger'] = subset_data['Niger'].append(\n",
    "    niger.loc[(niger.source_year==\"2013\") & (niger.vehicle==\"oil\") & (niger.value_description==\"percent of population eating fortified vehicle\")]\n",
    ")\n",
    "\n",
    "niger.loc[(niger.source_year==\"2013\") & (niger.vehicle==\"oil\") & (niger.value_description==\"percent of population eating fortified vehicle\")]"
   ]
  },
  {
   "cell_type": "code",
   "execution_count": null,
   "metadata": {},
   "outputs": [],
   "source": [
    "niger[(niger.vehicle==\"oil\") & (niger.value_description==\"percent of population eating vehicle\")]"
   ]
  },
  {
   "cell_type": "code",
   "execution_count": null,
   "metadata": {},
   "outputs": [],
   "source": [
    "niger.loc[(niger.urbanicity==\"mixed/both\") & (niger.vehicle==\"oil\") & (niger.value_description==\"percent of population eating vehicle\"),\n",
    "         \"data_choice_notes\"] = \"Only one source. Discarded urban and rural specific estimates in lieu of the total estimate\"\n",
    "\n",
    "subset_data['Niger'] = subset_data['Niger'].append(\n",
    "    niger.loc[(niger.urbanicity==\"mixed/both\") & (niger.vehicle==\"oil\") & (niger.value_description==\"percent of population eating vehicle\")]\n",
    ")\n",
    "\n",
    "niger.loc[(niger.urbanicity==\"mixed/both\") & (niger.vehicle==\"oil\") & (niger.value_description==\"percent of population eating vehicle\")]"
   ]
  },
  {
   "cell_type": "code",
   "execution_count": null,
   "metadata": {},
   "outputs": [],
   "source": [
    "niger[(niger.vehicle==\"wheat flour\") & (niger.value_description==\"percent of population eating fortified vehicle\")]"
   ]
  },
  {
   "cell_type": "code",
   "execution_count": null,
   "metadata": {},
   "outputs": [],
   "source": [
    "niger.loc[(niger.vehicle==\"wheat flour\") & (niger.value_description==\"percent of population eating fortified vehicle\"),\n",
    "         \"data_choice_notes\"] = \"Only one source.\"\n",
    "\n",
    "subset_data['Niger'] = subset_data['Niger'].append(\n",
    "    niger[(niger.vehicle==\"wheat flour\") & (niger.value_description==\"percent of population eating fortified vehicle\")]\n",
    ")\n",
    "\n",
    "niger[(niger.vehicle==\"wheat flour\") & (niger.value_description==\"percent of population eating fortified vehicle\")]"
   ]
  },
  {
   "cell_type": "code",
   "execution_count": null,
   "metadata": {},
   "outputs": [],
   "source": [
    "mult_estimates[(mult_estimates.location_name==\"Niger\") \n",
    "               & (mult_estimates.vehicle.isin(vehicles)) \n",
    "               & (mult_estimates.nutrient.isin(nutrients))]"
   ]
  },
  {
   "cell_type": "markdown",
   "metadata": {},
   "source": [
    "## Egypt"
   ]
  },
  {
   "cell_type": "code",
   "execution_count": null,
   "metadata": {},
   "outputs": [],
   "source": [
    "egypt = check_one_country(\"Egypt\")\n",
    "\n",
    "egypt[(egypt.vehicle.isin(vehicles))].groupby(['vehicle','value_description']).mean()"
   ]
  },
  {
   "cell_type": "code",
   "execution_count": null,
   "metadata": {},
   "outputs": [],
   "source": [
    "mult_estimates[(mult_estimates.location_name==\"Egypt\") \n",
    "               & (mult_estimates.vehicle.isin(vehicles)) \n",
    "               & (mult_estimates.nutrient.isin(nutrients))]"
   ]
  },
  {
   "cell_type": "markdown",
   "metadata": {},
   "source": [
    "## Sudan"
   ]
  },
  {
   "cell_type": "code",
   "execution_count": null,
   "metadata": {},
   "outputs": [],
   "source": [
    "sudan = check_one_country(\"Sudan\")\n",
    "\n",
    "sudan[(sudan.vehicle.isin(vehicles))].groupby(['vehicle','value_description']).mean()"
   ]
  },
  {
   "cell_type": "code",
   "execution_count": null,
   "metadata": {},
   "outputs": [],
   "source": [
    "sudan.loc[(sudan.value_description==\"percent of population eating fortified vehicle\"),\n",
    "         \"data_choice_notes\"] = \"Only one source.\"\n",
    "\n",
    "subset_data['Sudan'] = subset_data['Sudan'].append(\n",
    "    sudan.loc[(sudan.value_description==\"percent of population eating fortified vehicle\")]\n",
    ")\n",
    "\n",
    "sudan.loc[(sudan.value_description==\"percent of population eating fortified vehicle\")]"
   ]
  },
  {
   "cell_type": "code",
   "execution_count": null,
   "metadata": {},
   "outputs": [],
   "source": [
    "sudan.loc[(sudan.value_description==\"percent of population eating industrially produced vehicle\"),\n",
    "         \"data_choice_notes\"] = \"Only one source.\"\n",
    "\n",
    "subset_data['Sudan'] = subset_data['Sudan'].append(\n",
    "    sudan.loc[(sudan.value_description==\"percent of population eating industrially produced vehicle\")]\n",
    ")\n",
    "\n",
    "sudan.loc[(sudan.value_description==\"percent of population eating industrially produced vehicle\")]"
   ]
  },
  {
   "cell_type": "code",
   "execution_count": null,
   "metadata": {},
   "outputs": [],
   "source": [
    "mult_estimates[(mult_estimates.location_name==\"Sudan\") \n",
    "               & (mult_estimates.vehicle.isin(vehicles)) \n",
    "               & (mult_estimates.nutrient.isin(nutrients))]"
   ]
  },
  {
   "cell_type": "markdown",
   "metadata": {},
   "source": [
    "## Madagascar"
   ]
  },
  {
   "cell_type": "code",
   "execution_count": null,
   "metadata": {},
   "outputs": [],
   "source": [
    "mada = check_one_country(\"Madagascar\")\n",
    "\n",
    "mada[(mada.vehicle.isin(vehicles))].groupby(['vehicle','value_description']).mean()"
   ]
  },
  {
   "cell_type": "code",
   "execution_count": null,
   "metadata": {},
   "outputs": [],
   "source": [
    "mult_estimates[(mult_estimates.location_name==\"Madagascar\") \n",
    "               & (mult_estimates.vehicle.isin(vehicles)) \n",
    "               & (mult_estimates.nutrient.isin(nutrients))]"
   ]
  },
  {
   "cell_type": "markdown",
   "metadata": {},
   "source": [
    "## pop-weight subnationals"
   ]
  },
  {
   "cell_type": "code",
   "execution_count": null,
   "metadata": {},
   "outputs": [],
   "source": [
    "#these are the subnats we have to weight\n",
    "\n",
    "checkout = pd.concat(list(subset_data.values()))\n",
    "checkout.loc[(checkout.subnational_name.notna()) & (checkout.subnational_name!='na'),\n",
    "         ['location_name','urbanicity','subnational_name','source_link']].drop_duplicates()"
   ]
  },
  {
   "cell_type": "markdown",
   "metadata": {},
   "source": [
    "## Check for missingness"
   ]
  },
  {
   "cell_type": "code",
   "execution_count": null,
   "metadata": {},
   "outputs": [],
   "source": [
    "all_data = pd.concat(list(subset_data.values()))"
   ]
  },
  {
   "cell_type": "code",
   "execution_count": null,
   "metadata": {},
   "outputs": [],
   "source": [
    "all_data.data_choice_notes.unique()"
   ]
  },
  {
   "cell_type": "code",
   "execution_count": null,
   "metadata": {},
   "outputs": [],
   "source": [
    "all_data.loc[~(all_data.nutrient.isin(['vitamin a','iron','zinc','folic acid'])),'nutrient'] = 'na'"
   ]
  },
  {
   "cell_type": "code",
   "execution_count": null,
   "metadata": {
    "scrolled": true
   },
   "outputs": [],
   "source": [
    "all_data[rcols + ['value_mean','value_025_percentile','value_975_percentile','sub_population']]"
   ]
  },
  {
   "cell_type": "code",
   "execution_count": null,
   "metadata": {},
   "outputs": [],
   "source": [
    "check = target.merge(all_data[rcols + ['value_mean']], on = rcols, how = 'left')"
   ]
  },
  {
   "cell_type": "code",
   "execution_count": null,
   "metadata": {},
   "outputs": [],
   "source": [
    "check"
   ]
  },
  {
   "cell_type": "code",
   "execution_count": null,
   "metadata": {},
   "outputs": [],
   "source": [
    "need_reg = check.loc[check.value_mean.isna(),['value_description','vehicle','location_name','nutrient']]"
   ]
  },
  {
   "cell_type": "code",
   "execution_count": null,
   "metadata": {},
   "outputs": [],
   "source": [
    "need_reg = need_reg.merge(reg_estimates, on = ['value_description','vehicle','location_name','nutrient'], how = 'left')"
   ]
  },
  {
   "cell_type": "code",
   "execution_count": null,
   "metadata": {},
   "outputs": [],
   "source": [
    "need_reg"
   ]
  },
  {
   "cell_type": "code",
   "execution_count": null,
   "metadata": {},
   "outputs": [],
   "source": [
    "all_data = all_data.append(need_reg)"
   ]
  },
  {
   "cell_type": "code",
   "execution_count": null,
   "metadata": {},
   "outputs": [],
   "source": [
    "all_data.value_mean = all_data.value_mean.astype(float)"
   ]
  },
  {
   "cell_type": "code",
   "execution_count": null,
   "metadata": {},
   "outputs": [],
   "source": [
    "fort = all_data[(all_data.value_description==\"percent of population eating fortified vehicle\")]\n",
    "other = all_data[(all_data.value_description!=\"percent of population eating fortified vehicle\")]"
   ]
  },
  {
   "cell_type": "code",
   "execution_count": null,
   "metadata": {},
   "outputs": [],
   "source": [
    "fort = pd.pivot_table(fort, index=['location_name','vehicle'],values = 'value_mean', columns = 'value_description')"
   ]
  },
  {
   "cell_type": "code",
   "execution_count": null,
   "metadata": {},
   "outputs": [],
   "source": [
    "other = pd.pivot_table(other, index=['location_name','vehicle'],values = 'value_mean', columns = 'value_description')"
   ]
  },
  {
   "cell_type": "code",
   "execution_count": null,
   "metadata": {},
   "outputs": [],
   "source": [
    "validate = fort.reset_index().merge(other.reset_index(), on = ['location_name','vehicle'], how = 'outer').set_index(['location_name','vehicle'])"
   ]
  },
  {
   "cell_type": "code",
   "execution_count": null,
   "metadata": {},
   "outputs": [],
   "source": [
    "validate.columns = [i.replace(\" \",\"_\") for i in validate.columns]"
   ]
  },
  {
   "cell_type": "code",
   "execution_count": null,
   "metadata": {},
   "outputs": [],
   "source": [
    "validate"
   ]
  },
  {
   "cell_type": "code",
   "execution_count": null,
   "metadata": {},
   "outputs": [],
   "source": [
    "validate.loc[(validate.percent_of_population_eating_fortified_vehicle > validate.percent_of_population_eating_industrially_produced_vehicle) | (validate.percent_of_population_eating_industrially_produced_vehicle > validate.percent_of_population_eating_vehicle)]"
   ]
  },
  {
   "cell_type": "code",
   "execution_count": null,
   "metadata": {},
   "outputs": [],
   "source": [
    "check = target.merge(all_data[rcols + ['value_mean']], on = rcols, how = 'left')"
   ]
  },
  {
   "cell_type": "code",
   "execution_count": null,
   "metadata": {},
   "outputs": [],
   "source": [
    "assert(len(check[check.value_mean.isna()])==0), \"there are target loc/vehicle/val/nutrient combos youre missing\""
   ]
  },
  {
   "cell_type": "code",
   "execution_count": null,
   "metadata": {},
   "outputs": [],
   "source": [
    "rcols"
   ]
  },
  {
   "cell_type": "code",
   "execution_count": null,
   "metadata": {},
   "outputs": [],
   "source": [
    "output = all_data[rcols + ['value_mean','value_025_percentile', 'value_975_percentile','sub_population','estimation_status','source_citation','source_link','data_choice_notes']].sort_values(rcols).set_index(rcols)"
   ]
  },
  {
   "cell_type": "code",
   "execution_count": null,
   "metadata": {},
   "outputs": [],
   "source": [
    "##impute all missing CIs\n",
    "\n",
    "# clean value_mean\n",
    "output.loc[output.value_mean=='na','value_mean'] = np.nan\n",
    "output.value_mean = output.value_mean.astype(float)\n",
    "\n",
    "# clean 2.5th %ile\n",
    "output.loc[output.value_025_percentile=='na','value_025_percentile'] = np.nan\n",
    "output.value_025_percentile = output.value_025_percentile.astype(float)\n",
    "\n",
    "# clean 97.5th %ile\n",
    "output.loc[output.value_975_percentile=='na','value_975_percentile'] = np.nan\n",
    "output.value_975_percentile = output.value_975_percentile.astype(float)"
   ]
  },
  {
   "cell_type": "code",
   "execution_count": null,
   "metadata": {},
   "outputs": [],
   "source": [
    "output.loc[(output.value_mean > output.value_975_percentile),'value_975_percentile'] = np.nan"
   ]
  },
  {
   "cell_type": "code",
   "execution_count": null,
   "metadata": {},
   "outputs": [],
   "source": [
    "output.loc[(output.value_mean < output.value_025_percentile)]"
   ]
  },
  {
   "cell_type": "code",
   "execution_count": null,
   "metadata": {},
   "outputs": [],
   "source": [
    "output.loc[(output.value_mean == output.value_025_percentile)]"
   ]
  },
  {
   "cell_type": "code",
   "execution_count": null,
   "metadata": {},
   "outputs": [],
   "source": [
    "output['scale_over_mean'] = (output.value_975_percentile - output.value_025_percentile) / output.value_mean"
   ]
  },
  {
   "cell_type": "code",
   "execution_count": null,
   "metadata": {},
   "outputs": [],
   "source": [
    "output = output.reset_index()"
   ]
  },
  {
   "cell_type": "code",
   "execution_count": null,
   "metadata": {},
   "outputs": [],
   "source": [
    "r = output.loc[(output.scale_over_mean!=np.inf),['vehicle','scale_over_mean']]\n",
    "# .groupby('vehicle').mean().dropna().rename(columns={'scale_over_mean':'r'}).reset_index()"
   ]
  },
  {
   "cell_type": "code",
   "execution_count": null,
   "metadata": {},
   "outputs": [],
   "source": [
    "r_mean = r.scale_over_mean.mean()"
   ]
  },
  {
   "cell_type": "code",
   "execution_count": null,
   "metadata": {},
   "outputs": [],
   "source": [
    "r.loc[r.vehicle==\"maize flour\",'scale_over_mean'] = r_mean"
   ]
  },
  {
   "cell_type": "code",
   "execution_count": null,
   "metadata": {},
   "outputs": [],
   "source": [
    "r = r.groupby('vehicle').mean().dropna().rename(columns={'scale_over_mean':'r'}).reset_index()"
   ]
  },
  {
   "cell_type": "code",
   "execution_count": null,
   "metadata": {},
   "outputs": [],
   "source": [
    "r"
   ]
  },
  {
   "cell_type": "code",
   "execution_count": null,
   "metadata": {},
   "outputs": [],
   "source": [
    "break"
   ]
  },
  {
   "cell_type": "code",
   "execution_count": null,
   "metadata": {},
   "outputs": [],
   "source": [
    "# add uncertainty\n",
    "output = output.merge(r, on = 'vehicle', how = 'outer')"
   ]
  },
  {
   "cell_type": "code",
   "execution_count": null,
   "metadata": {},
   "outputs": [],
   "source": [
    "output.loc[(output.estimation_status==\"regression\"),'r'] = output.r * 2"
   ]
  },
  {
   "cell_type": "code",
   "execution_count": null,
   "metadata": {},
   "outputs": [],
   "source": [
    "output['lower'] = np.clip(output.value_mean - (output.r * output.value_mean)/2, 0, 100)\n",
    "output['upper'] = np.clip(output.value_mean + (output.r * output.value_mean)/2, 0, 100)"
   ]
  },
  {
   "cell_type": "code",
   "execution_count": null,
   "metadata": {},
   "outputs": [],
   "source": [
    "output"
   ]
  },
  {
   "cell_type": "code",
   "execution_count": null,
   "metadata": {},
   "outputs": [],
   "source": [
    "output.loc[(output.value_mean < output.value_025_percentile) | (output.value_025_percentile.isna()),'CI_source'] = \"modeling\"\n",
    "output.loc[(output.value_mean > output.value_975_percentile) | (output.value_975_percentile.isna()),'CI_source'] = \"modeling\"\n",
    "\n",
    "output.loc[output.CI_source.isna(),'CI_source'] = 'extraction'\n",
    "\n",
    "output.loc[(output.value_mean < output.value_025_percentile) | (output.value_025_percentile.isna()),'value_025_percentile'] = output.loc[(output.value_mean < output.value_025_percentile) | (output.value_025_percentile.isna())].lower\n",
    "output.loc[(output.value_mean > output.value_975_percentile) | (output.value_975_percentile.isna()),'value_975_percentile'] = output.loc[(output.value_mean > output.value_975_percentile) | (output.value_975_percentile.isna())].upper\n",
    "\n",
    "output = output.drop(columns=['r','lower','upper','scale_over_mean']).set_index(rcols)\n",
    "\n",
    "output.loc[output.estimation_status.isna(),'estimation_status'] = 'na'"
   ]
  },
  {
   "cell_type": "code",
   "execution_count": null,
   "metadata": {},
   "outputs": [],
   "source": [
    "output"
   ]
  },
  {
   "cell_type": "code",
   "execution_count": null,
   "metadata": {},
   "outputs": [],
   "source": [
    "output = output.reset_index()"
   ]
  },
  {
   "cell_type": "code",
   "execution_count": null,
   "metadata": {},
   "outputs": [],
   "source": [
    "output.loc[(output.location_name==\"Vietnam\"),'location_name'] = \"Viet Nam\""
   ]
  },
  {
   "cell_type": "code",
   "execution_count": null,
   "metadata": {},
   "outputs": [],
   "source": [
    "sort_helper = {\n",
    "    'percent of population eating fortified vehicle': 'C',\n",
    " 'percent of population eating industrially produced vehicle': 'B',\n",
    " 'percent of population eating vehicle': 'A'}"
   ]
  },
  {
   "cell_type": "code",
   "execution_count": null,
   "metadata": {},
   "outputs": [],
   "source": [
    "output['sort_helper'] = output.value_description.map(sort_helper)"
   ]
  },
  {
   "cell_type": "code",
   "execution_count": null,
   "metadata": {},
   "outputs": [],
   "source": [
    "output = output.sort_values(['location_name','vehicle','sort_helper','value_description','nutrient']).drop(columns='sort_helper')"
   ]
  },
  {
   "cell_type": "code",
   "execution_count": null,
   "metadata": {},
   "outputs": [],
   "source": [
    "save_path_tmp = '/ihme/homes/beatrixh/repos/scratch/tier5_coverage_data_03_29_2021.csv'\n",
    "output.to_csv(save_path_tmp, index = False)"
   ]
  },
  {
   "cell_type": "code",
   "execution_count": null,
   "metadata": {},
   "outputs": [],
   "source": []
  },
  {
   "cell_type": "code",
   "execution_count": null,
   "metadata": {},
   "outputs": [],
   "source": [
    "save_path = '/ihme/homes/beatrixh/vivarium_research_lsff/data_prep/outputs/tier5_coverage_data_03_29_2021.csv'\n",
    "output.to_csv(save_path, index = False)"
   ]
  },
  {
   "cell_type": "code",
   "execution_count": null,
   "metadata": {},
   "outputs": [],
   "source": []
  }
 ],
 "metadata": {
  "kernelspec": {
   "display_name": "Python 3",
   "language": "python",
   "name": "python3"
  },
  "language_info": {
   "codemirror_mode": {
    "name": "ipython",
    "version": 3
   },
   "file_extension": ".py",
   "mimetype": "text/x-python",
   "name": "python",
   "nbconvert_exporter": "python",
   "pygments_lexer": "ipython3",
   "version": "3.6.11"
  }
 },
 "nbformat": 4,
 "nbformat_minor": 4
}
