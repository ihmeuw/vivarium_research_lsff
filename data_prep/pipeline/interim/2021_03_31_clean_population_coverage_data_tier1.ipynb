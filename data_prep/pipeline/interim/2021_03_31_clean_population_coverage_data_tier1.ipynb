{
 "cells": [
  {
   "cell_type": "code",
   "execution_count": 1,
   "metadata": {},
   "outputs": [],
   "source": [
    "from db_queries import get_population, get_ids\n",
    "from db_queries import get_location_metadata as get_locs"
   ]
  },
  {
   "cell_type": "code",
   "execution_count": 2,
   "metadata": {},
   "outputs": [],
   "source": [
    "import pandas as pd, numpy as np"
   ]
  },
  {
   "cell_type": "markdown",
   "metadata": {},
   "source": [
    "# LSFF: choose population coverage data by hand for tier 1 countries"
   ]
  },
  {
   "cell_type": "markdown",
   "metadata": {},
   "source": [
    "## vehicles: Wheat flour, maize flour, oil"
   ]
  },
  {
   "cell_type": "markdown",
   "metadata": {},
   "source": [
    "\n",
    "## countries: Ethiopia, India, Nigeria"
   ]
  },
  {
   "cell_type": "code",
   "execution_count": 3,
   "metadata": {},
   "outputs": [],
   "source": [
    "nutrients = ['iron','zinc','folic acid','vitamin a']"
   ]
  },
  {
   "cell_type": "code",
   "execution_count": 4,
   "metadata": {},
   "outputs": [],
   "source": [
    "data_path = '/ihme/homes/beatrixh/vivarium_research_lsff/data_prep/inputs/extraction_sheet_lsff_03_24_2021.3.csv'\n",
    "assm_path = '/ihme/homes/beatrixh/vivarium_research_lsff/data_prep/inputs/extraction_sheet_lsff_assumed_coverage_03_24_2021.csv'\n",
    "\n",
    "df = pd.read_csv(data_path)"
   ]
  },
  {
   "cell_type": "code",
   "execution_count": 5,
   "metadata": {},
   "outputs": [],
   "source": [
    "df.loc[df.nutrient==\"folic acid, folate, b9\",'nutrient']= 'folic acid'"
   ]
  },
  {
   "cell_type": "code",
   "execution_count": 6,
   "metadata": {},
   "outputs": [],
   "source": [
    "assum = pd.read_csv(assm_path)"
   ]
  },
  {
   "cell_type": "code",
   "execution_count": 7,
   "metadata": {},
   "outputs": [
    {
     "data": {
      "text/plain": [
       "array(['Ethiopia', 'Myanmar', 'India'], dtype=object)"
      ]
     },
     "execution_count": 7,
     "metadata": {},
     "output_type": "execute_result"
    }
   ],
   "source": [
    "assum.location_name.unique()"
   ]
  },
  {
   "cell_type": "code",
   "execution_count": 8,
   "metadata": {},
   "outputs": [],
   "source": [
    "assum.loc[assum.nutrient==\"folic acid, folate, b9\",'nutrient']= 'folic acid'"
   ]
  },
  {
   "cell_type": "code",
   "execution_count": 9,
   "metadata": {},
   "outputs": [],
   "source": [
    "df['estimation_status'] = 'na'"
   ]
  },
  {
   "cell_type": "code",
   "execution_count": 10,
   "metadata": {},
   "outputs": [],
   "source": [
    "df['data_choice_notes'] = \"\""
   ]
  },
  {
   "cell_type": "code",
   "execution_count": 11,
   "metadata": {},
   "outputs": [],
   "source": [
    "mult_estimates_path = '/ihme/homes/beatrixh/vivarium_research_lsff/data_prep/outputs/lsff_data_estimated_03_22_2021.csv'\n",
    "\n",
    "mult_estimates = pd.read_csv(mult_estimates_path)"
   ]
  },
  {
   "cell_type": "code",
   "execution_count": 12,
   "metadata": {},
   "outputs": [],
   "source": [
    "#reformat\n",
    "mult_estimates.loc[(mult_estimates.B_estimate!=1.0),'B'] = np.nan\n",
    "mult_estimates.loc[(mult_estimates.C_estimate!=1.0),'C'] = np.nan\n",
    "\n",
    "mult_estimates = pd.melt(mult_estimates,\n",
    "                         id_vars = ['location_name','vehicle','nutrient','standard'],\n",
    "                         value_vars = ['B','C'], var_name = 'value_description', value_name = 'value_mean').dropna()\n",
    "\n",
    "mult_estimates.loc[(mult_estimates.value_description==\"B\"),'nutrient'] = 'NA'\n",
    "\n",
    "mult_estimates = mult_estimates.drop_duplicates()\n",
    "\n",
    "mult_estimates.value_description = mult_estimates.value_description.map({\n",
    "    'B':'percent of population eating industrially produced vehicle',\n",
    "    'C':'percent of population eating fortified vehicle'\n",
    "})"
   ]
  },
  {
   "cell_type": "code",
   "execution_count": 13,
   "metadata": {},
   "outputs": [],
   "source": [
    "mult_estimates['estimation_status'] = 'multiplicative'"
   ]
  },
  {
   "cell_type": "code",
   "execution_count": 14,
   "metadata": {},
   "outputs": [],
   "source": [
    "def prep_reg_estimates(path):\n",
    "    draws = [f'draw_{i}' for i in range(500)]\n",
    "\n",
    "    df = pd.read_csv(path)\n",
    "    df = df.groupby(['location_name','vehicle']).mean().reset_index()\n",
    "    df['value_mean'] = df[draws].mean(axis=1)\n",
    "    df['value_025_percentile'] = df[draws].quantile(.025, axis=1)\n",
    "    df['value_975_percentile'] = df[draws].quantile(.975, axis=1)\n",
    "\n",
    "    return df[['location_name','vehicle','value_mean']]"
   ]
  },
  {
   "cell_type": "code",
   "execution_count": 15,
   "metadata": {},
   "outputs": [],
   "source": [
    "eating_oil_path_reg = '/ihme/homes/beatrixh/vivarium_research_lsff/data_prep/outputs/pct_eating_oil_regression_estimates_3_22_2021.csv'\n",
    "eating_wheat_path_reg = '/ihme/homes/beatrixh/vivarium_research_lsff/data_prep/outputs/pct_eating_wheat_regression_estimates_3_22_2021.csv'"
   ]
  },
  {
   "cell_type": "code",
   "execution_count": 16,
   "metadata": {},
   "outputs": [],
   "source": [
    "eating_oil_reg = prep_reg_estimates(eating_oil_path_reg)\n",
    "eating_wheat_reg = prep_reg_estimates(eating_wheat_path_reg)"
   ]
  },
  {
   "cell_type": "code",
   "execution_count": 17,
   "metadata": {},
   "outputs": [],
   "source": [
    "## load legal combos\n",
    "import pickle\n",
    "data_prep_dir = '/ihme/homes/beatrixh/vivarium_research_lsff/data_prep/inputs/'\n",
    "\n",
    "with open(data_prep_dir + 'lsff_vehicle_nutrient_pairs.pickle', 'rb') as handle:\n",
    "    vehicle_nutrient_map = pickle.load(handle)\n",
    "    \n",
    "with open(data_prep_dir + 'lsff_country_vehicle_pairs.pickle', 'rb') as handle:\n",
    "    country_vehicle_map = pickle.load(handle)\n",
    "    \n",
    "with open(data_prep_dir + 'lsff_vehicle_country_pairs.pickle', 'rb') as handle:\n",
    "    vehicle_country_map = pickle.load(handle)"
   ]
  },
  {
   "cell_type": "code",
   "execution_count": 18,
   "metadata": {},
   "outputs": [],
   "source": [
    "location_names = ['Ethiopia','Nigeria','India']\n",
    "vehicles = ['maize flour','wheat flour','oil']\n",
    "nutrients = ['folic acid','iron','zinc','vitamin a']"
   ]
  },
  {
   "cell_type": "code",
   "execution_count": 19,
   "metadata": {},
   "outputs": [
    {
     "data": {
      "text/html": [
       "<div>\n",
       "<style scoped>\n",
       "    .dataframe tbody tr th:only-of-type {\n",
       "        vertical-align: middle;\n",
       "    }\n",
       "\n",
       "    .dataframe tbody tr th {\n",
       "        vertical-align: top;\n",
       "    }\n",
       "\n",
       "    .dataframe thead th {\n",
       "        text-align: right;\n",
       "    }\n",
       "</style>\n",
       "<table border=\"1\" class=\"dataframe\">\n",
       "  <thead>\n",
       "    <tr style=\"text-align: right;\">\n",
       "      <th></th>\n",
       "      <th></th>\n",
       "    </tr>\n",
       "    <tr>\n",
       "      <th>location_name</th>\n",
       "      <th>vehicle</th>\n",
       "    </tr>\n",
       "  </thead>\n",
       "  <tbody>\n",
       "    <tr>\n",
       "      <th rowspan=\"3\" valign=\"top\">Ethiopia</th>\n",
       "      <th>maize flour</th>\n",
       "    </tr>\n",
       "    <tr>\n",
       "      <th>oil</th>\n",
       "    </tr>\n",
       "    <tr>\n",
       "      <th>wheat flour</th>\n",
       "    </tr>\n",
       "    <tr>\n",
       "      <th rowspan=\"2\" valign=\"top\">India</th>\n",
       "      <th>oil</th>\n",
       "    </tr>\n",
       "    <tr>\n",
       "      <th>wheat flour</th>\n",
       "    </tr>\n",
       "    <tr>\n",
       "      <th rowspan=\"3\" valign=\"top\">Nigeria</th>\n",
       "      <th>maize flour</th>\n",
       "    </tr>\n",
       "    <tr>\n",
       "      <th>oil</th>\n",
       "    </tr>\n",
       "    <tr>\n",
       "      <th>wheat flour</th>\n",
       "    </tr>\n",
       "  </tbody>\n",
       "</table>\n",
       "</div>"
      ],
      "text/plain": [
       "Empty DataFrame\n",
       "Columns: []\n",
       "Index: [(Ethiopia, maize flour), (Ethiopia, oil), (Ethiopia, wheat flour), (India, oil), (India, wheat flour), (Nigeria, maize flour), (Nigeria, oil), (Nigeria, wheat flour)]"
      ]
     },
     "execution_count": 19,
     "metadata": {},
     "output_type": "execute_result"
    }
   ],
   "source": [
    "# these are the vehicles per country we need\n",
    "target_high_level = pd.DataFrame([(loc,v) for loc in location_names for v in country_vehicle_map[loc]],\n",
    "            columns=['location_name','vehicle']).sort_values(['location_name','vehicle'])\n",
    "\n",
    "target_high_level = target_high_level[target_high_level.vehicle.isin(vehicles)].set_index(['location_name','vehicle'])\n",
    "\n",
    "target_high_level"
   ]
  },
  {
   "cell_type": "code",
   "execution_count": 20,
   "metadata": {},
   "outputs": [],
   "source": [
    "target_a = pd.DataFrame([(loc,vehicle,nutrient,'percent of population eating fortified vehicle') for loc in location_names\n",
    "                       for vehicle in country_vehicle_map[loc]\n",
    "                      for nutrient in vehicle_nutrient_map[vehicle]],\n",
    "            columns=['location_name','vehicle','nutrient','value_description']).sort_values(['location_name','vehicle','nutrient'])\n",
    "target_a = target_a[(target_a.nutrient.isin(nutrients))]\n",
    "\n",
    "target_b = pd.DataFrame([(loc,vehicle,'na',val) for loc in location_names\n",
    "                       for vehicle in country_vehicle_map[loc]\n",
    "                      for val in ['percent of population eating industrially produced vehicle',\n",
    "       'percent of population eating vehicle']],\n",
    "            columns=['location_name','vehicle','nutrient','value_description'])\n",
    "\n",
    "sortvars = ['location_name','vehicle','value_description','nutrient']\n",
    "target = target_a.append(target_b)\n",
    "target = target[(target.vehicle.isin(vehicles)) & (target.nutrient.isin(nutrients + ['na']))].sort_values(sortvars).set_index(sortvars)"
   ]
  },
  {
   "cell_type": "code",
   "execution_count": 21,
   "metadata": {},
   "outputs": [],
   "source": [
    "target = target.reset_index()\n",
    "rcols = target.columns.tolist()"
   ]
  },
  {
   "cell_type": "code",
   "execution_count": 22,
   "metadata": {},
   "outputs": [],
   "source": [
    "check_cols = ['location_id','location_name','urbanicity','subnational_name','vehicle','value_description','nutrient','value_mean','value_025_percentile',\n",
    "       'value_975_percentile','sub_population','source_year','notes','source_citation','source_link','inclusion_justification','included','data_choice_notes']\n",
    "\n",
    "def filter_data(country, vehicle, val):    \n",
    "    output = df.loc[(df.location_name==country)\n",
    "           & (df.vehicle==vehicle)\n",
    "           & (df.value_description==val)\n",
    "           & (df.value_mean.notna()),check_cols]\n",
    "    \n",
    "    return output"
   ]
  },
  {
   "cell_type": "code",
   "execution_count": 23,
   "metadata": {},
   "outputs": [],
   "source": [
    "def check_one_country(country):\n",
    "    vehicles = ['oil', 'wheat flour', 'salt', 'maize flour', 'rice', 'bouillon']\n",
    "    values_gold = ['percent of population eating fortified vehicle',\n",
    "               'percent of population eating industrially produced vehicle',\n",
    "               'percent of population eating vehicle']\n",
    "    return pd.concat([filter_data(country, vehicle, val) for vehicle in vehicles for val in values_gold])"
   ]
  },
  {
   "cell_type": "code",
   "execution_count": 24,
   "metadata": {},
   "outputs": [],
   "source": [
    "usecols = ['location_id','location_name','subnational_name','vehicle','value_description','nutrient','value_mean', 'value_025_percentile',\n",
    "       'value_975_percentile']\n",
    "subset_data = {}"
   ]
  },
  {
   "cell_type": "code",
   "execution_count": 25,
   "metadata": {},
   "outputs": [],
   "source": [
    "for i in location_names:\n",
    "    subset_data[i] = pd.DataFrame()"
   ]
  },
  {
   "cell_type": "markdown",
   "metadata": {},
   "source": [
    "## Ethiopia"
   ]
  },
  {
   "cell_type": "code",
   "execution_count": 26,
   "metadata": {},
   "outputs": [
    {
     "name": "stderr",
     "output_type": "stream",
     "text": [
      "/ihme/code/central_comp/miniconda_svc-ccomp/envs/v107/lib/python3.7/site-packages/pandas/core/indexing.py:1418: FutureWarning: \n",
      "Passing list-likes to .loc or [] with any missing label will raise\n",
      "KeyError in the future, you can use .reindex() as an alternative.\n",
      "\n",
      "See the documentation here:\n",
      "https://pandas.pydata.org/pandas-docs/stable/user_guide/indexing.html#deprecate-loc-reindex-listlike\n",
      "  return self._getitem_tuple(key)\n"
     ]
    },
    {
     "data": {
      "text/plain": [
       "array(['percent of population eating industrially produced vehicle',\n",
       "       'percent of population eating vehicle',\n",
       "       'percent of population eating fortified vehicle'], dtype=object)"
      ]
     },
     "execution_count": 26,
     "metadata": {},
     "output_type": "execute_result"
    }
   ],
   "source": [
    "ethiopia = check_one_country(\"Ethiopia\")\n",
    "\n",
    "ethiopia.value_description.unique()"
   ]
  },
  {
   "cell_type": "code",
   "execution_count": 36,
   "metadata": {},
   "outputs": [
    {
     "data": {
      "text/html": [
       "<div>\n",
       "<style scoped>\n",
       "    .dataframe tbody tr th:only-of-type {\n",
       "        vertical-align: middle;\n",
       "    }\n",
       "\n",
       "    .dataframe tbody tr th {\n",
       "        vertical-align: top;\n",
       "    }\n",
       "\n",
       "    .dataframe thead th {\n",
       "        text-align: right;\n",
       "    }\n",
       "</style>\n",
       "<table border=\"1\" class=\"dataframe\">\n",
       "  <thead>\n",
       "    <tr style=\"text-align: right;\">\n",
       "      <th></th>\n",
       "      <th>location_id</th>\n",
       "      <th>location_name</th>\n",
       "      <th>urbanicity</th>\n",
       "      <th>subnational_name</th>\n",
       "      <th>vehicle</th>\n",
       "      <th>value_description</th>\n",
       "      <th>nutrient</th>\n",
       "      <th>value_mean</th>\n",
       "      <th>value_025_percentile</th>\n",
       "      <th>value_975_percentile</th>\n",
       "      <th>sub_population</th>\n",
       "      <th>source_year</th>\n",
       "      <th>notes</th>\n",
       "      <th>source_citation</th>\n",
       "      <th>source_link</th>\n",
       "      <th>inclusion_justification</th>\n",
       "      <th>included</th>\n",
       "      <th>data_choice_notes</th>\n",
       "    </tr>\n",
       "  </thead>\n",
       "  <tbody>\n",
       "  </tbody>\n",
       "</table>\n",
       "</div>"
      ],
      "text/plain": [
       "Empty DataFrame\n",
       "Columns: [location_id, location_name, urbanicity, subnational_name, vehicle, value_description, nutrient, value_mean, value_025_percentile, value_975_percentile, sub_population, source_year, notes, source_citation, source_link, inclusion_justification, included, data_choice_notes]\n",
       "Index: []"
      ]
     },
     "execution_count": 36,
     "metadata": {},
     "output_type": "execute_result"
    }
   ],
   "source": [
    "ethiopia[(ethiopia.vehicle==\"maize flour\")]"
   ]
  },
  {
   "cell_type": "code",
   "execution_count": 37,
   "metadata": {},
   "outputs": [
    {
     "data": {
      "text/html": [
       "<div>\n",
       "<style scoped>\n",
       "    .dataframe tbody tr th:only-of-type {\n",
       "        vertical-align: middle;\n",
       "    }\n",
       "\n",
       "    .dataframe tbody tr th {\n",
       "        vertical-align: top;\n",
       "    }\n",
       "\n",
       "    .dataframe thead th {\n",
       "        text-align: right;\n",
       "    }\n",
       "</style>\n",
       "<table border=\"1\" class=\"dataframe\">\n",
       "  <thead>\n",
       "    <tr style=\"text-align: right;\">\n",
       "      <th></th>\n",
       "      <th>location_id</th>\n",
       "      <th>location_name</th>\n",
       "      <th>vehicle</th>\n",
       "      <th>nutrient</th>\n",
       "      <th>value_description</th>\n",
       "      <th>value_mean</th>\n",
       "      <th>value_025_percentile</th>\n",
       "      <th>value_975_percentile</th>\n",
       "      <th>sub_population</th>\n",
       "      <th>notes</th>\n",
       "      <th>Unnamed: 10</th>\n",
       "    </tr>\n",
       "  </thead>\n",
       "  <tbody>\n",
       "    <tr>\n",
       "      <th>9</th>\n",
       "      <td>179</td>\n",
       "      <td>Ethiopia</td>\n",
       "      <td>maize flour</td>\n",
       "      <td>iron</td>\n",
       "      <td>percent of population eating fortified vehicle</td>\n",
       "      <td>0</td>\n",
       "      <td>0</td>\n",
       "      <td>0</td>\n",
       "      <td>total population</td>\n",
       "      <td>GFDx indicates no maize flour fortification st...</td>\n",
       "      <td>Added by paulina after reviewing input data/fo...</td>\n",
       "    </tr>\n",
       "    <tr>\n",
       "      <th>10</th>\n",
       "      <td>179</td>\n",
       "      <td>Ethiopia</td>\n",
       "      <td>maize flour</td>\n",
       "      <td>zinc</td>\n",
       "      <td>percent of population eating fortified vehicle</td>\n",
       "      <td>0</td>\n",
       "      <td>0</td>\n",
       "      <td>0</td>\n",
       "      <td>total population</td>\n",
       "      <td>GFDx indicates no maize flour fortification st...</td>\n",
       "      <td>Added by paulina after reviewing input data/fo...</td>\n",
       "    </tr>\n",
       "    <tr>\n",
       "      <th>11</th>\n",
       "      <td>179</td>\n",
       "      <td>Ethiopia</td>\n",
       "      <td>maize flour</td>\n",
       "      <td>folic acid</td>\n",
       "      <td>percent of population eating fortified vehicle</td>\n",
       "      <td>0</td>\n",
       "      <td>0</td>\n",
       "      <td>0</td>\n",
       "      <td>total population</td>\n",
       "      <td>GFDx indicates no maize flour fortification st...</td>\n",
       "      <td>Added by paulina after reviewing input data/fo...</td>\n",
       "    </tr>\n",
       "  </tbody>\n",
       "</table>\n",
       "</div>"
      ],
      "text/plain": [
       "    location_id location_name      vehicle    nutrient  \\\n",
       "9           179      Ethiopia  maize flour        iron   \n",
       "10          179      Ethiopia  maize flour        zinc   \n",
       "11          179      Ethiopia  maize flour  folic acid   \n",
       "\n",
       "                                 value_description  value_mean  \\\n",
       "9   percent of population eating fortified vehicle           0   \n",
       "10  percent of population eating fortified vehicle           0   \n",
       "11  percent of population eating fortified vehicle           0   \n",
       "\n",
       "    value_025_percentile  value_975_percentile    sub_population  \\\n",
       "9                      0                     0  total population   \n",
       "10                     0                     0  total population   \n",
       "11                     0                     0  total population   \n",
       "\n",
       "                                                notes  \\\n",
       "9   GFDx indicates no maize flour fortification st...   \n",
       "10  GFDx indicates no maize flour fortification st...   \n",
       "11  GFDx indicates no maize flour fortification st...   \n",
       "\n",
       "                                          Unnamed: 10  \n",
       "9   Added by paulina after reviewing input data/fo...  \n",
       "10  Added by paulina after reviewing input data/fo...  \n",
       "11  Added by paulina after reviewing input data/fo...  "
      ]
     },
     "execution_count": 37,
     "metadata": {},
     "output_type": "execute_result"
    }
   ],
   "source": [
    "assum[(assum.location_name==\"Ethiopia\") & (assum.vehicle==\"maize flour\")]"
   ]
  },
  {
   "cell_type": "code",
   "execution_count": 39,
   "metadata": {},
   "outputs": [],
   "source": [
    "subset_data['Ethiopia'] = subset_data['Ethiopia'].append(assum[(assum.location_name==\"Ethiopia\") & (assum.vehicle==\"maize flour\")])\n",
    "\n",
    "assum[(assum.location_name==\"Ethiopia\") & (assum.vehicle==\"maize flour\")]"
   ]
  },
  {
   "cell_type": "code",
   "execution_count": 42,
   "metadata": {},
   "outputs": [
    {
     "data": {
      "text/html": [
       "<div>\n",
       "<style scoped>\n",
       "    .dataframe tbody tr th:only-of-type {\n",
       "        vertical-align: middle;\n",
       "    }\n",
       "\n",
       "    .dataframe tbody tr th {\n",
       "        vertical-align: top;\n",
       "    }\n",
       "\n",
       "    .dataframe thead th {\n",
       "        text-align: right;\n",
       "    }\n",
       "</style>\n",
       "<table border=\"1\" class=\"dataframe\">\n",
       "  <thead>\n",
       "    <tr style=\"text-align: right;\">\n",
       "      <th></th>\n",
       "      <th>location_name</th>\n",
       "      <th>vehicle</th>\n",
       "      <th>nutrient</th>\n",
       "      <th>standard</th>\n",
       "      <th>value_description</th>\n",
       "      <th>value_mean</th>\n",
       "      <th>estimation_status</th>\n",
       "    </tr>\n",
       "  </thead>\n",
       "  <tbody>\n",
       "    <tr>\n",
       "      <th>458</th>\n",
       "      <td>Ethiopia</td>\n",
       "      <td>wheat flour</td>\n",
       "      <td>vitamin b12</td>\n",
       "      <td>Voluntary</td>\n",
       "      <td>percent of population eating fortified vehicle</td>\n",
       "      <td>0.0</td>\n",
       "      <td>multiplicative</td>\n",
       "    </tr>\n",
       "    <tr>\n",
       "      <th>459</th>\n",
       "      <td>Ethiopia</td>\n",
       "      <td>wheat flour</td>\n",
       "      <td>vitamin b1</td>\n",
       "      <td>Voluntary</td>\n",
       "      <td>percent of population eating fortified vehicle</td>\n",
       "      <td>0.0</td>\n",
       "      <td>multiplicative</td>\n",
       "    </tr>\n",
       "    <tr>\n",
       "      <th>461</th>\n",
       "      <td>Ethiopia</td>\n",
       "      <td>oil</td>\n",
       "      <td>vitamin d</td>\n",
       "      <td>Voluntary</td>\n",
       "      <td>percent of population eating fortified vehicle</td>\n",
       "      <td>0.0</td>\n",
       "      <td>multiplicative</td>\n",
       "    </tr>\n",
       "  </tbody>\n",
       "</table>\n",
       "</div>"
      ],
      "text/plain": [
       "    location_name      vehicle     nutrient   standard  \\\n",
       "458      Ethiopia  wheat flour  vitamin b12  Voluntary   \n",
       "459      Ethiopia  wheat flour   vitamin b1  Voluntary   \n",
       "461      Ethiopia          oil    vitamin d  Voluntary   \n",
       "\n",
       "                                  value_description  value_mean  \\\n",
       "458  percent of population eating fortified vehicle         0.0   \n",
       "459  percent of population eating fortified vehicle         0.0   \n",
       "461  percent of population eating fortified vehicle         0.0   \n",
       "\n",
       "    estimation_status  \n",
       "458    multiplicative  \n",
       "459    multiplicative  \n",
       "461    multiplicative  "
      ]
     },
     "execution_count": 42,
     "metadata": {},
     "output_type": "execute_result"
    }
   ],
   "source": [
    "mult_estimates[(mult_estimates.location_name==\"Ethiopia\")]"
   ]
  },
  {
   "cell_type": "code",
   "execution_count": null,
   "metadata": {},
   "outputs": [],
   "source": []
  },
  {
   "cell_type": "markdown",
   "metadata": {},
   "source": [
    "## Nigeria"
   ]
  },
  {
   "cell_type": "code",
   "execution_count": 34,
   "metadata": {},
   "outputs": [
    {
     "data": {
      "text/plain": [
       "array(['percent of population eating fortified vehicle',\n",
       "       'percent of population eating industrially produced vehicle',\n",
       "       'percent of population eating vehicle'], dtype=object)"
      ]
     },
     "execution_count": 34,
     "metadata": {},
     "output_type": "execute_result"
    }
   ],
   "source": [
    "nigeria = check_one_country(\"Nigeria\")\n",
    "\n",
    "nigeria.value_description.unique()"
   ]
  },
  {
   "cell_type": "code",
   "execution_count": 35,
   "metadata": {},
   "outputs": [
    {
     "data": {
      "text/html": [
       "<div>\n",
       "<style scoped>\n",
       "    .dataframe tbody tr th:only-of-type {\n",
       "        vertical-align: middle;\n",
       "    }\n",
       "\n",
       "    .dataframe tbody tr th {\n",
       "        vertical-align: top;\n",
       "    }\n",
       "\n",
       "    .dataframe thead th {\n",
       "        text-align: right;\n",
       "    }\n",
       "</style>\n",
       "<table border=\"1\" class=\"dataframe\">\n",
       "  <thead>\n",
       "    <tr style=\"text-align: right;\">\n",
       "      <th></th>\n",
       "      <th>location_id</th>\n",
       "      <th>location_name</th>\n",
       "      <th>urbanicity</th>\n",
       "      <th>subnational_name</th>\n",
       "      <th>vehicle</th>\n",
       "      <th>value_description</th>\n",
       "      <th>nutrient</th>\n",
       "      <th>value_mean</th>\n",
       "      <th>value_025_percentile</th>\n",
       "      <th>value_975_percentile</th>\n",
       "      <th>sub_population</th>\n",
       "      <th>source_year</th>\n",
       "      <th>notes</th>\n",
       "      <th>source_citation</th>\n",
       "      <th>source_link</th>\n",
       "      <th>inclusion_justification</th>\n",
       "      <th>included</th>\n",
       "      <th>data_choice_notes</th>\n",
       "    </tr>\n",
       "  </thead>\n",
       "  <tbody>\n",
       "    <tr>\n",
       "      <th>98</th>\n",
       "      <td>NaN</td>\n",
       "      <td>Nigeria</td>\n",
       "      <td>NaN</td>\n",
       "      <td>lagos</td>\n",
       "      <td>maize flour</td>\n",
       "      <td>percent of population eating fortified vehicle</td>\n",
       "      <td>folic acid</td>\n",
       "      <td>0.2</td>\n",
       "      <td>0</td>\n",
       "      <td>0.5</td>\n",
       "      <td>total population</td>\n",
       "      <td>2015</td>\n",
       "      <td>Raw coverage of wheat flour, maize flour, and ...</td>\n",
       "      <td>Grant J Aaron, Valerie M Friesen, Svenja Jungj...</td>\n",
       "      <td>https://doi.org/10.3945/jn.116.245753</td>\n",
       "      <td>NaN</td>\n",
       "      <td>NaN</td>\n",
       "      <td></td>\n",
       "    </tr>\n",
       "    <tr>\n",
       "      <th>99</th>\n",
       "      <td>NaN</td>\n",
       "      <td>Nigeria</td>\n",
       "      <td>NaN</td>\n",
       "      <td>lagos</td>\n",
       "      <td>maize flour</td>\n",
       "      <td>percent of population eating fortified vehicle</td>\n",
       "      <td>vitamin a</td>\n",
       "      <td>0.2</td>\n",
       "      <td>0</td>\n",
       "      <td>0.5</td>\n",
       "      <td>total population</td>\n",
       "      <td>2015</td>\n",
       "      <td>Raw coverage of wheat flour, maize flour, and ...</td>\n",
       "      <td>Grant J Aaron, Valerie M Friesen, Svenja Jungj...</td>\n",
       "      <td>https://doi.org/10.3945/jn.116.245753</td>\n",
       "      <td>NaN</td>\n",
       "      <td>NaN</td>\n",
       "      <td></td>\n",
       "    </tr>\n",
       "    <tr>\n",
       "      <th>100</th>\n",
       "      <td>NaN</td>\n",
       "      <td>Nigeria</td>\n",
       "      <td>NaN</td>\n",
       "      <td>lagos</td>\n",
       "      <td>maize flour</td>\n",
       "      <td>percent of population eating fortified vehicle</td>\n",
       "      <td>zinc</td>\n",
       "      <td>0.2</td>\n",
       "      <td>0</td>\n",
       "      <td>0.5</td>\n",
       "      <td>total population</td>\n",
       "      <td>2015</td>\n",
       "      <td>Raw coverage of wheat flour, maize flour, and ...</td>\n",
       "      <td>Grant J Aaron, Valerie M Friesen, Svenja Jungj...</td>\n",
       "      <td>https://doi.org/10.3945/jn.116.245753</td>\n",
       "      <td>NaN</td>\n",
       "      <td>NaN</td>\n",
       "      <td></td>\n",
       "    </tr>\n",
       "    <tr>\n",
       "      <th>127</th>\n",
       "      <td>NaN</td>\n",
       "      <td>Nigeria</td>\n",
       "      <td>NaN</td>\n",
       "      <td>kano</td>\n",
       "      <td>maize flour</td>\n",
       "      <td>percent of population eating fortified vehicle</td>\n",
       "      <td>folic acid</td>\n",
       "      <td>1.7</td>\n",
       "      <td>0.9</td>\n",
       "      <td>2.6</td>\n",
       "      <td>total population</td>\n",
       "      <td>2015</td>\n",
       "      <td>Raw coverage of wheat flour, maize flour, and ...</td>\n",
       "      <td>Grant J Aaron, Valerie M Friesen, Svenja Jungj...</td>\n",
       "      <td>https://doi.org/10.3945/jn.116.245753</td>\n",
       "      <td>NaN</td>\n",
       "      <td>NaN</td>\n",
       "      <td></td>\n",
       "    </tr>\n",
       "    <tr>\n",
       "      <th>128</th>\n",
       "      <td>NaN</td>\n",
       "      <td>Nigeria</td>\n",
       "      <td>NaN</td>\n",
       "      <td>kano</td>\n",
       "      <td>maize flour</td>\n",
       "      <td>percent of population eating fortified vehicle</td>\n",
       "      <td>vitamin a</td>\n",
       "      <td>1.7</td>\n",
       "      <td>0.9</td>\n",
       "      <td>2.6</td>\n",
       "      <td>total population</td>\n",
       "      <td>2015</td>\n",
       "      <td>Raw coverage of wheat flour, maize flour, and ...</td>\n",
       "      <td>Grant J Aaron, Valerie M Friesen, Svenja Jungj...</td>\n",
       "      <td>https://doi.org/10.3945/jn.116.245753</td>\n",
       "      <td>NaN</td>\n",
       "      <td>NaN</td>\n",
       "      <td></td>\n",
       "    </tr>\n",
       "    <tr>\n",
       "      <th>129</th>\n",
       "      <td>NaN</td>\n",
       "      <td>Nigeria</td>\n",
       "      <td>NaN</td>\n",
       "      <td>kano</td>\n",
       "      <td>maize flour</td>\n",
       "      <td>percent of population eating fortified vehicle</td>\n",
       "      <td>zinc</td>\n",
       "      <td>1.7</td>\n",
       "      <td>0.9</td>\n",
       "      <td>2.6</td>\n",
       "      <td>total population</td>\n",
       "      <td>2015</td>\n",
       "      <td>Raw coverage of wheat flour, maize flour, and ...</td>\n",
       "      <td>Grant J Aaron, Valerie M Friesen, Svenja Jungj...</td>\n",
       "      <td>https://doi.org/10.3945/jn.116.245753</td>\n",
       "      <td>NaN</td>\n",
       "      <td>NaN</td>\n",
       "      <td></td>\n",
       "    </tr>\n",
       "    <tr>\n",
       "      <th>97</th>\n",
       "      <td>NaN</td>\n",
       "      <td>Nigeria</td>\n",
       "      <td>NaN</td>\n",
       "      <td>lagos</td>\n",
       "      <td>maize flour</td>\n",
       "      <td>percent of population eating industrially prod...</td>\n",
       "      <td>na</td>\n",
       "      <td>2.9</td>\n",
       "      <td>1.8</td>\n",
       "      <td>4</td>\n",
       "      <td>total population</td>\n",
       "      <td>2015</td>\n",
       "      <td>Raw coverage of wheat flour, maize flour, and ...</td>\n",
       "      <td>Grant J Aaron, Valerie M Friesen, Svenja Jungj...</td>\n",
       "      <td>https://doi.org/10.3945/jn.116.245753</td>\n",
       "      <td>NaN</td>\n",
       "      <td>NaN</td>\n",
       "      <td></td>\n",
       "    </tr>\n",
       "    <tr>\n",
       "      <th>109</th>\n",
       "      <td>NaN</td>\n",
       "      <td>Nigeria</td>\n",
       "      <td>NaN</td>\n",
       "      <td>kano</td>\n",
       "      <td>maize flour</td>\n",
       "      <td>percent of population eating industrially prod...</td>\n",
       "      <td>na</td>\n",
       "      <td>11</td>\n",
       "      <td>9</td>\n",
       "      <td>13.1</td>\n",
       "      <td>total population</td>\n",
       "      <td>2015</td>\n",
       "      <td>Raw coverage of wheat flour, maize flour, and ...</td>\n",
       "      <td>Grant J Aaron, Valerie M Friesen, Svenja Jungj...</td>\n",
       "      <td>https://doi.org/10.3945/jn.116.245755</td>\n",
       "      <td>NaN</td>\n",
       "      <td>NaN</td>\n",
       "      <td></td>\n",
       "    </tr>\n",
       "    <tr>\n",
       "      <th>96</th>\n",
       "      <td>NaN</td>\n",
       "      <td>Nigeria</td>\n",
       "      <td>NaN</td>\n",
       "      <td>lagos</td>\n",
       "      <td>maize flour</td>\n",
       "      <td>percent of population eating vehicle</td>\n",
       "      <td>na</td>\n",
       "      <td>12.2</td>\n",
       "      <td>10</td>\n",
       "      <td>14.4</td>\n",
       "      <td>total population</td>\n",
       "      <td>2015</td>\n",
       "      <td>Raw coverage of wheat flour, maize flour, and ...</td>\n",
       "      <td>Grant J Aaron, Valerie M Friesen, Svenja Jungj...</td>\n",
       "      <td>https://doi.org/10.3945/jn.116.245753</td>\n",
       "      <td>NaN</td>\n",
       "      <td>NaN</td>\n",
       "      <td></td>\n",
       "    </tr>\n",
       "    <tr>\n",
       "      <th>103</th>\n",
       "      <td>NaN</td>\n",
       "      <td>Nigeria</td>\n",
       "      <td>NaN</td>\n",
       "      <td>kano</td>\n",
       "      <td>maize flour</td>\n",
       "      <td>percent of population eating vehicle</td>\n",
       "      <td>na</td>\n",
       "      <td>77.1</td>\n",
       "      <td>74.4</td>\n",
       "      <td>79.9</td>\n",
       "      <td>total population</td>\n",
       "      <td>2015</td>\n",
       "      <td>Raw coverage of wheat flour, maize flour, and ...</td>\n",
       "      <td>Grant J Aaron, Valerie M Friesen, Svenja Jungj...</td>\n",
       "      <td>https://doi.org/10.3945/jn.116.245754</td>\n",
       "      <td>NaN</td>\n",
       "      <td>NaN</td>\n",
       "      <td></td>\n",
       "    </tr>\n",
       "  </tbody>\n",
       "</table>\n",
       "</div>"
      ],
      "text/plain": [
       "     location_id location_name urbanicity subnational_name      vehicle  \\\n",
       "98           NaN       Nigeria        NaN            lagos  maize flour   \n",
       "99           NaN       Nigeria        NaN            lagos  maize flour   \n",
       "100          NaN       Nigeria        NaN            lagos  maize flour   \n",
       "127          NaN       Nigeria        NaN             kano  maize flour   \n",
       "128          NaN       Nigeria        NaN             kano  maize flour   \n",
       "129          NaN       Nigeria        NaN             kano  maize flour   \n",
       "97           NaN       Nigeria        NaN            lagos  maize flour   \n",
       "109          NaN       Nigeria        NaN             kano  maize flour   \n",
       "96           NaN       Nigeria        NaN            lagos  maize flour   \n",
       "103          NaN       Nigeria        NaN             kano  maize flour   \n",
       "\n",
       "                                     value_description    nutrient value_mean  \\\n",
       "98      percent of population eating fortified vehicle  folic acid        0.2   \n",
       "99      percent of population eating fortified vehicle   vitamin a        0.2   \n",
       "100     percent of population eating fortified vehicle        zinc        0.2   \n",
       "127     percent of population eating fortified vehicle  folic acid        1.7   \n",
       "128     percent of population eating fortified vehicle   vitamin a        1.7   \n",
       "129     percent of population eating fortified vehicle        zinc        1.7   \n",
       "97   percent of population eating industrially prod...          na        2.9   \n",
       "109  percent of population eating industrially prod...          na         11   \n",
       "96                percent of population eating vehicle          na       12.2   \n",
       "103               percent of population eating vehicle          na       77.1   \n",
       "\n",
       "    value_025_percentile value_975_percentile    sub_population source_year  \\\n",
       "98                     0                  0.5  total population        2015   \n",
       "99                     0                  0.5  total population        2015   \n",
       "100                    0                  0.5  total population        2015   \n",
       "127                  0.9                  2.6  total population        2015   \n",
       "128                  0.9                  2.6  total population        2015   \n",
       "129                  0.9                  2.6  total population        2015   \n",
       "97                   1.8                    4  total population        2015   \n",
       "109                    9                 13.1  total population        2015   \n",
       "96                    10                 14.4  total population        2015   \n",
       "103                 74.4                 79.9  total population        2015   \n",
       "\n",
       "                                                 notes  \\\n",
       "98   Raw coverage of wheat flour, maize flour, and ...   \n",
       "99   Raw coverage of wheat flour, maize flour, and ...   \n",
       "100  Raw coverage of wheat flour, maize flour, and ...   \n",
       "127  Raw coverage of wheat flour, maize flour, and ...   \n",
       "128  Raw coverage of wheat flour, maize flour, and ...   \n",
       "129  Raw coverage of wheat flour, maize flour, and ...   \n",
       "97   Raw coverage of wheat flour, maize flour, and ...   \n",
       "109  Raw coverage of wheat flour, maize flour, and ...   \n",
       "96   Raw coverage of wheat flour, maize flour, and ...   \n",
       "103  Raw coverage of wheat flour, maize flour, and ...   \n",
       "\n",
       "                                       source_citation  \\\n",
       "98   Grant J Aaron, Valerie M Friesen, Svenja Jungj...   \n",
       "99   Grant J Aaron, Valerie M Friesen, Svenja Jungj...   \n",
       "100  Grant J Aaron, Valerie M Friesen, Svenja Jungj...   \n",
       "127  Grant J Aaron, Valerie M Friesen, Svenja Jungj...   \n",
       "128  Grant J Aaron, Valerie M Friesen, Svenja Jungj...   \n",
       "129  Grant J Aaron, Valerie M Friesen, Svenja Jungj...   \n",
       "97   Grant J Aaron, Valerie M Friesen, Svenja Jungj...   \n",
       "109  Grant J Aaron, Valerie M Friesen, Svenja Jungj...   \n",
       "96   Grant J Aaron, Valerie M Friesen, Svenja Jungj...   \n",
       "103  Grant J Aaron, Valerie M Friesen, Svenja Jungj...   \n",
       "\n",
       "                               source_link inclusion_justification included  \\\n",
       "98   https://doi.org/10.3945/jn.116.245753                     NaN      NaN   \n",
       "99   https://doi.org/10.3945/jn.116.245753                     NaN      NaN   \n",
       "100  https://doi.org/10.3945/jn.116.245753                     NaN      NaN   \n",
       "127  https://doi.org/10.3945/jn.116.245753                     NaN      NaN   \n",
       "128  https://doi.org/10.3945/jn.116.245753                     NaN      NaN   \n",
       "129  https://doi.org/10.3945/jn.116.245753                     NaN      NaN   \n",
       "97   https://doi.org/10.3945/jn.116.245753                     NaN      NaN   \n",
       "109  https://doi.org/10.3945/jn.116.245755                     NaN      NaN   \n",
       "96   https://doi.org/10.3945/jn.116.245753                     NaN      NaN   \n",
       "103  https://doi.org/10.3945/jn.116.245754                     NaN      NaN   \n",
       "\n",
       "    data_choice_notes  \n",
       "98                     \n",
       "99                     \n",
       "100                    \n",
       "127                    \n",
       "128                    \n",
       "129                    \n",
       "97                     \n",
       "109                    \n",
       "96                     \n",
       "103                    "
      ]
     },
     "execution_count": 35,
     "metadata": {},
     "output_type": "execute_result"
    }
   ],
   "source": [
    "nigeria[(nigeria.vehicle==\"maize flour\")]"
   ]
  },
  {
   "cell_type": "code",
   "execution_count": 29,
   "metadata": {},
   "outputs": [
    {
     "ename": "SyntaxError",
     "evalue": "'break' outside loop (<ipython-input-29-6aaf1f276005>, line 4)",
     "output_type": "error",
     "traceback": [
      "\u001b[0;36m  File \u001b[0;32m\"<ipython-input-29-6aaf1f276005>\"\u001b[0;36m, line \u001b[0;32m4\u001b[0m\n\u001b[0;31mSyntaxError\u001b[0m\u001b[0;31m:\u001b[0m 'break' outside loop\n"
     ]
    }
   ],
   "source": [
    "break"
   ]
  },
  {
   "cell_type": "markdown",
   "metadata": {},
   "source": [
    "## Kenya"
   ]
  },
  {
   "cell_type": "code",
   "execution_count": null,
   "metadata": {},
   "outputs": [],
   "source": [
    "kenya = check_one_country(\"Kenya\")\n",
    "\n",
    "kenya.value_description.unique()"
   ]
  },
  {
   "cell_type": "code",
   "execution_count": 30,
   "metadata": {},
   "outputs": [
    {
     "data": {
      "text/html": [
       "<div>\n",
       "<style scoped>\n",
       "    .dataframe tbody tr th:only-of-type {\n",
       "        vertical-align: middle;\n",
       "    }\n",
       "\n",
       "    .dataframe tbody tr th {\n",
       "        vertical-align: top;\n",
       "    }\n",
       "\n",
       "    .dataframe thead th {\n",
       "        text-align: right;\n",
       "    }\n",
       "</style>\n",
       "<table border=\"1\" class=\"dataframe\">\n",
       "  <thead>\n",
       "    <tr style=\"text-align: right;\">\n",
       "      <th></th>\n",
       "      <th>location_name</th>\n",
       "      <th>vehicle</th>\n",
       "      <th>nutrient</th>\n",
       "      <th>standard</th>\n",
       "      <th>value_description</th>\n",
       "      <th>value_mean</th>\n",
       "      <th>estimation_status</th>\n",
       "    </tr>\n",
       "  </thead>\n",
       "  <tbody>\n",
       "    <tr>\n",
       "      <th>511</th>\n",
       "      <td>Kenya</td>\n",
       "      <td>wheat flour</td>\n",
       "      <td>iron</td>\n",
       "      <td>Mandatory</td>\n",
       "      <td>percent of population eating fortified vehicle</td>\n",
       "      <td>33.835750</td>\n",
       "      <td>multiplicative</td>\n",
       "    </tr>\n",
       "    <tr>\n",
       "      <th>512</th>\n",
       "      <td>Kenya</td>\n",
       "      <td>wheat flour</td>\n",
       "      <td>zinc</td>\n",
       "      <td>Mandatory</td>\n",
       "      <td>percent of population eating fortified vehicle</td>\n",
       "      <td>34.703333</td>\n",
       "      <td>multiplicative</td>\n",
       "    </tr>\n",
       "    <tr>\n",
       "      <th>513</th>\n",
       "      <td>Kenya</td>\n",
       "      <td>wheat flour</td>\n",
       "      <td>folic acid</td>\n",
       "      <td>Mandatory</td>\n",
       "      <td>percent of population eating fortified vehicle</td>\n",
       "      <td>34.703333</td>\n",
       "      <td>multiplicative</td>\n",
       "    </tr>\n",
       "    <tr>\n",
       "      <th>514</th>\n",
       "      <td>Kenya</td>\n",
       "      <td>wheat flour</td>\n",
       "      <td>vitamin b12</td>\n",
       "      <td>Mandatory</td>\n",
       "      <td>percent of population eating fortified vehicle</td>\n",
       "      <td>34.703333</td>\n",
       "      <td>multiplicative</td>\n",
       "    </tr>\n",
       "    <tr>\n",
       "      <th>515</th>\n",
       "      <td>Kenya</td>\n",
       "      <td>wheat flour</td>\n",
       "      <td>vitamin b1</td>\n",
       "      <td>Mandatory</td>\n",
       "      <td>percent of population eating fortified vehicle</td>\n",
       "      <td>34.703333</td>\n",
       "      <td>multiplicative</td>\n",
       "    </tr>\n",
       "    <tr>\n",
       "      <th>516</th>\n",
       "      <td>Kenya</td>\n",
       "      <td>wheat flour</td>\n",
       "      <td>vitamin a</td>\n",
       "      <td>Mandatory</td>\n",
       "      <td>percent of population eating fortified vehicle</td>\n",
       "      <td>34.703333</td>\n",
       "      <td>multiplicative</td>\n",
       "    </tr>\n",
       "    <tr>\n",
       "      <th>518</th>\n",
       "      <td>Kenya</td>\n",
       "      <td>oil</td>\n",
       "      <td>vitamin d</td>\n",
       "      <td>Unknown</td>\n",
       "      <td>percent of population eating fortified vehicle</td>\n",
       "      <td>0.000000</td>\n",
       "      <td>multiplicative</td>\n",
       "    </tr>\n",
       "    <tr>\n",
       "      <th>519</th>\n",
       "      <td>Kenya</td>\n",
       "      <td>maize flour</td>\n",
       "      <td>iron</td>\n",
       "      <td>Mandatory</td>\n",
       "      <td>percent of population eating fortified vehicle</td>\n",
       "      <td>5.317153</td>\n",
       "      <td>multiplicative</td>\n",
       "    </tr>\n",
       "    <tr>\n",
       "      <th>520</th>\n",
       "      <td>Kenya</td>\n",
       "      <td>maize flour</td>\n",
       "      <td>zinc</td>\n",
       "      <td>Mandatory</td>\n",
       "      <td>percent of population eating fortified vehicle</td>\n",
       "      <td>0.000000</td>\n",
       "      <td>multiplicative</td>\n",
       "    </tr>\n",
       "    <tr>\n",
       "      <th>521</th>\n",
       "      <td>Kenya</td>\n",
       "      <td>maize flour</td>\n",
       "      <td>folic acid</td>\n",
       "      <td>Mandatory</td>\n",
       "      <td>percent of population eating fortified vehicle</td>\n",
       "      <td>0.000000</td>\n",
       "      <td>multiplicative</td>\n",
       "    </tr>\n",
       "    <tr>\n",
       "      <th>522</th>\n",
       "      <td>Kenya</td>\n",
       "      <td>maize flour</td>\n",
       "      <td>vitamin b12</td>\n",
       "      <td>Mandatory</td>\n",
       "      <td>percent of population eating fortified vehicle</td>\n",
       "      <td>0.000000</td>\n",
       "      <td>multiplicative</td>\n",
       "    </tr>\n",
       "    <tr>\n",
       "      <th>523</th>\n",
       "      <td>Kenya</td>\n",
       "      <td>maize flour</td>\n",
       "      <td>vitamin b1</td>\n",
       "      <td>Mandatory</td>\n",
       "      <td>percent of population eating fortified vehicle</td>\n",
       "      <td>0.000000</td>\n",
       "      <td>multiplicative</td>\n",
       "    </tr>\n",
       "    <tr>\n",
       "      <th>524</th>\n",
       "      <td>Kenya</td>\n",
       "      <td>maize flour</td>\n",
       "      <td>vitamin a</td>\n",
       "      <td>Mandatory</td>\n",
       "      <td>percent of population eating fortified vehicle</td>\n",
       "      <td>0.000000</td>\n",
       "      <td>multiplicative</td>\n",
       "    </tr>\n",
       "  </tbody>\n",
       "</table>\n",
       "</div>"
      ],
      "text/plain": [
       "    location_name      vehicle     nutrient   standard  \\\n",
       "511         Kenya  wheat flour         iron  Mandatory   \n",
       "512         Kenya  wheat flour         zinc  Mandatory   \n",
       "513         Kenya  wheat flour   folic acid  Mandatory   \n",
       "514         Kenya  wheat flour  vitamin b12  Mandatory   \n",
       "515         Kenya  wheat flour   vitamin b1  Mandatory   \n",
       "516         Kenya  wheat flour    vitamin a  Mandatory   \n",
       "518         Kenya          oil    vitamin d    Unknown   \n",
       "519         Kenya  maize flour         iron  Mandatory   \n",
       "520         Kenya  maize flour         zinc  Mandatory   \n",
       "521         Kenya  maize flour   folic acid  Mandatory   \n",
       "522         Kenya  maize flour  vitamin b12  Mandatory   \n",
       "523         Kenya  maize flour   vitamin b1  Mandatory   \n",
       "524         Kenya  maize flour    vitamin a  Mandatory   \n",
       "\n",
       "                                  value_description  value_mean  \\\n",
       "511  percent of population eating fortified vehicle   33.835750   \n",
       "512  percent of population eating fortified vehicle   34.703333   \n",
       "513  percent of population eating fortified vehicle   34.703333   \n",
       "514  percent of population eating fortified vehicle   34.703333   \n",
       "515  percent of population eating fortified vehicle   34.703333   \n",
       "516  percent of population eating fortified vehicle   34.703333   \n",
       "518  percent of population eating fortified vehicle    0.000000   \n",
       "519  percent of population eating fortified vehicle    5.317153   \n",
       "520  percent of population eating fortified vehicle    0.000000   \n",
       "521  percent of population eating fortified vehicle    0.000000   \n",
       "522  percent of population eating fortified vehicle    0.000000   \n",
       "523  percent of population eating fortified vehicle    0.000000   \n",
       "524  percent of population eating fortified vehicle    0.000000   \n",
       "\n",
       "    estimation_status  \n",
       "511    multiplicative  \n",
       "512    multiplicative  \n",
       "513    multiplicative  \n",
       "514    multiplicative  \n",
       "515    multiplicative  \n",
       "516    multiplicative  \n",
       "518    multiplicative  \n",
       "519    multiplicative  \n",
       "520    multiplicative  \n",
       "521    multiplicative  \n",
       "522    multiplicative  \n",
       "523    multiplicative  \n",
       "524    multiplicative  "
      ]
     },
     "execution_count": 30,
     "metadata": {},
     "output_type": "execute_result"
    }
   ],
   "source": [
    "mult_estimates[(mult_estimates.location_name==\"Kenya\")]"
   ]
  },
  {
   "cell_type": "code",
   "execution_count": null,
   "metadata": {},
   "outputs": [],
   "source": []
  },
  {
   "cell_type": "markdown",
   "metadata": {},
   "source": [
    "## pop-weight subnationals"
   ]
  },
  {
   "cell_type": "code",
   "execution_count": null,
   "metadata": {},
   "outputs": [],
   "source": [
    "df[df.location_name.isin(location_names)].subnational_name.unique()"
   ]
  },
  {
   "cell_type": "code",
   "execution_count": null,
   "metadata": {},
   "outputs": [],
   "source": [
    "# 'Kitui', 'Vihiga' are relevant; 'Ougadougou', 'Gnagna' are from burkina faso, where we dont have to do any subnat weighting"
   ]
  },
  {
   "cell_type": "code",
   "execution_count": null,
   "metadata": {},
   "outputs": [],
   "source": [
    "loc_metadata = get_locs(location_set_id=35, gbd_round_id=6, decomp_step=\"step4\")\n",
    "\n",
    "#combine subnational estimates by population-weighting\n",
    "\n",
    "subnats = loc_metadata[loc_metadata.location_name.isin(['Kitui', 'Vihiga', 'Ougadougou', 'Gnagna'])][['location_id','location_name','parent_id']]\n",
    "\n",
    "subnats = subnats.rename(columns = {\n",
    "    'location_id':'subnational_id',\n",
    "    'location_name':'subnational_name'\n",
    "})\n",
    "\n",
    "subnat_pop = get_population(age_group_id=22, \n",
    "                     location_id=list(subnats.subnational_id),\n",
    "                     year_id=2017,\n",
    "                     sex_id=3,\n",
    "                     gbd_round_id=6, \n",
    "                     decomp_step='step5')\n",
    "\n",
    "subnats = subnats.merge(subnat_pop, left_on = 'subnational_id', right_on = 'location_id')[['subnational_id','subnational_name','population','parent_id']]\n",
    "\n",
    "subnats['pop_denom'] = subnats.groupby('parent_id').transform('sum').population\n",
    "\n",
    "subnats['subnat_pop_weight'] = subnats.population / subnats.pop_denom"
   ]
  },
  {
   "cell_type": "code",
   "execution_count": null,
   "metadata": {},
   "outputs": [],
   "source": [
    "subnats"
   ]
  },
  {
   "cell_type": "code",
   "execution_count": null,
   "metadata": {},
   "outputs": [],
   "source": [
    "tmp = subset_data['Kenya']"
   ]
  },
  {
   "cell_type": "code",
   "execution_count": null,
   "metadata": {},
   "outputs": [],
   "source": [
    "scols = rcols + ['source_link','source_citation','estimation_status','sub_population']"
   ]
  },
  {
   "cell_type": "code",
   "execution_count": null,
   "metadata": {},
   "outputs": [],
   "source": [
    "tmp.loc[tmp.source_citation.isna(),'source_citation'] = 'na'\n",
    "tmp.loc[tmp.source_link.isna(),'source_link'] = 'na'\n",
    "tmp.loc[tmp.estimation_status.isna(),'estimation_status'] = 'na'\n",
    "\n",
    "tmp.loc[tmp.value_025_percentile=='na','value_025_percentile'] = np.nan\n",
    "tmp.loc[tmp.value_975_percentile=='na','value_975_percentile'] = np.nan\n",
    "tmp.loc[tmp.estimation_status.isna(),'estimation_status'] = 'na'\n",
    "\n",
    "tmp['is_dupl'] = tmp.duplicated(subset = rcols, keep = False)\n",
    "tmp = tmp.merge(subnats[['subnational_name','subnat_pop_weight']], how = 'left')"
   ]
  },
  {
   "cell_type": "code",
   "execution_count": null,
   "metadata": {},
   "outputs": [],
   "source": [
    "tmp.subnat_pop_weight = tmp.subnat_pop_weight.astype(float)\n",
    "tmp.value_mean = tmp.value_mean.astype(float)\n",
    "tmp.value_025_percentile = tmp.value_025_percentile.astype(float)\n",
    "tmp.value_975_percentile = tmp.value_975_percentile.astype(float)"
   ]
  },
  {
   "cell_type": "code",
   "execution_count": null,
   "metadata": {},
   "outputs": [],
   "source": [
    "tmp.loc[tmp.is_dupl,'value_mean'] = tmp.loc[tmp.is_dupl].value_mean * tmp.loc[tmp.is_dupl].subnat_pop_weight\n",
    "tmp.loc[tmp.is_dupl,'value_025_percentile'] = tmp.value_025_percentile * tmp.subnat_pop_weight\n",
    "tmp.loc[tmp.is_dupl,'value_975_percentile'] = tmp.value_975_percentile * tmp.subnat_pop_weight"
   ]
  },
  {
   "cell_type": "code",
   "execution_count": null,
   "metadata": {},
   "outputs": [],
   "source": [
    "tmp.loc[~tmp.is_dupl,'subnational_name'] = 'na'"
   ]
  },
  {
   "cell_type": "code",
   "execution_count": null,
   "metadata": {},
   "outputs": [],
   "source": [
    "scols"
   ]
  },
  {
   "cell_type": "code",
   "execution_count": null,
   "metadata": {},
   "outputs": [],
   "source": [
    "tmp_a = tmp[~tmp.is_dupl]"
   ]
  },
  {
   "cell_type": "code",
   "execution_count": null,
   "metadata": {},
   "outputs": [],
   "source": [
    "tmp_b = tmp[tmp.is_dupl]"
   ]
  },
  {
   "cell_type": "code",
   "execution_count": null,
   "metadata": {},
   "outputs": [],
   "source": [
    "tmp_b.data_choice_notes.unique()"
   ]
  },
  {
   "cell_type": "code",
   "execution_count": null,
   "metadata": {},
   "outputs": [],
   "source": [
    "rcols"
   ]
  },
  {
   "cell_type": "code",
   "execution_count": null,
   "metadata": {},
   "outputs": [],
   "source": [
    "tmp_b.value_mean = tmp_b.groupby(scols).transform('sum').value_mean\n",
    "tmp_b.value_025_percentile = tmp_b.groupby(scols).transform('sum').value_025_percentile\n",
    "tmp_b.value_975_percentile = tmp_b.groupby(scols).transform('sum').value_975_percentile"
   ]
  },
  {
   "cell_type": "code",
   "execution_count": null,
   "metadata": {
    "scrolled": false
   },
   "outputs": [],
   "source": [
    "tmp_b = tmp_b[['location_name','vehicle','value_description','nutrient','estimation_status','source_link','source_citation','source_year','sub_population','value_mean','value_025_percentile','value_975_percentile','data_choice_notes',]].drop_duplicates()"
   ]
  },
  {
   "cell_type": "code",
   "execution_count": null,
   "metadata": {},
   "outputs": [],
   "source": [
    "tmp_b.value_mean = tmp_b.value_mean.astype(float)\n",
    "tmp_b.value_025_percentile = tmp_b.value_025_percentile.astype(float)\n",
    "tmp_b.value_975_percentile = tmp_b.value_975_percentile.astype(float)"
   ]
  },
  {
   "cell_type": "code",
   "execution_count": null,
   "metadata": {},
   "outputs": [],
   "source": [
    "tmp_b = tmp_b.groupby(['location_name','vehicle','value_description','nutrient','source_link','source_citation','source_year',]).mean().reset_index()"
   ]
  },
  {
   "cell_type": "code",
   "execution_count": null,
   "metadata": {},
   "outputs": [],
   "source": [
    "tmp_b['data_choice_notes'] = \"Excluded central bureau of stats total pop number from 2005 in lieu of Ferguson rural u5 number from 2015. Note 72% of kenyan population is rural according to the world bank: https://data.worldbank.org/indicator/SP.RUR.TOTL.ZS?locations=KE'. Population weighted rural subnationals.\""
   ]
  },
  {
   "cell_type": "code",
   "execution_count": null,
   "metadata": {},
   "outputs": [],
   "source": [
    "tmp = tmp_b.append(tmp_a)"
   ]
  },
  {
   "cell_type": "code",
   "execution_count": null,
   "metadata": {},
   "outputs": [],
   "source": [
    "tmp"
   ]
  },
  {
   "cell_type": "code",
   "execution_count": null,
   "metadata": {},
   "outputs": [],
   "source": [
    "subset_data['Kenya'] = tmp"
   ]
  },
  {
   "cell_type": "markdown",
   "metadata": {},
   "source": [
    "## Check for missingness"
   ]
  },
  {
   "cell_type": "code",
   "execution_count": null,
   "metadata": {},
   "outputs": [],
   "source": []
  },
  {
   "cell_type": "code",
   "execution_count": null,
   "metadata": {},
   "outputs": [],
   "source": [
    "all_data = pd.concat(list(subset_data.values()))"
   ]
  },
  {
   "cell_type": "code",
   "execution_count": null,
   "metadata": {},
   "outputs": [],
   "source": [
    "all_data.loc[(all_data.location_name==\"Kenya\") & (all_data.vehicle==\"oil\"),[\"value_description\",'value_mean','source_citation',\"data_choice_notes\"]]"
   ]
  },
  {
   "cell_type": "code",
   "execution_count": null,
   "metadata": {},
   "outputs": [],
   "source": [
    "all_data.data_choice_notes.unique()"
   ]
  },
  {
   "cell_type": "code",
   "execution_count": null,
   "metadata": {},
   "outputs": [],
   "source": [
    "all_data.loc[~(all_data.nutrient.isin(['vitamin a','iron','zinc','folic acid'])),'nutrient'] = 'na'"
   ]
  },
  {
   "cell_type": "code",
   "execution_count": null,
   "metadata": {},
   "outputs": [],
   "source": [
    "all_data[rcols + ['value_mean','value_025_percentile','value_975_percentile','sub_population']]"
   ]
  },
  {
   "cell_type": "code",
   "execution_count": null,
   "metadata": {},
   "outputs": [],
   "source": [
    "target.loc[target.location_name==\"Vietnam\",\"location_name\"] = \"Viet Nam\""
   ]
  },
  {
   "cell_type": "code",
   "execution_count": null,
   "metadata": {},
   "outputs": [],
   "source": [
    "all_data.location_name.unique()"
   ]
  },
  {
   "cell_type": "code",
   "execution_count": null,
   "metadata": {},
   "outputs": [],
   "source": [
    "all_data[(all_data.location_name==\"Viet Nam\")]"
   ]
  },
  {
   "cell_type": "code",
   "execution_count": null,
   "metadata": {},
   "outputs": [],
   "source": [
    "check = target.merge(all_data[rcols + ['value_mean']], on = rcols, how = 'left')"
   ]
  },
  {
   "cell_type": "code",
   "execution_count": null,
   "metadata": {
    "scrolled": true
   },
   "outputs": [],
   "source": [
    "check[check.value_mean.isna()]"
   ]
  },
  {
   "cell_type": "code",
   "execution_count": null,
   "metadata": {},
   "outputs": [],
   "source": [
    "assert(len(check[check.value_mean.isna()])==0), \"there are target loc/vehcile/val/nutrient combos youre missing\""
   ]
  },
  {
   "cell_type": "code",
   "execution_count": null,
   "metadata": {},
   "outputs": [],
   "source": [
    "rcols"
   ]
  },
  {
   "cell_type": "code",
   "execution_count": null,
   "metadata": {},
   "outputs": [],
   "source": [
    "output = all_data[rcols + ['value_mean','value_025_percentile', 'value_975_percentile','sub_population','estimation_status','source_citation','source_link','data_choice_notes']].sort_values(rcols).set_index(rcols)"
   ]
  },
  {
   "cell_type": "code",
   "execution_count": null,
   "metadata": {},
   "outputs": [],
   "source": [
    "##impute all missing CIs\n",
    "\n",
    "# clean value_mean\n",
    "output.loc[output.value_mean=='na','value_mean'] = np.nan\n",
    "output.value_mean = output.value_mean.astype(float)\n",
    "\n",
    "# clean 2.5th %ile\n",
    "output.loc[output.value_025_percentile=='na','value_025_percentile'] = np.nan\n",
    "output.value_025_percentile = output.value_025_percentile.astype(float)\n",
    "\n",
    "# clean 97.5th %ile\n",
    "output.loc[output.value_975_percentile=='na','value_975_percentile'] = np.nan\n",
    "output.value_975_percentile = output.value_975_percentile.astype(float)"
   ]
  },
  {
   "cell_type": "code",
   "execution_count": null,
   "metadata": {},
   "outputs": [],
   "source": [
    "output.loc[(output.value_mean > output.value_975_percentile),'value_975_percentile'] = np.nan"
   ]
  },
  {
   "cell_type": "code",
   "execution_count": null,
   "metadata": {},
   "outputs": [],
   "source": [
    "output.loc[(output.value_mean < output.value_025_percentile)]"
   ]
  },
  {
   "cell_type": "code",
   "execution_count": null,
   "metadata": {},
   "outputs": [],
   "source": [
    "output.loc[(output.value_mean == output.value_025_percentile)]"
   ]
  },
  {
   "cell_type": "code",
   "execution_count": null,
   "metadata": {},
   "outputs": [],
   "source": [
    "output['scale_over_mean'] = (output.value_975_percentile - output.value_025_percentile) / output.value_mean"
   ]
  },
  {
   "cell_type": "code",
   "execution_count": null,
   "metadata": {},
   "outputs": [],
   "source": [
    "output = output.reset_index()"
   ]
  },
  {
   "cell_type": "code",
   "execution_count": null,
   "metadata": {},
   "outputs": [],
   "source": [
    "r = output.loc[(output.scale_over_mean!=np.inf),['vehicle','scale_over_mean']]\n",
    "# .groupby('vehicle').mean().dropna().rename(columns={'scale_over_mean':'r'}).reset_index()"
   ]
  },
  {
   "cell_type": "code",
   "execution_count": null,
   "metadata": {},
   "outputs": [],
   "source": [
    "r_mean = r.scale_over_mean.mean()"
   ]
  },
  {
   "cell_type": "code",
   "execution_count": null,
   "metadata": {},
   "outputs": [],
   "source": [
    "r.loc[r.vehicle==\"maize flour\",'scale_over_mean'] = r_mean"
   ]
  },
  {
   "cell_type": "code",
   "execution_count": null,
   "metadata": {},
   "outputs": [],
   "source": [
    "r = r.groupby('vehicle').mean().dropna().rename(columns={'scale_over_mean':'r'}).reset_index()"
   ]
  },
  {
   "cell_type": "code",
   "execution_count": null,
   "metadata": {},
   "outputs": [],
   "source": [
    "# add uncertainty\n",
    "output = output.merge(r, on = 'vehicle', how = 'outer')"
   ]
  },
  {
   "cell_type": "code",
   "execution_count": null,
   "metadata": {},
   "outputs": [],
   "source": [
    "#increase uncertainty for regression estimates\n",
    "output.loc[(output.estimation_status=='regression'),'r'] = output.r * 2"
   ]
  },
  {
   "cell_type": "code",
   "execution_count": null,
   "metadata": {},
   "outputs": [],
   "source": [
    "output['lower'] = np.clip(output.value_mean - (output.r * output.value_mean)/2, 0, 100)\n",
    "output['upper'] = np.clip(output.value_mean + (output.r * output.value_mean)/2, 0, 100)"
   ]
  },
  {
   "cell_type": "code",
   "execution_count": null,
   "metadata": {},
   "outputs": [],
   "source": [
    "output"
   ]
  },
  {
   "cell_type": "code",
   "execution_count": null,
   "metadata": {},
   "outputs": [],
   "source": [
    "output.loc[(output.value_mean < output.value_025_percentile) | (output.value_025_percentile.isna()),'CI_source'] = \"modeling\"\n",
    "output.loc[(output.value_mean > output.value_975_percentile) | (output.value_975_percentile.isna()),'CI_source'] = \"modeling\"\n",
    "\n",
    "output.loc[output.CI_source.isna(),'CI_source'] = 'extraction'\n",
    "\n",
    "output.loc[(output.value_mean < output.value_025_percentile) | (output.value_025_percentile.isna()),'value_025_percentile'] = output.loc[(output.value_mean < output.value_025_percentile) | (output.value_025_percentile.isna())].lower\n",
    "output.loc[(output.value_mean > output.value_975_percentile) | (output.value_975_percentile.isna()),'value_975_percentile'] = output.loc[(output.value_mean > output.value_975_percentile) | (output.value_975_percentile.isna())].upper\n",
    "\n",
    "output = output.drop(columns=['r','lower','upper','scale_over_mean']).set_index(rcols)\n",
    "\n",
    "output.loc[output.estimation_status.isna(),'estimation_status'] = 'na'"
   ]
  },
  {
   "cell_type": "code",
   "execution_count": null,
   "metadata": {},
   "outputs": [],
   "source": [
    "output"
   ]
  },
  {
   "cell_type": "code",
   "execution_count": null,
   "metadata": {},
   "outputs": [],
   "source": [
    "output = output.reset_index()"
   ]
  },
  {
   "cell_type": "code",
   "execution_count": null,
   "metadata": {},
   "outputs": [],
   "source": [
    "output.loc[(output.location_name==\"Vietnam\"),'location_name'] = \"Viet Nam\""
   ]
  },
  {
   "cell_type": "code",
   "execution_count": null,
   "metadata": {},
   "outputs": [],
   "source": [
    "sort_helper = {\n",
    "    'percent of population eating fortified vehicle': 'C',\n",
    " 'percent of population eating industrially produced vehicle': 'B',\n",
    " 'percent of population eating vehicle': 'A'}"
   ]
  },
  {
   "cell_type": "code",
   "execution_count": null,
   "metadata": {},
   "outputs": [],
   "source": [
    "output['sort_helper'] = output.value_description.map(sort_helper)"
   ]
  },
  {
   "cell_type": "code",
   "execution_count": null,
   "metadata": {},
   "outputs": [],
   "source": [
    "output = output.sort_values(['location_name','vehicle','sort_helper','value_description','nutrient']).drop(columns='sort_helper')"
   ]
  },
  {
   "cell_type": "code",
   "execution_count": null,
   "metadata": {},
   "outputs": [],
   "source": [
    "output[(output.location_name==\"Viet Nam\") & (output.value_description==\"percent of population eating vehicle\")]"
   ]
  },
  {
   "cell_type": "code",
   "execution_count": null,
   "metadata": {},
   "outputs": [],
   "source": [
    "target"
   ]
  },
  {
   "cell_type": "code",
   "execution_count": null,
   "metadata": {},
   "outputs": [],
   "source": [
    "save_path_tmp = '/ihme/homes/beatrixh/repos/scratch/tier3_coverage_data_03_31_2021.csv'\n",
    "output.to_csv(save_path_tmp, index = False)"
   ]
  },
  {
   "cell_type": "code",
   "execution_count": null,
   "metadata": {},
   "outputs": [],
   "source": [
    "save_path = '/ihme/homes/beatrixh/vivarium_research_lsff/data_prep/outputs/population_coverage_data_tier3_locs_3_31_2021.csv'\n",
    "output.to_csv(save_path, index = False)"
   ]
  },
  {
   "cell_type": "code",
   "execution_count": null,
   "metadata": {},
   "outputs": [],
   "source": [
    "output.head()"
   ]
  },
  {
   "cell_type": "code",
   "execution_count": null,
   "metadata": {},
   "outputs": [],
   "source": [
    "formatted_output = output.copy()"
   ]
  },
  {
   "cell_type": "code",
   "execution_count": null,
   "metadata": {
    "scrolled": true
   },
   "outputs": [],
   "source": [
    "loc_metadata = get_locs(location_set_id=35, gbd_round_id=6, decomp_step=\"step4\")\n",
    "\n",
    "loc_ids = loc_metadata.loc[(loc_metadata.location_name.isin(formatted_output.location_name.unique())),['location_id','location_name']]\n",
    "\n",
    "formatted_output = formatted_output.merge(loc_ids, on = 'location_name', how = 'left')"
   ]
  },
  {
   "cell_type": "code",
   "execution_count": null,
   "metadata": {},
   "outputs": [],
   "source": [
    "formatted_usecols = ['location_id','location_name','sub_population',\n",
    "                     'vehicle','value_description','nutrient','value_mean',\n",
    "                     'value_025_percentile','value_975_percentile']\n",
    "\n",
    "formatted_output = formatted_output[formatted_usecols]"
   ]
  },
  {
   "cell_type": "code",
   "execution_count": null,
   "metadata": {},
   "outputs": [],
   "source": [
    "save_formatted_output_path = '/ihme/homes/beatrixh/vivarium_research_lsff/data_prep/outputs/population_coverage_tier3_input_data.csv'\n",
    "formatted_output.to_csv(save_formatted_output_path, index = False)"
   ]
  },
  {
   "cell_type": "code",
   "execution_count": null,
   "metadata": {},
   "outputs": [],
   "source": []
  },
  {
   "cell_type": "code",
   "execution_count": null,
   "metadata": {},
   "outputs": [],
   "source": [
    "# prev_tiers_path = '/ihme/homes/beatrixh/vivarium_research_lsff/data_prep/outputs/lsff_input_coverage_data.csv'\n",
    "# prev_tiers = pd.read_csv(prev_tiers_path)\n",
    "\n",
    "# prev_tiers = prev_tiers[~(prev_tiers.location_name.isin(location_names + ['Viet Nam']))]\n",
    "\n",
    "# all_tiers = prev_tiers.append(formatted_output)\n",
    "\n",
    "# all_tiers\n",
    "\n",
    "# all_tiers.to_csv(prev_tiers_path, index = False)"
   ]
  },
  {
   "cell_type": "code",
   "execution_count": null,
   "metadata": {},
   "outputs": [],
   "source": [
    "## TODO \n",
    "# check whats missing\n",
    "# pop weight as necessary\n",
    "# rerun the regressions --- make sure to fix burkina faso\n",
    "# incorporate and format "
   ]
  }
 ],
 "metadata": {
  "kernelspec": {
   "display_name": "Python 3",
   "language": "python",
   "name": "python3"
  },
  "language_info": {
   "codemirror_mode": {
    "name": "ipython",
    "version": 3
   },
   "file_extension": ".py",
   "mimetype": "text/x-python",
   "name": "python",
   "nbconvert_exporter": "python",
   "pygments_lexer": "ipython3",
   "version": "3.7.0"
  }
 },
 "nbformat": 4,
 "nbformat_minor": 4
}
