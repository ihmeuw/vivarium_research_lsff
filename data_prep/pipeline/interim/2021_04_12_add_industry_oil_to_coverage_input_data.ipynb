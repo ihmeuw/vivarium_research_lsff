{
 "cells": [
  {
   "cell_type": "code",
   "execution_count": 1,
   "metadata": {},
   "outputs": [],
   "source": [
    "import pandas as pd, numpy as np"
   ]
  },
  {
   "cell_type": "markdown",
   "metadata": {},
   "source": [
    "# Add 'industry oil' to coverage input data"
   ]
  },
  {
   "cell_type": "code",
   "execution_count": 2,
   "metadata": {},
   "outputs": [],
   "source": [
    "## pull in (previously final) input data sheet\n",
    "outputs_dir = '/ihme/homes/beatrixh/vivarium_research_lsff/data_prep/outputs/'\n",
    "input_data_path = outputs_dir + 'lsff_input_coverage_data.csv'\n",
    "\n",
    "input_data = pd.read_csv(input_data_path)\n",
    "\n",
    "loc_id_map = {i:j for(i,j) in zip(input_data.location_name, input_data.location_id) }"
   ]
  },
  {
   "cell_type": "code",
   "execution_count": 3,
   "metadata": {},
   "outputs": [],
   "source": [
    "# pull in (previously final) version of input data sheet with metadata\n",
    "w_meta = pd.read_csv(outputs_dir + 'lsff_input_coverage_data_with_metadata.csv')"
   ]
  },
  {
   "cell_type": "code",
   "execution_count": 4,
   "metadata": {},
   "outputs": [],
   "source": [
    "# pull in new numbers from Jonathan / industry\n",
    "inputs_dir = \"/ihme/homes/beatrixh/vivarium_research_lsff/data_prep/inputs/\"\n",
    "new_data = pd.read_excel(inputs_dir + \"20210411_LSFF_input_data_for_IHME.xlsx\", header = [1,2,3])"
   ]
  },
  {
   "cell_type": "code",
   "execution_count": 5,
   "metadata": {},
   "outputs": [],
   "source": [
    "# subset to the oil numbers we're interested in\n",
    "new_data = new_data.set_index(new_data.columns[0])\n",
    "\n",
    "new_oil = new_data['Baseline coverage']['Oil\\n(percent of population eating specified oil)'][['Fortifiable oil.1','Compliance % of fortifiable']]"
   ]
  },
  {
   "cell_type": "code",
   "execution_count": 6,
   "metadata": {},
   "outputs": [],
   "source": [
    "# pull columns we're interested in\n",
    "rename_oil = {\n",
    "    ('Location', 'Unnamed: 0_level_1', 'Unnamed: 0_level_2'): 'location_name',\n",
    " 'Fortifiable oil.1': 'percent of population eating industrially produced vehicle',\n",
    " 'Compliance % of fortifiable': 'percent of population eating fortified vehicle'\n",
    "}\n",
    "\n",
    "new_oil = new_oil.reset_index().rename(columns=rename_oil)"
   ]
  },
  {
   "cell_type": "code",
   "execution_count": 7,
   "metadata": {},
   "outputs": [],
   "source": [
    "# reshape to our format\n",
    "new_oil = pd.melt(new_oil, id_vars = 'location_name',\n",
    "        value_vars = ['percent of population eating industrially produced vehicle',\n",
    "       'percent of population eating fortified vehicle'],\n",
    "       var_name='value_description',value_name='value_mean')"
   ]
  },
  {
   "cell_type": "code",
   "execution_count": 8,
   "metadata": {},
   "outputs": [],
   "source": [
    "# fix c'ote divoire \n",
    "new_oil.loc[new_oil.location_name==\"CÃ´te d'Ivoire\",\"location_name\"] = \"Côte d'Ivoire\""
   ]
  },
  {
   "cell_type": "code",
   "execution_count": 9,
   "metadata": {},
   "outputs": [],
   "source": [
    "# make sure we're not missing any locations / don't have any extra\n",
    "assert(set(new_oil.location_name).symmetric_difference(set(input_data.location_name))==set())"
   ]
  },
  {
   "cell_type": "code",
   "execution_count": 10,
   "metadata": {},
   "outputs": [],
   "source": [
    "# formatting\n",
    "new_oil['vehicle'] = 'industry oil'\n",
    "new_oil['nutrient'] = 'vitamin a'\n",
    "new_oil['u5_applicable'] = True\n",
    "new_oil['wra_applicable'] = True\n",
    "new_oil['sub_population'] = np.NaN\n",
    "new_oil['location_id'] = new_oil.location_name.map(loc_id_map)"
   ]
  },
  {
   "cell_type": "code",
   "execution_count": 11,
   "metadata": {},
   "outputs": [
    {
     "data": {
      "text/html": [
       "<div>\n",
       "<style scoped>\n",
       "    .dataframe tbody tr th:only-of-type {\n",
       "        vertical-align: middle;\n",
       "    }\n",
       "\n",
       "    .dataframe tbody tr th {\n",
       "        vertical-align: top;\n",
       "    }\n",
       "\n",
       "    .dataframe thead th {\n",
       "        text-align: right;\n",
       "    }\n",
       "</style>\n",
       "<table border=\"1\" class=\"dataframe\">\n",
       "  <thead>\n",
       "    <tr style=\"text-align: right;\">\n",
       "      <th></th>\n",
       "      <th>location_name</th>\n",
       "      <th>value_description</th>\n",
       "      <th>value_mean</th>\n",
       "      <th>vehicle</th>\n",
       "      <th>nutrient</th>\n",
       "      <th>u5_applicable</th>\n",
       "      <th>wra_applicable</th>\n",
       "      <th>sub_population</th>\n",
       "      <th>location_id</th>\n",
       "    </tr>\n",
       "  </thead>\n",
       "  <tbody>\n",
       "    <tr>\n",
       "      <th>0</th>\n",
       "      <td>Angola</td>\n",
       "      <td>percent of population eating industrially prod...</td>\n",
       "      <td>72.320</td>\n",
       "      <td>industry oil</td>\n",
       "      <td>vitamin a</td>\n",
       "      <td>True</td>\n",
       "      <td>True</td>\n",
       "      <td>NaN</td>\n",
       "      <td>168</td>\n",
       "    </tr>\n",
       "    <tr>\n",
       "      <th>1</th>\n",
       "      <td>Bangladesh</td>\n",
       "      <td>percent of population eating industrially prod...</td>\n",
       "      <td>87.516</td>\n",
       "      <td>industry oil</td>\n",
       "      <td>vitamin a</td>\n",
       "      <td>True</td>\n",
       "      <td>True</td>\n",
       "      <td>NaN</td>\n",
       "      <td>161</td>\n",
       "    </tr>\n",
       "    <tr>\n",
       "      <th>2</th>\n",
       "      <td>Burkina Faso</td>\n",
       "      <td>percent of population eating industrially prod...</td>\n",
       "      <td>73.760</td>\n",
       "      <td>industry oil</td>\n",
       "      <td>vitamin a</td>\n",
       "      <td>True</td>\n",
       "      <td>True</td>\n",
       "      <td>NaN</td>\n",
       "      <td>201</td>\n",
       "    </tr>\n",
       "    <tr>\n",
       "      <th>3</th>\n",
       "      <td>Côte d'Ivoire</td>\n",
       "      <td>percent of population eating industrially prod...</td>\n",
       "      <td>72.000</td>\n",
       "      <td>industry oil</td>\n",
       "      <td>vitamin a</td>\n",
       "      <td>True</td>\n",
       "      <td>True</td>\n",
       "      <td>NaN</td>\n",
       "      <td>205</td>\n",
       "    </tr>\n",
       "    <tr>\n",
       "      <th>4</th>\n",
       "      <td>Cameroon</td>\n",
       "      <td>percent of population eating industrially prod...</td>\n",
       "      <td>72.000</td>\n",
       "      <td>industry oil</td>\n",
       "      <td>vitamin a</td>\n",
       "      <td>True</td>\n",
       "      <td>True</td>\n",
       "      <td>NaN</td>\n",
       "      <td>202</td>\n",
       "    </tr>\n",
       "  </tbody>\n",
       "</table>\n",
       "</div>"
      ],
      "text/plain": [
       "   location_name                                  value_description  \\\n",
       "0         Angola  percent of population eating industrially prod...   \n",
       "1     Bangladesh  percent of population eating industrially prod...   \n",
       "2   Burkina Faso  percent of population eating industrially prod...   \n",
       "3  Côte d'Ivoire  percent of population eating industrially prod...   \n",
       "4       Cameroon  percent of population eating industrially prod...   \n",
       "\n",
       "   value_mean       vehicle   nutrient  u5_applicable  wra_applicable  \\\n",
       "0      72.320  industry oil  vitamin a           True            True   \n",
       "1      87.516  industry oil  vitamin a           True            True   \n",
       "2      73.760  industry oil  vitamin a           True            True   \n",
       "3      72.000  industry oil  vitamin a           True            True   \n",
       "4      72.000  industry oil  vitamin a           True            True   \n",
       "\n",
       "   sub_population  location_id  \n",
       "0             NaN          168  \n",
       "1             NaN          161  \n",
       "2             NaN          201  \n",
       "3             NaN          205  \n",
       "4             NaN          202  "
      ]
     },
     "execution_count": 11,
     "metadata": {},
     "output_type": "execute_result"
    }
   ],
   "source": [
    "# check formatting\n",
    "new_oil.head()"
   ]
  },
  {
   "cell_type": "code",
   "execution_count": 12,
   "metadata": {},
   "outputs": [],
   "source": [
    "# from our (previously final) input sheet, select extracted rows of data (no regression or multiplicative results)\n",
    "# then drop any rows duplicated for different nutrients\n",
    "w_meta = w_meta[w_meta.estimation_status=='na'].drop(columns = 'nutrient').drop_duplicates()"
   ]
  },
  {
   "cell_type": "code",
   "execution_count": 13,
   "metadata": {},
   "outputs": [],
   "source": [
    "# use ratio of scale over mean to estimate scale for new industry datapoints\n",
    "w_meta['scale_over_mean'] = (w_meta.value_975_percentile - w_meta.value_025_percentile) / w_meta.value_mean\n",
    "r = w_meta.loc[(w_meta.scale_over_mean!=np.inf) & (w_meta.scale_over_mean!=0),['vehicle','scale_over_mean']]\n",
    "\n",
    "r_mean = r.scale_over_mean.mean()\n",
    "r.loc[r.vehicle==\"maize flour\",'scale_over_mean'] = r_mean\n",
    "\n",
    "r = r.groupby('vehicle').mean().dropna().rename(columns={'scale_over_mean':'r'}).reset_index()"
   ]
  },
  {
   "cell_type": "code",
   "execution_count": 14,
   "metadata": {},
   "outputs": [
    {
     "data": {
      "text/html": [
       "<div>\n",
       "<style scoped>\n",
       "    .dataframe tbody tr th:only-of-type {\n",
       "        vertical-align: middle;\n",
       "    }\n",
       "\n",
       "    .dataframe tbody tr th {\n",
       "        vertical-align: top;\n",
       "    }\n",
       "\n",
       "    .dataframe thead th {\n",
       "        text-align: right;\n",
       "    }\n",
       "</style>\n",
       "<table border=\"1\" class=\"dataframe\">\n",
       "  <thead>\n",
       "    <tr style=\"text-align: right;\">\n",
       "      <th></th>\n",
       "      <th>vehicle</th>\n",
       "      <th>r</th>\n",
       "    </tr>\n",
       "  </thead>\n",
       "  <tbody>\n",
       "    <tr>\n",
       "      <th>0</th>\n",
       "      <td>maize flour</td>\n",
       "      <td>0.564982</td>\n",
       "    </tr>\n",
       "    <tr>\n",
       "      <th>1</th>\n",
       "      <td>oil</td>\n",
       "      <td>0.379944</td>\n",
       "    </tr>\n",
       "    <tr>\n",
       "      <th>2</th>\n",
       "      <td>wheat flour</td>\n",
       "      <td>0.688639</td>\n",
       "    </tr>\n",
       "  </tbody>\n",
       "</table>\n",
       "</div>"
      ],
      "text/plain": [
       "       vehicle         r\n",
       "0  maize flour  0.564982\n",
       "1          oil  0.379944\n",
       "2  wheat flour  0.688639"
      ]
     },
     "execution_count": 14,
     "metadata": {},
     "output_type": "execute_result"
    }
   ],
   "source": [
    "r"
   ]
  },
  {
   "cell_type": "code",
   "execution_count": 15,
   "metadata": {},
   "outputs": [],
   "source": [
    "# we'll use the oil-specific ratio\n",
    "new_oil['r'] = 0.379944"
   ]
  },
  {
   "cell_type": "code",
   "execution_count": 16,
   "metadata": {},
   "outputs": [
    {
     "data": {
      "text/html": [
       "<div>\n",
       "<style scoped>\n",
       "    .dataframe tbody tr th:only-of-type {\n",
       "        vertical-align: middle;\n",
       "    }\n",
       "\n",
       "    .dataframe tbody tr th {\n",
       "        vertical-align: top;\n",
       "    }\n",
       "\n",
       "    .dataframe thead th {\n",
       "        text-align: right;\n",
       "    }\n",
       "</style>\n",
       "<table border=\"1\" class=\"dataframe\">\n",
       "  <thead>\n",
       "    <tr style=\"text-align: right;\">\n",
       "      <th></th>\n",
       "      <th>location_name</th>\n",
       "      <th>value_description</th>\n",
       "      <th>value_mean</th>\n",
       "      <th>vehicle</th>\n",
       "      <th>nutrient</th>\n",
       "      <th>u5_applicable</th>\n",
       "      <th>wra_applicable</th>\n",
       "      <th>sub_population</th>\n",
       "      <th>location_id</th>\n",
       "      <th>r</th>\n",
       "    </tr>\n",
       "  </thead>\n",
       "  <tbody>\n",
       "    <tr>\n",
       "      <th>0</th>\n",
       "      <td>Angola</td>\n",
       "      <td>percent of population eating industrially prod...</td>\n",
       "      <td>72.320</td>\n",
       "      <td>industry oil</td>\n",
       "      <td>vitamin a</td>\n",
       "      <td>True</td>\n",
       "      <td>True</td>\n",
       "      <td>NaN</td>\n",
       "      <td>168</td>\n",
       "      <td>0.379944</td>\n",
       "    </tr>\n",
       "    <tr>\n",
       "      <th>1</th>\n",
       "      <td>Bangladesh</td>\n",
       "      <td>percent of population eating industrially prod...</td>\n",
       "      <td>87.516</td>\n",
       "      <td>industry oil</td>\n",
       "      <td>vitamin a</td>\n",
       "      <td>True</td>\n",
       "      <td>True</td>\n",
       "      <td>NaN</td>\n",
       "      <td>161</td>\n",
       "      <td>0.379944</td>\n",
       "    </tr>\n",
       "    <tr>\n",
       "      <th>2</th>\n",
       "      <td>Burkina Faso</td>\n",
       "      <td>percent of population eating industrially prod...</td>\n",
       "      <td>73.760</td>\n",
       "      <td>industry oil</td>\n",
       "      <td>vitamin a</td>\n",
       "      <td>True</td>\n",
       "      <td>True</td>\n",
       "      <td>NaN</td>\n",
       "      <td>201</td>\n",
       "      <td>0.379944</td>\n",
       "    </tr>\n",
       "    <tr>\n",
       "      <th>3</th>\n",
       "      <td>Côte d'Ivoire</td>\n",
       "      <td>percent of population eating industrially prod...</td>\n",
       "      <td>72.000</td>\n",
       "      <td>industry oil</td>\n",
       "      <td>vitamin a</td>\n",
       "      <td>True</td>\n",
       "      <td>True</td>\n",
       "      <td>NaN</td>\n",
       "      <td>205</td>\n",
       "      <td>0.379944</td>\n",
       "    </tr>\n",
       "    <tr>\n",
       "      <th>4</th>\n",
       "      <td>Cameroon</td>\n",
       "      <td>percent of population eating industrially prod...</td>\n",
       "      <td>72.000</td>\n",
       "      <td>industry oil</td>\n",
       "      <td>vitamin a</td>\n",
       "      <td>True</td>\n",
       "      <td>True</td>\n",
       "      <td>NaN</td>\n",
       "      <td>202</td>\n",
       "      <td>0.379944</td>\n",
       "    </tr>\n",
       "  </tbody>\n",
       "</table>\n",
       "</div>"
      ],
      "text/plain": [
       "   location_name                                  value_description  \\\n",
       "0         Angola  percent of population eating industrially prod...   \n",
       "1     Bangladesh  percent of population eating industrially prod...   \n",
       "2   Burkina Faso  percent of population eating industrially prod...   \n",
       "3  Côte d'Ivoire  percent of population eating industrially prod...   \n",
       "4       Cameroon  percent of population eating industrially prod...   \n",
       "\n",
       "   value_mean       vehicle   nutrient  u5_applicable  wra_applicable  \\\n",
       "0      72.320  industry oil  vitamin a           True            True   \n",
       "1      87.516  industry oil  vitamin a           True            True   \n",
       "2      73.760  industry oil  vitamin a           True            True   \n",
       "3      72.000  industry oil  vitamin a           True            True   \n",
       "4      72.000  industry oil  vitamin a           True            True   \n",
       "\n",
       "   sub_population  location_id         r  \n",
       "0             NaN          168  0.379944  \n",
       "1             NaN          161  0.379944  \n",
       "2             NaN          201  0.379944  \n",
       "3             NaN          205  0.379944  \n",
       "4             NaN          202  0.379944  "
      ]
     },
     "execution_count": 16,
     "metadata": {},
     "output_type": "execute_result"
    }
   ],
   "source": [
    "new_oil.head()"
   ]
  },
  {
   "cell_type": "code",
   "execution_count": 18,
   "metadata": {},
   "outputs": [],
   "source": [
    "# input estimated CIs\n",
    "new_oil['value_025_percentile'] = np.clip(new_oil.value_mean - (new_oil.r * new_oil.value_mean)/2, 0, 100)\n",
    "new_oil['value_975_percentile'] = np.clip(new_oil.value_mean + (new_oil.r * new_oil.value_mean)/2, 0, 100)"
   ]
  },
  {
   "cell_type": "code",
   "execution_count": 19,
   "metadata": {},
   "outputs": [
    {
     "name": "stderr",
     "output_type": "stream",
     "text": [
      "/ihme/code/central_comp/miniconda_svc-ccomp/envs/v108/lib/python3.7/site-packages/pandas/core/frame.py:7138: FutureWarning: Sorting because non-concatenation axis is not aligned. A future version\n",
      "of pandas will change to not sort by default.\n",
      "\n",
      "To accept the future behavior, pass 'sort=False'.\n",
      "\n",
      "To retain the current behavior and silence the warning, pass 'sort=True'.\n",
      "\n",
      "  sort=sort,\n"
     ]
    }
   ],
   "source": [
    "output = input_data.append(new_oil)"
   ]
  },
  {
   "cell_type": "code",
   "execution_count": 20,
   "metadata": {},
   "outputs": [
    {
     "data": {
      "text/html": [
       "<div>\n",
       "<style scoped>\n",
       "    .dataframe tbody tr th:only-of-type {\n",
       "        vertical-align: middle;\n",
       "    }\n",
       "\n",
       "    .dataframe tbody tr th {\n",
       "        vertical-align: top;\n",
       "    }\n",
       "\n",
       "    .dataframe thead th {\n",
       "        text-align: right;\n",
       "    }\n",
       "</style>\n",
       "<table border=\"1\" class=\"dataframe\">\n",
       "  <thead>\n",
       "    <tr style=\"text-align: right;\">\n",
       "      <th></th>\n",
       "      <th>location_id</th>\n",
       "      <th>location_name</th>\n",
       "      <th>nutrient</th>\n",
       "      <th>r</th>\n",
       "      <th>sub_population</th>\n",
       "      <th>u5_applicable</th>\n",
       "      <th>value_025_percentile</th>\n",
       "      <th>value_975_percentile</th>\n",
       "      <th>value_description</th>\n",
       "      <th>value_mean</th>\n",
       "      <th>vehicle</th>\n",
       "      <th>wra_applicable</th>\n",
       "    </tr>\n",
       "  </thead>\n",
       "  <tbody>\n",
       "    <tr>\n",
       "      <th>45</th>\n",
       "      <td>196</td>\n",
       "      <td>South Africa</td>\n",
       "      <td>vitamin a</td>\n",
       "      <td>0.379944</td>\n",
       "      <td>NaN</td>\n",
       "      <td>True</td>\n",
       "      <td>2.430084</td>\n",
       "      <td>3.569916</td>\n",
       "      <td>percent of population eating fortified vehicle</td>\n",
       "      <td>3.0</td>\n",
       "      <td>industry oil</td>\n",
       "      <td>True</td>\n",
       "    </tr>\n",
       "    <tr>\n",
       "      <th>46</th>\n",
       "      <td>522</td>\n",
       "      <td>Sudan</td>\n",
       "      <td>vitamin a</td>\n",
       "      <td>0.379944</td>\n",
       "      <td>NaN</td>\n",
       "      <td>True</td>\n",
       "      <td>0.000000</td>\n",
       "      <td>0.000000</td>\n",
       "      <td>percent of population eating fortified vehicle</td>\n",
       "      <td>0.0</td>\n",
       "      <td>industry oil</td>\n",
       "      <td>True</td>\n",
       "    </tr>\n",
       "    <tr>\n",
       "      <th>47</th>\n",
       "      <td>190</td>\n",
       "      <td>Uganda</td>\n",
       "      <td>vitamin a</td>\n",
       "      <td>0.379944</td>\n",
       "      <td>NaN</td>\n",
       "      <td>True</td>\n",
       "      <td>44.065523</td>\n",
       "      <td>64.734477</td>\n",
       "      <td>percent of population eating fortified vehicle</td>\n",
       "      <td>54.4</td>\n",
       "      <td>industry oil</td>\n",
       "      <td>True</td>\n",
       "    </tr>\n",
       "    <tr>\n",
       "      <th>48</th>\n",
       "      <td>189</td>\n",
       "      <td>United Republic of Tanzania</td>\n",
       "      <td>vitamin a</td>\n",
       "      <td>0.379944</td>\n",
       "      <td>NaN</td>\n",
       "      <td>True</td>\n",
       "      <td>43.417501</td>\n",
       "      <td>63.782499</td>\n",
       "      <td>percent of population eating fortified vehicle</td>\n",
       "      <td>53.6</td>\n",
       "      <td>industry oil</td>\n",
       "      <td>True</td>\n",
       "    </tr>\n",
       "    <tr>\n",
       "      <th>49</th>\n",
       "      <td>20</td>\n",
       "      <td>Viet Nam</td>\n",
       "      <td>vitamin a</td>\n",
       "      <td>0.379944</td>\n",
       "      <td>NaN</td>\n",
       "      <td>True</td>\n",
       "      <td>56.701960</td>\n",
       "      <td>83.298040</td>\n",
       "      <td>percent of population eating fortified vehicle</td>\n",
       "      <td>70.0</td>\n",
       "      <td>industry oil</td>\n",
       "      <td>True</td>\n",
       "    </tr>\n",
       "  </tbody>\n",
       "</table>\n",
       "</div>"
      ],
      "text/plain": [
       "    location_id                location_name   nutrient         r  \\\n",
       "45          196                 South Africa  vitamin a  0.379944   \n",
       "46          522                        Sudan  vitamin a  0.379944   \n",
       "47          190                       Uganda  vitamin a  0.379944   \n",
       "48          189  United Republic of Tanzania  vitamin a  0.379944   \n",
       "49           20                     Viet Nam  vitamin a  0.379944   \n",
       "\n",
       "   sub_population  u5_applicable  value_025_percentile  value_975_percentile  \\\n",
       "45            NaN           True              2.430084              3.569916   \n",
       "46            NaN           True              0.000000              0.000000   \n",
       "47            NaN           True             44.065523             64.734477   \n",
       "48            NaN           True             43.417501             63.782499   \n",
       "49            NaN           True             56.701960             83.298040   \n",
       "\n",
       "                                 value_description  value_mean       vehicle  \\\n",
       "45  percent of population eating fortified vehicle         3.0  industry oil   \n",
       "46  percent of population eating fortified vehicle         0.0  industry oil   \n",
       "47  percent of population eating fortified vehicle        54.4  industry oil   \n",
       "48  percent of population eating fortified vehicle        53.6  industry oil   \n",
       "49  percent of population eating fortified vehicle        70.0  industry oil   \n",
       "\n",
       "    wra_applicable  \n",
       "45            True  \n",
       "46            True  \n",
       "47            True  \n",
       "48            True  \n",
       "49            True  "
      ]
     },
     "execution_count": 20,
     "metadata": {},
     "output_type": "execute_result"
    }
   ],
   "source": [
    "output.tail()"
   ]
  },
  {
   "cell_type": "code",
   "execution_count": 21,
   "metadata": {},
   "outputs": [
    {
     "data": {
      "text/plain": [
       "Index(['location_id', 'location_name', 'nutrient', 'r', 'sub_population',\n",
       "       'u5_applicable', 'value_025_percentile', 'value_975_percentile',\n",
       "       'value_description', 'value_mean', 'vehicle', 'wra_applicable'],\n",
       "      dtype='object')"
      ]
     },
     "execution_count": 21,
     "metadata": {},
     "output_type": "execute_result"
    }
   ],
   "source": [
    "output.columns"
   ]
  },
  {
   "cell_type": "code",
   "execution_count": null,
   "metadata": {},
   "outputs": [],
   "source": [
    "output.loc[(output.value_mean >= output.value_975_percentile) & (output.value_description!='percent of population eating vehicle')]"
   ]
  },
  {
   "cell_type": "code",
   "execution_count": null,
   "metadata": {},
   "outputs": [],
   "source": [
    "output.loc[(output.value_mean <= output.value_025_percentile) & (output.value_description!='percent of population eating vehicle')]"
   ]
  },
  {
   "cell_type": "code",
   "execution_count": null,
   "metadata": {},
   "outputs": [],
   "source": [
    "output.to_csv('/ihme/homes/beatrixh/repos/scratch/lsff_input_coverage_data.csv')"
   ]
  },
  {
   "cell_type": "code",
   "execution_count": null,
   "metadata": {},
   "outputs": [],
   "source": []
  }
 ],
 "metadata": {
  "kernelspec": {
   "display_name": "Python 3",
   "language": "python",
   "name": "python3"
  },
  "language_info": {
   "codemirror_mode": {
    "name": "ipython",
    "version": 3
   },
   "file_extension": ".py",
   "mimetype": "text/x-python",
   "name": "python",
   "nbconvert_exporter": "python",
   "pygments_lexer": "ipython3",
   "version": "3.7.0"
  }
 },
 "nbformat": 4,
 "nbformat_minor": 4
}
