{
 "cells": [
  {
   "cell_type": "code",
   "execution_count": 1,
   "metadata": {},
   "outputs": [],
   "source": [
    "import pandas as pd, numpy as np"
   ]
  },
  {
   "cell_type": "code",
   "execution_count": 2,
   "metadata": {},
   "outputs": [
    {
     "name": "stdout",
     "output_type": "stream",
     "text": [
      "gday_data_assumptions_nigeria_ethiopia_india.xlsx\r\n",
      "gday_data_assumptions_tier2.xlsx\r\n",
      "gday_nigeria_ethiopia_india_02_23_2021.csv\r\n",
      "gday_nigeria_ethiopia_india_02_24_2021.csv\r\n",
      "gday_tier2_03_16_2021.csv\r\n",
      "gday_tier3_03_23_2021.csv\r\n",
      "gday_tier3_04_01_2021.csv\r\n",
      "gday_tier4_03_29_2021.csv\r\n",
      "lsff_gday_data.csv\r\n",
      "lsff_gday_data_w_metadata.csv\r\n",
      "~$gday_data_assumptions_tier2.xlsx\r\n"
     ]
    }
   ],
   "source": [
    "ls /ihme/homes/beatrixh/vivarium_research_lsff/data_prep/outputs/ | grep gday"
   ]
  },
  {
   "cell_type": "code",
   "execution_count": 3,
   "metadata": {},
   "outputs": [],
   "source": [
    "# Concat all gday data"
   ]
  },
  {
   "cell_type": "code",
   "execution_count": 4,
   "metadata": {},
   "outputs": [],
   "source": [
    "outputs_dir = '/ihme/homes/beatrixh/vivarium_research_lsff/data_prep/outputs/'\n",
    "\n",
    "t1_path = outputs_dir + 'gday_nigeria_ethiopia_india_02_24_2021.csv'\n",
    "t2_path = outputs_dir + 'gday_tier2_03_16_2021.csv'\n",
    "t3_path = outputs_dir + 'gday_tier3_04_01_2021.csv'\n",
    "t4_path = outputs_dir + 'gday_tier4_03_29_2021.csv'\n",
    "\n",
    "\n",
    "df = pd.concat([pd.read_csv(path) for path in [t1_path, t2_path, t3_path, t4_path]])"
   ]
  },
  {
   "cell_type": "code",
   "execution_count": 5,
   "metadata": {},
   "outputs": [],
   "source": [
    "df = df.drop(columns = 'Unnamed: 0')"
   ]
  },
  {
   "cell_type": "code",
   "execution_count": 6,
   "metadata": {},
   "outputs": [],
   "source": [
    "save_path = '/ihme/homes/beatrixh/vivarium_research_lsff/data_prep/outputs/lsff_gday_data.csv'\n",
    "save_metadata_path = '/ihme/homes/beatrixh/vivarium_research_lsff/data_prep/outputs/lsff_gday_data_w_metadata.csv'"
   ]
  },
  {
   "cell_type": "code",
   "execution_count": 7,
   "metadata": {},
   "outputs": [],
   "source": [
    "df[['location_id', 'location_name', 'sub_population', 'vehicle', 'metric',\n",
    "       'mass_unit', 'time_unit', 'pop_denom', 'value_mean', 'lower', 'upper']].to_csv(save_path, index = False)\n",
    "\n",
    "df.to_csv(save_metadata_path, index = False)"
   ]
  },
  {
   "cell_type": "code",
   "execution_count": null,
   "metadata": {},
   "outputs": [],
   "source": []
  },
  {
   "cell_type": "code",
   "execution_count": 8,
   "metadata": {},
   "outputs": [
    {
     "data": {
      "text/plain": [
       "array(['capita', 'consumers'], dtype=object)"
      ]
     },
     "execution_count": 8,
     "metadata": {},
     "output_type": "execute_result"
    }
   ],
   "source": [
    "df.pop_denom.unique()"
   ]
  },
  {
   "cell_type": "code",
   "execution_count": null,
   "metadata": {},
   "outputs": [],
   "source": []
  }
 ],
 "metadata": {
  "kernelspec": {
   "display_name": "Python 3",
   "language": "python",
   "name": "python3"
  },
  "language_info": {
   "codemirror_mode": {
    "name": "ipython",
    "version": 3
   },
   "file_extension": ".py",
   "mimetype": "text/x-python",
   "name": "python",
   "nbconvert_exporter": "python",
   "pygments_lexer": "ipython3",
   "version": "3.6.11"
  }
 },
 "nbformat": 4,
 "nbformat_minor": 4
}
