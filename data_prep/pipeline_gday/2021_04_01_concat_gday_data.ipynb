{
 "cells": [
  {
   "cell_type": "code",
   "execution_count": 1,
   "metadata": {},
   "outputs": [],
   "source": [
    "import pandas as pd, numpy as np"
   ]
  },
  {
   "cell_type": "code",
   "execution_count": 2,
   "metadata": {},
   "outputs": [
    {
     "name": "stdout",
     "output_type": "stream",
     "text": [
      "gday_data_assumptions_nigeria_ethiopia_india.xlsx\r\n",
      "~$gday_data_assumptions_tier2.xlsx\r\n",
      "gday_data_assumptions_tier2.xlsx\r\n",
      "gday_nigeria_ethiopia_india_02_23_2021.csv\r\n",
      "gday_nigeria_ethiopia_india_02_24_2021.csv\r\n",
      "gday_tier2_03_16_2021.csv\r\n",
      "gday_tier2_04_02_2021.csv\r\n",
      "gday_tier3_03_23_2021.csv\r\n",
      "gday_tier3_04_01_2021.csv\r\n",
      "gday_tier3_04_02_2021.csv\r\n",
      "gday_tier4_03_29_2021.csv\r\n",
      "gday_tier4_04_02_2021.csv\r\n",
      "gday_tier5_04_02_2021.csv\r\n",
      "lsff_gday_data.csv\r\n",
      "lsff_gday_data_w_metadata.csv\r\n"
     ]
    }
   ],
   "source": [
    "ls /ihme/homes/beatrixh/vivarium_research_lsff/data_prep/outputs/ | grep gday"
   ]
  },
  {
   "cell_type": "code",
   "execution_count": 3,
   "metadata": {},
   "outputs": [],
   "source": [
    "# Concat all gday data"
   ]
  },
  {
   "cell_type": "code",
   "execution_count": 4,
   "metadata": {},
   "outputs": [
    {
     "name": "stderr",
     "output_type": "stream",
     "text": [
      "/ihme/homes/beatrixh/.local/lib/python3.7/site-packages/ipykernel_launcher.py:10: FutureWarning: Sorting because non-concatenation axis is not aligned. A future version\n",
      "of pandas will change to not sort by default.\n",
      "\n",
      "To accept the future behavior, pass 'sort=False'.\n",
      "\n",
      "To retain the current behavior and silence the warning, pass 'sort=True'.\n",
      "\n",
      "  # Remove the CWD from sys.path while we load stuff.\n"
     ]
    }
   ],
   "source": [
    "outputs_dir = '/ihme/homes/beatrixh/vivarium_research_lsff/data_prep/outputs/'\n",
    "\n",
    "t1_path = outputs_dir + 'gday_nigeria_ethiopia_india_02_24_2021.csv'\n",
    "t2_path = outputs_dir + 'gday_tier2_04_02_2021.csv'\n",
    "t3_path = outputs_dir + 'gday_tier3_04_02_2021.csv'\n",
    "t4_path = outputs_dir + 'gday_tier4_04_02_2021.csv'\n",
    "t5_path = outputs_dir + 'gday_tier5_04_02_2021.csv'\n",
    "\n",
    "\n",
    "df = pd.concat([pd.read_csv(path) for path in [t1_path, t2_path, t3_path, t4_path, t5_path]])"
   ]
  },
  {
   "cell_type": "code",
   "execution_count": 5,
   "metadata": {},
   "outputs": [],
   "source": [
    "df = df.drop(columns = 'Unnamed: 0')"
   ]
  },
  {
   "cell_type": "code",
   "execution_count": 6,
   "metadata": {
    "scrolled": false
   },
   "outputs": [
    {
     "data": {
      "text/html": [
       "<div>\n",
       "<style scoped>\n",
       "    .dataframe tbody tr th:only-of-type {\n",
       "        vertical-align: middle;\n",
       "    }\n",
       "\n",
       "    .dataframe tbody tr th {\n",
       "        vertical-align: top;\n",
       "    }\n",
       "\n",
       "    .dataframe thead th {\n",
       "        text-align: right;\n",
       "    }\n",
       "</style>\n",
       "<table border=\"1\" class=\"dataframe\">\n",
       "  <thead>\n",
       "    <tr style=\"text-align: right;\">\n",
       "      <th></th>\n",
       "      <th>location_id</th>\n",
       "      <th>location_name</th>\n",
       "    </tr>\n",
       "  </thead>\n",
       "  <tbody>\n",
       "    <tr>\n",
       "      <th>1</th>\n",
       "      <td>168</td>\n",
       "      <td>Angola</td>\n",
       "    </tr>\n",
       "    <tr>\n",
       "      <th>0</th>\n",
       "      <td>161</td>\n",
       "      <td>Bangladesh</td>\n",
       "    </tr>\n",
       "    <tr>\n",
       "      <th>1</th>\n",
       "      <td>201</td>\n",
       "      <td>Burkina Faso</td>\n",
       "    </tr>\n",
       "    <tr>\n",
       "      <th>0</th>\n",
       "      <td>202</td>\n",
       "      <td>Cameroon</td>\n",
       "    </tr>\n",
       "    <tr>\n",
       "      <th>2</th>\n",
       "      <td>6</td>\n",
       "      <td>China</td>\n",
       "    </tr>\n",
       "    <tr>\n",
       "      <th>3</th>\n",
       "      <td>205</td>\n",
       "      <td>Côte d'Ivoire</td>\n",
       "    </tr>\n",
       "    <tr>\n",
       "      <th>4</th>\n",
       "      <td>171</td>\n",
       "      <td>Democratic Republic of the Congo</td>\n",
       "    </tr>\n",
       "    <tr>\n",
       "      <th>4</th>\n",
       "      <td>141</td>\n",
       "      <td>Egypt</td>\n",
       "    </tr>\n",
       "    <tr>\n",
       "      <th>3</th>\n",
       "      <td>179</td>\n",
       "      <td>Ethiopia</td>\n",
       "    </tr>\n",
       "    <tr>\n",
       "      <th>5</th>\n",
       "      <td>207</td>\n",
       "      <td>Ghana</td>\n",
       "    </tr>\n",
       "    <tr>\n",
       "      <th>2</th>\n",
       "      <td>163</td>\n",
       "      <td>India</td>\n",
       "    </tr>\n",
       "    <tr>\n",
       "      <th>6</th>\n",
       "      <td>11</td>\n",
       "      <td>Indonesia</td>\n",
       "    </tr>\n",
       "    <tr>\n",
       "      <th>2</th>\n",
       "      <td>180</td>\n",
       "      <td>Kenya</td>\n",
       "    </tr>\n",
       "    <tr>\n",
       "      <th>7</th>\n",
       "      <td>181</td>\n",
       "      <td>Madagascar</td>\n",
       "    </tr>\n",
       "    <tr>\n",
       "      <th>8</th>\n",
       "      <td>184</td>\n",
       "      <td>Mozambique</td>\n",
       "    </tr>\n",
       "    <tr>\n",
       "      <th>5</th>\n",
       "      <td>15</td>\n",
       "      <td>Myanmar</td>\n",
       "    </tr>\n",
       "    <tr>\n",
       "      <th>6</th>\n",
       "      <td>164</td>\n",
       "      <td>Nepal</td>\n",
       "    </tr>\n",
       "    <tr>\n",
       "      <th>10</th>\n",
       "      <td>213</td>\n",
       "      <td>Niger</td>\n",
       "    </tr>\n",
       "    <tr>\n",
       "      <th>6</th>\n",
       "      <td>214</td>\n",
       "      <td>Nigeria</td>\n",
       "    </tr>\n",
       "    <tr>\n",
       "      <th>1</th>\n",
       "      <td>165</td>\n",
       "      <td>Pakistan</td>\n",
       "    </tr>\n",
       "    <tr>\n",
       "      <th>6</th>\n",
       "      <td>196</td>\n",
       "      <td>South Africa</td>\n",
       "    </tr>\n",
       "    <tr>\n",
       "      <th>11</th>\n",
       "      <td>522</td>\n",
       "      <td>Sudan</td>\n",
       "    </tr>\n",
       "    <tr>\n",
       "      <th>4</th>\n",
       "      <td>190</td>\n",
       "      <td>Uganda</td>\n",
       "    </tr>\n",
       "    <tr>\n",
       "      <th>2</th>\n",
       "      <td>189</td>\n",
       "      <td>United Republic of Tanzania</td>\n",
       "    </tr>\n",
       "    <tr>\n",
       "      <th>7</th>\n",
       "      <td>20</td>\n",
       "      <td>Viet Nam</td>\n",
       "    </tr>\n",
       "  </tbody>\n",
       "</table>\n",
       "</div>"
      ],
      "text/plain": [
       "    location_id                     location_name\n",
       "1           168                            Angola\n",
       "0           161                        Bangladesh\n",
       "1           201                      Burkina Faso\n",
       "0           202                          Cameroon\n",
       "2             6                             China\n",
       "3           205                     Côte d'Ivoire\n",
       "4           171  Democratic Republic of the Congo\n",
       "4           141                             Egypt\n",
       "3           179                          Ethiopia\n",
       "5           207                             Ghana\n",
       "2           163                             India\n",
       "6            11                         Indonesia\n",
       "2           180                             Kenya\n",
       "7           181                        Madagascar\n",
       "8           184                        Mozambique\n",
       "5            15                           Myanmar\n",
       "6           164                             Nepal\n",
       "10          213                             Niger\n",
       "6           214                           Nigeria\n",
       "1           165                          Pakistan\n",
       "6           196                      South Africa\n",
       "11          522                             Sudan\n",
       "4           190                            Uganda\n",
       "2           189       United Republic of Tanzania\n",
       "7            20                          Viet Nam"
      ]
     },
     "execution_count": 6,
     "metadata": {},
     "output_type": "execute_result"
    }
   ],
   "source": [
    "df[['location_id','location_name']].sort_values(by = 'location_name').drop_duplicates()"
   ]
  },
  {
   "cell_type": "code",
   "execution_count": 7,
   "metadata": {},
   "outputs": [
    {
     "data": {
      "text/plain": [
       "array(['Angola', 'Bangladesh', 'Burkina Faso', 'Cameroon', 'China',\n",
       "       \"Côte d'Ivoire\", 'Democratic Republic of the Congo', 'Egypt',\n",
       "       'Ethiopia', 'Ghana', 'India', 'Indonesia', 'Kenya', 'Madagascar',\n",
       "       'Mozambique', 'Myanmar', 'Nepal', 'Niger', 'Nigeria', 'Pakistan',\n",
       "       'South Africa', 'Sudan', 'Uganda', 'United Republic of Tanzania',\n",
       "       'Viet Nam'], dtype=object)"
      ]
     },
     "execution_count": 7,
     "metadata": {},
     "output_type": "execute_result"
    }
   ],
   "source": [
    "df.sort_values('location_name').location_name.unique()"
   ]
  },
  {
   "cell_type": "code",
   "execution_count": 8,
   "metadata": {},
   "outputs": [],
   "source": [
    "df.loc[(df.location_name==\"Vietnam\"),'location_name'] = \"Viet Nam\""
   ]
  },
  {
   "cell_type": "code",
   "execution_count": 9,
   "metadata": {},
   "outputs": [],
   "source": [
    "assert(len(df[(df.mass_unit.isna())])==0)"
   ]
  },
  {
   "cell_type": "code",
   "execution_count": 10,
   "metadata": {},
   "outputs": [],
   "source": [
    "for col in ['location_id', 'location_name', 'sub_population', 'vehicle', 'metric',\n",
    "       'mass_unit', 'time_unit', 'pop_denom', 'value_mean', 'lower', 'upper']:\n",
    "    if len(df[(df[col].isna())])>0:\n",
    "        print(f\"Check {col} for NAs\")"
   ]
  },
  {
   "cell_type": "code",
   "execution_count": 11,
   "metadata": {},
   "outputs": [],
   "source": [
    "# early deliverable\n",
    "df = df[(df.vehicle.isin(['wheat flour','maize flour','oil']))]"
   ]
  },
  {
   "cell_type": "code",
   "execution_count": 12,
   "metadata": {},
   "outputs": [],
   "source": [
    "assert(len(df[df.value_mean >= df.upper])==0), \"check upper\"\n",
    "assert(len(df[df.value_mean <= df.lower])==0), \"check lower\""
   ]
  },
  {
   "cell_type": "code",
   "execution_count": 13,
   "metadata": {},
   "outputs": [
    {
     "data": {
      "text/html": [
       "<div>\n",
       "<style scoped>\n",
       "    .dataframe tbody tr th:only-of-type {\n",
       "        vertical-align: middle;\n",
       "    }\n",
       "\n",
       "    .dataframe tbody tr th {\n",
       "        vertical-align: top;\n",
       "    }\n",
       "\n",
       "    .dataframe thead th {\n",
       "        text-align: right;\n",
       "    }\n",
       "</style>\n",
       "<table border=\"1\" class=\"dataframe\">\n",
       "  <thead>\n",
       "    <tr style=\"text-align: right;\">\n",
       "      <th></th>\n",
       "      <th>data_choice_notes</th>\n",
       "      <th>location_id</th>\n",
       "      <th>location_name</th>\n",
       "      <th>lower</th>\n",
       "      <th>mass_unit</th>\n",
       "      <th>mean_value_source_citation</th>\n",
       "      <th>mean_value_source_link</th>\n",
       "      <th>metric</th>\n",
       "      <th>pop_denom</th>\n",
       "      <th>sub_population</th>\n",
       "      <th>time_unit</th>\n",
       "      <th>upper</th>\n",
       "      <th>value_mean</th>\n",
       "      <th>vehicle</th>\n",
       "    </tr>\n",
       "  </thead>\n",
       "  <tbody>\n",
       "  </tbody>\n",
       "</table>\n",
       "</div>"
      ],
      "text/plain": [
       "Empty DataFrame\n",
       "Columns: [data_choice_notes, location_id, location_name, lower, mass_unit, mean_value_source_citation, mean_value_source_link, metric, pop_denom, sub_population, time_unit, upper, value_mean, vehicle]\n",
       "Index: []"
      ]
     },
     "execution_count": 13,
     "metadata": {},
     "output_type": "execute_result"
    }
   ],
   "source": [
    "df[df.value_mean >= df.upper]"
   ]
  },
  {
   "cell_type": "code",
   "execution_count": 14,
   "metadata": {},
   "outputs": [
    {
     "data": {
      "text/html": [
       "<div>\n",
       "<style scoped>\n",
       "    .dataframe tbody tr th:only-of-type {\n",
       "        vertical-align: middle;\n",
       "    }\n",
       "\n",
       "    .dataframe tbody tr th {\n",
       "        vertical-align: top;\n",
       "    }\n",
       "\n",
       "    .dataframe thead th {\n",
       "        text-align: right;\n",
       "    }\n",
       "</style>\n",
       "<table border=\"1\" class=\"dataframe\">\n",
       "  <thead>\n",
       "    <tr style=\"text-align: right;\">\n",
       "      <th></th>\n",
       "      <th>data_choice_notes</th>\n",
       "      <th>location_id</th>\n",
       "      <th>location_name</th>\n",
       "      <th>lower</th>\n",
       "      <th>mass_unit</th>\n",
       "      <th>mean_value_source_citation</th>\n",
       "      <th>mean_value_source_link</th>\n",
       "      <th>metric</th>\n",
       "      <th>pop_denom</th>\n",
       "      <th>sub_population</th>\n",
       "      <th>time_unit</th>\n",
       "      <th>upper</th>\n",
       "      <th>value_mean</th>\n",
       "      <th>vehicle</th>\n",
       "    </tr>\n",
       "  </thead>\n",
       "  <tbody>\n",
       "  </tbody>\n",
       "</table>\n",
       "</div>"
      ],
      "text/plain": [
       "Empty DataFrame\n",
       "Columns: [data_choice_notes, location_id, location_name, lower, mass_unit, mean_value_source_citation, mean_value_source_link, metric, pop_denom, sub_population, time_unit, upper, value_mean, vehicle]\n",
       "Index: []"
      ]
     },
     "execution_count": 14,
     "metadata": {},
     "output_type": "execute_result"
    }
   ],
   "source": [
    "df[df.value_mean <= df.lower]"
   ]
  },
  {
   "cell_type": "code",
   "execution_count": 15,
   "metadata": {},
   "outputs": [],
   "source": [
    "save_path = '/ihme/homes/beatrixh/vivarium_research_lsff/data_prep/outputs/lsff_gday_data.csv'\n",
    "save_metadata_path = '/ihme/homes/beatrixh/vivarium_research_lsff/data_prep/outputs/lsff_gday_data_w_metadata.csv'"
   ]
  },
  {
   "cell_type": "code",
   "execution_count": 16,
   "metadata": {},
   "outputs": [],
   "source": [
    "df[['location_id', 'location_name', 'sub_population', 'vehicle', 'metric',\n",
    "       'mass_unit', 'time_unit', 'pop_denom', 'value_mean', 'lower', 'upper']].to_csv(save_path, index = False)\n",
    "\n",
    "df.to_csv(save_metadata_path, index = False)"
   ]
  },
  {
   "cell_type": "code",
   "execution_count": null,
   "metadata": {},
   "outputs": [],
   "source": []
  }
 ],
 "metadata": {
  "kernelspec": {
   "display_name": "Python 3",
   "language": "python",
   "name": "python3"
  },
  "language_info": {
   "codemirror_mode": {
    "name": "ipython",
    "version": 3
   },
   "file_extension": ".py",
   "mimetype": "text/x-python",
   "name": "python",
   "nbconvert_exporter": "python",
   "pygments_lexer": "ipython3",
   "version": "3.7.0"
  }
 },
 "nbformat": 4,
 "nbformat_minor": 4
}
