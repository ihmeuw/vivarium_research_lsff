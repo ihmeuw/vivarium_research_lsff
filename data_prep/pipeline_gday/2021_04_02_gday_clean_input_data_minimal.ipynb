{
 "cells": [
  {
   "cell_type": "code",
   "execution_count": 1,
   "metadata": {},
   "outputs": [],
   "source": [
    "from db_queries import get_population, get_ids\n",
    "from db_queries import get_location_metadata as get_locs"
   ]
  },
  {
   "cell_type": "code",
   "execution_count": 2,
   "metadata": {},
   "outputs": [],
   "source": [
    "import pandas as pd, numpy as np, matplotlib.pyplot as plt"
   ]
  },
  {
   "cell_type": "markdown",
   "metadata": {},
   "source": [
    "# Clean all gday data: minimal"
   ]
  },
  {
   "cell_type": "code",
   "execution_count": 3,
   "metadata": {},
   "outputs": [],
   "source": [
    "## load targets\n",
    "import pickle\n",
    "data_prep_dir = '/ihme/homes/beatrixh/vivarium_research_lsff/data_prep/inputs/'\n",
    "\n",
    "with open(data_prep_dir + 'lsff_vehicle_nutrient_pairs.pickle', 'rb') as handle:\n",
    "    vehicle_nutrient_map = pickle.load(handle)\n",
    "    \n",
    "with open(data_prep_dir + 'lsff_country_vehicle_pairs.pickle', 'rb') as handle:\n",
    "    country_vehicle_map = pickle.load(handle)"
   ]
  },
  {
   "cell_type": "code",
   "execution_count": 4,
   "metadata": {},
   "outputs": [
    {
     "name": "stdout",
     "output_type": "stream",
     "text": [
      "gday_extraction_sheet_02_19_2021.csv\r\n",
      "gday_extraction_sheet_02_22_2021.csv\r\n",
      "gday_extraction_sheet_03_16_2021.csv\r\n",
      "gday_extraction_sheet_03_22_2021.csv\r\n",
      "gday_extraction_sheet_03_24_2021.csv\r\n",
      "gday_extraction_sheet_03_29_2021.csv\r\n"
     ]
    }
   ],
   "source": [
    "ls /ihme/homes/beatrixh/vivarium_research_lsff/data_prep/inputs/ | grep gday_extraction_"
   ]
  },
  {
   "cell_type": "code",
   "execution_count": 5,
   "metadata": {},
   "outputs": [],
   "source": [
    "gday_path =  '/ihme/homes/beatrixh/vivarium_research_lsff/data_prep/inputs/gday_extraction_sheet_03_29_2021.csv'\n",
    "gday = pd.read_csv(gday_path)\n",
    "\n",
    "assert(len(gday[gday.location_name.isna()])==0), \"Some rows missing location name\""
   ]
  },
  {
   "cell_type": "code",
   "execution_count": 6,
   "metadata": {},
   "outputs": [],
   "source": [
    "gday.location_name = gday.location_name.str.strip(' ')\n",
    "gday.subnational_name = gday.subnational_name.str.strip(' ')\n",
    "gday.vehicle = gday.vehicle.str.strip(' ')\n",
    "gday.nutrient = gday.nutrient.str.strip(' ')\n",
    "gday.urbanicity = gday.urbanicity.str.strip(' ')\n",
    "gday.nutrient = gday.nutrient.str.strip(' ')"
   ]
  },
  {
   "cell_type": "code",
   "execution_count": 7,
   "metadata": {},
   "outputs": [],
   "source": [
    "# location_names = ['Pakistan','Bangladesh','United Republic of Tanzania','Uganda','South Africa']\n",
    "# location_names = ['Kenya', 'Burkina Faso', 'Myanmar', 'Vietnam', 'Nepal']\n",
    "\n",
    "location_names = ['Angola', 'Bangladesh', 'Burkina Faso', 'Cameroon', 'China',\n",
    "       \"Côte d'Ivoire\", 'Democratic Republic of the Congo', 'Egypt',\n",
    "       'Ethiopia', 'Ghana', 'India', 'Indonesia', 'Kenya', 'Madagascar',\n",
    "       'Mozambique', 'Myanmar', 'Nepal', 'Niger', 'Nigeria', 'Pakistan',\n",
    "       'South Africa', 'Sudan', 'Uganda', 'United Republic of Tanzania',\n",
    "       'Vietnam']\n",
    "vehicles = ['wheat flour','maize flour','oil']"
   ]
  },
  {
   "cell_type": "code",
   "execution_count": 8,
   "metadata": {},
   "outputs": [],
   "source": [
    "# these are the vehicles per country we need\n",
    "target = pd.DataFrame([(loc,v) for loc in location_names for v in country_vehicle_map[loc]],\n",
    "            columns=['location_name','vehicle']).sort_values(['location_name','vehicle']).set_index(['location_name','vehicle'])"
   ]
  },
  {
   "cell_type": "code",
   "execution_count": 9,
   "metadata": {},
   "outputs": [],
   "source": [
    "# estimate CIs, crude\n",
    "\n",
    "# clean value_mean\n",
    "gday.loc[gday.value_mean=='na','value_mean'] = np.nan\n",
    "gday.value_mean = gday.value_mean.astype(float)\n",
    "\n",
    "# clean 2.5th %ile\n",
    "gday.loc[gday.value_025_percentile=='na','value_025_percentile'] = np.nan\n",
    "gday.value_025_percentile = gday.value_025_percentile.astype(float)\n",
    "\n",
    "# clean 97.5th %ile\n",
    "gday.loc[gday.value_975_percentile=='na','value_975_percentile'] = np.nan\n",
    "gday.value_975_percentile = gday.value_975_percentile.astype(float)\n",
    "\n",
    "# calc scale_over_mean\n",
    "gday['scale_over_mean'] = (gday.value_975_percentile - gday.value_025_percentile) / gday.value_mean\n",
    "\n",
    "#foreach vehicle, average scale_over_mean\n",
    "r = gday[['vehicle','scale_over_mean']].groupby('vehicle').mean().dropna().rename(columns={'scale_over_mean':'r'})"
   ]
  },
  {
   "cell_type": "code",
   "execution_count": 10,
   "metadata": {},
   "outputs": [
    {
     "data": {
      "text/html": [
       "<div>\n",
       "<style scoped>\n",
       "    .dataframe tbody tr th:only-of-type {\n",
       "        vertical-align: middle;\n",
       "    }\n",
       "\n",
       "    .dataframe tbody tr th {\n",
       "        vertical-align: top;\n",
       "    }\n",
       "\n",
       "    .dataframe thead th {\n",
       "        text-align: right;\n",
       "    }\n",
       "</style>\n",
       "<table border=\"1\" class=\"dataframe\">\n",
       "  <thead>\n",
       "    <tr style=\"text-align: right;\">\n",
       "      <th></th>\n",
       "      <th>r</th>\n",
       "    </tr>\n",
       "    <tr>\n",
       "      <th>vehicle</th>\n",
       "      <th></th>\n",
       "    </tr>\n",
       "  </thead>\n",
       "  <tbody>\n",
       "    <tr>\n",
       "      <th>bouillon</th>\n",
       "      <td>0.902591</td>\n",
       "    </tr>\n",
       "    <tr>\n",
       "      <th>wheat flour</th>\n",
       "      <td>0.699893</td>\n",
       "    </tr>\n",
       "  </tbody>\n",
       "</table>\n",
       "</div>"
      ],
      "text/plain": [
       "                    r\n",
       "vehicle              \n",
       "bouillon     0.902591\n",
       "wheat flour  0.699893"
      ]
     },
     "execution_count": 10,
     "metadata": {},
     "output_type": "execute_result"
    }
   ],
   "source": [
    "# these are the vehicles for which we have a scale_over_mean estimate\n",
    "r"
   ]
  },
  {
   "cell_type": "code",
   "execution_count": 11,
   "metadata": {},
   "outputs": [
    {
     "data": {
      "text/html": [
       "<div>\n",
       "<style scoped>\n",
       "    .dataframe tbody tr th:only-of-type {\n",
       "        vertical-align: middle;\n",
       "    }\n",
       "\n",
       "    .dataframe tbody tr th {\n",
       "        vertical-align: top;\n",
       "    }\n",
       "\n",
       "    .dataframe thead th {\n",
       "        text-align: right;\n",
       "    }\n",
       "</style>\n",
       "<table border=\"1\" class=\"dataframe\">\n",
       "  <thead>\n",
       "    <tr style=\"text-align: right;\">\n",
       "      <th></th>\n",
       "      <th>vehicle</th>\n",
       "      <th>r</th>\n",
       "    </tr>\n",
       "  </thead>\n",
       "  <tbody>\n",
       "    <tr>\n",
       "      <th>0</th>\n",
       "      <td>bouillon</td>\n",
       "      <td>0.902591</td>\n",
       "    </tr>\n",
       "    <tr>\n",
       "      <th>1</th>\n",
       "      <td>wheat flour</td>\n",
       "      <td>0.699893</td>\n",
       "    </tr>\n",
       "    <tr>\n",
       "      <th>0</th>\n",
       "      <td>maize flour</td>\n",
       "      <td>0.819483</td>\n",
       "    </tr>\n",
       "    <tr>\n",
       "      <th>1</th>\n",
       "      <td>wheat(not specifically flour)</td>\n",
       "      <td>0.819483</td>\n",
       "    </tr>\n",
       "    <tr>\n",
       "      <th>2</th>\n",
       "      <td>salt</td>\n",
       "      <td>0.819483</td>\n",
       "    </tr>\n",
       "    <tr>\n",
       "      <th>3</th>\n",
       "      <td>rice</td>\n",
       "      <td>0.819483</td>\n",
       "    </tr>\n",
       "  </tbody>\n",
       "</table>\n",
       "</div>"
      ],
      "text/plain": [
       "                         vehicle         r\n",
       "0                       bouillon  0.902591\n",
       "1                    wheat flour  0.699893\n",
       "0                    maize flour  0.819483\n",
       "1  wheat(not specifically flour)  0.819483\n",
       "2                           salt  0.819483\n",
       "3                           rice  0.819483"
      ]
     },
     "execution_count": 11,
     "metadata": {},
     "output_type": "execute_result"
    }
   ],
   "source": [
    "# for vehicles without a scale_over_mean value, we'll assign the average of the others (row-wise)\n",
    "r = r.reset_index().append(pd.DataFrame([(i,gday.scale_over_mean.mean()) for i in ['maize flour', 'wheat(not specifically flour)','salt', 'rice']],\n",
    "            columns = ['vehicle','r']))\n",
    "r"
   ]
  },
  {
   "cell_type": "code",
   "execution_count": 12,
   "metadata": {},
   "outputs": [],
   "source": [
    "# add uncertainty\n",
    "gday = gday.merge(r, on = 'vehicle', how = 'outer')\n",
    "gday['lower'] = gday.value_mean - (gday.r * gday.value_mean)/2\n",
    "gday['upper'] = gday.value_mean + (gday.r * gday.value_mean)/2"
   ]
  },
  {
   "cell_type": "code",
   "execution_count": 13,
   "metadata": {},
   "outputs": [
    {
     "data": {
      "text/plain": [
       "array([nan, 'Mean daily consumption (mg)',\n",
       "       'Mean per capita consumption (g/day)',\n",
       "       'Median amount of vehicle consumed on previous day among consumers (g/day)',\n",
       "       'Mean amount of vehicle consumed on previous day among consumers (g/day)',\n",
       "       'Estimated daily contribution from fortified foods (mg/d)',\n",
       "       'kg/capita/year',\n",
       "       'Mean per capita consumption among consumers (g/day)',\n",
       "       'Consumption per person per day (g)',\n",
       "       'Median daily contribution from fortified foods among consumers (mg/day)'],\n",
       "      dtype=object)"
      ]
     },
     "execution_count": 13,
     "metadata": {},
     "output_type": "execute_result"
    }
   ],
   "source": [
    "gday.value_description.unique()"
   ]
  },
  {
   "cell_type": "code",
   "execution_count": 14,
   "metadata": {},
   "outputs": [],
   "source": [
    "## dicts for var cleaning\n",
    "\n",
    "value_d_to_metric = {\n",
    " 'Median amount of vehicle consumed on previous day among consumers (g/day)': 'median',\n",
    " 'Mean per capita consumption (g/day)': 'mean',\n",
    " 'Mean amount of vehicle consumed on previous day among consumers (g/day)': 'mean',\n",
    " 'Mean micronutrient intake per capita (mg/day)': 'mean',\n",
    " 'Daily per capita consumption (g)': 'CHECK',\n",
    " 'Daily consumption (mg/d)': 'CHECK',\n",
    " 'Consumption per person per day (g)': 'CHECK',\n",
    " 'Estimated daily contribution from fortified foods (mg/d)': 'CHECK',\n",
    " 'kg/capita/year': 'CHECK',\n",
    " 'Mean per capita consumption among consumers (g/day)':'mean'\n",
    "}\n",
    "\n",
    "value_d_to_entity = {\n",
    " 'Median amount of vehicle consumed on previous day among consumers (g/day)': 'vehicle',\n",
    " 'Mean per capita consumption (g/day)': 'CHECK',\n",
    " 'Mean amount of vehicle consumed on previous day among consumers (g/day)': 'vehicle',\n",
    " 'Mean micronutrient intake per capita (mg/day)': 'nutrient',\n",
    " 'Daily per capita consumption (g)': 'CHECK',\n",
    " 'Daily consumption (mg/d)': 'CHECK',\n",
    " 'Consumption per person per day (g)': 'CHECK',\n",
    " 'Estimated daily contribution from fortified foods (mg/d)': 'CHECK',\n",
    " 'kg/capita/year': 'CHECK',\n",
    " 'Mean per capita consumption among consumers (g/day)':'CHECK'\n",
    "}\n",
    "\n",
    "value_d_to_mass_unit = {\n",
    " 'Median amount of vehicle consumed on previous day among consumers (g/day)': 'g',\n",
    " 'Mean per capita consumption (g/day)': 'g',\n",
    " 'Mean amount of vehicle consumed on previous day among consumers (g/day)': 'g',\n",
    " 'Mean micronutrient intake per capita (mg/day)': 'mg',\n",
    " 'Daily per capita consumption (g)': 'g',\n",
    " 'Daily consumption (mg/d)': 'mg',\n",
    " 'Consumption per person per day (g)': 'g',\n",
    " 'Estimated daily contribution from fortified foods (mg/d)': 'mg',\n",
    " 'kg/capita/year': 'kg',\n",
    " 'Mean per capita consumption among consumers (g/day)':'g'\n",
    "}\n",
    "\n",
    "value_d_to_time_unit = {\n",
    " 'Median amount of vehicle consumed on previous day among consumers (g/day)': 'day',\n",
    " 'Mean per capita consumption (g/day)': 'day',\n",
    " 'Mean amount of vehicle consumed on previous day among consumers (g/day)': 'day',\n",
    " 'Mean micronutrient intake per capita (mg/day)': 'day',\n",
    " 'Daily per capita consumption (g)': 'day',\n",
    " 'Daily consumption (mg/d)': 'day',\n",
    " 'Consumption per person per day (g)': 'day',\n",
    " 'Estimated daily contribution from fortified foods (mg/d)': 'day',\n",
    " 'kg/capita/year': 'year',\n",
    " 'Mean per capita consumption among consumers (g/day)':'day'\n",
    "}\n",
    "\n",
    "value_d_to_population = {\n",
    " 'Median amount of vehicle consumed on previous day among consumers (g/day)': 'consumers',\n",
    " 'Mean per capita consumption (g/day)': 'capita',\n",
    " 'Mean amount of vehicle consumed on previous day among consumers (g/day)': 'consumers',\n",
    " 'Mean micronutrient intake per capita (mg/day)': 'capita',\n",
    " 'Daily per capita consumption (g)': 'capita',\n",
    " 'Daily consumption (mg/d)': 'CHECK',\n",
    " 'Consumption per person per day (g)': 'CHECK',\n",
    " 'Estimated daily contribution from fortified foods (mg/d)': 'CHECK',\n",
    " 'kg/capita/year': 'capita',\n",
    " 'Mean per capita consumption among consumers (g/day)':'consumers'\n",
    "}"
   ]
  },
  {
   "cell_type": "code",
   "execution_count": 15,
   "metadata": {},
   "outputs": [],
   "source": [
    "def format_value_d(df):\n",
    "    df['metric'] = df.value_description.map(value_d_to_metric)\n",
    "    df['entity'] = df.value_description.map(value_d_to_entity)\n",
    "    df['mass_unit'] = df.value_description.map(value_d_to_mass_unit)\n",
    "    df['time_unit'] = df.value_description.map(value_d_to_time_unit)\n",
    "    df['pop_denom'] = df.value_description.map(value_d_to_population)\n",
    "    \n",
    "    return df"
   ]
  },
  {
   "cell_type": "code",
   "execution_count": 16,
   "metadata": {},
   "outputs": [],
   "source": [
    "gday = format_value_d(gday)"
   ]
  },
  {
   "cell_type": "markdown",
   "metadata": {},
   "source": [
    "# Format output"
   ]
  },
  {
   "cell_type": "code",
   "execution_count": 17,
   "metadata": {},
   "outputs": [],
   "source": [
    "group_cols = ['location_id','location_name','sub_population','vehicle','metric','mass_unit','time_unit','pop_denom','source_citation','source_link','data_choice_notes']"
   ]
  },
  {
   "cell_type": "code",
   "execution_count": 18,
   "metadata": {},
   "outputs": [],
   "source": [
    "loc_metadata = get_locs(location_set_id=35, gbd_round_id=6, decomp_step=\"step4\")"
   ]
  },
  {
   "cell_type": "code",
   "execution_count": 19,
   "metadata": {},
   "outputs": [],
   "source": [
    "loc_metadata = loc_metadata.loc[(loc_metadata.location_name.isin(location_names + ['Viet Nam'])) & (loc_metadata.level==3),['location_id','location_name']]"
   ]
  },
  {
   "cell_type": "code",
   "execution_count": 20,
   "metadata": {},
   "outputs": [],
   "source": [
    "gday = gday.drop(columns='location_id')"
   ]
  },
  {
   "cell_type": "code",
   "execution_count": 21,
   "metadata": {},
   "outputs": [],
   "source": [
    "gday = loc_metadata.merge(gday, on = 'location_name', how = 'right')"
   ]
  },
  {
   "cell_type": "code",
   "execution_count": 22,
   "metadata": {},
   "outputs": [],
   "source": [
    "gday.location_id = gday.location_id.fillna(-1).astype(int)"
   ]
  },
  {
   "cell_type": "code",
   "execution_count": 23,
   "metadata": {},
   "outputs": [],
   "source": [
    "# dropping six rows\n",
    "gday = gday[(gday.location_id!=-1)]"
   ]
  },
  {
   "cell_type": "code",
   "execution_count": 24,
   "metadata": {},
   "outputs": [],
   "source": [
    "gday.loc[(gday.mass_unit==\"kg\"),'value_mean'] = gday.value_mean * 1_000\n",
    "\n",
    "gday.loc[(gday.mass_unit==\"kg\"),'lower'] = gday.lower * 1_000\n",
    "gday.loc[(gday.mass_unit==\"kg\"),'upper'] = gday.upper * 1_000\n",
    "\n",
    "gday.loc[(gday.mass_unit==\"kg\"),'value_025_percentile'] = gday.value_025_percentile * 1_000\n",
    "gday.loc[(gday.mass_unit==\"kg\"),'value_975_percentile'] = gday.value_975_percentile * 1_000\n",
    "\n",
    "gday.loc[(gday.mass_unit==\"kg\"),'mass_unit'] = 'g'"
   ]
  },
  {
   "cell_type": "code",
   "execution_count": 25,
   "metadata": {},
   "outputs": [],
   "source": [
    "gday.loc[(gday.time_unit==\"year\"),'value_mean'] = gday.value_mean / 365\n",
    "\n",
    "gday.loc[(gday.time_unit==\"year\"),'lower'] = gday.lower / 365\n",
    "gday.loc[(gday.time_unit==\"year\"),'upper'] = gday.upper / 365\n",
    "\n",
    "gday.loc[(gday.time_unit==\"year\"),'value_025_percentile'] = gday.value_025_percentile / 365\n",
    "gday.loc[(gday.time_unit==\"year\"),'value_975_percentile'] = gday.value_975_percentile / 365\n",
    "\n",
    "gday.loc[(gday.time_unit==\"year\"),'time_unit'] = 'day'"
   ]
  },
  {
   "cell_type": "code",
   "execution_count": 26,
   "metadata": {},
   "outputs": [],
   "source": [
    "assert(len(gday[gday.value_mean >= gday.value_975_percentile])==0), \"check upper\"\n",
    "assert(len(gday[gday.value_mean <= gday.value_025_percentile])==0), \"check lower\""
   ]
  },
  {
   "cell_type": "code",
   "execution_count": 27,
   "metadata": {},
   "outputs": [],
   "source": [
    "assert(len(gday[gday.value_mean >= gday.upper])==0), \"check upper\"\n",
    "assert(len(gday[gday.value_mean <= gday.lower])==0), \"check lower\""
   ]
  },
  {
   "cell_type": "code",
   "execution_count": 28,
   "metadata": {},
   "outputs": [],
   "source": [
    "gday.loc[gday.value_025_percentile.isna(),'value_025_percentile'] = gday.lower\n",
    "gday.loc[gday.value_975_percentile.isna(),'value_975_percentile'] = gday.upper"
   ]
  },
  {
   "cell_type": "code",
   "execution_count": 29,
   "metadata": {},
   "outputs": [],
   "source": [
    "assert(len(gday[(gday.value_025_percentile.isna()) | (gday.value_975_percentile.isna())])==0), \"missing CIs\""
   ]
  },
  {
   "cell_type": "code",
   "execution_count": 30,
   "metadata": {},
   "outputs": [],
   "source": [
    "gday = gday.drop(columns = ['lower','upper'])"
   ]
  },
  {
   "cell_type": "code",
   "execution_count": 31,
   "metadata": {},
   "outputs": [],
   "source": [
    "output = gday[['location_id', 'location_name', 'subnational_name',\n",
    "       'subnational_location_id', 'urbanicity','sub_population', 'vehicle', 'nutrient',\n",
    "       'value_description', 'metric', 'entity',\n",
    "       'mass_unit', 'time_unit', 'pop_denom','value_mean',\n",
    "       'value_025_percentile', 'value_975_percentile', 'source_citation',\n",
    "       'source_link', 'source_year', 'source_type', 'notes', 'user',\n",
    "       'date_recorded', 'definition validated', 'CI validated',\n",
    "       'Validation notes', ]]"
   ]
  },
  {
   "cell_type": "code",
   "execution_count": 32,
   "metadata": {},
   "outputs": [],
   "source": [
    "output = output.sort_values(['location_name','vehicle'])"
   ]
  },
  {
   "cell_type": "code",
   "execution_count": 33,
   "metadata": {},
   "outputs": [],
   "source": [
    "save_path = '/ihme/homes/beatrixh/vivarium_research_lsff/data_prep/outputs/gday_input_data_all_2021_04_02.csv'\n",
    "output.to_csv(save_path, index = False)"
   ]
  },
  {
   "cell_type": "code",
   "execution_count": 34,
   "metadata": {},
   "outputs": [],
   "source": [
    "save_path = '/ihme/homes/beatrixh/repos/scratch/gday_input_data_all_2021_04_02.csv'\n",
    "output.to_csv(save_path, index = False)"
   ]
  },
  {
   "cell_type": "code",
   "execution_count": null,
   "metadata": {},
   "outputs": [],
   "source": []
  }
 ],
 "metadata": {
  "kernelspec": {
   "display_name": "Python 3",
   "language": "python",
   "name": "python3"
  },
  "language_info": {
   "codemirror_mode": {
    "name": "ipython",
    "version": 3
   },
   "file_extension": ".py",
   "mimetype": "text/x-python",
   "name": "python",
   "nbconvert_exporter": "python",
   "pygments_lexer": "ipython3",
   "version": "3.7.0"
  }
 },
 "nbformat": 4,
 "nbformat_minor": 4
}
