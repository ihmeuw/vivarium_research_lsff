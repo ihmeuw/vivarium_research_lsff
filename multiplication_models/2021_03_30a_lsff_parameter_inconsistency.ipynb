{
 "cells": [
  {
   "cell_type": "code",
   "execution_count": 1,
   "metadata": {},
   "outputs": [
    {
     "name": "stdout",
     "output_type": "stream",
     "text": [
      "Tue Mar 30 06:38:47 PDT 2021\r\n"
     ]
    }
   ],
   "source": [
    "import numpy as np, matplotlib.pyplot as plt, pandas as pd\n",
    "pd.set_option('display.max_rows', 8)\n",
    "!date\n",
    "\n",
    "%load_ext autoreload\n",
    "%autoreload 2"
   ]
  },
  {
   "cell_type": "markdown",
   "metadata": {},
   "source": [
    "# Consistent LSFF baseline parameters\n",
    "\n",
    "When regression comes up with inconsistent values for baseline parameters, what do we do with them?  One idea is to make them consistent.  There is a Bayeian interpretation of this---we have estimated the parameters independently as priors, and now we are bringing them together with consistency logic to derive a posterior. Computationally, I will attempt this with \"Von Neumann rejection sampling\"."
   ]
  },
  {
   "cell_type": "code",
   "execution_count": 4,
   "metadata": {},
   "outputs": [],
   "source": [
    "a_mean = 22.5  # percent fortified\n",
    "b_mean = 5.6 # percent fortifiable\n",
    "\n",
    "# problem: means predicted by regression model are inconsistent"
   ]
  },
  {
   "cell_type": "code",
   "execution_count": 18,
   "metadata": {},
   "outputs": [],
   "source": [
    "# possible solution: use uncertainty--- we are very unsure about these means\n",
    "n_draws = 10_000\n",
    "def my_draws(rng, mu, precision):\n",
    "    a = mu/100\n",
    "    b = 1 - a\n",
    "    return 100*rng.beta(a*precision, b*precision, size=n_draws)\n",
    "\n",
    "rng = np.random.default_rng(12345)\n",
    "a_draws = my_draws(rng, a_mean, 10)\n",
    "b_draws = my_draws(rng, b_mean, 10)"
   ]
  },
  {
   "cell_type": "code",
   "execution_count": 19,
   "metadata": {},
   "outputs": [
    {
     "data": {
      "text/plain": [
       "mean     22.482671\n",
       "2.5%      3.707152\n",
       "97.5%    51.229623\n",
       "dtype: float64"
      ]
     },
     "execution_count": 19,
     "metadata": {},
     "output_type": "execute_result"
    }
   ],
   "source": [
    "def my_describe(x):\n",
    "    return pd.Series(x).describe(percentiles=[.025, .975]).loc[['mean', '2.5%', '97.5%']]\n",
    "my_describe(a_draws)"
   ]
  },
  {
   "cell_type": "code",
   "execution_count": 21,
   "metadata": {},
   "outputs": [
    {
     "data": {
      "image/png": "[encoded data removed]",
      "text/plain": [
       "<Figure size 432x288 with 1 Axes>"
      ]
     },
     "metadata": {
      "needs_background": "light"
     },
     "output_type": "display_data"
    }
   ],
   "source": [
    "def my_hist(x):\n",
    "    plt.hist(x, bins=np.linspace(0,100,25), alpha=.5)\n",
    "    plt.xlabel('Baseline Parameter Value (%)')\n",
    "    plt.ylabel('Number of Draws')\n",
    "my_hist(a_draws)\n",
    "my_hist(b_draws)"
   ]
  },
  {
   "cell_type": "code",
   "execution_count": 23,
   "metadata": {},
   "outputs": [],
   "source": [
    "def my_filter(a, b):\n",
    "    df = pd.DataFrame({'a':a, 'b':b})\n",
    "    consistent_rows = (df.a <= df.b)\n",
    "    return df.loc[consistent_rows]\n",
    "df_consistent = my_filter(a_draws, b_draws)"
   ]
  },
  {
   "cell_type": "code",
   "execution_count": 24,
   "metadata": {},
   "outputs": [
    {
     "data": {
      "image/png": "[encoded data removed]",
      "text/plain": [
       "<Figure size 432x288 with 1 Axes>"
      ]
     },
     "metadata": {
      "needs_background": "light"
     },
     "output_type": "display_data"
    }
   ],
   "source": [
    "my_hist(df_consistent.a)\n",
    "my_hist(df_consistent.b)"
   ]
  },
  {
   "cell_type": "code",
   "execution_count": 25,
   "metadata": {},
   "outputs": [
    {
     "data": {
      "text/plain": [
       "mean     10.591977\n",
       "2.5%      1.331095\n",
       "97.5%    28.119391\n",
       "Name: a, dtype: float64"
      ]
     },
     "execution_count": 25,
     "metadata": {},
     "output_type": "execute_result"
    }
   ],
   "source": [
    "my_describe(df_consistent.a)"
   ]
  },
  {
   "cell_type": "code",
   "execution_count": 26,
   "metadata": {},
   "outputs": [
    {
     "data": {
      "text/plain": [
       "mean     17.790220\n",
       "2.5%      3.660993\n",
       "97.5%    39.233075\n",
       "Name: b, dtype: float64"
      ]
     },
     "execution_count": 26,
     "metadata": {},
     "output_type": "execute_result"
    }
   ],
   "source": [
    "my_describe(df_consistent.b)"
   ]
  },
  {
   "cell_type": "markdown",
   "metadata": {},
   "source": [
    "We could try to get % consumed to be consistent, too, but it will require more rejections and is not required for our calculations (I think)"
   ]
  }
 ],
 "metadata": {
  "kernelspec": {
   "display_name": "Python 3",
   "language": "python",
   "name": "python3"
  },
  "language_info": {
   "codemirror_mode": {
    "name": "ipython",
    "version": 3
   },
   "file_extension": ".py",
   "mimetype": "text/x-python",
   "name": "python",
   "nbconvert_exporter": "python",
   "pygments_lexer": "ipython3",
   "version": "3.7.0"
  }
 },
 "nbformat": 4,
 "nbformat_minor": 2
}
