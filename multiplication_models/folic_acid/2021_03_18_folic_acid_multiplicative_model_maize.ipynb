{
 "cells": [
  {
   "cell_type": "code",
   "execution_count": 1,
   "metadata": {},
   "outputs": [],
   "source": [
    "import pandas as pd, numpy as np\n",
    "from db_queries import get_ids, get_outputs, get_location_metadata, get_population, get_covariate_estimates\n",
    "from get_draws.api import get_draws\n",
    "import scipy.stats \n",
    "import scipy.integrate as integrate\n",
    "import matplotlib.pyplot as plt"
   ]
  },
  {
   "cell_type": "code",
   "execution_count": 2,
   "metadata": {},
   "outputs": [],
   "source": [
    "import matplotlib.backends.backend_pdf"
   ]
  },
  {
   "cell_type": "code",
   "execution_count": 3,
   "metadata": {},
   "outputs": [
    {
     "name": "stdout",
     "output_type": "stream",
     "text": [
      "/ihme/homes/beatrixh/vivarium_research_lsff/multiplication_models\n"
     ]
    }
   ],
   "source": [
    "cd .."
   ]
  },
  {
   "cell_type": "code",
   "execution_count": 4,
   "metadata": {},
   "outputs": [],
   "source": [
    "from mult_model_fns import *\n",
    "from folic_acid.folic_acid_mult_model_fns import *"
   ]
  },
  {
   "cell_type": "code",
   "execution_count": 5,
   "metadata": {},
   "outputs": [],
   "source": [
    "input_data_path = '/ihme/homes/beatrixh/vivarium_research_lsff/data_prep/outputs/lsff_input_coverage_data.csv'"
   ]
  },
  {
   "cell_type": "code",
   "execution_count": 6,
   "metadata": {},
   "outputs": [],
   "source": [
    "## GLOBALS"
   ]
  },
  {
   "cell_type": "code",
   "execution_count": null,
   "metadata": {},
   "outputs": [],
   "source": []
  },
  {
   "cell_type": "code",
   "execution_count": 7,
   "metadata": {},
   "outputs": [],
   "source": [
    "ages = [1,2,3,4,5]\n",
    "sexes = [1,2]\n",
    "ages = [2,3,4,5]\n",
    "\n",
    "draws = [f'draw_{i}' for i in range(1_000)]\n",
    "index_cols=['location_id','sex_id','age_group_id']\n",
    "\n",
    "# define alternative scenario coverage levels (low, medium, high)\n",
    "    # this parameter represents the proportion of additional coverage achieved in the\n",
    "    # alternative scenario, defined as the difference between the proportion of the population\n",
    "    # that eats the fortified vehicle and the proportion of the population that eats \n",
    "    # the industrially produced vehicle\n",
    "alternative_scenario_coverage_levels = [0.2, 0.5, 0.8]"
   ]
  },
  {
   "cell_type": "code",
   "execution_count": 8,
   "metadata": {},
   "outputs": [],
   "source": [
    "rei_id = [] #folic acid doesn't effect any risks; just NTDs\n",
    "cause_ids = [642] # NTDs\n",
    "nonfatal_causes = [642] # YLLs and YLDs\n",
    "nutrient = 'folic acid'\n",
    "vehicle = 'maize flour' "
   ]
  },
  {
   "cell_type": "code",
   "execution_count": 9,
   "metadata": {},
   "outputs": [
    {
     "data": {
      "text/plain": [
       "[201, 202, 205, 171, 180, 184, 196, 190, 189]"
      ]
     },
     "execution_count": 9,
     "metadata": {},
     "output_type": "execute_result"
    }
   ],
   "source": [
    "location_ids = pd.read_csv(input_data_path)\n",
    "location_ids = location_ids[(location_ids.vehicle==vehicle)].location_id.unique().tolist()\n",
    "location_ids"
   ]
  },
  {
   "cell_type": "code",
   "execution_count": 10,
   "metadata": {},
   "outputs": [],
   "source": [
    "# define no fortification relative risk distribution\n",
    "# folic acid specific -- this should be replaced for other models\n",
    "\n",
    "from numpy import log\n",
    "from scipy.stats import norm, lognorm\n",
    "\n",
    "# median and 0.975-quantile of lognormal distribution for RR\n",
    "median = 1.71\n",
    "q_975 = 2.04\n",
    "\n",
    "# 0.975-quantile of standard normal distribution (=1.96, approximately)\n",
    "q_975_stdnorm = norm().ppf(0.975)\n",
    "\n",
    "mu = log(median) # mean of normal distribution for log(RR)\n",
    "sigma = (log(q_975) - mu) / q_975_stdnorm # std dev of normal distribution for log(RR)"
   ]
  },
  {
   "cell_type": "code",
   "execution_count": 11,
   "metadata": {},
   "outputs": [
    {
     "data": {
      "text/plain": [
       "location_id\n",
       "201    1.712028\n",
       "202    1.712028\n",
       "205    1.712028\n",
       "171    1.712028\n",
       "180    1.712028\n",
       "184    1.712028\n",
       "196    1.712028\n",
       "190    1.712028\n",
       "189    1.712028\n",
       "dtype: float64"
      ]
     },
     "execution_count": 11,
     "metadata": {},
     "output_type": "execute_result"
    }
   ],
   "source": [
    "# calculate relative risk for lack of fortification\n",
    "# https://vivarium-research.readthedocs.io/en/latest/concept_models/vivarium_conic_lsff/concept_model.html#effect-size-folic-acid\n",
    "rr_ntds_nofort = format_rrs(lognormal_draws(mu, sigma, seed = 7), location_ids)\n",
    "rr_ntds_nofort.mean(axis=1)"
   ]
  },
  {
   "cell_type": "code",
   "execution_count": 12,
   "metadata": {},
   "outputs": [],
   "source": [
    "data = pull_coverage_data(input_data_path, nutrient, vehicle, location_ids, 'wra')"
   ]
  },
  {
   "cell_type": "code",
   "execution_count": 13,
   "metadata": {},
   "outputs": [],
   "source": [
    "data = create_marginal_uncertainty(data)"
   ]
  },
  {
   "cell_type": "code",
   "execution_count": 14,
   "metadata": {},
   "outputs": [
    {
     "data": {
      "text/html": [
       "<div>\n",
       "<style scoped>\n",
       "    .dataframe tbody tr th:only-of-type {\n",
       "        vertical-align: middle;\n",
       "    }\n",
       "\n",
       "    .dataframe tbody tr th {\n",
       "        vertical-align: top;\n",
       "    }\n",
       "\n",
       "    .dataframe thead th {\n",
       "        text-align: right;\n",
       "    }\n",
       "</style>\n",
       "<table border=\"1\" class=\"dataframe\">\n",
       "  <thead>\n",
       "    <tr style=\"text-align: right;\">\n",
       "      <th></th>\n",
       "      <th>location_id</th>\n",
       "      <th>location_name</th>\n",
       "      <th>sub_population</th>\n",
       "      <th>vehicle</th>\n",
       "      <th>value_description</th>\n",
       "      <th>nutrient</th>\n",
       "      <th>value_mean</th>\n",
       "      <th>value_025_percentile</th>\n",
       "      <th>value_975_percentile</th>\n",
       "    </tr>\n",
       "  </thead>\n",
       "  <tbody>\n",
       "    <tr>\n",
       "      <th>10</th>\n",
       "      <td>201</td>\n",
       "      <td>Burkina Faso</td>\n",
       "      <td>NaN</td>\n",
       "      <td>maize flour</td>\n",
       "      <td>percent of population eating vehicle</td>\n",
       "      <td>na</td>\n",
       "      <td>26.610000</td>\n",
       "      <td>12.497238</td>\n",
       "      <td>40.722762</td>\n",
       "    </tr>\n",
       "    <tr>\n",
       "      <th>11</th>\n",
       "      <td>201</td>\n",
       "      <td>Burkina Faso</td>\n",
       "      <td>NaN</td>\n",
       "      <td>maize flour</td>\n",
       "      <td>percent of population eating industrially prod...</td>\n",
       "      <td>na</td>\n",
       "      <td>0.000020</td>\n",
       "      <td>0.000010</td>\n",
       "      <td>0.000030</td>\n",
       "    </tr>\n",
       "    <tr>\n",
       "      <th>12</th>\n",
       "      <td>201</td>\n",
       "      <td>Burkina Faso</td>\n",
       "      <td>NaN</td>\n",
       "      <td>maize flour</td>\n",
       "      <td>percent of population eating fortified vehicle</td>\n",
       "      <td>folic acid</td>\n",
       "      <td>0.000020</td>\n",
       "      <td>0.000010</td>\n",
       "      <td>0.000030</td>\n",
       "    </tr>\n",
       "    <tr>\n",
       "      <th>26</th>\n",
       "      <td>202</td>\n",
       "      <td>Cameroon</td>\n",
       "      <td>NaN</td>\n",
       "      <td>maize flour</td>\n",
       "      <td>percent of population eating vehicle</td>\n",
       "      <td>na</td>\n",
       "      <td>47.299581</td>\n",
       "      <td>25.263375</td>\n",
       "      <td>69.335787</td>\n",
       "    </tr>\n",
       "    <tr>\n",
       "      <th>27</th>\n",
       "      <td>202</td>\n",
       "      <td>Cameroon</td>\n",
       "      <td>NaN</td>\n",
       "      <td>maize flour</td>\n",
       "      <td>percent of population eating industrially prod...</td>\n",
       "      <td>na</td>\n",
       "      <td>9.278995</td>\n",
       "      <td>4.956042</td>\n",
       "      <td>13.601947</td>\n",
       "    </tr>\n",
       "  </tbody>\n",
       "</table>\n",
       "</div>"
      ],
      "text/plain": [
       "    location_id location_name sub_population      vehicle  \\\n",
       "10          201  Burkina Faso            NaN  maize flour   \n",
       "11          201  Burkina Faso            NaN  maize flour   \n",
       "12          201  Burkina Faso            NaN  maize flour   \n",
       "26          202      Cameroon            NaN  maize flour   \n",
       "27          202      Cameroon            NaN  maize flour   \n",
       "\n",
       "                                    value_description    nutrient  value_mean  \\\n",
       "10               percent of population eating vehicle          na   26.610000   \n",
       "11  percent of population eating industrially prod...          na    0.000020   \n",
       "12     percent of population eating fortified vehicle  folic acid    0.000020   \n",
       "26               percent of population eating vehicle          na   47.299581   \n",
       "27  percent of population eating industrially prod...          na    9.278995   \n",
       "\n",
       "    value_025_percentile  value_975_percentile  \n",
       "10             12.497238             40.722762  \n",
       "11              0.000010              0.000030  \n",
       "12              0.000010              0.000030  \n",
       "26             25.263375             69.335787  \n",
       "27              4.956042             13.601947  "
      ]
     },
     "execution_count": 14,
     "metadata": {},
     "output_type": "execute_result"
    }
   ],
   "source": [
    "data.head()"
   ]
  },
  {
   "cell_type": "code",
   "execution_count": 15,
   "metadata": {},
   "outputs": [],
   "source": [
    "alpha, alpha_star = generate_coverage_tables(data, alternative_scenario_coverage_levels, seed = 11)"
   ]
  },
  {
   "cell_type": "code",
   "execution_count": 16,
   "metadata": {
    "scrolled": true
   },
   "outputs": [],
   "source": [
    "gets_intervn = prop_gets_intervention_effect(location_ids, year_start=2022, estimation_years = range(2022,2026))"
   ]
  },
  {
   "cell_type": "code",
   "execution_count": 17,
   "metadata": {},
   "outputs": [],
   "source": [
    "new_coverage = percolate_new_coverage(gets_intervn, alpha, alpha_star)"
   ]
  },
  {
   "cell_type": "code",
   "execution_count": 18,
   "metadata": {},
   "outputs": [],
   "source": [
    "paf_ntds_nofort = paf_o_r(rr_ntds_nofort, alpha)"
   ]
  },
  {
   "cell_type": "code",
   "execution_count": 19,
   "metadata": {},
   "outputs": [
    {
     "data": {
      "text/plain": [
       "location_id\n",
       "201    0.411496\n",
       "202    0.396286\n",
       "205    0.350503\n",
       "171    0.411496\n",
       "180    0.411496\n",
       "184    0.368265\n",
       "196    0.227417\n",
       "190    0.395693\n",
       "189    0.405472\n",
       "dtype: float64"
      ]
     },
     "execution_count": 19,
     "metadata": {},
     "output_type": "execute_result"
    }
   ],
   "source": [
    "paf_ntds_nofort.mean(axis=1)"
   ]
  },
  {
   "cell_type": "code",
   "execution_count": 20,
   "metadata": {},
   "outputs": [],
   "source": [
    "pif_ntds_nofort = pif_o_r(paf_ntds_nofort, alpha = alpha, alpha_star = new_coverage)"
   ]
  },
  {
   "cell_type": "code",
   "execution_count": 21,
   "metadata": {},
   "outputs": [
    {
     "data": {
      "text/html": [
       "<div>\n",
       "<style scoped>\n",
       "    .dataframe tbody tr th:only-of-type {\n",
       "        vertical-align: middle;\n",
       "    }\n",
       "\n",
       "    .dataframe tbody tr th {\n",
       "        vertical-align: top;\n",
       "    }\n",
       "\n",
       "    .dataframe thead th {\n",
       "        text-align: right;\n",
       "    }\n",
       "</style>\n",
       "<table border=\"1\" class=\"dataframe\">\n",
       "  <thead>\n",
       "    <tr style=\"text-align: right;\">\n",
       "      <th></th>\n",
       "      <th></th>\n",
       "      <th></th>\n",
       "      <th></th>\n",
       "      <th></th>\n",
       "      <th>draw_0</th>\n",
       "      <th>draw_1</th>\n",
       "      <th>draw_2</th>\n",
       "      <th>draw_3</th>\n",
       "      <th>draw_4</th>\n",
       "      <th>draw_5</th>\n",
       "      <th>draw_6</th>\n",
       "      <th>draw_7</th>\n",
       "      <th>draw_8</th>\n",
       "      <th>draw_9</th>\n",
       "      <th>...</th>\n",
       "      <th>draw_990</th>\n",
       "      <th>draw_991</th>\n",
       "      <th>draw_992</th>\n",
       "      <th>draw_993</th>\n",
       "      <th>draw_994</th>\n",
       "      <th>draw_995</th>\n",
       "      <th>draw_996</th>\n",
       "      <th>draw_997</th>\n",
       "      <th>draw_998</th>\n",
       "      <th>draw_999</th>\n",
       "    </tr>\n",
       "    <tr>\n",
       "      <th>location_id</th>\n",
       "      <th>year_id</th>\n",
       "      <th>age_group_id</th>\n",
       "      <th>sex_id</th>\n",
       "      <th>coverage_level</th>\n",
       "      <th></th>\n",
       "      <th></th>\n",
       "      <th></th>\n",
       "      <th></th>\n",
       "      <th></th>\n",
       "      <th></th>\n",
       "      <th></th>\n",
       "      <th></th>\n",
       "      <th></th>\n",
       "      <th></th>\n",
       "      <th></th>\n",
       "      <th></th>\n",
       "      <th></th>\n",
       "      <th></th>\n",
       "      <th></th>\n",
       "      <th></th>\n",
       "      <th></th>\n",
       "      <th></th>\n",
       "      <th></th>\n",
       "      <th></th>\n",
       "      <th></th>\n",
       "    </tr>\n",
       "  </thead>\n",
       "  <tbody>\n",
       "    <tr>\n",
       "      <th rowspan=\"5\" valign=\"top\">171</th>\n",
       "      <th rowspan=\"5\" valign=\"top\">2022</th>\n",
       "      <th rowspan=\"5\" valign=\"top\">2</th>\n",
       "      <th rowspan=\"3\" valign=\"top\">1</th>\n",
       "      <th>0.2</th>\n",
       "      <td>0.0</td>\n",
       "      <td>0.0</td>\n",
       "      <td>0.0</td>\n",
       "      <td>0.0</td>\n",
       "      <td>0.0</td>\n",
       "      <td>0.0</td>\n",
       "      <td>0.0</td>\n",
       "      <td>0.0</td>\n",
       "      <td>0.0</td>\n",
       "      <td>0.0</td>\n",
       "      <td>...</td>\n",
       "      <td>0.0</td>\n",
       "      <td>0.0</td>\n",
       "      <td>0.0</td>\n",
       "      <td>0.0</td>\n",
       "      <td>0.0</td>\n",
       "      <td>0.0</td>\n",
       "      <td>0.0</td>\n",
       "      <td>0.0</td>\n",
       "      <td>0.0</td>\n",
       "      <td>0.0</td>\n",
       "    </tr>\n",
       "    <tr>\n",
       "      <th>0.5</th>\n",
       "      <td>0.0</td>\n",
       "      <td>0.0</td>\n",
       "      <td>0.0</td>\n",
       "      <td>0.0</td>\n",
       "      <td>0.0</td>\n",
       "      <td>0.0</td>\n",
       "      <td>0.0</td>\n",
       "      <td>0.0</td>\n",
       "      <td>0.0</td>\n",
       "      <td>0.0</td>\n",
       "      <td>...</td>\n",
       "      <td>0.0</td>\n",
       "      <td>0.0</td>\n",
       "      <td>0.0</td>\n",
       "      <td>0.0</td>\n",
       "      <td>0.0</td>\n",
       "      <td>0.0</td>\n",
       "      <td>0.0</td>\n",
       "      <td>0.0</td>\n",
       "      <td>0.0</td>\n",
       "      <td>0.0</td>\n",
       "    </tr>\n",
       "    <tr>\n",
       "      <th>0.8</th>\n",
       "      <td>0.0</td>\n",
       "      <td>0.0</td>\n",
       "      <td>0.0</td>\n",
       "      <td>0.0</td>\n",
       "      <td>0.0</td>\n",
       "      <td>0.0</td>\n",
       "      <td>0.0</td>\n",
       "      <td>0.0</td>\n",
       "      <td>0.0</td>\n",
       "      <td>0.0</td>\n",
       "      <td>...</td>\n",
       "      <td>0.0</td>\n",
       "      <td>0.0</td>\n",
       "      <td>0.0</td>\n",
       "      <td>0.0</td>\n",
       "      <td>0.0</td>\n",
       "      <td>0.0</td>\n",
       "      <td>0.0</td>\n",
       "      <td>0.0</td>\n",
       "      <td>0.0</td>\n",
       "      <td>0.0</td>\n",
       "    </tr>\n",
       "    <tr>\n",
       "      <th rowspan=\"2\" valign=\"top\">2</th>\n",
       "      <th>0.2</th>\n",
       "      <td>0.0</td>\n",
       "      <td>0.0</td>\n",
       "      <td>0.0</td>\n",
       "      <td>0.0</td>\n",
       "      <td>0.0</td>\n",
       "      <td>0.0</td>\n",
       "      <td>0.0</td>\n",
       "      <td>0.0</td>\n",
       "      <td>0.0</td>\n",
       "      <td>0.0</td>\n",
       "      <td>...</td>\n",
       "      <td>0.0</td>\n",
       "      <td>0.0</td>\n",
       "      <td>0.0</td>\n",
       "      <td>0.0</td>\n",
       "      <td>0.0</td>\n",
       "      <td>0.0</td>\n",
       "      <td>0.0</td>\n",
       "      <td>0.0</td>\n",
       "      <td>0.0</td>\n",
       "      <td>0.0</td>\n",
       "    </tr>\n",
       "    <tr>\n",
       "      <th>0.5</th>\n",
       "      <td>0.0</td>\n",
       "      <td>0.0</td>\n",
       "      <td>0.0</td>\n",
       "      <td>0.0</td>\n",
       "      <td>0.0</td>\n",
       "      <td>0.0</td>\n",
       "      <td>0.0</td>\n",
       "      <td>0.0</td>\n",
       "      <td>0.0</td>\n",
       "      <td>0.0</td>\n",
       "      <td>...</td>\n",
       "      <td>0.0</td>\n",
       "      <td>0.0</td>\n",
       "      <td>0.0</td>\n",
       "      <td>0.0</td>\n",
       "      <td>0.0</td>\n",
       "      <td>0.0</td>\n",
       "      <td>0.0</td>\n",
       "      <td>0.0</td>\n",
       "      <td>0.0</td>\n",
       "      <td>0.0</td>\n",
       "    </tr>\n",
       "  </tbody>\n",
       "</table>\n",
       "<p>5 rows × 1000 columns</p>\n",
       "</div>"
      ],
      "text/plain": [
       "                                                        draw_0  draw_1  \\\n",
       "location_id year_id age_group_id sex_id coverage_level                   \n",
       "171         2022    2            1      0.2                0.0     0.0   \n",
       "                                        0.5                0.0     0.0   \n",
       "                                        0.8                0.0     0.0   \n",
       "                                 2      0.2                0.0     0.0   \n",
       "                                        0.5                0.0     0.0   \n",
       "\n",
       "                                                        draw_2  draw_3  \\\n",
       "location_id year_id age_group_id sex_id coverage_level                   \n",
       "171         2022    2            1      0.2                0.0     0.0   \n",
       "                                        0.5                0.0     0.0   \n",
       "                                        0.8                0.0     0.0   \n",
       "                                 2      0.2                0.0     0.0   \n",
       "                                        0.5                0.0     0.0   \n",
       "\n",
       "                                                        draw_4  draw_5  \\\n",
       "location_id year_id age_group_id sex_id coverage_level                   \n",
       "171         2022    2            1      0.2                0.0     0.0   \n",
       "                                        0.5                0.0     0.0   \n",
       "                                        0.8                0.0     0.0   \n",
       "                                 2      0.2                0.0     0.0   \n",
       "                                        0.5                0.0     0.0   \n",
       "\n",
       "                                                        draw_6  draw_7  \\\n",
       "location_id year_id age_group_id sex_id coverage_level                   \n",
       "171         2022    2            1      0.2                0.0     0.0   \n",
       "                                        0.5                0.0     0.0   \n",
       "                                        0.8                0.0     0.0   \n",
       "                                 2      0.2                0.0     0.0   \n",
       "                                        0.5                0.0     0.0   \n",
       "\n",
       "                                                        draw_8  draw_9  ...  \\\n",
       "location_id year_id age_group_id sex_id coverage_level                  ...   \n",
       "171         2022    2            1      0.2                0.0     0.0  ...   \n",
       "                                        0.5                0.0     0.0  ...   \n",
       "                                        0.8                0.0     0.0  ...   \n",
       "                                 2      0.2                0.0     0.0  ...   \n",
       "                                        0.5                0.0     0.0  ...   \n",
       "\n",
       "                                                        draw_990  draw_991  \\\n",
       "location_id year_id age_group_id sex_id coverage_level                       \n",
       "171         2022    2            1      0.2                  0.0       0.0   \n",
       "                                        0.5                  0.0       0.0   \n",
       "                                        0.8                  0.0       0.0   \n",
       "                                 2      0.2                  0.0       0.0   \n",
       "                                        0.5                  0.0       0.0   \n",
       "\n",
       "                                                        draw_992  draw_993  \\\n",
       "location_id year_id age_group_id sex_id coverage_level                       \n",
       "171         2022    2            1      0.2                  0.0       0.0   \n",
       "                                        0.5                  0.0       0.0   \n",
       "                                        0.8                  0.0       0.0   \n",
       "                                 2      0.2                  0.0       0.0   \n",
       "                                        0.5                  0.0       0.0   \n",
       "\n",
       "                                                        draw_994  draw_995  \\\n",
       "location_id year_id age_group_id sex_id coverage_level                       \n",
       "171         2022    2            1      0.2                  0.0       0.0   \n",
       "                                        0.5                  0.0       0.0   \n",
       "                                        0.8                  0.0       0.0   \n",
       "                                 2      0.2                  0.0       0.0   \n",
       "                                        0.5                  0.0       0.0   \n",
       "\n",
       "                                                        draw_996  draw_997  \\\n",
       "location_id year_id age_group_id sex_id coverage_level                       \n",
       "171         2022    2            1      0.2                  0.0       0.0   \n",
       "                                        0.5                  0.0       0.0   \n",
       "                                        0.8                  0.0       0.0   \n",
       "                                 2      0.2                  0.0       0.0   \n",
       "                                        0.5                  0.0       0.0   \n",
       "\n",
       "                                                        draw_998  draw_999  \n",
       "location_id year_id age_group_id sex_id coverage_level                      \n",
       "171         2022    2            1      0.2                  0.0       0.0  \n",
       "                                        0.5                  0.0       0.0  \n",
       "                                        0.8                  0.0       0.0  \n",
       "                                 2      0.2                  0.0       0.0  \n",
       "                                        0.5                  0.0       0.0  \n",
       "\n",
       "[5 rows x 1000 columns]"
      ]
     },
     "execution_count": 21,
     "metadata": {},
     "output_type": "execute_result"
    }
   ],
   "source": [
    "pif_ntds_nofort.head()"
   ]
  },
  {
   "cell_type": "code",
   "execution_count": null,
   "metadata": {},
   "outputs": [],
   "source": [
    "dalys = pull_dalys(cause_ids, cause_ids, location_ids, ages, sexes, index_cols)"
   ]
  },
  {
   "cell_type": "code",
   "execution_count": null,
   "metadata": {},
   "outputs": [],
   "source": [
    "dalys_averted = calc_dalys_averted(dalys, pif_ntds_nofort)"
   ]
  },
  {
   "cell_type": "code",
   "execution_count": null,
   "metadata": {},
   "outputs": [],
   "source": [
    "dalys_averted_u5 = dalys_averted.reset_index().groupby(['location_id','year_id','coverage_level']).sum()[draws]"
   ]
  },
  {
   "cell_type": "code",
   "execution_count": null,
   "metadata": {
    "scrolled": true
   },
   "outputs": [],
   "source": [
    "dalys_averted_u5.head()"
   ]
  },
  {
   "cell_type": "code",
   "execution_count": null,
   "metadata": {},
   "outputs": [],
   "source": [
    "dalys_averted_path = '/ihme/homes/beatrixh/vivarium_research_lsff/multiplication_models/folic_acid/tier1_2_3_4_maize_flour_dalys_averted_folic_acid_03_29_2021.csv.csv'\n",
    "dalys_averted_u5.to_csv(dalys_averted_path)"
   ]
  },
  {
   "cell_type": "code",
   "execution_count": null,
   "metadata": {},
   "outputs": [],
   "source": [
    "# collapse to summary stats\n",
    "dalys_averted_u5['mean_value'] = dalys_averted_u5[[f'draw_{i}' for i in range(1_000)]].mean(axis=1)\n",
    "dalys_averted_u5['p025'] = dalys_averted_u5[[f'draw_{i}' for i in range(1_000)]].quantile(.025, axis=1)\n",
    "dalys_averted_u5['p975'] = dalys_averted_u5[[f'draw_{i}' for i in range(1_000)]].quantile(.975, axis=1)\n",
    "\n",
    "dalys_averted_u5 = dalys_averted_u5[['mean_value','p025','p975']]\n",
    "\n",
    "dalys_averted_u5 = dalys_averted_u5.reset_index()"
   ]
  },
  {
   "cell_type": "code",
   "execution_count": null,
   "metadata": {},
   "outputs": [],
   "source": [
    "## add rates\n",
    "u5_pop = get_population(\n",
    "    location_id=location_ids,\n",
    "    year_id=2019,\n",
    "    age_group_id=1,\n",
    "    sex_id=3,\n",
    "    gbd_round_id=6,\n",
    "    decomp_step='step4'\n",
    ")\n",
    "\n",
    "dalys_averted_u5 = dalys_averted_u5.merge(u5_pop[['location_id','population']], on = 'location_id', how = 'left')\n",
    "\n",
    "dalys_averted_u5['mean_dalys_per_100_000py'] = dalys_averted_u5.mean_value / dalys_averted_u5.population * 100_000\n",
    "dalys_averted_u5['p025_dalys_per_100_000py'] = dalys_averted_u5.p025 / dalys_averted_u5.population * 100_000\n",
    "dalys_averted_u5['p975_dalys_per_100_000py'] = dalys_averted_u5.p975 / dalys_averted_u5.population * 100_000"
   ]
  },
  {
   "cell_type": "code",
   "execution_count": null,
   "metadata": {},
   "outputs": [],
   "source": [
    "dalys_averted_u5.head()"
   ]
  },
  {
   "cell_type": "code",
   "execution_count": null,
   "metadata": {},
   "outputs": [],
   "source": []
  },
  {
   "cell_type": "markdown",
   "metadata": {},
   "source": [
    "# viz results"
   ]
  },
  {
   "cell_type": "code",
   "execution_count": null,
   "metadata": {},
   "outputs": [],
   "source": [
    "# coverage_level_dict = {0.2:'low',0.5:'medium',0.8:'high'}\n",
    "# dalys_averted_u5.coverage_level = dalys_averted_u5.coverage_level.map(coverage_level_dict)"
   ]
  },
  {
   "cell_type": "code",
   "execution_count": null,
   "metadata": {},
   "outputs": [],
   "source": [
    "{i:j for (i,j) in zip(data.location_id,data.location_name)}"
   ]
  },
  {
   "cell_type": "code",
   "execution_count": null,
   "metadata": {},
   "outputs": [],
   "source": [
    "def plot_dalys_averted_by_country(save_path):\n",
    "    pdf = matplotlib.backends.backend_pdf.PdfPages(save_path)\n",
    "    location_names = {i:j for (i,j) in zip(data.location_id,data.location_name)} #TODO: fix/requires global 'data'\n",
    "    colors = {0.8: 'tab:green', 0.5:'yellow', 0.2: 'red'}\n",
    "    \n",
    "    for loc in location_ids: #TODO: fix/requires global 'location_ids'\n",
    "        fig, ax = plt.subplots(figsize=(7.5, 5))\n",
    "        for level in alternative_scenario_coverage_levels:\n",
    "            \n",
    "            plt.scatter(dalys_averted_u5[(dalys_averted_u5.location_id==loc) & (dalys_averted_u5.coverage_level==level)].year_id, \n",
    "                       dalys_averted_u5[(dalys_averted_u5.location_id==loc) & (dalys_averted_u5.coverage_level==level)].mean_value, color = colors[level])\n",
    "            plt.plot(dalys_averted_u5[(dalys_averted_u5.location_id==loc) & (dalys_averted_u5.coverage_level==level)].year_id, \n",
    "                       dalys_averted_u5[(dalys_averted_u5.location_id==loc) & (dalys_averted_u5.coverage_level==level)].mean_value,  color = colors[level], label = f'{int(level*100)}% of total potential scaleup')\n",
    "            plt.fill_between(dalys_averted_u5[(dalys_averted_u5.location_id==loc) & (dalys_averted_u5.coverage_level==level)].year_id, \n",
    "                             dalys_averted_u5[(dalys_averted_u5.location_id==loc) & (dalys_averted_u5.coverage_level==level)].p975,\n",
    "                             dalys_averted_u5[(dalys_averted_u5.location_id==loc) & (dalys_averted_u5.coverage_level==level)].p025, alpha=0.3, color = colors[level])\n",
    "            plt.ylabel('DALYs averted')\n",
    "            plt.xlabel('Year')\n",
    "            plt.title(f'Folic Acid fortification of {vehicle}: {location_names[loc]}')\n",
    "            plt.legend()\n",
    "            plt.xticks([2021,2022,2023,2024,2025], [2021,2022,2023,2024,2025])\n",
    "        pdf.savefig(fig)\n",
    "    \n",
    "    plt.show()\n",
    "    pdf.close()\n",
    "\n",
    "save_path = '/ihme/homes/beatrixh/repos/scratch/test.pdf'    \n",
    "plot_dalys_averted_by_country(save_path)\n"
   ]
  },
  {
   "cell_type": "code",
   "execution_count": null,
   "metadata": {
    "scrolled": false
   },
   "outputs": [],
   "source": [
    "def plot_dalys_averted_per_100_000py_by_country(save_path):\n",
    "    pdf = matplotlib.backends.backend_pdf.PdfPages(save_path)\n",
    "    location_names = {i:j for (i,j) in zip(data.location_id,data.location_name)} #TODO: fix/requires global 'data'\n",
    "    colors = {0.8: 'tab:green', 0.5:'yellow', 0.2: 'red'}    \n",
    "    for loc in location_ids:\n",
    "        fig, ax = plt.subplots(figsize=(7.5, 5))\n",
    "        for level in alternative_scenario_coverage_levels:\n",
    "            \n",
    "            plt.scatter(dalys_averted_u5[(dalys_averted_u5.location_id==loc) & (dalys_averted_u5.coverage_level==level)].year_id, \n",
    "                       dalys_averted_u5[(dalys_averted_u5.location_id==loc) & (dalys_averted_u5.coverage_level==level)].mean_dalys_per_100_000py, color = colors[level])\n",
    "            plt.plot(dalys_averted_u5[(dalys_averted_u5.location_id==loc) & (dalys_averted_u5.coverage_level==level)].year_id, \n",
    "                       dalys_averted_u5[(dalys_averted_u5.location_id==loc) & (dalys_averted_u5.coverage_level==level)].mean_dalys_per_100_000py,  color = colors[level], label = f'{int(level*100)}% of total potential scaleup')\n",
    "            plt.fill_between(dalys_averted_u5[(dalys_averted_u5.location_id==loc) & (dalys_averted_u5.coverage_level==level)].year_id, \n",
    "                             dalys_averted_u5[(dalys_averted_u5.location_id==loc) & (dalys_averted_u5.coverage_level==level)].p975_dalys_per_100_000py,\n",
    "                             dalys_averted_u5[(dalys_averted_u5.location_id==loc) & (dalys_averted_u5.coverage_level==level)].p025_dalys_per_100_000py, alpha=0.3, color = colors[level])\n",
    "            plt.ylabel('DALYs averted per 100,000 person-years')\n",
    "            plt.xlabel('Year')\n",
    "            plt.title(f'Folic Acid fortification of {vehicle}: {location_names[loc]}')\n",
    "            plt.legend()\n",
    "            plt.xticks([2021,2022,2023,2024,2025], [2021,2022,2023,2024,2025])\n",
    "        pdf.savefig(fig)\n",
    "    \n",
    "    plt.show()\n",
    "    pdf.close()\n",
    "\n",
    "save_path = '/ihme/homes/beatrixh/repos/scratch/test.pdf'    \n",
    "plot_dalys_averted_per_100_000py_by_country(save_path)\n"
   ]
  },
  {
   "cell_type": "code",
   "execution_count": null,
   "metadata": {},
   "outputs": [],
   "source": [
    "# def plot_dalys_averted(save_path):\n",
    "#     pdf = matplotlib.backends.backend_pdf.PdfPages(save_path)\n",
    "#     location_names = {i:j for (i,j) in zip(data.location_id,data.location_name)} #TODO: fix/requires global 'data'\n",
    "#     colors = ['tab:blue', 'tab:orange', 'tab:green', 'yellow', 'purple','firebrick',\n",
    "#               'hotpink','steelblue','cyan','lightsalmon','greenyellow','crimson','turquoise']\n",
    "\n",
    "#     for level in alternative_scenario_coverage_levels:\n",
    "#         fig, ax = plt.subplots(figsize=(7.5, 5))\n",
    "#         for i in range(len(location_ids)):\n",
    "#             loc = location_ids[i]\n",
    "            \n",
    "#             plt.scatter(dalys_averted_u5[(dalys_averted_u5.location_id==loc) & (dalys_averted_u5.coverage_level==level)].year_id, \n",
    "#                        dalys_averted_u5[(dalys_averted_u5.location_id==loc) & (dalys_averted_u5.coverage_level==level)].mean_value, color = colors[i])\n",
    "#             plt.plot(dalys_averted_u5[(dalys_averted_u5.location_id==loc) & (dalys_averted_u5.coverage_level==level)].year_id, \n",
    "#                        dalys_averted_u5[(dalys_averted_u5.location_id==loc) & (dalys_averted_u5.coverage_level==level)].mean_value,  color = colors[i], label = location_names[loc])\n",
    "#             plt.fill_between(dalys_averted_u5[(dalys_averted_u5.location_id==loc) & (dalys_averted_u5.coverage_level==level)].year_id, \n",
    "#                              dalys_averted_u5[(dalys_averted_u5.location_id==loc) & (dalys_averted_u5.coverage_level==level)].p975,\n",
    "#                              dalys_averted_u5[(dalys_averted_u5.location_id==loc) & (dalys_averted_u5.coverage_level==level)].p025, alpha=0.3, color = colors[i])\n",
    "#             plt.ylabel('DALYs averted')\n",
    "#             plt.xlabel('Year')\n",
    "#             plt.title(f'Folic Acid fortification: {int(level*100)}% coverage')\n",
    "#             plt.legend()\n",
    "#             plt.xticks([2021,2022,2023,2024,2025], [2021,2022,2023,2024,2025])\n",
    "#         pdf.savefig(fig)\n",
    "    \n",
    "#     plt.show()\n",
    "#     pdf.close()\n",
    "\n",
    "# save_path = '/ihme/homes/beatrixh/repos/scratch/fa_dalys_averted_absolute.pdf'    \n",
    "# plot_dalys_averted(save_path)\n"
   ]
  },
  {
   "cell_type": "code",
   "execution_count": null,
   "metadata": {
    "scrolled": false
   },
   "outputs": [],
   "source": [
    "# def plot_dalys_averted_rate(save_path):\n",
    "#     pdf = matplotlib.backends.backend_pdf.PdfPages(save_path)\n",
    "#     location_names = {i:j for (i,j) in zip(data.location_id,data.location_name)} #TODO: fix/requires global 'data'\n",
    "#     colors = ['tab:blue', 'tab:orange', 'tab:green', 'yellow', 'purple','firebrick',\n",
    "#               'hotpink','steelblue','cyan','lightsalmon','greenyellow','crimson','turquoise']\n",
    "\n",
    "#     for level in alternative_scenario_coverage_levels:\n",
    "#         fig, ax = plt.subplots(figsize=(7.5, 5))\n",
    "#         for i in range(len(location_ids)):\n",
    "#             loc = location_ids[i]\n",
    "\n",
    "#             plt.scatter(dalys_averted_u5[(dalys_averted_u5.location_id==loc) & (dalys_averted_u5.coverage_level==level)].year_id, \n",
    "#                        dalys_averted_u5[(dalys_averted_u5.location_id==loc) & (dalys_averted_u5.coverage_level==level)].mean_dalys_per_100_000py, color = colors[i])\n",
    "#             plt.plot(dalys_averted_u5[(dalys_averted_u5.location_id==loc) & (dalys_averted_u5.coverage_level==level)].year_id, \n",
    "#                        dalys_averted_u5[(dalys_averted_u5.location_id==loc) & (dalys_averted_u5.coverage_level==level)].mean_dalys_per_100_000py,  color = colors[i], label = location_names[loc])\n",
    "#             plt.fill_between(dalys_averted_u5[(dalys_averted_u5.location_id==loc) & (dalys_averted_u5.coverage_level==level)].year_id, \n",
    "#                              dalys_averted_u5[(dalys_averted_u5.location_id==loc) & (dalys_averted_u5.coverage_level==level)].p975_dalys_per_100_000py,\n",
    "#                              dalys_averted_u5[(dalys_averted_u5.location_id==loc) & (dalys_averted_u5.coverage_level==level)].p025_dalys_per_100_000py, alpha=0.3, color = colors[i])\n",
    "#             plt.ylabel('DALYs averted per 100,000 person-years')\n",
    "#             plt.xlabel('Year')\n",
    "#             plt.title(f'Folic Acid fortification: {int(level*100)}% coverage')\n",
    "#             plt.legend()\n",
    "#             plt.xticks([2021,2022,2023,2024,2025], [2021,2022,2023,2024,2025])\n",
    "#         pdf.savefig(fig)\n",
    "\n",
    "#     plt.show()\n",
    "#     pdf.close()\n",
    "\n",
    "# save_path = '/ihme/homes/beatrixh/repos/scratch/fa_dalys_averted_rate.pdf'    \n",
    "# plot_dalys_averted_rate(save_path)"
   ]
  },
  {
   "cell_type": "code",
   "execution_count": null,
   "metadata": {},
   "outputs": [],
   "source": [
    "# this is why kenya is negative\n",
    "inputs = pd.read_csv(input_data_path)\n",
    "\n",
    "inputs[(inputs.location_name==\"Kenya\") & (inputs.nutrient==\"folic acid\")]\n",
    "\n"
   ]
  },
  {
   "cell_type": "code",
   "execution_count": null,
   "metadata": {},
   "outputs": [],
   "source": [
    "inputs[(inputs.location_name==\"Kenya\") & (inputs.vehicle.isin(['maize flour','wheat flour'])) & (inputs.value_description==\"percent of population eating industrially produced vehicle\")]"
   ]
  },
  {
   "cell_type": "code",
   "execution_count": null,
   "metadata": {},
   "outputs": [],
   "source": []
  }
 ],
 "metadata": {
  "kernelspec": {
   "display_name": "Python 3",
   "language": "python",
   "name": "python3"
  },
  "language_info": {
   "codemirror_mode": {
    "name": "ipython",
    "version": 3
   },
   "file_extension": ".py",
   "mimetype": "text/x-python",
   "name": "python",
   "nbconvert_exporter": "python",
   "pygments_lexer": "ipython3",
   "version": "3.7.0"
  }
 },
 "nbformat": 4,
 "nbformat_minor": 4
}
