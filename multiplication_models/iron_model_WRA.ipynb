{
 "cells": [
  {
   "cell_type": "code",
   "execution_count": 1,
   "metadata": {},
   "outputs": [],
   "source": [
    "from functions_for_all_nutrients import *\n",
    "from iron_hemoglobin_functions import *\n",
    "import matplotlib.backends.backend_pdf\n",
    "from matplotlib.backends.backend_pdf import PdfPages"
   ]
  },
  {
   "cell_type": "code",
   "execution_count": 2,
   "metadata": {},
   "outputs": [
    {
     "data": {
      "text/plain": [
       "['alibow']"
      ]
     },
     "execution_count": 2,
     "metadata": {},
     "output_type": "execute_result"
    }
   ],
   "source": [
    "username = !whoami\n",
    "username"
   ]
  },
  {
   "cell_type": "code",
   "execution_count": 3,
   "metadata": {},
   "outputs": [],
   "source": [
    "index_cols=['location_id','sex_id','age_group_id']\n",
    "\n",
    "age_group_ids = list(range(7,16))\n",
    "sex_ids = [2]\n",
    "coverage_levels = [0.2,0.5,0.8,1]\n",
    "years = [2021,2022,2023,2024,2025]"
   ]
  },
  {
   "cell_type": "code",
   "execution_count": 4,
   "metadata": {},
   "outputs": [],
   "source": [
    "coverage_data_dir = f'/ihme/homes/{username[0]}/notebooks/vivarium_research_lsff/data_prep/outputs/waterfall_coverage_all_vehicles.csv'"
   ]
  },
  {
   "cell_type": "code",
   "execution_count": 5,
   "metadata": {},
   "outputs": [
    {
     "data": {
      "text/plain": [
       "[168,\n",
       " 161,\n",
       " 201,\n",
       " 205,\n",
       " 202,\n",
       " 6,\n",
       " 171,\n",
       " 141,\n",
       " 179,\n",
       " 207,\n",
       " 163,\n",
       " 11,\n",
       " 180,\n",
       " 181,\n",
       " 184,\n",
       " 15,\n",
       " 164,\n",
       " 213,\n",
       " 214,\n",
       " 165,\n",
       " 196,\n",
       " 522,\n",
       " 190,\n",
       " 189,\n",
       " 20]"
      ]
     },
     "execution_count": 5,
     "metadata": {},
     "output_type": "execute_result"
    }
   ],
   "source": [
    "location_ids = (list(\n",
    "                pd.read_csv(coverage_data_dir)\n",
    "                .location_id\n",
    "                .unique()))\n",
    "location_ids"
   ]
  },
  {
   "cell_type": "code",
   "execution_count": 6,
   "metadata": {},
   "outputs": [],
   "source": [
    "nutrient = 'iron'\n",
    "#vehicles = ['wheat flour', 'maize flour', 'zero wheat flour', 'zero maize flour', 'industry wheat', 'zero industry wheat']\n",
    "vehicles = ['industry wheat','zero industry wheat']\n",
    "\n",
    "effective_fractions = [1] * len(age_group_ids)"
   ]
  },
  {
   "cell_type": "code",
   "execution_count": 7,
   "metadata": {},
   "outputs": [
    {
     "name": "stdout",
     "output_type": "stream",
     "text": [
      "Excluded location IDs [] due to missing data\n"
     ]
    },
    {
     "ename": "KeyboardInterrupt",
     "evalue": "",
     "output_type": "error",
     "traceback": [
      "\u001b[0;31m---------------------------------------------------------------------------\u001b[0m",
      "\u001b[0;31mKeyError\u001b[0m                                  Traceback (most recent call last)",
      "\u001b[0;32m/ihme/code/central_comp/miniconda_svc-ccomp/envs/v108/lib/python3.7/site-packages/pandas/core/indexes/base.py\u001b[0m in \u001b[0;36mget_loc\u001b[0;34m(self, key, method, tolerance)\u001b[0m\n\u001b[1;32m   2896\u001b[0m             \u001b[0;32mtry\u001b[0m\u001b[0;34m:\u001b[0m\u001b[0;34m\u001b[0m\u001b[0m\n\u001b[0;32m-> 2897\u001b[0;31m                 \u001b[0;32mreturn\u001b[0m \u001b[0mself\u001b[0m\u001b[0;34m.\u001b[0m\u001b[0m_engine\u001b[0m\u001b[0;34m.\u001b[0m\u001b[0mget_loc\u001b[0m\u001b[0;34m(\u001b[0m\u001b[0mkey\u001b[0m\u001b[0;34m)\u001b[0m\u001b[0;34m\u001b[0m\u001b[0m\n\u001b[0m\u001b[1;32m   2898\u001b[0m             \u001b[0;32mexcept\u001b[0m \u001b[0mKeyError\u001b[0m\u001b[0;34m:\u001b[0m\u001b[0;34m\u001b[0m\u001b[0m\n",
      "\u001b[0;32mpandas/_libs/index.pyx\u001b[0m in \u001b[0;36mpandas._libs.index.IndexEngine.get_loc\u001b[0;34m()\u001b[0m\n",
      "\u001b[0;32mpandas/_libs/index.pyx\u001b[0m in \u001b[0;36mpandas._libs.index.IndexEngine.get_loc\u001b[0;34m()\u001b[0m\n",
      "\u001b[0;32mpandas/_libs/hashtable_class_helper.pxi\u001b[0m in \u001b[0;36mpandas._libs.hashtable.PyObjectHashTable.get_item\u001b[0;34m()\u001b[0m\n",
      "\u001b[0;32mpandas/_libs/hashtable_class_helper.pxi\u001b[0m in \u001b[0;36mpandas._libs.hashtable.PyObjectHashTable.get_item\u001b[0;34m()\u001b[0m\n",
      "\u001b[0;31mKeyError\u001b[0m: 'draw_3944'",
      "\nDuring handling of the above exception, another exception occurred:\n",
      "\u001b[0;31mKeyError\u001b[0m                                  Traceback (most recent call last)",
      "\u001b[0;32m/ihme/code/central_comp/miniconda_svc-ccomp/envs/v108/lib/python3.7/site-packages/pandas/core/internals/managers.py\u001b[0m in \u001b[0;36mset\u001b[0;34m(self, item, value)\u001b[0m\n\u001b[1;32m   1068\u001b[0m         \u001b[0;32mtry\u001b[0m\u001b[0;34m:\u001b[0m\u001b[0;34m\u001b[0m\u001b[0m\n\u001b[0;32m-> 1069\u001b[0;31m             \u001b[0mloc\u001b[0m \u001b[0;34m=\u001b[0m \u001b[0mself\u001b[0m\u001b[0;34m.\u001b[0m\u001b[0mitems\u001b[0m\u001b[0;34m.\u001b[0m\u001b[0mget_loc\u001b[0m\u001b[0;34m(\u001b[0m\u001b[0mitem\u001b[0m\u001b[0;34m)\u001b[0m\u001b[0;34m\u001b[0m\u001b[0m\n\u001b[0m\u001b[1;32m   1070\u001b[0m         \u001b[0;32mexcept\u001b[0m \u001b[0mKeyError\u001b[0m\u001b[0;34m:\u001b[0m\u001b[0;34m\u001b[0m\u001b[0m\n",
      "\u001b[0;32m/ihme/code/central_comp/miniconda_svc-ccomp/envs/v108/lib/python3.7/site-packages/pandas/core/indexes/base.py\u001b[0m in \u001b[0;36mget_loc\u001b[0;34m(self, key, method, tolerance)\u001b[0m\n\u001b[1;32m   2898\u001b[0m             \u001b[0;32mexcept\u001b[0m \u001b[0mKeyError\u001b[0m\u001b[0;34m:\u001b[0m\u001b[0;34m\u001b[0m\u001b[0m\n\u001b[0;32m-> 2899\u001b[0;31m                 \u001b[0;32mreturn\u001b[0m \u001b[0mself\u001b[0m\u001b[0;34m.\u001b[0m\u001b[0m_engine\u001b[0m\u001b[0;34m.\u001b[0m\u001b[0mget_loc\u001b[0m\u001b[0;34m(\u001b[0m\u001b[0mself\u001b[0m\u001b[0;34m.\u001b[0m\u001b[0m_maybe_cast_indexer\u001b[0m\u001b[0;34m(\u001b[0m\u001b[0mkey\u001b[0m\u001b[0;34m)\u001b[0m\u001b[0;34m)\u001b[0m\u001b[0;34m\u001b[0m\u001b[0m\n\u001b[0m\u001b[1;32m   2900\u001b[0m         \u001b[0mindexer\u001b[0m \u001b[0;34m=\u001b[0m \u001b[0mself\u001b[0m\u001b[0;34m.\u001b[0m\u001b[0mget_indexer\u001b[0m\u001b[0;34m(\u001b[0m\u001b[0;34m[\u001b[0m\u001b[0mkey\u001b[0m\u001b[0;34m]\u001b[0m\u001b[0;34m,\u001b[0m \u001b[0mmethod\u001b[0m\u001b[0;34m=\u001b[0m\u001b[0mmethod\u001b[0m\u001b[0;34m,\u001b[0m \u001b[0mtolerance\u001b[0m\u001b[0;34m=\u001b[0m\u001b[0mtolerance\u001b[0m\u001b[0;34m)\u001b[0m\u001b[0;34m\u001b[0m\u001b[0m\n",
      "\u001b[0;32mpandas/_libs/index.pyx\u001b[0m in \u001b[0;36mpandas._libs.index.IndexEngine.get_loc\u001b[0;34m()\u001b[0m\n",
      "\u001b[0;32mpandas/_libs/index.pyx\u001b[0m in \u001b[0;36mpandas._libs.index.IndexEngine.get_loc\u001b[0;34m()\u001b[0m\n",
      "\u001b[0;32mpandas/_libs/hashtable_class_helper.pxi\u001b[0m in \u001b[0;36mpandas._libs.hashtable.PyObjectHashTable.get_item\u001b[0;34m()\u001b[0m\n",
      "\u001b[0;32mpandas/_libs/hashtable_class_helper.pxi\u001b[0m in \u001b[0;36mpandas._libs.hashtable.PyObjectHashTable.get_item\u001b[0;34m()\u001b[0m\n",
      "\u001b[0;31mKeyError\u001b[0m: 'draw_3944'",
      "\nDuring handling of the above exception, another exception occurred:\n",
      "\u001b[0;31mKeyboardInterrupt\u001b[0m                         Traceback (most recent call last)",
      "\u001b[0;32m<ipython-input-7-e4035df1c76f>\u001b[0m in \u001b[0;36m<module>\u001b[0;34m\u001b[0m\n\u001b[1;32m      4\u001b[0m                                              \u001b[0mvehicles\u001b[0m\u001b[0;34m,\u001b[0m\u001b[0;34m\u001b[0m\u001b[0m\n\u001b[1;32m      5\u001b[0m                                              \u001b[0myears\u001b[0m\u001b[0;34m,\u001b[0m\u001b[0;34m\u001b[0m\u001b[0m\n\u001b[0;32m----> 6\u001b[0;31m                                              coverage_levels, 'WRA')\n\u001b[0m\u001b[1;32m      7\u001b[0m \u001b[0mcounterfactual_coverage\u001b[0m\u001b[0;34m.\u001b[0m\u001b[0mhead\u001b[0m\u001b[0;34m(\u001b[0m\u001b[0;34m)\u001b[0m\u001b[0;34m\u001b[0m\u001b[0m\n",
      "\u001b[0;32m~/notebooks/vivarium_research_lsff/multiplication_models/functions_for_all_nutrients.py\u001b[0m in \u001b[0;36mget_baseline_and_counterfactual_coverage\u001b[0;34m(coverage_data_dir, location_ids, nutrient, vehicles, years, coverage_levels, sub_population, percent_of_total)\u001b[0m\n\u001b[1;32m    166\u001b[0m     \u001b[0;32mfor\u001b[0m \u001b[0mvehicle\u001b[0m \u001b[0;32min\u001b[0m \u001b[0mvehicles\u001b[0m\u001b[0;34m:\u001b[0m\u001b[0;34m\u001b[0m\u001b[0m\n\u001b[1;32m    167\u001b[0m         cov_a, cov_b = generate_logical_coverage_draws(coverage_data_dir, location_ids, nutrient,\n\u001b[0;32m--> 168\u001b[0;31m                                                        vehicle, sub_population)\n\u001b[0m\u001b[1;32m    169\u001b[0m         baseline_coverage, counterfactual_coverage = generate_coverage_dfs(cov_a, cov_b, years,\n\u001b[1;32m    170\u001b[0m                                                                            coverage_levels, percent_of_total)\n",
      "\u001b[0;32m~/notebooks/vivarium_research_lsff/multiplication_models/functions_for_all_nutrients.py\u001b[0m in \u001b[0;36mgenerate_logical_coverage_draws\u001b[0;34m(coverage_data_dir, location_ids, nutrient, vehicle, sub_population)\u001b[0m\n\u001b[1;32m     72\u001b[0m             \u001b[0;32mfor\u001b[0m \u001b[0mloc\u001b[0m \u001b[0;32min\u001b[0m \u001b[0mlocs\u001b[0m\u001b[0;34m:\u001b[0m\u001b[0;34m\u001b[0m\u001b[0m\n\u001b[1;32m     73\u001b[0m                 \u001b[0mcov_a_sub\u001b[0m \u001b[0;34m=\u001b[0m \u001b[0mgenerate_coverage_parameter_draws\u001b[0m\u001b[0;34m(\u001b[0m\u001b[0mcov_a\u001b[0m\u001b[0;34m.\u001b[0m\u001b[0mloc\u001b[0m\u001b[0;34m[\u001b[0m\u001b[0mcov_a\u001b[0m\u001b[0;34m.\u001b[0m\u001b[0mlocation_id\u001b[0m \u001b[0;34m==\u001b[0m \u001b[0mloc\u001b[0m\u001b[0;34m]\u001b[0m\u001b[0;34m,\u001b[0m \u001b[0;36m234\u001b[0m\u001b[0;34m,\u001b[0m \u001b[0;36m5_000\u001b[0m\u001b[0;34m)\u001b[0m\u001b[0;34m\u001b[0m\u001b[0m\n\u001b[0;32m---> 74\u001b[0;31m                 \u001b[0mcov_b_sub\u001b[0m \u001b[0;34m=\u001b[0m \u001b[0mgenerate_coverage_parameter_draws\u001b[0m\u001b[0;34m(\u001b[0m\u001b[0mcov_b\u001b[0m\u001b[0;34m.\u001b[0m\u001b[0mloc\u001b[0m\u001b[0;34m[\u001b[0m\u001b[0mcov_b\u001b[0m\u001b[0;34m.\u001b[0m\u001b[0mlocation_id\u001b[0m \u001b[0;34m==\u001b[0m \u001b[0mloc\u001b[0m\u001b[0;34m]\u001b[0m\u001b[0;34m,\u001b[0m \u001b[0;36m341\u001b[0m\u001b[0;34m,\u001b[0m \u001b[0;36m5_000\u001b[0m\u001b[0;34m)\u001b[0m\u001b[0;34m\u001b[0m\u001b[0m\n\u001b[0m\u001b[1;32m     75\u001b[0m                 check = (cov_a_sub.stack().reset_index().rename(columns={'level_1': 'draw', 0: 'cov_a'})\n\u001b[1;32m     76\u001b[0m                          .merge(cov_b_sub.stack().reset_index().rename(columns={'level_1': 'draw', 0: 'cov_b'}),\n",
      "\u001b[0;32m~/notebooks/vivarium_research_lsff/multiplication_models/functions_for_all_nutrients.py\u001b[0m in \u001b[0;36mgenerate_coverage_parameter_draws\u001b[0;34m(df, random_seed, n_draws)\u001b[0m\n\u001b[1;32m     15\u001b[0m                                                             \u001b[0mdata_frame\u001b[0m\u001b[0;34m.\u001b[0m\u001b[0mb\u001b[0m\u001b[0;34m,\u001b[0m\u001b[0;34m\u001b[0m\u001b[0m\n\u001b[1;32m     16\u001b[0m                                                             \u001b[0mdata_frame\u001b[0m\u001b[0;34m.\u001b[0m\u001b[0mvalue_mean\u001b[0m\u001b[0;34m,\u001b[0m\u001b[0;34m\u001b[0m\u001b[0m\n\u001b[0;32m---> 17\u001b[0;31m                                                             data_frame.value_std) / 100\n\u001b[0m\u001b[1;32m     18\u001b[0m     data_frame = (data_frame\n\u001b[1;32m     19\u001b[0m                   \u001b[0;34m.\u001b[0m\u001b[0mset_index\u001b[0m\u001b[0;34m(\u001b[0m\u001b[0;34m[\u001b[0m\u001b[0;34m'location_id'\u001b[0m\u001b[0;34m]\u001b[0m\u001b[0;34m)\u001b[0m\u001b[0;34m\u001b[0m\u001b[0m\n",
      "\u001b[0;32m/ihme/code/central_comp/miniconda_svc-ccomp/envs/v108/lib/python3.7/site-packages/pandas/core/frame.py\u001b[0m in \u001b[0;36m__setitem__\u001b[0;34m(self, key, value)\u001b[0m\n\u001b[1;32m   3485\u001b[0m         \u001b[0;32melse\u001b[0m\u001b[0;34m:\u001b[0m\u001b[0;34m\u001b[0m\u001b[0m\n\u001b[1;32m   3486\u001b[0m             \u001b[0;31m# set column\u001b[0m\u001b[0;34m\u001b[0m\u001b[0;34m\u001b[0m\u001b[0m\n\u001b[0;32m-> 3487\u001b[0;31m             \u001b[0mself\u001b[0m\u001b[0;34m.\u001b[0m\u001b[0m_set_item\u001b[0m\u001b[0;34m(\u001b[0m\u001b[0mkey\u001b[0m\u001b[0;34m,\u001b[0m \u001b[0mvalue\u001b[0m\u001b[0;34m)\u001b[0m\u001b[0;34m\u001b[0m\u001b[0m\n\u001b[0m\u001b[1;32m   3488\u001b[0m \u001b[0;34m\u001b[0m\u001b[0m\n\u001b[1;32m   3489\u001b[0m     \u001b[0;32mdef\u001b[0m \u001b[0m_setitem_slice\u001b[0m\u001b[0;34m(\u001b[0m\u001b[0mself\u001b[0m\u001b[0;34m,\u001b[0m \u001b[0mkey\u001b[0m\u001b[0;34m,\u001b[0m \u001b[0mvalue\u001b[0m\u001b[0;34m)\u001b[0m\u001b[0;34m:\u001b[0m\u001b[0;34m\u001b[0m\u001b[0m\n",
      "\u001b[0;32m/ihme/code/central_comp/miniconda_svc-ccomp/envs/v108/lib/python3.7/site-packages/pandas/core/frame.py\u001b[0m in \u001b[0;36m_set_item\u001b[0;34m(self, key, value)\u001b[0m\n\u001b[1;32m   3563\u001b[0m         \u001b[0mself\u001b[0m\u001b[0;34m.\u001b[0m\u001b[0m_ensure_valid_index\u001b[0m\u001b[0;34m(\u001b[0m\u001b[0mvalue\u001b[0m\u001b[0;34m)\u001b[0m\u001b[0;34m\u001b[0m\u001b[0m\n\u001b[1;32m   3564\u001b[0m         \u001b[0mvalue\u001b[0m \u001b[0;34m=\u001b[0m \u001b[0mself\u001b[0m\u001b[0;34m.\u001b[0m\u001b[0m_sanitize_column\u001b[0m\u001b[0;34m(\u001b[0m\u001b[0mkey\u001b[0m\u001b[0;34m,\u001b[0m \u001b[0mvalue\u001b[0m\u001b[0;34m)\u001b[0m\u001b[0;34m\u001b[0m\u001b[0m\n\u001b[0;32m-> 3565\u001b[0;31m         \u001b[0mNDFrame\u001b[0m\u001b[0;34m.\u001b[0m\u001b[0m_set_item\u001b[0m\u001b[0;34m(\u001b[0m\u001b[0mself\u001b[0m\u001b[0;34m,\u001b[0m \u001b[0mkey\u001b[0m\u001b[0;34m,\u001b[0m \u001b[0mvalue\u001b[0m\u001b[0;34m)\u001b[0m\u001b[0;34m\u001b[0m\u001b[0m\n\u001b[0m\u001b[1;32m   3566\u001b[0m \u001b[0;34m\u001b[0m\u001b[0m\n\u001b[1;32m   3567\u001b[0m         \u001b[0;31m# check if we are modifying a copy\u001b[0m\u001b[0;34m\u001b[0m\u001b[0;34m\u001b[0m\u001b[0m\n",
      "\u001b[0;32m/ihme/code/central_comp/miniconda_svc-ccomp/envs/v108/lib/python3.7/site-packages/pandas/core/generic.py\u001b[0m in \u001b[0;36m_set_item\u001b[0;34m(self, key, value)\u001b[0m\n\u001b[1;32m   3379\u001b[0m \u001b[0;34m\u001b[0m\u001b[0m\n\u001b[1;32m   3380\u001b[0m     \u001b[0;32mdef\u001b[0m \u001b[0m_set_item\u001b[0m\u001b[0;34m(\u001b[0m\u001b[0mself\u001b[0m\u001b[0;34m,\u001b[0m \u001b[0mkey\u001b[0m\u001b[0;34m,\u001b[0m \u001b[0mvalue\u001b[0m\u001b[0;34m)\u001b[0m\u001b[0;34m:\u001b[0m\u001b[0;34m\u001b[0m\u001b[0m\n\u001b[0;32m-> 3381\u001b[0;31m         \u001b[0mself\u001b[0m\u001b[0;34m.\u001b[0m\u001b[0m_data\u001b[0m\u001b[0;34m.\u001b[0m\u001b[0mset\u001b[0m\u001b[0;34m(\u001b[0m\u001b[0mkey\u001b[0m\u001b[0;34m,\u001b[0m \u001b[0mvalue\u001b[0m\u001b[0;34m)\u001b[0m\u001b[0;34m\u001b[0m\u001b[0m\n\u001b[0m\u001b[1;32m   3382\u001b[0m         \u001b[0mself\u001b[0m\u001b[0;34m.\u001b[0m\u001b[0m_clear_item_cache\u001b[0m\u001b[0;34m(\u001b[0m\u001b[0;34m)\u001b[0m\u001b[0;34m\u001b[0m\u001b[0m\n\u001b[1;32m   3383\u001b[0m \u001b[0;34m\u001b[0m\u001b[0m\n",
      "\u001b[0;32m/ihme/code/central_comp/miniconda_svc-ccomp/envs/v108/lib/python3.7/site-packages/pandas/core/internals/managers.py\u001b[0m in \u001b[0;36mset\u001b[0;34m(self, item, value)\u001b[0m\n\u001b[1;32m   1070\u001b[0m         \u001b[0;32mexcept\u001b[0m \u001b[0mKeyError\u001b[0m\u001b[0;34m:\u001b[0m\u001b[0;34m\u001b[0m\u001b[0m\n\u001b[1;32m   1071\u001b[0m             \u001b[0;31m# This item wasn't present, just insert at end\u001b[0m\u001b[0;34m\u001b[0m\u001b[0;34m\u001b[0m\u001b[0m\n\u001b[0;32m-> 1072\u001b[0;31m             \u001b[0mself\u001b[0m\u001b[0;34m.\u001b[0m\u001b[0minsert\u001b[0m\u001b[0;34m(\u001b[0m\u001b[0mlen\u001b[0m\u001b[0;34m(\u001b[0m\u001b[0mself\u001b[0m\u001b[0;34m.\u001b[0m\u001b[0mitems\u001b[0m\u001b[0;34m)\u001b[0m\u001b[0;34m,\u001b[0m \u001b[0mitem\u001b[0m\u001b[0;34m,\u001b[0m \u001b[0mvalue\u001b[0m\u001b[0;34m)\u001b[0m\u001b[0;34m\u001b[0m\u001b[0m\n\u001b[0m\u001b[1;32m   1073\u001b[0m             \u001b[0;32mreturn\u001b[0m\u001b[0;34m\u001b[0m\u001b[0m\n\u001b[1;32m   1074\u001b[0m \u001b[0;34m\u001b[0m\u001b[0m\n",
      "\u001b[0;32m/ihme/code/central_comp/miniconda_svc-ccomp/envs/v108/lib/python3.7/site-packages/pandas/core/internals/managers.py\u001b[0m in \u001b[0;36minsert\u001b[0;34m(self, loc, item, value, allow_duplicates)\u001b[0m\n\u001b[1;32m   1181\u001b[0m         \u001b[0mblock\u001b[0m \u001b[0;34m=\u001b[0m \u001b[0mmake_block\u001b[0m\u001b[0;34m(\u001b[0m\u001b[0mvalues\u001b[0m\u001b[0;34m=\u001b[0m\u001b[0mvalue\u001b[0m\u001b[0;34m,\u001b[0m \u001b[0mndim\u001b[0m\u001b[0;34m=\u001b[0m\u001b[0mself\u001b[0m\u001b[0;34m.\u001b[0m\u001b[0mndim\u001b[0m\u001b[0;34m,\u001b[0m \u001b[0mplacement\u001b[0m\u001b[0;34m=\u001b[0m\u001b[0mslice\u001b[0m\u001b[0;34m(\u001b[0m\u001b[0mloc\u001b[0m\u001b[0;34m,\u001b[0m \u001b[0mloc\u001b[0m \u001b[0;34m+\u001b[0m \u001b[0;36m1\u001b[0m\u001b[0;34m)\u001b[0m\u001b[0;34m)\u001b[0m\u001b[0;34m\u001b[0m\u001b[0m\n\u001b[1;32m   1182\u001b[0m \u001b[0;34m\u001b[0m\u001b[0m\n\u001b[0;32m-> 1183\u001b[0;31m         \u001b[0;32mfor\u001b[0m \u001b[0mblkno\u001b[0m\u001b[0;34m,\u001b[0m \u001b[0mcount\u001b[0m \u001b[0;32min\u001b[0m \u001b[0m_fast_count_smallints\u001b[0m\u001b[0;34m(\u001b[0m\u001b[0mself\u001b[0m\u001b[0;34m.\u001b[0m\u001b[0m_blknos\u001b[0m\u001b[0;34m[\u001b[0m\u001b[0mloc\u001b[0m\u001b[0;34m:\u001b[0m\u001b[0;34m]\u001b[0m\u001b[0;34m)\u001b[0m\u001b[0;34m:\u001b[0m\u001b[0;34m\u001b[0m\u001b[0m\n\u001b[0m\u001b[1;32m   1184\u001b[0m             \u001b[0mblk\u001b[0m \u001b[0;34m=\u001b[0m \u001b[0mself\u001b[0m\u001b[0;34m.\u001b[0m\u001b[0mblocks\u001b[0m\u001b[0;34m[\u001b[0m\u001b[0mblkno\u001b[0m\u001b[0;34m]\u001b[0m\u001b[0;34m\u001b[0m\u001b[0m\n\u001b[1;32m   1185\u001b[0m             \u001b[0;32mif\u001b[0m \u001b[0mcount\u001b[0m \u001b[0;34m==\u001b[0m \u001b[0mlen\u001b[0m\u001b[0;34m(\u001b[0m\u001b[0mblk\u001b[0m\u001b[0;34m.\u001b[0m\u001b[0mmgr_locs\u001b[0m\u001b[0;34m)\u001b[0m\u001b[0;34m:\u001b[0m\u001b[0;34m\u001b[0m\u001b[0m\n",
      "\u001b[0;32m/ihme/code/central_comp/miniconda_svc-ccomp/envs/v108/lib/python3.7/site-packages/pandas/core/internals/managers.py\u001b[0m in \u001b[0;36m_fast_count_smallints\u001b[0;34m(arr)\u001b[0m\n\u001b[1;32m   1997\u001b[0m     \u001b[0mcounts\u001b[0m \u001b[0;34m=\u001b[0m \u001b[0mnp\u001b[0m\u001b[0;34m.\u001b[0m\u001b[0mbincount\u001b[0m\u001b[0;34m(\u001b[0m\u001b[0marr\u001b[0m\u001b[0;34m.\u001b[0m\u001b[0mastype\u001b[0m\u001b[0;34m(\u001b[0m\u001b[0mnp\u001b[0m\u001b[0;34m.\u001b[0m\u001b[0mint_\u001b[0m\u001b[0;34m)\u001b[0m\u001b[0;34m)\u001b[0m\u001b[0;34m\u001b[0m\u001b[0m\n\u001b[1;32m   1998\u001b[0m     \u001b[0mnz\u001b[0m \u001b[0;34m=\u001b[0m \u001b[0mcounts\u001b[0m\u001b[0;34m.\u001b[0m\u001b[0mnonzero\u001b[0m\u001b[0;34m(\u001b[0m\u001b[0;34m)\u001b[0m\u001b[0;34m[\u001b[0m\u001b[0;36m0\u001b[0m\u001b[0;34m]\u001b[0m\u001b[0;34m\u001b[0m\u001b[0m\n\u001b[0;32m-> 1999\u001b[0;31m     \u001b[0;32mreturn\u001b[0m \u001b[0mnp\u001b[0m\u001b[0;34m.\u001b[0m\u001b[0mc_\u001b[0m\u001b[0;34m[\u001b[0m\u001b[0mnz\u001b[0m\u001b[0;34m,\u001b[0m \u001b[0mcounts\u001b[0m\u001b[0;34m[\u001b[0m\u001b[0mnz\u001b[0m\u001b[0;34m]\u001b[0m\u001b[0;34m]\u001b[0m\u001b[0;34m\u001b[0m\u001b[0m\n\u001b[0m\u001b[1;32m   2000\u001b[0m \u001b[0;34m\u001b[0m\u001b[0m\n\u001b[1;32m   2001\u001b[0m \u001b[0;34m\u001b[0m\u001b[0m\n",
      "\u001b[0;32m/ihme/code/central_comp/miniconda_svc-ccomp/envs/v108/lib/python3.7/site-packages/numpy/lib/index_tricks.py\u001b[0m in \u001b[0;36m__getitem__\u001b[0;34m(self, key)\u001b[0m\n\u001b[1;32m    384\u001b[0m                 \u001b[0mscalartypes\u001b[0m\u001b[0;34m.\u001b[0m\u001b[0mappend\u001b[0m\u001b[0;34m(\u001b[0m\u001b[0mnewobj\u001b[0m\u001b[0;34m.\u001b[0m\u001b[0mdtype\u001b[0m\u001b[0;34m)\u001b[0m\u001b[0;34m\u001b[0m\u001b[0m\n\u001b[1;32m    385\u001b[0m             \u001b[0;32melse\u001b[0m\u001b[0;34m:\u001b[0m\u001b[0;34m\u001b[0m\u001b[0m\n\u001b[0;32m--> 386\u001b[0;31m                 \u001b[0mitem_ndim\u001b[0m \u001b[0;34m=\u001b[0m \u001b[0mndim\u001b[0m\u001b[0;34m(\u001b[0m\u001b[0mitem\u001b[0m\u001b[0;34m)\u001b[0m\u001b[0;34m\u001b[0m\u001b[0m\n\u001b[0m\u001b[1;32m    387\u001b[0m                 \u001b[0mnewobj\u001b[0m \u001b[0;34m=\u001b[0m \u001b[0marray\u001b[0m\u001b[0;34m(\u001b[0m\u001b[0mitem\u001b[0m\u001b[0;34m,\u001b[0m \u001b[0mcopy\u001b[0m\u001b[0;34m=\u001b[0m\u001b[0;32mFalse\u001b[0m\u001b[0;34m,\u001b[0m \u001b[0msubok\u001b[0m\u001b[0;34m=\u001b[0m\u001b[0;32mTrue\u001b[0m\u001b[0;34m,\u001b[0m \u001b[0mndmin\u001b[0m\u001b[0;34m=\u001b[0m\u001b[0mndmin\u001b[0m\u001b[0;34m)\u001b[0m\u001b[0;34m\u001b[0m\u001b[0m\n\u001b[1;32m    388\u001b[0m                 \u001b[0;32mif\u001b[0m \u001b[0mtrans1d\u001b[0m \u001b[0;34m!=\u001b[0m \u001b[0;34m-\u001b[0m\u001b[0;36m1\u001b[0m \u001b[0;32mand\u001b[0m \u001b[0mitem_ndim\u001b[0m \u001b[0;34m<\u001b[0m \u001b[0mndmin\u001b[0m\u001b[0;34m:\u001b[0m\u001b[0;34m\u001b[0m\u001b[0m\n",
      "\u001b[0;32m<__array_function__ internals>\u001b[0m in \u001b[0;36mndim\u001b[0;34m(*args, **kwargs)\u001b[0m\n",
      "\u001b[0;32m/ihme/code/central_comp/miniconda_svc-ccomp/envs/v108/lib/python3.7/site-packages/numpy/core/fromnumeric.py\u001b[0m in \u001b[0;36m_ndim_dispatcher\u001b[0;34m(a)\u001b[0m\n\u001b[1;32m   2980\u001b[0m \u001b[0;34m\u001b[0m\u001b[0m\n\u001b[1;32m   2981\u001b[0m \u001b[0;34m\u001b[0m\u001b[0m\n\u001b[0;32m-> 2982\u001b[0;31m \u001b[0;32mdef\u001b[0m \u001b[0m_ndim_dispatcher\u001b[0m\u001b[0;34m(\u001b[0m\u001b[0ma\u001b[0m\u001b[0;34m)\u001b[0m\u001b[0;34m:\u001b[0m\u001b[0;34m\u001b[0m\u001b[0m\n\u001b[0m\u001b[1;32m   2983\u001b[0m     \u001b[0;32mreturn\u001b[0m \u001b[0;34m(\u001b[0m\u001b[0ma\u001b[0m\u001b[0;34m,\u001b[0m\u001b[0;34m)\u001b[0m\u001b[0;34m\u001b[0m\u001b[0m\n\u001b[1;32m   2984\u001b[0m \u001b[0;34m\u001b[0m\u001b[0m\n",
      "\u001b[0;31mKeyboardInterrupt\u001b[0m: "
     ]
    }
   ],
   "source": [
    "baseline_coverage, counterfactual_coverage = get_baseline_and_counterfactual_coverage(coverage_data_dir,\n",
    "                                             location_ids,\n",
    "                                             nutrient,\n",
    "                                             vehicles,\n",
    "                                             years,\n",
    "                                             coverage_levels, 'WRA')\n",
    "counterfactual_coverage.head()"
   ]
  },
  {
   "cell_type": "markdown",
   "metadata": {},
   "source": [
    "# HEMOGLOBIN"
   ]
  },
  {
   "cell_type": "code",
   "execution_count": null,
   "metadata": {},
   "outputs": [],
   "source": [
    "from scipy.stats import norm\n",
    "\n",
    "# mean and 0.975-quantile of normal distribution for mean difference (MD)\n",
    "mean = 3\n",
    "q_975 = 6.1\n",
    "\n",
    "# 0.975-quantile of standard normal distribution (=1.96, approximately)\n",
    "q_975_stdnorm = norm().ppf(0.975)\n",
    "\n",
    "std = (q_975 - mean) / q_975_stdnorm # std dev of normal distribution\n",
    "\n",
    "# Frozen normal distribution for MD, representing uncertainty in our effect size\n",
    "hb_md_distribution = norm(mean, std)"
   ]
  },
  {
   "cell_type": "code",
   "execution_count": null,
   "metadata": {},
   "outputs": [],
   "source": [
    "mean_difference_hemoglobin_fort = generate_normal_rr_deficiency_nofort_draws(mean, std, location_ids)\n",
    "mean_difference_hemoglobin_fort.head()"
   ]
  },
  {
   "cell_type": "code",
   "execution_count": null,
   "metadata": {},
   "outputs": [],
   "source": [
    "# NOTE:\n",
    "# This approach currently does not consider that new coverage\n",
    "# applies to those who are slightly more anemic\n",
    "# than the overall population due to their lack\n",
    "# of access to fortification\n",
    "\n",
    "effective_baseline_coverage = get_effective_iron_hemoglobin_coverage(baseline_coverage.set_index(['location_id','vehicle','year']), \n",
    "                                                                     sex_ids, \n",
    "                                                                     age_group_ids, \n",
    "                                                                     effective_fractions, \n",
    "                                                                     years)\n",
    "effective_counterfactual_coverage = get_effective_iron_hemoglobin_coverage(counterfactual_coverage.set_index(['location_id','vehicle','year','coverage_level']), \n",
    "                                                                     sex_ids, \n",
    "                                                                     age_group_ids, \n",
    "                                                                     effective_fractions, \n",
    "                                                                     years)\n",
    "\n",
    "delta_effective_coverage = effective_counterfactual_coverage - effective_baseline_coverage\n",
    "delta_effective_coverage"
   ]
  },
  {
   "cell_type": "code",
   "execution_count": null,
   "metadata": {},
   "outputs": [],
   "source": [
    "mean_hgb = generate_hemoglobin_values(delta_effective_coverage, \n",
    "                                      mean_difference_hemoglobin_fort,\n",
    "                                      location_ids, age_group_ids, sex_ids)\n",
    "mean_hgb = mean_hgb.reset_index()\n",
    "mean_hgb = (mean_hgb\n",
    "            .loc[mean_hgb.year_id.isin([2025, np.nan])]\n",
    "            .set_index([c for c in mean_hgb.columns if 'draw' not in c]))\n",
    "\n",
    "mean_hgb.to_csv('anemia_files_wra/mean_hgb_wra.csv')\n",
    "mean_hgb = (mean_hgb.reset_index()\n",
    "            .rename(columns={'year_id':'year'})\n",
    "            .set_index(['location_id','vehicle','sex_id','age_group_id','coverage_level','year']))\n",
    "\n",
    "# note, expect to see missing results for locations excluded due to illogical values\n",
    "\n",
    "mean_hgb"
   ]
  },
  {
   "cell_type": "code",
   "execution_count": null,
   "metadata": {},
   "outputs": [],
   "source": [
    "hgb_sd = get_draws('modelable_entity_id',\n",
    "                10488,\n",
    "                source='epi',\n",
    "                location_id=location_ids,\n",
    "                age_group_id=age_group_ids,\n",
    "                sex_id=sex_ids,\n",
    "                year_id=2019,\n",
    "                gbd_round_id=6,\n",
    "                decomp_step='step4',\n",
    "                status='best')\n",
    "hgb_sd = (hgb_sd.set_index(['location_id','sex_id','age_group_id'])\n",
    " .filter([c for c in hgb_sd if 'draw' in c])\n",
    " .reset_index())\n",
    "hgb_sd.to_csv('anemia_files_wra/sd_hgb_wra.csv')\n",
    "hgb_sd.head()"
   ]
  },
  {
   "cell_type": "code",
   "execution_count": null,
   "metadata": {},
   "outputs": [],
   "source": [
    "# get age-specific fertility rate\n",
    "get_covariate_estimates(13, \n",
    "                               location_id=location_ids,\n",
    "                               age_group_id=age_group_ids,\n",
    "                               sex_id=sex_ids,\n",
    "                               year_id=2019,\n",
    "                               gbd_round_id=6,\n",
    "                               decomp_step='step4').to_csv('anemia_files_wra/asfr.csv')\n",
    "\n",
    "\n",
    "# get still birth to live birth ratio (not age-specific)\n",
    "still = get_covariate_estimates(2267, \n",
    "                                location_id=location_ids,\n",
    "                                year_id=2019,\n",
    "                                gbd_round_id=6,\n",
    "                                decomp_step='step4').to_csv('anemia_files_wra/still.csv')"
   ]
  },
  {
   "cell_type": "code",
   "execution_count": null,
   "metadata": {},
   "outputs": [],
   "source": [
    "# NOW RUN HEMOGLOBIN_TO_ANEMIA.R FILE BEFORE RUNNING NEXT CELL\n",
    "assert \"Did you run the R file?\" == \"Double check :)\", \"Make sure you run the R file!\""
   ]
  },
  {
   "cell_type": "code",
   "execution_count": null,
   "metadata": {
    "scrolled": true
   },
   "outputs": [],
   "source": [
    "anemia = load_anemia_prev_and_calculate_ylds('anemia_files_wra/anemia_prev_wra.csv')\n",
    "baseline_anemia = (duplicate_over_simulation_years(anemia.loc[anemia.coverage_level=='baseline'], years)\n",
    "                   .drop(columns='coverage_level')\n",
    "                   .set_index(['location_id','age_group_id','sex_id','year','draw','vehicle']))\n",
    "counterfactual_anemia = (anemia.loc[anemia.coverage_level != 'baseline']\n",
    "                         .set_index(['location_id','age_group_id','sex_id','year','draw','vehicle','coverage_level']))\n",
    "averted_anemia = baseline_anemia - counterfactual_anemia\n",
    "averted_anemia"
   ]
  },
  {
   "cell_type": "code",
   "execution_count": null,
   "metadata": {},
   "outputs": [],
   "source": [
    "anemia_cols = ['mild','moderate','severe','anemic','moderate_ylds','mild_ylds','severe_ylds','anemic_ylds']\n",
    "\n",
    "anemia_diff = anemia.drop(columns='year').dropna()\n",
    "pop = get_population(location_id=location_ids,\n",
    "                    sex_id=sex_ids,\n",
    "                    age_group_id=age_group_ids,\n",
    "                    year_id=2019,\n",
    "                    gbd_round_id=6,\n",
    "                    decomp_step='step4')\n",
    "anemia_diff = anemia_diff.merge(pop, on=['location_id','age_group_id','sex_id'])\n",
    "for col in anemia_cols:\n",
    "    anemia_diff[f'{col}'] = anemia_diff[f'{col}'] * anemia_diff['population']\n",
    "anemia_diff = anemia_diff.groupby(['location_id','draw','vehicle','coverage_level']).sum().filter(anemia_cols)#.reset_index()\n",
    "anemia_diff = anemia_diff.stack().reset_index().rename(columns={'level_4':'measure',0:'value'})\n",
    "anemia_diff = pd.pivot_table(anemia_diff, index=['location_id','vehicle','coverage_level','measure'],\n",
    "                            columns='draw',\n",
    "                            values='value')\n",
    "\n",
    "anemia_diff.to_pickle('results_raw/iron_anemia_diff_wra.pkl')\n",
    "anemia_diff.head()"
   ]
  },
  {
   "cell_type": "code",
   "execution_count": null,
   "metadata": {},
   "outputs": [],
   "source": [
    "counts, rates = population_weight_values(averted_anemia.reset_index(), age_group_ids, sex_ids, location_ids)"
   ]
  },
  {
   "cell_type": "code",
   "execution_count": null,
   "metadata": {},
   "outputs": [],
   "source": [
    "counts = summarize_data(counts)\n",
    "rates = summarize_data(rates)"
   ]
  },
  {
   "cell_type": "code",
   "execution_count": null,
   "metadata": {},
   "outputs": [],
   "source": [
    "anemia_counts_averted = (counts.loc[counts.severity=='anemic']\n",
    "     .loc[counts.measure=='ylds']\n",
    "     .set_index(['location_id','vehicle','coverage_level','year'])\n",
    "     .drop(columns=['severity','measure']))\n",
    "anemia_counts_averted.head()"
   ]
  },
  {
   "cell_type": "code",
   "execution_count": null,
   "metadata": {
    "scrolled": true
   },
   "outputs": [],
   "source": [
    "anemia_rates_averted = (rates.loc[rates.severity=='anemic']\n",
    "     .loc[rates.measure=='ylds']\n",
    "     .set_index(['location_id','vehicle','coverage_level','year'])\n",
    "     .drop(columns=['severity','measure']))\n",
    "anemia_rates_averted.head()"
   ]
  },
  {
   "cell_type": "code",
   "execution_count": null,
   "metadata": {},
   "outputs": [],
   "source": [
    "# total iron responsive anemia burden\n",
    "iron_responsive_anemia_sequelae = [1004, 1005, 1006, 1008, 1009, 1010, 1012, 1013, \n",
    "                                   1014, 1016, 1017, 1018, 1020, 1021, 1022, 1024, 1025, 1026, \n",
    "                                   1028, 1029, 1030, 1032, 1033, 1034, 1361, 1364, 1367, 1373, 1376, \n",
    "                                   1379, 1385, 1388, 1391, 1397, 1400, 1403, 1409, 1412, 1415, 1421, \n",
    "                                   1424, 1427, 1433, 1436, 1439, 1445, 1448, 1451, 5213, 5216, 5219, \n",
    "                                   5222, 5225, 5228, 5237, 5240, 5243, 5246, 5249, 5252, 5261, 5264, \n",
    "                                   5267, 5270, 5273, 5276, 4985, 4988, 4991, 4994, 4997, 5000, 5009, \n",
    "                                   5012, 5015, 5678, 5681, 5684, 7214, 7217, 7220, 4952, 4955, 4958, \n",
    "                                   4961, 4964, 4967, 4976, 4979, 4982, 5627, 5630, 5633, 7202, 7205, \n",
    "                                   7208, 5393, 5396, 5399, 182, 183, 184, 240, 241, 242, 177, 178, \n",
    "                                   179, 144,145,146,172,173,174,525,526,527,1106,1107,1108,537,538,\n",
    "                                   539,206,207,208, 22989, 22990, 22991, 22992, 22993, 22999, 23000, \n",
    "                                   23001, 23002, 23003, 23009, 23010, 23011, 23012, 23013,\n",
    "                                   5567, 5570, 5573, 5579, 5582, 5585,\n",
    "                                   23030, 23031, 23032, 23034, 23035, 23036, 23038, 23039, 23040,\n",
    "                                   23042, 23043, 23044, 23046, 23047, 23048]\n",
    "\n",
    "ira_ylds = get_draws('sequela_id', iron_responsive_anemia_sequelae, \n",
    "                 source='como',\n",
    "                 location_id=location_ids, \n",
    "                 age_group_id=age_group_ids,\n",
    "                 sex_id=sex_ids,\n",
    "                 year_id=2019,\n",
    "                 measure_id=3,\n",
    "                 decomp_step='step5',\n",
    "                 gbd_round_id=6)\n",
    "ira_ylds = ira_ylds.groupby(['location_id','sex_id','age_group_id'], as_index=False).sum()\n",
    "\n",
    "pop = get_population(location_id=location_ids,\n",
    "                    age_group_id=age_group_ids,\n",
    "                    sex_id=sex_ids,\n",
    "                    gbd_round_id=6,\n",
    "                    year_id=2019,\n",
    "                    decomp_step='step4')\n",
    "\n",
    "ira_ylds = ira_ylds.merge(pop, on=['location_id','sex_id','age_group_id'])\n",
    "for i in list(range(0,1000)):\n",
    "    ira_ylds[f'draw_{i}'] = ira_ylds[f'draw_{i}'] * ira_ylds['population']\n",
    "ira_ylds = ira_ylds.groupby(['location_id']).sum()\n",
    "#for i in list(range(0,1000)):\n",
    "#    ira_ylds[f'draw_{i}'] = ira_ylds[f'draw_{i}'] / ira_ylds['population'] * 100_000\n",
    "ira_ylds = ira_ylds.drop(columns=[c for c in ira_ylds.columns if 'draw' not in c])\n",
    "ira_ylds.head()"
   ]
  },
  {
   "cell_type": "code",
   "execution_count": null,
   "metadata": {},
   "outputs": [],
   "source": [
    "ira_prev = get_draws('sequela_id', iron_responsive_anemia_sequelae, \n",
    "                 source='como',\n",
    "                 location_id=location_ids, \n",
    "                 age_group_id=age_group_ids,\n",
    "                 sex_id=sex_ids,\n",
    "                 year_id=2019,\n",
    "                 measure_id=5,\n",
    "                 decomp_step='step5',\n",
    "                 gbd_round_id=6)\n",
    "ira_prev = ira_prev.groupby(['location_id','sex_id','age_group_id'], as_index=False).sum()"
   ]
  },
  {
   "cell_type": "code",
   "execution_count": null,
   "metadata": {},
   "outputs": [],
   "source": [
    "def calculate_counterfactual_iron_responsive_anemia_prevalence(ira_prevalence_data,\n",
    "                                                              averted_anemia_data,\n",
    "                                                              location_ids,\n",
    "                                                              sex_ids,\n",
    "                                                              age_group_ids):\n",
    "    averted_anemia_prepped = averted_anemia_data.filter(['anemic']).reset_index()\n",
    "    averted_anemia_prepped = averted_anemia_prepped.pivot_table(index=['location_id','age_group_id','sex_id','year','coverage_level','vehicle'],\n",
    "                                                           columns='draw', values='anemic')\n",
    "    ira_diff = (ira_prevalence_data\n",
    "            .set_index(['location_id','age_group_id','sex_id'])\n",
    "            .drop(columns=['measure_id','sequela_id','year_id','metric_id'])\n",
    "            - averted_anemia_prepped)\n",
    "    pop = get_population(location_id=location_ids,\n",
    "                        age_group_id=age_group_ids,\n",
    "                        sex_id=sex_ids,\n",
    "                        year_id=2019,\n",
    "                        gbd_round_id=6,\n",
    "                        decomp_step='step4')\n",
    "    ira_diff = ira_diff.reset_index().merge(pop, on=['location_id','age_group_id','sex_id'])\n",
    "    for i in list(range(0,1000)):\n",
    "        ira_diff[f'draw_{i}'] = ira_diff[f'draw_{i}'] * ira_diff['population'] * 100\n",
    "    ira_diff = ira_diff.groupby(['location_id','year','vehicle','coverage_level']).sum()\n",
    "    for i in list(range(0,1000)):\n",
    "        ira_diff[f'draw_{i}'] = ira_diff[f'draw_{i}'] / ira_diff['population']\n",
    "    ira_diff = ira_diff.filter([c for c in ira_diff if 'draw' in c])\n",
    "    return ira_diff\n"
   ]
  },
  {
   "cell_type": "code",
   "execution_count": null,
   "metadata": {},
   "outputs": [],
   "source": [
    "anemia_diff = calculate_counterfactual_anemia_prevalence(location_ids, sex_ids, age_group_ids,\n",
    "                                              anemia)\n",
    "ira_diff = calculate_counterfactual_iron_responsive_anemia_prevalence(ira_prev,\n",
    "                                                              averted_anemia,\n",
    "                                                              location_ids,\n",
    "                                                              sex_ids,\n",
    "                                                              age_group_ids)\n",
    "anemia_diff['measure'] = 'anemia'\n",
    "ira_diff['measure'] = 'iron_responsive_anemia'\n",
    "deficiency_difference = pd.concat([anemia_diff.reset_index(), ira_diff.reset_index()], ignore_index=True, sort=True)\n",
    "deficiency_difference.to_pickle('results_raw/iron_deficiency_difference_wra.pkl')\n",
    "deficiency_difference.head()"
   ]
  },
  {
   "cell_type": "code",
   "execution_count": null,
   "metadata": {},
   "outputs": [],
   "source": [
    "anemia_pifs = anemia_counts_averted / (ira_ylds) * 100\n",
    "anemia_pifs.head()"
   ]
  },
  {
   "cell_type": "code",
   "execution_count": null,
   "metadata": {},
   "outputs": [],
   "source": [
    "anemia_pifs['measure'] = 'pif'\n",
    "anemia_rates_averted['measure'] = 'rates_averted'\n",
    "anemia_counts_averted['measure'] = 'counts_averted'\n",
    "\n",
    "anemia_wra_results = pd.concat([anemia_pifs, anemia_rates_averted, anemia_counts_averted], sort=True).reset_index()\n",
    "anemia_wra_results = anemia_wra_results.set_index([c for c in anemia_wra_results if 'draw' not in c])\n",
    "\n",
    "anemia_wra_results.to_pickle('results_raw/iron_anemia_wra.pkl')\n",
    "\n",
    "anemia_wra_results.head()"
   ]
  },
  {
   "cell_type": "markdown",
   "metadata": {},
   "source": [
    "# MATERNAL DISORDERS"
   ]
  },
  {
   "cell_type": "code",
   "execution_count": null,
   "metadata": {},
   "outputs": [],
   "source": [
    "rr = get_draws('rei_id',\n",
    "                 95,\n",
    "                 source='rr',\n",
    "                 location_id=location_ids,\n",
    "                 age_group_id=age_group_ids,\n",
    "                 sex_id=sex_ids,\n",
    "                 year_id=2019,\n",
    "                 gbd_round_id=6,\n",
    "                 decomp_step='step4'\n",
    "                 )\n",
    "rr = rr.loc[rr.cause_id==367].set_index(['sex_id','age_group_id'])\n",
    "rr = rr.drop(columns=[c for c in rr.columns if 'draw' not in c])\n",
    "rr"
   ]
  },
  {
   "cell_type": "code",
   "execution_count": null,
   "metadata": {},
   "outputs": [],
   "source": [
    "baseline_hgb = get_draws('modelable_entity_id',\n",
    "                    10487,\n",
    "                    source='epi',\n",
    "                    location_id=location_ids,\n",
    "                    age_group_id=age_group_ids,\n",
    "                    sex_id=sex_ids,\n",
    "                    year_id=2019,\n",
    "                    gbd_round_id=6,\n",
    "                    decomp_step='step4',\n",
    "                    status='best')\n",
    "baseline_hgb = baseline_hgb.set_index(['location_id','sex_id','age_group_id'])\n",
    "baseline_hgb = baseline_hgb.drop(columns=[c for c in baseline_hgb.columns if 'draw' not in c])\n",
    "baseline_hgb.head()"
   ]
  },
  {
   "cell_type": "code",
   "execution_count": null,
   "metadata": {},
   "outputs": [],
   "source": [
    "hgb_diff = (((mean_hgb - baseline_hgb) / 10)\n",
    "            .reset_index()\n",
    "            .set_index(['sex_id','age_group_id','location_id','coverage_level','year','vehicle']))\n",
    "hgb_diff.head()"
   ]
  },
  {
   "cell_type": "code",
   "execution_count": null,
   "metadata": {},
   "outputs": [],
   "source": [
    "import math\n",
    "frac_reduction = ((1 / math.e ** (np.log(rr) * hgb_diff))\n",
    "                  .reset_index()\n",
    "                  .set_index(['location_id','sex_id','age_group_id','coverage_level','year','vehicle']))\n",
    "frac_reduction.head()"
   ]
  },
  {
   "cell_type": "code",
   "execution_count": null,
   "metadata": {},
   "outputs": [],
   "source": [
    "maternal_ylds = get_draws('cause_id',\n",
    "                367,\n",
    "                source='como',\n",
    "                location_id=location_ids,\n",
    "                age_group_id=age_group_ids,\n",
    "                measure_id=3, #ylds\n",
    "                metric_id=3, #rate\n",
    "                sex_id=sex_ids,\n",
    "                year_id=2019,\n",
    "                gbd_round_id=6,\n",
    "                decomp_step='step5')\n",
    "pop = get_population(location_id=location_ids,\n",
    "                    sex_id=sex_ids,\n",
    "                    age_group_id=age_group_ids,\n",
    "                    gbd_round_id=6,\n",
    "                    decomp_step='step4')\n",
    "maternal_ylds = maternal_ylds.merge(pop, on=['location_id','sex_id','age_group_id'])\n",
    "for i in list(range(0,1000)):\n",
    "    maternal_ylds[f'draw_{i}'] = maternal_ylds[f'draw_{i}'] * maternal_ylds['population']\n",
    "\n",
    "maternal_ylds = maternal_ylds.set_index(['location_id','sex_id','age_group_id'])\n",
    "maternal_ylds = maternal_ylds.drop(columns=[c for c in maternal_ylds.columns if 'draw' not in c])\n",
    "maternal_ylds.head()"
   ]
  },
  {
   "cell_type": "code",
   "execution_count": null,
   "metadata": {},
   "outputs": [],
   "source": [
    "maternal_ylls = get_draws('cause_id',\n",
    "                367,\n",
    "                source='codcorrect',\n",
    "                location_id=location_ids,\n",
    "                age_group_id=age_group_ids,\n",
    "                measure_id=4,\n",
    "                metric_id=1,\n",
    "                sex_id=sex_ids,\n",
    "                year_id=2019,\n",
    "                gbd_round_id=6,\n",
    "                decomp_step='step5',\n",
    "                status='latest')\n",
    "\n",
    "maternal_ylls = maternal_ylls.set_index(['location_id','sex_id','age_group_id'])\n",
    "maternal_ylls = maternal_ylls.drop(columns=[c for c in maternal_ylls.columns if 'draw' not in c])\n",
    "maternal_ylls.head()"
   ]
  },
  {
   "cell_type": "code",
   "execution_count": null,
   "metadata": {},
   "outputs": [],
   "source": [
    "maternal_dalys = maternal_ylds + maternal_ylls\n",
    "maternal_dalys.head()"
   ]
  },
  {
   "cell_type": "code",
   "execution_count": null,
   "metadata": {},
   "outputs": [],
   "source": [
    "counterfactual_maternal_dalys = maternal_dalys * frac_reduction\n",
    "counterfactual_maternal_dalys = (counterfactual_maternal_dalys.groupby(['location_id','vehicle','coverage_level','year']).sum())\n",
    "maternal_counts_averted = maternal_dalys.groupby('location_id').sum() - counterfactual_maternal_dalys\n",
    "maternal_counts_averted.head()"
   ]
  },
  {
   "cell_type": "code",
   "execution_count": null,
   "metadata": {},
   "outputs": [],
   "source": [
    "maternal_rates_averted = (maternal_counts_averted.reset_index()\n",
    "                 .merge(pop.groupby('location_id', as_index=False).sum().drop(columns='year_id'), \n",
    "                        on='location_id'))\n",
    "for i in list(range(0,1000)):\n",
    "    maternal_rates_averted[f'draw_{i}'] = (maternal_rates_averted[f'draw_{i}'] / maternal_rates_averted['population']) * 100_000\n",
    "maternal_rates_averted = maternal_rates_averted.set_index(['location_id','vehicle','coverage_level','year'])\n",
    "maternal_rates_averted = maternal_rates_averted.drop(columns=[c for c in maternal_rates_averted.columns if 'draw' not in c])\n",
    "maternal_rates_averted.head()"
   ]
  },
  {
   "cell_type": "code",
   "execution_count": null,
   "metadata": {},
   "outputs": [],
   "source": [
    "iron_attributable_maternal_disorder_burden = get_draws(gbd_id_type=['rei_id','cause_id'],\n",
    "                                                      gbd_id=[95,367],\n",
    "                                                      location_id=location_ids,\n",
    "                                                      sex_id=sex_ids,\n",
    "                                                      age_group_id=age_group_ids,\n",
    "                                                      measure_id=2, # dalys\n",
    "                                                      metric_id=1, # number\n",
    "                                                      source='burdenator',\n",
    "                                                      decomp_step='step5',\n",
    "                                                      gbd_round_id=6,\n",
    "                                                      year_id=2019)\n",
    "iron_attributable_maternal_disorder_burden = iron_attributable_maternal_disorder_burden.groupby('location_id').sum()\n",
    "iron_attributable_maternal_disorder_burden = iron_attributable_maternal_disorder_burden.drop(columns=[c for c in iron_attributable_maternal_disorder_burden.columns if 'draw' not in c])\n",
    "#iron_attributable_maternal_disorder_burden = (iron_attributable_maternal_disorder_burden.reset_index()\n",
    "#                                              .merge(pop.groupby('location_id').sum().reset_index(),\n",
    "#                                                     on='location_id'))\n",
    "#for i in list(range(0,1000)):\n",
    "#    iron_attributable_maternal_disorder_burden[f'draw_{i}'] = iron_attributable_maternal_disorder_burden[f'draw_{i}'] / iron_attributable_maternal_disorder_burden['population']\n",
    "#iron_attributable_maternal_disorder_burden = iron_attributable_maternal_disorder_burden.set_index(['location_id'])\n",
    "iron_attributable_maternal_disorder_burden = iron_attributable_maternal_disorder_burden.drop(columns=[c for c in iron_attributable_maternal_disorder_burden.columns if 'draw' not in c])\n",
    "\n",
    "iron_attributable_maternal_disorder_burden"
   ]
  },
  {
   "cell_type": "code",
   "execution_count": null,
   "metadata": {},
   "outputs": [],
   "source": [
    "iron_attributable_maternal_disorder_burden.to_pickle('results_raw/iron_maternal_dalys.pkl')"
   ]
  },
  {
   "cell_type": "code",
   "execution_count": null,
   "metadata": {},
   "outputs": [],
   "source": [
    "ira_ylds.to_pickle('results_raw/wra_ira_dalys.pkl')"
   ]
  },
  {
   "cell_type": "code",
   "execution_count": null,
   "metadata": {},
   "outputs": [],
   "source": [
    "maternal_disorders_pif = maternal_counts_averted / (iron_attributable_maternal_disorder_burden) * 100\n",
    "maternal_disorders_pif.head()"
   ]
  },
  {
   "cell_type": "code",
   "execution_count": null,
   "metadata": {},
   "outputs": [],
   "source": [
    "maternal_disorders_pif['measure'] = 'pif'\n",
    "maternal_rates_averted['measure'] = 'rates_averted'\n",
    "maternal_counts_averted['measure'] = 'counts_averted'\n",
    "\n",
    "maternal_disorders_wra_results = pd.concat([maternal_disorders_pif, maternal_rates_averted, maternal_counts_averted], sort=True).reset_index()\n",
    "maternal_disorders_wra_results = maternal_disorders_wra_results.set_index([c for c in maternal_disorders_wra_results if 'draw' not in c])\n",
    "\n",
    "maternal_disorders_wra_results.to_pickle('results_raw/iron_maternal_disorders_wra.pkl')\n",
    "\n",
    "maternal_disorders_wra_results.head()"
   ]
  },
  {
   "cell_type": "markdown",
   "metadata": {},
   "source": [
    "# OVERALL"
   ]
  },
  {
   "cell_type": "code",
   "execution_count": null,
   "metadata": {},
   "outputs": [],
   "source": [
    "overall_counts_averted = anemia_counts_averted + maternal_counts_averted\n",
    "overall_rates_averted = anemia_rates_averted + maternal_rates_averted\n",
    "overall_counts_averted.head()"
   ]
  },
  {
   "cell_type": "code",
   "execution_count": null,
   "metadata": {},
   "outputs": [],
   "source": [
    "overall_pif = overall_counts_averted / ((ira_ylds + iron_attributable_maternal_disorder_burden)) * 100\n",
    "overall_pif.head()"
   ]
  },
  {
   "cell_type": "code",
   "execution_count": null,
   "metadata": {},
   "outputs": [],
   "source": [
    "overall_pif['measure'] = 'pif'\n",
    "overall_counts_averted['measure'] = 'counts_averted'\n",
    "overall_rates_averted['measure'] = 'rates_averted'\n",
    "iron_wra_results = pd.concat([overall_pif.reset_index(),\n",
    "                         overall_counts_averted.reset_index(),\n",
    "                         overall_rates_averted.reset_index()],\n",
    "                        ignore_index=True)\n",
    "iron_wra_results.to_pickle('results_raw/iron_wra_industry_wheat_update.pkl')"
   ]
  },
  {
   "cell_type": "code",
   "execution_count": null,
   "metadata": {},
   "outputs": [],
   "source": [
    "test = overall_pif.mean(axis=1).reset_index()\n",
    "test.loc[test.location_id==214]"
   ]
  },
  {
   "cell_type": "code",
   "execution_count": null,
   "metadata": {},
   "outputs": [],
   "source": []
  }
 ],
 "metadata": {
  "kernelspec": {
   "display_name": "Python 3",
   "language": "python",
   "name": "python3"
  },
  "language_info": {
   "codemirror_mode": {
    "name": "ipython",
    "version": 3
   },
   "file_extension": ".py",
   "mimetype": "text/x-python",
   "name": "python",
   "nbconvert_exporter": "python",
   "pygments_lexer": "ipython3",
   "version": "3.7.0"
  }
 },
 "nbformat": 4,
 "nbformat_minor": 4
}
