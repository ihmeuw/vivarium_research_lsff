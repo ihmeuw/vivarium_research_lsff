{
 "cells": [
  {
   "cell_type": "code",
   "execution_count": 1,
   "id": "opposite-sending",
   "metadata": {},
   "outputs": [
    {
     "name": "stdout",
     "output_type": "stream",
     "text": [
      "Fri Apr  9 03:13:19 PDT 2021\n",
      "ndbs\n",
      "/ihme/homes/ndbs/vivarium_research_lsff/nanosim_models\n"
     ]
    }
   ],
   "source": [
    "import pandas as pd, numpy as np\n",
    "from tqdm import tqdm\n",
    "\n",
    "import data_processing\n",
    "import lbwsg_boe\n",
    "# import lbwsg\n",
    "# import lsff_interventions\n",
    "# import demography\n",
    "\n",
    "!date\n",
    "!whoami\n",
    "!pwd"
   ]
  },
  {
   "cell_type": "code",
   "execution_count": 2,
   "id": "musical-negotiation",
   "metadata": {},
   "outputs": [
    {
     "name": "stderr",
     "output_type": "stream",
     "text": [
      "/ihme/homes/ndbs/miniconda3/envs/lsff-iron-38/lib/python3.8/site-packages/ipykernel/ipkernel.py:283: DeprecationWarning: `should_run_async` will not call `transform_cell` automatically in the future. Please pass the result to `transformed_cell` argument and any exception that happen during thetransform in `preprocessing_exc_tuple` in IPython 7.17 and above.\n",
      "  and should_run_async(code)\n"
     ]
    }
   ],
   "source": [
    "vivarium_research_lsff_path = '/ihme/homes/ndbs/vivarium_research_lsff'"
   ]
  },
  {
   "cell_type": "code",
   "execution_count": 3,
   "id": "divided-necklace",
   "metadata": {},
   "outputs": [],
   "source": [
    "!ls results2/"
   ]
  },
  {
   "cell_type": "code",
   "execution_count": 4,
   "id": "hydraulic-scheduling",
   "metadata": {},
   "outputs": [],
   "source": [
    "%load_ext autoreload\n",
    "%autoreload 2"
   ]
  },
  {
   "cell_type": "code",
   "execution_count": 5,
   "id": "distributed-paradise",
   "metadata": {},
   "outputs": [
    {
     "data": {
      "text/html": [
       "<div>\n",
       "<style scoped>\n",
       "    .dataframe tbody tr th:only-of-type {\n",
       "        vertical-align: middle;\n",
       "    }\n",
       "\n",
       "    .dataframe tbody tr th {\n",
       "        vertical-align: top;\n",
       "    }\n",
       "\n",
       "    .dataframe thead th {\n",
       "        text-align: right;\n",
       "    }\n",
       "</style>\n",
       "<table border=\"1\" class=\"dataframe\">\n",
       "  <thead>\n",
       "    <tr style=\"text-align: right;\">\n",
       "      <th></th>\n",
       "      <th>location_name</th>\n",
       "      <th>location_id</th>\n",
       "    </tr>\n",
       "  </thead>\n",
       "  <tbody>\n",
       "    <tr>\n",
       "      <th>0</th>\n",
       "      <td>Angola</td>\n",
       "      <td>168</td>\n",
       "    </tr>\n",
       "    <tr>\n",
       "      <th>1</th>\n",
       "      <td>Bangladesh</td>\n",
       "      <td>161</td>\n",
       "    </tr>\n",
       "    <tr>\n",
       "      <th>2</th>\n",
       "      <td>Burkina Faso</td>\n",
       "      <td>201</td>\n",
       "    </tr>\n",
       "    <tr>\n",
       "      <th>3</th>\n",
       "      <td>Cameroon</td>\n",
       "      <td>202</td>\n",
       "    </tr>\n",
       "    <tr>\n",
       "      <th>4</th>\n",
       "      <td>China</td>\n",
       "      <td>6</td>\n",
       "    </tr>\n",
       "    <tr>\n",
       "      <th>5</th>\n",
       "      <td>Côte d'Ivoire</td>\n",
       "      <td>205</td>\n",
       "    </tr>\n",
       "    <tr>\n",
       "      <th>6</th>\n",
       "      <td>Democratic Republic of the Congo</td>\n",
       "      <td>171</td>\n",
       "    </tr>\n",
       "    <tr>\n",
       "      <th>7</th>\n",
       "      <td>Egypt</td>\n",
       "      <td>141</td>\n",
       "    </tr>\n",
       "    <tr>\n",
       "      <th>8</th>\n",
       "      <td>Ethiopia</td>\n",
       "      <td>179</td>\n",
       "    </tr>\n",
       "    <tr>\n",
       "      <th>9</th>\n",
       "      <td>Ghana</td>\n",
       "      <td>207</td>\n",
       "    </tr>\n",
       "    <tr>\n",
       "      <th>10</th>\n",
       "      <td>India</td>\n",
       "      <td>163</td>\n",
       "    </tr>\n",
       "    <tr>\n",
       "      <th>11</th>\n",
       "      <td>Indonesia</td>\n",
       "      <td>11</td>\n",
       "    </tr>\n",
       "    <tr>\n",
       "      <th>12</th>\n",
       "      <td>Kenya</td>\n",
       "      <td>180</td>\n",
       "    </tr>\n",
       "    <tr>\n",
       "      <th>13</th>\n",
       "      <td>Madagascar</td>\n",
       "      <td>181</td>\n",
       "    </tr>\n",
       "    <tr>\n",
       "      <th>14</th>\n",
       "      <td>Mozambique</td>\n",
       "      <td>184</td>\n",
       "    </tr>\n",
       "    <tr>\n",
       "      <th>15</th>\n",
       "      <td>Myanmar</td>\n",
       "      <td>15</td>\n",
       "    </tr>\n",
       "    <tr>\n",
       "      <th>16</th>\n",
       "      <td>Nepal</td>\n",
       "      <td>164</td>\n",
       "    </tr>\n",
       "    <tr>\n",
       "      <th>17</th>\n",
       "      <td>Niger</td>\n",
       "      <td>213</td>\n",
       "    </tr>\n",
       "    <tr>\n",
       "      <th>18</th>\n",
       "      <td>Nigeria</td>\n",
       "      <td>214</td>\n",
       "    </tr>\n",
       "    <tr>\n",
       "      <th>19</th>\n",
       "      <td>Pakistan</td>\n",
       "      <td>165</td>\n",
       "    </tr>\n",
       "    <tr>\n",
       "      <th>20</th>\n",
       "      <td>South Africa</td>\n",
       "      <td>196</td>\n",
       "    </tr>\n",
       "    <tr>\n",
       "      <th>21</th>\n",
       "      <td>Sudan</td>\n",
       "      <td>522</td>\n",
       "    </tr>\n",
       "    <tr>\n",
       "      <th>22</th>\n",
       "      <td>Uganda</td>\n",
       "      <td>190</td>\n",
       "    </tr>\n",
       "    <tr>\n",
       "      <th>23</th>\n",
       "      <td>United Republic of Tanzania</td>\n",
       "      <td>189</td>\n",
       "    </tr>\n",
       "    <tr>\n",
       "      <th>24</th>\n",
       "      <td>Viet Nam</td>\n",
       "      <td>20</td>\n",
       "    </tr>\n",
       "  </tbody>\n",
       "</table>\n",
       "</div>"
      ],
      "text/plain": [
       "                       location_name  location_id\n",
       "0                             Angola          168\n",
       "1                         Bangladesh          161\n",
       "2                       Burkina Faso          201\n",
       "3                           Cameroon          202\n",
       "4                              China            6\n",
       "5                      Côte d'Ivoire          205\n",
       "6   Democratic Republic of the Congo          171\n",
       "7                              Egypt          141\n",
       "8                           Ethiopia          179\n",
       "9                              Ghana          207\n",
       "10                             India          163\n",
       "11                         Indonesia           11\n",
       "12                             Kenya          180\n",
       "13                        Madagascar          181\n",
       "14                        Mozambique          184\n",
       "15                           Myanmar           15\n",
       "16                             Nepal          164\n",
       "17                             Niger          213\n",
       "18                           Nigeria          214\n",
       "19                          Pakistan          165\n",
       "20                      South Africa          196\n",
       "21                             Sudan          522\n",
       "22                            Uganda          190\n",
       "23       United Republic of Tanzania          189\n",
       "24                          Viet Nam           20"
      ]
     },
     "execution_count": 5,
     "metadata": {},
     "output_type": "execute_result"
    }
   ],
   "source": [
    "locations = pd.read_csv('../gbd_data_summary/input_data/bmgf_top_25_countries_20201203.csv')\n",
    "location_ids = locations.location_id.to_list()\n",
    "locations"
   ]
  },
  {
   "cell_type": "code",
   "execution_count": 6,
   "id": "green-knitting",
   "metadata": {},
   "outputs": [
    {
     "name": "stderr",
     "output_type": "stream",
     "text": [
      "/ihme/homes/ndbs/miniconda3/envs/lsff-iron-38/lib/python3.8/site-packages/ipykernel/ipkernel.py:283: DeprecationWarning: `should_run_async` will not call `transform_cell` automatically in the future. Please pass the result to `transformed_cell` argument and any exception that happen during thetransform in `preprocessing_exc_tuple` in IPython 7.17 and above.\n",
      "  and should_run_async(code)\n",
      "100%|██████████| 5/5 [00:00<00:00, 14246.96it/s]"
     ]
    },
    {
     "name": "stdout",
     "output_type": "stream",
     "text": [
      "Nigeria\n",
      "Pakistan\n",
      "South Africa\n",
      "Sudan\n",
      "Uganda\n"
     ]
    },
    {
     "name": "stderr",
     "output_type": "stream",
     "text": [
      "\n"
     ]
    }
   ],
   "source": [
    "for location in tqdm(locations.iloc[18:23, 0]):\n",
    "    print(location)"
   ]
  },
  {
   "cell_type": "code",
   "execution_count": 7,
   "id": "chubby-nightlife",
   "metadata": {},
   "outputs": [
    {
     "name": "stderr",
     "output_type": "stream",
     "text": [
      "\r",
      "  0%|          | 0/5 [00:00<?, ?it/s]"
     ]
    },
    {
     "name": "stdout",
     "output_type": "stream",
     "text": [
      "Nigeria\n"
     ]
    },
    {
     "name": "stderr",
     "output_type": "stream",
     "text": [
      "/ihme/homes/ndbs/miniconda3/envs/lsff-iron-38/lib/python3.8/site-packages/tables/atom.py:1224: DeprecationWarning: tostring() is deprecated. Use tobytes() instead.\n",
      "  return pickle.loads(array.tostring())\n",
      " 20%|██        | 1/5 [2:00:46<8:03:06, 7246.74s/it]"
     ]
    },
    {
     "name": "stdout",
     "output_type": "stream",
     "text": [
      "Pakistan\n"
     ]
    },
    {
     "name": "stderr",
     "output_type": "stream",
     "text": [
      "/ihme/homes/ndbs/miniconda3/envs/lsff-iron-38/lib/python3.8/site-packages/tables/atom.py:1224: DeprecationWarning: tostring() is deprecated. Use tobytes() instead.\n",
      "  return pickle.loads(array.tostring())\n",
      " 40%|████      | 2/5 [3:01:38<4:16:35, 5131.98s/it]"
     ]
    },
    {
     "name": "stdout",
     "output_type": "stream",
     "text": [
      "South Africa\n"
     ]
    },
    {
     "name": "stderr",
     "output_type": "stream",
     "text": [
      "/ihme/homes/ndbs/miniconda3/envs/lsff-iron-38/lib/python3.8/site-packages/tables/atom.py:1224: DeprecationWarning: tostring() is deprecated. Use tobytes() instead.\n",
      "  return pickle.loads(array.tostring())\n",
      " 60%|██████    | 3/5 [5:04:45<3:25:23, 6161.84s/it]"
     ]
    },
    {
     "name": "stdout",
     "output_type": "stream",
     "text": [
      "Sudan\n"
     ]
    },
    {
     "name": "stderr",
     "output_type": "stream",
     "text": [
      "/ihme/homes/ndbs/miniconda3/envs/lsff-iron-38/lib/python3.8/site-packages/tables/atom.py:1224: DeprecationWarning: tostring() is deprecated. Use tobytes() instead.\n",
      "  return pickle.loads(array.tostring())\n",
      " 80%|████████  | 4/5 [7:06:51<1:50:21, 6621.35s/it]/ihme/homes/ndbs/miniconda3/envs/lsff-iron-38/lib/python3.8/site-packages/tables/atom.py:1224: DeprecationWarning: tostring() is deprecated. Use tobytes() instead.\n",
      "  return pickle.loads(array.tostring())\n"
     ]
    },
    {
     "name": "stdout",
     "output_type": "stream",
     "text": [
      "Uganda\n"
     ]
    },
    {
     "name": "stderr",
     "output_type": "stream",
     "text": [
      "100%|██████████| 5/5 [9:08:47<00:00, 6585.44s/it]  "
     ]
    },
    {
     "name": "stdout",
     "output_type": "stream",
     "text": [
      "Côte d'Ivoire_parallel.txt\r\n",
      "Democratic Republic of the Congo_parallel.txt\r\n",
      "Egypt_parallel.txt\r\n",
      "Ethiopia_parallel.txt\r\n",
      "Ghana_parallel.txt\r\n",
      "India_parallel.txt\r\n",
      "Indonesia_parallel.txt\r\n",
      "iron_bw_results__Democratic Republic of the Congo.csv\r\n",
      "iron_bw_results__Egypt.csv\r\n",
      "iron_bw_results__Ethiopia.csv\r\n",
      "iron_bw_results__Ghana.csv\r\n",
      "iron_bw_results__Indonesia.csv\r\n",
      "iron_bw_results__Kenya.csv\r\n",
      "iron_bw_results__Nigeria.csv\r\n",
      "iron_bw_results__Pakistan.csv\r\n",
      "iron_bw_results__South Africa.csv\r\n",
      "iron_bw_results__Sudan.csv\r\n",
      "iron_bw_results__Uganda.csv\r\n",
      "Kenya_parallel.txt\r\n",
      "Nigeria_parallel.txt\r\n",
      "Pakistan_parallel.txt\r\n",
      "South Africa_parallel.txt\r\n",
      "Sudan_parallel.txt\r\n",
      "Uganda_parallel.txt\r\n"
     ]
    },
    {
     "name": "stderr",
     "output_type": "stream",
     "text": [
      "\n"
     ]
    },
    {
     "name": "stdout",
     "output_type": "stream",
     "text": [
      "CPU times: user 8h 36min 55s, sys: 55min 46s, total: 9h 32min 41s\n",
      "Wall time: 9h 8min 47s\n"
     ]
    }
   ],
   "source": [
    "%%time\n",
    "for location in tqdm(locations.iloc[18:23, 0]):\n",
    "    print(location)\n",
    "    lbwsg_boe.main(\n",
    "    vivarium_research_lsff_path,\n",
    "    \"results2\",\n",
    "    location, 80_000, random_seed=3456, num_draws=250, take_mean=False\n",
    "    )\n",
    "!ls results2/"
   ]
  },
  {
   "cell_type": "markdown",
   "id": "original-restaurant",
   "metadata": {},
   "source": [
    "# Woo hoo! Do more locations"
   ]
  },
  {
   "cell_type": "code",
   "execution_count": 8,
   "id": "timely-metropolitan",
   "metadata": {},
   "outputs": [
    {
     "name": "stderr",
     "output_type": "stream",
     "text": [
      "/ihme/homes/ndbs/miniconda3/envs/lsff-iron-38/lib/python3.8/site-packages/ipykernel/ipkernel.py:283: DeprecationWarning: `should_run_async` will not call `transform_cell` automatically in the future. Please pass the result to `transformed_cell` argument and any exception that happen during thetransform in `preprocessing_exc_tuple` in IPython 7.17 and above.\n",
      "  and should_run_async(code)\n",
      "100%|██████████| 3/3 [00:00<00:00, 10424.95it/s]"
     ]
    },
    {
     "name": "stdout",
     "output_type": "stream",
     "text": [
      "Niger\n",
      "Nepal\n",
      "Myanmar\n"
     ]
    },
    {
     "name": "stderr",
     "output_type": "stream",
     "text": [
      "\n"
     ]
    }
   ],
   "source": [
    "for location in tqdm(locations.iloc[[17,16,15], 0]):\n",
    "    print(location)"
   ]
  },
  {
   "cell_type": "code",
   "execution_count": 9,
   "id": "alike-moral",
   "metadata": {},
   "outputs": [
    {
     "name": "stderr",
     "output_type": "stream",
     "text": [
      "\r",
      "  0%|          | 0/3 [00:00<?, ?it/s]"
     ]
    },
    {
     "name": "stdout",
     "output_type": "stream",
     "text": [
      "Niger\n"
     ]
    },
    {
     "name": "stderr",
     "output_type": "stream",
     "text": [
      "/ihme/homes/ndbs/miniconda3/envs/lsff-iron-38/lib/python3.8/site-packages/tables/atom.py:1224: DeprecationWarning: tostring() is deprecated. Use tobytes() instead.\n",
      "  return pickle.loads(array.tostring())\n",
      " 33%|███▎      | 1/3 [2:00:54<4:01:48, 7254.17s/it]"
     ]
    },
    {
     "name": "stdout",
     "output_type": "stream",
     "text": [
      "Nepal\n"
     ]
    },
    {
     "name": "stderr",
     "output_type": "stream",
     "text": [
      "/ihme/homes/ndbs/miniconda3/envs/lsff-iron-38/lib/python3.8/site-packages/tables/atom.py:1224: DeprecationWarning: tostring() is deprecated. Use tobytes() instead.\n",
      "  return pickle.loads(array.tostring())\n",
      " 67%|██████▋   | 2/3 [3:01:54<1:25:39, 5139.95s/it]"
     ]
    },
    {
     "name": "stdout",
     "output_type": "stream",
     "text": [
      "Myanmar\n"
     ]
    },
    {
     "name": "stderr",
     "output_type": "stream",
     "text": [
      "/ihme/homes/ndbs/miniconda3/envs/lsff-iron-38/lib/python3.8/site-packages/tables/atom.py:1224: DeprecationWarning: tostring() is deprecated. Use tobytes() instead.\n",
      "  return pickle.loads(array.tostring())\n",
      "100%|██████████| 3/3 [4:01:33<00:00, 4831.22s/it]  "
     ]
    },
    {
     "name": "stdout",
     "output_type": "stream",
     "text": [
      "Cameroon_parallel.txt\n",
      "China_parallel.txt\n",
      "Côte d'Ivoire_parallel.txt\n",
      "Democratic Republic of the Congo_parallel.txt\n",
      "Egypt_parallel.txt\n",
      "Ethiopia_parallel.txt\n",
      "Ghana_parallel.txt\n",
      "India_parallel.txt\n",
      "Indonesia_parallel.txt\n",
      "iron_bw_results__China.csv\n",
      "iron_bw_results__Côte d'Ivoire.csv\n",
      "iron_bw_results__Democratic Republic of the Congo.csv\n",
      "iron_bw_results__Egypt.csv\n",
      "iron_bw_results__Ethiopia.csv\n",
      "iron_bw_results__Ghana.csv\n",
      "iron_bw_results__India.csv\n",
      "iron_bw_results__Indonesia.csv\n",
      "iron_bw_results__Kenya.csv\n",
      "iron_bw_results__Myanmar.csv\n",
      "iron_bw_results__Nepal.csv\n",
      "iron_bw_results__Niger.csv\n",
      "iron_bw_results__Nigeria.csv\n",
      "iron_bw_results__Pakistan.csv\n",
      "iron_bw_results__South Africa.csv\n",
      "iron_bw_results__Sudan.csv\n",
      "iron_bw_results__Uganda.csv\n",
      "iron_bw_results__Viet Nam.csv\n",
      "Kenya_parallel.txt\n",
      "Myanmar_parallel.txt\n",
      "Nepal_parallel.txt\n",
      "Nigeria_parallel.txt\n",
      "Niger_parallel.txt\n",
      "Pakistan_parallel.txt\n",
      "South Africa_parallel.txt\n",
      "Sudan_parallel.txt\n",
      "Uganda_parallel.txt\n",
      "United Republic of Tanzania_parallel.txt\n",
      "Viet Nam_parallel.txt\n",
      "CPU times: user 3h 47min 37s, sys: 23min 28s, total: 4h 11min 6s\n",
      "Wall time: 4h 1min 33s\n"
     ]
    },
    {
     "name": "stderr",
     "output_type": "stream",
     "text": [
      "\n"
     ]
    }
   ],
   "source": [
    "%%time\n",
    "for location in tqdm(locations.iloc[[17,16,15], 0]):\n",
    "    print(location)\n",
    "    lbwsg_boe.main(\n",
    "    vivarium_research_lsff_path,\n",
    "    \"results2\",\n",
    "    location, 80_000, random_seed=3456, num_draws=250, take_mean=False\n",
    "    )\n",
    "!ls results2/"
   ]
  },
  {
   "cell_type": "code",
   "execution_count": null,
   "id": "chemical-translator",
   "metadata": {},
   "outputs": [],
   "source": []
  }
 ],
 "metadata": {
  "kernelspec": {
   "display_name": "Python 3",
   "language": "python",
   "name": "python3"
  },
  "language_info": {
   "codemirror_mode": {
    "name": "ipython",
    "version": 3
   },
   "file_extension": ".py",
   "mimetype": "text/x-python",
   "name": "python",
   "nbconvert_exporter": "python",
   "pygments_lexer": "ipython3",
   "version": "3.8.5"
  }
 },
 "nbformat": 4,
 "nbformat_minor": 5
}
