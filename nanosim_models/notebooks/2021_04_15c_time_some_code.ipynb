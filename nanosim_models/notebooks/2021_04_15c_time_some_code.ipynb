{
 "cells": [
  {
   "cell_type": "code",
   "execution_count": 3,
   "id": "noble-wrist",
   "metadata": {},
   "outputs": [
    {
     "name": "stdout",
     "output_type": "stream",
     "text": [
      "/ihme/homes/ndbs/vivarium_research_lsff\n",
      "Thu Apr 15 17:20:11 PDT 2021\n",
      "ndbs\n",
      "/ihme/homes/ndbs/vivarium_research_lsff/nanosim_models\n"
     ]
    }
   ],
   "source": [
    "import pandas as pd, numpy as np\n",
    "import matplotlib.pyplot as plt\n",
    "\n",
    "from scipy import stats\n",
    "# from scipy.interpolate import \\\n",
    "#     interp2d, griddata, RegularGridInterpolator, RectBivariateSpline, \\\n",
    "#     NearestNDInterpolator, LinearNDInterpolator\n",
    "\n",
    "from vivarium import Artifact # This is causing my kernel to die!!! Memory leak?\n",
    "import gbd_mapping as gbd\n",
    "from db_queries import get_ids\n",
    "from get_draws.api import get_draws\n",
    "\n",
    "from vivarium_helpers.id_helper import *\n",
    "\n",
    "# Add path to vivarium_research_lsff to sys.path so imports will work from sibling folders\n",
    "import sys, os.path\n",
    "# Note: Assuming pwd = vivarium_research_lsff/nanosim_models\n",
    "vivarium_research_lsff_path = os.path.abspath(\"..\")\n",
    "print(vivarium_research_lsff_path)\n",
    "sys.path.append(vivarium_research_lsff_path)\n",
    "\n",
    "import lbwsg\n",
    "import lbwsg_boe # Requires path to vivarium_research_lsff to be in sys.path\n",
    "import data_processing # Requires path to vivarium_research_lsff to be in sys.path\n",
    "import lsff_interventions\n",
    "import demography\n",
    "import test_lbwsg\n",
    "import lbwsg_plots\n",
    "import functions_for_all_nutrients as ffan\n",
    "\n",
    "\n",
    "# Assumes the path to vivarium_research_lsff is in sys.path\n",
    "# from gbd_data_summary import pull_gbd2019_data as pgd, rank_countries_by_stunting as rbs\n",
    "\n",
    "!date\n",
    "!whoami\n",
    "!pwd"
   ]
  },
  {
   "cell_type": "code",
   "execution_count": 4,
   "id": "classical-neutral",
   "metadata": {},
   "outputs": [],
   "source": [
    "%load_ext autoreload\n",
    "%autoreload 2"
   ]
  },
  {
   "cell_type": "code",
   "execution_count": 5,
   "id": "sorted-tablet",
   "metadata": {},
   "outputs": [
    {
     "name": "stderr",
     "output_type": "stream",
     "text": [
      "/ihme/homes/ndbs/miniconda3/envs/lsff-iron-38/lib/python3.8/site-packages/ipykernel/ipkernel.py:283: DeprecationWarning: `should_run_async` will not call `transform_cell` automatically in the future. Please pass the result to `transformed_cell` argument and any exception that happen during thetransform in `preprocessing_exc_tuple` in IPython 7.17 and above.\n",
      "  and should_run_async(code)\n",
      "/ihme/homes/ndbs/miniconda3/envs/lsff-iron-38/lib/python3.8/site-packages/tables/atom.py:1224: DeprecationWarning: tostring() is deprecated. Use tobytes() instead.\n",
      "  return pickle.loads(array.tostring())\n"
     ]
    },
    {
     "data": {
      "text/plain": [
       "<lbwsg_boe.IronBirthweightCalculator at 0x1499b2fa3940>"
      ]
     },
     "execution_count": 5,
     "metadata": {},
     "output_type": "execute_result"
    }
   ],
   "source": [
    "draws=range(50)\n",
    "calc = lbwsg_boe.IronBirthweightCalculator.from_parameters(\n",
    "    'Nigeria',\n",
    "    'wheat flour',\n",
    "    draws,\n",
    ")\n",
    "calc"
   ]
  },
  {
   "cell_type": "code",
   "execution_count": 7,
   "id": "athletic-twist",
   "metadata": {},
   "outputs": [
    {
     "name": "stderr",
     "output_type": "stream",
     "text": [
      "/ihme/homes/ndbs/miniconda3/envs/lsff-iron-38/lib/python3.8/site-packages/ipykernel/ipkernel.py:283: DeprecationWarning: `should_run_async` will not call `transform_cell` automatically in the future. Please pass the result to `transformed_cell` argument and any exception that happen during thetransform in `preprocessing_exc_tuple` in IPython 7.17 and above.\n",
      "  and should_run_async(code)\n"
     ]
    },
    {
     "name": "stdout",
     "output_type": "stream",
     "text": [
      "466 ms ± 13.6 ms per loop (mean ± std. dev. of 7 runs, 1 loop each)\n"
     ]
    }
   ],
   "source": [
    "ages = [4/365, 14/365]\n",
    "num_simulants=10_000\n",
    "%timeit calc.initialize_population_tables(num_simulants, ages)"
   ]
  },
  {
   "cell_type": "code",
   "execution_count": 8,
   "id": "downtown-jewel",
   "metadata": {},
   "outputs": [
    {
     "name": "stdout",
     "output_type": "stream",
     "text": [
      "601 ms ± 13.1 ms per loop (mean ± std. dev. of 7 runs, 1 loop each)\n"
     ]
    }
   ],
   "source": [
    "%timeit calc.assign_lbwsg_exposure()"
   ]
  },
  {
   "cell_type": "code",
   "execution_count": 9,
   "id": "announced-capture",
   "metadata": {},
   "outputs": [
    {
     "name": "stderr",
     "output_type": "stream",
     "text": [
      "/ihme/homes/ndbs/miniconda3/envs/lsff-iron-38/lib/python3.8/site-packages/ipykernel/ipkernel.py:283: DeprecationWarning: `should_run_async` will not call `transform_cell` automatically in the future. Please pass the result to `transformed_cell` argument and any exception that happen during thetransform in `preprocessing_exc_tuple` in IPython 7.17 and above.\n",
      "  and should_run_async(code)\n"
     ]
    },
    {
     "name": "stdout",
     "output_type": "stream",
     "text": [
      "2.26 s ± 39.9 ms per loop (mean ± std. dev. of 7 runs, 1 loop each)\n"
     ]
    }
   ],
   "source": [
    "%timeit calc.assign_iron_treatment_deleted_birthweights()"
   ]
  },
  {
   "cell_type": "code",
   "execution_count": 10,
   "id": "exclusive-barrel",
   "metadata": {},
   "outputs": [
    {
     "name": "stdout",
     "output_type": "stream",
     "text": [
      "2.47 s ± 72.8 ms per loop (mean ± std. dev. of 7 runs, 1 loop each)\n"
     ]
    }
   ],
   "source": [
    "%timeit calc.assign_iron_treated_birthweights()"
   ]
  },
  {
   "cell_type": "code",
   "execution_count": 11,
   "id": "increasing-power",
   "metadata": {},
   "outputs": [
    {
     "name": "stderr",
     "output_type": "stream",
     "text": [
      "/ihme/homes/ndbs/miniconda3/envs/lsff-iron-38/lib/python3.8/site-packages/ipykernel/ipkernel.py:283: DeprecationWarning: `should_run_async` will not call `transform_cell` automatically in the future. Please pass the result to `transformed_cell` argument and any exception that happen during thetransform in `preprocessing_exc_tuple` in IPython 7.17 and above.\n",
      "  and should_run_async(code)\n"
     ]
    },
    {
     "name": "stdout",
     "output_type": "stream",
     "text": [
      "20.2 s ± 221 ms per loop (mean ± std. dev. of 7 runs, 1 loop each)\n"
     ]
    }
   ],
   "source": [
    "%timeit calc.assign_lbwsg_relative_risks()"
   ]
  },
  {
   "cell_type": "code",
   "execution_count": 12,
   "id": "confident-hudson",
   "metadata": {},
   "outputs": [
    {
     "name": "stdout",
     "output_type": "stream",
     "text": [
      "16.2 ms ± 188 µs per loop (mean ± std. dev. of 7 runs, 100 loops each)\n"
     ]
    }
   ],
   "source": [
    "%timeit calc.calculate_potential_impact_fraction()"
   ]
  },
  {
   "cell_type": "code",
   "execution_count": 13,
   "id": "noted-november",
   "metadata": {},
   "outputs": [
    {
     "name": "stdout",
     "output_type": "stream",
     "text": [
      "55.2 ms ± 437 µs per loop (mean ± std. dev. of 7 runs, 10 loops each)\n"
     ]
    }
   ],
   "source": [
    "%timeit calc.calculate_averted_dalys()"
   ]
  },
  {
   "cell_type": "code",
   "execution_count": 14,
   "id": "expected-porcelain",
   "metadata": {},
   "outputs": [
    {
     "name": "stderr",
     "output_type": "stream",
     "text": [
      "/ihme/homes/ndbs/miniconda3/envs/lsff-iron-38/lib/python3.8/site-packages/ipykernel/ipkernel.py:283: DeprecationWarning: `should_run_async` will not call `transform_cell` automatically in the future. Please pass the result to `transformed_cell` argument and any exception that happen during thetransform in `preprocessing_exc_tuple` in IPython 7.17 and above.\n",
      "  and should_run_async(code)\n"
     ]
    },
    {
     "name": "stdout",
     "output_type": "stream",
     "text": [
      "26 s ± 446 ms per loop (mean ± std. dev. of 7 runs, 1 loop each)\n"
     ]
    }
   ],
   "source": [
    "%timeit calc.do_back_of_envelope_calculation(10_000, ages)"
   ]
  },
  {
   "cell_type": "code",
   "execution_count": 15,
   "id": "absent-wednesday",
   "metadata": {},
   "outputs": [
    {
     "name": "stderr",
     "output_type": "stream",
     "text": [
      "/ihme/homes/ndbs/miniconda3/envs/lsff-iron-38/lib/python3.8/site-packages/ipykernel/ipkernel.py:283: DeprecationWarning: `should_run_async` will not call `transform_cell` automatically in the future. Please pass the result to `transformed_cell` argument and any exception that happen during thetransform in `preprocessing_exc_tuple` in IPython 7.17 and above.\n",
      "  and should_run_async(code)\n"
     ]
    },
    {
     "data": {
      "text/plain": [
       "0.7651515151515151"
      ]
     },
     "execution_count": 15,
     "metadata": {},
     "output_type": "execute_result"
    }
   ],
   "source": [
    "20.2/26.4"
   ]
  },
  {
   "cell_type": "code",
   "execution_count": 17,
   "id": "ceramic-midwest",
   "metadata": {},
   "outputs": [
    {
     "data": {
      "text/plain": [
       "3.258064516129032"
      ]
     },
     "execution_count": 17,
     "metadata": {},
     "output_type": "execute_result"
    }
   ],
   "source": [
    "0.7651515151515151/(1-0.7651515151515151)"
   ]
  },
  {
   "cell_type": "code",
   "execution_count": 18,
   "id": "surgical-helping",
   "metadata": {},
   "outputs": [
    {
     "name": "stdout",
     "output_type": "stream",
     "text": [
      "50.8 s ± 786 ms per loop (mean ± std. dev. of 7 runs, 1 loop each)\n"
     ]
    }
   ],
   "source": [
    "%timeit calc.do_back_of_envelope_calculation(20_000, ages)"
   ]
  },
  {
   "cell_type": "code",
   "execution_count": null,
   "id": "extreme-viking",
   "metadata": {},
   "outputs": [],
   "source": []
  }
 ],
 "metadata": {
  "kernelspec": {
   "display_name": "Python 3",
   "language": "python",
   "name": "python3"
  },
  "language_info": {
   "codemirror_mode": {
    "name": "ipython",
    "version": 3
   },
   "file_extension": ".py",
   "mimetype": "text/x-python",
   "name": "python",
   "nbconvert_exporter": "python",
   "pygments_lexer": "ipython3",
   "version": "3.8.5"
  }
 },
 "nbformat": 4,
 "nbformat_minor": 5
}
