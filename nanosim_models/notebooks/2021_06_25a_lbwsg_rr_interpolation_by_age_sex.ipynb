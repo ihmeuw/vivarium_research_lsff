{
 "cells": [
  {
   "cell_type": "code",
   "execution_count": 1,
   "id": "looking-kinase",
   "metadata": {},
   "outputs": [
    {
     "name": "stdout",
     "output_type": "stream",
     "text": [
      "Fri Jul  9 14:56:14 PDT 2021\n",
      "ndbs\n",
      "/ihme/homes/ndbs/vivarium_research_lsff/nanosim_models/notebooks\n"
     ]
    }
   ],
   "source": [
    "import pandas as pd, numpy as np\n",
    "import matplotlib.pyplot as plt\n",
    "pd.set_option('display.max_rows', 8)\n",
    "\n",
    "from get_draws.api import get_draws\n",
    "from db_queries import get_ids\n",
    "\n",
    "#from scipy import stats\n",
    "from scipy.interpolate import griddata, RectBivariateSpline\n",
    "# import re\n",
    "\n",
    "# Add path \"vivarium_research_lsff/nanosim_models\" to sys.path so imports will work from parent folder\n",
    "import sys, os.path\n",
    "# Note: Assuming pwd = vivarium_research_lsff/nanosim_models/notebooks\n",
    "sys.path.append(os.path.abspath(\"..\"))\n",
    "\n",
    "# import lbwsg # in `vivarium_research_lsff/nanosim_models`\n",
    "import lbwsg_plots # in `vivarium_research_lsff/nanosim_models`\n",
    "\n",
    "!date\n",
    "!whoami\n",
    "!pwd"
   ]
  },
  {
   "cell_type": "code",
   "execution_count": 2,
   "id": "alert-frontier",
   "metadata": {},
   "outputs": [
    {
     "name": "stderr",
     "output_type": "stream",
     "text": [
      "/ihme/homes/ndbs/miniconda3/envs/lsff-iron-38/lib/python3.8/site-packages/ipykernel/ipkernel.py:283: DeprecationWarning: `should_run_async` will not call `transform_cell` automatically in the future. Please pass the result to `transformed_cell` argument and any exception that happen during thetransform in `preprocessing_exc_tuple` in IPython 7.17 and above.\n",
      "  and should_run_async(code)\n"
     ]
    }
   ],
   "source": [
    "%load_ext autoreload\n",
    "%autoreload 2"
   ]
  },
  {
   "cell_type": "markdown",
   "id": "incident-disability",
   "metadata": {},
   "source": [
    "# Load raw RR data to take a look"
   ]
  },
  {
   "cell_type": "code",
   "execution_count": 3,
   "id": "funded-moore",
   "metadata": {},
   "outputs": [
    {
     "name": "stderr",
     "output_type": "stream",
     "text": [
      "/ihme/homes/ndbs/miniconda3/envs/lsff-iron-38/lib/python3.8/site-packages/tables/atom.py:1224: DeprecationWarning: tostring() is deprecated. Use tobytes() instead.\n",
      "  return pickle.loads(array.tostring())\n"
     ]
    },
    {
     "data": {
      "text/html": [
       "<div>\n",
       "<style scoped>\n",
       "    .dataframe tbody tr th:only-of-type {\n",
       "        vertical-align: middle;\n",
       "    }\n",
       "\n",
       "    .dataframe tbody tr th {\n",
       "        vertical-align: top;\n",
       "    }\n",
       "\n",
       "    .dataframe thead th {\n",
       "        text-align: right;\n",
       "    }\n",
       "</style>\n",
       "<table border=\"1\" class=\"dataframe\">\n",
       "  <thead>\n",
       "    <tr style=\"text-align: right;\">\n",
       "      <th></th>\n",
       "      <th>rei_id</th>\n",
       "      <th>modelable_entity_id</th>\n",
       "      <th>location_id</th>\n",
       "      <th>year_id</th>\n",
       "      <th>age_group_id</th>\n",
       "      <th>sex_id</th>\n",
       "      <th>cause_id</th>\n",
       "      <th>mortality</th>\n",
       "      <th>morbidity</th>\n",
       "      <th>metric_id</th>\n",
       "      <th>...</th>\n",
       "      <th>draw_990</th>\n",
       "      <th>draw_991</th>\n",
       "      <th>draw_992</th>\n",
       "      <th>draw_993</th>\n",
       "      <th>draw_994</th>\n",
       "      <th>draw_995</th>\n",
       "      <th>draw_996</th>\n",
       "      <th>draw_997</th>\n",
       "      <th>draw_998</th>\n",
       "      <th>draw_999</th>\n",
       "    </tr>\n",
       "  </thead>\n",
       "  <tbody>\n",
       "    <tr>\n",
       "      <th>0</th>\n",
       "      <td>339</td>\n",
       "      <td>10810</td>\n",
       "      <td>1</td>\n",
       "      <td>2019</td>\n",
       "      <td>2</td>\n",
       "      <td>2</td>\n",
       "      <td>302</td>\n",
       "      <td>1</td>\n",
       "      <td>0</td>\n",
       "      <td>3</td>\n",
       "      <td>...</td>\n",
       "      <td>906.355930</td>\n",
       "      <td>1171.264520</td>\n",
       "      <td>1010.027950</td>\n",
       "      <td>986.421764</td>\n",
       "      <td>494.776193</td>\n",
       "      <td>537.871368</td>\n",
       "      <td>880.219326</td>\n",
       "      <td>796.623230</td>\n",
       "      <td>903.979011</td>\n",
       "      <td>943.601981</td>\n",
       "    </tr>\n",
       "    <tr>\n",
       "      <th>1</th>\n",
       "      <td>339</td>\n",
       "      <td>10810</td>\n",
       "      <td>1</td>\n",
       "      <td>2019</td>\n",
       "      <td>2</td>\n",
       "      <td>2</td>\n",
       "      <td>302</td>\n",
       "      <td>1</td>\n",
       "      <td>0</td>\n",
       "      <td>3</td>\n",
       "      <td>...</td>\n",
       "      <td>683.137849</td>\n",
       "      <td>824.643972</td>\n",
       "      <td>542.771578</td>\n",
       "      <td>633.041692</td>\n",
       "      <td>647.404629</td>\n",
       "      <td>478.471757</td>\n",
       "      <td>565.002324</td>\n",
       "      <td>703.592110</td>\n",
       "      <td>683.569330</td>\n",
       "      <td>769.060023</td>\n",
       "    </tr>\n",
       "    <tr>\n",
       "      <th>2</th>\n",
       "      <td>339</td>\n",
       "      <td>10810</td>\n",
       "      <td>1</td>\n",
       "      <td>2019</td>\n",
       "      <td>2</td>\n",
       "      <td>2</td>\n",
       "      <td>302</td>\n",
       "      <td>1</td>\n",
       "      <td>0</td>\n",
       "      <td>3</td>\n",
       "      <td>...</td>\n",
       "      <td>496.548577</td>\n",
       "      <td>501.217895</td>\n",
       "      <td>612.924435</td>\n",
       "      <td>507.091453</td>\n",
       "      <td>423.021838</td>\n",
       "      <td>367.708896</td>\n",
       "      <td>404.109679</td>\n",
       "      <td>466.427140</td>\n",
       "      <td>475.480542</td>\n",
       "      <td>494.876186</td>\n",
       "    </tr>\n",
       "    <tr>\n",
       "      <th>3</th>\n",
       "      <td>339</td>\n",
       "      <td>10810</td>\n",
       "      <td>1</td>\n",
       "      <td>2019</td>\n",
       "      <td>2</td>\n",
       "      <td>2</td>\n",
       "      <td>302</td>\n",
       "      <td>1</td>\n",
       "      <td>0</td>\n",
       "      <td>3</td>\n",
       "      <td>...</td>\n",
       "      <td>312.971545</td>\n",
       "      <td>273.942950</td>\n",
       "      <td>365.489360</td>\n",
       "      <td>297.644030</td>\n",
       "      <td>271.017682</td>\n",
       "      <td>218.688389</td>\n",
       "      <td>233.602302</td>\n",
       "      <td>236.271802</td>\n",
       "      <td>251.805871</td>\n",
       "      <td>241.935671</td>\n",
       "    </tr>\n",
       "    <tr>\n",
       "      <th>...</th>\n",
       "      <td>...</td>\n",
       "      <td>...</td>\n",
       "      <td>...</td>\n",
       "      <td>...</td>\n",
       "      <td>...</td>\n",
       "      <td>...</td>\n",
       "      <td>...</td>\n",
       "      <td>...</td>\n",
       "      <td>...</td>\n",
       "      <td>...</td>\n",
       "      <td>...</td>\n",
       "      <td>...</td>\n",
       "      <td>...</td>\n",
       "      <td>...</td>\n",
       "      <td>...</td>\n",
       "      <td>...</td>\n",
       "      <td>...</td>\n",
       "      <td>...</td>\n",
       "      <td>...</td>\n",
       "      <td>...</td>\n",
       "      <td>...</td>\n",
       "    </tr>\n",
       "    <tr>\n",
       "      <th>228</th>\n",
       "      <td>339</td>\n",
       "      <td>10810</td>\n",
       "      <td>1</td>\n",
       "      <td>2019</td>\n",
       "      <td>3</td>\n",
       "      <td>1</td>\n",
       "      <td>302</td>\n",
       "      <td>1</td>\n",
       "      <td>0</td>\n",
       "      <td>3</td>\n",
       "      <td>...</td>\n",
       "      <td>2.620089</td>\n",
       "      <td>2.597227</td>\n",
       "      <td>2.735096</td>\n",
       "      <td>2.569520</td>\n",
       "      <td>2.851738</td>\n",
       "      <td>2.965840</td>\n",
       "      <td>2.555629</td>\n",
       "      <td>2.802927</td>\n",
       "      <td>3.147952</td>\n",
       "      <td>2.923688</td>\n",
       "    </tr>\n",
       "    <tr>\n",
       "      <th>229</th>\n",
       "      <td>339</td>\n",
       "      <td>10810</td>\n",
       "      <td>1</td>\n",
       "      <td>2019</td>\n",
       "      <td>3</td>\n",
       "      <td>1</td>\n",
       "      <td>302</td>\n",
       "      <td>1</td>\n",
       "      <td>0</td>\n",
       "      <td>3</td>\n",
       "      <td>...</td>\n",
       "      <td>1.000000</td>\n",
       "      <td>1.211495</td>\n",
       "      <td>1.334712</td>\n",
       "      <td>1.226655</td>\n",
       "      <td>1.332490</td>\n",
       "      <td>1.286623</td>\n",
       "      <td>1.213633</td>\n",
       "      <td>1.119466</td>\n",
       "      <td>1.433590</td>\n",
       "      <td>1.298277</td>\n",
       "    </tr>\n",
       "    <tr>\n",
       "      <th>230</th>\n",
       "      <td>339</td>\n",
       "      <td>10810</td>\n",
       "      <td>1</td>\n",
       "      <td>2019</td>\n",
       "      <td>3</td>\n",
       "      <td>1</td>\n",
       "      <td>302</td>\n",
       "      <td>1</td>\n",
       "      <td>0</td>\n",
       "      <td>3</td>\n",
       "      <td>...</td>\n",
       "      <td>1.000000</td>\n",
       "      <td>1.000000</td>\n",
       "      <td>1.000000</td>\n",
       "      <td>1.000000</td>\n",
       "      <td>1.000000</td>\n",
       "      <td>1.000000</td>\n",
       "      <td>1.000000</td>\n",
       "      <td>1.000000</td>\n",
       "      <td>1.000000</td>\n",
       "      <td>1.000000</td>\n",
       "    </tr>\n",
       "    <tr>\n",
       "      <th>231</th>\n",
       "      <td>339</td>\n",
       "      <td>10810</td>\n",
       "      <td>1</td>\n",
       "      <td>2019</td>\n",
       "      <td>3</td>\n",
       "      <td>1</td>\n",
       "      <td>302</td>\n",
       "      <td>1</td>\n",
       "      <td>0</td>\n",
       "      <td>3</td>\n",
       "      <td>...</td>\n",
       "      <td>1.000000</td>\n",
       "      <td>1.000000</td>\n",
       "      <td>1.000000</td>\n",
       "      <td>1.000000</td>\n",
       "      <td>1.000000</td>\n",
       "      <td>1.000000</td>\n",
       "      <td>1.000000</td>\n",
       "      <td>1.000000</td>\n",
       "      <td>1.000000</td>\n",
       "      <td>1.000000</td>\n",
       "    </tr>\n",
       "  </tbody>\n",
       "</table>\n",
       "<p>232 rows × 1012 columns</p>\n",
       "</div>"
      ],
      "text/plain": [
       "     rei_id  modelable_entity_id  location_id  year_id  age_group_id  sex_id  \\\n",
       "0       339                10810            1     2019             2       2   \n",
       "1       339                10810            1     2019             2       2   \n",
       "2       339                10810            1     2019             2       2   \n",
       "3       339                10810            1     2019             2       2   \n",
       "..      ...                  ...          ...      ...           ...     ...   \n",
       "228     339                10810            1     2019             3       1   \n",
       "229     339                10810            1     2019             3       1   \n",
       "230     339                10810            1     2019             3       1   \n",
       "231     339                10810            1     2019             3       1   \n",
       "\n",
       "     cause_id  mortality  morbidity  metric_id  ...    draw_990     draw_991  \\\n",
       "0         302          1          0          3  ...  906.355930  1171.264520   \n",
       "1         302          1          0          3  ...  683.137849   824.643972   \n",
       "2         302          1          0          3  ...  496.548577   501.217895   \n",
       "3         302          1          0          3  ...  312.971545   273.942950   \n",
       "..        ...        ...        ...        ...  ...         ...          ...   \n",
       "228       302          1          0          3  ...    2.620089     2.597227   \n",
       "229       302          1          0          3  ...    1.000000     1.211495   \n",
       "230       302          1          0          3  ...    1.000000     1.000000   \n",
       "231       302          1          0          3  ...    1.000000     1.000000   \n",
       "\n",
       "        draw_992    draw_993    draw_994    draw_995    draw_996    draw_997  \\\n",
       "0    1010.027950  986.421764  494.776193  537.871368  880.219326  796.623230   \n",
       "1     542.771578  633.041692  647.404629  478.471757  565.002324  703.592110   \n",
       "2     612.924435  507.091453  423.021838  367.708896  404.109679  466.427140   \n",
       "3     365.489360  297.644030  271.017682  218.688389  233.602302  236.271802   \n",
       "..           ...         ...         ...         ...         ...         ...   \n",
       "228     2.735096    2.569520    2.851738    2.965840    2.555629    2.802927   \n",
       "229     1.334712    1.226655    1.332490    1.286623    1.213633    1.119466   \n",
       "230     1.000000    1.000000    1.000000    1.000000    1.000000    1.000000   \n",
       "231     1.000000    1.000000    1.000000    1.000000    1.000000    1.000000   \n",
       "\n",
       "       draw_998    draw_999  \n",
       "0    903.979011  943.601981  \n",
       "1    683.569330  769.060023  \n",
       "2    475.480542  494.876186  \n",
       "3    251.805871  241.935671  \n",
       "..          ...         ...  \n",
       "228    3.147952    2.923688  \n",
       "229    1.433590    1.298277  \n",
       "230    1.000000    1.000000  \n",
       "231    1.000000    1.000000  \n",
       "\n",
       "[232 rows x 1012 columns]"
      ]
     },
     "execution_count": 3,
     "metadata": {},
     "output_type": "execute_result"
    }
   ],
   "source": [
    "lbwsg_hdf = '/share/scratch/users/ndbs/vivarium_lsff/gbd_data/lbwsg_data.hdf'\n",
    "rr_raw = pd.read_hdf(lbwsg_hdf, '/gbd_2019/relative_risk/diarrheal_diseases')\n",
    "rr_raw"
   ]
  },
  {
   "cell_type": "code",
   "execution_count": 13,
   "id": "popular-horror",
   "metadata": {},
   "outputs": [
    {
     "name": "stderr",
     "output_type": "stream",
     "text": [
      "/ihme/homes/ndbs/miniconda3/envs/lsff-iron-38/lib/python3.8/site-packages/ipykernel/ipkernel.py:283: DeprecationWarning: `should_run_async` will not call `transform_cell` automatically in the future. Please pass the result to `transformed_cell` argument and any exception that happen during thetransform in `preprocessing_exc_tuple` in IPython 7.17 and above.\n",
      "  and should_run_async(code)\n"
     ]
    },
    {
     "data": {
      "text/html": [
       "<div>\n",
       "<style scoped>\n",
       "    .dataframe tbody tr th:only-of-type {\n",
       "        vertical-align: middle;\n",
       "    }\n",
       "\n",
       "    .dataframe tbody tr th {\n",
       "        vertical-align: top;\n",
       "    }\n",
       "\n",
       "    .dataframe thead th {\n",
       "        text-align: right;\n",
       "    }\n",
       "</style>\n",
       "<table border=\"1\" class=\"dataframe\">\n",
       "  <thead>\n",
       "    <tr style=\"text-align: right;\">\n",
       "      <th></th>\n",
       "      <th>cause_id</th>\n",
       "      <th>cause_name</th>\n",
       "      <th>acause</th>\n",
       "      <th>cause_description</th>\n",
       "    </tr>\n",
       "  </thead>\n",
       "  <tbody>\n",
       "    <tr>\n",
       "      <th>8</th>\n",
       "      <td>302</td>\n",
       "      <td>Diarrheal diseases</td>\n",
       "      <td>diarrhea</td>\n",
       "      <td>None</td>\n",
       "    </tr>\n",
       "  </tbody>\n",
       "</table>\n",
       "</div>"
      ],
      "text/plain": [
       "   cause_id          cause_name    acause cause_description\n",
       "8       302  Diarrheal diseases  diarrhea              None"
      ]
     },
     "execution_count": 13,
     "metadata": {},
     "output_type": "execute_result"
    }
   ],
   "source": [
    "get_ids('cause').query(\"cause_id == 302\")"
   ]
  },
  {
   "cell_type": "code",
   "execution_count": 14,
   "id": "capable-plymouth",
   "metadata": {},
   "outputs": [
    {
     "name": "stderr",
     "output_type": "stream",
     "text": [
      "/ihme/homes/ndbs/miniconda3/envs/lsff-iron-38/lib/python3.8/site-packages/ipykernel/ipkernel.py:283: DeprecationWarning: `should_run_async` will not call `transform_cell` automatically in the future. Please pass the result to `transformed_cell` argument and any exception that happen during thetransform in `preprocessing_exc_tuple` in IPython 7.17 and above.\n",
      "  and should_run_async(code)\n"
     ]
    },
    {
     "data": {
      "text/html": [
       "<div>\n",
       "<style scoped>\n",
       "    .dataframe tbody tr th:only-of-type {\n",
       "        vertical-align: middle;\n",
       "    }\n",
       "\n",
       "    .dataframe tbody tr th {\n",
       "        vertical-align: top;\n",
       "    }\n",
       "\n",
       "    .dataframe thead th {\n",
       "        text-align: right;\n",
       "    }\n",
       "</style>\n",
       "<table border=\"1\" class=\"dataframe\">\n",
       "  <thead>\n",
       "    <tr style=\"text-align: right;\">\n",
       "      <th></th>\n",
       "      <th>rei_id</th>\n",
       "      <th>rei_name</th>\n",
       "      <th>rei</th>\n",
       "    </tr>\n",
       "  </thead>\n",
       "  <tbody>\n",
       "    <tr>\n",
       "      <th>255</th>\n",
       "      <td>339</td>\n",
       "      <td>Low birth weight and short gestation</td>\n",
       "      <td>nutrition_lbw_preterm</td>\n",
       "    </tr>\n",
       "  </tbody>\n",
       "</table>\n",
       "</div>"
      ],
      "text/plain": [
       "     rei_id                              rei_name                    rei\n",
       "255     339  Low birth weight and short gestation  nutrition_lbw_preterm"
      ]
     },
     "execution_count": 14,
     "metadata": {},
     "output_type": "execute_result"
    }
   ],
   "source": [
    "get_ids('rei').query(\"rei_id == 339\")"
   ]
  },
  {
   "cell_type": "markdown",
   "id": "spoken-pulse",
   "metadata": {},
   "source": [
    "# Helper functions"
   ]
  },
  {
   "cell_type": "code",
   "execution_count": 27,
   "id": "twelve-adventure",
   "metadata": {},
   "outputs": [],
   "source": [
    "def cats_to_ordered_categorical(risk_categories: pd.Series) -> pd.Categorical:\n",
    "    \"\"\"Converts a Series of risk categories stored as strings of the form 'cat###' to a Pandas Categorical,\n",
    "    with the natural sort order (https://en.wikipedia.org/wiki/Natural_sort_order).\n",
    "    The ordered Categorical is useful for automatically aligning data by risk category.\n",
    "    \"\"\"\n",
    "    ordered_categories = sorted(risk_categories.unique(), key=lambda s: int(s.strip('cat')))\n",
    "    return pd.Categorical(risk_categories, categories=ordered_categories, ordered=True)\n",
    "\n",
    "def string_to_interval(interval_strings: pd.Series) -> pd.Series:\n",
    "    \"\"\"Converts a Series of strings of the form '(a, b)', '[a, b)', '(a, b]', or '[a, b]' into\n",
    "    a Series of pandas Interval objects. The a's and b's must be nonnegative integers.\n",
    "    \"\"\"\n",
    "    pattern = r'(?P<left_delimiter>[\\(\\[])(?P<left>\\d+), (?P<right>\\d+)(?P<right_delimiter>[\\)\\]])'\n",
    "    df = interval_strings.str.extract(pattern)\n",
    "    df['left_closed'] = (df['left_delimiter'] == '[').astype(int) # 1 or 0\n",
    "    df['right_closed'] = (df['right_delimiter'] == ']').astype(int) # 1 or 0\n",
    "    df['closed'] = (df['left_closed']+2*df['right_closed']).map({0:'neither', 1:'left', 2:'right', 3:'both'})\n",
    "    intervals = np.vectorize(pd.Interval)(df['left'].astype(int), df['right'].astype(int), df['closed'])\n",
    "    return pd.Series(intervals, index=interval_strings.index, name=interval_strings.name)\n",
    "\n",
    "def read_cat_df(filename: str) -> pd.DataFrame:\n",
    "    \"\"\"Reads in the LBWSG category data .csv as a DataFrame, and converts the category column into a\n",
    "    pandas ordered Categorical and the GA and BW interval columns into Series of pandas Interval objects.\n",
    "    \"\"\"\n",
    "    cat_df = pd.read_csv(filename)\n",
    "    cat_df['lbwsg_category'] = cats_to_ordered_categorical(cat_df['lbwsg_category'])\n",
    "    cat_df['ga_interval'] = string_to_interval(cat_df['ga_interval'])\n",
    "    cat_df['bw_interval'] = string_to_interval(cat_df['bw_interval'])\n",
    "    return cat_df\n",
    "\n",
    "def get_rr_data(hdf_store=None, rr_key=None, draw='mean', preprocess=True) -> pd.DataFrame:\n",
    "    \"\"\"Reads GBD's LBWSG relative risk data from an HDF store or pulls it using get_draws, and,\n",
    "    if preprocess is True, reformats the RRs into a DataFrame containing a single RR value for\n",
    "    each age group, sex, and category.\n",
    "    The DataFrame is indexed by age_group_id and sex_id, and the columns are the LBWSG categories.\n",
    "    The single RR value will be from the specified draw, or the mean of all draws if draw=='mean'.\n",
    "    If preprocess is False, the raw GBD data will be returned instead.\n",
    "    \"\"\"\n",
    "    if hdf_store is not None:\n",
    "        # will raise an error if rr_key is None and `lbwsg_hdf` contains more than one pandas object\n",
    "        rr = pd.read_hdf(lbwsg_hdf, rr_key)\n",
    "    else:\n",
    "        # Call get draws\n",
    "        LBWSG_REI_ID = 339\n",
    "        DIARRHEAL_DISEASES_CAUSE_ID = 302 # Can be any most-detailed cause affected by LBWSG\n",
    "        GLOBAL_LOCATION_ID = 1 # Passing any location will return RRs for Global\n",
    "        GBD_2019_ROUND_ID = 6\n",
    "        rr = get_draws(\n",
    "            gbd_id_type=('rei_id','cause_id'),\n",
    "            gbd_id=(LBWSG_REI_ID, DIARRHEAL_DISEASES_CAUSE_ID),\n",
    "            source='rr',\n",
    "            location_id=GLOBAL_LOCATION_ID,\n",
    "            year_id=2019,\n",
    "            gbd_round_id=GBD_2019_ROUND_ID,\n",
    "            status='best',\n",
    "            decomp_step='step4',\n",
    "        )\n",
    "    \n",
    "    if preprocess:\n",
    "        draw_cols = rr.filter(like='draw').columns\n",
    "        rr = rr.assign(lbwsg_category=lambda df: cats_to_ordered_categorical(df['parameter'])) \\\n",
    "               .set_index(['age_group_id', 'sex_id', 'lbwsg_category'])[draw_cols]\n",
    "\n",
    "        if draw == 'mean':\n",
    "            rr = rr.mean(axis=1)#.rename('lbwsg_relative_risk_mean')\n",
    "        else:\n",
    "            rr = rr[f'draw_{draw}']#.rename(f'lbwsg_relative_risk_draw_{draw}')\n",
    "        # After unstacking, each row is one age group and sex, columns are categories\n",
    "        # Categories will be sorted in natural sort order because they're stored in an ordered Categorical\n",
    "        rr = rr.unstack('lbwsg_category')\n",
    "    return rr\n",
    "\n",
    "def get_tmrel_mask(\n",
    "    ga_coordinates: np.ndarray, bw_coordinates: np.ndarray, cat_df: pd.DataFrame, grid: bool\n",
    ") -> np.ndarray:\n",
    "    \"\"\"Returns a boolean mask indicating whether each pair of (ga,bw) coordinates is in a TMREL category.\n",
    "\n",
    "    The calling convention using the `grid` parameter is the same as for the scipy.interpolate classes:\n",
    "    \n",
    "        If grid==True, the 1d arrays ga_coordinates and bw_coordinates are interpreted as lists of \n",
    "        x-axis and y-axis coordinates defining a 2d grid, i.e. the coordinates to look up are the pairs\n",
    "        in the Carteian product ga_coordinates x bw_coordinates, and the returned mask will have shape\n",
    "        (len(ga_coordinates), len(bw_coordinates)).\n",
    "\n",
    "        If grid==False, the 1d arrays ga_coordinates and bw_coordinates must have the same length and are\n",
    "        interpreted as listing pairs of coordinates, i.e. the coordinates to look up are the pairs in\n",
    "        zip(ga_coordinates, bw_coordinates), and the returned mask will have shape (n,), where n is the\n",
    "        common length of ga_coordinates and bw_coordinates.\n",
    "    \"\"\"\n",
    "    TMREL_CATEGORIES = ('cat53', 'cat54', 'cat55', 'cat56')\n",
    "\n",
    "    # Set index of cat_df to a MultiIndex of pandas IntervalIndex objects to enable\n",
    "    # looking up LBWSG categories by (GA,BW) coordinates via DataFrame.reindex\n",
    "    cat_data_by_interval = cat_df.set_index(['ga_interval', 'bw_interval'])\n",
    "\n",
    "    # Create a MultiIndex of (GA,BW) coordinates to look up, one row for each interpolation point\n",
    "    if grid:\n",
    "        # Interpret GA and BW coordinates as the x and y coordinates of a grid (take Cartesian product)\n",
    "        ga_bw_coordinates = pd.MultiIndex.from_product(\n",
    "            (ga_coordinates, bw_coordinates), names=('ga_coordinate', 'bw_coordinate')\n",
    "        )\n",
    "    else:\n",
    "        # Interpret GA and BW coordinates as a sequence of points (zip the coordinate arrays)\n",
    "        ga_bw_coordinates = pd.MultiIndex.from_arrays(\n",
    "            (ga_coordinates, bw_coordinates), names=('ga_coordinate', 'bw_coordinate')\n",
    "        )\n",
    "\n",
    "    # Create a DataFrame to store category data for each (GA,BW) coordinate in the grid\n",
    "    ga_bw_cat_data = pd.DataFrame(index=ga_bw_coordinates)\n",
    "\n",
    "    # Look up category for each (GA,BW) coordinate and check whether it's a TMREL category\n",
    "    ga_bw_cat_data['lbwsg_category'] = cat_data_by_interval['lbwsg_category'].reindex(ga_bw_coordinates)\n",
    "    ga_bw_cat_data['in_tmrel'] = ga_bw_cat_data['lbwsg_category'].isin(TMREL_CATEGORIES)\n",
    "\n",
    "    print(\"Number of interpolation points in TMREL =\", ga_bw_cat_data['in_tmrel'].sum())\n",
    "\n",
    "    # Pull the TMREL mask out of the DataFrame and convert to a numpy array, reshaping into a 2D grid if necessary\n",
    "    tmrel_mask = ga_bw_cat_data['in_tmrel'].to_numpy()\n",
    "    if grid:\n",
    "        # Make a 2D mask the same shape as the dense grid,\n",
    "        tmrel_mask = tmrel_mask.reshape((len(ga_coordinates), len(bw_coordinates)))\n",
    "    return tmrel_mask"
   ]
  },
  {
   "cell_type": "markdown",
   "id": "standard-invention",
   "metadata": {},
   "source": [
    "# Step 0: Load and display LBWSG category data and RR data"
   ]
  },
  {
   "cell_type": "code",
   "execution_count": 28,
   "id": "closed-zoning",
   "metadata": {},
   "outputs": [
    {
     "name": "stderr",
     "output_type": "stream",
     "text": [
      "/ihme/homes/ndbs/miniconda3/envs/lsff-iron-38/lib/python3.8/site-packages/tables/atom.py:1224: DeprecationWarning: tostring() is deprecated. Use tobytes() instead.\n",
      "  return pickle.loads(array.tostring())\n"
     ]
    }
   ],
   "source": [
    "# Step 0: Get LBWSG category data and relative risk data\n",
    "cat_df_filename = 'lbwsg_category_data.csv'\n",
    "# Reads the csv and converts LBWSG categories to ordered pandas Categorical\n",
    "# and string representations of intervals to pandas Interval objects.\n",
    "cat_df = read_cat_df(cat_df_filename)\n",
    "\n",
    "lbwsg_hdf = '/share/scratch/users/ndbs/vivarium_lsff/gbd_data/lbwsg_data.hdf'\n",
    "hdf_rr_key = '/gbd_2019/relative_risk/diarrheal_diseases'\n",
    "# rr is a Series indexed by age_group_id, sex_id, lbwsg_category\n",
    "rr = get_rr_data(lbwsg_hdf, hdf_rr_key, draw='mean', preprocess=True)"
   ]
  },
  {
   "cell_type": "code",
   "execution_count": 18,
   "id": "expired-wildlife",
   "metadata": {},
   "outputs": [
    {
     "data": {
      "text/html": [
       "<div>\n",
       "<style scoped>\n",
       "    .dataframe tbody tr th:only-of-type {\n",
       "        vertical-align: middle;\n",
       "    }\n",
       "\n",
       "    .dataframe tbody tr th {\n",
       "        vertical-align: top;\n",
       "    }\n",
       "\n",
       "    .dataframe thead th {\n",
       "        text-align: right;\n",
       "    }\n",
       "</style>\n",
       "<table border=\"1\" class=\"dataframe\">\n",
       "  <thead>\n",
       "    <tr style=\"text-align: right;\">\n",
       "      <th></th>\n",
       "      <th>lbwsg_category</th>\n",
       "      <th>modelable_entity_id</th>\n",
       "      <th>modelable_entity_name</th>\n",
       "      <th>ga_start</th>\n",
       "      <th>ga_end</th>\n",
       "      <th>bw_start</th>\n",
       "      <th>bw_end</th>\n",
       "      <th>ga_interval</th>\n",
       "      <th>ga_width</th>\n",
       "      <th>ga_midpoint</th>\n",
       "      <th>bw_interval</th>\n",
       "      <th>bw_width</th>\n",
       "      <th>bw_midpoint</th>\n",
       "    </tr>\n",
       "  </thead>\n",
       "  <tbody>\n",
       "    <tr>\n",
       "      <th>0</th>\n",
       "      <td>cat2</td>\n",
       "      <td>10755</td>\n",
       "      <td>Birth prevalence - [0, 24) wks, [0, 500) g</td>\n",
       "      <td>0</td>\n",
       "      <td>24</td>\n",
       "      <td>0</td>\n",
       "      <td>500</td>\n",
       "      <td>[0, 24)</td>\n",
       "      <td>24</td>\n",
       "      <td>12.0</td>\n",
       "      <td>[0, 500)</td>\n",
       "      <td>500</td>\n",
       "      <td>250.0</td>\n",
       "    </tr>\n",
       "    <tr>\n",
       "      <th>1</th>\n",
       "      <td>cat8</td>\n",
       "      <td>10761</td>\n",
       "      <td>Birth prevalence - [0, 24) wks, [500, 1000) g</td>\n",
       "      <td>0</td>\n",
       "      <td>24</td>\n",
       "      <td>500</td>\n",
       "      <td>1000</td>\n",
       "      <td>[0, 24)</td>\n",
       "      <td>24</td>\n",
       "      <td>12.0</td>\n",
       "      <td>[500, 1000)</td>\n",
       "      <td>500</td>\n",
       "      <td>750.0</td>\n",
       "    </tr>\n",
       "    <tr>\n",
       "      <th>2</th>\n",
       "      <td>cat10</td>\n",
       "      <td>10763</td>\n",
       "      <td>Birth prevalence - [24, 26) wks, [500, 1000) g</td>\n",
       "      <td>24</td>\n",
       "      <td>26</td>\n",
       "      <td>500</td>\n",
       "      <td>1000</td>\n",
       "      <td>[24, 26)</td>\n",
       "      <td>2</td>\n",
       "      <td>25.0</td>\n",
       "      <td>[500, 1000)</td>\n",
       "      <td>500</td>\n",
       "      <td>750.0</td>\n",
       "    </tr>\n",
       "    <tr>\n",
       "      <th>3</th>\n",
       "      <td>cat11</td>\n",
       "      <td>10764</td>\n",
       "      <td>Birth prevalence - [26, 28) wks, [500, 1000) g</td>\n",
       "      <td>26</td>\n",
       "      <td>28</td>\n",
       "      <td>500</td>\n",
       "      <td>1000</td>\n",
       "      <td>[26, 28)</td>\n",
       "      <td>2</td>\n",
       "      <td>27.0</td>\n",
       "      <td>[500, 1000)</td>\n",
       "      <td>500</td>\n",
       "      <td>750.0</td>\n",
       "    </tr>\n",
       "    <tr>\n",
       "      <th>...</th>\n",
       "      <td>...</td>\n",
       "      <td>...</td>\n",
       "      <td>...</td>\n",
       "      <td>...</td>\n",
       "      <td>...</td>\n",
       "      <td>...</td>\n",
       "      <td>...</td>\n",
       "      <td>...</td>\n",
       "      <td>...</td>\n",
       "      <td>...</td>\n",
       "      <td>...</td>\n",
       "      <td>...</td>\n",
       "      <td>...</td>\n",
       "    </tr>\n",
       "    <tr>\n",
       "      <th>54</th>\n",
       "      <td>cat116</td>\n",
       "      <td>20227</td>\n",
       "      <td>Birth prevalence - [38, 40) wks, [1000, 1500) g</td>\n",
       "      <td>38</td>\n",
       "      <td>40</td>\n",
       "      <td>1000</td>\n",
       "      <td>1500</td>\n",
       "      <td>[38, 40)</td>\n",
       "      <td>2</td>\n",
       "      <td>39.0</td>\n",
       "      <td>[1000, 1500)</td>\n",
       "      <td>500</td>\n",
       "      <td>1250.0</td>\n",
       "    </tr>\n",
       "    <tr>\n",
       "      <th>55</th>\n",
       "      <td>cat117</td>\n",
       "      <td>20228</td>\n",
       "      <td>Birth prevalence - [38, 40) wks, [1500, 2000) g</td>\n",
       "      <td>38</td>\n",
       "      <td>40</td>\n",
       "      <td>1500</td>\n",
       "      <td>2000</td>\n",
       "      <td>[38, 40)</td>\n",
       "      <td>2</td>\n",
       "      <td>39.0</td>\n",
       "      <td>[1500, 2000)</td>\n",
       "      <td>500</td>\n",
       "      <td>1750.0</td>\n",
       "    </tr>\n",
       "    <tr>\n",
       "      <th>56</th>\n",
       "      <td>cat123</td>\n",
       "      <td>20232</td>\n",
       "      <td>Birth prevalence - [40, 42) wks, [1500, 2000) g</td>\n",
       "      <td>40</td>\n",
       "      <td>42</td>\n",
       "      <td>1500</td>\n",
       "      <td>2000</td>\n",
       "      <td>[40, 42)</td>\n",
       "      <td>2</td>\n",
       "      <td>41.0</td>\n",
       "      <td>[1500, 2000)</td>\n",
       "      <td>500</td>\n",
       "      <td>1750.0</td>\n",
       "    </tr>\n",
       "    <tr>\n",
       "      <th>57</th>\n",
       "      <td>cat124</td>\n",
       "      <td>20224</td>\n",
       "      <td>Birth prevalence - [37, 38) wks, [1000, 1500) g</td>\n",
       "      <td>37</td>\n",
       "      <td>38</td>\n",
       "      <td>1000</td>\n",
       "      <td>1500</td>\n",
       "      <td>[37, 38)</td>\n",
       "      <td>1</td>\n",
       "      <td>37.5</td>\n",
       "      <td>[1000, 1500)</td>\n",
       "      <td>500</td>\n",
       "      <td>1250.0</td>\n",
       "    </tr>\n",
       "  </tbody>\n",
       "</table>\n",
       "<p>58 rows × 13 columns</p>\n",
       "</div>"
      ],
      "text/plain": [
       "   lbwsg_category  modelable_entity_id  \\\n",
       "0            cat2                10755   \n",
       "1            cat8                10761   \n",
       "2           cat10                10763   \n",
       "3           cat11                10764   \n",
       "..            ...                  ...   \n",
       "54         cat116                20227   \n",
       "55         cat117                20228   \n",
       "56         cat123                20232   \n",
       "57         cat124                20224   \n",
       "\n",
       "                              modelable_entity_name  ga_start  ga_end  \\\n",
       "0        Birth prevalence - [0, 24) wks, [0, 500) g         0      24   \n",
       "1     Birth prevalence - [0, 24) wks, [500, 1000) g         0      24   \n",
       "2    Birth prevalence - [24, 26) wks, [500, 1000) g        24      26   \n",
       "3    Birth prevalence - [26, 28) wks, [500, 1000) g        26      28   \n",
       "..                                              ...       ...     ...   \n",
       "54  Birth prevalence - [38, 40) wks, [1000, 1500) g        38      40   \n",
       "55  Birth prevalence - [38, 40) wks, [1500, 2000) g        38      40   \n",
       "56  Birth prevalence - [40, 42) wks, [1500, 2000) g        40      42   \n",
       "57  Birth prevalence - [37, 38) wks, [1000, 1500) g        37      38   \n",
       "\n",
       "    bw_start  bw_end ga_interval  ga_width  ga_midpoint   bw_interval  \\\n",
       "0          0     500     [0, 24)        24         12.0      [0, 500)   \n",
       "1        500    1000     [0, 24)        24         12.0   [500, 1000)   \n",
       "2        500    1000    [24, 26)         2         25.0   [500, 1000)   \n",
       "3        500    1000    [26, 28)         2         27.0   [500, 1000)   \n",
       "..       ...     ...         ...       ...          ...           ...   \n",
       "54      1000    1500    [38, 40)         2         39.0  [1000, 1500)   \n",
       "55      1500    2000    [38, 40)         2         39.0  [1500, 2000)   \n",
       "56      1500    2000    [40, 42)         2         41.0  [1500, 2000)   \n",
       "57      1000    1500    [37, 38)         1         37.5  [1000, 1500)   \n",
       "\n",
       "    bw_width  bw_midpoint  \n",
       "0        500        250.0  \n",
       "1        500        750.0  \n",
       "2        500        750.0  \n",
       "3        500        750.0  \n",
       "..       ...          ...  \n",
       "54       500       1250.0  \n",
       "55       500       1750.0  \n",
       "56       500       1750.0  \n",
       "57       500       1250.0  \n",
       "\n",
       "[58 rows x 13 columns]"
      ]
     },
     "execution_count": 18,
     "metadata": {},
     "output_type": "execute_result"
    }
   ],
   "source": [
    "cat_df"
   ]
  },
  {
   "cell_type": "code",
   "execution_count": 29,
   "id": "arranged-turtle",
   "metadata": {},
   "outputs": [
    {
     "data": {
      "text/html": [
       "<div>\n",
       "<style scoped>\n",
       "    .dataframe tbody tr th:only-of-type {\n",
       "        vertical-align: middle;\n",
       "    }\n",
       "\n",
       "    .dataframe tbody tr th {\n",
       "        vertical-align: top;\n",
       "    }\n",
       "\n",
       "    .dataframe thead th {\n",
       "        text-align: right;\n",
       "    }\n",
       "</style>\n",
       "<table border=\"1\" class=\"dataframe\">\n",
       "  <thead>\n",
       "    <tr style=\"text-align: right;\">\n",
       "      <th></th>\n",
       "      <th>lbwsg_category</th>\n",
       "      <th>cat2</th>\n",
       "      <th>cat8</th>\n",
       "      <th>cat10</th>\n",
       "      <th>cat11</th>\n",
       "      <th>cat14</th>\n",
       "      <th>cat15</th>\n",
       "      <th>cat17</th>\n",
       "      <th>cat19</th>\n",
       "      <th>cat20</th>\n",
       "      <th>cat21</th>\n",
       "      <th>...</th>\n",
       "      <th>cat88</th>\n",
       "      <th>cat89</th>\n",
       "      <th>cat90</th>\n",
       "      <th>cat95</th>\n",
       "      <th>cat96</th>\n",
       "      <th>cat106</th>\n",
       "      <th>cat116</th>\n",
       "      <th>cat117</th>\n",
       "      <th>cat123</th>\n",
       "      <th>cat124</th>\n",
       "    </tr>\n",
       "    <tr>\n",
       "      <th>age_group_id</th>\n",
       "      <th>sex_id</th>\n",
       "      <th></th>\n",
       "      <th></th>\n",
       "      <th></th>\n",
       "      <th></th>\n",
       "      <th></th>\n",
       "      <th></th>\n",
       "      <th></th>\n",
       "      <th></th>\n",
       "      <th></th>\n",
       "      <th></th>\n",
       "      <th></th>\n",
       "      <th></th>\n",
       "      <th></th>\n",
       "      <th></th>\n",
       "      <th></th>\n",
       "      <th></th>\n",
       "      <th></th>\n",
       "      <th></th>\n",
       "      <th></th>\n",
       "      <th></th>\n",
       "      <th></th>\n",
       "    </tr>\n",
       "  </thead>\n",
       "  <tbody>\n",
       "    <tr>\n",
       "      <th rowspan=\"2\" valign=\"top\">2</th>\n",
       "      <th>1</th>\n",
       "      <td>877.774712</td>\n",
       "      <td>647.898992</td>\n",
       "      <td>534.904219</td>\n",
       "      <td>281.283859</td>\n",
       "      <td>132.308602</td>\n",
       "      <td>164.680900</td>\n",
       "      <td>150.649481</td>\n",
       "      <td>78.660242</td>\n",
       "      <td>71.963073</td>\n",
       "      <td>88.889144</td>\n",
       "      <td>...</td>\n",
       "      <td>33.217886</td>\n",
       "      <td>25.450893</td>\n",
       "      <td>20.334332</td>\n",
       "      <td>19.012085</td>\n",
       "      <td>20.214173</td>\n",
       "      <td>94.103173</td>\n",
       "      <td>98.254088</td>\n",
       "      <td>37.449329</td>\n",
       "      <td>43.194263</td>\n",
       "      <td>98.110780</td>\n",
       "    </tr>\n",
       "    <tr>\n",
       "      <th>2</th>\n",
       "      <td>857.043580</td>\n",
       "      <td>628.647168</td>\n",
       "      <td>509.388343</td>\n",
       "      <td>257.798755</td>\n",
       "      <td>120.829291</td>\n",
       "      <td>149.826831</td>\n",
       "      <td>142.251247</td>\n",
       "      <td>75.686512</td>\n",
       "      <td>70.153697</td>\n",
       "      <td>82.249627</td>\n",
       "      <td>...</td>\n",
       "      <td>31.438649</td>\n",
       "      <td>24.261711</td>\n",
       "      <td>20.347433</td>\n",
       "      <td>18.666906</td>\n",
       "      <td>20.333123</td>\n",
       "      <td>89.768629</td>\n",
       "      <td>91.539265</td>\n",
       "      <td>33.260741</td>\n",
       "      <td>37.948714</td>\n",
       "      <td>92.727510</td>\n",
       "    </tr>\n",
       "    <tr>\n",
       "      <th rowspan=\"2\" valign=\"top\">3</th>\n",
       "      <th>1</th>\n",
       "      <td>526.788388</td>\n",
       "      <td>392.722735</td>\n",
       "      <td>375.560358</td>\n",
       "      <td>280.839737</td>\n",
       "      <td>127.981674</td>\n",
       "      <td>184.988278</td>\n",
       "      <td>140.284476</td>\n",
       "      <td>45.337973</td>\n",
       "      <td>42.294228</td>\n",
       "      <td>87.595706</td>\n",
       "      <td>...</td>\n",
       "      <td>10.388762</td>\n",
       "      <td>7.153291</td>\n",
       "      <td>4.795145</td>\n",
       "      <td>5.617511</td>\n",
       "      <td>4.310329</td>\n",
       "      <td>48.734015</td>\n",
       "      <td>49.083565</td>\n",
       "      <td>21.477003</td>\n",
       "      <td>21.971072</td>\n",
       "      <td>49.903093</td>\n",
       "    </tr>\n",
       "    <tr>\n",
       "      <th>2</th>\n",
       "      <td>575.632382</td>\n",
       "      <td>416.949879</td>\n",
       "      <td>394.981964</td>\n",
       "      <td>280.839781</td>\n",
       "      <td>123.186387</td>\n",
       "      <td>178.510414</td>\n",
       "      <td>140.770751</td>\n",
       "      <td>46.400347</td>\n",
       "      <td>46.161038</td>\n",
       "      <td>86.675472</td>\n",
       "      <td>...</td>\n",
       "      <td>12.472731</td>\n",
       "      <td>8.485596</td>\n",
       "      <td>5.599418</td>\n",
       "      <td>6.722378</td>\n",
       "      <td>5.253205</td>\n",
       "      <td>51.679799</td>\n",
       "      <td>53.035972</td>\n",
       "      <td>22.821141</td>\n",
       "      <td>23.702371</td>\n",
       "      <td>53.150676</td>\n",
       "    </tr>\n",
       "  </tbody>\n",
       "</table>\n",
       "<p>4 rows × 58 columns</p>\n",
       "</div>"
      ],
      "text/plain": [
       "lbwsg_category             cat2        cat8       cat10       cat11  \\\n",
       "age_group_id sex_id                                                   \n",
       "2            1       877.774712  647.898992  534.904219  281.283859   \n",
       "             2       857.043580  628.647168  509.388343  257.798755   \n",
       "3            1       526.788388  392.722735  375.560358  280.839737   \n",
       "             2       575.632382  416.949879  394.981964  280.839781   \n",
       "\n",
       "lbwsg_category            cat14       cat15       cat17      cat19      cat20  \\\n",
       "age_group_id sex_id                                                             \n",
       "2            1       132.308602  164.680900  150.649481  78.660242  71.963073   \n",
       "             2       120.829291  149.826831  142.251247  75.686512  70.153697   \n",
       "3            1       127.981674  184.988278  140.284476  45.337973  42.294228   \n",
       "             2       123.186387  178.510414  140.770751  46.400347  46.161038   \n",
       "\n",
       "lbwsg_category           cat21  ...      cat88      cat89      cat90  \\\n",
       "age_group_id sex_id             ...                                    \n",
       "2            1       88.889144  ...  33.217886  25.450893  20.334332   \n",
       "             2       82.249627  ...  31.438649  24.261711  20.347433   \n",
       "3            1       87.595706  ...  10.388762   7.153291   4.795145   \n",
       "             2       86.675472  ...  12.472731   8.485596   5.599418   \n",
       "\n",
       "lbwsg_category           cat95      cat96     cat106     cat116     cat117  \\\n",
       "age_group_id sex_id                                                          \n",
       "2            1       19.012085  20.214173  94.103173  98.254088  37.449329   \n",
       "             2       18.666906  20.333123  89.768629  91.539265  33.260741   \n",
       "3            1        5.617511   4.310329  48.734015  49.083565  21.477003   \n",
       "             2        6.722378   5.253205  51.679799  53.035972  22.821141   \n",
       "\n",
       "lbwsg_category          cat123     cat124  \n",
       "age_group_id sex_id                        \n",
       "2            1       43.194263  98.110780  \n",
       "             2       37.948714  92.727510  \n",
       "3            1       21.971072  49.903093  \n",
       "             2       23.702371  53.150676  \n",
       "\n",
       "[4 rows x 58 columns]"
      ]
     },
     "execution_count": 29,
     "metadata": {},
     "output_type": "execute_result"
    }
   ],
   "source": [
    "rr"
   ]
  },
  {
   "cell_type": "code",
   "execution_count": 94,
   "id": "stunning-light",
   "metadata": {},
   "outputs": [
    {
     "name": "stderr",
     "output_type": "stream",
     "text": [
      "/ihme/homes/ndbs/miniconda3/envs/lsff-iron-38/lib/python3.8/site-packages/ipykernel/ipkernel.py:283: DeprecationWarning: `should_run_async` will not call `transform_cell` automatically in the future. Please pass the result to `transformed_cell` argument and any exception that happen during thetransform in `preprocessing_exc_tuple` in IPython 7.17 and above.\n",
      "  and should_run_async(code)\n"
     ]
    },
    {
     "data": {
      "text/plain": [
       "age_group_id  sex_id\n",
       "2             1         1.000383\n",
       "              2         1.000000\n",
       "3             1         1.326051\n",
       "              2         1.265252\n",
       "Name: cat52, dtype: float64"
      ]
     },
     "execution_count": 94,
     "metadata": {},
     "output_type": "execute_result"
    }
   ],
   "source": [
    "rr['cat52']"
   ]
  },
  {
   "cell_type": "code",
   "execution_count": 19,
   "id": "sacred-absence",
   "metadata": {},
   "outputs": [
    {
     "name": "stderr",
     "output_type": "stream",
     "text": [
      "/ihme/homes/ndbs/miniconda3/envs/lsff-iron-38/lib/python3.8/site-packages/ipykernel/ipkernel.py:283: DeprecationWarning: `should_run_async` will not call `transform_cell` automatically in the future. Please pass the result to `transformed_cell` argument and any exception that happen during thetransform in `preprocessing_exc_tuple` in IPython 7.17 and above.\n",
      "  and should_run_async(code)\n"
     ]
    },
    {
     "data": {
      "text/plain": [
       "lbwsg_category                  category\n",
       "modelable_entity_id                int64\n",
       "modelable_entity_name             object\n",
       "ga_start                           int64\n",
       "                              ...       \n",
       "ga_midpoint                      float64\n",
       "bw_interval              interval[int64]\n",
       "bw_width                           int64\n",
       "bw_midpoint                      float64\n",
       "Length: 13, dtype: object"
      ]
     },
     "execution_count": 19,
     "metadata": {},
     "output_type": "execute_result"
    }
   ],
   "source": [
    "cat_df.dtypes"
   ]
  },
  {
   "cell_type": "code",
   "execution_count": 20,
   "id": "catholic-specialist",
   "metadata": {},
   "outputs": [
    {
     "data": {
      "text/plain": [
       "age_group_id                   int64\n",
       "sex_id                         int64\n",
       "lbwsg_category              category\n",
       "lbwsg_relative_risk_mean     float64\n",
       "dtype: object"
      ]
     },
     "execution_count": 20,
     "metadata": {},
     "output_type": "execute_result"
    }
   ],
   "source": [
    "rr.reset_index().dtypes"
   ]
  },
  {
   "cell_type": "markdown",
   "id": "chicken-conflict",
   "metadata": {},
   "source": [
    "# Do RR interpolation steps 1-7"
   ]
  },
  {
   "cell_type": "code",
   "execution_count": 36,
   "id": "nonprofit-regular",
   "metadata": {},
   "outputs": [
    {
     "name": "stdout",
     "output_type": "stream",
     "text": [
      "Number of interpolation points in TMREL = 594\n",
      "\n",
      "tmrel_mask.shape=(200, 150)\n"
     ]
    }
   ],
   "source": [
    "def make_lbwsg_log_rr_interpolator(rr: pd.Series, cat_df: pd.DataFrame) -> pd.Series:\n",
    "    \"\"\"Returns a length-4 Series of RectBivariateSpline interpolators for the logarithms of\n",
    "    the given set of LBWSG RRs, indexed by age_group_id and sex_id.\n",
    "    \"\"\"\n",
    "    # Step 1: Get coordinates of LBWSG category midpoints, indexed by category\n",
    "    interval_data_by_cat = cat_df.set_index('lbwsg_category') # Category index will be in natural sort order\n",
    "    ga_midpoints = interval_data_by_cat['ga_midpoint']\n",
    "    bw_midpoints = interval_data_by_cat['bw_midpoint']\n",
    "\n",
    "    # Step 2: Take logs of LBWSG relative risks\n",
    "    # Each row of RR is one age group and sex, columns are LBWSG categories\n",
    "    # Categories (columns) are in natural sort order because they're stored in an ordered Categorical\n",
    "    log_rr = np.log(rr)\n",
    "\n",
    "    # Make sure z values are correctly aligned with x and y values (should hold because categories are ordered)\n",
    "    assert ga_midpoints.index.equals(log_rr.columns) and bw_midpoints.index.equals(log_rr.columns)\n",
    "\n",
    "    # Step 3: Define intermediate grid $G$ for nearest neighbor interpolation\n",
    "    # Intermediate grid G = Category midpoints plus boundary points\n",
    "    ga_min, bw_min = interval_data_by_cat[['ga_start', 'bw_start']].min()\n",
    "    ga_max, bw_max = interval_data_by_cat[['ga_end', 'bw_end']].max()\n",
    "\n",
    "    ga_grid = np.append(np.unique(ga_midpoints), [ga_min, ga_max]); ga_grid.sort()\n",
    "    bw_grid = np.append(np.unique(bw_midpoints), [bw_min, bw_max]); bw_grid.sort()\n",
    "\n",
    "    # Steps 4 and 5a: Create an interpolator for each age_group and sex (4 interpolators total)\n",
    "    def make_interpolator(log_rr_for_age_sex: pd.Series) -> RectBivariateSpline:\n",
    "        # Step 4: Use `griddata` to extrapolate to $G$ via nearest neighbor interpolation\n",
    "        logrr_grid_nearest = griddata(\n",
    "            (ga_midpoints, bw_midpoints), log_rr_for_age_sex, (ga_grid[:,None], bw_grid[None,:]),\n",
    "            method='nearest', rescale=True\n",
    "        )\n",
    "        # Step 5a: Create a `RectBivariateSpline` object from the extrapolated values on G\n",
    "        return RectBivariateSpline(ga_grid, bw_grid, logrr_grid_nearest, kx=1, ky=1)\n",
    "\n",
    "    log_rr_interpolator = log_rr.apply(make_interpolator, axis='columns').rename('log_rr_interpolator')\n",
    "    return log_rr_interpolator\n",
    "\n",
    "# Step 5: Interpolate to the rectangle [0,42wk}]x[0,4500g] via bilinear interpolation\n",
    "\n",
    "def interpolate_on_ga_bw_rectangle(log_rr_interpolator: pd.Series, cat_df: pd.DataFrame) -> dict:\n",
    "    \"\"\"\n",
    "    \"\"\"\n",
    "    # Step 5b: Interpolate to the dense grid `gai` x `bwi` so we can plot the\n",
    "    # bilinear interpolation on the whole rectangle\n",
    "\n",
    "    # First define a dense grid in the GAxBW rectangle for plotting interpolated values\n",
    "    # - Use different number of grid points in each direction to easily verify correct orientations\n",
    "    gai = np.linspace(0, 42, 200) # GA interpolation coordinates\n",
    "    bwi = np.linspace(0, 4500, 150) # BW interpolation coordinates\n",
    "\n",
    "    # Interpolate values of log(RR) on the dense GAxBW grid for each age group and sex\n",
    "    logrri_by_age_sex = {\n",
    "        # Default behavior (grid=True) is to interpolate on the grid spanned by x-coordinates and y-coordinates\n",
    "        age_sex: log_rr_interpolator[age_sex](gai, bwi, grid=True)\n",
    "        for age_sex in log_rr_interpolator.index\n",
    "    }\n",
    "\n",
    "    # Step 6: Exponentiate to recover the relative risks\n",
    "    rri_by_age_sex = {age_sex: np.exp(logrri) for age_sex, logrri in logrri_by_age_sex.items()}\n",
    "    # rri_by_age_sex\n",
    "\n",
    "    # Step 7: Reset TMREL categories to 1\n",
    "    tmrel_mask = get_tmrel_mask(gai, bwi, cat_df, grid=True)\n",
    "    print(f\"\\n{tmrel_mask.shape=}\")\n",
    "    # print(f\"{rri[tmrel_mask].shape=}, {rri[tmrel_mask].min()=}, {rri[tmrel_mask].max()=}\")\n",
    "\n",
    "    # Use the mask to set all TMREL RRs to 1, and check that it worked\n",
    "    rri_by_age_sex = {age_sex: np.where(tmrel_mask, 1, rri) for age_sex, rri in rri_by_age_sex.items()}\n",
    "\n",
    "    # rri_clipped = np.where(tmrel_mask, 1, rri)\n",
    "    # print(f\"\\n{rri_clipped.shape=}\")\n",
    "    # print(f\"{rri_clipped[tmrel_mask].shape=}, {rri_clipped[tmrel_mask].min()=}, {rri_clipped[tmrel_mask].max()=}\")\n",
    "\n",
    "    return rri_by_age_sex\n",
    "\n",
    "log_rr_interpolator = make_lbwsg_log_rr_interpolator(rr, cat_df)\n",
    "rri_by_age_sex = interpolate_on_ga_bw_rectangle(log_rr_interpolator, cat_df)"
   ]
  },
  {
   "cell_type": "code",
   "execution_count": 37,
   "id": "musical-orchestra",
   "metadata": {},
   "outputs": [
    {
     "data": {
      "text/plain": [
       "age_group_id  sex_id\n",
       "2             1         <scipy.interpolate.fitpack2.RectBivariateSplin...\n",
       "              2         <scipy.interpolate.fitpack2.RectBivariateSplin...\n",
       "3             1         <scipy.interpolate.fitpack2.RectBivariateSplin...\n",
       "              2         <scipy.interpolate.fitpack2.RectBivariateSplin...\n",
       "Name: log_rr_interpolator, dtype: object"
      ]
     },
     "execution_count": 37,
     "metadata": {},
     "output_type": "execute_result"
    }
   ],
   "source": [
    "log_rr_interpolator"
   ]
  },
  {
   "cell_type": "code",
   "execution_count": 38,
   "id": "operating-sweet",
   "metadata": {},
   "outputs": [
    {
     "data": {
      "text/plain": [
       "{(2,\n",
       "  1): array([[877.77471174, 877.77471174, 877.77471174, ..., 647.89899196,\n",
       "         647.89899196, 647.89899196],\n",
       "        [877.77471174, 877.77471174, 877.77471174, ..., 611.28889836,\n",
       "         611.28889836, 611.28889836],\n",
       "        [877.77471174, 877.77471174, 877.77471174, ..., 576.7474898 ,\n",
       "         576.7474898 , 576.7474898 ],\n",
       "        ...,\n",
       "        [ 98.25408758,  98.25408758,  98.25408758, ...,   1.        ,\n",
       "           1.        ,   1.        ],\n",
       "        [ 98.25408758,  98.25408758,  98.25408758, ...,   1.        ,\n",
       "           1.        ,   1.        ],\n",
       "        [ 98.25408758,  98.25408758,  98.25408758, ...,   1.        ,\n",
       "           1.        ,   1.        ]]),\n",
       " (2,\n",
       "  2): array([[857.04357954, 857.04357954, 857.04357954, ..., 628.64716763,\n",
       "         628.64716763, 628.64716763],\n",
       "        [857.04357954, 857.04357954, 857.04357954, ..., 593.13496528,\n",
       "         593.13496528, 593.13496528],\n",
       "        [857.04357954, 857.04357954, 857.04357954, ..., 559.62884295,\n",
       "         559.62884295, 559.62884295],\n",
       "        ...,\n",
       "        [ 91.53926536,  91.53926536,  91.53926536, ...,   1.        ,\n",
       "           1.        ,   1.        ],\n",
       "        [ 91.53926536,  91.53926536,  91.53926536, ...,   1.        ,\n",
       "           1.        ,   1.        ],\n",
       "        [ 91.53926536,  91.53926536,  91.53926536, ...,   1.        ,\n",
       "           1.        ,   1.        ]]),\n",
       " (3,\n",
       "  1): array([[526.78838799, 526.78838799, 526.78838799, ..., 392.72273491,\n",
       "         392.72273491, 392.72273491],\n",
       "        [526.78838799, 526.78838799, 526.78838799, ..., 367.23403275,\n",
       "         367.23403275, 367.23403275],\n",
       "        [526.78838799, 526.78838799, 526.78838799, ..., 343.39961205,\n",
       "         343.39961205, 343.39961205],\n",
       "        ...,\n",
       "        [ 49.08356484,  49.08356484,  49.08356484, ...,   1.        ,\n",
       "           1.        ,   1.        ],\n",
       "        [ 49.08356484,  49.08356484,  49.08356484, ...,   1.        ,\n",
       "           1.        ,   1.        ],\n",
       "        [ 49.08356484,  49.08356484,  49.08356484, ...,   1.        ,\n",
       "           1.        ,   1.        ]]),\n",
       " (3,\n",
       "  2): array([[575.63238178, 575.63238178, 575.63238178, ..., 416.94987874,\n",
       "         416.94987874, 416.94987874],\n",
       "        [575.63238178, 575.63238178, 575.63238178, ..., 390.2878617 ,\n",
       "         390.2878617 , 390.2878617 ],\n",
       "        [575.63238178, 575.63238178, 575.63238178, ..., 365.33075738,\n",
       "         365.33075738, 365.33075738],\n",
       "        ...,\n",
       "        [ 53.03597205,  53.03597205,  53.03597205, ...,   1.        ,\n",
       "           1.        ,   1.        ],\n",
       "        [ 53.03597205,  53.03597205,  53.03597205, ...,   1.        ,\n",
       "           1.        ,   1.        ],\n",
       "        [ 53.03597205,  53.03597205,  53.03597205, ...,   1.        ,\n",
       "           1.        ,   1.        ]])}"
      ]
     },
     "execution_count": 38,
     "metadata": {},
     "output_type": "execute_result"
    }
   ],
   "source": [
    "rri_by_age_sex"
   ]
  },
  {
   "cell_type": "code",
   "execution_count": 79,
   "id": "usual-ethiopia",
   "metadata": {},
   "outputs": [
    {
     "name": "stderr",
     "output_type": "stream",
     "text": [
      "/ihme/homes/ndbs/miniconda3/envs/lsff-iron-38/lib/python3.8/site-packages/ipykernel/ipkernel.py:283: DeprecationWarning: `should_run_async` will not call `transform_cell` automatically in the future. Please pass the result to `transformed_cell` argument and any exception that happen during thetransform in `preprocessing_exc_tuple` in IPython 7.17 and above.\n",
      "  and should_run_async(code)\n"
     ]
    },
    {
     "data": {
      "image/png": "[encoded data removed]",
      "text/plain": [
       "<Figure size 720x576 with 2 Axes>"
      ]
     },
     "metadata": {
      "needs_background": "light"
     },
     "output_type": "display_data"
    }
   ],
   "source": [
    "age=2\n",
    "sex=2\n",
    "lbwsg_plots.single_log_rr_plot(\n",
    "    gai,\n",
    "    bwi,\n",
    "    np.log(rri_by_age_sex[(age, sex)]),\n",
    "    cat_df,\n",
    "    logrri_xy_matches_axes=False,\n",
    "    interpolation_type='2-step bilinear',\n",
    "    subtitle=\"RectBivariateSpline(kx=1,ky=1)\"\n",
    "    \"\\nRectBivariateSpline(kx=1,ky=1),\"\n",
    "    \"\\nRegularGridInterpolator(method='linear')\",\n",
    "    draw_category_rectangles=True,\n",
    "    draw_grid_midpoints=True,\n",
    "    draw_grid_boundary_points=True,\n",
    ");"
   ]
  },
  {
   "cell_type": "code",
   "execution_count": 104,
   "id": "pretty-occurrence",
   "metadata": {},
   "outputs": [
    {
     "name": "stderr",
     "output_type": "stream",
     "text": [
      "/ihme/homes/ndbs/miniconda3/envs/lsff-iron-38/lib/python3.8/site-packages/ipykernel/ipkernel.py:283: DeprecationWarning: `should_run_async` will not call `transform_cell` automatically in the future. Please pass the result to `transformed_cell` argument and any exception that happen during thetransform in `preprocessing_exc_tuple` in IPython 7.17 and above.\n",
      "  and should_run_async(code)\n"
     ]
    },
    {
     "data": {
      "image/png": "[encoded data removed]",
      "text/plain": [
       "<Figure size 1152x1008 with 5 Axes>"
      ]
     },
     "metadata": {
      "needs_background": "light"
     },
     "output_type": "display_data"
    }
   ],
   "source": [
    "lbwsg_plots.plot_log_rrs_by_age_sex(\n",
    "    gai,\n",
    "    bwi,\n",
    "    {age_sex: np.log(rri_by_age_sex[(age_sex)]) for age_sex in rri_by_age_sex},\n",
    "    cat_df,\n",
    "    logrri_xy_matches_axes=False,\n",
    "    interpolation_type='2-step bilinear',\n",
    "    subtitle=\"RectBivariateSpline(kx=1,ky=1)\"\n",
    "    \"\\nRectBivariateSpline(kx=1,ky=1),\"\n",
    "    \"\\nRegularGridInterpolator(method='linear')\",\n",
    "    draw_category_rectangles=True,\n",
    "    draw_grid_midpoints=True,\n",
    "    draw_grid_boundary_points=True,\n",
    ");"
   ]
  },
  {
   "cell_type": "code",
   "execution_count": 83,
   "id": "miniature-supplement",
   "metadata": {},
   "outputs": [
    {
     "data": {
      "text/plain": [
       "[(2, 1), (2, 2), (3, 1), (3, 2)]"
      ]
     },
     "execution_count": 83,
     "metadata": {},
     "output_type": "execute_result"
    }
   ],
   "source": [
    "[age_sex for age_sex in rri_by_age_sex]"
   ]
  },
  {
   "cell_type": "code",
   "execution_count": 101,
   "id": "casual-satisfaction",
   "metadata": {},
   "outputs": [
    {
     "data": {
      "text/plain": [
       "6.777389968163108"
      ]
     },
     "execution_count": 101,
     "metadata": {},
     "output_type": "execute_result"
    }
   ],
   "source": [
    "vmax = 0\n",
    "for logrri in logrri_by_age_sex.values():\n",
    "    vmax = new_max if (new_max := logrri.max()) > vmax else vmax\n",
    "vmax"
   ]
  },
  {
   "cell_type": "code",
   "execution_count": 55,
   "id": "arranged-minute",
   "metadata": {},
   "outputs": [
    {
     "data": {
      "text/plain": [
       "array([1])"
      ]
     },
     "execution_count": 55,
     "metadata": {},
     "output_type": "execute_result"
    }
   ],
   "source": [
    "np.asarray(1).reshape(1,)"
   ]
  },
  {
   "cell_type": "code",
   "execution_count": 58,
   "id": "individual-publication",
   "metadata": {},
   "outputs": [
    {
     "name": "stderr",
     "output_type": "stream",
     "text": [
      "/ihme/homes/ndbs/miniconda3/envs/lsff-iron-38/lib/python3.8/site-packages/ipykernel/ipkernel.py:283: DeprecationWarning: `should_run_async` will not call `transform_cell` automatically in the future. Please pass the result to `transformed_cell` argument and any exception that happen during thetransform in `preprocessing_exc_tuple` in IPython 7.17 and above.\n",
      "  and should_run_async(code)\n"
     ]
    },
    {
     "data": {
      "text/plain": [
       "[<matplotlib.lines.Line2D at 0x2abd6624cf10>,\n",
       " <matplotlib.lines.Line2D at 0x2abd66309c70>]"
      ]
     },
     "execution_count": 58,
     "metadata": {},
     "output_type": "execute_result"
    },
    {
     "data": {
      "image/png": "[encoded data removed]",
      "text/plain": [
       "<Figure size 432x288 with 1 Axes>"
      ]
     },
     "metadata": {
      "needs_background": "light"
     },
     "output_type": "display_data"
    }
   ],
   "source": [
    "plt.plot(np.asarray(1).reshape(1,),[[2,3]], 'o', color='k')"
   ]
  },
  {
   "cell_type": "code",
   "execution_count": 70,
   "id": "configured-concord",
   "metadata": {},
   "outputs": [
    {
     "data": {
      "text/plain": [
       "[<matplotlib.lines.Line2D at 0x2abd765479d0>,\n",
       " <matplotlib.lines.Line2D at 0x2abd765476a0>]"
      ]
     },
     "execution_count": 70,
     "metadata": {},
     "output_type": "execute_result"
    },
    {
     "data": {
      "image/png": "[encoded data removed]",
      "text/plain": [
       "<Figure size 432x288 with 1 Axes>"
      ]
     },
     "metadata": {
      "needs_background": "light"
     },
     "output_type": "display_data"
    }
   ],
   "source": [
    "plt.plot(1,[[2,3]], 'o', color='k')"
   ]
  },
  {
   "cell_type": "code",
   "execution_count": 74,
   "id": "weird-consciousness",
   "metadata": {},
   "outputs": [
    {
     "data": {
      "text/plain": [
       "array([[2, 3]])"
      ]
     },
     "execution_count": 74,
     "metadata": {},
     "output_type": "execute_result"
    }
   ],
   "source": [
    "np.array([2,3])[None,:]"
   ]
  },
  {
   "cell_type": "code",
   "execution_count": 81,
   "id": "approved-climate",
   "metadata": {},
   "outputs": [
    {
     "data": {
      "text/plain": [
       "array([[1, 2],\n",
       "       [3, 4]])"
      ]
     },
     "execution_count": 81,
     "metadata": {},
     "output_type": "execute_result"
    }
   ],
   "source": [
    "a = np.array([[1,2], [3,4]])\n",
    "a"
   ]
  },
  {
   "cell_type": "code",
   "execution_count": 82,
   "id": "czech-reflection",
   "metadata": {},
   "outputs": [
    {
     "data": {
      "text/plain": [
       "1"
      ]
     },
     "execution_count": 82,
     "metadata": {},
     "output_type": "execute_result"
    }
   ],
   "source": [
    "a[0,0]"
   ]
  },
  {
   "cell_type": "code",
   "execution_count": 86,
   "id": "vital-fishing",
   "metadata": {},
   "outputs": [
    {
     "name": "stdout",
     "output_type": "stream",
     "text": [
      "ga_midpoint bw_midpoint\n"
     ]
    },
    {
     "name": "stderr",
     "output_type": "stream",
     "text": [
      "/ihme/homes/ndbs/miniconda3/envs/lsff-iron-38/lib/python3.8/site-packages/ipykernel/ipkernel.py:283: DeprecationWarning: `should_run_async` will not call `transform_cell` automatically in the future. Please pass the result to `transformed_cell` argument and any exception that happen during thetransform in `preprocessing_exc_tuple` in IPython 7.17 and above.\n",
      "  and should_run_async(code)\n"
     ]
    }
   ],
   "source": [
    "x,y = interval_data_by_cat[['ga_midpoint', 'bw_midpoint']]\n",
    "print(x,y)"
   ]
  },
  {
   "cell_type": "code",
   "execution_count": 73,
   "id": "verbal-subdivision",
   "metadata": {},
   "outputs": [
    {
     "name": "stdout",
     "output_type": "stream",
     "text": [
      "2 1\n",
      "2 2\n",
      "3 1\n",
      "3 2\n"
     ]
    }
   ],
   "source": [
    "for age_group, sex in log_rr_interpolators.index:\n",
    "    print(age_group, sex)"
   ]
  },
  {
   "cell_type": "code",
   "execution_count": 64,
   "id": "freelance-naples",
   "metadata": {},
   "outputs": [
    {
     "data": {
      "text/html": [
       "<div>\n",
       "<style scoped>\n",
       "    .dataframe tbody tr th:only-of-type {\n",
       "        vertical-align: middle;\n",
       "    }\n",
       "\n",
       "    .dataframe tbody tr th {\n",
       "        vertical-align: top;\n",
       "    }\n",
       "\n",
       "    .dataframe thead th {\n",
       "        text-align: right;\n",
       "    }\n",
       "</style>\n",
       "<table border=\"1\" class=\"dataframe\">\n",
       "  <thead>\n",
       "    <tr style=\"text-align: right;\">\n",
       "      <th></th>\n",
       "      <th>lbwsg_category</th>\n",
       "      <th>cat2</th>\n",
       "      <th>cat8</th>\n",
       "      <th>cat10</th>\n",
       "      <th>cat11</th>\n",
       "      <th>cat14</th>\n",
       "      <th>cat15</th>\n",
       "      <th>cat17</th>\n",
       "      <th>cat19</th>\n",
       "      <th>cat20</th>\n",
       "      <th>cat21</th>\n",
       "      <th>...</th>\n",
       "      <th>cat88</th>\n",
       "      <th>cat89</th>\n",
       "      <th>cat90</th>\n",
       "      <th>cat95</th>\n",
       "      <th>cat96</th>\n",
       "      <th>cat106</th>\n",
       "      <th>cat116</th>\n",
       "      <th>cat117</th>\n",
       "      <th>cat123</th>\n",
       "      <th>cat124</th>\n",
       "    </tr>\n",
       "    <tr>\n",
       "      <th>age_group_id</th>\n",
       "      <th>sex_id</th>\n",
       "      <th></th>\n",
       "      <th></th>\n",
       "      <th></th>\n",
       "      <th></th>\n",
       "      <th></th>\n",
       "      <th></th>\n",
       "      <th></th>\n",
       "      <th></th>\n",
       "      <th></th>\n",
       "      <th></th>\n",
       "      <th></th>\n",
       "      <th></th>\n",
       "      <th></th>\n",
       "      <th></th>\n",
       "      <th></th>\n",
       "      <th></th>\n",
       "      <th></th>\n",
       "      <th></th>\n",
       "      <th></th>\n",
       "      <th></th>\n",
       "      <th></th>\n",
       "    </tr>\n",
       "  </thead>\n",
       "  <tbody>\n",
       "    <tr>\n",
       "      <th rowspan=\"2\" valign=\"top\">2</th>\n",
       "      <th>1</th>\n",
       "      <td>6.777390</td>\n",
       "      <td>6.473735</td>\n",
       "      <td>6.282088</td>\n",
       "      <td>5.639364</td>\n",
       "      <td>4.885137</td>\n",
       "      <td>5.104010</td>\n",
       "      <td>5.014956</td>\n",
       "      <td>4.365138</td>\n",
       "      <td>4.276153</td>\n",
       "      <td>4.487390</td>\n",
       "      <td>...</td>\n",
       "      <td>3.503088</td>\n",
       "      <td>3.236751</td>\n",
       "      <td>3.012311</td>\n",
       "      <td>2.945075</td>\n",
       "      <td>3.006384</td>\n",
       "      <td>4.544392</td>\n",
       "      <td>4.587557</td>\n",
       "      <td>3.622989</td>\n",
       "      <td>3.765708</td>\n",
       "      <td>4.586097</td>\n",
       "    </tr>\n",
       "    <tr>\n",
       "      <th>2</th>\n",
       "      <td>6.753489</td>\n",
       "      <td>6.443570</td>\n",
       "      <td>6.233211</td>\n",
       "      <td>5.552179</td>\n",
       "      <td>4.794379</td>\n",
       "      <td>5.009480</td>\n",
       "      <td>4.957595</td>\n",
       "      <td>4.326600</td>\n",
       "      <td>4.250689</td>\n",
       "      <td>4.409759</td>\n",
       "      <td>...</td>\n",
       "      <td>3.448038</td>\n",
       "      <td>3.188899</td>\n",
       "      <td>3.012955</td>\n",
       "      <td>2.926752</td>\n",
       "      <td>3.012251</td>\n",
       "      <td>4.497236</td>\n",
       "      <td>4.516768</td>\n",
       "      <td>3.504378</td>\n",
       "      <td>3.636236</td>\n",
       "      <td>4.529665</td>\n",
       "    </tr>\n",
       "    <tr>\n",
       "      <th rowspan=\"2\" valign=\"top\">3</th>\n",
       "      <th>1</th>\n",
       "      <td>6.266799</td>\n",
       "      <td>5.973104</td>\n",
       "      <td>5.928419</td>\n",
       "      <td>5.637784</td>\n",
       "      <td>4.851887</td>\n",
       "      <td>5.220292</td>\n",
       "      <td>4.943672</td>\n",
       "      <td>3.814145</td>\n",
       "      <td>3.744651</td>\n",
       "      <td>4.472732</td>\n",
       "      <td>...</td>\n",
       "      <td>2.340725</td>\n",
       "      <td>1.967573</td>\n",
       "      <td>1.567604</td>\n",
       "      <td>1.725889</td>\n",
       "      <td>1.461014</td>\n",
       "      <td>3.886377</td>\n",
       "      <td>3.893524</td>\n",
       "      <td>3.066983</td>\n",
       "      <td>3.089727</td>\n",
       "      <td>3.910083</td>\n",
       "    </tr>\n",
       "    <tr>\n",
       "      <th>2</th>\n",
       "      <td>6.355469</td>\n",
       "      <td>6.032966</td>\n",
       "      <td>5.978840</td>\n",
       "      <td>5.637784</td>\n",
       "      <td>4.813699</td>\n",
       "      <td>5.184647</td>\n",
       "      <td>4.947133</td>\n",
       "      <td>3.837307</td>\n",
       "      <td>3.832136</td>\n",
       "      <td>4.462171</td>\n",
       "      <td>...</td>\n",
       "      <td>2.523545</td>\n",
       "      <td>2.138370</td>\n",
       "      <td>1.722663</td>\n",
       "      <td>1.905442</td>\n",
       "      <td>1.658838</td>\n",
       "      <td>3.945067</td>\n",
       "      <td>3.970970</td>\n",
       "      <td>3.127687</td>\n",
       "      <td>3.165575</td>\n",
       "      <td>3.973131</td>\n",
       "    </tr>\n",
       "  </tbody>\n",
       "</table>\n",
       "<p>4 rows × 58 columns</p>\n",
       "</div>"
      ],
      "text/plain": [
       "lbwsg_category           cat2      cat8     cat10     cat11     cat14  \\\n",
       "age_group_id sex_id                                                     \n",
       "2            1       6.777390  6.473735  6.282088  5.639364  4.885137   \n",
       "             2       6.753489  6.443570  6.233211  5.552179  4.794379   \n",
       "3            1       6.266799  5.973104  5.928419  5.637784  4.851887   \n",
       "             2       6.355469  6.032966  5.978840  5.637784  4.813699   \n",
       "\n",
       "lbwsg_category          cat15     cat17     cat19     cat20     cat21  ...  \\\n",
       "age_group_id sex_id                                                    ...   \n",
       "2            1       5.104010  5.014956  4.365138  4.276153  4.487390  ...   \n",
       "             2       5.009480  4.957595  4.326600  4.250689  4.409759  ...   \n",
       "3            1       5.220292  4.943672  3.814145  3.744651  4.472732  ...   \n",
       "             2       5.184647  4.947133  3.837307  3.832136  4.462171  ...   \n",
       "\n",
       "lbwsg_category          cat88     cat89     cat90     cat95     cat96  \\\n",
       "age_group_id sex_id                                                     \n",
       "2            1       3.503088  3.236751  3.012311  2.945075  3.006384   \n",
       "             2       3.448038  3.188899  3.012955  2.926752  3.012251   \n",
       "3            1       2.340725  1.967573  1.567604  1.725889  1.461014   \n",
       "             2       2.523545  2.138370  1.722663  1.905442  1.658838   \n",
       "\n",
       "lbwsg_category         cat106    cat116    cat117    cat123    cat124  \n",
       "age_group_id sex_id                                                    \n",
       "2            1       4.544392  4.587557  3.622989  3.765708  4.586097  \n",
       "             2       4.497236  4.516768  3.504378  3.636236  4.529665  \n",
       "3            1       3.886377  3.893524  3.066983  3.089727  3.910083  \n",
       "             2       3.945067  3.970970  3.127687  3.165575  3.973131  \n",
       "\n",
       "[4 rows x 58 columns]"
      ]
     },
     "execution_count": 64,
     "metadata": {},
     "output_type": "execute_result"
    }
   ],
   "source": [
    "log_rr"
   ]
  },
  {
   "cell_type": "code",
   "execution_count": 9,
   "id": "young-california",
   "metadata": {},
   "outputs": [
    {
     "ename": "TypeError",
     "evalue": "__init__() takes at least 2 positional arguments (1 given)",
     "output_type": "error",
     "traceback": [
      "\u001b[0;31m---------------------------------------------------------------------------\u001b[0m",
      "\u001b[0;31mTypeError\u001b[0m                                 Traceback (most recent call last)",
      "\u001b[0;32m<ipython-input-9-b45780d04348>\u001b[0m in \u001b[0;36m<module>\u001b[0;34m\u001b[0m\n\u001b[0;32m----> 1\u001b[0;31m \u001b[0mpd\u001b[0m\u001b[0;34m.\u001b[0m\u001b[0mInterval\u001b[0m\u001b[0;34m(\u001b[0m\u001b[0mcat_df\u001b[0m\u001b[0;34m.\u001b[0m\u001b[0mloc\u001b[0m\u001b[0;34m[\u001b[0m\u001b[0;36m0\u001b[0m\u001b[0;34m,\u001b[0m\u001b[0;34m'bw_interval'\u001b[0m\u001b[0;34m]\u001b[0m\u001b[0;34m)\u001b[0m\u001b[0;34m\u001b[0m\u001b[0;34m\u001b[0m\u001b[0m\n\u001b[0m",
      "\u001b[0;32mpandas/_libs/interval.pyx\u001b[0m in \u001b[0;36mpandas._libs.interval.Interval.__init__\u001b[0;34m()\u001b[0m\n",
      "\u001b[0;31mTypeError\u001b[0m: __init__() takes at least 2 positional arguments (1 given)"
     ]
    }
   ],
   "source": [
    "pd.Interval(cat_df.loc[0,'bw_interval'])"
   ]
  },
  {
   "cell_type": "code",
   "execution_count": 78,
   "id": "advised-business",
   "metadata": {},
   "outputs": [
    {
     "name": "stdout",
     "output_type": "stream",
     "text": [
      "0 42\n"
     ]
    }
   ],
   "source": [
    "mi, ma = interval_data_by_cat[['ga_start', 'ga_end']].agg({'ga_start': 'min', 'ga_end': 'max'})\n",
    "print(mi, ma)"
   ]
  },
  {
   "cell_type": "code",
   "execution_count": 80,
   "id": "transparent-religious",
   "metadata": {},
   "outputs": [
    {
     "name": "stderr",
     "output_type": "stream",
     "text": [
      "/ihme/homes/ndbs/miniconda3/envs/lsff-iron-38/lib/python3.8/site-packages/ipykernel/ipkernel.py:283: DeprecationWarning: `should_run_async` will not call `transform_cell` automatically in the future. Please pass the result to `transformed_cell` argument and any exception that happen during thetransform in `preprocessing_exc_tuple` in IPython 7.17 and above.\n",
      "  and should_run_async(code)\n"
     ]
    },
    {
     "data": {
      "text/plain": [
       "ga_start    0\n",
       "bw_start    0\n",
       "dtype: int64"
      ]
     },
     "execution_count": 80,
     "metadata": {},
     "output_type": "execute_result"
    }
   ],
   "source": [
    "interval_data_by_cat[['ga_start', 'bw_start']].min()"
   ]
  },
  {
   "cell_type": "code",
   "execution_count": 90,
   "id": "colored-bench",
   "metadata": {},
   "outputs": [
    {
     "name": "stderr",
     "output_type": "stream",
     "text": [
      "/ihme/homes/ndbs/miniconda3/envs/lsff-iron-38/lib/python3.8/site-packages/ipykernel/ipkernel.py:283: DeprecationWarning: `should_run_async` will not call `transform_cell` automatically in the future. Please pass the result to `transformed_cell` argument and any exception that happen during thetransform in `preprocessing_exc_tuple` in IPython 7.17 and above.\n",
      "  and should_run_async(code)\n"
     ]
    }
   ],
   "source": [
    "import re"
   ]
  },
  {
   "cell_type": "code",
   "execution_count": 91,
   "id": "integrated-cornell",
   "metadata": {},
   "outputs": [
    {
     "data": {
      "text/plain": [
       "0      [0, 24)\n",
       "1      [0, 24)\n",
       "2     [24, 26)\n",
       "3     [26, 28)\n",
       "4     [30, 32)\n",
       "        ...   \n",
       "53    [36, 37)\n",
       "54    [38, 40)\n",
       "55    [38, 40)\n",
       "56    [40, 42)\n",
       "57    [37, 38)\n",
       "Name: ga_interval, Length: 58, dtype: object"
      ]
     },
     "execution_count": 91,
     "metadata": {},
     "output_type": "execute_result"
    }
   ],
   "source": [
    "cat_df['ga_interval']"
   ]
  },
  {
   "cell_type": "code",
   "execution_count": 92,
   "id": "lucky-mobile",
   "metadata": {},
   "outputs": [
    {
     "data": {
      "text/plain": [
       "'[37, 38)'"
      ]
     },
     "execution_count": 92,
     "metadata": {},
     "output_type": "execute_result"
    }
   ],
   "source": [
    "interval1 = cat_df.at[57, 'ga_interval']\n",
    "interval1"
   ]
  },
  {
   "cell_type": "code",
   "execution_count": 95,
   "id": "expired-background",
   "metadata": {},
   "outputs": [
    {
     "data": {
      "text/plain": [
       "['[']"
      ]
     },
     "execution_count": 95,
     "metadata": {},
     "output_type": "execute_result"
    }
   ],
   "source": [
    "re.findall(r'[\\(\\[]', interval1)"
   ]
  },
  {
   "cell_type": "code",
   "execution_count": 96,
   "id": "framed-value",
   "metadata": {},
   "outputs": [
    {
     "data": {
      "text/plain": [
       "[')']"
      ]
     },
     "execution_count": 96,
     "metadata": {},
     "output_type": "execute_result"
    }
   ],
   "source": [
    "re.findall(r'[\\)\\]]', interval1)"
   ]
  },
  {
   "cell_type": "code",
   "execution_count": 103,
   "id": "streaming-application",
   "metadata": {},
   "outputs": [
    {
     "data": {
      "text/plain": [
       "['[']"
      ]
     },
     "execution_count": 103,
     "metadata": {},
     "output_type": "execute_result"
    }
   ],
   "source": [
    "pattern = r'(?P<left>[\\(\\[])'\n",
    "re.findall(pattern, interval1)"
   ]
  },
  {
   "cell_type": "code",
   "execution_count": 104,
   "id": "connected-poultry",
   "metadata": {},
   "outputs": [
    {
     "data": {
      "text/plain": [
       "[('[', '37', '38', ')')]"
      ]
     },
     "execution_count": 104,
     "metadata": {},
     "output_type": "execute_result"
    }
   ],
   "source": [
    "pattern = r'(?P<left_delimiter>[\\(\\[])(?P<left>\\d+), (?P<right>\\d+)(?P<right_delimiter>[\\)\\]])'\n",
    "re.findall(pattern, interval1)"
   ]
  },
  {
   "cell_type": "code",
   "execution_count": null,
   "id": "sufficient-burke",
   "metadata": {},
   "outputs": [],
   "source": [
    "pd.Interval()"
   ]
  },
  {
   "cell_type": "code",
   "execution_count": 126,
   "id": "accurate-carroll",
   "metadata": {},
   "outputs": [
    {
     "data": {
      "text/html": [
       "<div>\n",
       "<style scoped>\n",
       "    .dataframe tbody tr th:only-of-type {\n",
       "        vertical-align: middle;\n",
       "    }\n",
       "\n",
       "    .dataframe tbody tr th {\n",
       "        vertical-align: top;\n",
       "    }\n",
       "\n",
       "    .dataframe thead th {\n",
       "        text-align: right;\n",
       "    }\n",
       "</style>\n",
       "<table border=\"1\" class=\"dataframe\">\n",
       "  <thead>\n",
       "    <tr style=\"text-align: right;\">\n",
       "      <th></th>\n",
       "      <th>left_delimiter</th>\n",
       "      <th>left</th>\n",
       "      <th>right</th>\n",
       "      <th>right_delimiter</th>\n",
       "      <th>left_closed</th>\n",
       "      <th>right_closed</th>\n",
       "      <th>closed</th>\n",
       "    </tr>\n",
       "  </thead>\n",
       "  <tbody>\n",
       "    <tr>\n",
       "      <th>0</th>\n",
       "      <td>[</td>\n",
       "      <td>0</td>\n",
       "      <td>4</td>\n",
       "      <td>]</td>\n",
       "      <td>1</td>\n",
       "      <td>1</td>\n",
       "      <td>both</td>\n",
       "    </tr>\n",
       "    <tr>\n",
       "      <th>1</th>\n",
       "      <td>(</td>\n",
       "      <td>87</td>\n",
       "      <td>245</td>\n",
       "      <td>)</td>\n",
       "      <td>0</td>\n",
       "      <td>0</td>\n",
       "      <td>neither</td>\n",
       "    </tr>\n",
       "    <tr>\n",
       "      <th>2</th>\n",
       "      <td>(</td>\n",
       "      <td>90</td>\n",
       "      <td>235</td>\n",
       "      <td>]</td>\n",
       "      <td>0</td>\n",
       "      <td>1</td>\n",
       "      <td>right</td>\n",
       "    </tr>\n",
       "    <tr>\n",
       "      <th>3</th>\n",
       "      <td>[</td>\n",
       "      <td>98</td>\n",
       "      <td>348</td>\n",
       "      <td>)</td>\n",
       "      <td>1</td>\n",
       "      <td>0</td>\n",
       "      <td>left</td>\n",
       "    </tr>\n",
       "  </tbody>\n",
       "</table>\n",
       "</div>"
      ],
      "text/plain": [
       "  left_delimiter left right right_delimiter  left_closed  right_closed  \\\n",
       "0              [    0     4               ]            1             1   \n",
       "1              (   87   245               )            0             0   \n",
       "2              (   90   235               ]            0             1   \n",
       "3              [   98   348               )            1             0   \n",
       "\n",
       "    closed  \n",
       "0     both  \n",
       "1  neither  \n",
       "2    right  \n",
       "3     left  "
      ]
     },
     "execution_count": 126,
     "metadata": {},
     "output_type": "execute_result"
    }
   ],
   "source": [
    "pattern = r'(?P<left_delimiter>[\\(\\[])(?P<left>\\d+), (?P<right>\\d+)(?P<right_delimiter>[\\)\\]])'\n",
    "# df = cat_df['ga_interval'].str.extract(pattern)\n",
    "intervals = pd.Series(['[0, 4]', '(87, 245)', '(90, 235]', '[98, 348)'], name='interval')\n",
    "df = intervals.str.extract(pattern)\n",
    "df['left_closed'] = (df['left_delimiter'] == '[').astype(int)\n",
    "df['right_closed'] = (df['right_delimiter'] == ']').astype(int)\n",
    "df['closed'] = (df['left_closed']+2*df['right_closed']).map({0:'neither', 1:'left', 2:'right', 3:'both'})\n",
    "df"
   ]
  },
  {
   "cell_type": "code",
   "execution_count": 127,
   "id": "consistent-episode",
   "metadata": {},
   "outputs": [
    {
     "name": "stderr",
     "output_type": "stream",
     "text": [
      "/ihme/homes/ndbs/miniconda3/envs/lsff-iron-38/lib/python3.8/site-packages/ipykernel/ipkernel.py:283: DeprecationWarning: `should_run_async` will not call `transform_cell` automatically in the future. Please pass the result to `transformed_cell` argument and any exception that happen during thetransform in `preprocessing_exc_tuple` in IPython 7.17 and above.\n",
      "  and should_run_async(code)\n"
     ]
    },
    {
     "data": {
      "text/plain": [
       "array([Interval(0, 4, closed='both'), Interval(87, 245, closed='neither'),\n",
       "       Interval(90, 235, closed='right'),\n",
       "       Interval(98, 348, closed='left')], dtype=object)"
      ]
     },
     "execution_count": 127,
     "metadata": {},
     "output_type": "execute_result"
    }
   ],
   "source": [
    "np.vectorize(pd.Interval)(df['left'].astype(int), df['right'].astype(int), df['closed'])"
   ]
  },
  {
   "cell_type": "code",
   "execution_count": 128,
   "id": "surprised-morris",
   "metadata": {},
   "outputs": [
    {
     "data": {
      "text/plain": [
       "0       [0, 4]\n",
       "1    (87, 245)\n",
       "2    (90, 235]\n",
       "3    [98, 348)\n",
       "Name: interval, dtype: object"
      ]
     },
     "execution_count": 128,
     "metadata": {},
     "output_type": "execute_result"
    }
   ],
   "source": [
    "def string_to_interval(interval_strings: pd.Series) -> pd.Series:\n",
    "    pattern = r'(?P<left_delimiter>[\\(\\[])(?P<left>\\d+), (?P<right>\\d+)(?P<right_delimiter>[\\)\\]])'\n",
    "    df = interval_strings.str.extract(pattern)\n",
    "    df['left_closed'] = (df['left_delimiter'] == '[').astype(int)\n",
    "    df['right_closed'] = (df['right_delimiter'] == ']').astype(int)\n",
    "    df['closed'] = (df['left_closed']+2*df['right_closed']).map({0:'neither', 1:'left', 2:'right', 3:'both'})\n",
    "    intervals = np.vectorize(pd.Interval)(df['left'].astype(int), df['right'].astype(int), df['closed'])\n",
    "    return pd.Series(intervals, index=interval_strings.index, name=interval_strings.name)\n",
    "\n",
    "string_to_interval(intervals)"
   ]
  },
  {
   "cell_type": "code",
   "execution_count": 130,
   "id": "lyric-treasurer",
   "metadata": {},
   "outputs": [
    {
     "data": {
      "text/plain": [
       "0      [0, 24)\n",
       "1      [0, 24)\n",
       "2     [24, 26)\n",
       "3     [26, 28)\n",
       "4     [30, 32)\n",
       "        ...   \n",
       "53    [36, 37)\n",
       "54    [38, 40)\n",
       "55    [38, 40)\n",
       "56    [40, 42)\n",
       "57    [37, 38)\n",
       "Name: ga_interval, Length: 58, dtype: interval"
      ]
     },
     "execution_count": 130,
     "metadata": {},
     "output_type": "execute_result"
    }
   ],
   "source": [
    "string_to_interval(cat_df['ga_interval'])"
   ]
  },
  {
   "cell_type": "code",
   "execution_count": null,
   "id": "attractive-liberia",
   "metadata": {},
   "outputs": [],
   "source": []
  }
 ],
 "metadata": {
  "kernelspec": {
   "display_name": "Python 3 (ipykernel)",
   "language": "python",
   "name": "python3"
  },
  "language_info": {
   "codemirror_mode": {
    "name": "ipython",
    "version": 3
   },
   "file_extension": ".py",
   "mimetype": "text/x-python",
   "name": "python",
   "nbconvert_exporter": "python",
   "pygments_lexer": "ipython3",
   "version": "3.8.10"
  }
 },
 "nbformat": 4,
 "nbformat_minor": 5
}
